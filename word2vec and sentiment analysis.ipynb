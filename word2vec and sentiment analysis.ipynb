{
  "nbformat": 4,
  "nbformat_minor": 0,
  "metadata": {
    "colab": {
      "name": "MTL782",
      "provenance": [],
      "collapsed_sections": []
    },
    "kernelspec": {
      "name": "python3",
      "display_name": "Python 3"
    },
    "widgets": {
      "application/vnd.jupyter.widget-state+json": {
        "3841c3f394064257a1f125803a303dd7": {
          "model_module": "@jupyter-widgets/controls",
          "model_name": "HBoxModel",
          "state": {
            "_view_name": "HBoxView",
            "_dom_classes": [],
            "_model_name": "HBoxModel",
            "_view_module": "@jupyter-widgets/controls",
            "_model_module_version": "1.5.0",
            "_view_count": null,
            "_view_module_version": "1.5.0",
            "box_style": "",
            "layout": "IPY_MODEL_01d1739df8cd4333ba19a770f345a608",
            "_model_module": "@jupyter-widgets/controls",
            "children": [
              "IPY_MODEL_52d1e5a2c24343adb62dd0a17642523a",
              "IPY_MODEL_5bc9b550073741989d71e072bbe0960d"
            ]
          }
        },
        "01d1739df8cd4333ba19a770f345a608": {
          "model_module": "@jupyter-widgets/base",
          "model_name": "LayoutModel",
          "state": {
            "_view_name": "LayoutView",
            "grid_template_rows": null,
            "right": null,
            "justify_content": null,
            "_view_module": "@jupyter-widgets/base",
            "overflow": null,
            "_model_module_version": "1.2.0",
            "_view_count": null,
            "flex_flow": null,
            "width": null,
            "min_width": null,
            "border": null,
            "align_items": null,
            "bottom": null,
            "_model_module": "@jupyter-widgets/base",
            "top": null,
            "grid_column": null,
            "overflow_y": null,
            "overflow_x": null,
            "grid_auto_flow": null,
            "grid_area": null,
            "grid_template_columns": null,
            "flex": null,
            "_model_name": "LayoutModel",
            "justify_items": null,
            "grid_row": null,
            "max_height": null,
            "align_content": null,
            "visibility": null,
            "align_self": null,
            "height": null,
            "min_height": null,
            "padding": null,
            "grid_auto_rows": null,
            "grid_gap": null,
            "max_width": null,
            "order": null,
            "_view_module_version": "1.2.0",
            "grid_template_areas": null,
            "object_position": null,
            "object_fit": null,
            "grid_auto_columns": null,
            "margin": null,
            "display": null,
            "left": null
          }
        },
        "52d1e5a2c24343adb62dd0a17642523a": {
          "model_module": "@jupyter-widgets/controls",
          "model_name": "FloatProgressModel",
          "state": {
            "_view_name": "ProgressView",
            "style": "IPY_MODEL_e92c899b33ae4b288ef0122a569136aa",
            "_dom_classes": [],
            "description": "",
            "_model_name": "FloatProgressModel",
            "bar_style": "info",
            "max": 1,
            "_view_module": "@jupyter-widgets/controls",
            "_model_module_version": "1.5.0",
            "value": 0,
            "_view_count": null,
            "_view_module_version": "1.5.0",
            "orientation": "horizontal",
            "min": 0,
            "description_tooltip": null,
            "_model_module": "@jupyter-widgets/controls",
            "layout": "IPY_MODEL_53a87e8a94e7455f93b4c8be3068bad2"
          }
        },
        "5bc9b550073741989d71e072bbe0960d": {
          "model_module": "@jupyter-widgets/controls",
          "model_name": "HTMLModel",
          "state": {
            "_view_name": "HTMLView",
            "style": "IPY_MODEL_5c3296fb0157417c91159337925910e8",
            "_dom_classes": [],
            "description": "",
            "_model_name": "HTMLModel",
            "placeholder": "​",
            "_view_module": "@jupyter-widgets/controls",
            "_model_module_version": "1.5.0",
            "value": " 0/? [00:00&lt;?, ?it/s]",
            "_view_count": null,
            "_view_module_version": "1.5.0",
            "description_tooltip": null,
            "_model_module": "@jupyter-widgets/controls",
            "layout": "IPY_MODEL_fc6e4099f20c4998a4ad5df4d4ad80e8"
          }
        },
        "e92c899b33ae4b288ef0122a569136aa": {
          "model_module": "@jupyter-widgets/controls",
          "model_name": "ProgressStyleModel",
          "state": {
            "_view_name": "StyleView",
            "_model_name": "ProgressStyleModel",
            "description_width": "initial",
            "_view_module": "@jupyter-widgets/base",
            "_model_module_version": "1.5.0",
            "_view_count": null,
            "_view_module_version": "1.2.0",
            "bar_color": null,
            "_model_module": "@jupyter-widgets/controls"
          }
        },
        "53a87e8a94e7455f93b4c8be3068bad2": {
          "model_module": "@jupyter-widgets/base",
          "model_name": "LayoutModel",
          "state": {
            "_view_name": "LayoutView",
            "grid_template_rows": null,
            "right": null,
            "justify_content": null,
            "_view_module": "@jupyter-widgets/base",
            "overflow": null,
            "_model_module_version": "1.2.0",
            "_view_count": null,
            "flex_flow": null,
            "width": null,
            "min_width": null,
            "border": null,
            "align_items": null,
            "bottom": null,
            "_model_module": "@jupyter-widgets/base",
            "top": null,
            "grid_column": null,
            "overflow_y": null,
            "overflow_x": null,
            "grid_auto_flow": null,
            "grid_area": null,
            "grid_template_columns": null,
            "flex": null,
            "_model_name": "LayoutModel",
            "justify_items": null,
            "grid_row": null,
            "max_height": null,
            "align_content": null,
            "visibility": null,
            "align_self": null,
            "height": null,
            "min_height": null,
            "padding": null,
            "grid_auto_rows": null,
            "grid_gap": null,
            "max_width": null,
            "order": null,
            "_view_module_version": "1.2.0",
            "grid_template_areas": null,
            "object_position": null,
            "object_fit": null,
            "grid_auto_columns": null,
            "margin": null,
            "display": null,
            "left": null
          }
        },
        "5c3296fb0157417c91159337925910e8": {
          "model_module": "@jupyter-widgets/controls",
          "model_name": "DescriptionStyleModel",
          "state": {
            "_view_name": "StyleView",
            "_model_name": "DescriptionStyleModel",
            "description_width": "",
            "_view_module": "@jupyter-widgets/base",
            "_model_module_version": "1.5.0",
            "_view_count": null,
            "_view_module_version": "1.2.0",
            "_model_module": "@jupyter-widgets/controls"
          }
        },
        "fc6e4099f20c4998a4ad5df4d4ad80e8": {
          "model_module": "@jupyter-widgets/base",
          "model_name": "LayoutModel",
          "state": {
            "_view_name": "LayoutView",
            "grid_template_rows": null,
            "right": null,
            "justify_content": null,
            "_view_module": "@jupyter-widgets/base",
            "overflow": null,
            "_model_module_version": "1.2.0",
            "_view_count": null,
            "flex_flow": null,
            "width": null,
            "min_width": null,
            "border": null,
            "align_items": null,
            "bottom": null,
            "_model_module": "@jupyter-widgets/base",
            "top": null,
            "grid_column": null,
            "overflow_y": null,
            "overflow_x": null,
            "grid_auto_flow": null,
            "grid_area": null,
            "grid_template_columns": null,
            "flex": null,
            "_model_name": "LayoutModel",
            "justify_items": null,
            "grid_row": null,
            "max_height": null,
            "align_content": null,
            "visibility": null,
            "align_self": null,
            "height": null,
            "min_height": null,
            "padding": null,
            "grid_auto_rows": null,
            "grid_gap": null,
            "max_width": null,
            "order": null,
            "_view_module_version": "1.2.0",
            "grid_template_areas": null,
            "object_position": null,
            "object_fit": null,
            "grid_auto_columns": null,
            "margin": null,
            "display": null,
            "left": null
          }
        },
        "5bb6d7099a87457eaba015e891a1ed10": {
          "model_module": "@jupyter-widgets/controls",
          "model_name": "HBoxModel",
          "state": {
            "_view_name": "HBoxView",
            "_dom_classes": [],
            "_model_name": "HBoxModel",
            "_view_module": "@jupyter-widgets/controls",
            "_model_module_version": "1.5.0",
            "_view_count": null,
            "_view_module_version": "1.5.0",
            "box_style": "",
            "layout": "IPY_MODEL_ffda6651c0b84d129ed7833c113dca30",
            "_model_module": "@jupyter-widgets/controls",
            "children": [
              "IPY_MODEL_b85c2f4519744eceb3f776f53bf3c9de",
              "IPY_MODEL_28913bb292764f4ea0910cc737423983"
            ]
          }
        },
        "ffda6651c0b84d129ed7833c113dca30": {
          "model_module": "@jupyter-widgets/base",
          "model_name": "LayoutModel",
          "state": {
            "_view_name": "LayoutView",
            "grid_template_rows": null,
            "right": null,
            "justify_content": null,
            "_view_module": "@jupyter-widgets/base",
            "overflow": null,
            "_model_module_version": "1.2.0",
            "_view_count": null,
            "flex_flow": null,
            "width": null,
            "min_width": null,
            "border": null,
            "align_items": null,
            "bottom": null,
            "_model_module": "@jupyter-widgets/base",
            "top": null,
            "grid_column": null,
            "overflow_y": null,
            "overflow_x": null,
            "grid_auto_flow": null,
            "grid_area": null,
            "grid_template_columns": null,
            "flex": null,
            "_model_name": "LayoutModel",
            "justify_items": null,
            "grid_row": null,
            "max_height": null,
            "align_content": null,
            "visibility": null,
            "align_self": null,
            "height": null,
            "min_height": null,
            "padding": null,
            "grid_auto_rows": null,
            "grid_gap": null,
            "max_width": null,
            "order": null,
            "_view_module_version": "1.2.0",
            "grid_template_areas": null,
            "object_position": null,
            "object_fit": null,
            "grid_auto_columns": null,
            "margin": null,
            "display": null,
            "left": null
          }
        },
        "b85c2f4519744eceb3f776f53bf3c9de": {
          "model_module": "@jupyter-widgets/controls",
          "model_name": "FloatProgressModel",
          "state": {
            "_view_name": "ProgressView",
            "style": "IPY_MODEL_0fbc32bbbc0746c5b0cd8a1a7016682b",
            "_dom_classes": [],
            "description": "100%",
            "_model_name": "FloatProgressModel",
            "bar_style": "success",
            "max": 794299,
            "_view_module": "@jupyter-widgets/controls",
            "_model_module_version": "1.5.0",
            "value": 794299,
            "_view_count": null,
            "_view_module_version": "1.5.0",
            "orientation": "horizontal",
            "min": 0,
            "description_tooltip": null,
            "_model_module": "@jupyter-widgets/controls",
            "layout": "IPY_MODEL_83042247641d4ff18ef5e72317d0c9df"
          }
        },
        "28913bb292764f4ea0910cc737423983": {
          "model_module": "@jupyter-widgets/controls",
          "model_name": "HTMLModel",
          "state": {
            "_view_name": "HTMLView",
            "style": "IPY_MODEL_85a8a216529542379341c860cdd48b25",
            "_dom_classes": [],
            "description": "",
            "_model_name": "HTMLModel",
            "placeholder": "​",
            "_view_module": "@jupyter-widgets/controls",
            "_model_module_version": "1.5.0",
            "value": " 794299/794299 [03:28&lt;00:00, 3813.05it/s]",
            "_view_count": null,
            "_view_module_version": "1.5.0",
            "description_tooltip": null,
            "_model_module": "@jupyter-widgets/controls",
            "layout": "IPY_MODEL_401106e5c0d34535a1a429f426e15bba"
          }
        },
        "0fbc32bbbc0746c5b0cd8a1a7016682b": {
          "model_module": "@jupyter-widgets/controls",
          "model_name": "ProgressStyleModel",
          "state": {
            "_view_name": "StyleView",
            "_model_name": "ProgressStyleModel",
            "description_width": "initial",
            "_view_module": "@jupyter-widgets/base",
            "_model_module_version": "1.5.0",
            "_view_count": null,
            "_view_module_version": "1.2.0",
            "bar_color": null,
            "_model_module": "@jupyter-widgets/controls"
          }
        },
        "83042247641d4ff18ef5e72317d0c9df": {
          "model_module": "@jupyter-widgets/base",
          "model_name": "LayoutModel",
          "state": {
            "_view_name": "LayoutView",
            "grid_template_rows": null,
            "right": null,
            "justify_content": null,
            "_view_module": "@jupyter-widgets/base",
            "overflow": null,
            "_model_module_version": "1.2.0",
            "_view_count": null,
            "flex_flow": null,
            "width": null,
            "min_width": null,
            "border": null,
            "align_items": null,
            "bottom": null,
            "_model_module": "@jupyter-widgets/base",
            "top": null,
            "grid_column": null,
            "overflow_y": null,
            "overflow_x": null,
            "grid_auto_flow": null,
            "grid_area": null,
            "grid_template_columns": null,
            "flex": null,
            "_model_name": "LayoutModel",
            "justify_items": null,
            "grid_row": null,
            "max_height": null,
            "align_content": null,
            "visibility": null,
            "align_self": null,
            "height": null,
            "min_height": null,
            "padding": null,
            "grid_auto_rows": null,
            "grid_gap": null,
            "max_width": null,
            "order": null,
            "_view_module_version": "1.2.0",
            "grid_template_areas": null,
            "object_position": null,
            "object_fit": null,
            "grid_auto_columns": null,
            "margin": null,
            "display": null,
            "left": null
          }
        },
        "85a8a216529542379341c860cdd48b25": {
          "model_module": "@jupyter-widgets/controls",
          "model_name": "DescriptionStyleModel",
          "state": {
            "_view_name": "StyleView",
            "_model_name": "DescriptionStyleModel",
            "description_width": "",
            "_view_module": "@jupyter-widgets/base",
            "_model_module_version": "1.5.0",
            "_view_count": null,
            "_view_module_version": "1.2.0",
            "_model_module": "@jupyter-widgets/controls"
          }
        },
        "401106e5c0d34535a1a429f426e15bba": {
          "model_module": "@jupyter-widgets/base",
          "model_name": "LayoutModel",
          "state": {
            "_view_name": "LayoutView",
            "grid_template_rows": null,
            "right": null,
            "justify_content": null,
            "_view_module": "@jupyter-widgets/base",
            "overflow": null,
            "_model_module_version": "1.2.0",
            "_view_count": null,
            "flex_flow": null,
            "width": null,
            "min_width": null,
            "border": null,
            "align_items": null,
            "bottom": null,
            "_model_module": "@jupyter-widgets/base",
            "top": null,
            "grid_column": null,
            "overflow_y": null,
            "overflow_x": null,
            "grid_auto_flow": null,
            "grid_area": null,
            "grid_template_columns": null,
            "flex": null,
            "_model_name": "LayoutModel",
            "justify_items": null,
            "grid_row": null,
            "max_height": null,
            "align_content": null,
            "visibility": null,
            "align_self": null,
            "height": null,
            "min_height": null,
            "padding": null,
            "grid_auto_rows": null,
            "grid_gap": null,
            "max_width": null,
            "order": null,
            "_view_module_version": "1.2.0",
            "grid_template_areas": null,
            "object_position": null,
            "object_fit": null,
            "grid_auto_columns": null,
            "margin": null,
            "display": null,
            "left": null
          }
        }
      }
    }
  },
  "cells": [
    {
      "cell_type": "markdown",
      "metadata": {
        "id": "2UopFtJNM50F"
      },
      "source": [
        "# Customer Support on Twitter"
      ]
    },
    {
      "cell_type": "code",
      "metadata": {
        "id": "o_VmzZ79eRjx"
      },
      "source": [
        "import pandas as pd\n",
        "import numpy as np\n",
        "import string\n",
        "import nltk\n",
        "import seaborn as sns\n",
        "import matplotlib.pyplot as plt\n",
        "%matplotlib inline"
      ],
      "execution_count": null,
      "outputs": []
    },
    {
      "cell_type": "code",
      "metadata": {
        "id": "mFhpg8pOlp8X",
        "colab": {
          "base_uri": "https://localhost:8080/"
        },
        "outputId": "b9ce041c-a38d-4125-f7ee-258c98d13840"
      },
      "source": [
        "from google.colab import drive\n",
        "\n",
        "drive.mount('/content/drive/')"
      ],
      "execution_count": null,
      "outputs": [
        {
          "output_type": "stream",
          "text": [
            "Mounted at /content/drive/\n"
          ],
          "name": "stdout"
        }
      ]
    },
    {
      "cell_type": "code",
      "metadata": {
        "colab": {
          "base_uri": "https://localhost:8080/"
        },
        "id": "-EcBnKVe8OsN",
        "outputId": "13ae1104-b67d-4c6f-ac3d-21bdfd6798a6"
      },
      "source": [
        "!unzip \"/content/drive/MyDrive/twcs.zip\" -d \"/content/drive/MyDrive/MTL782\""
      ],
      "execution_count": null,
      "outputs": [
        {
          "output_type": "stream",
          "text": [
            "unzip:  cannot find or open /content/drive/MyDrive/twcs.zip, /content/drive/MyDrive/twcs.zip.zip or /content/drive/MyDrive/twcs.zip.ZIP.\n"
          ],
          "name": "stdout"
        }
      ]
    },
    {
      "cell_type": "code",
      "metadata": {
        "id": "oKsjZsbV9ce3"
      },
      "source": [
        "df = pd.read_csv(\"/content/drive/MyDrive/MTL782/twcs.csv\")"
      ],
      "execution_count": null,
      "outputs": []
    },
    {
      "cell_type": "code",
      "metadata": {
        "id": "E8J4CD4f9pbT",
        "colab": {
          "base_uri": "https://localhost:8080/",
          "height": 279
        },
        "outputId": "fb41d34d-0846-4bce-a514-797627a7f24c"
      },
      "source": [
        "df.head()"
      ],
      "execution_count": null,
      "outputs": [
        {
          "output_type": "execute_result",
          "data": {
            "text/html": [
              "<div>\n",
              "<style scoped>\n",
              "    .dataframe tbody tr th:only-of-type {\n",
              "        vertical-align: middle;\n",
              "    }\n",
              "\n",
              "    .dataframe tbody tr th {\n",
              "        vertical-align: top;\n",
              "    }\n",
              "\n",
              "    .dataframe thead th {\n",
              "        text-align: right;\n",
              "    }\n",
              "</style>\n",
              "<table border=\"1\" class=\"dataframe\">\n",
              "  <thead>\n",
              "    <tr style=\"text-align: right;\">\n",
              "      <th></th>\n",
              "      <th>tweet_id</th>\n",
              "      <th>author_id</th>\n",
              "      <th>inbound</th>\n",
              "      <th>created_at</th>\n",
              "      <th>text</th>\n",
              "      <th>response_tweet_id</th>\n",
              "      <th>in_response_to_tweet_id</th>\n",
              "    </tr>\n",
              "  </thead>\n",
              "  <tbody>\n",
              "    <tr>\n",
              "      <th>0</th>\n",
              "      <td>1</td>\n",
              "      <td>sprintcare</td>\n",
              "      <td>False</td>\n",
              "      <td>Tue Oct 31 22:10:47 +0000 2017</td>\n",
              "      <td>@115712 I understand. I would like to assist y...</td>\n",
              "      <td>2</td>\n",
              "      <td>3.0</td>\n",
              "    </tr>\n",
              "    <tr>\n",
              "      <th>1</th>\n",
              "      <td>2</td>\n",
              "      <td>115712</td>\n",
              "      <td>True</td>\n",
              "      <td>Tue Oct 31 22:11:45 +0000 2017</td>\n",
              "      <td>@sprintcare and how do you propose we do that</td>\n",
              "      <td>NaN</td>\n",
              "      <td>1.0</td>\n",
              "    </tr>\n",
              "    <tr>\n",
              "      <th>2</th>\n",
              "      <td>3</td>\n",
              "      <td>115712</td>\n",
              "      <td>True</td>\n",
              "      <td>Tue Oct 31 22:08:27 +0000 2017</td>\n",
              "      <td>@sprintcare I have sent several private messag...</td>\n",
              "      <td>1</td>\n",
              "      <td>4.0</td>\n",
              "    </tr>\n",
              "    <tr>\n",
              "      <th>3</th>\n",
              "      <td>4</td>\n",
              "      <td>sprintcare</td>\n",
              "      <td>False</td>\n",
              "      <td>Tue Oct 31 21:54:49 +0000 2017</td>\n",
              "      <td>@115712 Please send us a Private Message so th...</td>\n",
              "      <td>3</td>\n",
              "      <td>5.0</td>\n",
              "    </tr>\n",
              "    <tr>\n",
              "      <th>4</th>\n",
              "      <td>5</td>\n",
              "      <td>115712</td>\n",
              "      <td>True</td>\n",
              "      <td>Tue Oct 31 21:49:35 +0000 2017</td>\n",
              "      <td>@sprintcare I did.</td>\n",
              "      <td>4</td>\n",
              "      <td>6.0</td>\n",
              "    </tr>\n",
              "  </tbody>\n",
              "</table>\n",
              "</div>"
            ],
            "text/plain": [
              "   tweet_id   author_id  ...  response_tweet_id in_response_to_tweet_id\n",
              "0         1  sprintcare  ...                  2                     3.0\n",
              "1         2      115712  ...                NaN                     1.0\n",
              "2         3      115712  ...                  1                     4.0\n",
              "3         4  sprintcare  ...                  3                     5.0\n",
              "4         5      115712  ...                  4                     6.0\n",
              "\n",
              "[5 rows x 7 columns]"
            ]
          },
          "metadata": {
            "tags": []
          },
          "execution_count": 4
        }
      ]
    },
    {
      "cell_type": "code",
      "metadata": {
        "id": "AiiTGxyc9tN1",
        "colab": {
          "base_uri": "https://localhost:8080/"
        },
        "outputId": "750ae346-b434-4ede-f133-bd98da3bd206"
      },
      "source": [
        "print(df.shape)\n",
        "print()\n",
        "\n",
        "print(df.info())\n",
        "print()\n",
        "\n",
        "print(df.isna().sum())"
      ],
      "execution_count": null,
      "outputs": [
        {
          "output_type": "stream",
          "text": [
            "(2811774, 7)\n",
            "\n",
            "<class 'pandas.core.frame.DataFrame'>\n",
            "RangeIndex: 2811774 entries, 0 to 2811773\n",
            "Data columns (total 7 columns):\n",
            " #   Column                   Dtype  \n",
            "---  ------                   -----  \n",
            " 0   tweet_id                 int64  \n",
            " 1   author_id                object \n",
            " 2   inbound                  bool   \n",
            " 3   created_at               object \n",
            " 4   text                     object \n",
            " 5   response_tweet_id        object \n",
            " 6   in_response_to_tweet_id  float64\n",
            "dtypes: bool(1), float64(1), int64(1), object(4)\n",
            "memory usage: 131.4+ MB\n",
            "None\n",
            "\n",
            "tweet_id                         0\n",
            "author_id                        0\n",
            "inbound                          0\n",
            "created_at                       0\n",
            "text                             0\n",
            "response_tweet_id          1040629\n",
            "in_response_to_tweet_id     794335\n",
            "dtype: int64\n"
          ],
          "name": "stdout"
        }
      ]
    },
    {
      "cell_type": "code",
      "metadata": {
        "colab": {
          "base_uri": "https://localhost:8080/"
        },
        "id": "BokRT7IjI7cX",
        "outputId": "aa2306ac-afc1-474a-dc41-24a9b7893a48"
      },
      "source": [
        "df_ = df.drop([\"response_tweet_id\", \"in_response_to_tweet_id\"], axis=1)\n",
        "df_.shape"
      ],
      "execution_count": null,
      "outputs": [
        {
          "output_type": "execute_result",
          "data": {
            "text/plain": [
              "(2811774, 5)"
            ]
          },
          "metadata": {
            "tags": []
          },
          "execution_count": 5
        }
      ]
    },
    {
      "cell_type": "code",
      "metadata": {
        "colab": {
          "base_uri": "https://localhost:8080/",
          "height": 195
        },
        "id": "yGSxETU9Uv3J",
        "outputId": "7a75e043-cdaa-4bbb-8614-cec54b33921f"
      },
      "source": [
        "# Run this to process entire data\n",
        "\n",
        "df_ = df_.reset_index(drop=True)\n",
        "inbound = df_[[\"inbound\"]]\n",
        "\n",
        "# Run this to preserve tweet_id column\n",
        "df_ = df_.drop(['author_id', 'created_at', 'inbound'], axis = 1)\n",
        "\n",
        "\n",
        "# Run this otherwise\n",
        "# df_ = df_.drop(['tweet_id', 'author_id', 'created_at', 'inbound'], axis = 1)\n",
        "\n",
        "df_.head()"
      ],
      "execution_count": null,
      "outputs": [
        {
          "output_type": "execute_result",
          "data": {
            "text/html": [
              "<div>\n",
              "<style scoped>\n",
              "    .dataframe tbody tr th:only-of-type {\n",
              "        vertical-align: middle;\n",
              "    }\n",
              "\n",
              "    .dataframe tbody tr th {\n",
              "        vertical-align: top;\n",
              "    }\n",
              "\n",
              "    .dataframe thead th {\n",
              "        text-align: right;\n",
              "    }\n",
              "</style>\n",
              "<table border=\"1\" class=\"dataframe\">\n",
              "  <thead>\n",
              "    <tr style=\"text-align: right;\">\n",
              "      <th></th>\n",
              "      <th>tweet_id</th>\n",
              "      <th>text</th>\n",
              "    </tr>\n",
              "  </thead>\n",
              "  <tbody>\n",
              "    <tr>\n",
              "      <th>0</th>\n",
              "      <td>1</td>\n",
              "      <td>@115712 I understand. I would like to assist y...</td>\n",
              "    </tr>\n",
              "    <tr>\n",
              "      <th>1</th>\n",
              "      <td>2</td>\n",
              "      <td>@sprintcare and how do you propose we do that</td>\n",
              "    </tr>\n",
              "    <tr>\n",
              "      <th>2</th>\n",
              "      <td>3</td>\n",
              "      <td>@sprintcare I have sent several private messag...</td>\n",
              "    </tr>\n",
              "    <tr>\n",
              "      <th>3</th>\n",
              "      <td>4</td>\n",
              "      <td>@115712 Please send us a Private Message so th...</td>\n",
              "    </tr>\n",
              "    <tr>\n",
              "      <th>4</th>\n",
              "      <td>5</td>\n",
              "      <td>@sprintcare I did.</td>\n",
              "    </tr>\n",
              "  </tbody>\n",
              "</table>\n",
              "</div>"
            ],
            "text/plain": [
              "   tweet_id                                               text\n",
              "0         1  @115712 I understand. I would like to assist y...\n",
              "1         2      @sprintcare and how do you propose we do that\n",
              "2         3  @sprintcare I have sent several private messag...\n",
              "3         4  @115712 Please send us a Private Message so th...\n",
              "4         5                                 @sprintcare I did."
            ]
          },
          "metadata": {
            "tags": []
          },
          "execution_count": 6
        }
      ]
    },
    {
      "cell_type": "code",
      "metadata": {
        "colab": {
          "base_uri": "https://localhost:8080/",
          "height": 212
        },
        "id": "KZ9hAIHQJOA0",
        "outputId": "aa2be335-dfd2-4ee8-a07c-d43b37c324bf"
      },
      "source": [
        "# Run this to process sample\n",
        "\n",
        "df_ = df_.sample(10000, random_state=42)\n",
        "print(df_.shape)\n",
        "\n",
        "df_ = df_.reset_index(drop=True)\n",
        "inbound = df_[[\"inbound\"]]\n",
        "\n",
        "df_ = df_.drop(['tweet_id', 'author_id', 'created_at', 'inbound'], axis = 1)\n",
        "\n",
        "df_.head()"
      ],
      "execution_count": null,
      "outputs": [
        {
          "output_type": "stream",
          "text": [
            "(10000, 5)\n"
          ],
          "name": "stdout"
        },
        {
          "output_type": "execute_result",
          "data": {
            "text/html": [
              "<div>\n",
              "<style scoped>\n",
              "    .dataframe tbody tr th:only-of-type {\n",
              "        vertical-align: middle;\n",
              "    }\n",
              "\n",
              "    .dataframe tbody tr th {\n",
              "        vertical-align: top;\n",
              "    }\n",
              "\n",
              "    .dataframe thead th {\n",
              "        text-align: right;\n",
              "    }\n",
              "</style>\n",
              "<table border=\"1\" class=\"dataframe\">\n",
              "  <thead>\n",
              "    <tr style=\"text-align: right;\">\n",
              "      <th></th>\n",
              "      <th>text</th>\n",
              "    </tr>\n",
              "  </thead>\n",
              "  <tbody>\n",
              "    <tr>\n",
              "      <th>0</th>\n",
              "      <td>@161252 What's that egg website people talk about</td>\n",
              "    </tr>\n",
              "    <tr>\n",
              "      <th>1</th>\n",
              "      <td>Why!🤷🏻‍♀️ #iOS11 @AppleSupport https://t.co/BX...</td>\n",
              "    </tr>\n",
              "    <tr>\n",
              "      <th>2</th>\n",
              "      <td>@693975 We can assist you. We recommend updati...</td>\n",
              "    </tr>\n",
              "    <tr>\n",
              "      <th>3</th>\n",
              "      <td>@331912 @115955 Thats better than having an un...</td>\n",
              "    </tr>\n",
              "    <tr>\n",
              "      <th>4</th>\n",
              "      <td>@VirginAmerica is probably one of the best air...</td>\n",
              "    </tr>\n",
              "  </tbody>\n",
              "</table>\n",
              "</div>"
            ],
            "text/plain": [
              "                                                text\n",
              "0  @161252 What's that egg website people talk about\n",
              "1  Why!🤷🏻‍♀️ #iOS11 @AppleSupport https://t.co/BX...\n",
              "2  @693975 We can assist you. We recommend updati...\n",
              "3  @331912 @115955 Thats better than having an un...\n",
              "4  @VirginAmerica is probably one of the best air..."
            ]
          },
          "metadata": {
            "tags": []
          },
          "execution_count": 7
        }
      ]
    },
    {
      "cell_type": "markdown",
      "metadata": {
        "id": "ohsxgsHOKgty"
      },
      "source": [
        "## Text Preprocessing\n"
      ]
    },
    {
      "cell_type": "markdown",
      "metadata": {
        "id": "Zwl5u5xNLT3L"
      },
      "source": [
        "### Lower Casing\n",
        "Use with care. Lower casing may lead to loss of data in *sentiment analysis*."
      ]
    },
    {
      "cell_type": "code",
      "metadata": {
        "colab": {
          "base_uri": "https://localhost:8080/",
          "height": 195
        },
        "id": "wh7DS_ybKprt",
        "outputId": "1edfb334-a811-4794-fe63-dc690f0ecef1"
      },
      "source": [
        "df_[\"new_text\"] = df_[\"text\"].str.lower()\n",
        "\n",
        "df_sentiment = df_\n",
        "df_ = df_.drop([\"text\"], axis=1)\n",
        "\n",
        "df_.head()"
      ],
      "execution_count": null,
      "outputs": [
        {
          "output_type": "execute_result",
          "data": {
            "text/html": [
              "<div>\n",
              "<style scoped>\n",
              "    .dataframe tbody tr th:only-of-type {\n",
              "        vertical-align: middle;\n",
              "    }\n",
              "\n",
              "    .dataframe tbody tr th {\n",
              "        vertical-align: top;\n",
              "    }\n",
              "\n",
              "    .dataframe thead th {\n",
              "        text-align: right;\n",
              "    }\n",
              "</style>\n",
              "<table border=\"1\" class=\"dataframe\">\n",
              "  <thead>\n",
              "    <tr style=\"text-align: right;\">\n",
              "      <th></th>\n",
              "      <th>tweet_id</th>\n",
              "      <th>new_text</th>\n",
              "    </tr>\n",
              "  </thead>\n",
              "  <tbody>\n",
              "    <tr>\n",
              "      <th>0</th>\n",
              "      <td>1</td>\n",
              "      <td>@115712 i understand. i would like to assist y...</td>\n",
              "    </tr>\n",
              "    <tr>\n",
              "      <th>1</th>\n",
              "      <td>2</td>\n",
              "      <td>@sprintcare and how do you propose we do that</td>\n",
              "    </tr>\n",
              "    <tr>\n",
              "      <th>2</th>\n",
              "      <td>3</td>\n",
              "      <td>@sprintcare i have sent several private messag...</td>\n",
              "    </tr>\n",
              "    <tr>\n",
              "      <th>3</th>\n",
              "      <td>4</td>\n",
              "      <td>@115712 please send us a private message so th...</td>\n",
              "    </tr>\n",
              "    <tr>\n",
              "      <th>4</th>\n",
              "      <td>5</td>\n",
              "      <td>@sprintcare i did.</td>\n",
              "    </tr>\n",
              "  </tbody>\n",
              "</table>\n",
              "</div>"
            ],
            "text/plain": [
              "   tweet_id                                           new_text\n",
              "0         1  @115712 i understand. i would like to assist y...\n",
              "1         2      @sprintcare and how do you propose we do that\n",
              "2         3  @sprintcare i have sent several private messag...\n",
              "3         4  @115712 please send us a private message so th...\n",
              "4         5                                 @sprintcare i did."
            ]
          },
          "metadata": {
            "tags": []
          },
          "execution_count": 7
        }
      ]
    },
    {
      "cell_type": "markdown",
      "metadata": {
        "id": "sasCffy6LELf"
      },
      "source": [
        "### Punctuation removal\n",
        "Choose carefully which punctuations are to be removed."
      ]
    },
    {
      "cell_type": "code",
      "metadata": {
        "colab": {
          "base_uri": "https://localhost:8080/",
          "height": 195
        },
        "id": "iHxyrbY8VGpI",
        "outputId": "eb50dd72-dcc9-4614-be11-ac44bd7672b7"
      },
      "source": [
        "# Run this to process entire data\n",
        "\n",
        "punctuations = string.punctuation\n",
        "\n",
        "def removing_punctuations(text):\n",
        "  new_text = text.translate(str.maketrans(\"\", \"\", punctuations))\n",
        "  return new_text\n",
        "\n",
        "df_[\"new_text\"] = df_[\"new_text\"].apply(lambda text: removing_punctuations(text))\n",
        "\n",
        "df_.head()"
      ],
      "execution_count": null,
      "outputs": [
        {
          "output_type": "execute_result",
          "data": {
            "text/html": [
              "<div>\n",
              "<style scoped>\n",
              "    .dataframe tbody tr th:only-of-type {\n",
              "        vertical-align: middle;\n",
              "    }\n",
              "\n",
              "    .dataframe tbody tr th {\n",
              "        vertical-align: top;\n",
              "    }\n",
              "\n",
              "    .dataframe thead th {\n",
              "        text-align: right;\n",
              "    }\n",
              "</style>\n",
              "<table border=\"1\" class=\"dataframe\">\n",
              "  <thead>\n",
              "    <tr style=\"text-align: right;\">\n",
              "      <th></th>\n",
              "      <th>tweet_id</th>\n",
              "      <th>new_text</th>\n",
              "    </tr>\n",
              "  </thead>\n",
              "  <tbody>\n",
              "    <tr>\n",
              "      <th>0</th>\n",
              "      <td>1</td>\n",
              "      <td>115712 i understand i would like to assist you...</td>\n",
              "    </tr>\n",
              "    <tr>\n",
              "      <th>1</th>\n",
              "      <td>2</td>\n",
              "      <td>sprintcare and how do you propose we do that</td>\n",
              "    </tr>\n",
              "    <tr>\n",
              "      <th>2</th>\n",
              "      <td>3</td>\n",
              "      <td>sprintcare i have sent several private message...</td>\n",
              "    </tr>\n",
              "    <tr>\n",
              "      <th>3</th>\n",
              "      <td>4</td>\n",
              "      <td>115712 please send us a private message so tha...</td>\n",
              "    </tr>\n",
              "    <tr>\n",
              "      <th>4</th>\n",
              "      <td>5</td>\n",
              "      <td>sprintcare i did</td>\n",
              "    </tr>\n",
              "  </tbody>\n",
              "</table>\n",
              "</div>"
            ],
            "text/plain": [
              "   tweet_id                                           new_text\n",
              "0         1  115712 i understand i would like to assist you...\n",
              "1         2       sprintcare and how do you propose we do that\n",
              "2         3  sprintcare i have sent several private message...\n",
              "3         4  115712 please send us a private message so tha...\n",
              "4         5                                   sprintcare i did"
            ]
          },
          "metadata": {
            "tags": []
          },
          "execution_count": 9
        }
      ]
    },
    {
      "cell_type": "code",
      "metadata": {
        "id": "WAG-_4MmLHB3"
      },
      "source": [
        "# Run this to process a sample (Actually run this if lower casing has been performed)\n",
        "\n",
        "punctuations = string.punctuation\n",
        "\n",
        "def removing_punctuations(text):\n",
        "  new_text = text.translate(str.maketrans(\"\", \"\", punctuations))\n",
        "  return new_text\n",
        "\n",
        "df_[\"new_text\"] = df_[\"new_text\"].apply(lambda text: removing_punctuations(text))\n",
        "\n",
        "df_.head()"
      ],
      "execution_count": null,
      "outputs": []
    },
    {
      "cell_type": "markdown",
      "metadata": {
        "id": "37nqlGb4kMRv"
      },
      "source": [
        "### Removal of stopwords (English)\n",
        "For **Parts of Speech (POS)** tagging usecase, do not remove these."
      ]
    },
    {
      "cell_type": "code",
      "metadata": {
        "colab": {
          "base_uri": "https://localhost:8080/"
        },
        "id": "4zev_J5Fo3WO",
        "outputId": "02cf748a-9c8a-4fa1-8f91-2a8cad804a1a"
      },
      "source": [
        "nltk.download('stopwords')\n",
        "nltk.download('punkt')\n",
        "nltk.download('wordnet')\n",
        "nltk.download('averaged_perceptron_tagger')\n",
        "nltk.download('words')"
      ],
      "execution_count": null,
      "outputs": [
        {
          "output_type": "stream",
          "text": [
            "[nltk_data] Downloading package stopwords to /root/nltk_data...\n",
            "[nltk_data]   Unzipping corpora/stopwords.zip.\n",
            "[nltk_data] Downloading package punkt to /root/nltk_data...\n",
            "[nltk_data]   Unzipping tokenizers/punkt.zip.\n",
            "[nltk_data] Downloading package wordnet to /root/nltk_data...\n",
            "[nltk_data]   Unzipping corpora/wordnet.zip.\n",
            "[nltk_data] Downloading package averaged_perceptron_tagger to\n",
            "[nltk_data]     /root/nltk_data...\n",
            "[nltk_data]   Unzipping taggers/averaged_perceptron_tagger.zip.\n",
            "[nltk_data] Downloading package words to /root/nltk_data...\n",
            "[nltk_data]   Unzipping corpora/words.zip.\n"
          ],
          "name": "stdout"
        },
        {
          "output_type": "execute_result",
          "data": {
            "text/plain": [
              "True"
            ]
          },
          "metadata": {
            "tags": []
          },
          "execution_count": 10
        }
      ]
    },
    {
      "cell_type": "code",
      "metadata": {
        "colab": {
          "base_uri": "https://localhost:8080/",
          "height": 137
        },
        "id": "UXUv53rwkTMb",
        "outputId": "8b8c8523-af4a-4219-8106-04e2a829c7c7"
      },
      "source": [
        "from nltk.corpus import stopwords\n",
        "\", \".join(stopwords.words(\"english\"))"
      ],
      "execution_count": null,
      "outputs": [
        {
          "output_type": "execute_result",
          "data": {
            "application/vnd.google.colaboratory.intrinsic+json": {
              "type": "string"
            },
            "text/plain": [
              "\"i, me, my, myself, we, our, ours, ourselves, you, you're, you've, you'll, you'd, your, yours, yourself, yourselves, he, him, his, himself, she, she's, her, hers, herself, it, it's, its, itself, they, them, their, theirs, themselves, what, which, who, whom, this, that, that'll, these, those, am, is, are, was, were, be, been, being, have, has, had, having, do, does, did, doing, a, an, the, and, but, if, or, because, as, until, while, of, at, by, for, with, about, against, between, into, through, during, before, after, above, below, to, from, up, down, in, out, on, off, over, under, again, further, then, once, here, there, when, where, why, how, all, any, both, each, few, more, most, other, some, such, no, nor, not, only, own, same, so, than, too, very, s, t, can, will, just, don, don't, should, should've, now, d, ll, m, o, re, ve, y, ain, aren, aren't, couldn, couldn't, didn, didn't, doesn, doesn't, hadn, hadn't, hasn, hasn't, haven, haven't, isn, isn't, ma, mightn, mightn't, mustn, mustn't, needn, needn't, shan, shan't, shouldn, shouldn't, wasn, wasn't, weren, weren't, won, won't, wouldn, wouldn't\""
            ]
          },
          "metadata": {
            "tags": []
          },
          "execution_count": 11
        }
      ]
    },
    {
      "cell_type": "code",
      "metadata": {
        "colab": {
          "base_uri": "https://localhost:8080/",
          "height": 195
        },
        "id": "Pa-FhcD_pDtY",
        "outputId": "8ebf3290-707a-4e7a-cfa6-053ae62a4ac7"
      },
      "source": [
        "from nltk.tokenize import word_tokenize\n",
        "\n",
        "stpwords = set(stopwords.words(\"english\"))\n",
        "\n",
        "def remove_stopwords(text):\n",
        "  word_tokens = word_tokenize(text)\n",
        "  filtered_words = [w for w in word_tokens if not w in stpwords]\n",
        "  new_text = \" \".join(filtered_words)\n",
        "  return new_text\n",
        "\n",
        "df_[\"new_text\"] = df_[\"new_text\"].apply(lambda text: remove_stopwords(text))\n",
        "\n",
        "df_.head()"
      ],
      "execution_count": null,
      "outputs": [
        {
          "output_type": "execute_result",
          "data": {
            "text/html": [
              "<div>\n",
              "<style scoped>\n",
              "    .dataframe tbody tr th:only-of-type {\n",
              "        vertical-align: middle;\n",
              "    }\n",
              "\n",
              "    .dataframe tbody tr th {\n",
              "        vertical-align: top;\n",
              "    }\n",
              "\n",
              "    .dataframe thead th {\n",
              "        text-align: right;\n",
              "    }\n",
              "</style>\n",
              "<table border=\"1\" class=\"dataframe\">\n",
              "  <thead>\n",
              "    <tr style=\"text-align: right;\">\n",
              "      <th></th>\n",
              "      <th>tweet_id</th>\n",
              "      <th>new_text</th>\n",
              "    </tr>\n",
              "  </thead>\n",
              "  <tbody>\n",
              "    <tr>\n",
              "      <th>0</th>\n",
              "      <td>1</td>\n",
              "      <td>115712 understand would like assist would need...</td>\n",
              "    </tr>\n",
              "    <tr>\n",
              "      <th>1</th>\n",
              "      <td>2</td>\n",
              "      <td>sprintcare propose</td>\n",
              "    </tr>\n",
              "    <tr>\n",
              "      <th>2</th>\n",
              "      <td>3</td>\n",
              "      <td>sprintcare sent several private messages one r...</td>\n",
              "    </tr>\n",
              "    <tr>\n",
              "      <th>3</th>\n",
              "      <td>4</td>\n",
              "      <td>115712 please send us private message assist c...</td>\n",
              "    </tr>\n",
              "    <tr>\n",
              "      <th>4</th>\n",
              "      <td>5</td>\n",
              "      <td>sprintcare</td>\n",
              "    </tr>\n",
              "  </tbody>\n",
              "</table>\n",
              "</div>"
            ],
            "text/plain": [
              "   tweet_id                                           new_text\n",
              "0         1  115712 understand would like assist would need...\n",
              "1         2                                 sprintcare propose\n",
              "2         3  sprintcare sent several private messages one r...\n",
              "3         4  115712 please send us private message assist c...\n",
              "4         5                                         sprintcare"
            ]
          },
          "metadata": {
            "tags": []
          },
          "execution_count": 12
        }
      ]
    },
    {
      "cell_type": "markdown",
      "metadata": {
        "id": "oPuiS9K01uYv"
      },
      "source": [
        "### Removal of frequent words\n"
      ]
    },
    {
      "cell_type": "code",
      "metadata": {
        "colab": {
          "base_uri": "https://localhost:8080/"
        },
        "id": "hx6s_VnH1022",
        "outputId": "01b08c97-8c28-4e1c-d3bf-d2f5529b6381"
      },
      "source": [
        "from collections import Counter\n",
        "counter = Counter()\n",
        "\n",
        "for text in df_[\"new_text\"].values:\n",
        "  for word in text.split():\n",
        "    counter[word] += 1\n",
        "\n",
        "counter.most_common(20)"
      ],
      "execution_count": null,
      "outputs": [
        {
          "output_type": "execute_result",
          "data": {
            "text/plain": [
              "[('us', 451382),\n",
              " ('please', 402798),\n",
              " ('’', 381922),\n",
              " ('dm', 336639),\n",
              " ('help', 267815),\n",
              " ('hi', 224631),\n",
              " ('thanks', 206490),\n",
              " ('get', 200457),\n",
              " ('sorry', 192552),\n",
              " ('like', 146400),\n",
              " ('know', 145459),\n",
              " ('look', 139645),\n",
              " ('send', 138946),\n",
              " ('amazonhelp', 137277),\n",
              " ('well', 134062),\n",
              " ('service', 133896),\n",
              " ('im', 131559),\n",
              " ('number', 123490),\n",
              " ('account', 120183),\n",
              " ('email', 116907)]"
            ]
          },
          "metadata": {
            "tags": []
          },
          "execution_count": 13
        }
      ]
    },
    {
      "cell_type": "code",
      "metadata": {
        "colab": {
          "base_uri": "https://localhost:8080/"
        },
        "id": "EFiNn8ht2s5S",
        "outputId": "16286ab2-1793-4ca5-dfe7-cbe20b1ecf0a"
      },
      "source": [
        "frequent_words = [w for (w,wc) in counter.most_common(10)]\n",
        "\n",
        "print(frequent_words)\n",
        "\n",
        "def remove_freq_words(text):\n",
        "  word_tokens = word_tokenize(text)\n",
        "  filtered_words = [w for w in word_tokens if not w in frequent_words]\n",
        "  new_text = \" \".join(filtered_words)\n",
        "  return new_text\n",
        "\n",
        "df_['new_text'] = df_['new_text'].apply(lambda text: remove_freq_words(text))"
      ],
      "execution_count": null,
      "outputs": [
        {
          "output_type": "stream",
          "text": [
            "['us', 'please', '’', 'dm', 'help', 'hi', 'thanks', 'get', 'sorry', 'like']\n"
          ],
          "name": "stdout"
        }
      ]
    },
    {
      "cell_type": "code",
      "metadata": {
        "colab": {
          "base_uri": "https://localhost:8080/",
          "height": 195
        },
        "id": "soRPwqNE447A",
        "outputId": "a2803963-dedd-4dd1-f374-8c0aa5160bb1"
      },
      "source": [
        "df_.head()"
      ],
      "execution_count": null,
      "outputs": [
        {
          "output_type": "execute_result",
          "data": {
            "text/html": [
              "<div>\n",
              "<style scoped>\n",
              "    .dataframe tbody tr th:only-of-type {\n",
              "        vertical-align: middle;\n",
              "    }\n",
              "\n",
              "    .dataframe tbody tr th {\n",
              "        vertical-align: top;\n",
              "    }\n",
              "\n",
              "    .dataframe thead th {\n",
              "        text-align: right;\n",
              "    }\n",
              "</style>\n",
              "<table border=\"1\" class=\"dataframe\">\n",
              "  <thead>\n",
              "    <tr style=\"text-align: right;\">\n",
              "      <th></th>\n",
              "      <th>tweet_id</th>\n",
              "      <th>new_text</th>\n",
              "    </tr>\n",
              "  </thead>\n",
              "  <tbody>\n",
              "    <tr>\n",
              "      <th>0</th>\n",
              "      <td>1</td>\n",
              "      <td>115712 understand would like assist would need...</td>\n",
              "    </tr>\n",
              "    <tr>\n",
              "      <th>1</th>\n",
              "      <td>2</td>\n",
              "      <td>sprintcare propose</td>\n",
              "    </tr>\n",
              "    <tr>\n",
              "      <th>2</th>\n",
              "      <td>3</td>\n",
              "      <td>sprintcare sent several private messages one r...</td>\n",
              "    </tr>\n",
              "    <tr>\n",
              "      <th>3</th>\n",
              "      <td>4</td>\n",
              "      <td>115712 please send us private message assist c...</td>\n",
              "    </tr>\n",
              "    <tr>\n",
              "      <th>4</th>\n",
              "      <td>5</td>\n",
              "      <td>sprintcare</td>\n",
              "    </tr>\n",
              "  </tbody>\n",
              "</table>\n",
              "</div>"
            ],
            "text/plain": [
              "   tweet_id                                           new_text\n",
              "0         1  115712 understand would like assist would need...\n",
              "1         2                                 sprintcare propose\n",
              "2         3  sprintcare sent several private messages one r...\n",
              "3         4  115712 please send us private message assist c...\n",
              "4         5                                         sprintcare"
            ]
          },
          "metadata": {
            "tags": []
          },
          "execution_count": 14
        }
      ]
    },
    {
      "cell_type": "markdown",
      "metadata": {
        "id": "6Or82z1k4_JM"
      },
      "source": [
        "### Removal of very rare words\n",
        "Be careful while removing words as some emojis, emoticons may also be lost which can cause loss of data while doing **Sentiment Analysis**."
      ]
    },
    {
      "cell_type": "code",
      "metadata": {
        "colab": {
          "base_uri": "https://localhost:8080/",
          "height": 246
        },
        "id": "PKEOugIlJZEz",
        "outputId": "d1ca5f26-9437-408b-e2ca-04116678412d"
      },
      "source": [
        "from collections import Counter\n",
        "counter = Counter()\n",
        "\n",
        "for text in df_[\"new_text\"].values:\n",
        "  for word in text.split():\n",
        "    counter[word] += 1\n",
        "\n",
        "counter = dict(counter)\n",
        "\n",
        "print(\"Occurence of original number of words: \", len(counter.keys()))\n",
        "\n",
        "less_than_1  = {}\n",
        "more_than_1 = {}\n",
        "\n",
        "for key, value in counter.items():\n",
        "  if value < 2:\n",
        "    less_than_1.update({key:value})\n",
        "  else:\n",
        "    more_than_1.update({key:value})\n",
        "\n",
        "print(\"Words occured only a single time: \", len(less_than_1.keys()))\n",
        "print(\"Words occured more than once: \", len(more_than_1.keys()))\n",
        "\n",
        "words_remove = list(less_than_1.keys())\n",
        "\n",
        "def remove_rarewords(text):\n",
        "  tokens = word_tokenize(text)\n",
        "  filtered_words = [w for w in tokens if not w in words_remove]\n",
        "  new_text = \" \".join(filtered_words)\n",
        "  return new_text\n",
        "\n",
        "df_[\"method1_text\"] = df_[\"new_text\"].apply(lambda text: remove_rarewords(text))\n",
        "\n",
        "df_.head()"
      ],
      "execution_count": null,
      "outputs": [
        {
          "output_type": "stream",
          "text": [
            "Occurence of original number of words:  21699\n",
            "Words occured only a single time:  15259\n",
            "Words occured more than once:  6440\n"
          ],
          "name": "stdout"
        },
        {
          "output_type": "execute_result",
          "data": {
            "text/html": [
              "<div>\n",
              "<style scoped>\n",
              "    .dataframe tbody tr th:only-of-type {\n",
              "        vertical-align: middle;\n",
              "    }\n",
              "\n",
              "    .dataframe tbody tr th {\n",
              "        vertical-align: top;\n",
              "    }\n",
              "\n",
              "    .dataframe thead th {\n",
              "        text-align: right;\n",
              "    }\n",
              "</style>\n",
              "<table border=\"1\" class=\"dataframe\">\n",
              "  <thead>\n",
              "    <tr style=\"text-align: right;\">\n",
              "      <th></th>\n",
              "      <th>new_text</th>\n",
              "      <th>method1_text</th>\n",
              "    </tr>\n",
              "  </thead>\n",
              "  <tbody>\n",
              "    <tr>\n",
              "      <th>0</th>\n",
              "      <td>161252 whats egg website people talk</td>\n",
              "      <td>whats egg website people talk</td>\n",
              "    </tr>\n",
              "    <tr>\n",
              "      <th>1</th>\n",
              "      <td>why🤷🏻‍♀️ ios11 applesupport httpstcobxrvfeixxq</td>\n",
              "      <td>ios11 applesupport</td>\n",
              "    </tr>\n",
              "    <tr>\n",
              "      <th>2</th>\n",
              "      <td>693975 assist recommend updating ios 1111 have...</td>\n",
              "      <td>assist recommend updating ios 1111 havent chan...</td>\n",
              "    </tr>\n",
              "    <tr>\n",
              "      <th>3</th>\n",
              "      <td>331912 115955 thats better unstable connection...</td>\n",
              "      <td>115955 thats better connection drops every mins</td>\n",
              "    </tr>\n",
              "    <tr>\n",
              "      <th>4</th>\n",
              "      <td>virginamerica probably one best airlines ive e...</td>\n",
              "      <td>virginamerica probably one best airlines ive e...</td>\n",
              "    </tr>\n",
              "  </tbody>\n",
              "</table>\n",
              "</div>"
            ],
            "text/plain": [
              "                                            new_text                                       method1_text\n",
              "0               161252 whats egg website people talk                      whats egg website people talk\n",
              "1     why🤷🏻‍♀️ ios11 applesupport httpstcobxrvfeixxq                                 ios11 applesupport\n",
              "2  693975 assist recommend updating ios 1111 have...  assist recommend updating ios 1111 havent chan...\n",
              "3  331912 115955 thats better unstable connection...    115955 thats better connection drops every mins\n",
              "4  virginamerica probably one best airlines ive e...  virginamerica probably one best airlines ive e..."
            ]
          },
          "metadata": {
            "tags": []
          },
          "execution_count": 16
        }
      ]
    },
    {
      "cell_type": "code",
      "metadata": {
        "colab": {
          "base_uri": "https://localhost:8080/",
          "height": 195
        },
        "id": "vnT3ucr6NDsF",
        "outputId": "e97b7323-b46c-4cfb-b137-a372b962ea58"
      },
      "source": [
        "from collections import Counter\n",
        "counter = Counter()\n",
        "\n",
        "for text in df_[\"new_text\"].values:\n",
        "  for word in text.split():\n",
        "    counter[word] += 1\n",
        "\n",
        "n_rare_words = 10\n",
        "\n",
        "RARE = set([w for (w,wc) in counter.most_common()[:-n_rare_words-1:-1]])\n",
        "def remove_rarewords_alter(text):\n",
        "  new_text = \" \".join([word for word in str(text).split() if word not in RARE])\n",
        "  return new_text\n",
        "\n",
        "df_[\"method2_text\"] = df_[\"new_text\"].apply(lambda text: remove_rarewords_alter(text))\n",
        "df_.head()"
      ],
      "execution_count": null,
      "outputs": [
        {
          "output_type": "execute_result",
          "data": {
            "text/html": [
              "<div>\n",
              "<style scoped>\n",
              "    .dataframe tbody tr th:only-of-type {\n",
              "        vertical-align: middle;\n",
              "    }\n",
              "\n",
              "    .dataframe tbody tr th {\n",
              "        vertical-align: top;\n",
              "    }\n",
              "\n",
              "    .dataframe thead th {\n",
              "        text-align: right;\n",
              "    }\n",
              "</style>\n",
              "<table border=\"1\" class=\"dataframe\">\n",
              "  <thead>\n",
              "    <tr style=\"text-align: right;\">\n",
              "      <th></th>\n",
              "      <th>tweet_id</th>\n",
              "      <th>new_text</th>\n",
              "      <th>method2_text</th>\n",
              "    </tr>\n",
              "  </thead>\n",
              "  <tbody>\n",
              "    <tr>\n",
              "      <th>0</th>\n",
              "      <td>1</td>\n",
              "      <td>115712 understand would assist would need priv...</td>\n",
              "      <td>115712 understand would assist would need priv...</td>\n",
              "    </tr>\n",
              "    <tr>\n",
              "      <th>1</th>\n",
              "      <td>2</td>\n",
              "      <td>sprintcare propose</td>\n",
              "      <td>sprintcare propose</td>\n",
              "    </tr>\n",
              "    <tr>\n",
              "      <th>2</th>\n",
              "      <td>3</td>\n",
              "      <td>sprintcare sent several private messages one r...</td>\n",
              "      <td>sprintcare sent several private messages one r...</td>\n",
              "    </tr>\n",
              "    <tr>\n",
              "      <th>3</th>\n",
              "      <td>4</td>\n",
              "      <td>115712 send private message assist click ‘ mes...</td>\n",
              "      <td>115712 send private message assist click ‘ mes...</td>\n",
              "    </tr>\n",
              "    <tr>\n",
              "      <th>4</th>\n",
              "      <td>5</td>\n",
              "      <td>sprintcare</td>\n",
              "      <td>sprintcare</td>\n",
              "    </tr>\n",
              "  </tbody>\n",
              "</table>\n",
              "</div>"
            ],
            "text/plain": [
              "   tweet_id  ...                                       method2_text\n",
              "0         1  ...  115712 understand would assist would need priv...\n",
              "1         2  ...                                 sprintcare propose\n",
              "2         3  ...  sprintcare sent several private messages one r...\n",
              "3         4  ...  115712 send private message assist click ‘ mes...\n",
              "4         5  ...                                         sprintcare\n",
              "\n",
              "[5 rows x 3 columns]"
            ]
          },
          "metadata": {
            "tags": []
          },
          "execution_count": 16
        }
      ]
    },
    {
      "cell_type": "markdown",
      "metadata": {
        "id": "51q6remh9agB"
      },
      "source": [
        "### Stemming\n",
        "* Infected (or sometimes derived words) are reduced to their word stem, base root form.\n",
        "* Effectively extra words with the same meaning, but different grammatical form are replaced (*stemmed*) to the simpler base word.\n",
        "* **Lemmatization** needs to be done later.\n",
        "* Porter stemmer from the nltk package is used."
      ]
    },
    {
      "cell_type": "code",
      "metadata": {
        "colab": {
          "base_uri": "https://localhost:8080/",
          "height": 195
        },
        "id": "5QnTklxA_JPh",
        "outputId": "5628fd67-4971-4cab-eab7-b33522aaa346"
      },
      "source": [
        "#df_ = df_.drop([\"new_text\", \"method1_text\"], axis = 1)\n",
        "\n",
        "from nltk.stem.porter import PorterStemmer\n",
        "\n",
        "stemmer = PorterStemmer()\n",
        "\n",
        "def stem_words(text):\n",
        "  tokens = text.split()\n",
        "  new_tokens = [stemmer.stem(word) for word in tokens]\n",
        "  new_text = \" \".join(new_tokens)\n",
        "  return new_text\n",
        "\n",
        "df_[\"stem_text\"] = df_[\"method2_text\"].apply(lambda text: stem_words(text))\n",
        "\n",
        "df_.head()"
      ],
      "execution_count": null,
      "outputs": [
        {
          "output_type": "execute_result",
          "data": {
            "text/html": [
              "<div>\n",
              "<style scoped>\n",
              "    .dataframe tbody tr th:only-of-type {\n",
              "        vertical-align: middle;\n",
              "    }\n",
              "\n",
              "    .dataframe tbody tr th {\n",
              "        vertical-align: top;\n",
              "    }\n",
              "\n",
              "    .dataframe thead th {\n",
              "        text-align: right;\n",
              "    }\n",
              "</style>\n",
              "<table border=\"1\" class=\"dataframe\">\n",
              "  <thead>\n",
              "    <tr style=\"text-align: right;\">\n",
              "      <th></th>\n",
              "      <th>tweet_id</th>\n",
              "      <th>new_text</th>\n",
              "      <th>method2_text</th>\n",
              "      <th>stem_text</th>\n",
              "    </tr>\n",
              "  </thead>\n",
              "  <tbody>\n",
              "    <tr>\n",
              "      <th>0</th>\n",
              "      <td>1</td>\n",
              "      <td>115712 understand would assist would need priv...</td>\n",
              "      <td>115712 understand would assist would need priv...</td>\n",
              "      <td>115712 understand would assist would need priv...</td>\n",
              "    </tr>\n",
              "    <tr>\n",
              "      <th>1</th>\n",
              "      <td>2</td>\n",
              "      <td>sprintcare propose</td>\n",
              "      <td>sprintcare propose</td>\n",
              "      <td>sprintcar propos</td>\n",
              "    </tr>\n",
              "    <tr>\n",
              "      <th>2</th>\n",
              "      <td>3</td>\n",
              "      <td>sprintcare sent several private messages one r...</td>\n",
              "      <td>sprintcare sent several private messages one r...</td>\n",
              "      <td>sprintcar sent sever privat messag one respond...</td>\n",
              "    </tr>\n",
              "    <tr>\n",
              "      <th>3</th>\n",
              "      <td>4</td>\n",
              "      <td>115712 send private message assist click ‘ mes...</td>\n",
              "      <td>115712 send private message assist click ‘ mes...</td>\n",
              "      <td>115712 send privat messag assist click ‘ messa...</td>\n",
              "    </tr>\n",
              "    <tr>\n",
              "      <th>4</th>\n",
              "      <td>5</td>\n",
              "      <td>sprintcare</td>\n",
              "      <td>sprintcare</td>\n",
              "      <td>sprintcar</td>\n",
              "    </tr>\n",
              "  </tbody>\n",
              "</table>\n",
              "</div>"
            ],
            "text/plain": [
              "   tweet_id  ...                                          stem_text\n",
              "0         1  ...  115712 understand would assist would need priv...\n",
              "1         2  ...                                   sprintcar propos\n",
              "2         3  ...  sprintcar sent sever privat messag one respond...\n",
              "3         4  ...  115712 send privat messag assist click ‘ messa...\n",
              "4         5  ...                                          sprintcar\n",
              "\n",
              "[5 rows x 4 columns]"
            ]
          },
          "metadata": {
            "tags": []
          },
          "execution_count": 17
        }
      ]
    },
    {
      "cell_type": "markdown",
      "metadata": {
        "id": "Eef1T3KL__gS"
      },
      "source": [
        "### Lemmatization\n",
        "* Similar to stemming but ensures that the root word (stemmed word or lemma) belongs to the language\n",
        "* Slower than stemming\n",
        "* **WordNetLemmatizer** shall be used"
      ]
    },
    {
      "cell_type": "code",
      "metadata": {
        "colab": {
          "base_uri": "https://localhost:8080/",
          "height": 246
        },
        "id": "X0aD2suaAkUJ",
        "outputId": "9ba8ab1e-d8f7-4bf4-f802-df1aefc9c58b"
      },
      "source": [
        "from nltk.stem import WordNetLemmatizer\n",
        "\n",
        "lemmatizer = WordNetLemmatizer()\n",
        "\n",
        "def lemmatize_sentences(text):\n",
        "  tokens = text.split()\n",
        "  new_tokens = [lemmatizer.lemmatize(word) for word in tokens]\n",
        "  new_text = \" \".join(new_tokens)\n",
        "  return new_text\n",
        "\n",
        "df_[\"lemmatize1_sent\"] = df_[\"method2_text\"].apply(lambda text: lemmatize_sentences(text))\n",
        "\n",
        "df_.head()"
      ],
      "execution_count": null,
      "outputs": [
        {
          "output_type": "execute_result",
          "data": {
            "text/html": [
              "<div>\n",
              "<style scoped>\n",
              "    .dataframe tbody tr th:only-of-type {\n",
              "        vertical-align: middle;\n",
              "    }\n",
              "\n",
              "    .dataframe tbody tr th {\n",
              "        vertical-align: top;\n",
              "    }\n",
              "\n",
              "    .dataframe thead th {\n",
              "        text-align: right;\n",
              "    }\n",
              "</style>\n",
              "<table border=\"1\" class=\"dataframe\">\n",
              "  <thead>\n",
              "    <tr style=\"text-align: right;\">\n",
              "      <th></th>\n",
              "      <th>tweet_id</th>\n",
              "      <th>new_text</th>\n",
              "      <th>method2_text</th>\n",
              "      <th>stem_text</th>\n",
              "      <th>lemmatize1_sent</th>\n",
              "    </tr>\n",
              "  </thead>\n",
              "  <tbody>\n",
              "    <tr>\n",
              "      <th>0</th>\n",
              "      <td>1</td>\n",
              "      <td>115712 understand would assist would need priv...</td>\n",
              "      <td>115712 understand would assist would need priv...</td>\n",
              "      <td>115712 understand would assist would need priv...</td>\n",
              "      <td>115712 understand would assist would need priv...</td>\n",
              "    </tr>\n",
              "    <tr>\n",
              "      <th>1</th>\n",
              "      <td>2</td>\n",
              "      <td>sprintcare propose</td>\n",
              "      <td>sprintcare propose</td>\n",
              "      <td>sprintcar propos</td>\n",
              "      <td>sprintcare propose</td>\n",
              "    </tr>\n",
              "    <tr>\n",
              "      <th>2</th>\n",
              "      <td>3</td>\n",
              "      <td>sprintcare sent several private messages one r...</td>\n",
              "      <td>sprintcare sent several private messages one r...</td>\n",
              "      <td>sprintcar sent sever privat messag one respond...</td>\n",
              "      <td>sprintcare sent several private message one re...</td>\n",
              "    </tr>\n",
              "    <tr>\n",
              "      <th>3</th>\n",
              "      <td>4</td>\n",
              "      <td>115712 send private message assist click ‘ mes...</td>\n",
              "      <td>115712 send private message assist click ‘ mes...</td>\n",
              "      <td>115712 send privat messag assist click ‘ messa...</td>\n",
              "      <td>115712 send private message assist click ‘ mes...</td>\n",
              "    </tr>\n",
              "    <tr>\n",
              "      <th>4</th>\n",
              "      <td>5</td>\n",
              "      <td>sprintcare</td>\n",
              "      <td>sprintcare</td>\n",
              "      <td>sprintcar</td>\n",
              "      <td>sprintcare</td>\n",
              "    </tr>\n",
              "  </tbody>\n",
              "</table>\n",
              "</div>"
            ],
            "text/plain": [
              "   tweet_id  ...                                    lemmatize1_sent\n",
              "0         1  ...  115712 understand would assist would need priv...\n",
              "1         2  ...                                 sprintcare propose\n",
              "2         3  ...  sprintcare sent several private message one re...\n",
              "3         4  ...  115712 send private message assist click ‘ mes...\n",
              "4         5  ...                                         sprintcare\n",
              "\n",
              "[5 rows x 5 columns]"
            ]
          },
          "metadata": {
            "tags": []
          },
          "execution_count": 18
        }
      ]
    },
    {
      "cell_type": "code",
      "metadata": {
        "colab": {
          "base_uri": "https://localhost:8080/"
        },
        "id": "atzy42nkFUsE",
        "outputId": "0dbf2204-0d15-46b5-fe0a-e074ade7483d"
      },
      "source": [
        "a = df_[\"method2_text\"][2]\n",
        "\n",
        "[nltk.pos_tag([word]) for word in a.split()]"
      ],
      "execution_count": null,
      "outputs": [
        {
          "output_type": "execute_result",
          "data": {
            "text/plain": [
              "[[('sprintcare', 'NN')],\n",
              " [('sent', 'NN')],\n",
              " [('several', 'JJ')],\n",
              " [('private', 'JJ')],\n",
              " [('messages', 'NNS')],\n",
              " [('one', 'CD')],\n",
              " [('responding', 'VBG')],\n",
              " [('usual', 'JJ')]]"
            ]
          },
          "metadata": {
            "tags": []
          },
          "execution_count": 19
        }
      ]
    },
    {
      "cell_type": "code",
      "metadata": {
        "colab": {
          "base_uri": "https://localhost:8080/"
        },
        "id": "sCUnYKZQHu3F",
        "outputId": "a9ebcd02-1b10-473e-d93f-0e5a1d788863"
      },
      "source": [
        "[nltk.pos_tag([word])[0][1].upper() for word in a.split()]"
      ],
      "execution_count": null,
      "outputs": [
        {
          "output_type": "execute_result",
          "data": {
            "text/plain": [
              "['NN', 'NN', 'JJ', 'JJ', 'NNS', 'CD', 'VBG', 'JJ']"
            ]
          },
          "metadata": {
            "tags": []
          },
          "execution_count": 20
        }
      ]
    },
    {
      "cell_type": "code",
      "metadata": {
        "colab": {
          "base_uri": "https://localhost:8080/",
          "height": 246
        },
        "id": "BTdghTG4O68M",
        "outputId": "a6fc5f10-6a00-4fef-d0bb-96d62b5ba8a6"
      },
      "source": [
        "from nltk.corpus import wordnet\n",
        "from nltk.stem import WordNetLemmatizer\n",
        "\n",
        "lemmatizer = WordNetLemmatizer()\n",
        "\n",
        "def get_wordnet_pos(word):\n",
        "  tag = nltk.pos_tag([word])[0][1][0].upper()\n",
        "  tag_dict = {\"J\": wordnet.ADJ,\n",
        "                \"N\": wordnet.NOUN,\n",
        "                \"V\": wordnet.VERB,\n",
        "                \"R\": wordnet.ADV}\n",
        "  return tag_dict.get(tag, wordnet.NOUN)\n",
        "\n",
        "def wordnet_pos_lemmatizer(text):\n",
        "  tokens = text.split()\n",
        "  new_tokens = [lemmatizer.lemmatize(word, get_wordnet_pos(word)) for word in tokens]\n",
        "  new_text = \" \".join(new_tokens)\n",
        "  return new_text\n",
        "\n",
        "df_[\"lemmatize2_sent\"] = df_[\"method2_text\"].apply(lambda text: wordnet_pos_lemmatizer(text))\n",
        "\n",
        "df_.head()"
      ],
      "execution_count": null,
      "outputs": [
        {
          "output_type": "execute_result",
          "data": {
            "text/html": [
              "<div>\n",
              "<style scoped>\n",
              "    .dataframe tbody tr th:only-of-type {\n",
              "        vertical-align: middle;\n",
              "    }\n",
              "\n",
              "    .dataframe tbody tr th {\n",
              "        vertical-align: top;\n",
              "    }\n",
              "\n",
              "    .dataframe thead th {\n",
              "        text-align: right;\n",
              "    }\n",
              "</style>\n",
              "<table border=\"1\" class=\"dataframe\">\n",
              "  <thead>\n",
              "    <tr style=\"text-align: right;\">\n",
              "      <th></th>\n",
              "      <th>tweet_id</th>\n",
              "      <th>new_text</th>\n",
              "      <th>method2_text</th>\n",
              "      <th>stem_text</th>\n",
              "      <th>lemmatize1_sent</th>\n",
              "      <th>lemmatize2_sent</th>\n",
              "    </tr>\n",
              "  </thead>\n",
              "  <tbody>\n",
              "    <tr>\n",
              "      <th>0</th>\n",
              "      <td>1</td>\n",
              "      <td>115712 understand would assist would need priv...</td>\n",
              "      <td>115712 understand would assist would need priv...</td>\n",
              "      <td>115712 understand would assist would need priv...</td>\n",
              "      <td>115712 understand would assist would need priv...</td>\n",
              "      <td>115712 understand would assist would need priv...</td>\n",
              "    </tr>\n",
              "    <tr>\n",
              "      <th>1</th>\n",
              "      <td>2</td>\n",
              "      <td>sprintcare propose</td>\n",
              "      <td>sprintcare propose</td>\n",
              "      <td>sprintcar propos</td>\n",
              "      <td>sprintcare propose</td>\n",
              "      <td>sprintcare propose</td>\n",
              "    </tr>\n",
              "    <tr>\n",
              "      <th>2</th>\n",
              "      <td>3</td>\n",
              "      <td>sprintcare sent several private messages one r...</td>\n",
              "      <td>sprintcare sent several private messages one r...</td>\n",
              "      <td>sprintcar sent sever privat messag one respond...</td>\n",
              "      <td>sprintcare sent several private message one re...</td>\n",
              "      <td>sprintcare sent several private message one re...</td>\n",
              "    </tr>\n",
              "    <tr>\n",
              "      <th>3</th>\n",
              "      <td>4</td>\n",
              "      <td>115712 send private message assist click ‘ mes...</td>\n",
              "      <td>115712 send private message assist click ‘ mes...</td>\n",
              "      <td>115712 send privat messag assist click ‘ messa...</td>\n",
              "      <td>115712 send private message assist click ‘ mes...</td>\n",
              "      <td>115712 send private message assist click ‘ mes...</td>\n",
              "    </tr>\n",
              "    <tr>\n",
              "      <th>4</th>\n",
              "      <td>5</td>\n",
              "      <td>sprintcare</td>\n",
              "      <td>sprintcare</td>\n",
              "      <td>sprintcar</td>\n",
              "      <td>sprintcare</td>\n",
              "      <td>sprintcare</td>\n",
              "    </tr>\n",
              "  </tbody>\n",
              "</table>\n",
              "</div>"
            ],
            "text/plain": [
              "   tweet_id  ...                                    lemmatize2_sent\n",
              "0         1  ...  115712 understand would assist would need priv...\n",
              "1         2  ...                                 sprintcare propose\n",
              "2         3  ...  sprintcare sent several private message one re...\n",
              "3         4  ...  115712 send private message assist click ‘ mes...\n",
              "4         5  ...                                         sprintcare\n",
              "\n",
              "[5 rows x 6 columns]"
            ]
          },
          "metadata": {
            "tags": []
          },
          "execution_count": 21
        }
      ]
    },
    {
      "cell_type": "code",
      "metadata": {
        "id": "pS5Kqlfw1rtc"
      },
      "source": [
        "df_save = df_.drop([\"new_text\", \"method2_text\", \"stem_text\", \"lemmatize1_sent\"], axis=1)\n",
        "df_save.to_csv(\"/content/drive/MyDrive/MTL782/cleaned.csv\", header=False)"
      ],
      "execution_count": null,
      "outputs": []
    },
    {
      "cell_type": "markdown",
      "metadata": {
        "id": "tpC56nSWRqte"
      },
      "source": [
        "### Removal of Emojis\n",
        "Emojis indicate strong emotions and should not be removed while doing **Sentiment Analysis**.\n",
        "\n",
        "Reference: [https://gist.github.com/slowkow/7a7f61f495e3dbb7e3d767f97bd7304b](https://gist.github.com/slowkow/7a7f61f495e3dbb7e3d767f97bd7304b)"
      ]
    },
    {
      "cell_type": "code",
      "metadata": {
        "colab": {
          "base_uri": "https://localhost:8080/",
          "height": 229
        },
        "id": "9pdeDk9sSGBb",
        "outputId": "aa70377a-f78c-451f-ca06-72a01ac61f11"
      },
      "source": [
        "try:\n",
        "  df_ = df_.drop([\"new_text\", \"method2_text\", \"stem_text\", \"lemmatize1_sent\"], axis = 1)\n",
        "  df_.columns = [\"text\"]\n",
        "except:\n",
        "    pass\n",
        "\n",
        "import re\n",
        "def remove_emoji(string):\n",
        "    emoji_pattern = re.compile(\"[\"\n",
        "                               u\"\\U0001F600-\\U0001F64F\"  # emoticons\n",
        "                               u\"\\U0001F300-\\U0001F5FF\"  # symbols & pictographs\n",
        "                               u\"\\U0001F680-\\U0001F6FF\"  # transport & map symbols\n",
        "                               u\"\\U0001F1E0-\\U0001F1FF\"  # flags (iOS)\n",
        "                               u\"\\U00002500-\\U00002BEF\"  # chinese char\n",
        "                               u\"\\U00002702-\\U000027B0\"\n",
        "                               u\"\\U00002702-\\U000027B0\"\n",
        "                               u\"\\U000024C2-\\U0001F251\"\n",
        "                               u\"\\U0001f926-\\U0001f937\"\n",
        "                               u\"\\U00010000-\\U0010ffff\"\n",
        "                               u\"\\u2640-\\u2642\"\n",
        "                               u\"\\u2600-\\u2B55\"\n",
        "                               u\"\\u200d\"\n",
        "                               u\"\\u23cf\"\n",
        "                               u\"\\u23e9\"\n",
        "                               u\"\\u231a\"\n",
        "                               u\"\\ufe0f\"  # dingbats\n",
        "                               u\"\\u3030\"\n",
        "                               \"]+\", flags=re.UNICODE)\n",
        "    return emoji_pattern.sub(r'', string)\n",
        "\n",
        "sent1 = \"game is on 🔥🔥\"\n",
        "sent2 = \"Hilarious😂\"\n",
        "\n",
        "print(remove_emoji(sent1))\n",
        "print(remove_emoji(sent2))\n",
        "\n",
        "df_.head()"
      ],
      "execution_count": null,
      "outputs": [
        {
          "output_type": "stream",
          "text": [
            "game is on \n",
            "Hilarious\n"
          ],
          "name": "stdout"
        },
        {
          "output_type": "execute_result",
          "data": {
            "text/html": [
              "<div>\n",
              "<style scoped>\n",
              "    .dataframe tbody tr th:only-of-type {\n",
              "        vertical-align: middle;\n",
              "    }\n",
              "\n",
              "    .dataframe tbody tr th {\n",
              "        vertical-align: top;\n",
              "    }\n",
              "\n",
              "    .dataframe thead th {\n",
              "        text-align: right;\n",
              "    }\n",
              "</style>\n",
              "<table border=\"1\" class=\"dataframe\">\n",
              "  <thead>\n",
              "    <tr style=\"text-align: right;\">\n",
              "      <th></th>\n",
              "      <th>tweet_id</th>\n",
              "      <th>lemmatize2_sent</th>\n",
              "    </tr>\n",
              "  </thead>\n",
              "  <tbody>\n",
              "    <tr>\n",
              "      <th>0</th>\n",
              "      <td>1</td>\n",
              "      <td>115712 understand would assist would need priv...</td>\n",
              "    </tr>\n",
              "    <tr>\n",
              "      <th>1</th>\n",
              "      <td>2</td>\n",
              "      <td>sprintcare propose</td>\n",
              "    </tr>\n",
              "    <tr>\n",
              "      <th>2</th>\n",
              "      <td>3</td>\n",
              "      <td>sprintcare sent several private message one re...</td>\n",
              "    </tr>\n",
              "    <tr>\n",
              "      <th>3</th>\n",
              "      <td>4</td>\n",
              "      <td>115712 send private message assist click ‘ mes...</td>\n",
              "    </tr>\n",
              "    <tr>\n",
              "      <th>4</th>\n",
              "      <td>5</td>\n",
              "      <td>sprintcare</td>\n",
              "    </tr>\n",
              "  </tbody>\n",
              "</table>\n",
              "</div>"
            ],
            "text/plain": [
              "   tweet_id                                    lemmatize2_sent\n",
              "0         1  115712 understand would assist would need priv...\n",
              "1         2                                 sprintcare propose\n",
              "2         3  sprintcare sent several private message one re...\n",
              "3         4  115712 send private message assist click ‘ mes...\n",
              "4         5                                         sprintcare"
            ]
          },
          "metadata": {
            "tags": []
          },
          "execution_count": 25
        }
      ]
    },
    {
      "cell_type": "code",
      "metadata": {
        "id": "DtBu1UZw8QHi"
      },
      "source": [
        "df_ = df_.rename(columns={\"lemmatize2_sent\":\"text\"})"
      ],
      "execution_count": null,
      "outputs": []
    },
    {
      "cell_type": "code",
      "metadata": {
        "colab": {
          "base_uri": "https://localhost:8080/",
          "height": 195
        },
        "id": "E5bQiQgKTv6q",
        "outputId": "4d315fc1-0fb2-491e-9708-2574ac2b40dc"
      },
      "source": [
        "df_[\"without_emoji_text\"] = df_[\"text\"].apply(lambda text: remove_emoji(text))\n",
        "\n",
        "df_.head()"
      ],
      "execution_count": null,
      "outputs": [
        {
          "output_type": "execute_result",
          "data": {
            "text/html": [
              "<div>\n",
              "<style scoped>\n",
              "    .dataframe tbody tr th:only-of-type {\n",
              "        vertical-align: middle;\n",
              "    }\n",
              "\n",
              "    .dataframe tbody tr th {\n",
              "        vertical-align: top;\n",
              "    }\n",
              "\n",
              "    .dataframe thead th {\n",
              "        text-align: right;\n",
              "    }\n",
              "</style>\n",
              "<table border=\"1\" class=\"dataframe\">\n",
              "  <thead>\n",
              "    <tr style=\"text-align: right;\">\n",
              "      <th></th>\n",
              "      <th>tweet_id</th>\n",
              "      <th>text</th>\n",
              "      <th>without_emoji_text</th>\n",
              "    </tr>\n",
              "  </thead>\n",
              "  <tbody>\n",
              "    <tr>\n",
              "      <th>0</th>\n",
              "      <td>1</td>\n",
              "      <td>115712 understand would assist would need priv...</td>\n",
              "      <td>115712 understand would assist would need priv...</td>\n",
              "    </tr>\n",
              "    <tr>\n",
              "      <th>1</th>\n",
              "      <td>2</td>\n",
              "      <td>sprintcare propose</td>\n",
              "      <td>sprintcare propose</td>\n",
              "    </tr>\n",
              "    <tr>\n",
              "      <th>2</th>\n",
              "      <td>3</td>\n",
              "      <td>sprintcare sent several private message one re...</td>\n",
              "      <td>sprintcare sent several private message one re...</td>\n",
              "    </tr>\n",
              "    <tr>\n",
              "      <th>3</th>\n",
              "      <td>4</td>\n",
              "      <td>115712 send private message assist click ‘ mes...</td>\n",
              "      <td>115712 send private message assist click ‘ mes...</td>\n",
              "    </tr>\n",
              "    <tr>\n",
              "      <th>4</th>\n",
              "      <td>5</td>\n",
              "      <td>sprintcare</td>\n",
              "      <td>sprintcare</td>\n",
              "    </tr>\n",
              "  </tbody>\n",
              "</table>\n",
              "</div>"
            ],
            "text/plain": [
              "   tweet_id  ...                                 without_emoji_text\n",
              "0         1  ...  115712 understand would assist would need priv...\n",
              "1         2  ...                                 sprintcare propose\n",
              "2         3  ...  sprintcare sent several private message one re...\n",
              "3         4  ...  115712 send private message assist click ‘ mes...\n",
              "4         5  ...                                         sprintcare\n",
              "\n",
              "[5 rows x 3 columns]"
            ]
          },
          "metadata": {
            "tags": []
          },
          "execution_count": 31
        }
      ]
    },
    {
      "cell_type": "code",
      "metadata": {
        "colab": {
          "base_uri": "https://localhost:8080/"
        },
        "id": "zvpojggqUcc8",
        "outputId": "66a1e97a-96a5-4f62-d6a0-d1eb74e4ce19"
      },
      "source": [
        "df_[\"text\"][1].split()"
      ],
      "execution_count": null,
      "outputs": [
        {
          "output_type": "execute_result",
          "data": {
            "text/plain": [
              "['sprintcare', 'propose']"
            ]
          },
          "metadata": {
            "tags": []
          },
          "execution_count": 32
        }
      ]
    },
    {
      "cell_type": "markdown",
      "metadata": {
        "id": "61gzJaW7UoFW"
      },
      "source": [
        "### Removal of Emoticons\n",
        "This is not recommended while performing **Sentiment Analysis**.\n",
        "\n",
        "Reference: [https://github.com/NeelShah18/emot/blob/master/emot/emo_unicode.py](https://github.com/NeelShah18/emot/blob/master/emot/emo_unicode.py)"
      ]
    },
    {
      "cell_type": "code",
      "metadata": {
        "colab": {
          "base_uri": "https://localhost:8080/"
        },
        "id": "0z3VBs6Eb2oT",
        "outputId": "a6bd8950-8052-4cd5-f5b8-31f2ba0a412e"
      },
      "source": [
        "import urllib.request\n",
        "url = \"https://raw.githubusercontent.com/NeelShah18/emot/master/emot/emo_unicode.py\"\n",
        "print (\"download start!\")\n",
        "filename, headers = urllib.request.urlretrieve(url, filename=\"emo_unicode.py\")\n",
        "print (\"download complete!\")\n",
        "print (\"download file location: \", filename)\n",
        "print (\"download headers: \", headers)"
      ],
      "execution_count": null,
      "outputs": [
        {
          "output_type": "stream",
          "text": [
            "download start!\n",
            "download complete!\n",
            "download file location:  emo_unicode.py\n",
            "download headers:  Connection: close\n",
            "Content-Length: 159798\n",
            "Cache-Control: max-age=300\n",
            "Content-Security-Policy: default-src 'none'; style-src 'unsafe-inline'; sandbox\n",
            "Content-Type: text/plain; charset=utf-8\n",
            "ETag: \"3766f28b9a7a01d906936d2a024907f16d38aa1ae10d20e1a6e662b2bbfac90f\"\n",
            "Strict-Transport-Security: max-age=31536000\n",
            "X-Content-Type-Options: nosniff\n",
            "X-Frame-Options: deny\n",
            "X-XSS-Protection: 1; mode=block\n",
            "X-GitHub-Request-Id: 73CC:6CA3:3C1D7A:502E35:606870FD\n",
            "Accept-Ranges: bytes\n",
            "Date: Sat, 03 Apr 2021 13:43:25 GMT\n",
            "Via: 1.1 varnish\n",
            "X-Served-By: cache-hkg17923-HKG\n",
            "X-Cache: MISS\n",
            "X-Cache-Hits: 0\n",
            "X-Timer: S1617457406.536506,VS0,VE311\n",
            "Vary: Authorization,Accept-Encoding\n",
            "Access-Control-Allow-Origin: *\n",
            "X-Fastly-Request-ID: e3f83f6c5e571f2cee030481493b5e5097d2ec6d\n",
            "Expires: Sat, 03 Apr 2021 13:48:25 GMT\n",
            "Source-Age: 0\n",
            "\n",
            "\n"
          ],
          "name": "stdout"
        }
      ]
    },
    {
      "cell_type": "code",
      "metadata": {
        "id": "bJ-fHWYocFsu"
      },
      "source": [
        "from emo_unicode import EMOTICONS"
      ],
      "execution_count": null,
      "outputs": []
    },
    {
      "cell_type": "code",
      "metadata": {
        "colab": {
          "base_uri": "https://localhost:8080/"
        },
        "id": "96jxVlnuV-o2",
        "outputId": "1605f5eb-f340-4224-9b0c-d7e0a7bcf06d"
      },
      "source": [
        "def remove_emoticons(text):\n",
        "  emoticon_pattern = re.compile(u'(' + u'|'.join(k for k in EMOTICONS) + u')')\n",
        "  return emoticon_pattern.sub(r'', text)\n",
        "\n",
        "print(remove_emoticons(\"Hello :-)\"))"
      ],
      "execution_count": null,
      "outputs": [
        {
          "output_type": "stream",
          "text": [
            "Hello \n"
          ],
          "name": "stdout"
        }
      ]
    },
    {
      "cell_type": "code",
      "metadata": {
        "colab": {
          "base_uri": "https://localhost:8080/",
          "height": 195
        },
        "id": "s5jCRj4Jgxh7",
        "outputId": "6afacd90-5936-4ed7-854c-7713003edfaa"
      },
      "source": [
        "df_[\"without_emoticons_text\"] = df_[\"text\"].apply(lambda text: remove_emoticons(text))\n",
        "\n",
        "df_.head()"
      ],
      "execution_count": null,
      "outputs": [
        {
          "output_type": "execute_result",
          "data": {
            "text/html": [
              "<div>\n",
              "<style scoped>\n",
              "    .dataframe tbody tr th:only-of-type {\n",
              "        vertical-align: middle;\n",
              "    }\n",
              "\n",
              "    .dataframe tbody tr th {\n",
              "        vertical-align: top;\n",
              "    }\n",
              "\n",
              "    .dataframe thead th {\n",
              "        text-align: right;\n",
              "    }\n",
              "</style>\n",
              "<table border=\"1\" class=\"dataframe\">\n",
              "  <thead>\n",
              "    <tr style=\"text-align: right;\">\n",
              "      <th></th>\n",
              "      <th>text</th>\n",
              "      <th>without_emoji_text</th>\n",
              "      <th>without_emoticons_text</th>\n",
              "    </tr>\n",
              "  </thead>\n",
              "  <tbody>\n",
              "    <tr>\n",
              "      <th>0</th>\n",
              "      <td>161252 whats egg website people talk</td>\n",
              "      <td>161252 whats egg website people talk</td>\n",
              "      <td>161252 whats egg website people talk</td>\n",
              "    </tr>\n",
              "    <tr>\n",
              "      <th>1</th>\n",
              "      <td>why🤷🏻‍♀️ ios11 applesupport httpstcobxrvfeixxq</td>\n",
              "      <td>why ios11 applesupport httpstcobxrvfeixxq</td>\n",
              "      <td>why🤷🏻‍♀️ ios11 applesupport httpstcobxrvfeixxq</td>\n",
              "    </tr>\n",
              "    <tr>\n",
              "      <th>2</th>\n",
              "      <td>693975 assist recommend update io 1111 havent ...</td>\n",
              "      <td>693975 assist recommend update io 1111 havent ...</td>\n",
              "      <td>693975 assist recommend update io 1111 havent ...</td>\n",
              "    </tr>\n",
              "    <tr>\n",
              "      <th>3</th>\n",
              "      <td>331912 115955 thats well unstable connection d...</td>\n",
              "      <td>331912 115955 thats well unstable connection d...</td>\n",
              "      <td>331912 115955 thats well unstable connection d...</td>\n",
              "    </tr>\n",
              "    <tr>\n",
              "      <th>4</th>\n",
              "      <td>virginamerica probably one best airline ive ev...</td>\n",
              "      <td>virginamerica probably one best airline ive ev...</td>\n",
              "      <td>virginamerica probably one best airline ive ev...</td>\n",
              "    </tr>\n",
              "  </tbody>\n",
              "</table>\n",
              "</div>"
            ],
            "text/plain": [
              "                                                text  ...                             without_emoticons_text\n",
              "0               161252 whats egg website people talk  ...               161252 whats egg website people talk\n",
              "1     why🤷🏻‍♀️ ios11 applesupport httpstcobxrvfeixxq  ...     why🤷🏻‍♀️ ios11 applesupport httpstcobxrvfeixxq\n",
              "2  693975 assist recommend update io 1111 havent ...  ...  693975 assist recommend update io 1111 havent ...\n",
              "3  331912 115955 thats well unstable connection d...  ...  331912 115955 thats well unstable connection d...\n",
              "4  virginamerica probably one best airline ive ev...  ...  virginamerica probably one best airline ive ev...\n",
              "\n",
              "[5 rows x 3 columns]"
            ]
          },
          "metadata": {
            "tags": []
          },
          "execution_count": 29
        }
      ]
    },
    {
      "cell_type": "markdown",
      "metadata": {
        "id": "sy7tmPfBhHK6"
      },
      "source": [
        "### Conversion of Emoticons to words\n",
        "It is better to convert emoticons to words to prevent loss of emotion data."
      ]
    },
    {
      "cell_type": "code",
      "metadata": {
        "id": "huW0J-SzBM61"
      },
      "source": [
        "import re\n"
      ],
      "execution_count": null,
      "outputs": []
    },
    {
      "cell_type": "code",
      "metadata": {
        "colab": {
          "base_uri": "https://localhost:8080/",
          "height": 35
        },
        "id": "Yh1xPTt-h9KE",
        "outputId": "fbf17933-a06d-4d69-9eb1-6c474633fb54"
      },
      "source": [
        "def convert_emoticons(text):\n",
        "  for emot in EMOTICONS:\n",
        "    text = re.sub(u'('+emot+')', \"_\".join(EMOTICONS[emot].replace(\",\", \"\").split()), text)\n",
        "  return text\n",
        "\n",
        "text = \"Hello :-) :-)\"\n",
        "convert_emoticons(text)\n"
      ],
      "execution_count": null,
      "outputs": [
        {
          "output_type": "execute_result",
          "data": {
            "application/vnd.google.colaboratory.intrinsic+json": {
              "type": "string"
            },
            "text/plain": [
              "'Hello Happy_face_smiley Happy_face_smiley'"
            ]
          },
          "metadata": {
            "tags": []
          },
          "execution_count": 37
        }
      ]
    },
    {
      "cell_type": "code",
      "metadata": {
        "colab": {
          "base_uri": "https://localhost:8080/",
          "height": 195
        },
        "id": "W3VIIPeri3Ik",
        "outputId": "7ececa1c-96f3-4c7d-856b-9acea471b815"
      },
      "source": [
        "df_.head()"
      ],
      "execution_count": null,
      "outputs": [
        {
          "output_type": "execute_result",
          "data": {
            "text/html": [
              "<div>\n",
              "<style scoped>\n",
              "    .dataframe tbody tr th:only-of-type {\n",
              "        vertical-align: middle;\n",
              "    }\n",
              "\n",
              "    .dataframe tbody tr th {\n",
              "        vertical-align: top;\n",
              "    }\n",
              "\n",
              "    .dataframe thead th {\n",
              "        text-align: right;\n",
              "    }\n",
              "</style>\n",
              "<table border=\"1\" class=\"dataframe\">\n",
              "  <thead>\n",
              "    <tr style=\"text-align: right;\">\n",
              "      <th></th>\n",
              "      <th>tweet_id</th>\n",
              "      <th>text</th>\n",
              "      <th>without_emoji_text</th>\n",
              "    </tr>\n",
              "  </thead>\n",
              "  <tbody>\n",
              "    <tr>\n",
              "      <th>0</th>\n",
              "      <td>1</td>\n",
              "      <td>115712 understand would assist would need priv...</td>\n",
              "      <td>115712 understand would assist would need priv...</td>\n",
              "    </tr>\n",
              "    <tr>\n",
              "      <th>1</th>\n",
              "      <td>2</td>\n",
              "      <td>sprintcare propose</td>\n",
              "      <td>sprintcare propose</td>\n",
              "    </tr>\n",
              "    <tr>\n",
              "      <th>2</th>\n",
              "      <td>3</td>\n",
              "      <td>sprintcare sent several private message one re...</td>\n",
              "      <td>sprintcare sent several private message one re...</td>\n",
              "    </tr>\n",
              "    <tr>\n",
              "      <th>3</th>\n",
              "      <td>4</td>\n",
              "      <td>115712 send private message assist click ‘ mes...</td>\n",
              "      <td>115712 send private message assist click ‘ mes...</td>\n",
              "    </tr>\n",
              "    <tr>\n",
              "      <th>4</th>\n",
              "      <td>5</td>\n",
              "      <td>sprintcare</td>\n",
              "      <td>sprintcare</td>\n",
              "    </tr>\n",
              "  </tbody>\n",
              "</table>\n",
              "</div>"
            ],
            "text/plain": [
              "   tweet_id  ...                                 without_emoji_text\n",
              "0         1  ...  115712 understand would assist would need priv...\n",
              "1         2  ...                                 sprintcare propose\n",
              "2         3  ...  sprintcare sent several private message one re...\n",
              "3         4  ...  115712 send private message assist click ‘ mes...\n",
              "4         5  ...                                         sprintcare\n",
              "\n",
              "[5 rows x 3 columns]"
            ]
          },
          "metadata": {
            "tags": []
          },
          "execution_count": 38
        }
      ]
    },
    {
      "cell_type": "code",
      "metadata": {
        "colab": {
          "base_uri": "https://localhost:8080/",
          "height": 296
        },
        "id": "3SsJDooKkiM4",
        "outputId": "6509b1ef-d49f-44b9-8fd6-56ac9289900b"
      },
      "source": [
        "try:\n",
        "  df_ = df_.drop([\"without_emoji_text\", \"without_emoticons_text\"], axis=1)\n",
        "except:\n",
        "  pass\n",
        "\n",
        "df_['emoticons_converted_text'] = df_[\"text\"].apply(lambda text: convert_emoticons(text))\n",
        "\n",
        "df_.head()"
      ],
      "execution_count": null,
      "outputs": [
        {
          "output_type": "execute_result",
          "data": {
            "text/html": [
              "<div>\n",
              "<style scoped>\n",
              "    .dataframe tbody tr th:only-of-type {\n",
              "        vertical-align: middle;\n",
              "    }\n",
              "\n",
              "    .dataframe tbody tr th {\n",
              "        vertical-align: top;\n",
              "    }\n",
              "\n",
              "    .dataframe thead th {\n",
              "        text-align: right;\n",
              "    }\n",
              "</style>\n",
              "<table border=\"1\" class=\"dataframe\">\n",
              "  <thead>\n",
              "    <tr style=\"text-align: right;\">\n",
              "      <th></th>\n",
              "      <th>tweet_id</th>\n",
              "      <th>text</th>\n",
              "      <th>without_emoji_text</th>\n",
              "      <th>emoticons_converted_text</th>\n",
              "    </tr>\n",
              "  </thead>\n",
              "  <tbody>\n",
              "    <tr>\n",
              "      <th>0</th>\n",
              "      <td>1</td>\n",
              "      <td>115712 understand would assist would need priv...</td>\n",
              "      <td>115712 understand would assist would need priv...</td>\n",
              "      <td>115712 understand would assist would need priv...</td>\n",
              "    </tr>\n",
              "    <tr>\n",
              "      <th>1</th>\n",
              "      <td>2</td>\n",
              "      <td>sprintcare propose</td>\n",
              "      <td>sprintcare propose</td>\n",
              "      <td>sprintcare propose</td>\n",
              "    </tr>\n",
              "    <tr>\n",
              "      <th>2</th>\n",
              "      <td>3</td>\n",
              "      <td>sprintcare sent several private message one re...</td>\n",
              "      <td>sprintcare sent several private message one re...</td>\n",
              "      <td>sprintcare sent several private message one re...</td>\n",
              "    </tr>\n",
              "    <tr>\n",
              "      <th>3</th>\n",
              "      <td>4</td>\n",
              "      <td>115712 send private message assist click ‘ mes...</td>\n",
              "      <td>115712 send private message assist click ‘ mes...</td>\n",
              "      <td>115712 send private message assist click ‘ mes...</td>\n",
              "    </tr>\n",
              "    <tr>\n",
              "      <th>4</th>\n",
              "      <td>5</td>\n",
              "      <td>sprintcare</td>\n",
              "      <td>sprintcare</td>\n",
              "      <td>sprintcare</td>\n",
              "    </tr>\n",
              "  </tbody>\n",
              "</table>\n",
              "</div>"
            ],
            "text/plain": [
              "   tweet_id  ...                           emoticons_converted_text\n",
              "0         1  ...  115712 understand would assist would need priv...\n",
              "1         2  ...                                 sprintcare propose\n",
              "2         3  ...  sprintcare sent several private message one re...\n",
              "3         4  ...  115712 send private message assist click ‘ mes...\n",
              "4         5  ...                                         sprintcare\n",
              "\n",
              "[5 rows x 4 columns]"
            ]
          },
          "metadata": {
            "tags": []
          },
          "execution_count": 39
        }
      ]
    },
    {
      "cell_type": "markdown",
      "metadata": {
        "id": "1BWk9wCpk9DW"
      },
      "source": [
        "### Conversion of Emojis to Words"
      ]
    },
    {
      "cell_type": "code",
      "metadata": {
        "id": "qpQZrvozlLEO"
      },
      "source": [
        "from emo_unicode import UNICODE_EMO"
      ],
      "execution_count": null,
      "outputs": []
    },
    {
      "cell_type": "code",
      "metadata": {
        "colab": {
          "base_uri": "https://localhost:8080/"
        },
        "id": "SwrPKQJ4lDJu",
        "outputId": "71a9b03c-7ab8-4f89-bbbb-8dafe022e94f"
      },
      "source": [
        "def convert_emojis(text):\n",
        "  for emot in UNICODE_EMO:\n",
        "    # NOTE: There is some Python bug related to the use of '*' in regular expressions.\n",
        "    try:\n",
        "      text = re.sub(r'('+emot+')', \"_\".join(UNICODE_EMO[emot].replace(\",\",\"\").replace(\":\",\"\").split()), text)\n",
        "    except:\n",
        "      pass\n",
        "  return text\n",
        "\n",
        "text1 = \"game is on 🔥\"\n",
        "print(convert_emojis(text1))\n",
        "\n",
        "text2 = \"Hilarious 😂\"\n",
        "print(convert_emojis(text2))"
      ],
      "execution_count": null,
      "outputs": [
        {
          "output_type": "stream",
          "text": [
            "game is on fire\n",
            "Hilarious face_with_tears_of_joy\n"
          ],
          "name": "stdout"
        }
      ]
    },
    {
      "cell_type": "code",
      "metadata": {
        "id": "X5JA7YyXpjc8"
      },
      "source": [
        "df_[\"emoji_converted_text\"] = df_[\"emoticons_converted_text\"].apply(lambda text: convert_emojis(text))\n",
        "df_.head()"
      ],
      "execution_count": null,
      "outputs": []
    },
    {
      "cell_type": "markdown",
      "metadata": {
        "id": "gLv36XyGP7qg"
      },
      "source": [
        "#### **NOTE:** There may be some ISSUE with the above method."
      ]
    },
    {
      "cell_type": "markdown",
      "metadata": {
        "id": "lgO8XS3bDGcO"
      },
      "source": [
        "### Use of Regular Expressions for removal of URLs, HTML tags, Phone numbers, Email IDs etc\n",
        "\n"
      ]
    },
    {
      "cell_type": "code",
      "metadata": {
        "id": "_D2qKDw3DZrD"
      },
      "source": [
        "def cleaning_text(text):\n",
        "\n",
        "  # remove HTML tags\n",
        "  text = re.sub(r'<.*?>', '', text)\n",
        "  \n",
        "  # removing [\\], ['], [\"]\n",
        "  text = re.sub(r'\\\\', \"\", text)\n",
        "  text = re.sub(r\"\\'\", \"\", text)\n",
        "  text = re.sub(r\"\\\"\", \"\", text)\n",
        "\n",
        "  # removing dates with slashes\n",
        "  text = re.sub(\"\\d{1,2}\\/\\d{1,2}\\/\\d{2,4}\", \"\", text)\n",
        "\n",
        "  # removing dates with dashes\n",
        "  text = re.sub(\"\\d{1,2}-\\d{1,2}-\\d{2,4}\", \"\", text)\n",
        "\n",
        "  # removing URLs\n",
        "  text = re.sub(\"((http:\\/\\/www\\.)|(www\\.)|(http:\\/\\/))[a-zA-Z0-9._-]+\\.[a-zA-Z.]{2,5}\", \"\", text)\n",
        "\n",
        "  # removing email IDs from the text\n",
        "  text = re.sub(\"\\w+@[a-zA-Z_]+?\\.[a-zA-Z]{2,3}\", \"\", text)\n",
        "\n",
        "  # replace punctuation characters with spaces\n",
        "  filters='!\"\\'#$%&()*+,-./:;<=>?@[\\\\]^_`{|}~\\t\\n'\n",
        "  translate_dict = dict((c, \"\") for c in filters)\n",
        "  \n",
        "  # print(translate_dict)\n",
        "  translate_map = str.maketrans(translate_dict)\n",
        "    \n",
        "  # print(translate_map)\n",
        "  text = text.translate(translate_map)\n",
        "    \n",
        "  return text\n"
      ],
      "execution_count": null,
      "outputs": []
    },
    {
      "cell_type": "markdown",
      "metadata": {
        "id": "ht6bBUOyFNSJ"
      },
      "source": [
        "#### Case 1"
      ]
    },
    {
      "cell_type": "code",
      "metadata": {
        "colab": {
          "base_uri": "https://localhost:8080/",
          "height": 246
        },
        "id": "wTYirDYREFV0",
        "outputId": "be76ce95-2ab7-4432-c8fc-27b9efda9502"
      },
      "source": [
        "df_[\"cleaned_text\"] = df_[\"emoticons_converted_text\"].apply(lambda text: cleaning_text(text))\n",
        "df_.head()"
      ],
      "execution_count": null,
      "outputs": [
        {
          "output_type": "execute_result",
          "data": {
            "text/html": [
              "<div>\n",
              "<style scoped>\n",
              "    .dataframe tbody tr th:only-of-type {\n",
              "        vertical-align: middle;\n",
              "    }\n",
              "\n",
              "    .dataframe tbody tr th {\n",
              "        vertical-align: top;\n",
              "    }\n",
              "\n",
              "    .dataframe thead th {\n",
              "        text-align: right;\n",
              "    }\n",
              "</style>\n",
              "<table border=\"1\" class=\"dataframe\">\n",
              "  <thead>\n",
              "    <tr style=\"text-align: right;\">\n",
              "      <th></th>\n",
              "      <th>tweet_id</th>\n",
              "      <th>text</th>\n",
              "      <th>without_emoji_text</th>\n",
              "      <th>emoticons_converted_text</th>\n",
              "      <th>cleaned_text</th>\n",
              "    </tr>\n",
              "  </thead>\n",
              "  <tbody>\n",
              "    <tr>\n",
              "      <th>0</th>\n",
              "      <td>1</td>\n",
              "      <td>115712 understand would assist would need priv...</td>\n",
              "      <td>115712 understand would assist would need priv...</td>\n",
              "      <td>115712 understand would assist would need priv...</td>\n",
              "      <td>115712 understand would assist would need priv...</td>\n",
              "    </tr>\n",
              "    <tr>\n",
              "      <th>1</th>\n",
              "      <td>2</td>\n",
              "      <td>sprintcare propose</td>\n",
              "      <td>sprintcare propose</td>\n",
              "      <td>sprintcare propose</td>\n",
              "      <td>sprintcare propose</td>\n",
              "    </tr>\n",
              "    <tr>\n",
              "      <th>2</th>\n",
              "      <td>3</td>\n",
              "      <td>sprintcare sent several private message one re...</td>\n",
              "      <td>sprintcare sent several private message one re...</td>\n",
              "      <td>sprintcare sent several private message one re...</td>\n",
              "      <td>sprintcare sent several private message one re...</td>\n",
              "    </tr>\n",
              "    <tr>\n",
              "      <th>3</th>\n",
              "      <td>4</td>\n",
              "      <td>115712 send private message assist click ‘ mes...</td>\n",
              "      <td>115712 send private message assist click ‘ mes...</td>\n",
              "      <td>115712 send private message assist click ‘ mes...</td>\n",
              "      <td>115712 send private message assist click ‘ mes...</td>\n",
              "    </tr>\n",
              "    <tr>\n",
              "      <th>4</th>\n",
              "      <td>5</td>\n",
              "      <td>sprintcare</td>\n",
              "      <td>sprintcare</td>\n",
              "      <td>sprintcare</td>\n",
              "      <td>sprintcare</td>\n",
              "    </tr>\n",
              "  </tbody>\n",
              "</table>\n",
              "</div>"
            ],
            "text/plain": [
              "   tweet_id  ...                                       cleaned_text\n",
              "0         1  ...  115712 understand would assist would need priv...\n",
              "1         2  ...                                 sprintcare propose\n",
              "2         3  ...  sprintcare sent several private message one re...\n",
              "3         4  ...  115712 send private message assist click ‘ mes...\n",
              "4         5  ...                                         sprintcare\n",
              "\n",
              "[5 rows x 5 columns]"
            ]
          },
          "metadata": {
            "tags": []
          },
          "execution_count": 41
        }
      ]
    },
    {
      "cell_type": "code",
      "metadata": {
        "colab": {
          "base_uri": "https://localhost:8080/",
          "height": 195
        },
        "id": "mQHX5eeNEvou",
        "outputId": "c6919002-68a5-471b-b534-02cfe09c1203"
      },
      "source": [
        "try:\n",
        "    df_ = df_.drop([\"text\", \"emoticons_converted_text\", \"without_emoji_text\"], axis = 1)\n",
        "except: \n",
        "    pass \n",
        "\n",
        "df_.head()"
      ],
      "execution_count": null,
      "outputs": [
        {
          "output_type": "execute_result",
          "data": {
            "text/html": [
              "<div>\n",
              "<style scoped>\n",
              "    .dataframe tbody tr th:only-of-type {\n",
              "        vertical-align: middle;\n",
              "    }\n",
              "\n",
              "    .dataframe tbody tr th {\n",
              "        vertical-align: top;\n",
              "    }\n",
              "\n",
              "    .dataframe thead th {\n",
              "        text-align: right;\n",
              "    }\n",
              "</style>\n",
              "<table border=\"1\" class=\"dataframe\">\n",
              "  <thead>\n",
              "    <tr style=\"text-align: right;\">\n",
              "      <th></th>\n",
              "      <th>tweet_id</th>\n",
              "      <th>cleaned_text</th>\n",
              "    </tr>\n",
              "  </thead>\n",
              "  <tbody>\n",
              "    <tr>\n",
              "      <th>0</th>\n",
              "      <td>1</td>\n",
              "      <td>115712 understand would assist would need priv...</td>\n",
              "    </tr>\n",
              "    <tr>\n",
              "      <th>1</th>\n",
              "      <td>2</td>\n",
              "      <td>sprintcare propose</td>\n",
              "    </tr>\n",
              "    <tr>\n",
              "      <th>2</th>\n",
              "      <td>3</td>\n",
              "      <td>sprintcare sent several private message one re...</td>\n",
              "    </tr>\n",
              "    <tr>\n",
              "      <th>3</th>\n",
              "      <td>4</td>\n",
              "      <td>115712 send private message assist click ‘ mes...</td>\n",
              "    </tr>\n",
              "    <tr>\n",
              "      <th>4</th>\n",
              "      <td>5</td>\n",
              "      <td>sprintcare</td>\n",
              "    </tr>\n",
              "  </tbody>\n",
              "</table>\n",
              "</div>"
            ],
            "text/plain": [
              "   tweet_id                                       cleaned_text\n",
              "0         1  115712 understand would assist would need priv...\n",
              "1         2                                 sprintcare propose\n",
              "2         3  sprintcare sent several private message one re...\n",
              "3         4  115712 send private message assist click ‘ mes...\n",
              "4         5                                         sprintcare"
            ]
          },
          "metadata": {
            "tags": []
          },
          "execution_count": 42
        }
      ]
    },
    {
      "cell_type": "code",
      "metadata": {
        "id": "b0aKY3RPFsM3"
      },
      "source": [
        "df_.to_csv(\"/content/drive/MyDrive/MTL782/cleaned_ver2.csv\", header=False)"
      ],
      "execution_count": null,
      "outputs": []
    },
    {
      "cell_type": "markdown",
      "metadata": {
        "id": "JR22JoigFV1J"
      },
      "source": [
        "#### Case 2"
      ]
    },
    {
      "cell_type": "code",
      "metadata": {
        "colab": {
          "base_uri": "https://localhost:8080/",
          "height": 279
        },
        "id": "zkSJXLrdI95P",
        "outputId": "5df3a3f8-b5b9-43d4-c59d-29cd97e497ac"
      },
      "source": [
        "df_[\"cleaned_text\"] = df_[\"emoji_converted_text\"].apply(lambda text: cleaning_text(text))\n",
        "df_.head()"
      ],
      "execution_count": null,
      "outputs": [
        {
          "output_type": "execute_result",
          "data": {
            "text/html": [
              "<div>\n",
              "<style scoped>\n",
              "    .dataframe tbody tr th:only-of-type {\n",
              "        vertical-align: middle;\n",
              "    }\n",
              "\n",
              "    .dataframe tbody tr th {\n",
              "        vertical-align: top;\n",
              "    }\n",
              "\n",
              "    .dataframe thead th {\n",
              "        text-align: right;\n",
              "    }\n",
              "</style>\n",
              "<table border=\"1\" class=\"dataframe\">\n",
              "  <thead>\n",
              "    <tr style=\"text-align: right;\">\n",
              "      <th></th>\n",
              "      <th>text</th>\n",
              "      <th>emoticons_converted_text</th>\n",
              "      <th>emoji_converted_text</th>\n",
              "      <th>cleaned_text</th>\n",
              "    </tr>\n",
              "  </thead>\n",
              "  <tbody>\n",
              "    <tr>\n",
              "      <th>0</th>\n",
              "      <td>161252 whats egg website people talk</td>\n",
              "      <td>161252 whats egg website people talk</td>\n",
              "      <td>161252 whats egg website people talk</td>\n",
              "      <td>161252 whats egg website people talk</td>\n",
              "    </tr>\n",
              "    <tr>\n",
              "      <th>1</th>\n",
              "      <td>why🤷🏻‍♀️ ios11 applesupport httpstcobxrvfeixxq</td>\n",
              "      <td>why🤷🏻‍♀️ ios11 applesupport httpstcobxrvfeixxq</td>\n",
              "      <td>whyperson_shrugginglight_skin_tone‍female_sign...</td>\n",
              "      <td>whypersonshrugginglightskintone‍femalesign️ io...</td>\n",
              "    </tr>\n",
              "    <tr>\n",
              "      <th>2</th>\n",
              "      <td>693975 assist recommend update io 1111 havent ...</td>\n",
              "      <td>693975 assist recommend update io 1111 havent ...</td>\n",
              "      <td>693975 assist recommend update io 1111 havent ...</td>\n",
              "      <td>693975 assist recommend update io 1111 havent ...</td>\n",
              "    </tr>\n",
              "    <tr>\n",
              "      <th>3</th>\n",
              "      <td>331912 115955 thats well unstable connection d...</td>\n",
              "      <td>331912 115955 thats well unstable connection d...</td>\n",
              "      <td>331912 115955 thats well unstable connection d...</td>\n",
              "      <td>331912 115955 thats well unstable connection d...</td>\n",
              "    </tr>\n",
              "    <tr>\n",
              "      <th>4</th>\n",
              "      <td>virginamerica probably one best airline ive ev...</td>\n",
              "      <td>virginamerica probably one best airline ive ev...</td>\n",
              "      <td>virginamerica probably one best airline ive ev...</td>\n",
              "      <td>virginamerica probably one best airline ive ev...</td>\n",
              "    </tr>\n",
              "  </tbody>\n",
              "</table>\n",
              "</div>"
            ],
            "text/plain": [
              "                                                text  ...                                       cleaned_text\n",
              "0               161252 whats egg website people talk  ...               161252 whats egg website people talk\n",
              "1     why🤷🏻‍♀️ ios11 applesupport httpstcobxrvfeixxq  ...  whypersonshrugginglightskintone‍femalesign️ io...\n",
              "2  693975 assist recommend update io 1111 havent ...  ...  693975 assist recommend update io 1111 havent ...\n",
              "3  331912 115955 thats well unstable connection d...  ...  331912 115955 thats well unstable connection d...\n",
              "4  virginamerica probably one best airline ive ev...  ...  virginamerica probably one best airline ive ev...\n",
              "\n",
              "[5 rows x 4 columns]"
            ]
          },
          "metadata": {
            "tags": []
          },
          "execution_count": 37
        }
      ]
    },
    {
      "cell_type": "code",
      "metadata": {
        "colab": {
          "base_uri": "https://localhost:8080/",
          "height": 195
        },
        "id": "8nPs_uGlJPwZ",
        "outputId": "16da8182-6c5c-4e97-bdca-bfadd20c64f2"
      },
      "source": [
        "try:\n",
        "    df_ = df_.drop([\"text\", \"emoticons_converted_text\", \"emoji_converted_text\"], axis = 1)\n",
        "except: \n",
        "    pass \n",
        "\n",
        "df_.head()"
      ],
      "execution_count": null,
      "outputs": [
        {
          "output_type": "execute_result",
          "data": {
            "text/html": [
              "<div>\n",
              "<style scoped>\n",
              "    .dataframe tbody tr th:only-of-type {\n",
              "        vertical-align: middle;\n",
              "    }\n",
              "\n",
              "    .dataframe tbody tr th {\n",
              "        vertical-align: top;\n",
              "    }\n",
              "\n",
              "    .dataframe thead th {\n",
              "        text-align: right;\n",
              "    }\n",
              "</style>\n",
              "<table border=\"1\" class=\"dataframe\">\n",
              "  <thead>\n",
              "    <tr style=\"text-align: right;\">\n",
              "      <th></th>\n",
              "      <th>cleaned_text</th>\n",
              "    </tr>\n",
              "  </thead>\n",
              "  <tbody>\n",
              "    <tr>\n",
              "      <th>0</th>\n",
              "      <td>161252 whats egg website people talk</td>\n",
              "    </tr>\n",
              "    <tr>\n",
              "      <th>1</th>\n",
              "      <td>whypersonshrugginglightskintone‍femalesign️ io...</td>\n",
              "    </tr>\n",
              "    <tr>\n",
              "      <th>2</th>\n",
              "      <td>693975 assist recommend update io 1111 havent ...</td>\n",
              "    </tr>\n",
              "    <tr>\n",
              "      <th>3</th>\n",
              "      <td>331912 115955 thats well unstable connection d...</td>\n",
              "    </tr>\n",
              "    <tr>\n",
              "      <th>4</th>\n",
              "      <td>virginamerica probably one best airline ive ev...</td>\n",
              "    </tr>\n",
              "  </tbody>\n",
              "</table>\n",
              "</div>"
            ],
            "text/plain": [
              "                                        cleaned_text\n",
              "0               161252 whats egg website people talk\n",
              "1  whypersonshrugginglightskintone‍femalesign️ io...\n",
              "2  693975 assist recommend update io 1111 havent ...\n",
              "3  331912 115955 thats well unstable connection d...\n",
              "4  virginamerica probably one best airline ive ev..."
            ]
          },
          "metadata": {
            "tags": []
          },
          "execution_count": 38
        }
      ]
    },
    {
      "cell_type": "markdown",
      "metadata": {
        "id": "8_AgRphWJ50l"
      },
      "source": [
        "### Chat Word Conversion\n",
        "Slang words commonly used in chats are converted to proper English"
      ]
    },
    {
      "cell_type": "markdown",
      "metadata": {
        "id": "iMqQwf3mVCmb"
      },
      "source": [
        "#### **NOTE:** If you download the file again, then you'll have to change the lines that contain 'ILU' and 'QPSA'."
      ]
    },
    {
      "cell_type": "code",
      "metadata": {
        "colab": {
          "base_uri": "https://localhost:8080/"
        },
        "id": "-N_COqxAOqMq",
        "outputId": "318a238c-a39e-4447-e0fd-a67bd208fb29"
      },
      "source": [
        "import urllib.request\n",
        "url = \"https://raw.githubusercontent.com/rishabhverma17/sms_slang_translator/master/slang.txt\"\n",
        "print (\"download start!\")\n",
        "filename, headers = urllib.request.urlretrieve(url, filename=\"slang.txt\")\n",
        "print (\"download complete!\")\n",
        "print (\"download file location: \", filename)\n",
        "print (\"download headers: \", headers)"
      ],
      "execution_count": null,
      "outputs": [
        {
          "output_type": "stream",
          "text": [
            "download start!\n",
            "download complete!\n",
            "download file location:  slang.txt\n",
            "download headers:  Connection: close\n",
            "Content-Length: 1351\n",
            "Cache-Control: max-age=300\n",
            "Content-Security-Policy: default-src 'none'; style-src 'unsafe-inline'; sandbox\n",
            "Content-Type: text/plain; charset=utf-8\n",
            "ETag: \"a79a6b2a6dd98e27d5eff59a76c6eab3dfc74b58a3482f28242f4f3231ade01f\"\n",
            "Strict-Transport-Security: max-age=31536000\n",
            "X-Content-Type-Options: nosniff\n",
            "X-Frame-Options: deny\n",
            "X-XSS-Protection: 1; mode=block\n",
            "X-GitHub-Request-Id: 10F8:44C0:22E208:295CF8:606879FF\n",
            "Accept-Ranges: bytes\n",
            "Date: Sat, 03 Apr 2021 14:21:51 GMT\n",
            "Via: 1.1 varnish\n",
            "X-Served-By: cache-hkg17920-HKG\n",
            "X-Cache: MISS\n",
            "X-Cache-Hits: 0\n",
            "X-Timer: S1617459711.393113,VS0,VE339\n",
            "Vary: Authorization,Accept-Encoding\n",
            "Access-Control-Allow-Origin: *\n",
            "X-Fastly-Request-ID: 1ab2366264c0d838ce5b637ac726561835bbb874\n",
            "Expires: Sat, 03 Apr 2021 14:26:51 GMT\n",
            "Source-Age: 0\n",
            "\n",
            "\n"
          ],
          "name": "stdout"
        }
      ]
    },
    {
      "cell_type": "code",
      "metadata": {
        "id": "ZVpw5ZSMO7mV"
      },
      "source": [
        "slang_file = open('slang.txt', mode='r')\n",
        "chat_words_str = slang_file.read()\n",
        "slang_file.close()"
      ],
      "execution_count": null,
      "outputs": []
    },
    {
      "cell_type": "code",
      "metadata": {
        "colab": {
          "base_uri": "https://localhost:8080/"
        },
        "id": "kihiMWWLPzzt",
        "outputId": "7496d537-d552-43c1-db5e-dea031bec9ed"
      },
      "source": [
        "chat_words_dict = {}\n",
        "\n",
        "# making a dictionary from the info in the file\n",
        "for line in chat_words_str.split(\"\\n\"):\n",
        "  if line != \"\" :\n",
        "    cw = line.split(\"=\")[0]\n",
        "    cw_full = line.split(\"=\")[1]\n",
        "    chat_words_dict.update({cw: cw_full})\n",
        "\n",
        "abbreviated_words = chat_words_dict.keys()\n",
        "\n",
        "def chat_words_conversion(text):\n",
        "  new_text = []\n",
        "  tokens = text.split()\n",
        "\n",
        "  for word in tokens:\n",
        "    if word.upper() in abbreviated_words:\n",
        "      new_text.append(chat_words_dict.get(word.upper()))\n",
        "\n",
        "    else:\n",
        "      new_text.append(word)\n",
        "\n",
        "  full_text = \" \".join(new_text)\n",
        "\n",
        "  return full_text\n",
        "\n",
        "print(chat_words_conversion(\"One minute BRB\"))\n",
        "print(chat_words_conversion(\"W8 here\"))\n",
        "print(chat_words_conversion(\"ILU so much\"))\n",
        "print(chat_words_conversion(\"I want you here ASAP\"))"
      ],
      "execution_count": null,
      "outputs": [
        {
          "output_type": "stream",
          "text": [
            "One minute Be Right Back\n",
            "Wait... here\n",
            "I Love You so much\n",
            "I want you here As Soon As Possible\n"
          ],
          "name": "stdout"
        }
      ]
    },
    {
      "cell_type": "code",
      "metadata": {
        "colab": {
          "base_uri": "https://localhost:8080/",
          "height": 195
        },
        "id": "zpMS-CiWU-k8",
        "outputId": "2aff1175-58d5-4cde-eb27-f3a710df6191"
      },
      "source": [
        "df_['cleaned_text'] = df_['cleaned_text'].apply(lambda text: chat_words_conversion(text))\n",
        "df_.head()"
      ],
      "execution_count": null,
      "outputs": [
        {
          "output_type": "execute_result",
          "data": {
            "text/html": [
              "<div>\n",
              "<style scoped>\n",
              "    .dataframe tbody tr th:only-of-type {\n",
              "        vertical-align: middle;\n",
              "    }\n",
              "\n",
              "    .dataframe tbody tr th {\n",
              "        vertical-align: top;\n",
              "    }\n",
              "\n",
              "    .dataframe thead th {\n",
              "        text-align: right;\n",
              "    }\n",
              "</style>\n",
              "<table border=\"1\" class=\"dataframe\">\n",
              "  <thead>\n",
              "    <tr style=\"text-align: right;\">\n",
              "      <th></th>\n",
              "      <th>tweet_id</th>\n",
              "      <th>cleaned_text</th>\n",
              "    </tr>\n",
              "  </thead>\n",
              "  <tbody>\n",
              "    <tr>\n",
              "      <th>0</th>\n",
              "      <td>1</td>\n",
              "      <td>115712 understand would assist would need priv...</td>\n",
              "    </tr>\n",
              "    <tr>\n",
              "      <th>1</th>\n",
              "      <td>2</td>\n",
              "      <td>sprintcare propose</td>\n",
              "    </tr>\n",
              "    <tr>\n",
              "      <th>2</th>\n",
              "      <td>3</td>\n",
              "      <td>sprintcare sent several private message one re...</td>\n",
              "    </tr>\n",
              "    <tr>\n",
              "      <th>3</th>\n",
              "      <td>4</td>\n",
              "      <td>115712 send private message assist click ‘ mes...</td>\n",
              "    </tr>\n",
              "    <tr>\n",
              "      <th>4</th>\n",
              "      <td>5</td>\n",
              "      <td>sprintcare</td>\n",
              "    </tr>\n",
              "  </tbody>\n",
              "</table>\n",
              "</div>"
            ],
            "text/plain": [
              "   tweet_id                                       cleaned_text\n",
              "0         1  115712 understand would assist would need priv...\n",
              "1         2                                 sprintcare propose\n",
              "2         3  sprintcare sent several private message one re...\n",
              "3         4  115712 send private message assist click ‘ mes...\n",
              "4         5                                         sprintcare"
            ]
          },
          "metadata": {
            "tags": []
          },
          "execution_count": 49
        }
      ]
    },
    {
      "cell_type": "markdown",
      "metadata": {
        "id": "e79nifZjIfZ5"
      },
      "source": [
        "#### Saving the file"
      ]
    },
    {
      "cell_type": "code",
      "metadata": {
        "id": "SZnrVR7jIe5o"
      },
      "source": [
        "df_.to_csv(\"/content/drive/MyDrive/MTL782/cleaned_ver3.csv\", header=True, index=False)"
      ],
      "execution_count": null,
      "outputs": []
    },
    {
      "cell_type": "markdown",
      "metadata": {
        "id": "9w583BctVw7P"
      },
      "source": [
        "### Spelling Correction"
      ]
    },
    {
      "cell_type": "code",
      "metadata": {
        "colab": {
          "base_uri": "https://localhost:8080/"
        },
        "id": "xUVSBfhnV-LM",
        "outputId": "1b0d63ba-5449-4587-b2a1-d53785d5ae63"
      },
      "source": [
        "! pip install pyspellchecker"
      ],
      "execution_count": null,
      "outputs": [
        {
          "output_type": "stream",
          "text": [
            "Collecting pyspellchecker\n",
            "\u001b[?25l  Downloading https://files.pythonhosted.org/packages/64/c7/435f49c0ac6bec031d1aba4daf94dc21dc08a9db329692cdb77faac51cea/pyspellchecker-0.6.2-py3-none-any.whl (2.7MB)\n",
            "\u001b[K     |████████████████████████████████| 2.7MB 4.4MB/s \n",
            "\u001b[?25hInstalling collected packages: pyspellchecker\n",
            "Successfully installed pyspellchecker-0.6.2\n"
          ],
          "name": "stdout"
        }
      ]
    },
    {
      "cell_type": "code",
      "metadata": {
        "colab": {
          "base_uri": "https://localhost:8080/"
        },
        "id": "Bo02q5SHWDPY",
        "outputId": "6f798e16-d13e-4c3d-dfb2-9facf271bad9"
      },
      "source": [
        "from spellchecker import SpellChecker\n",
        "\n",
        "spell = SpellChecker()\n",
        "\n",
        "def spelling_correction(text):\n",
        "  corrected_text = []\n",
        "  misspelled_words = spell.unknown(text.split())\n",
        "\n",
        "  for word in text.split():\n",
        "    if word in misspelled_words:\n",
        "      corrected_text.append(spell.correction(word))\n",
        "    else:\n",
        "      corrected_text.append(word)\n",
        "\n",
        "  new_text = \" \".join(corrected_text)\n",
        "  return new_text\n",
        "\n",
        "print(spelling_correction(\"speling correctin\"))\n",
        "print(spelling_correction(\"thnks fr readin the notebook\"))"
      ],
      "execution_count": null,
      "outputs": [
        {
          "output_type": "stream",
          "text": [
            "spelling correcting\n",
            "thanks for reading the notebook\n"
          ],
          "name": "stdout"
        }
      ]
    },
    {
      "cell_type": "code",
      "metadata": {
        "colab": {
          "base_uri": "https://localhost:8080/",
          "height": 195
        },
        "id": "LzuLCFosXXGb",
        "outputId": "61aec14a-f599-45a4-c972-fb7580e2acf3"
      },
      "source": [
        "df_['spell_checked_data'] = df_['cleaned_text'].apply(lambda text: spelling_correction(text))\n",
        "df_.head()"
      ],
      "execution_count": null,
      "outputs": [
        {
          "output_type": "execute_result",
          "data": {
            "text/html": [
              "<div>\n",
              "<style scoped>\n",
              "    .dataframe tbody tr th:only-of-type {\n",
              "        vertical-align: middle;\n",
              "    }\n",
              "\n",
              "    .dataframe tbody tr th {\n",
              "        vertical-align: top;\n",
              "    }\n",
              "\n",
              "    .dataframe thead th {\n",
              "        text-align: right;\n",
              "    }\n",
              "</style>\n",
              "<table border=\"1\" class=\"dataframe\">\n",
              "  <thead>\n",
              "    <tr style=\"text-align: right;\">\n",
              "      <th></th>\n",
              "      <th>cleaned_text</th>\n",
              "      <th>spell_checked_data</th>\n",
              "    </tr>\n",
              "  </thead>\n",
              "  <tbody>\n",
              "    <tr>\n",
              "      <th>0</th>\n",
              "      <td>161252 whats egg website people talk</td>\n",
              "      <td>161252 whats egg website people talk</td>\n",
              "    </tr>\n",
              "    <tr>\n",
              "      <th>1</th>\n",
              "      <td>whypersonshrugginglightskintone‍femalesign️ io...</td>\n",
              "      <td>whypersonshrugginglightskintone‍femalesign️ io...</td>\n",
              "    </tr>\n",
              "    <tr>\n",
              "      <th>2</th>\n",
              "      <td>693975 assist recommend update io 1111 havent ...</td>\n",
              "      <td>693975 assist recommend update io 1111 havent ...</td>\n",
              "    </tr>\n",
              "    <tr>\n",
              "      <th>3</th>\n",
              "      <td>331912 115955 thats well unstable connection d...</td>\n",
              "      <td>331912 115955 thats well unstable connection d...</td>\n",
              "    </tr>\n",
              "    <tr>\n",
              "      <th>4</th>\n",
              "      <td>virginamerica probably one best airline ive ev...</td>\n",
              "      <td>virginamerica probably one best airline ive ev...</td>\n",
              "    </tr>\n",
              "  </tbody>\n",
              "</table>\n",
              "</div>"
            ],
            "text/plain": [
              "                                        cleaned_text                                 spell_checked_data\n",
              "0               161252 whats egg website people talk               161252 whats egg website people talk\n",
              "1  whypersonshrugginglightskintone‍femalesign️ io...  whypersonshrugginglightskintone‍femalesign️ io...\n",
              "2  693975 assist recommend update io 1111 havent ...  693975 assist recommend update io 1111 havent ...\n",
              "3  331912 115955 thats well unstable connection d...  331912 115955 thats well unstable connection d...\n",
              "4  virginamerica probably one best airline ive ev...  virginamerica probably one best airline ive ev..."
            ]
          },
          "metadata": {
            "tags": []
          },
          "execution_count": 46
        }
      ]
    },
    {
      "cell_type": "markdown",
      "metadata": {
        "id": "GlUMuNatX8BY"
      },
      "source": [
        "#### Removal of non-English words"
      ]
    },
    {
      "cell_type": "code",
      "metadata": {
        "colab": {
          "base_uri": "https://localhost:8080/"
        },
        "id": "jo9_XXWNYAo7",
        "outputId": "d0e794c9-cb93-4a07-b261-6acb7ca36062"
      },
      "source": [
        "words = set(nltk.corpus.words.words())\n",
        "\n",
        "sentence = \"Io andiamo to the beach with my amico.\"\n",
        "\n",
        "def remove_non_english(text):\n",
        "  new_text = [w for w in nltk.wordpunct_tokenize(text) if w.lower() in words or not w.isalpha()]\n",
        "  new_text = \" \".join(new_text)\n",
        "  return new_text\n",
        "\n",
        "print(remove_non_english(sentence))"
      ],
      "execution_count": null,
      "outputs": [
        {
          "output_type": "stream",
          "text": [
            "Io to the beach with my .\n"
          ],
          "name": "stdout"
        }
      ]
    },
    {
      "cell_type": "code",
      "metadata": {
        "colab": {
          "base_uri": "https://localhost:8080/",
          "height": 195
        },
        "id": "tLnA9X2runvT",
        "outputId": "89610b63-6671-4a9a-d32a-c5accbb51075"
      },
      "source": [
        "df_['only_english'] = df_['spell_checked_data'].apply(lambda text: remove_non_english(text))\n",
        "df_.head()"
      ],
      "execution_count": null,
      "outputs": [
        {
          "output_type": "execute_result",
          "data": {
            "text/html": [
              "<div>\n",
              "<style scoped>\n",
              "    .dataframe tbody tr th:only-of-type {\n",
              "        vertical-align: middle;\n",
              "    }\n",
              "\n",
              "    .dataframe tbody tr th {\n",
              "        vertical-align: top;\n",
              "    }\n",
              "\n",
              "    .dataframe thead th {\n",
              "        text-align: right;\n",
              "    }\n",
              "</style>\n",
              "<table border=\"1\" class=\"dataframe\">\n",
              "  <thead>\n",
              "    <tr style=\"text-align: right;\">\n",
              "      <th></th>\n",
              "      <th>cleaned_text</th>\n",
              "      <th>spell_checked_data</th>\n",
              "      <th>only_english</th>\n",
              "    </tr>\n",
              "  </thead>\n",
              "  <tbody>\n",
              "    <tr>\n",
              "      <th>0</th>\n",
              "      <td>161252 whats egg website people talk</td>\n",
              "      <td>161252 whats egg website people talk</td>\n",
              "      <td>161252 whats egg people talk</td>\n",
              "    </tr>\n",
              "    <tr>\n",
              "      <th>1</th>\n",
              "      <td>whypersonshrugginglightskintone‍femalesign️ io...</td>\n",
              "      <td>whypersonshrugginglightskintone‍femalesign️ io...</td>\n",
              "      <td>‍ ️</td>\n",
              "    </tr>\n",
              "    <tr>\n",
              "      <th>2</th>\n",
              "      <td>693975 assist recommend update io 1111 havent ...</td>\n",
              "      <td>693975 assist recommend update io 1111 havent ...</td>\n",
              "      <td>693975 assist recommend update io 1111 havent ...</td>\n",
              "    </tr>\n",
              "    <tr>\n",
              "      <th>3</th>\n",
              "      <td>331912 115955 thats well unstable connection d...</td>\n",
              "      <td>331912 115955 thats well unstable connection d...</td>\n",
              "      <td>331912 115955 thats well unstable connection d...</td>\n",
              "    </tr>\n",
              "    <tr>\n",
              "      <th>4</th>\n",
              "      <td>virginamerica probably one best airline ive ev...</td>\n",
              "      <td>virginamerica probably one best airline ive ev...</td>\n",
              "      <td>probably one best ever experienced</td>\n",
              "    </tr>\n",
              "  </tbody>\n",
              "</table>\n",
              "</div>"
            ],
            "text/plain": [
              "                                        cleaned_text  ...                                       only_english\n",
              "0               161252 whats egg website people talk  ...                       161252 whats egg people talk\n",
              "1  whypersonshrugginglightskintone‍femalesign️ io...  ...                                                ‍ ️\n",
              "2  693975 assist recommend update io 1111 havent ...  ...  693975 assist recommend update io 1111 havent ...\n",
              "3  331912 115955 thats well unstable connection d...  ...  331912 115955 thats well unstable connection d...\n",
              "4  virginamerica probably one best airline ive ev...  ...                 probably one best ever experienced\n",
              "\n",
              "[5 rows x 3 columns]"
            ]
          },
          "metadata": {
            "tags": []
          },
          "execution_count": 48
        }
      ]
    },
    {
      "cell_type": "code",
      "metadata": {
        "id": "aQlVfR2mHIXq"
      },
      "source": [
        "df_clean = df_.drop([\"cleaned_text\",\"spell_checked_data\"],axis=1)"
      ],
      "execution_count": null,
      "outputs": []
    },
    {
      "cell_type": "code",
      "metadata": {
        "colab": {
          "base_uri": "https://localhost:8080/"
        },
        "id": "s67_b4yrH5Uj",
        "outputId": "79f77713-371f-4534-bf38-d74d18220f55"
      },
      "source": [
        "df_clean = df_clean.dropna().drop_duplicates()\n",
        "df_clean.shape"
      ],
      "execution_count": null,
      "outputs": [
        {
          "output_type": "execute_result",
          "data": {
            "text/plain": [
              "(9800, 1)"
            ]
          },
          "metadata": {
            "tags": []
          },
          "execution_count": 55
        }
      ]
    },
    {
      "cell_type": "markdown",
      "metadata": {
        "id": "gI9sUxrgG-Be"
      },
      "source": [
        "###Bigrams"
      ]
    },
    {
      "cell_type": "code",
      "metadata": {
        "id": "rgnvrt7ROnrP"
      },
      "source": [
        "df_clean = pd.read_csv(\"/content/drive/MyDrive/MTL782/cleaned_ver4.csv\")"
      ],
      "execution_count": null,
      "outputs": []
    },
    {
      "cell_type": "code",
      "metadata": {
        "id": "6plSil4kHAE6"
      },
      "source": [
        "from gensim.models.phrases import Phrases, Phraser"
      ],
      "execution_count": null,
      "outputs": []
    },
    {
      "cell_type": "code",
      "metadata": {
        "colab": {
          "base_uri": "https://localhost:8080/"
        },
        "id": "pl05jtbuWAoC",
        "outputId": "31684a8e-c6a7-4c91-8f1c-4121d1c80e76"
      },
      "source": [
        "df_clean.dtypes"
      ],
      "execution_count": null,
      "outputs": [
        {
          "output_type": "execute_result",
          "data": {
            "text/plain": [
              "tweet_id    object\n",
              "clean       object\n",
              "dtype: object"
            ]
          },
          "metadata": {
            "tags": []
          },
          "execution_count": 36
        }
      ]
    },
    {
      "cell_type": "code",
      "metadata": {
        "colab": {
          "base_uri": "https://localhost:8080/"
        },
        "id": "_-wTghtuXVZn",
        "outputId": "f4536b69-c40f-4b65-d35b-bc01686669bb"
      },
      "source": [
        "df_clean['clean'] = df_clean['clean'].astype('str')\n",
        "df_clean['tweet_id'] = df_clean['tweet_id'].astype('int')\n",
        "\n",
        "df_clean.dtypes"
      ],
      "execution_count": null,
      "outputs": [
        {
          "output_type": "execute_result",
          "data": {
            "text/plain": [
              "tweet_id     int64\n",
              "clean       object\n",
              "dtype: object"
            ]
          },
          "metadata": {
            "tags": []
          },
          "execution_count": 40
        }
      ]
    },
    {
      "cell_type": "code",
      "metadata": {
        "colab": {
          "base_uri": "https://localhost:8080/"
        },
        "id": "8nmyAcoZX_dP",
        "outputId": "0f0b943e-3a04-448a-88d2-e689033bca4e"
      },
      "source": [
        ""
      ],
      "execution_count": null,
      "outputs": [
        {
          "output_type": "execute_result",
          "data": {
            "text/plain": [
              "tweet_id    0\n",
              "clean       0\n",
              "dtype: int64"
            ]
          },
          "metadata": {
            "tags": []
          },
          "execution_count": 43
        }
      ]
    },
    {
      "cell_type": "code",
      "metadata": {
        "colab": {
          "base_uri": "https://localhost:8080/",
          "height": 279
        },
        "id": "QEjUlpd4IMtj",
        "outputId": "2bd09e75-4035-428a-95a1-698057a56c7c"
      },
      "source": [
        "# Alternative\n",
        "df_clean  = df_clean.rename(columns={\"cleaned_text\":\"clean\"})\n",
        "\n",
        "# df_clean  = df_clean.rename(columns={\"only_english\":\"clean\"})\n",
        "sent = [row.split() for row in df_clean['clean']]"
      ],
      "execution_count": null,
      "outputs": [
        {
          "output_type": "error",
          "ename": "AttributeError",
          "evalue": "ignored",
          "traceback": [
            "\u001b[0;31m---------------------------------------------------------------------------\u001b[0m",
            "\u001b[0;31mAttributeError\u001b[0m                            Traceback (most recent call last)",
            "\u001b[0;32m<ipython-input-32-51f5cad2f3f0>\u001b[0m in \u001b[0;36m<module>\u001b[0;34m()\u001b[0m\n\u001b[1;32m      3\u001b[0m \u001b[0;34m\u001b[0m\u001b[0m\n\u001b[1;32m      4\u001b[0m \u001b[0;31m# df_clean  = df_clean.rename(columns={\"only_english\":\"clean\"})\u001b[0m\u001b[0;34m\u001b[0m\u001b[0;34m\u001b[0m\u001b[0;34m\u001b[0m\u001b[0m\n\u001b[0;32m----> 5\u001b[0;31m \u001b[0msent\u001b[0m \u001b[0;34m=\u001b[0m \u001b[0;34m[\u001b[0m\u001b[0mrow\u001b[0m\u001b[0;34m.\u001b[0m\u001b[0msplit\u001b[0m\u001b[0;34m(\u001b[0m\u001b[0;34m)\u001b[0m \u001b[0;32mfor\u001b[0m \u001b[0mrow\u001b[0m \u001b[0;32min\u001b[0m \u001b[0mdf_clean\u001b[0m\u001b[0;34m[\u001b[0m\u001b[0;34m'clean'\u001b[0m\u001b[0;34m]\u001b[0m\u001b[0;34m]\u001b[0m\u001b[0;34m\u001b[0m\u001b[0;34m\u001b[0m\u001b[0m\n\u001b[0m",
            "\u001b[0;32m<ipython-input-32-51f5cad2f3f0>\u001b[0m in \u001b[0;36m<listcomp>\u001b[0;34m(.0)\u001b[0m\n\u001b[1;32m      3\u001b[0m \u001b[0;34m\u001b[0m\u001b[0m\n\u001b[1;32m      4\u001b[0m \u001b[0;31m# df_clean  = df_clean.rename(columns={\"only_english\":\"clean\"})\u001b[0m\u001b[0;34m\u001b[0m\u001b[0;34m\u001b[0m\u001b[0;34m\u001b[0m\u001b[0m\n\u001b[0;32m----> 5\u001b[0;31m \u001b[0msent\u001b[0m \u001b[0;34m=\u001b[0m \u001b[0;34m[\u001b[0m\u001b[0mrow\u001b[0m\u001b[0;34m.\u001b[0m\u001b[0msplit\u001b[0m\u001b[0;34m(\u001b[0m\u001b[0;34m)\u001b[0m \u001b[0;32mfor\u001b[0m \u001b[0mrow\u001b[0m \u001b[0;32min\u001b[0m \u001b[0mdf_clean\u001b[0m\u001b[0;34m[\u001b[0m\u001b[0;34m'clean'\u001b[0m\u001b[0;34m]\u001b[0m\u001b[0;34m]\u001b[0m\u001b[0;34m\u001b[0m\u001b[0;34m\u001b[0m\u001b[0m\n\u001b[0m",
            "\u001b[0;31mAttributeError\u001b[0m: 'float' object has no attribute 'split'"
          ]
        }
      ]
    },
    {
      "cell_type": "code",
      "metadata": {
        "id": "7nkqZ_iLYbo3"
      },
      "source": [
        "# Alternative\n",
        "\n",
        "sent_try = []\n",
        "\n",
        "for row in df_clean['clean']:\n",
        "  try:\n",
        "    t = row.split()\n",
        "    sent_try.append(t)\n",
        "  except:\n",
        "    print(row)\n"
      ],
      "execution_count": null,
      "outputs": []
    },
    {
      "cell_type": "code",
      "metadata": {
        "id": "AlHZfUFGZAAv"
      },
      "source": [
        "sent = sent_try"
      ],
      "execution_count": null,
      "outputs": []
    },
    {
      "cell_type": "code",
      "metadata": {
        "id": "nuMiDPQhIvtz"
      },
      "source": [
        "phrases = Phrases(sent, min_count=30, progress_per=10000)"
      ],
      "execution_count": null,
      "outputs": []
    },
    {
      "cell_type": "code",
      "metadata": {
        "id": "QaX4s1xgJD7c"
      },
      "source": [
        "bigram = Phraser(phrases)"
      ],
      "execution_count": null,
      "outputs": []
    },
    {
      "cell_type": "code",
      "metadata": {
        "id": "LWFVHohIJTjZ"
      },
      "source": [
        "sentences = bigram[sent]"
      ],
      "execution_count": null,
      "outputs": []
    },
    {
      "cell_type": "markdown",
      "metadata": {
        "id": "WmrcCLFzJcqw"
      },
      "source": [
        "#### Most Frequent Words\n",
        "_Sanity check_"
      ]
    },
    {
      "cell_type": "code",
      "metadata": {
        "colab": {
          "base_uri": "https://localhost:8080/"
        },
        "id": "Yi4rTLghJhd7",
        "outputId": "67d288e1-503e-4b77-e420-32f241f1cbcf"
      },
      "source": [
        "from collections import defaultdict\n",
        "\n",
        "word_freq = defaultdict(int)\n",
        "for sent in sentences:\n",
        "    for i in sent:\n",
        "        word_freq[i] += 1\n",
        "len(word_freq)"
      ],
      "execution_count": null,
      "outputs": [
        {
          "output_type": "execute_result",
          "data": {
            "text/plain": [
              "1541793"
            ]
          },
          "metadata": {
            "tags": []
          },
          "execution_count": 55
        }
      ]
    },
    {
      "cell_type": "code",
      "metadata": {
        "colab": {
          "base_uri": "https://localhost:8080/"
        },
        "id": "1GQY2DEWJyxM",
        "outputId": "83123aee-9229-4ec2-938c-c186c5151e8d"
      },
      "source": [
        "sorted(word_freq, key=word_freq.get, reverse=True)[:10]"
      ],
      "execution_count": null,
      "outputs": [
        {
          "output_type": "execute_result",
          "data": {
            "text/plain": [
              "['well',\n",
              " 'issue',\n",
              " 'amazonhelp',\n",
              " 'look',\n",
              " 'im',\n",
              " 'go',\n",
              " 'service',\n",
              " 'send',\n",
              " 'account',\n",
              " 'get']"
            ]
          },
          "metadata": {
            "tags": []
          },
          "execution_count": 56
        }
      ]
    },
    {
      "cell_type": "markdown",
      "metadata": {
        "id": "DxhqvkJnF2QN"
      },
      "source": [
        "### Gensim Word2Vec"
      ]
    },
    {
      "cell_type": "code",
      "metadata": {
        "id": "gTAIl4VVF8cd"
      },
      "source": [
        "import multiprocessing\n",
        "\n",
        "from gensim.models import Word2Vec"
      ],
      "execution_count": null,
      "outputs": []
    },
    {
      "cell_type": "code",
      "metadata": {
        "id": "OF-CUTGuGZZp"
      },
      "source": [
        "cores = multiprocessing.cpu_count()"
      ],
      "execution_count": null,
      "outputs": []
    },
    {
      "cell_type": "code",
      "metadata": {
        "id": "NHIXBJWDGENk"
      },
      "source": [
        "w2v_model = Word2Vec(min_count=20,window=2,size=300,sample=6e-5,alpha=0.03,min_alpha=0.0007,negative=20,workers=cores-1)"
      ],
      "execution_count": null,
      "outputs": []
    },
    {
      "cell_type": "markdown",
      "metadata": {
        "id": "WKyJhJgMJ37N"
      },
      "source": [
        "#### Building the Vocabulary Table\n"
      ]
    },
    {
      "cell_type": "code",
      "metadata": {
        "colab": {
          "base_uri": "https://localhost:8080/"
        },
        "id": "VpbjVykTJ2_a",
        "outputId": "3ec6cec9-a5c2-41f1-f0b4-67fd1c33db3c"
      },
      "source": [
        "from time import time\n",
        "\n",
        "t = time()\n",
        "\n",
        "w2v_model.build_vocab(sentences, progress_per=10000)\n",
        "\n",
        "print('Time to build vocab: {} mins'.format(round((time() - t) / 60, 2)))"
      ],
      "execution_count": null,
      "outputs": [
        {
          "output_type": "stream",
          "text": [
            "Time to build vocab: 1.89 mins\n"
          ],
          "name": "stdout"
        }
      ]
    },
    {
      "cell_type": "markdown",
      "metadata": {
        "id": "Y5q-ShVtKSIT"
      },
      "source": [
        "#### Training of the model"
      ]
    },
    {
      "cell_type": "code",
      "metadata": {
        "colab": {
          "base_uri": "https://localhost:8080/"
        },
        "id": "fsATqz1mKVC-",
        "outputId": "c4ac0099-fe27-432c-dfe7-c19dae53de3c"
      },
      "source": [
        "t = time()\n",
        "\n",
        "w2v_model.train(sentences, total_examples=w2v_model.corpus_count, epochs=30, report_delay=1)\n",
        "\n",
        "print('Time to train the model: {} mins'.format(round((time() - t) / 60, 2)))"
      ],
      "execution_count": null,
      "outputs": [
        {
          "output_type": "stream",
          "text": [
            "Time to train the model: 112.29 mins\n"
          ],
          "name": "stdout"
        }
      ]
    },
    {
      "cell_type": "code",
      "metadata": {
        "id": "5VXNKEBkKfuj"
      },
      "source": [
        "w2v_model.init_sims(replace=True)"
      ],
      "execution_count": null,
      "outputs": []
    },
    {
      "cell_type": "markdown",
      "metadata": {
        "id": "vOKGnKoWKsyl"
      },
      "source": [
        "#### Exploring the Model"
      ]
    },
    {
      "cell_type": "code",
      "metadata": {
        "colab": {
          "base_uri": "https://localhost:8080/"
        },
        "id": "xzDWT9zAKv8z",
        "outputId": "c1ba8b84-08e4-4d02-bb6e-f08bb48b0965"
      },
      "source": [
        "w2v_model.wv.most_similar(positive=[\"apple\"])"
      ],
      "execution_count": null,
      "outputs": [
        {
          "output_type": "execute_result",
          "data": {
            "text/plain": [
              "[('115858', 0.6577697992324829),\n",
              " ('applesupport', 0.6511053442955017),\n",
              " ('iphone', 0.604471743106842),\n",
              " ('115858_applesupport', 0.5964983105659485),\n",
              " ('116333', 0.5798109769821167),\n",
              " ('iphones', 0.5659255385398865),\n",
              " ('applenews', 0.5264140963554382),\n",
              " ('phone', 0.5186710357666016),\n",
              " ('iphone8', 0.514138400554657),\n",
              " ('macbook', 0.513713538646698)]"
            ]
          },
          "metadata": {
            "tags": []
          },
          "execution_count": 63
        }
      ]
    },
    {
      "cell_type": "code",
      "metadata": {
        "colab": {
          "base_uri": "https://localhost:8080/"
        },
        "id": "17aoRx51K09I",
        "outputId": "e8fe03d7-a4bb-4d1b-b737-f71727fd8f6c"
      },
      "source": [
        "w2v_model.wv.most_similar(positive=[\"delta\"])"
      ],
      "execution_count": null,
      "outputs": [
        {
          "output_type": "execute_result",
          "data": {
            "text/plain": [
              "[('americanair', 0.90010005235672),\n",
              " ('southwestair', 0.8576645851135254),\n",
              " ('alaskaair', 0.8434120416641235),\n",
              " ('jetblue', 0.8246340155601501),\n",
              " ('virginamerica', 0.7592177391052246),\n",
              " ('britishairways', 0.7265123724937439),\n",
              " ('flight', 0.7183414697647095),\n",
              " ('delta_824', 0.7091425657272339),\n",
              " ('virginatlantic', 0.695026159286499),\n",
              " ('airline', 0.6912938356399536)]"
            ]
          },
          "metadata": {
            "tags": []
          },
          "execution_count": 64
        }
      ]
    },
    {
      "cell_type": "code",
      "metadata": {
        "colab": {
          "base_uri": "https://localhost:8080/"
        },
        "id": "pV4zniraLAdO",
        "outputId": "a9e18084-e7b7-498d-cd7b-8d1e9c42d1b3"
      },
      "source": [
        "w2v_model.wv.most_similar(positive=[\"bad\"])"
      ],
      "execution_count": null,
      "outputs": [
        {
          "output_type": "execute_result",
          "data": {
            "text/plain": [
              "[('terrible', 0.8046918511390686),\n",
              " ('horrible', 0.7693708539009094),\n",
              " ('awful', 0.7653313279151917),\n",
              " ('suck', 0.7064357995986938),\n",
              " ('shitty', 0.6835825443267822),\n",
              " ('poor', 0.6809207201004028),\n",
              " ('pathetic', 0.6523956656455994),\n",
              " ('literally_bad', 0.6423219442367554),\n",
              " ('absolute_bad', 0.6086322665214539),\n",
              " ('ever', 0.606216549873352)]"
            ]
          },
          "metadata": {
            "tags": []
          },
          "execution_count": 65
        }
      ]
    },
    {
      "cell_type": "code",
      "metadata": {
        "colab": {
          "base_uri": "https://localhost:8080/"
        },
        "id": "P_VwcJi7LN-F",
        "outputId": "fc9bfe0d-5c99-4d19-b152-7f876a9a584b"
      },
      "source": [
        "w2v_model.wv.most_similar(positive=[\"poor\"])"
      ],
      "execution_count": null,
      "outputs": [
        {
          "output_type": "execute_result",
          "data": {
            "text/plain": [
              "[('bad', 0.6809207201004028),\n",
              " ('terrible', 0.6757559180259705),\n",
              " ('shock', 0.6696128845214844),\n",
              " ('awful', 0.6549619436264038),\n",
              " ('pathetic', 0.6530658006668091),\n",
              " ('appal', 0.6276351809501648),\n",
              " ('horrible', 0.6155228614807129),\n",
              " ('extremely_poor', 0.5850776433944702),\n",
              " ('abysmal', 0.5836581587791443),\n",
              " ('rubbish', 0.5515546798706055)]"
            ]
          },
          "metadata": {
            "tags": []
          },
          "execution_count": 66
        }
      ]
    },
    {
      "cell_type": "code",
      "metadata": {
        "colab": {
          "base_uri": "https://localhost:8080/"
        },
        "id": "szZeDtY-1ZsB",
        "outputId": "c2ba873d-5874-41fe-89f3-51fd371800e4"
      },
      "source": [
        "w2v_model.wv.most_similar(positive=[\"verizon\"], topn=20)"
      ],
      "execution_count": null,
      "outputs": [
        {
          "output_type": "execute_result",
          "data": {
            "text/plain": [
              "[('115725', 0.7794680595397949),\n",
              " ('att', 0.7333767414093018),\n",
              " ('tmobile', 0.7271326780319214),\n",
              " ('115911', 0.709144115447998),\n",
              " ('115714', 0.6998412609100342),\n",
              " ('verizonsupport', 0.6986764669418335),\n",
              " ('atampt', 0.6926140785217285),\n",
              " ('sprint', 0.6820658445358276),\n",
              " ('sprintcare', 0.6290490627288818),\n",
              " ('comcast', 0.6180664896965027),\n",
              " ('116136', 0.616489052772522),\n",
              " ('115722', 0.607982337474823),\n",
              " ('fios', 0.6065962314605713),\n",
              " ('spectrum', 0.5972182154655457),\n",
              " ('tmobilehelp', 0.5971593260765076),\n",
              " ('switch_verizon', 0.5935732126235962),\n",
              " ('115900', 0.5727173089981079),\n",
              " ('115955', 0.5679931640625),\n",
              " ('116072', 0.5678877234458923),\n",
              " ('115725_verizonsupport', 0.562401533126831)]"
            ]
          },
          "metadata": {
            "tags": []
          },
          "execution_count": 69
        }
      ]
    },
    {
      "cell_type": "code",
      "metadata": {
        "colab": {
          "base_uri": "https://localhost:8080/"
        },
        "id": "GXBuLicV1kgk",
        "outputId": "04adfbc1-e666-472e-f1aa-3c3f56762a9b"
      },
      "source": [
        "w2v_model.wv.most_similar(positive=[\"sprintcare\"], topn=20)"
      ],
      "execution_count": null,
      "outputs": [
        {
          "output_type": "execute_result",
          "data": {
            "text/plain": [
              "[('115714', 0.8415676355361938),\n",
              " ('tmobilehelp', 0.8256796002388),\n",
              " ('115911', 0.7714325189590454),\n",
              " ('sprintcare_115714', 0.7488073706626892),\n",
              " ('115714_sprintcare', 0.7419754266738892),\n",
              " ('tmobilehelp_115913', 0.7350331544876099),\n",
              " ('sprint', 0.7275761365890503),\n",
              " ('att', 0.6970747709274292),\n",
              " ('uscellularcares', 0.6905750036239624),\n",
              " ('verizonsupport', 0.6897739171981812),\n",
              " ('115911_tmobilehelp', 0.6806451678276062),\n",
              " ('tmobile', 0.6709282398223877),\n",
              " ('sprintcare_116447', 0.6529200673103333),\n",
              " ('115725', 0.633589506149292),\n",
              " ('115913_115911', 0.6326805353164673),\n",
              " ('115911_115913', 0.6292920708656311),\n",
              " ('verizon', 0.6290490627288818),\n",
              " ('comcastcares', 0.6228379011154175),\n",
              " ('boostcare', 0.6219444870948792),\n",
              " ('tmobilehelp_115911', 0.6190516948699951)]"
            ]
          },
          "metadata": {
            "tags": []
          },
          "execution_count": 71
        }
      ]
    },
    {
      "cell_type": "code",
      "metadata": {
        "colab": {
          "base_uri": "https://localhost:8080/"
        },
        "id": "oVM6-6kx16d3",
        "outputId": "dce6fbd7-a5b0-4736-abd2-5afd4a11dc8f"
      },
      "source": [
        "w2v_model.wv.most_similar(positive=[\"amazonhelp\"], topn=20)"
      ],
      "execution_count": null,
      "outputs": [
        {
          "output_type": "execute_result",
          "data": {
            "text/plain": [
              "[('amazon', 0.7557227611541748),\n",
              " ('115821', 0.7298078536987305),\n",
              " ('115850', 0.679477334022522),\n",
              " ('115830', 0.6760198473930359),\n",
              " ('prime', 0.6248518228530884),\n",
              " ('upshelp', 0.5856618881225586),\n",
              " ('amazonhelp_115851', 0.5742184519767761),\n",
              " ('askebay', 0.5686715841293335),\n",
              " ('115851', 0.5574002265930176),\n",
              " ('115850_115821', 0.5562988519668579),\n",
              " ('prime_member', 0.5489098429679871),\n",
              " ('118919', 0.5376055240631104),\n",
              " ('amazonprime', 0.5321245789527893),\n",
              " ('116090', 0.5310828685760498),\n",
              " ('115850_115851', 0.517478346824646),\n",
              " ('deliver', 0.5165422558784485),\n",
              " ('guaranteed_delivery', 0.5123353600502014),\n",
              " ('amazon_prime', 0.5122708082199097),\n",
              " ('115830_115851', 0.5092859268188477),\n",
              " ('marked_deliver', 0.4995267391204834)]"
            ]
          },
          "metadata": {
            "tags": []
          },
          "execution_count": 73
        }
      ]
    },
    {
      "cell_type": "code",
      "metadata": {
        "colab": {
          "base_uri": "https://localhost:8080/"
        },
        "id": "h_LSYp732F47",
        "outputId": "e702776d-fb03-42c1-f1e5-2028b0795313"
      },
      "source": [
        "w2v_model.wv.most_similar(positive=[\"britishairways\"], topn=20)"
      ],
      "execution_count": null,
      "outputs": [
        {
          "output_type": "execute_result",
          "data": {
            "text/plain": [
              "[('virginatlantic', 0.8341816663742065),\n",
              " ('americanair', 0.7278058528900146),\n",
              " ('delta', 0.7265123724937439),\n",
              " ('ba', 0.6824859380722046),\n",
              " ('jetblue', 0.6434144973754883),\n",
              " ('britishairways_ba', 0.6415992975234985),\n",
              " ('southwestair', 0.6357330083847046),\n",
              " ('british_airway', 0.6353501081466675),\n",
              " ('alaskaair', 0.6252361536026001),\n",
              " ('flight', 0.608731746673584),\n",
              " ('2042', 0.5970624685287476),\n",
              " ('120637', 0.5965253114700317),\n",
              " ('virginamerica', 0.5904635787010193),\n",
              " ('virgintrains', 0.5763561725616455),\n",
              " ('zurich', 0.5690336227416992),\n",
              " ('heathrow', 0.5564406514167786),\n",
              " ('148992', 0.5526949763298035),\n",
              " ('135123', 0.5480424165725708),\n",
              " ('airline', 0.544611930847168),\n",
              " ('aa', 0.5434622764587402)]"
            ]
          },
          "metadata": {
            "tags": []
          },
          "execution_count": 74
        }
      ]
    },
    {
      "cell_type": "code",
      "metadata": {
        "colab": {
          "base_uri": "https://localhost:8080/"
        },
        "id": "P5d6gfcELUq5",
        "outputId": "581d0d2f-4e5d-4793-fd5b-1a9a9005f913"
      },
      "source": [
        "w2v_model.wv.most_similar(positive=[\"ubersupport\"], topn=25)"
      ],
      "execution_count": null,
      "outputs": [
        {
          "output_type": "execute_result",
          "data": {
            "text/plain": [
              "[('115873', 0.8406741619110107),\n",
              " ('uber', 0.8165656328201294),\n",
              " ('115873_ubersupport', 0.7936882972717285),\n",
              " ('ubersupport_115873', 0.7849545478820801),\n",
              " ('asklyft', 0.7698850631713867),\n",
              " ('115879', 0.6563805937767029),\n",
              " ('119983', 0.6334604024887085),\n",
              " ('115877', 0.6083336472511292),\n",
              " ('119983_115873', 0.6078702211380005),\n",
              " ('118730', 0.6024495959281921),\n",
              " ('uber_driver', 0.5976585745811462),\n",
              " ('postmateshelp', 0.5975329875946045),\n",
              " ('116288', 0.5961928367614746),\n",
              " ('ubersupport_119983', 0.592140257358551),\n",
              " ('rider', 0.58323734998703),\n",
              " ('1582', 0.5822139978408813),\n",
              " ('uber_eats', 0.5818748474121094),\n",
              " ('115879_asklyft', 0.577923059463501),\n",
              " ('airbnbhelp', 0.5704569220542908),\n",
              " ('116276_115873', 0.5692237615585327),\n",
              " ('asklyft_115879', 0.5667762756347656),\n",
              " ('lyft', 0.5655760169029236),\n",
              " ('ride', 0.5583761930465698),\n",
              " ('133311', 0.5533484220504761),\n",
              " ('ubereats', 0.5500423908233643)]"
            ]
          },
          "metadata": {
            "tags": []
          },
          "execution_count": 76
        }
      ]
    },
    {
      "cell_type": "code",
      "metadata": {
        "colab": {
          "base_uri": "https://localhost:8080/"
        },
        "id": "8szlHEiv3CaI",
        "outputId": "6ee4af72-de40-4aed-9f62-d407381d304a"
      },
      "source": [
        "w2v_model.wv.most_similar(positive=[\"stomach\"], topn=25)"
      ],
      "execution_count": null,
      "outputs": [
        {
          "output_type": "execute_result",
          "data": {
            "text/plain": [
              "[('ate_chipotle', 0.4949650168418884),\n",
              " ('tummy', 0.4929563105106354),\n",
              " ('stomach_hurt', 0.49006330966949463),\n",
              " ('fuck_stomach', 0.45838335156440735),\n",
              " ('eat_chipotle', 0.44271719455718994),\n",
              " ('belly', 0.42071816325187683),\n",
              " ('chipotle', 0.4115681052207947),\n",
              " ('salmonella', 0.406704306602478),\n",
              " ('eat', 0.406352162361145),\n",
              " ('chip_stale', 0.40309426188468933),\n",
              " ('crave_chipotletweets', 0.4024854302406311),\n",
              " ('chipotletweets_burrito', 0.3996935784816742),\n",
              " ('mcdonalds_fry', 0.3974752426147461),\n",
              " ('116273', 0.3954346776008606),\n",
              " ('diarrhea', 0.39439067244529724),\n",
              " ('🌯', 0.38817298412323),\n",
              " ('eat_chipotletweets', 0.3869969844818115),\n",
              " ('neck', 0.38623353838920593),\n",
              " ('🤢', 0.38547295331954956),\n",
              " ('feel', 0.3852812647819519),\n",
              " ('nauseous', 0.38147324323654175),\n",
              " ('mcdonald_fry', 0.37932851910591125),\n",
              " ('ache', 0.3768060803413391),\n",
              " ('eat_burrito', 0.3766977787017822),\n",
              " ('burrito', 0.3755297064781189)]"
            ]
          },
          "metadata": {
            "tags": []
          },
          "execution_count": 79
        }
      ]
    },
    {
      "cell_type": "code",
      "metadata": {
        "colab": {
          "base_uri": "https://localhost:8080/"
        },
        "id": "7NcDBjbj3U7Q",
        "outputId": "be7d5e8b-9ed0-4c0e-ba6e-6469ecfd1203"
      },
      "source": [
        "w2v_model.wv.most_similar(positive=[\"diarrhea\"], topn=25)"
      ],
      "execution_count": null,
      "outputs": [
        {
          "output_type": "execute_result",
          "data": {
            "text/plain": [
              "[('stomach_hurt', 0.5022777318954468),\n",
              " ('eat_chipotle', 0.4838940501213074),\n",
              " ('ate_chipotle', 0.4792647659778595),\n",
              " ('food_poison', 0.46726375818252563),\n",
              " ('chipotle', 0.4429283142089844),\n",
              " ('chipotletweets', 0.42458072304725647),\n",
              " ('🤢🤢', 0.42177802324295044),\n",
              " ('salmonella', 0.4167236089706421),\n",
              " ('sick', 0.41419821977615356),\n",
              " ('ecoli', 0.4138103723526001),\n",
              " ('qdoba', 0.40614011883735657),\n",
              " ('raw_chicken', 0.40568602085113525),\n",
              " ('772269', 0.4024818539619446),\n",
              " ('chip_stale', 0.40014922618865967),\n",
              " ('eat_chipotletweets', 0.3962416648864746),\n",
              " ('stomach', 0.39439064264297485),\n",
              " ('fuck_stomach', 0.3905779719352722),\n",
              " ('chipotlequeso', 0.38937908411026),\n",
              " ('nauseous', 0.38609933853149414),\n",
              " ('🤢', 0.38489821553230286),\n",
              " ('puke', 0.38358914852142334),\n",
              " ('explosive', 0.383256196975708),\n",
              " ('shit', 0.37891894578933716),\n",
              " ('chipotle_queso', 0.37708011269569397),\n",
              " ('crave_chipotle', 0.37464427947998047)]"
            ]
          },
          "metadata": {
            "tags": []
          },
          "execution_count": 80
        }
      ]
    },
    {
      "cell_type": "code",
      "metadata": {
        "colab": {
          "base_uri": "https://localhost:8080/"
        },
        "id": "MWM0Qk1i2tsI",
        "outputId": "122013c7-1903-4f69-af55-8f4ff603da23"
      },
      "source": [
        "w2v_model.wv.most_similar(positive=[\"chipotletweets\"], topn=25)"
      ],
      "execution_count": null,
      "outputs": [
        {
          "output_type": "execute_result",
          "data": {
            "text/plain": [
              "[('chipotle', 0.8336713314056396),\n",
              " ('118625', 0.7031095027923584),\n",
              " ('mcdonalds', 0.6860100030899048),\n",
              " ('burrito', 0.6709839701652527),\n",
              " ('116253', 0.6619937419891357),\n",
              " ('chipotletweets_chipotle', 0.6592608690261841),\n",
              " ('burrito_bowl', 0.6556267738342285),\n",
              " ('119158', 0.653752863407135),\n",
              " ('tacobellteam', 0.6495807766914368),\n",
              " ('queso', 0.6100533604621887),\n",
              " ('bowl', 0.6003615856170654),\n",
              " ('burrito_chipotletweets', 0.5989574193954468),\n",
              " ('guac', 0.5897701978683472),\n",
              " ('118557', 0.5892668962478638),\n",
              " ('chicken_bowl', 0.5871140360832214),\n",
              " ('taco_bell', 0.5809547305107117),\n",
              " ('taco', 0.5783220529556274),\n",
              " ('dunkindonuts', 0.5779246091842651),\n",
              " ('jackbox', 0.5764709711074829),\n",
              " ('arbyscares', 0.5743589401245117),\n",
              " ('chipotletweets_bowl', 0.5734901428222656),\n",
              " ('arbys', 0.5720056295394897),\n",
              " ('chipotletweets_burrito', 0.5715867280960083),\n",
              " ('guacamole', 0.571576714515686),\n",
              " ('118625_tacobellteam', 0.5713750123977661)]"
            ]
          },
          "metadata": {
            "tags": []
          },
          "execution_count": 77
        }
      ]
    },
    {
      "cell_type": "code",
      "metadata": {
        "colab": {
          "base_uri": "https://localhost:8080/"
        },
        "id": "6qwA6pUBLdXV",
        "outputId": "d310ba73-bac2-47be-bd08-d2681d7155ef"
      },
      "source": [
        "w2v_model.wv.most_similar(positive=[\"play\"])"
      ],
      "execution_count": null,
      "outputs": [
        {
          "output_type": "execute_result",
          "data": {
            "text/plain": [
              "[('fine', 0.9998764395713806),\n",
              " ('watch', 0.9998748302459717),\n",
              " ('You', 0.9998740553855896),\n",
              " ('screen', 0.9998726844787598),\n",
              " ('think', 0.9998713731765747),\n",
              " ('game', 0.9998708367347717),\n",
              " ('115955', 0.9998704195022583),\n",
              " ('joke', 0.9998696446418762),\n",
              " ('115940', 0.9998674988746643),\n",
              " ('thing', 0.9998670816421509)]"
            ]
          },
          "metadata": {
            "tags": []
          },
          "execution_count": 90
        }
      ]
    },
    {
      "cell_type": "code",
      "metadata": {
        "colab": {
          "base_uri": "https://localhost:8080/"
        },
        "id": "6jyL_JVyLroj",
        "outputId": "6a46be24-87c9-40b2-fff1-73b3a02ef2d0"
      },
      "source": [
        "w2v_model.wv.most_similar(positive=[\"game\"], topn=20)"
      ],
      "execution_count": null,
      "outputs": [
        {
          "output_type": "execute_result",
          "data": {
            "text/plain": [
              "[('xbox', 0.6837126016616821),\n",
              " ('ww2', 0.6638185977935791),\n",
              " ('xbox_one', 0.6496511697769165),\n",
              " ('cod_ww2', 0.6450698375701904),\n",
              " ('play_game', 0.6271839737892151),\n",
              " ('play', 0.614237904548645),\n",
              " ('ps4', 0.6111302375793457),\n",
              " ('atviassist', 0.5983550548553467),\n",
              " ('multiplayer', 0.5900417566299438),\n",
              " ('xboxsupport', 0.5822678804397583),\n",
              " ('xb1', 0.5749655365943909),\n",
              " ('codww2', 0.5715525150299072),\n",
              " ('player', 0.5660527348518372),\n",
              " ('halo_5', 0.5651882886886597),\n",
              " ('destiny_2', 0.5601149797439575),\n",
              " ('115766', 0.5577322244644165),\n",
              " ('gameplay', 0.5574690103530884),\n",
              " ('cod_wwii', 0.5529870390892029),\n",
              " ('fortnite', 0.5520461797714233),\n",
              " ('console', 0.5491738319396973)]"
            ]
          },
          "metadata": {
            "tags": []
          },
          "execution_count": 97
        }
      ]
    },
    {
      "cell_type": "code",
      "metadata": {
        "colab": {
          "base_uri": "https://localhost:8080/"
        },
        "id": "--yOHEoFLzJc",
        "outputId": "53a21666-cd15-4001-ecaf-8deec95b6ba0"
      },
      "source": [
        "w2v_model.wv.similarity(\"apple\", 'iphone')"
      ],
      "execution_count": null,
      "outputs": [
        {
          "output_type": "execute_result",
          "data": {
            "text/plain": [
              "0.6044717"
            ]
          },
          "metadata": {
            "tags": []
          },
          "execution_count": 82
        }
      ]
    },
    {
      "cell_type": "code",
      "metadata": {
        "colab": {
          "base_uri": "https://localhost:8080/"
        },
        "id": "MwAq4Xy84hzt",
        "outputId": "5cfd6f9b-b6a1-4d22-fe8e-c5df3d35db63"
      },
      "source": [
        "w2v_model.wv.similarity(\"britishairways\", 'americanair')"
      ],
      "execution_count": null,
      "outputs": [
        {
          "output_type": "execute_result",
          "data": {
            "text/plain": [
              "0.72780585"
            ]
          },
          "metadata": {
            "tags": []
          },
          "execution_count": 89
        }
      ]
    },
    {
      "cell_type": "code",
      "metadata": {
        "colab": {
          "base_uri": "https://localhost:8080/"
        },
        "id": "mHOU6LS-4-G6",
        "outputId": "355b5419-f0ab-4d67-8e79-b45d39b1a02f"
      },
      "source": [
        "w2v_model.wv.similarity(\"chipotletweets\", 'burrito')"
      ],
      "execution_count": null,
      "outputs": [
        {
          "output_type": "execute_result",
          "data": {
            "text/plain": [
              "0.67098397"
            ]
          },
          "metadata": {
            "tags": []
          },
          "execution_count": 95
        }
      ]
    },
    {
      "cell_type": "code",
      "metadata": {
        "id": "t6kEem845e9m"
      },
      "source": [
        "w2v_model.wv.similarity(\"chipotletweets\", 'burrito')"
      ],
      "execution_count": null,
      "outputs": []
    },
    {
      "cell_type": "code",
      "metadata": {
        "colab": {
          "base_uri": "https://localhost:8080/",
          "height": 89
        },
        "id": "6oKX6MEwMMMq",
        "outputId": "4635cac7-6abe-4d86-f9ec-a10becd323ea"
      },
      "source": [
        "w2v_model.wv.doesnt_match(['apple', 'good', 'flight'])"
      ],
      "execution_count": null,
      "outputs": [
        {
          "output_type": "stream",
          "text": [
            "/usr/local/lib/python3.7/dist-packages/gensim/models/keyedvectors.py:895: FutureWarning: arrays to stack must be passed as a \"sequence\" type such as list or tuple. Support for non-sequence iterables such as generators is deprecated as of NumPy 1.16 and will raise an error in the future.\n",
            "  vectors = vstack(self.word_vec(word, use_norm=True) for word in used_words).astype(REAL)\n"
          ],
          "name": "stderr"
        },
        {
          "output_type": "execute_result",
          "data": {
            "application/vnd.google.colaboratory.intrinsic+json": {
              "type": "string"
            },
            "text/plain": [
              "'flight'"
            ]
          },
          "metadata": {
            "tags": []
          },
          "execution_count": 100
        }
      ]
    },
    {
      "cell_type": "code",
      "metadata": {
        "colab": {
          "base_uri": "https://localhost:8080/"
        },
        "id": "E6_pSesg_jof",
        "outputId": "c6e4789f-bee2-4b7b-ac43-fc79fa358e29"
      },
      "source": [
        "w2v_model.wv.most_similar(positive=[\"amazon\", \"apple\"], negative=[\"iphone\"], topn=3)"
      ],
      "execution_count": null,
      "outputs": [
        {
          "output_type": "execute_result",
          "data": {
            "text/plain": [
              "[('115850', 0.6135084629058838),\n",
              " ('amazonhelp', 0.6003967523574829),\n",
              " ('115821', 0.600330114364624)]"
            ]
          },
          "metadata": {
            "tags": []
          },
          "execution_count": 101
        }
      ]
    },
    {
      "cell_type": "code",
      "metadata": {
        "colab": {
          "base_uri": "https://localhost:8080/"
        },
        "id": "nm6C3jJ8_quJ",
        "outputId": "c53fad1a-aeff-44d1-8404-aad1a444a3b1"
      },
      "source": [
        "w2v_model.wv.most_similar(positive=[\"amazon\", \"apple\"], negative=[\"applesupport\"], topn=3)"
      ],
      "execution_count": null,
      "outputs": [
        {
          "output_type": "execute_result",
          "data": {
            "text/plain": [
              "[('amazonin', 0.5633821487426758),\n",
              " ('115850', 0.5535029768943787),\n",
              " ('seller', 0.5490400791168213)]"
            ]
          },
          "metadata": {
            "tags": []
          },
          "execution_count": 102
        }
      ]
    },
    {
      "cell_type": "code",
      "metadata": {
        "colab": {
          "base_uri": "https://localhost:8080/"
        },
        "id": "_nLaxftPAKu5",
        "outputId": "915a7192-df63-433f-94ad-b7dc012bc7fa"
      },
      "source": [
        "w2v_model.wv.most_similar(positive=[\"apple\", \"amazon\"], negative=[\"echo\"], topn=3)"
      ],
      "execution_count": null,
      "outputs": [
        {
          "output_type": "execute_result",
          "data": {
            "text/plain": [
              "[('115850', 0.4507520794868469),\n",
              " ('115821', 0.43308162689208984),\n",
              " ('ebay', 0.42271363735198975)]"
            ]
          },
          "metadata": {
            "tags": []
          },
          "execution_count": 103
        }
      ]
    },
    {
      "cell_type": "code",
      "metadata": {
        "colab": {
          "base_uri": "https://localhost:8080/"
        },
        "id": "sucx6t_nATRB",
        "outputId": "e04d5f8b-bfca-4789-9a08-a96d30b75096"
      },
      "source": [
        "w2v_model.wv.most_similar(positive=[\"chipotle\", \"apple\"], negative=[\"iphone\"], topn=5)"
      ],
      "execution_count": null,
      "outputs": [
        {
          "output_type": "execute_result",
          "data": {
            "text/plain": [
              "[('chipotletweets', 0.6921877861022949),\n",
              " ('mcdonalds', 0.5467450618743896),\n",
              " ('jackbox', 0.5261733531951904),\n",
              " ('arbys', 0.5249221324920654),\n",
              " ('chipotletweets_chipotle', 0.5180568695068359)]"
            ]
          },
          "metadata": {
            "tags": []
          },
          "execution_count": 105
        }
      ]
    },
    {
      "cell_type": "code",
      "metadata": {
        "colab": {
          "base_uri": "https://localhost:8080/"
        },
        "id": "ISnl3U6OA3HW",
        "outputId": "0768d4b5-2866-4d24-d872-5a4a783b439c"
      },
      "source": [
        "w2v_model.wv.most_similar(positive=[\"apple\", \"amazonhelp\"], negative=[\"amazon\"], topn=3)"
      ],
      "execution_count": null,
      "outputs": [
        {
          "output_type": "execute_result",
          "data": {
            "text/plain": [
              "[('applesupport', 0.7136973142623901),\n",
              " ('115858', 0.6176860332489014),\n",
              " ('115858_applesupport', 0.6052395105361938)]"
            ]
          },
          "metadata": {
            "tags": []
          },
          "execution_count": 106
        }
      ]
    },
    {
      "cell_type": "code",
      "metadata": {
        "colab": {
          "base_uri": "https://localhost:8080/"
        },
        "id": "ekJuF_H4BM0m",
        "outputId": "bd297757-f652-4d4f-8a96-4db9d3765fbf"
      },
      "source": [
        "w2v_model.wv.most_similar(positive=[\"britishairways\", \"echo\"], negative=[\"uber\"], topn=3)"
      ],
      "execution_count": null,
      "outputs": [
        {
          "output_type": "execute_result",
          "data": {
            "text/plain": [
              "[('plane', 0.6145092248916626),\n",
              " ('seat', 0.5156495571136475),\n",
              " ('americanair', 0.5085147619247437)]"
            ]
          },
          "metadata": {
            "tags": []
          },
          "execution_count": 109
        }
      ]
    },
    {
      "cell_type": "code",
      "metadata": {
        "colab": {
          "base_uri": "https://localhost:8080/"
        },
        "id": "XhuyvN08B5Nw",
        "outputId": "09249638-fdb3-4a3d-e009-e7ef36d8172f"
      },
      "source": [
        "w2v_model.wv.most_similar(positive=[\"xbox\", \"song\"], negative=[\"spotify\"], topn=3)"
      ],
      "execution_count": null,
      "outputs": [
        {
          "output_type": "execute_result",
          "data": {
            "text/plain": [
              "[('game', 0.6415499448776245),\n",
              " ('xbox_one', 0.5659031867980957),\n",
              " ('xboxsupport', 0.5278393626213074)]"
            ]
          },
          "metadata": {
            "tags": []
          },
          "execution_count": 110
        }
      ]
    },
    {
      "cell_type": "markdown",
      "metadata": {
        "id": "5oDL-78qu0xF"
      },
      "source": [
        "### Customer Sentiment by Brand\n",
        "We identify the top 20 brands by support volume, and find the average sentiment for inbound customer requests."
      ]
    },
    {
      "cell_type": "code",
      "metadata": {
        "colab": {
          "base_uri": "https://localhost:8080/"
        },
        "id": "AS7vRToHu6Gr",
        "outputId": "cdf3cc95-f594-4ec5-ce65-cd8d78673a35"
      },
      "source": [
        "from nltk.sentiment.vader import SentimentIntensityAnalyzer\n",
        "from tqdm import tqdm_notebook\n",
        "from datetime import datetime\n",
        "\n",
        "%config InlineBackend.figure_format = 'svg'"
      ],
      "execution_count": null,
      "outputs": [
        {
          "output_type": "stream",
          "text": [
            "/usr/local/lib/python3.7/dist-packages/nltk/twitter/__init__.py:20: UserWarning: The twython library has not been installed. Some functionality from the twitter package will not be available.\n",
            "  warnings.warn(\"The twython library has not been installed. \"\n"
          ],
          "name": "stderr"
        }
      ]
    },
    {
      "cell_type": "code",
      "metadata": {
        "colab": {
          "base_uri": "https://localhost:8080/"
        },
        "id": "aa-OFXDDDyOY",
        "outputId": "5913b4be-daba-421f-df75-07c4e5d038a5"
      },
      "source": [
        "df_clean.head"
      ],
      "execution_count": null,
      "outputs": [
        {
          "output_type": "execute_result",
          "data": {
            "text/plain": [
              "<bound method NDFrame.head of          tweet_id                                              clean\n",
              "0               1  115712 understand would assist would need priv...\n",
              "1               2                                 sprintcare propose\n",
              "2               3  sprintcare sent several private message one re...\n",
              "3               4  115712 send private message assist click ‘ mes...\n",
              "4               5                                         sprintcare\n",
              "...           ...                                                ...\n",
              "2811769   2987947   hey wed happy look send direct message assist tn\n",
              "2811770   2987948  115714 What The F... really shitty service day...\n",
              "2811771   2812240  143549 sprintcare go ask add hulu service acco...\n",
              "2811772   2987949                            sound delicious sarah 😋\n",
              "2811773   2987950  aldiuk warm sloe gin mince pie ice cream best ...\n",
              "\n",
              "[2811774 rows x 2 columns]>"
            ]
          },
          "metadata": {
            "tags": []
          },
          "execution_count": 118
        }
      ]
    },
    {
      "cell_type": "code",
      "metadata": {
        "id": "1eGMRrDZDjQ_"
      },
      "source": [
        "df['text'] = df_clean['clean']"
      ],
      "execution_count": null,
      "outputs": []
    },
    {
      "cell_type": "code",
      "metadata": {
        "colab": {
          "base_uri": "https://localhost:8080/",
          "height": 153,
          "referenced_widgets": [
            "3841c3f394064257a1f125803a303dd7",
            "01d1739df8cd4333ba19a770f345a608",
            "52d1e5a2c24343adb62dd0a17642523a",
            "5bc9b550073741989d71e072bbe0960d",
            "e92c899b33ae4b288ef0122a569136aa",
            "53a87e8a94e7455f93b4c8be3068bad2",
            "5c3296fb0157417c91159337925910e8",
            "fc6e4099f20c4998a4ad5df4d4ad80e8"
          ]
        },
        "id": "TR2GECQ4vVTJ",
        "outputId": "c3277351-ebcf-472c-8d98-5c845d874ff4"
      },
      "source": [
        "first_inbound = df[pd.isnull(df.in_response_to_tweet_id) & df.inbound]\n",
        "\n",
        "inbounds_and_outbounds = pd.merge(first_inbound, df, left_on='tweet_id', right_on='in_response_to_tweet_id')\n",
        "\n",
        "inbounds_and_outbounds = inbounds_and_outbounds[inbounds_and_outbounds.inbound_y ^ True]\n",
        "\n",
        "tqdm_notebook().pandas()"
      ],
      "execution_count": null,
      "outputs": [
        {
          "output_type": "stream",
          "text": [
            "/usr/local/lib/python3.7/dist-packages/ipykernel_launcher.py:7: TqdmDeprecationWarning: This function will be removed in tqdm==5.0.0\n",
            "Please use `tqdm.notebook.tqdm` instead of `tqdm.tqdm_notebook`\n",
            "  import sys\n"
          ],
          "name": "stderr"
        },
        {
          "output_type": "display_data",
          "data": {
            "application/vnd.jupyter.widget-view+json": {
              "model_id": "3841c3f394064257a1f125803a303dd7",
              "version_minor": 0,
              "version_major": 2
            },
            "text/plain": [
              "HBox(children=(FloatProgress(value=1.0, bar_style='info', max=1.0), HTML(value='')))"
            ]
          },
          "metadata": {
            "tags": []
          }
        },
        {
          "output_type": "stream",
          "text": [
            "/usr/local/lib/python3.7/dist-packages/tqdm/std.py:658: FutureWarning: The Panel class is removed from pandas. Accessing it from the top-level namespace will also be removed in the next version\n",
            "  from pandas import Panel\n"
          ],
          "name": "stderr"
        }
      ]
    },
    {
      "cell_type": "code",
      "metadata": {
        "colab": {
          "base_uri": "https://localhost:8080/"
        },
        "id": "ZxIAhR2bGZ_P",
        "outputId": "f351eea6-1195-4461-aade-9b3746797bd6"
      },
      "source": [
        "nltk.download('vader_lexicon')"
      ],
      "execution_count": null,
      "outputs": [
        {
          "output_type": "stream",
          "text": [
            "[nltk_data] Downloading package vader_lexicon to /root/nltk_data...\n",
            "[nltk_data]   Package vader_lexicon is already up-to-date!\n"
          ],
          "name": "stdout"
        },
        {
          "output_type": "execute_result",
          "data": {
            "text/plain": [
              "True"
            ]
          },
          "metadata": {
            "tags": []
          },
          "execution_count": 121
        }
      ]
    },
    {
      "cell_type": "code",
      "metadata": {
        "colab": {
          "base_uri": "https://localhost:8080/"
        },
        "id": "Nxh74yjrwN-u",
        "outputId": "ce0b5026-c311-485f-da88-8a0d5ac84635"
      },
      "source": [
        "sentiment_analyzer = SentimentIntensityAnalyzer()\n",
        "\n",
        "def sentiment_for(text: str) -> float:\n",
        "    return sentiment_analyzer.polarity_scores(text)['compound']\n",
        "\n",
        "sentiment_for('I love it!')"
      ],
      "execution_count": null,
      "outputs": [
        {
          "output_type": "execute_result",
          "data": {
            "text/plain": [
              "0.6696"
            ]
          },
          "metadata": {
            "tags": []
          },
          "execution_count": 116
        }
      ]
    },
    {
      "cell_type": "code",
      "metadata": {
        "colab": {
          "base_uri": "https://localhost:8080/",
          "height": 66,
          "referenced_widgets": [
            "5bb6d7099a87457eaba015e891a1ed10",
            "ffda6651c0b84d129ed7833c113dca30",
            "b85c2f4519744eceb3f776f53bf3c9de",
            "28913bb292764f4ea0910cc737423983",
            "0fbc32bbbc0746c5b0cd8a1a7016682b",
            "83042247641d4ff18ef5e72317d0c9df",
            "85a8a216529542379341c860cdd48b25",
            "401106e5c0d34535a1a429f426e15bba"
          ]
        },
        "id": "xkhHHeEGwTsC",
        "outputId": "2fe3ed94-3c8a-49d1-dcf9-b361e0b66e93"
      },
      "source": [
        "inbounds_and_outbounds['inbound_sentiment'] = \\\n",
        "    inbounds_and_outbounds.text_x.progress_apply(sentiment_for)"
      ],
      "execution_count": null,
      "outputs": [
        {
          "output_type": "display_data",
          "data": {
            "application/vnd.jupyter.widget-view+json": {
              "model_id": "5bb6d7099a87457eaba015e891a1ed10",
              "version_minor": 0,
              "version_major": 2
            },
            "text/plain": [
              "HBox(children=(FloatProgress(value=0.0, max=794299.0), HTML(value='')))"
            ]
          },
          "metadata": {
            "tags": []
          }
        },
        {
          "output_type": "stream",
          "text": [
            "\n"
          ],
          "name": "stdout"
        }
      ]
    },
    {
      "cell_type": "code",
      "metadata": {
        "colab": {
          "base_uri": "https://localhost:8080/",
          "height": 602
        },
        "id": "9GWo9GYHwWVq",
        "outputId": "0beff4fb-043a-4afb-f4c0-c8f8040d9f23"
      },
      "source": [
        "inbounds_and_outbounds.head()"
      ],
      "execution_count": null,
      "outputs": [
        {
          "output_type": "execute_result",
          "data": {
            "text/html": [
              "<div>\n",
              "<style scoped>\n",
              "    .dataframe tbody tr th:only-of-type {\n",
              "        vertical-align: middle;\n",
              "    }\n",
              "\n",
              "    .dataframe tbody tr th {\n",
              "        vertical-align: top;\n",
              "    }\n",
              "\n",
              "    .dataframe thead th {\n",
              "        text-align: right;\n",
              "    }\n",
              "</style>\n",
              "<table border=\"1\" class=\"dataframe\">\n",
              "  <thead>\n",
              "    <tr style=\"text-align: right;\">\n",
              "      <th></th>\n",
              "      <th>tweet_id_x</th>\n",
              "      <th>author_id_x</th>\n",
              "      <th>inbound_x</th>\n",
              "      <th>created_at_x</th>\n",
              "      <th>text_x</th>\n",
              "      <th>response_tweet_id_x</th>\n",
              "      <th>in_response_to_tweet_id_x</th>\n",
              "      <th>tweet_id_y</th>\n",
              "      <th>author_id_y</th>\n",
              "      <th>inbound_y</th>\n",
              "      <th>created_at_y</th>\n",
              "      <th>text_y</th>\n",
              "      <th>response_tweet_id_y</th>\n",
              "      <th>in_response_to_tweet_id_y</th>\n",
              "      <th>inbound_sentiment</th>\n",
              "    </tr>\n",
              "  </thead>\n",
              "  <tbody>\n",
              "    <tr>\n",
              "      <th>0</th>\n",
              "      <td>8</td>\n",
              "      <td>115712</td>\n",
              "      <td>True</td>\n",
              "      <td>Tue Oct 31 21:45:10 +0000 2017</td>\n",
              "      <td>sprintcare bad customer service</td>\n",
              "      <td>9,6,10</td>\n",
              "      <td>NaN</td>\n",
              "      <td>6</td>\n",
              "      <td>sprintcare</td>\n",
              "      <td>False</td>\n",
              "      <td>Tue Oct 31 21:46:24 +0000 2017</td>\n",
              "      <td>115712 send private message gain detail account</td>\n",
              "      <td>5,7</td>\n",
              "      <td>8.0</td>\n",
              "      <td>-0.5423</td>\n",
              "    </tr>\n",
              "    <tr>\n",
              "      <th>1</th>\n",
              "      <td>8</td>\n",
              "      <td>115712</td>\n",
              "      <td>True</td>\n",
              "      <td>Tue Oct 31 21:45:10 +0000 2017</td>\n",
              "      <td>sprintcare bad customer service</td>\n",
              "      <td>9,6,10</td>\n",
              "      <td>NaN</td>\n",
              "      <td>9</td>\n",
              "      <td>sprintcare</td>\n",
              "      <td>False</td>\n",
              "      <td>Tue Oct 31 21:46:14 +0000 2017</td>\n",
              "      <td>115712 would love chance review account provid...</td>\n",
              "      <td>NaN</td>\n",
              "      <td>8.0</td>\n",
              "      <td>-0.5423</td>\n",
              "    </tr>\n",
              "    <tr>\n",
              "      <th>2</th>\n",
              "      <td>8</td>\n",
              "      <td>115712</td>\n",
              "      <td>True</td>\n",
              "      <td>Tue Oct 31 21:45:10 +0000 2017</td>\n",
              "      <td>sprintcare bad customer service</td>\n",
              "      <td>9,6,10</td>\n",
              "      <td>NaN</td>\n",
              "      <td>10</td>\n",
              "      <td>sprintcare</td>\n",
              "      <td>False</td>\n",
              "      <td>Tue Oct 31 21:45:59 +0000 2017</td>\n",
              "      <td>115712 hello never customer feel value</td>\n",
              "      <td>NaN</td>\n",
              "      <td>8.0</td>\n",
              "      <td>-0.5423</td>\n",
              "    </tr>\n",
              "    <tr>\n",
              "      <th>3</th>\n",
              "      <td>18</td>\n",
              "      <td>115713</td>\n",
              "      <td>True</td>\n",
              "      <td>Tue Oct 31 19:56:01 +0000 2017</td>\n",
              "      <td>115714 lie “ great ” connection 5 bar lte stil...</td>\n",
              "      <td>17</td>\n",
              "      <td>NaN</td>\n",
              "      <td>17</td>\n",
              "      <td>sprintcare</td>\n",
              "      <td>False</td>\n",
              "      <td>Tue Oct 31 19:59:13 +0000 2017</td>\n",
              "      <td>115713 h wed definitely work long experience i...</td>\n",
              "      <td>16</td>\n",
              "      <td>18.0</td>\n",
              "      <td>0.4215</td>\n",
              "    </tr>\n",
              "    <tr>\n",
              "      <th>4</th>\n",
              "      <td>20</td>\n",
              "      <td>115715</td>\n",
              "      <td>True</td>\n",
              "      <td>Tue Oct 31 22:03:34 +0000 2017</td>\n",
              "      <td>115714 whenever contact customer support tell ...</td>\n",
              "      <td>19</td>\n",
              "      <td>NaN</td>\n",
              "      <td>19</td>\n",
              "      <td>sprintcare</td>\n",
              "      <td>False</td>\n",
              "      <td>Tue Oct 31 22:10:10 +0000 2017</td>\n",
              "      <td>115715 send private message send link access a...</td>\n",
              "      <td>NaN</td>\n",
              "      <td>20.0</td>\n",
              "      <td>0.4019</td>\n",
              "    </tr>\n",
              "  </tbody>\n",
              "</table>\n",
              "</div>"
            ],
            "text/plain": [
              "   tweet_id_x author_id_x  ...  in_response_to_tweet_id_y inbound_sentiment\n",
              "0           8      115712  ...                        8.0           -0.5423\n",
              "1           8      115712  ...                        8.0           -0.5423\n",
              "2           8      115712  ...                        8.0           -0.5423\n",
              "3          18      115713  ...                       18.0            0.4215\n",
              "4          20      115715  ...                       20.0            0.4019\n",
              "\n",
              "[5 rows x 15 columns]"
            ]
          },
          "metadata": {
            "tags": []
          },
          "execution_count": 123
        }
      ]
    },
    {
      "cell_type": "code",
      "metadata": {
        "id": "tlyZBsLhHqXe"
      },
      "source": [
        "author_grouped = inbounds_and_outbounds.groupby('author_id_y')"
      ],
      "execution_count": null,
      "outputs": []
    },
    {
      "cell_type": "code",
      "metadata": {
        "id": "8X-s1UQ9COz6"
      },
      "source": [
        "top_support_providers = set(author_grouped.agg('count')\n",
        "                                .sort_values(['tweet_id_x'], ascending=[0])\n",
        "                                .index[:20]\n",
        "                                .values)"
      ],
      "execution_count": null,
      "outputs": []
    },
    {
      "cell_type": "code",
      "metadata": {
        "colab": {
          "base_uri": "https://localhost:8080/",
          "height": 390
        },
        "id": "5wxBr63ACSHL",
        "outputId": "d8ced36a-e2c3-4e6e-fe04-ba856bafc64e"
      },
      "source": [
        "inbounds_and_outbounds \\\n",
        "    .loc[inbounds_and_outbounds.author_id_y.isin(top_support_providers)] \\\n",
        "    .groupby('author_id_y') \\\n",
        "    .tweet_id_x.count() \\\n",
        "    .sort_values() \\\n",
        "    .plot.barh(title='Top 20 Brands by Volume')"
      ],
      "execution_count": null,
      "outputs": [
        {
          "output_type": "execute_result",
          "data": {
            "text/plain": [
              "<matplotlib.axes._subplots.AxesSubplot at 0x7f41e34ded90>"
            ]
          },
          "metadata": {
            "tags": []
          },
          "execution_count": 128
        },
        {
          "output_type": "display_data",
          "data": {
            "text/plain": [
              "<Figure size 432x288 with 1 Axes>"
            ],
            "image/svg+xml": "<?xml version=\"1.0\" encoding=\"utf-8\" standalone=\"no\"?>\n<!DOCTYPE svg PUBLIC \"-//W3C//DTD SVG 1.1//EN\"\n  \"http://www.w3.org/Graphics/SVG/1.1/DTD/svg11.dtd\">\n<!-- Created with matplotlib (https://matplotlib.org/) -->\n<svg height=\"263.63625pt\" version=\"1.1\" viewBox=\"0 0 446.315625 263.63625\" width=\"446.315625pt\" xmlns=\"http://www.w3.org/2000/svg\" xmlns:xlink=\"http://www.w3.org/1999/xlink\">\n <defs>\n  <style type=\"text/css\">\n*{stroke-linecap:butt;stroke-linejoin:round;}\n  </style>\n </defs>\n <g id=\"figure_1\">\n  <g id=\"patch_1\">\n   <path d=\"M 0 263.63625 \nL 446.315625 263.63625 \nL 446.315625 0 \nL 0 0 \nz\n\" style=\"fill:none;\"/>\n  </g>\n  <g id=\"axes_1\">\n   <g id=\"patch_2\">\n    <path d=\"M 104.315625 239.758125 \nL 439.115625 239.758125 \nL 439.115625 22.318125 \nL 104.315625 22.318125 \nz\n\" style=\"fill:#ffffff;\"/>\n   </g>\n   <g id=\"patch_3\">\n    <path clip-path=\"url(#p14d5d1f78e)\" d=\"M 104.315625 237.040125 \nL 144.863606 237.040125 \nL 144.863606 231.604125 \nL 104.315625 231.604125 \nz\n\" style=\"fill:#1f77b4;\"/>\n   </g>\n   <g id=\"patch_4\">\n    <path clip-path=\"url(#p14d5d1f78e)\" d=\"M 104.315625 226.168125 \nL 147.252105 226.168125 \nL 147.252105 220.732125 \nL 104.315625 220.732125 \nz\n\" style=\"fill:#1f77b4;\"/>\n   </g>\n   <g id=\"patch_5\">\n    <path clip-path=\"url(#p14d5d1f78e)\" d=\"M 104.315625 215.296125 \nL 151.441397 215.296125 \nL 151.441397 209.860125 \nL 104.315625 209.860125 \nz\n\" style=\"fill:#1f77b4;\"/>\n   </g>\n   <g id=\"patch_6\">\n    <path clip-path=\"url(#p14d5d1f78e)\" d=\"M 104.315625 204.424125 \nL 151.968826 204.424125 \nL 151.968826 198.988125 \nL 104.315625 198.988125 \nz\n\" style=\"fill:#1f77b4;\"/>\n   </g>\n   <g id=\"patch_7\">\n    <path clip-path=\"url(#p14d5d1f78e)\" d=\"M 104.315625 193.552125 \nL 156.504715 193.552125 \nL 156.504715 188.116125 \nL 104.315625 188.116125 \nz\n\" style=\"fill:#1f77b4;\"/>\n   </g>\n   <g id=\"patch_8\">\n    <path clip-path=\"url(#p14d5d1f78e)\" d=\"M 104.315625 182.680125 \nL 157.789381 182.680125 \nL 157.789381 177.244125 \nL 104.315625 177.244125 \nz\n\" style=\"fill:#1f77b4;\"/>\n   </g>\n   <g id=\"patch_9\">\n    <path clip-path=\"url(#p14d5d1f78e)\" d=\"M 104.315625 171.808125 \nL 158.162349 171.808125 \nL 158.162349 166.372125 \nL 104.315625 166.372125 \nz\n\" style=\"fill:#1f77b4;\"/>\n   </g>\n   <g id=\"patch_10\">\n    <path clip-path=\"url(#p14d5d1f78e)\" d=\"M 104.315625 160.936125 \nL 158.403459 160.936125 \nL 158.403459 155.500125 \nL 104.315625 155.500125 \nz\n\" style=\"fill:#1f77b4;\"/>\n   </g>\n   <g id=\"patch_11\">\n    <path clip-path=\"url(#p14d5d1f78e)\" d=\"M 104.315625 150.064125 \nL 169.377747 150.064125 \nL 169.377747 144.628125 \nL 104.315625 144.628125 \nz\n\" style=\"fill:#1f77b4;\"/>\n   </g>\n   <g id=\"patch_12\">\n    <path clip-path=\"url(#p14d5d1f78e)\" d=\"M 104.315625 139.192125 \nL 178.197112 139.192125 \nL 178.197112 133.756125 \nL 104.315625 133.756125 \nz\n\" style=\"fill:#1f77b4;\"/>\n   </g>\n   <g id=\"patch_13\">\n    <path clip-path=\"url(#p14d5d1f78e)\" d=\"M 104.315625 128.320125 \nL 179.907489 128.320125 \nL 179.907489 122.884125 \nL 104.315625 122.884125 \nz\n\" style=\"fill:#1f77b4;\"/>\n   </g>\n   <g id=\"patch_14\">\n    <path clip-path=\"url(#p14d5d1f78e)\" d=\"M 104.315625 117.448125 \nL 183.377217 117.448125 \nL 183.377217 112.012125 \nL 104.315625 112.012125 \nz\n\" style=\"fill:#1f77b4;\"/>\n   </g>\n   <g id=\"patch_15\">\n    <path clip-path=\"url(#p14d5d1f78e)\" d=\"M 104.315625 106.576125 \nL 194.133 106.576125 \nL 194.133 101.140125 \nL 104.315625 101.140125 \nz\n\" style=\"fill:#1f77b4;\"/>\n   </g>\n   <g id=\"patch_16\">\n    <path clip-path=\"url(#p14d5d1f78e)\" d=\"M 104.315625 95.704125 \nL 196.638287 95.704125 \nL 196.638287 90.268125 \nL 104.315625 90.268125 \nz\n\" style=\"fill:#1f77b4;\"/>\n   </g>\n   <g id=\"patch_17\">\n    <path clip-path=\"url(#p14d5d1f78e)\" d=\"M 104.315625 84.832125 \nL 198.073647 84.832125 \nL 198.073647 79.396125 \nL 104.315625 79.396125 \nz\n\" style=\"fill:#1f77b4;\"/>\n   </g>\n   <g id=\"patch_18\">\n    <path clip-path=\"url(#p14d5d1f78e)\" d=\"M 104.315625 73.960125 \nL 205.808015 73.960125 \nL 205.808015 68.524125 \nL 104.315625 68.524125 \nz\n\" style=\"fill:#1f77b4;\"/>\n   </g>\n   <g id=\"patch_19\">\n    <path clip-path=\"url(#p14d5d1f78e)\" d=\"M 104.315625 63.088125 \nL 211.62857 63.088125 \nL 211.62857 57.652125 \nL 104.315625 57.652125 \nz\n\" style=\"fill:#1f77b4;\"/>\n   </g>\n   <g id=\"patch_20\">\n    <path clip-path=\"url(#p14d5d1f78e)\" d=\"M 104.315625 52.216125 \nL 255.11885 52.216125 \nL 255.11885 46.780125 \nL 104.315625 46.780125 \nz\n\" style=\"fill:#1f77b4;\"/>\n   </g>\n   <g id=\"patch_21\">\n    <path clip-path=\"url(#p14d5d1f78e)\" d=\"M 104.315625 41.344125 \nL 385.480438 41.344125 \nL 385.480438 35.908125 \nL 104.315625 35.908125 \nz\n\" style=\"fill:#1f77b4;\"/>\n   </g>\n   <g id=\"patch_22\">\n    <path clip-path=\"url(#p14d5d1f78e)\" d=\"M 104.315625 30.472125 \nL 423.172768 30.472125 \nL 423.172768 25.036125 \nL 104.315625 25.036125 \nz\n\" style=\"fill:#1f77b4;\"/>\n   </g>\n   <g id=\"matplotlib.axis_1\">\n    <g id=\"xtick_1\">\n     <g id=\"line2d_1\">\n      <defs>\n       <path d=\"M 0 0 \nL 0 3.5 \n\" id=\"md52cf9cae6\" style=\"stroke:#000000;stroke-width:0.8;\"/>\n      </defs>\n      <g>\n       <use style=\"stroke:#000000;stroke-width:0.8;\" x=\"104.315625\" xlink:href=\"#md52cf9cae6\" y=\"239.758125\"/>\n      </g>\n     </g>\n     <g id=\"text_1\">\n      <!-- 0 -->\n      <defs>\n       <path d=\"M 31.78125 66.40625 \nQ 24.171875 66.40625 20.328125 58.90625 \nQ 16.5 51.421875 16.5 36.375 \nQ 16.5 21.390625 20.328125 13.890625 \nQ 24.171875 6.390625 31.78125 6.390625 \nQ 39.453125 6.390625 43.28125 13.890625 \nQ 47.125 21.390625 47.125 36.375 \nQ 47.125 51.421875 43.28125 58.90625 \nQ 39.453125 66.40625 31.78125 66.40625 \nz\nM 31.78125 74.21875 \nQ 44.046875 74.21875 50.515625 64.515625 \nQ 56.984375 54.828125 56.984375 36.375 \nQ 56.984375 17.96875 50.515625 8.265625 \nQ 44.046875 -1.421875 31.78125 -1.421875 \nQ 19.53125 -1.421875 13.0625 8.265625 \nQ 6.59375 17.96875 6.59375 36.375 \nQ 6.59375 54.828125 13.0625 64.515625 \nQ 19.53125 74.21875 31.78125 74.21875 \nz\n\" id=\"DejaVuSans-48\"/>\n      </defs>\n      <g transform=\"translate(101.134375 254.356563)scale(0.1 -0.1)\">\n       <use xlink:href=\"#DejaVuSans-48\"/>\n      </g>\n     </g>\n    </g>\n    <g id=\"xtick_2\">\n     <g id=\"line2d_2\">\n      <g>\n       <use style=\"stroke:#000000;stroke-width:0.8;\" x=\"141.989118\" xlink:href=\"#md52cf9cae6\" y=\"239.758125\"/>\n      </g>\n     </g>\n     <g id=\"text_2\">\n      <!-- 10000 -->\n      <defs>\n       <path d=\"M 12.40625 8.296875 \nL 28.515625 8.296875 \nL 28.515625 63.921875 \nL 10.984375 60.40625 \nL 10.984375 69.390625 \nL 28.421875 72.90625 \nL 38.28125 72.90625 \nL 38.28125 8.296875 \nL 54.390625 8.296875 \nL 54.390625 0 \nL 12.40625 0 \nz\n\" id=\"DejaVuSans-49\"/>\n      </defs>\n      <g transform=\"translate(126.082868 254.356563)scale(0.1 -0.1)\">\n       <use xlink:href=\"#DejaVuSans-49\"/>\n       <use x=\"63.623047\" xlink:href=\"#DejaVuSans-48\"/>\n       <use x=\"127.246094\" xlink:href=\"#DejaVuSans-48\"/>\n       <use x=\"190.869141\" xlink:href=\"#DejaVuSans-48\"/>\n       <use x=\"254.492188\" xlink:href=\"#DejaVuSans-48\"/>\n      </g>\n     </g>\n    </g>\n    <g id=\"xtick_3\">\n     <g id=\"line2d_3\">\n      <g>\n       <use style=\"stroke:#000000;stroke-width:0.8;\" x=\"179.662611\" xlink:href=\"#md52cf9cae6\" y=\"239.758125\"/>\n      </g>\n     </g>\n     <g id=\"text_3\">\n      <!-- 20000 -->\n      <defs>\n       <path d=\"M 19.1875 8.296875 \nL 53.609375 8.296875 \nL 53.609375 0 \nL 7.328125 0 \nL 7.328125 8.296875 \nQ 12.9375 14.109375 22.625 23.890625 \nQ 32.328125 33.6875 34.8125 36.53125 \nQ 39.546875 41.84375 41.421875 45.53125 \nQ 43.3125 49.21875 43.3125 52.78125 \nQ 43.3125 58.59375 39.234375 62.25 \nQ 35.15625 65.921875 28.609375 65.921875 \nQ 23.96875 65.921875 18.8125 64.3125 \nQ 13.671875 62.703125 7.8125 59.421875 \nL 7.8125 69.390625 \nQ 13.765625 71.78125 18.9375 73 \nQ 24.125 74.21875 28.421875 74.21875 \nQ 39.75 74.21875 46.484375 68.546875 \nQ 53.21875 62.890625 53.21875 53.421875 \nQ 53.21875 48.921875 51.53125 44.890625 \nQ 49.859375 40.875 45.40625 35.40625 \nQ 44.1875 33.984375 37.640625 27.21875 \nQ 31.109375 20.453125 19.1875 8.296875 \nz\n\" id=\"DejaVuSans-50\"/>\n      </defs>\n      <g transform=\"translate(163.756361 254.356563)scale(0.1 -0.1)\">\n       <use xlink:href=\"#DejaVuSans-50\"/>\n       <use x=\"63.623047\" xlink:href=\"#DejaVuSans-48\"/>\n       <use x=\"127.246094\" xlink:href=\"#DejaVuSans-48\"/>\n       <use x=\"190.869141\" xlink:href=\"#DejaVuSans-48\"/>\n       <use x=\"254.492188\" xlink:href=\"#DejaVuSans-48\"/>\n      </g>\n     </g>\n    </g>\n    <g id=\"xtick_4\">\n     <g id=\"line2d_4\">\n      <g>\n       <use style=\"stroke:#000000;stroke-width:0.8;\" x=\"217.336104\" xlink:href=\"#md52cf9cae6\" y=\"239.758125\"/>\n      </g>\n     </g>\n     <g id=\"text_4\">\n      <!-- 30000 -->\n      <defs>\n       <path d=\"M 40.578125 39.3125 \nQ 47.65625 37.796875 51.625 33 \nQ 55.609375 28.21875 55.609375 21.1875 \nQ 55.609375 10.40625 48.1875 4.484375 \nQ 40.765625 -1.421875 27.09375 -1.421875 \nQ 22.515625 -1.421875 17.65625 -0.515625 \nQ 12.796875 0.390625 7.625 2.203125 \nL 7.625 11.71875 \nQ 11.71875 9.328125 16.59375 8.109375 \nQ 21.484375 6.890625 26.8125 6.890625 \nQ 36.078125 6.890625 40.9375 10.546875 \nQ 45.796875 14.203125 45.796875 21.1875 \nQ 45.796875 27.640625 41.28125 31.265625 \nQ 36.765625 34.90625 28.71875 34.90625 \nL 20.21875 34.90625 \nL 20.21875 43.015625 \nL 29.109375 43.015625 \nQ 36.375 43.015625 40.234375 45.921875 \nQ 44.09375 48.828125 44.09375 54.296875 \nQ 44.09375 59.90625 40.109375 62.90625 \nQ 36.140625 65.921875 28.71875 65.921875 \nQ 24.65625 65.921875 20.015625 65.03125 \nQ 15.375 64.15625 9.8125 62.3125 \nL 9.8125 71.09375 \nQ 15.4375 72.65625 20.34375 73.4375 \nQ 25.25 74.21875 29.59375 74.21875 \nQ 40.828125 74.21875 47.359375 69.109375 \nQ 53.90625 64.015625 53.90625 55.328125 \nQ 53.90625 49.265625 50.4375 45.09375 \nQ 46.96875 40.921875 40.578125 39.3125 \nz\n\" id=\"DejaVuSans-51\"/>\n      </defs>\n      <g transform=\"translate(201.429854 254.356563)scale(0.1 -0.1)\">\n       <use xlink:href=\"#DejaVuSans-51\"/>\n       <use x=\"63.623047\" xlink:href=\"#DejaVuSans-48\"/>\n       <use x=\"127.246094\" xlink:href=\"#DejaVuSans-48\"/>\n       <use x=\"190.869141\" xlink:href=\"#DejaVuSans-48\"/>\n       <use x=\"254.492188\" xlink:href=\"#DejaVuSans-48\"/>\n      </g>\n     </g>\n    </g>\n    <g id=\"xtick_5\">\n     <g id=\"line2d_5\">\n      <g>\n       <use style=\"stroke:#000000;stroke-width:0.8;\" x=\"255.009597\" xlink:href=\"#md52cf9cae6\" y=\"239.758125\"/>\n      </g>\n     </g>\n     <g id=\"text_5\">\n      <!-- 40000 -->\n      <defs>\n       <path d=\"M 37.796875 64.3125 \nL 12.890625 25.390625 \nL 37.796875 25.390625 \nz\nM 35.203125 72.90625 \nL 47.609375 72.90625 \nL 47.609375 25.390625 \nL 58.015625 25.390625 \nL 58.015625 17.1875 \nL 47.609375 17.1875 \nL 47.609375 0 \nL 37.796875 0 \nL 37.796875 17.1875 \nL 4.890625 17.1875 \nL 4.890625 26.703125 \nz\n\" id=\"DejaVuSans-52\"/>\n      </defs>\n      <g transform=\"translate(239.103347 254.356563)scale(0.1 -0.1)\">\n       <use xlink:href=\"#DejaVuSans-52\"/>\n       <use x=\"63.623047\" xlink:href=\"#DejaVuSans-48\"/>\n       <use x=\"127.246094\" xlink:href=\"#DejaVuSans-48\"/>\n       <use x=\"190.869141\" xlink:href=\"#DejaVuSans-48\"/>\n       <use x=\"254.492188\" xlink:href=\"#DejaVuSans-48\"/>\n      </g>\n     </g>\n    </g>\n    <g id=\"xtick_6\">\n     <g id=\"line2d_6\">\n      <g>\n       <use style=\"stroke:#000000;stroke-width:0.8;\" x=\"292.68309\" xlink:href=\"#md52cf9cae6\" y=\"239.758125\"/>\n      </g>\n     </g>\n     <g id=\"text_6\">\n      <!-- 50000 -->\n      <defs>\n       <path d=\"M 10.796875 72.90625 \nL 49.515625 72.90625 \nL 49.515625 64.59375 \nL 19.828125 64.59375 \nL 19.828125 46.734375 \nQ 21.96875 47.46875 24.109375 47.828125 \nQ 26.265625 48.1875 28.421875 48.1875 \nQ 40.625 48.1875 47.75 41.5 \nQ 54.890625 34.8125 54.890625 23.390625 \nQ 54.890625 11.625 47.5625 5.09375 \nQ 40.234375 -1.421875 26.90625 -1.421875 \nQ 22.3125 -1.421875 17.546875 -0.640625 \nQ 12.796875 0.140625 7.71875 1.703125 \nL 7.71875 11.625 \nQ 12.109375 9.234375 16.796875 8.0625 \nQ 21.484375 6.890625 26.703125 6.890625 \nQ 35.15625 6.890625 40.078125 11.328125 \nQ 45.015625 15.765625 45.015625 23.390625 \nQ 45.015625 31 40.078125 35.4375 \nQ 35.15625 39.890625 26.703125 39.890625 \nQ 22.75 39.890625 18.8125 39.015625 \nQ 14.890625 38.140625 10.796875 36.28125 \nz\n\" id=\"DejaVuSans-53\"/>\n      </defs>\n      <g transform=\"translate(276.77684 254.356563)scale(0.1 -0.1)\">\n       <use xlink:href=\"#DejaVuSans-53\"/>\n       <use x=\"63.623047\" xlink:href=\"#DejaVuSans-48\"/>\n       <use x=\"127.246094\" xlink:href=\"#DejaVuSans-48\"/>\n       <use x=\"190.869141\" xlink:href=\"#DejaVuSans-48\"/>\n       <use x=\"254.492188\" xlink:href=\"#DejaVuSans-48\"/>\n      </g>\n     </g>\n    </g>\n    <g id=\"xtick_7\">\n     <g id=\"line2d_7\">\n      <g>\n       <use style=\"stroke:#000000;stroke-width:0.8;\" x=\"330.356583\" xlink:href=\"#md52cf9cae6\" y=\"239.758125\"/>\n      </g>\n     </g>\n     <g id=\"text_7\">\n      <!-- 60000 -->\n      <defs>\n       <path d=\"M 33.015625 40.375 \nQ 26.375 40.375 22.484375 35.828125 \nQ 18.609375 31.296875 18.609375 23.390625 \nQ 18.609375 15.53125 22.484375 10.953125 \nQ 26.375 6.390625 33.015625 6.390625 \nQ 39.65625 6.390625 43.53125 10.953125 \nQ 47.40625 15.53125 47.40625 23.390625 \nQ 47.40625 31.296875 43.53125 35.828125 \nQ 39.65625 40.375 33.015625 40.375 \nz\nM 52.59375 71.296875 \nL 52.59375 62.3125 \nQ 48.875 64.0625 45.09375 64.984375 \nQ 41.3125 65.921875 37.59375 65.921875 \nQ 27.828125 65.921875 22.671875 59.328125 \nQ 17.53125 52.734375 16.796875 39.40625 \nQ 19.671875 43.65625 24.015625 45.921875 \nQ 28.375 48.1875 33.59375 48.1875 \nQ 44.578125 48.1875 50.953125 41.515625 \nQ 57.328125 34.859375 57.328125 23.390625 \nQ 57.328125 12.15625 50.6875 5.359375 \nQ 44.046875 -1.421875 33.015625 -1.421875 \nQ 20.359375 -1.421875 13.671875 8.265625 \nQ 6.984375 17.96875 6.984375 36.375 \nQ 6.984375 53.65625 15.1875 63.9375 \nQ 23.390625 74.21875 37.203125 74.21875 \nQ 40.921875 74.21875 44.703125 73.484375 \nQ 48.484375 72.75 52.59375 71.296875 \nz\n\" id=\"DejaVuSans-54\"/>\n      </defs>\n      <g transform=\"translate(314.450333 254.356563)scale(0.1 -0.1)\">\n       <use xlink:href=\"#DejaVuSans-54\"/>\n       <use x=\"63.623047\" xlink:href=\"#DejaVuSans-48\"/>\n       <use x=\"127.246094\" xlink:href=\"#DejaVuSans-48\"/>\n       <use x=\"190.869141\" xlink:href=\"#DejaVuSans-48\"/>\n       <use x=\"254.492188\" xlink:href=\"#DejaVuSans-48\"/>\n      </g>\n     </g>\n    </g>\n    <g id=\"xtick_8\">\n     <g id=\"line2d_8\">\n      <g>\n       <use style=\"stroke:#000000;stroke-width:0.8;\" x=\"368.030076\" xlink:href=\"#md52cf9cae6\" y=\"239.758125\"/>\n      </g>\n     </g>\n     <g id=\"text_8\">\n      <!-- 70000 -->\n      <defs>\n       <path d=\"M 8.203125 72.90625 \nL 55.078125 72.90625 \nL 55.078125 68.703125 \nL 28.609375 0 \nL 18.3125 0 \nL 43.21875 64.59375 \nL 8.203125 64.59375 \nz\n\" id=\"DejaVuSans-55\"/>\n      </defs>\n      <g transform=\"translate(352.123826 254.356563)scale(0.1 -0.1)\">\n       <use xlink:href=\"#DejaVuSans-55\"/>\n       <use x=\"63.623047\" xlink:href=\"#DejaVuSans-48\"/>\n       <use x=\"127.246094\" xlink:href=\"#DejaVuSans-48\"/>\n       <use x=\"190.869141\" xlink:href=\"#DejaVuSans-48\"/>\n       <use x=\"254.492188\" xlink:href=\"#DejaVuSans-48\"/>\n      </g>\n     </g>\n    </g>\n    <g id=\"xtick_9\">\n     <g id=\"line2d_9\">\n      <g>\n       <use style=\"stroke:#000000;stroke-width:0.8;\" x=\"405.703569\" xlink:href=\"#md52cf9cae6\" y=\"239.758125\"/>\n      </g>\n     </g>\n     <g id=\"text_9\">\n      <!-- 80000 -->\n      <defs>\n       <path d=\"M 31.78125 34.625 \nQ 24.75 34.625 20.71875 30.859375 \nQ 16.703125 27.09375 16.703125 20.515625 \nQ 16.703125 13.921875 20.71875 10.15625 \nQ 24.75 6.390625 31.78125 6.390625 \nQ 38.8125 6.390625 42.859375 10.171875 \nQ 46.921875 13.96875 46.921875 20.515625 \nQ 46.921875 27.09375 42.890625 30.859375 \nQ 38.875 34.625 31.78125 34.625 \nz\nM 21.921875 38.8125 \nQ 15.578125 40.375 12.03125 44.71875 \nQ 8.5 49.078125 8.5 55.328125 \nQ 8.5 64.0625 14.71875 69.140625 \nQ 20.953125 74.21875 31.78125 74.21875 \nQ 42.671875 74.21875 48.875 69.140625 \nQ 55.078125 64.0625 55.078125 55.328125 \nQ 55.078125 49.078125 51.53125 44.71875 \nQ 48 40.375 41.703125 38.8125 \nQ 48.828125 37.15625 52.796875 32.3125 \nQ 56.78125 27.484375 56.78125 20.515625 \nQ 56.78125 9.90625 50.3125 4.234375 \nQ 43.84375 -1.421875 31.78125 -1.421875 \nQ 19.734375 -1.421875 13.25 4.234375 \nQ 6.78125 9.90625 6.78125 20.515625 \nQ 6.78125 27.484375 10.78125 32.3125 \nQ 14.796875 37.15625 21.921875 38.8125 \nz\nM 18.3125 54.390625 \nQ 18.3125 48.734375 21.84375 45.5625 \nQ 25.390625 42.390625 31.78125 42.390625 \nQ 38.140625 42.390625 41.71875 45.5625 \nQ 45.3125 48.734375 45.3125 54.390625 \nQ 45.3125 60.0625 41.71875 63.234375 \nQ 38.140625 66.40625 31.78125 66.40625 \nQ 25.390625 66.40625 21.84375 63.234375 \nQ 18.3125 60.0625 18.3125 54.390625 \nz\n\" id=\"DejaVuSans-56\"/>\n      </defs>\n      <g transform=\"translate(389.797319 254.356563)scale(0.1 -0.1)\">\n       <use xlink:href=\"#DejaVuSans-56\"/>\n       <use x=\"63.623047\" xlink:href=\"#DejaVuSans-48\"/>\n       <use x=\"127.246094\" xlink:href=\"#DejaVuSans-48\"/>\n       <use x=\"190.869141\" xlink:href=\"#DejaVuSans-48\"/>\n       <use x=\"254.492188\" xlink:href=\"#DejaVuSans-48\"/>\n      </g>\n     </g>\n    </g>\n   </g>\n   <g id=\"matplotlib.axis_2\">\n    <g id=\"ytick_1\">\n     <g id=\"line2d_10\">\n      <defs>\n       <path d=\"M 0 0 \nL -3.5 0 \n\" id=\"mda40b9e13c\" style=\"stroke:#000000;stroke-width:0.8;\"/>\n      </defs>\n      <g>\n       <use style=\"stroke:#000000;stroke-width:0.8;\" x=\"104.315625\" xlink:href=\"#mda40b9e13c\" y=\"234.322125\"/>\n      </g>\n     </g>\n     <g id=\"text_10\">\n      <!-- sainsburys -->\n      <defs>\n       <path d=\"M 44.28125 53.078125 \nL 44.28125 44.578125 \nQ 40.484375 46.53125 36.375 47.5 \nQ 32.28125 48.484375 27.875 48.484375 \nQ 21.1875 48.484375 17.84375 46.4375 \nQ 14.5 44.390625 14.5 40.28125 \nQ 14.5 37.15625 16.890625 35.375 \nQ 19.28125 33.59375 26.515625 31.984375 \nL 29.59375 31.296875 \nQ 39.15625 29.25 43.1875 25.515625 \nQ 47.21875 21.78125 47.21875 15.09375 \nQ 47.21875 7.46875 41.1875 3.015625 \nQ 35.15625 -1.421875 24.609375 -1.421875 \nQ 20.21875 -1.421875 15.453125 -0.5625 \nQ 10.6875 0.296875 5.421875 2 \nL 5.421875 11.28125 \nQ 10.40625 8.6875 15.234375 7.390625 \nQ 20.0625 6.109375 24.8125 6.109375 \nQ 31.15625 6.109375 34.5625 8.28125 \nQ 37.984375 10.453125 37.984375 14.40625 \nQ 37.984375 18.0625 35.515625 20.015625 \nQ 33.0625 21.96875 24.703125 23.78125 \nL 21.578125 24.515625 \nQ 13.234375 26.265625 9.515625 29.90625 \nQ 5.8125 33.546875 5.8125 39.890625 \nQ 5.8125 47.609375 11.28125 51.796875 \nQ 16.75 56 26.8125 56 \nQ 31.78125 56 36.171875 55.265625 \nQ 40.578125 54.546875 44.28125 53.078125 \nz\n\" id=\"DejaVuSans-115\"/>\n       <path d=\"M 34.28125 27.484375 \nQ 23.390625 27.484375 19.1875 25 \nQ 14.984375 22.515625 14.984375 16.5 \nQ 14.984375 11.71875 18.140625 8.90625 \nQ 21.296875 6.109375 26.703125 6.109375 \nQ 34.1875 6.109375 38.703125 11.40625 \nQ 43.21875 16.703125 43.21875 25.484375 \nL 43.21875 27.484375 \nz\nM 52.203125 31.203125 \nL 52.203125 0 \nL 43.21875 0 \nL 43.21875 8.296875 \nQ 40.140625 3.328125 35.546875 0.953125 \nQ 30.953125 -1.421875 24.3125 -1.421875 \nQ 15.921875 -1.421875 10.953125 3.296875 \nQ 6 8.015625 6 15.921875 \nQ 6 25.140625 12.171875 29.828125 \nQ 18.359375 34.515625 30.609375 34.515625 \nL 43.21875 34.515625 \nL 43.21875 35.40625 \nQ 43.21875 41.609375 39.140625 45 \nQ 35.0625 48.390625 27.6875 48.390625 \nQ 23 48.390625 18.546875 47.265625 \nQ 14.109375 46.140625 10.015625 43.890625 \nL 10.015625 52.203125 \nQ 14.9375 54.109375 19.578125 55.046875 \nQ 24.21875 56 28.609375 56 \nQ 40.484375 56 46.34375 49.84375 \nQ 52.203125 43.703125 52.203125 31.203125 \nz\n\" id=\"DejaVuSans-97\"/>\n       <path d=\"M 9.421875 54.6875 \nL 18.40625 54.6875 \nL 18.40625 0 \nL 9.421875 0 \nz\nM 9.421875 75.984375 \nL 18.40625 75.984375 \nL 18.40625 64.59375 \nL 9.421875 64.59375 \nz\n\" id=\"DejaVuSans-105\"/>\n       <path d=\"M 54.890625 33.015625 \nL 54.890625 0 \nL 45.90625 0 \nL 45.90625 32.71875 \nQ 45.90625 40.484375 42.875 44.328125 \nQ 39.84375 48.1875 33.796875 48.1875 \nQ 26.515625 48.1875 22.3125 43.546875 \nQ 18.109375 38.921875 18.109375 30.90625 \nL 18.109375 0 \nL 9.078125 0 \nL 9.078125 54.6875 \nL 18.109375 54.6875 \nL 18.109375 46.1875 \nQ 21.34375 51.125 25.703125 53.5625 \nQ 30.078125 56 35.796875 56 \nQ 45.21875 56 50.046875 50.171875 \nQ 54.890625 44.34375 54.890625 33.015625 \nz\n\" id=\"DejaVuSans-110\"/>\n       <path d=\"M 48.6875 27.296875 \nQ 48.6875 37.203125 44.609375 42.84375 \nQ 40.53125 48.484375 33.40625 48.484375 \nQ 26.265625 48.484375 22.1875 42.84375 \nQ 18.109375 37.203125 18.109375 27.296875 \nQ 18.109375 17.390625 22.1875 11.75 \nQ 26.265625 6.109375 33.40625 6.109375 \nQ 40.53125 6.109375 44.609375 11.75 \nQ 48.6875 17.390625 48.6875 27.296875 \nz\nM 18.109375 46.390625 \nQ 20.953125 51.265625 25.265625 53.625 \nQ 29.59375 56 35.59375 56 \nQ 45.5625 56 51.78125 48.09375 \nQ 58.015625 40.1875 58.015625 27.296875 \nQ 58.015625 14.40625 51.78125 6.484375 \nQ 45.5625 -1.421875 35.59375 -1.421875 \nQ 29.59375 -1.421875 25.265625 0.953125 \nQ 20.953125 3.328125 18.109375 8.203125 \nL 18.109375 0 \nL 9.078125 0 \nL 9.078125 75.984375 \nL 18.109375 75.984375 \nz\n\" id=\"DejaVuSans-98\"/>\n       <path d=\"M 8.5 21.578125 \nL 8.5 54.6875 \nL 17.484375 54.6875 \nL 17.484375 21.921875 \nQ 17.484375 14.15625 20.5 10.265625 \nQ 23.53125 6.390625 29.59375 6.390625 \nQ 36.859375 6.390625 41.078125 11.03125 \nQ 45.3125 15.671875 45.3125 23.6875 \nL 45.3125 54.6875 \nL 54.296875 54.6875 \nL 54.296875 0 \nL 45.3125 0 \nL 45.3125 8.40625 \nQ 42.046875 3.421875 37.71875 1 \nQ 33.40625 -1.421875 27.6875 -1.421875 \nQ 18.265625 -1.421875 13.375 4.4375 \nQ 8.5 10.296875 8.5 21.578125 \nz\nM 31.109375 56 \nz\n\" id=\"DejaVuSans-117\"/>\n       <path d=\"M 41.109375 46.296875 \nQ 39.59375 47.171875 37.8125 47.578125 \nQ 36.03125 48 33.890625 48 \nQ 26.265625 48 22.1875 43.046875 \nQ 18.109375 38.09375 18.109375 28.8125 \nL 18.109375 0 \nL 9.078125 0 \nL 9.078125 54.6875 \nL 18.109375 54.6875 \nL 18.109375 46.1875 \nQ 20.953125 51.171875 25.484375 53.578125 \nQ 30.03125 56 36.53125 56 \nQ 37.453125 56 38.578125 55.875 \nQ 39.703125 55.765625 41.0625 55.515625 \nz\n\" id=\"DejaVuSans-114\"/>\n       <path d=\"M 32.171875 -5.078125 \nQ 28.375 -14.84375 24.75 -17.8125 \nQ 21.140625 -20.796875 15.09375 -20.796875 \nL 7.90625 -20.796875 \nL 7.90625 -13.28125 \nL 13.1875 -13.28125 \nQ 16.890625 -13.28125 18.9375 -11.515625 \nQ 21 -9.765625 23.484375 -3.21875 \nL 25.09375 0.875 \nL 2.984375 54.6875 \nL 12.5 54.6875 \nL 29.59375 11.921875 \nL 46.6875 54.6875 \nL 56.203125 54.6875 \nz\n\" id=\"DejaVuSans-121\"/>\n      </defs>\n      <g transform=\"translate(43.728125 238.121344)scale(0.1 -0.1)\">\n       <use xlink:href=\"#DejaVuSans-115\"/>\n       <use x=\"52.099609\" xlink:href=\"#DejaVuSans-97\"/>\n       <use x=\"113.378906\" xlink:href=\"#DejaVuSans-105\"/>\n       <use x=\"141.162109\" xlink:href=\"#DejaVuSans-110\"/>\n       <use x=\"204.541016\" xlink:href=\"#DejaVuSans-115\"/>\n       <use x=\"256.640625\" xlink:href=\"#DejaVuSans-98\"/>\n       <use x=\"320.117188\" xlink:href=\"#DejaVuSans-117\"/>\n       <use x=\"383.496094\" xlink:href=\"#DejaVuSans-114\"/>\n       <use x=\"424.609375\" xlink:href=\"#DejaVuSans-121\"/>\n       <use x=\"483.789062\" xlink:href=\"#DejaVuSans-115\"/>\n      </g>\n     </g>\n    </g>\n    <g id=\"ytick_2\">\n     <g id=\"line2d_11\">\n      <g>\n       <use style=\"stroke:#000000;stroke-width:0.8;\" x=\"104.315625\" xlink:href=\"#mda40b9e13c\" y=\"223.450125\"/>\n      </g>\n     </g>\n     <g id=\"text_11\">\n      <!-- AskPlayStation -->\n      <defs>\n       <path d=\"M 34.1875 63.1875 \nL 20.796875 26.90625 \nL 47.609375 26.90625 \nz\nM 28.609375 72.90625 \nL 39.796875 72.90625 \nL 67.578125 0 \nL 57.328125 0 \nL 50.6875 18.703125 \nL 17.828125 18.703125 \nL 11.1875 0 \nL 0.78125 0 \nz\n\" id=\"DejaVuSans-65\"/>\n       <path d=\"M 9.078125 75.984375 \nL 18.109375 75.984375 \nL 18.109375 31.109375 \nL 44.921875 54.6875 \nL 56.390625 54.6875 \nL 27.390625 29.109375 \nL 57.625 0 \nL 45.90625 0 \nL 18.109375 26.703125 \nL 18.109375 0 \nL 9.078125 0 \nz\n\" id=\"DejaVuSans-107\"/>\n       <path d=\"M 19.671875 64.796875 \nL 19.671875 37.40625 \nL 32.078125 37.40625 \nQ 38.96875 37.40625 42.71875 40.96875 \nQ 46.484375 44.53125 46.484375 51.125 \nQ 46.484375 57.671875 42.71875 61.234375 \nQ 38.96875 64.796875 32.078125 64.796875 \nz\nM 9.8125 72.90625 \nL 32.078125 72.90625 \nQ 44.34375 72.90625 50.609375 67.359375 \nQ 56.890625 61.8125 56.890625 51.125 \nQ 56.890625 40.328125 50.609375 34.8125 \nQ 44.34375 29.296875 32.078125 29.296875 \nL 19.671875 29.296875 \nL 19.671875 0 \nL 9.8125 0 \nz\n\" id=\"DejaVuSans-80\"/>\n       <path d=\"M 9.421875 75.984375 \nL 18.40625 75.984375 \nL 18.40625 0 \nL 9.421875 0 \nz\n\" id=\"DejaVuSans-108\"/>\n       <path d=\"M 53.515625 70.515625 \nL 53.515625 60.890625 \nQ 47.90625 63.578125 42.921875 64.890625 \nQ 37.9375 66.21875 33.296875 66.21875 \nQ 25.25 66.21875 20.875 63.09375 \nQ 16.5 59.96875 16.5 54.203125 \nQ 16.5 49.359375 19.40625 46.890625 \nQ 22.3125 44.4375 30.421875 42.921875 \nL 36.375 41.703125 \nQ 47.40625 39.59375 52.65625 34.296875 \nQ 57.90625 29 57.90625 20.125 \nQ 57.90625 9.515625 50.796875 4.046875 \nQ 43.703125 -1.421875 29.984375 -1.421875 \nQ 24.8125 -1.421875 18.96875 -0.25 \nQ 13.140625 0.921875 6.890625 3.21875 \nL 6.890625 13.375 \nQ 12.890625 10.015625 18.65625 8.296875 \nQ 24.421875 6.59375 29.984375 6.59375 \nQ 38.421875 6.59375 43.015625 9.90625 \nQ 47.609375 13.234375 47.609375 19.390625 \nQ 47.609375 24.75 44.3125 27.78125 \nQ 41.015625 30.8125 33.5 32.328125 \nL 27.484375 33.5 \nQ 16.453125 35.6875 11.515625 40.375 \nQ 6.59375 45.0625 6.59375 53.421875 \nQ 6.59375 63.09375 13.40625 68.65625 \nQ 20.21875 74.21875 32.171875 74.21875 \nQ 37.3125 74.21875 42.625 73.28125 \nQ 47.953125 72.359375 53.515625 70.515625 \nz\n\" id=\"DejaVuSans-83\"/>\n       <path d=\"M 18.3125 70.21875 \nL 18.3125 54.6875 \nL 36.8125 54.6875 \nL 36.8125 47.703125 \nL 18.3125 47.703125 \nL 18.3125 18.015625 \nQ 18.3125 11.328125 20.140625 9.421875 \nQ 21.96875 7.515625 27.59375 7.515625 \nL 36.8125 7.515625 \nL 36.8125 0 \nL 27.59375 0 \nQ 17.1875 0 13.234375 3.875 \nQ 9.28125 7.765625 9.28125 18.015625 \nL 9.28125 47.703125 \nL 2.6875 47.703125 \nL 2.6875 54.6875 \nL 9.28125 54.6875 \nL 9.28125 70.21875 \nz\n\" id=\"DejaVuSans-116\"/>\n       <path d=\"M 30.609375 48.390625 \nQ 23.390625 48.390625 19.1875 42.75 \nQ 14.984375 37.109375 14.984375 27.296875 \nQ 14.984375 17.484375 19.15625 11.84375 \nQ 23.34375 6.203125 30.609375 6.203125 \nQ 37.796875 6.203125 41.984375 11.859375 \nQ 46.1875 17.53125 46.1875 27.296875 \nQ 46.1875 37.015625 41.984375 42.703125 \nQ 37.796875 48.390625 30.609375 48.390625 \nz\nM 30.609375 56 \nQ 42.328125 56 49.015625 48.375 \nQ 55.71875 40.765625 55.71875 27.296875 \nQ 55.71875 13.875 49.015625 6.21875 \nQ 42.328125 -1.421875 30.609375 -1.421875 \nQ 18.84375 -1.421875 12.171875 6.21875 \nQ 5.515625 13.875 5.515625 27.296875 \nQ 5.515625 40.765625 12.171875 48.375 \nQ 18.84375 56 30.609375 56 \nz\n\" id=\"DejaVuSans-111\"/>\n      </defs>\n      <g transform=\"translate(23.06875 227.249344)scale(0.1 -0.1)\">\n       <use xlink:href=\"#DejaVuSans-65\"/>\n       <use x=\"68.408203\" xlink:href=\"#DejaVuSans-115\"/>\n       <use x=\"120.507812\" xlink:href=\"#DejaVuSans-107\"/>\n       <use x=\"178.417969\" xlink:href=\"#DejaVuSans-80\"/>\n       <use x=\"238.720703\" xlink:href=\"#DejaVuSans-108\"/>\n       <use x=\"266.503906\" xlink:href=\"#DejaVuSans-97\"/>\n       <use x=\"327.783203\" xlink:href=\"#DejaVuSans-121\"/>\n       <use x=\"386.962891\" xlink:href=\"#DejaVuSans-83\"/>\n       <use x=\"450.439453\" xlink:href=\"#DejaVuSans-116\"/>\n       <use x=\"489.648438\" xlink:href=\"#DejaVuSans-97\"/>\n       <use x=\"550.927734\" xlink:href=\"#DejaVuSans-116\"/>\n       <use x=\"590.136719\" xlink:href=\"#DejaVuSans-105\"/>\n       <use x=\"617.919922\" xlink:href=\"#DejaVuSans-111\"/>\n       <use x=\"679.101562\" xlink:href=\"#DejaVuSans-110\"/>\n      </g>\n     </g>\n    </g>\n    <g id=\"ytick_3\">\n     <g id=\"line2d_12\">\n      <g>\n       <use style=\"stroke:#000000;stroke-width:0.8;\" x=\"104.315625\" xlink:href=\"#mda40b9e13c\" y=\"212.578125\"/>\n      </g>\n     </g>\n     <g id=\"text_12\">\n      <!-- XboxSupport -->\n      <defs>\n       <path d=\"M 6.296875 72.90625 \nL 16.890625 72.90625 \nL 35.015625 45.796875 \nL 53.21875 72.90625 \nL 63.8125 72.90625 \nL 40.375 37.890625 \nL 65.375 0 \nL 54.78125 0 \nL 34.28125 31 \nL 13.625 0 \nL 2.984375 0 \nL 29 38.921875 \nz\n\" id=\"DejaVuSans-88\"/>\n       <path d=\"M 54.890625 54.6875 \nL 35.109375 28.078125 \nL 55.90625 0 \nL 45.3125 0 \nL 29.390625 21.484375 \nL 13.484375 0 \nL 2.875 0 \nL 24.125 28.609375 \nL 4.6875 54.6875 \nL 15.28125 54.6875 \nL 29.78125 35.203125 \nL 44.28125 54.6875 \nz\n\" id=\"DejaVuSans-120\"/>\n       <path d=\"M 18.109375 8.203125 \nL 18.109375 -20.796875 \nL 9.078125 -20.796875 \nL 9.078125 54.6875 \nL 18.109375 54.6875 \nL 18.109375 46.390625 \nQ 20.953125 51.265625 25.265625 53.625 \nQ 29.59375 56 35.59375 56 \nQ 45.5625 56 51.78125 48.09375 \nQ 58.015625 40.1875 58.015625 27.296875 \nQ 58.015625 14.40625 51.78125 6.484375 \nQ 45.5625 -1.421875 35.59375 -1.421875 \nQ 29.59375 -1.421875 25.265625 0.953125 \nQ 20.953125 3.328125 18.109375 8.203125 \nz\nM 48.6875 27.296875 \nQ 48.6875 37.203125 44.609375 42.84375 \nQ 40.53125 48.484375 33.40625 48.484375 \nQ 26.265625 48.484375 22.1875 42.84375 \nQ 18.109375 37.203125 18.109375 27.296875 \nQ 18.109375 17.390625 22.1875 11.75 \nQ 26.265625 6.109375 33.40625 6.109375 \nQ 40.53125 6.109375 44.609375 11.75 \nQ 48.6875 17.390625 48.6875 27.296875 \nz\n\" id=\"DejaVuSans-112\"/>\n      </defs>\n      <g transform=\"translate(32.859375 216.377344)scale(0.1 -0.1)\">\n       <use xlink:href=\"#DejaVuSans-88\"/>\n       <use x=\"68.505859\" xlink:href=\"#DejaVuSans-98\"/>\n       <use x=\"131.982422\" xlink:href=\"#DejaVuSans-111\"/>\n       <use x=\"190.039062\" xlink:href=\"#DejaVuSans-120\"/>\n       <use x=\"249.21875\" xlink:href=\"#DejaVuSans-83\"/>\n       <use x=\"312.695312\" xlink:href=\"#DejaVuSans-117\"/>\n       <use x=\"376.074219\" xlink:href=\"#DejaVuSans-112\"/>\n       <use x=\"439.550781\" xlink:href=\"#DejaVuSans-112\"/>\n       <use x=\"503.027344\" xlink:href=\"#DejaVuSans-111\"/>\n       <use x=\"564.208984\" xlink:href=\"#DejaVuSans-114\"/>\n       <use x=\"605.322266\" xlink:href=\"#DejaVuSans-116\"/>\n      </g>\n     </g>\n    </g>\n    <g id=\"ytick_4\">\n     <g id=\"line2d_13\">\n      <g>\n       <use style=\"stroke:#000000;stroke-width:0.8;\" x=\"104.315625\" xlink:href=\"#mda40b9e13c\" y=\"201.706125\"/>\n      </g>\n     </g>\n     <g id=\"text_13\">\n      <!-- sprintcare -->\n      <defs>\n       <path d=\"M 48.78125 52.59375 \nL 48.78125 44.1875 \nQ 44.96875 46.296875 41.140625 47.34375 \nQ 37.3125 48.390625 33.40625 48.390625 \nQ 24.65625 48.390625 19.8125 42.84375 \nQ 14.984375 37.3125 14.984375 27.296875 \nQ 14.984375 17.28125 19.8125 11.734375 \nQ 24.65625 6.203125 33.40625 6.203125 \nQ 37.3125 6.203125 41.140625 7.25 \nQ 44.96875 8.296875 48.78125 10.40625 \nL 48.78125 2.09375 \nQ 45.015625 0.34375 40.984375 -0.53125 \nQ 36.96875 -1.421875 32.421875 -1.421875 \nQ 20.0625 -1.421875 12.78125 6.34375 \nQ 5.515625 14.109375 5.515625 27.296875 \nQ 5.515625 40.671875 12.859375 48.328125 \nQ 20.21875 56 33.015625 56 \nQ 37.15625 56 41.109375 55.140625 \nQ 45.0625 54.296875 48.78125 52.59375 \nz\n\" id=\"DejaVuSans-99\"/>\n       <path d=\"M 56.203125 29.59375 \nL 56.203125 25.203125 \nL 14.890625 25.203125 \nQ 15.484375 15.921875 20.484375 11.0625 \nQ 25.484375 6.203125 34.421875 6.203125 \nQ 39.59375 6.203125 44.453125 7.46875 \nQ 49.3125 8.734375 54.109375 11.28125 \nL 54.109375 2.78125 \nQ 49.265625 0.734375 44.1875 -0.34375 \nQ 39.109375 -1.421875 33.890625 -1.421875 \nQ 20.796875 -1.421875 13.15625 6.1875 \nQ 5.515625 13.8125 5.515625 26.8125 \nQ 5.515625 40.234375 12.765625 48.109375 \nQ 20.015625 56 32.328125 56 \nQ 43.359375 56 49.78125 48.890625 \nQ 56.203125 41.796875 56.203125 29.59375 \nz\nM 47.21875 32.234375 \nQ 47.125 39.59375 43.09375 43.984375 \nQ 39.0625 48.390625 32.421875 48.390625 \nQ 24.90625 48.390625 20.390625 44.140625 \nQ 15.875 39.890625 15.1875 32.171875 \nz\n\" id=\"DejaVuSans-101\"/>\n      </defs>\n      <g transform=\"translate(46.945312 205.505344)scale(0.1 -0.1)\">\n       <use xlink:href=\"#DejaVuSans-115\"/>\n       <use x=\"52.099609\" xlink:href=\"#DejaVuSans-112\"/>\n       <use x=\"115.576172\" xlink:href=\"#DejaVuSans-114\"/>\n       <use x=\"156.689453\" xlink:href=\"#DejaVuSans-105\"/>\n       <use x=\"184.472656\" xlink:href=\"#DejaVuSans-110\"/>\n       <use x=\"247.851562\" xlink:href=\"#DejaVuSans-116\"/>\n       <use x=\"287.060547\" xlink:href=\"#DejaVuSans-99\"/>\n       <use x=\"342.041016\" xlink:href=\"#DejaVuSans-97\"/>\n       <use x=\"403.320312\" xlink:href=\"#DejaVuSans-114\"/>\n       <use x=\"442.183594\" xlink:href=\"#DejaVuSans-101\"/>\n      </g>\n     </g>\n    </g>\n    <g id=\"ytick_5\">\n     <g id=\"line2d_14\">\n      <g>\n       <use style=\"stroke:#000000;stroke-width:0.8;\" x=\"104.315625\" xlink:href=\"#mda40b9e13c\" y=\"190.834125\"/>\n      </g>\n     </g>\n     <g id=\"text_14\">\n      <!-- ChipotleTweets -->\n      <defs>\n       <path d=\"M 64.40625 67.28125 \nL 64.40625 56.890625 \nQ 59.421875 61.53125 53.78125 63.8125 \nQ 48.140625 66.109375 41.796875 66.109375 \nQ 29.296875 66.109375 22.65625 58.46875 \nQ 16.015625 50.828125 16.015625 36.375 \nQ 16.015625 21.96875 22.65625 14.328125 \nQ 29.296875 6.6875 41.796875 6.6875 \nQ 48.140625 6.6875 53.78125 8.984375 \nQ 59.421875 11.28125 64.40625 15.921875 \nL 64.40625 5.609375 \nQ 59.234375 2.09375 53.4375 0.328125 \nQ 47.65625 -1.421875 41.21875 -1.421875 \nQ 24.65625 -1.421875 15.125 8.703125 \nQ 5.609375 18.84375 5.609375 36.375 \nQ 5.609375 53.953125 15.125 64.078125 \nQ 24.65625 74.21875 41.21875 74.21875 \nQ 47.75 74.21875 53.53125 72.484375 \nQ 59.328125 70.75 64.40625 67.28125 \nz\n\" id=\"DejaVuSans-67\"/>\n       <path d=\"M 54.890625 33.015625 \nL 54.890625 0 \nL 45.90625 0 \nL 45.90625 32.71875 \nQ 45.90625 40.484375 42.875 44.328125 \nQ 39.84375 48.1875 33.796875 48.1875 \nQ 26.515625 48.1875 22.3125 43.546875 \nQ 18.109375 38.921875 18.109375 30.90625 \nL 18.109375 0 \nL 9.078125 0 \nL 9.078125 75.984375 \nL 18.109375 75.984375 \nL 18.109375 46.1875 \nQ 21.34375 51.125 25.703125 53.5625 \nQ 30.078125 56 35.796875 56 \nQ 45.21875 56 50.046875 50.171875 \nQ 54.890625 44.34375 54.890625 33.015625 \nz\n\" id=\"DejaVuSans-104\"/>\n       <path d=\"M -0.296875 72.90625 \nL 61.375 72.90625 \nL 61.375 64.59375 \nL 35.5 64.59375 \nL 35.5 0 \nL 25.59375 0 \nL 25.59375 64.59375 \nL -0.296875 64.59375 \nz\n\" id=\"DejaVuSans-84\"/>\n       <path d=\"M 4.203125 54.6875 \nL 13.1875 54.6875 \nL 24.421875 12.015625 \nL 35.59375 54.6875 \nL 46.1875 54.6875 \nL 57.421875 12.015625 \nL 68.609375 54.6875 \nL 77.59375 54.6875 \nL 63.28125 0 \nL 52.6875 0 \nL 40.921875 44.828125 \nL 29.109375 0 \nL 18.5 0 \nz\n\" id=\"DejaVuSans-119\"/>\n      </defs>\n      <g transform=\"translate(21.826562 194.633344)scale(0.1 -0.1)\">\n       <use xlink:href=\"#DejaVuSans-67\"/>\n       <use x=\"69.824219\" xlink:href=\"#DejaVuSans-104\"/>\n       <use x=\"133.203125\" xlink:href=\"#DejaVuSans-105\"/>\n       <use x=\"160.986328\" xlink:href=\"#DejaVuSans-112\"/>\n       <use x=\"224.462891\" xlink:href=\"#DejaVuSans-111\"/>\n       <use x=\"285.644531\" xlink:href=\"#DejaVuSans-116\"/>\n       <use x=\"324.853516\" xlink:href=\"#DejaVuSans-108\"/>\n       <use x=\"352.636719\" xlink:href=\"#DejaVuSans-101\"/>\n       <use x=\"414.160156\" xlink:href=\"#DejaVuSans-84\"/>\n       <use x=\"458.744141\" xlink:href=\"#DejaVuSans-119\"/>\n       <use x=\"540.53125\" xlink:href=\"#DejaVuSans-101\"/>\n       <use x=\"602.054688\" xlink:href=\"#DejaVuSans-101\"/>\n       <use x=\"663.578125\" xlink:href=\"#DejaVuSans-116\"/>\n       <use x=\"702.787109\" xlink:href=\"#DejaVuSans-115\"/>\n      </g>\n     </g>\n    </g>\n    <g id=\"ytick_6\">\n     <g id=\"line2d_15\">\n      <g>\n       <use style=\"stroke:#000000;stroke-width:0.8;\" x=\"104.315625\" xlink:href=\"#mda40b9e13c\" y=\"179.962125\"/>\n      </g>\n     </g>\n     <g id=\"text_15\">\n      <!-- hulu_support -->\n      <defs>\n       <path d=\"M 50.984375 -16.609375 \nL 50.984375 -23.578125 \nL -0.984375 -23.578125 \nL -0.984375 -16.609375 \nz\n\" id=\"DejaVuSans-95\"/>\n      </defs>\n      <g transform=\"translate(32.13125 183.761344)scale(0.1 -0.1)\">\n       <use xlink:href=\"#DejaVuSans-104\"/>\n       <use x=\"63.378906\" xlink:href=\"#DejaVuSans-117\"/>\n       <use x=\"126.757812\" xlink:href=\"#DejaVuSans-108\"/>\n       <use x=\"154.541016\" xlink:href=\"#DejaVuSans-117\"/>\n       <use x=\"217.919922\" xlink:href=\"#DejaVuSans-95\"/>\n       <use x=\"267.919922\" xlink:href=\"#DejaVuSans-115\"/>\n       <use x=\"320.019531\" xlink:href=\"#DejaVuSans-117\"/>\n       <use x=\"383.398438\" xlink:href=\"#DejaVuSans-112\"/>\n       <use x=\"446.875\" xlink:href=\"#DejaVuSans-112\"/>\n       <use x=\"510.351562\" xlink:href=\"#DejaVuSans-111\"/>\n       <use x=\"571.533203\" xlink:href=\"#DejaVuSans-114\"/>\n       <use x=\"612.646484\" xlink:href=\"#DejaVuSans-116\"/>\n      </g>\n     </g>\n    </g>\n    <g id=\"ytick_7\">\n     <g id=\"line2d_16\">\n      <g>\n       <use style=\"stroke:#000000;stroke-width:0.8;\" x=\"104.315625\" xlink:href=\"#mda40b9e13c\" y=\"169.090125\"/>\n      </g>\n     </g>\n     <g id=\"text_16\">\n      <!-- UPSHelp -->\n      <defs>\n       <path d=\"M 8.6875 72.90625 \nL 18.609375 72.90625 \nL 18.609375 28.609375 \nQ 18.609375 16.890625 22.84375 11.734375 \nQ 27.09375 6.59375 36.625 6.59375 \nQ 46.09375 6.59375 50.34375 11.734375 \nQ 54.59375 16.890625 54.59375 28.609375 \nL 54.59375 72.90625 \nL 64.5 72.90625 \nL 64.5 27.390625 \nQ 64.5 13.140625 57.4375 5.859375 \nQ 50.390625 -1.421875 36.625 -1.421875 \nQ 22.796875 -1.421875 15.734375 5.859375 \nQ 8.6875 13.140625 8.6875 27.390625 \nz\n\" id=\"DejaVuSans-85\"/>\n       <path d=\"M 9.8125 72.90625 \nL 19.671875 72.90625 \nL 19.671875 43.015625 \nL 55.515625 43.015625 \nL 55.515625 72.90625 \nL 65.375 72.90625 \nL 65.375 0 \nL 55.515625 0 \nL 55.515625 34.71875 \nL 19.671875 34.71875 \nL 19.671875 0 \nL 9.8125 0 \nz\n\" id=\"DejaVuSans-72\"/>\n      </defs>\n      <g transform=\"translate(54.81875 172.889344)scale(0.1 -0.1)\">\n       <use xlink:href=\"#DejaVuSans-85\"/>\n       <use x=\"73.193359\" xlink:href=\"#DejaVuSans-80\"/>\n       <use x=\"133.496094\" xlink:href=\"#DejaVuSans-83\"/>\n       <use x=\"196.972656\" xlink:href=\"#DejaVuSans-72\"/>\n       <use x=\"272.167969\" xlink:href=\"#DejaVuSans-101\"/>\n       <use x=\"333.691406\" xlink:href=\"#DejaVuSans-108\"/>\n       <use x=\"361.474609\" xlink:href=\"#DejaVuSans-112\"/>\n      </g>\n     </g>\n    </g>\n    <g id=\"ytick_8\">\n     <g id=\"line2d_17\">\n      <g>\n       <use style=\"stroke:#000000;stroke-width:0.8;\" x=\"104.315625\" xlink:href=\"#mda40b9e13c\" y=\"158.218125\"/>\n      </g>\n     </g>\n     <g id=\"text_17\">\n      <!-- VirginTrains -->\n      <defs>\n       <path d=\"M 28.609375 0 \nL 0.78125 72.90625 \nL 11.078125 72.90625 \nL 34.1875 11.53125 \nL 57.328125 72.90625 \nL 67.578125 72.90625 \nL 39.796875 0 \nz\n\" id=\"DejaVuSans-86\"/>\n       <path d=\"M 45.40625 27.984375 \nQ 45.40625 37.75 41.375 43.109375 \nQ 37.359375 48.484375 30.078125 48.484375 \nQ 22.859375 48.484375 18.828125 43.109375 \nQ 14.796875 37.75 14.796875 27.984375 \nQ 14.796875 18.265625 18.828125 12.890625 \nQ 22.859375 7.515625 30.078125 7.515625 \nQ 37.359375 7.515625 41.375 12.890625 \nQ 45.40625 18.265625 45.40625 27.984375 \nz\nM 54.390625 6.78125 \nQ 54.390625 -7.171875 48.1875 -13.984375 \nQ 42 -20.796875 29.203125 -20.796875 \nQ 24.46875 -20.796875 20.265625 -20.09375 \nQ 16.0625 -19.390625 12.109375 -17.921875 \nL 12.109375 -9.1875 \nQ 16.0625 -11.328125 19.921875 -12.34375 \nQ 23.78125 -13.375 27.78125 -13.375 \nQ 36.625 -13.375 41.015625 -8.765625 \nQ 45.40625 -4.15625 45.40625 5.171875 \nL 45.40625 9.625 \nQ 42.625 4.78125 38.28125 2.390625 \nQ 33.9375 0 27.875 0 \nQ 17.828125 0 11.671875 7.65625 \nQ 5.515625 15.328125 5.515625 27.984375 \nQ 5.515625 40.671875 11.671875 48.328125 \nQ 17.828125 56 27.875 56 \nQ 33.9375 56 38.28125 53.609375 \nQ 42.625 51.21875 45.40625 46.390625 \nL 45.40625 54.6875 \nL 54.390625 54.6875 \nz\n\" id=\"DejaVuSans-103\"/>\n      </defs>\n      <g transform=\"translate(39.325 162.017344)scale(0.1 -0.1)\">\n       <use xlink:href=\"#DejaVuSans-86\"/>\n       <use x=\"66.158203\" xlink:href=\"#DejaVuSans-105\"/>\n       <use x=\"93.941406\" xlink:href=\"#DejaVuSans-114\"/>\n       <use x=\"133.304688\" xlink:href=\"#DejaVuSans-103\"/>\n       <use x=\"196.78125\" xlink:href=\"#DejaVuSans-105\"/>\n       <use x=\"224.564453\" xlink:href=\"#DejaVuSans-110\"/>\n       <use x=\"287.943359\" xlink:href=\"#DejaVuSans-84\"/>\n       <use x=\"334.277344\" xlink:href=\"#DejaVuSans-114\"/>\n       <use x=\"375.390625\" xlink:href=\"#DejaVuSans-97\"/>\n       <use x=\"436.669922\" xlink:href=\"#DejaVuSans-105\"/>\n       <use x=\"464.453125\" xlink:href=\"#DejaVuSans-110\"/>\n       <use x=\"527.832031\" xlink:href=\"#DejaVuSans-115\"/>\n      </g>\n     </g>\n    </g>\n    <g id=\"ytick_9\">\n     <g id=\"line2d_18\">\n      <g>\n       <use style=\"stroke:#000000;stroke-width:0.8;\" x=\"104.315625\" xlink:href=\"#mda40b9e13c\" y=\"147.346125\"/>\n      </g>\n     </g>\n     <g id=\"text_18\">\n      <!-- Ask_Spectrum -->\n      <defs>\n       <path d=\"M 52 44.1875 \nQ 55.375 50.25 60.0625 53.125 \nQ 64.75 56 71.09375 56 \nQ 79.640625 56 84.28125 50.015625 \nQ 88.921875 44.046875 88.921875 33.015625 \nL 88.921875 0 \nL 79.890625 0 \nL 79.890625 32.71875 \nQ 79.890625 40.578125 77.09375 44.375 \nQ 74.3125 48.1875 68.609375 48.1875 \nQ 61.625 48.1875 57.5625 43.546875 \nQ 53.515625 38.921875 53.515625 30.90625 \nL 53.515625 0 \nL 44.484375 0 \nL 44.484375 32.71875 \nQ 44.484375 40.625 41.703125 44.40625 \nQ 38.921875 48.1875 33.109375 48.1875 \nQ 26.21875 48.1875 22.15625 43.53125 \nQ 18.109375 38.875 18.109375 30.90625 \nL 18.109375 0 \nL 9.078125 0 \nL 9.078125 54.6875 \nL 18.109375 54.6875 \nL 18.109375 46.1875 \nQ 21.1875 51.21875 25.484375 53.609375 \nQ 29.78125 56 35.6875 56 \nQ 41.65625 56 45.828125 52.96875 \nQ 50 49.953125 52 44.1875 \nz\n\" id=\"DejaVuSans-109\"/>\n      </defs>\n      <g transform=\"translate(26.017187 151.145344)scale(0.1 -0.1)\">\n       <use xlink:href=\"#DejaVuSans-65\"/>\n       <use x=\"68.408203\" xlink:href=\"#DejaVuSans-115\"/>\n       <use x=\"120.507812\" xlink:href=\"#DejaVuSans-107\"/>\n       <use x=\"178.417969\" xlink:href=\"#DejaVuSans-95\"/>\n       <use x=\"228.417969\" xlink:href=\"#DejaVuSans-83\"/>\n       <use x=\"291.894531\" xlink:href=\"#DejaVuSans-112\"/>\n       <use x=\"355.371094\" xlink:href=\"#DejaVuSans-101\"/>\n       <use x=\"416.894531\" xlink:href=\"#DejaVuSans-99\"/>\n       <use x=\"471.875\" xlink:href=\"#DejaVuSans-116\"/>\n       <use x=\"511.083984\" xlink:href=\"#DejaVuSans-114\"/>\n       <use x=\"552.197266\" xlink:href=\"#DejaVuSans-117\"/>\n       <use x=\"615.576172\" xlink:href=\"#DejaVuSans-109\"/>\n      </g>\n     </g>\n    </g>\n    <g id=\"ytick_10\">\n     <g id=\"line2d_19\">\n      <g>\n       <use style=\"stroke:#000000;stroke-width:0.8;\" x=\"104.315625\" xlink:href=\"#mda40b9e13c\" y=\"136.474125\"/>\n      </g>\n     </g>\n     <g id=\"text_19\">\n      <!-- British_Airways -->\n      <defs>\n       <path d=\"M 19.671875 34.8125 \nL 19.671875 8.109375 \nL 35.5 8.109375 \nQ 43.453125 8.109375 47.28125 11.40625 \nQ 51.125 14.703125 51.125 21.484375 \nQ 51.125 28.328125 47.28125 31.5625 \nQ 43.453125 34.8125 35.5 34.8125 \nz\nM 19.671875 64.796875 \nL 19.671875 42.828125 \nL 34.28125 42.828125 \nQ 41.5 42.828125 45.03125 45.53125 \nQ 48.578125 48.25 48.578125 53.8125 \nQ 48.578125 59.328125 45.03125 62.0625 \nQ 41.5 64.796875 34.28125 64.796875 \nz\nM 9.8125 72.90625 \nL 35.015625 72.90625 \nQ 46.296875 72.90625 52.390625 68.21875 \nQ 58.5 63.53125 58.5 54.890625 \nQ 58.5 48.1875 55.375 44.234375 \nQ 52.25 40.28125 46.1875 39.3125 \nQ 53.46875 37.75 57.5 32.78125 \nQ 61.53125 27.828125 61.53125 20.40625 \nQ 61.53125 10.640625 54.890625 5.3125 \nQ 48.25 0 35.984375 0 \nL 9.8125 0 \nz\n\" id=\"DejaVuSans-66\"/>\n      </defs>\n      <g transform=\"translate(21.15625 140.273344)scale(0.1 -0.1)\">\n       <use xlink:href=\"#DejaVuSans-66\"/>\n       <use x=\"68.603516\" xlink:href=\"#DejaVuSans-114\"/>\n       <use x=\"109.716797\" xlink:href=\"#DejaVuSans-105\"/>\n       <use x=\"137.5\" xlink:href=\"#DejaVuSans-116\"/>\n       <use x=\"176.708984\" xlink:href=\"#DejaVuSans-105\"/>\n       <use x=\"204.492188\" xlink:href=\"#DejaVuSans-115\"/>\n       <use x=\"256.591797\" xlink:href=\"#DejaVuSans-104\"/>\n       <use x=\"319.970703\" xlink:href=\"#DejaVuSans-95\"/>\n       <use x=\"369.970703\" xlink:href=\"#DejaVuSans-65\"/>\n       <use x=\"438.378906\" xlink:href=\"#DejaVuSans-105\"/>\n       <use x=\"466.162109\" xlink:href=\"#DejaVuSans-114\"/>\n       <use x=\"507.275391\" xlink:href=\"#DejaVuSans-119\"/>\n       <use x=\"589.0625\" xlink:href=\"#DejaVuSans-97\"/>\n       <use x=\"650.341797\" xlink:href=\"#DejaVuSans-121\"/>\n       <use x=\"709.521484\" xlink:href=\"#DejaVuSans-115\"/>\n      </g>\n     </g>\n    </g>\n    <g id=\"ytick_11\">\n     <g id=\"line2d_20\">\n      <g>\n       <use style=\"stroke:#000000;stroke-width:0.8;\" x=\"104.315625\" xlink:href=\"#mda40b9e13c\" y=\"125.602125\"/>\n      </g>\n     </g>\n     <g id=\"text_20\">\n      <!-- TMobileHelp -->\n      <defs>\n       <path d=\"M 9.8125 72.90625 \nL 24.515625 72.90625 \nL 43.109375 23.296875 \nL 61.8125 72.90625 \nL 76.515625 72.90625 \nL 76.515625 0 \nL 66.890625 0 \nL 66.890625 64.015625 \nL 48.09375 14.015625 \nL 38.1875 14.015625 \nL 19.390625 64.015625 \nL 19.390625 0 \nL 9.8125 0 \nz\n\" id=\"DejaVuSans-77\"/>\n      </defs>\n      <g transform=\"translate(35.603125 129.401344)scale(0.1 -0.1)\">\n       <use xlink:href=\"#DejaVuSans-84\"/>\n       <use x=\"61.083984\" xlink:href=\"#DejaVuSans-77\"/>\n       <use x=\"147.363281\" xlink:href=\"#DejaVuSans-111\"/>\n       <use x=\"208.544922\" xlink:href=\"#DejaVuSans-98\"/>\n       <use x=\"272.021484\" xlink:href=\"#DejaVuSans-105\"/>\n       <use x=\"299.804688\" xlink:href=\"#DejaVuSans-108\"/>\n       <use x=\"327.587891\" xlink:href=\"#DejaVuSans-101\"/>\n       <use x=\"389.111328\" xlink:href=\"#DejaVuSans-72\"/>\n       <use x=\"464.306641\" xlink:href=\"#DejaVuSans-101\"/>\n       <use x=\"525.830078\" xlink:href=\"#DejaVuSans-108\"/>\n       <use x=\"553.613281\" xlink:href=\"#DejaVuSans-112\"/>\n      </g>\n     </g>\n    </g>\n    <g id=\"ytick_12\">\n     <g id=\"line2d_21\">\n      <g>\n       <use style=\"stroke:#000000;stroke-width:0.8;\" x=\"104.315625\" xlink:href=\"#mda40b9e13c\" y=\"114.730125\"/>\n      </g>\n     </g>\n     <g id=\"text_21\">\n      <!-- SouthwestAir -->\n      <g transform=\"translate(31.0625 118.529344)scale(0.1 -0.1)\">\n       <use xlink:href=\"#DejaVuSans-83\"/>\n       <use x=\"63.476562\" xlink:href=\"#DejaVuSans-111\"/>\n       <use x=\"124.658203\" xlink:href=\"#DejaVuSans-117\"/>\n       <use x=\"188.037109\" xlink:href=\"#DejaVuSans-116\"/>\n       <use x=\"227.246094\" xlink:href=\"#DejaVuSans-104\"/>\n       <use x=\"290.625\" xlink:href=\"#DejaVuSans-119\"/>\n       <use x=\"372.412109\" xlink:href=\"#DejaVuSans-101\"/>\n       <use x=\"433.935547\" xlink:href=\"#DejaVuSans-115\"/>\n       <use x=\"486.035156\" xlink:href=\"#DejaVuSans-116\"/>\n       <use x=\"525.244141\" xlink:href=\"#DejaVuSans-65\"/>\n       <use x=\"593.652344\" xlink:href=\"#DejaVuSans-105\"/>\n       <use x=\"621.435547\" xlink:href=\"#DejaVuSans-114\"/>\n      </g>\n     </g>\n    </g>\n    <g id=\"ytick_13\">\n     <g id=\"line2d_22\">\n      <g>\n       <use style=\"stroke:#000000;stroke-width:0.8;\" x=\"104.315625\" xlink:href=\"#mda40b9e13c\" y=\"103.858125\"/>\n      </g>\n     </g>\n     <g id=\"text_22\">\n      <!-- comcastcares -->\n      <g transform=\"translate(28.326562 107.657344)scale(0.1 -0.1)\">\n       <use xlink:href=\"#DejaVuSans-99\"/>\n       <use x=\"54.980469\" xlink:href=\"#DejaVuSans-111\"/>\n       <use x=\"116.162109\" xlink:href=\"#DejaVuSans-109\"/>\n       <use x=\"213.574219\" xlink:href=\"#DejaVuSans-99\"/>\n       <use x=\"268.554688\" xlink:href=\"#DejaVuSans-97\"/>\n       <use x=\"329.833984\" xlink:href=\"#DejaVuSans-115\"/>\n       <use x=\"381.933594\" xlink:href=\"#DejaVuSans-116\"/>\n       <use x=\"421.142578\" xlink:href=\"#DejaVuSans-99\"/>\n       <use x=\"476.123047\" xlink:href=\"#DejaVuSans-97\"/>\n       <use x=\"537.402344\" xlink:href=\"#DejaVuSans-114\"/>\n       <use x=\"576.265625\" xlink:href=\"#DejaVuSans-101\"/>\n       <use x=\"637.789062\" xlink:href=\"#DejaVuSans-115\"/>\n      </g>\n     </g>\n    </g>\n    <g id=\"ytick_14\">\n     <g id=\"line2d_23\">\n      <g>\n       <use style=\"stroke:#000000;stroke-width:0.8;\" x=\"104.315625\" xlink:href=\"#mda40b9e13c\" y=\"92.986125\"/>\n      </g>\n     </g>\n     <g id=\"text_23\">\n      <!-- AmericanAir -->\n      <g transform=\"translate(35.998437 96.785344)scale(0.1 -0.1)\">\n       <use xlink:href=\"#DejaVuSans-65\"/>\n       <use x=\"68.408203\" xlink:href=\"#DejaVuSans-109\"/>\n       <use x=\"165.820312\" xlink:href=\"#DejaVuSans-101\"/>\n       <use x=\"227.34375\" xlink:href=\"#DejaVuSans-114\"/>\n       <use x=\"268.457031\" xlink:href=\"#DejaVuSans-105\"/>\n       <use x=\"296.240234\" xlink:href=\"#DejaVuSans-99\"/>\n       <use x=\"351.220703\" xlink:href=\"#DejaVuSans-97\"/>\n       <use x=\"412.5\" xlink:href=\"#DejaVuSans-110\"/>\n       <use x=\"475.878906\" xlink:href=\"#DejaVuSans-65\"/>\n       <use x=\"544.287109\" xlink:href=\"#DejaVuSans-105\"/>\n       <use x=\"572.070312\" xlink:href=\"#DejaVuSans-114\"/>\n      </g>\n     </g>\n    </g>\n    <g id=\"ytick_15\">\n     <g id=\"line2d_24\">\n      <g>\n       <use style=\"stroke:#000000;stroke-width:0.8;\" x=\"104.315625\" xlink:href=\"#mda40b9e13c\" y=\"82.114125\"/>\n      </g>\n     </g>\n     <g id=\"text_24\">\n      <!-- Tesco -->\n      <g transform=\"translate(69.928125 85.913344)scale(0.1 -0.1)\">\n       <use xlink:href=\"#DejaVuSans-84\"/>\n       <use x=\"44.083984\" xlink:href=\"#DejaVuSans-101\"/>\n       <use x=\"105.607422\" xlink:href=\"#DejaVuSans-115\"/>\n       <use x=\"157.707031\" xlink:href=\"#DejaVuSans-99\"/>\n       <use x=\"212.6875\" xlink:href=\"#DejaVuSans-111\"/>\n      </g>\n     </g>\n    </g>\n    <g id=\"ytick_16\">\n     <g id=\"line2d_25\">\n      <g>\n       <use style=\"stroke:#000000;stroke-width:0.8;\" x=\"104.315625\" xlink:href=\"#mda40b9e13c\" y=\"71.242125\"/>\n      </g>\n     </g>\n     <g id=\"text_25\">\n      <!-- SpotifyCares -->\n      <defs>\n       <path d=\"M 37.109375 75.984375 \nL 37.109375 68.5 \nL 28.515625 68.5 \nQ 23.6875 68.5 21.796875 66.546875 \nQ 19.921875 64.59375 19.921875 59.515625 \nL 19.921875 54.6875 \nL 34.71875 54.6875 \nL 34.71875 47.703125 \nL 19.921875 47.703125 \nL 19.921875 0 \nL 10.890625 0 \nL 10.890625 47.703125 \nL 2.296875 47.703125 \nL 2.296875 54.6875 \nL 10.890625 54.6875 \nL 10.890625 58.5 \nQ 10.890625 67.625 15.140625 71.796875 \nQ 19.390625 75.984375 28.609375 75.984375 \nz\n\" id=\"DejaVuSans-102\"/>\n      </defs>\n      <g transform=\"translate(34.178125 75.041344)scale(0.1 -0.1)\">\n       <use xlink:href=\"#DejaVuSans-83\"/>\n       <use x=\"63.476562\" xlink:href=\"#DejaVuSans-112\"/>\n       <use x=\"126.953125\" xlink:href=\"#DejaVuSans-111\"/>\n       <use x=\"188.134766\" xlink:href=\"#DejaVuSans-116\"/>\n       <use x=\"227.34375\" xlink:href=\"#DejaVuSans-105\"/>\n       <use x=\"255.126953\" xlink:href=\"#DejaVuSans-102\"/>\n       <use x=\"288.582031\" xlink:href=\"#DejaVuSans-121\"/>\n       <use x=\"347.761719\" xlink:href=\"#DejaVuSans-67\"/>\n       <use x=\"417.585938\" xlink:href=\"#DejaVuSans-97\"/>\n       <use x=\"478.865234\" xlink:href=\"#DejaVuSans-114\"/>\n       <use x=\"517.728516\" xlink:href=\"#DejaVuSans-101\"/>\n       <use x=\"579.251953\" xlink:href=\"#DejaVuSans-115\"/>\n      </g>\n     </g>\n    </g>\n    <g id=\"ytick_17\">\n     <g id=\"line2d_26\">\n      <g>\n       <use style=\"stroke:#000000;stroke-width:0.8;\" x=\"104.315625\" xlink:href=\"#mda40b9e13c\" y=\"60.370125\"/>\n      </g>\n     </g>\n     <g id=\"text_26\">\n      <!-- Delta -->\n      <defs>\n       <path d=\"M 19.671875 64.796875 \nL 19.671875 8.109375 \nL 31.59375 8.109375 \nQ 46.6875 8.109375 53.6875 14.9375 \nQ 60.6875 21.78125 60.6875 36.53125 \nQ 60.6875 51.171875 53.6875 57.984375 \nQ 46.6875 64.796875 31.59375 64.796875 \nz\nM 9.8125 72.90625 \nL 30.078125 72.90625 \nQ 51.265625 72.90625 61.171875 64.09375 \nQ 71.09375 55.28125 71.09375 36.53125 \nQ 71.09375 17.671875 61.125 8.828125 \nQ 51.171875 0 30.078125 0 \nL 9.8125 0 \nz\n\" id=\"DejaVuSans-68\"/>\n      </defs>\n      <g transform=\"translate(70.635937 64.169344)scale(0.1 -0.1)\">\n       <use xlink:href=\"#DejaVuSans-68\"/>\n       <use x=\"77.001953\" xlink:href=\"#DejaVuSans-101\"/>\n       <use x=\"138.525391\" xlink:href=\"#DejaVuSans-108\"/>\n       <use x=\"166.308594\" xlink:href=\"#DejaVuSans-116\"/>\n       <use x=\"205.517578\" xlink:href=\"#DejaVuSans-97\"/>\n      </g>\n     </g>\n    </g>\n    <g id=\"ytick_18\">\n     <g id=\"line2d_27\">\n      <g>\n       <use style=\"stroke:#000000;stroke-width:0.8;\" x=\"104.315625\" xlink:href=\"#mda40b9e13c\" y=\"49.498125\"/>\n      </g>\n     </g>\n     <g id=\"text_27\">\n      <!-- Uber_Support -->\n      <g transform=\"translate(28.851562 53.297344)scale(0.1 -0.1)\">\n       <use xlink:href=\"#DejaVuSans-85\"/>\n       <use x=\"73.193359\" xlink:href=\"#DejaVuSans-98\"/>\n       <use x=\"136.669922\" xlink:href=\"#DejaVuSans-101\"/>\n       <use x=\"198.193359\" xlink:href=\"#DejaVuSans-114\"/>\n       <use x=\"239.306641\" xlink:href=\"#DejaVuSans-95\"/>\n       <use x=\"289.306641\" xlink:href=\"#DejaVuSans-83\"/>\n       <use x=\"352.783203\" xlink:href=\"#DejaVuSans-117\"/>\n       <use x=\"416.162109\" xlink:href=\"#DejaVuSans-112\"/>\n       <use x=\"479.638672\" xlink:href=\"#DejaVuSans-112\"/>\n       <use x=\"543.115234\" xlink:href=\"#DejaVuSans-111\"/>\n       <use x=\"604.296875\" xlink:href=\"#DejaVuSans-114\"/>\n       <use x=\"645.410156\" xlink:href=\"#DejaVuSans-116\"/>\n      </g>\n     </g>\n    </g>\n    <g id=\"ytick_19\">\n     <g id=\"line2d_28\">\n      <g>\n       <use style=\"stroke:#000000;stroke-width:0.8;\" x=\"104.315625\" xlink:href=\"#mda40b9e13c\" y=\"38.626125\"/>\n      </g>\n     </g>\n     <g id=\"text_28\">\n      <!-- AppleSupport -->\n      <g transform=\"translate(29.314062 42.425344)scale(0.1 -0.1)\">\n       <use xlink:href=\"#DejaVuSans-65\"/>\n       <use x=\"68.408203\" xlink:href=\"#DejaVuSans-112\"/>\n       <use x=\"131.884766\" xlink:href=\"#DejaVuSans-112\"/>\n       <use x=\"195.361328\" xlink:href=\"#DejaVuSans-108\"/>\n       <use x=\"223.144531\" xlink:href=\"#DejaVuSans-101\"/>\n       <use x=\"284.667969\" xlink:href=\"#DejaVuSans-83\"/>\n       <use x=\"348.144531\" xlink:href=\"#DejaVuSans-117\"/>\n       <use x=\"411.523438\" xlink:href=\"#DejaVuSans-112\"/>\n       <use x=\"475\" xlink:href=\"#DejaVuSans-112\"/>\n       <use x=\"538.476562\" xlink:href=\"#DejaVuSans-111\"/>\n       <use x=\"599.658203\" xlink:href=\"#DejaVuSans-114\"/>\n       <use x=\"640.771484\" xlink:href=\"#DejaVuSans-116\"/>\n      </g>\n     </g>\n    </g>\n    <g id=\"ytick_20\">\n     <g id=\"line2d_29\">\n      <g>\n       <use style=\"stroke:#000000;stroke-width:0.8;\" x=\"104.315625\" xlink:href=\"#mda40b9e13c\" y=\"27.754125\"/>\n      </g>\n     </g>\n     <g id=\"text_29\">\n      <!-- AmazonHelp -->\n      <defs>\n       <path d=\"M 5.515625 54.6875 \nL 48.1875 54.6875 \nL 48.1875 46.484375 \nL 14.40625 7.171875 \nL 48.1875 7.171875 \nL 48.1875 0 \nL 4.296875 0 \nL 4.296875 8.203125 \nL 38.09375 47.515625 \nL 5.515625 47.515625 \nz\n\" id=\"DejaVuSans-122\"/>\n      </defs>\n      <g transform=\"translate(34.101562 31.553344)scale(0.1 -0.1)\">\n       <use xlink:href=\"#DejaVuSans-65\"/>\n       <use x=\"68.408203\" xlink:href=\"#DejaVuSans-109\"/>\n       <use x=\"165.820312\" xlink:href=\"#DejaVuSans-97\"/>\n       <use x=\"227.099609\" xlink:href=\"#DejaVuSans-122\"/>\n       <use x=\"279.589844\" xlink:href=\"#DejaVuSans-111\"/>\n       <use x=\"340.771484\" xlink:href=\"#DejaVuSans-110\"/>\n       <use x=\"404.150391\" xlink:href=\"#DejaVuSans-72\"/>\n       <use x=\"479.345703\" xlink:href=\"#DejaVuSans-101\"/>\n       <use x=\"540.869141\" xlink:href=\"#DejaVuSans-108\"/>\n       <use x=\"568.652344\" xlink:href=\"#DejaVuSans-112\"/>\n      </g>\n     </g>\n    </g>\n    <g id=\"text_30\">\n     <!-- author_id_y -->\n     <defs>\n      <path d=\"M 45.40625 46.390625 \nL 45.40625 75.984375 \nL 54.390625 75.984375 \nL 54.390625 0 \nL 45.40625 0 \nL 45.40625 8.203125 \nQ 42.578125 3.328125 38.25 0.953125 \nQ 33.9375 -1.421875 27.875 -1.421875 \nQ 17.96875 -1.421875 11.734375 6.484375 \nQ 5.515625 14.40625 5.515625 27.296875 \nQ 5.515625 40.1875 11.734375 48.09375 \nQ 17.96875 56 27.875 56 \nQ 33.9375 56 38.25 53.625 \nQ 42.578125 51.265625 45.40625 46.390625 \nz\nM 14.796875 27.296875 \nQ 14.796875 17.390625 18.875 11.75 \nQ 22.953125 6.109375 30.078125 6.109375 \nQ 37.203125 6.109375 41.296875 11.75 \nQ 45.40625 17.390625 45.40625 27.296875 \nQ 45.40625 37.203125 41.296875 42.84375 \nQ 37.203125 48.484375 30.078125 48.484375 \nQ 22.953125 48.484375 18.875 42.84375 \nQ 14.796875 37.203125 14.796875 27.296875 \nz\n\" id=\"DejaVuSans-100\"/>\n     </defs>\n     <g transform=\"translate(14.798437 160.037344)rotate(-90)scale(0.1 -0.1)\">\n      <use xlink:href=\"#DejaVuSans-97\"/>\n      <use x=\"61.279297\" xlink:href=\"#DejaVuSans-117\"/>\n      <use x=\"124.658203\" xlink:href=\"#DejaVuSans-116\"/>\n      <use x=\"163.867188\" xlink:href=\"#DejaVuSans-104\"/>\n      <use x=\"227.246094\" xlink:href=\"#DejaVuSans-111\"/>\n      <use x=\"288.427734\" xlink:href=\"#DejaVuSans-114\"/>\n      <use x=\"329.541016\" xlink:href=\"#DejaVuSans-95\"/>\n      <use x=\"379.541016\" xlink:href=\"#DejaVuSans-105\"/>\n      <use x=\"407.324219\" xlink:href=\"#DejaVuSans-100\"/>\n      <use x=\"470.800781\" xlink:href=\"#DejaVuSans-95\"/>\n      <use x=\"520.800781\" xlink:href=\"#DejaVuSans-121\"/>\n     </g>\n    </g>\n   </g>\n   <g id=\"patch_23\">\n    <path d=\"M 104.315625 239.758125 \nL 104.315625 22.318125 \n\" style=\"fill:none;stroke:#000000;stroke-linecap:square;stroke-linejoin:miter;stroke-width:0.8;\"/>\n   </g>\n   <g id=\"patch_24\">\n    <path d=\"M 439.115625 239.758125 \nL 439.115625 22.318125 \n\" style=\"fill:none;stroke:#000000;stroke-linecap:square;stroke-linejoin:miter;stroke-width:0.8;\"/>\n   </g>\n   <g id=\"patch_25\">\n    <path d=\"M 104.315625 239.758125 \nL 439.115625 239.758125 \n\" style=\"fill:none;stroke:#000000;stroke-linecap:square;stroke-linejoin:miter;stroke-width:0.8;\"/>\n   </g>\n   <g id=\"patch_26\">\n    <path d=\"M 104.315625 22.318125 \nL 439.115625 22.318125 \n\" style=\"fill:none;stroke:#000000;stroke-linecap:square;stroke-linejoin:miter;stroke-width:0.8;\"/>\n   </g>\n   <g id=\"text_31\">\n    <!-- Top 20 Brands by Volume -->\n    <defs>\n     <path id=\"DejaVuSans-32\"/>\n    </defs>\n    <g transform=\"translate(195.654375 16.318125)scale(0.12 -0.12)\">\n     <use xlink:href=\"#DejaVuSans-84\"/>\n     <use x=\"44.083984\" xlink:href=\"#DejaVuSans-111\"/>\n     <use x=\"105.265625\" xlink:href=\"#DejaVuSans-112\"/>\n     <use x=\"168.742188\" xlink:href=\"#DejaVuSans-32\"/>\n     <use x=\"200.529297\" xlink:href=\"#DejaVuSans-50\"/>\n     <use x=\"264.152344\" xlink:href=\"#DejaVuSans-48\"/>\n     <use x=\"327.775391\" xlink:href=\"#DejaVuSans-32\"/>\n     <use x=\"359.5625\" xlink:href=\"#DejaVuSans-66\"/>\n     <use x=\"428.166016\" xlink:href=\"#DejaVuSans-114\"/>\n     <use x=\"469.279297\" xlink:href=\"#DejaVuSans-97\"/>\n     <use x=\"530.558594\" xlink:href=\"#DejaVuSans-110\"/>\n     <use x=\"593.9375\" xlink:href=\"#DejaVuSans-100\"/>\n     <use x=\"657.414062\" xlink:href=\"#DejaVuSans-115\"/>\n     <use x=\"709.513672\" xlink:href=\"#DejaVuSans-32\"/>\n     <use x=\"741.300781\" xlink:href=\"#DejaVuSans-98\"/>\n     <use x=\"804.777344\" xlink:href=\"#DejaVuSans-121\"/>\n     <use x=\"863.957031\" xlink:href=\"#DejaVuSans-32\"/>\n     <use x=\"895.744141\" xlink:href=\"#DejaVuSans-86\"/>\n     <use x=\"956.402344\" xlink:href=\"#DejaVuSans-111\"/>\n     <use x=\"1017.583984\" xlink:href=\"#DejaVuSans-108\"/>\n     <use x=\"1045.367188\" xlink:href=\"#DejaVuSans-117\"/>\n     <use x=\"1108.746094\" xlink:href=\"#DejaVuSans-109\"/>\n     <use x=\"1206.158203\" xlink:href=\"#DejaVuSans-101\"/>\n    </g>\n   </g>\n  </g>\n </g>\n <defs>\n  <clipPath id=\"p14d5d1f78e\">\n   <rect height=\"217.44\" width=\"334.8\" x=\"104.315625\" y=\"22.318125\"/>\n  </clipPath>\n </defs>\n</svg>\n"
          },
          "metadata": {
            "tags": [],
            "needs_background": "light"
          }
        }
      ]
    },
    {
      "cell_type": "code",
      "metadata": {
        "colab": {
          "base_uri": "https://localhost:8080/",
          "height": 390
        },
        "id": "hg6OxF67CW6f",
        "outputId": "44e56cae-e673-4140-814a-9c327fced8f7"
      },
      "source": [
        "inbounds_and_outbounds \\\n",
        "    .loc[inbounds_and_outbounds.author_id_y.isin(top_support_providers)] \\\n",
        "    .groupby('author_id_y') \\\n",
        "    .inbound_sentiment.mean() \\\n",
        "    .sort_values() \\\n",
        "    .plot.barh(title='Customer Sentiment by Brand (top 20 by volume)')"
      ],
      "execution_count": null,
      "outputs": [
        {
          "output_type": "execute_result",
          "data": {
            "text/plain": [
              "<matplotlib.axes._subplots.AxesSubplot at 0x7f41e04f5d50>"
            ]
          },
          "metadata": {
            "tags": []
          },
          "execution_count": 129
        },
        {
          "output_type": "display_data",
          "data": {
            "text/plain": [
              "<Figure size 432x288 with 1 Axes>"
            ],
            "image/svg+xml": "<?xml version=\"1.0\" encoding=\"utf-8\" standalone=\"no\"?>\n<!DOCTYPE svg PUBLIC \"-//W3C//DTD SVG 1.1//EN\"\n  \"http://www.w3.org/Graphics/SVG/1.1/DTD/svg11.dtd\">\n<!-- Created with matplotlib (https://matplotlib.org/) -->\n<svg height=\"263.63625pt\" version=\"1.1\" viewBox=\"0 0 446.315625 263.63625\" width=\"446.315625pt\" xmlns=\"http://www.w3.org/2000/svg\" xmlns:xlink=\"http://www.w3.org/1999/xlink\">\n <defs>\n  <style type=\"text/css\">\n*{stroke-linecap:butt;stroke-linejoin:round;}\n  </style>\n </defs>\n <g id=\"figure_1\">\n  <g id=\"patch_1\">\n   <path d=\"M 0 263.63625 \nL 446.315625 263.63625 \nL 446.315625 0 \nL 0 0 \nz\n\" style=\"fill:none;\"/>\n  </g>\n  <g id=\"axes_1\">\n   <g id=\"patch_2\">\n    <path d=\"M 104.315625 239.758125 \nL 439.115625 239.758125 \nL 439.115625 22.318125 \nL 104.315625 22.318125 \nz\n\" style=\"fill:#ffffff;\"/>\n   </g>\n   <g id=\"patch_3\">\n    <path clip-path=\"url(#pd72d4dcf40)\" d=\"M 255.273186 237.040125 \nL 119.533807 237.040125 \nL 119.533807 231.604125 \nL 255.273186 231.604125 \nz\n\" style=\"fill:#1f77b4;\"/>\n   </g>\n   <g id=\"patch_4\">\n    <path clip-path=\"url(#pd72d4dcf40)\" d=\"M 255.273186 226.168125 \nL 140.146106 226.168125 \nL 140.146106 220.732125 \nL 255.273186 220.732125 \nz\n\" style=\"fill:#1f77b4;\"/>\n   </g>\n   <g id=\"patch_5\">\n    <path clip-path=\"url(#pd72d4dcf40)\" d=\"M 255.273186 215.296125 \nL 143.584885 215.296125 \nL 143.584885 209.860125 \nL 255.273186 209.860125 \nz\n\" style=\"fill:#1f77b4;\"/>\n   </g>\n   <g id=\"patch_6\">\n    <path clip-path=\"url(#pd72d4dcf40)\" d=\"M 255.273186 204.424125 \nL 150.305327 204.424125 \nL 150.305327 198.988125 \nL 255.273186 198.988125 \nz\n\" style=\"fill:#1f77b4;\"/>\n   </g>\n   <g id=\"patch_7\">\n    <path clip-path=\"url(#pd72d4dcf40)\" d=\"M 255.273186 193.552125 \nL 163.312231 193.552125 \nL 163.312231 188.116125 \nL 255.273186 188.116125 \nz\n\" style=\"fill:#1f77b4;\"/>\n   </g>\n   <g id=\"patch_8\">\n    <path clip-path=\"url(#pd72d4dcf40)\" d=\"M 255.273186 182.680125 \nL 177.225197 182.680125 \nL 177.225197 177.244125 \nL 255.273186 177.244125 \nz\n\" style=\"fill:#1f77b4;\"/>\n   </g>\n   <g id=\"patch_9\">\n    <path clip-path=\"url(#pd72d4dcf40)\" d=\"M 255.273186 171.808125 \nL 208.839178 171.808125 \nL 208.839178 166.372125 \nL 255.273186 166.372125 \nz\n\" style=\"fill:#1f77b4;\"/>\n   </g>\n   <g id=\"patch_10\">\n    <path clip-path=\"url(#pd72d4dcf40)\" d=\"M 255.273186 160.936125 \nL 210.943029 160.936125 \nL 210.943029 155.500125 \nL 255.273186 155.500125 \nz\n\" style=\"fill:#1f77b4;\"/>\n   </g>\n   <g id=\"patch_11\">\n    <path clip-path=\"url(#pd72d4dcf40)\" d=\"M 255.273186 150.064125 \nL 227.771282 150.064125 \nL 227.771282 144.628125 \nL 255.273186 144.628125 \nz\n\" style=\"fill:#1f77b4;\"/>\n   </g>\n   <g id=\"patch_12\">\n    <path clip-path=\"url(#pd72d4dcf40)\" d=\"M 255.273186 139.192125 \nL 236.227385 139.192125 \nL 236.227385 133.756125 \nL 255.273186 133.756125 \nz\n\" style=\"fill:#1f77b4;\"/>\n   </g>\n   <g id=\"patch_13\">\n    <path clip-path=\"url(#pd72d4dcf40)\" d=\"M 255.273186 128.320125 \nL 240.65236 128.320125 \nL 240.65236 122.884125 \nL 255.273186 122.884125 \nz\n\" style=\"fill:#1f77b4;\"/>\n   </g>\n   <g id=\"patch_14\">\n    <path clip-path=\"url(#pd72d4dcf40)\" d=\"M 255.273186 117.448125 \nL 258.928967 117.448125 \nL 258.928967 112.012125 \nL 255.273186 112.012125 \nz\n\" style=\"fill:#1f77b4;\"/>\n   </g>\n   <g id=\"patch_15\">\n    <path clip-path=\"url(#pd72d4dcf40)\" d=\"M 255.273186 106.576125 \nL 268.90998 106.576125 \nL 268.90998 101.140125 \nL 255.273186 101.140125 \nz\n\" style=\"fill:#1f77b4;\"/>\n   </g>\n   <g id=\"patch_16\">\n    <path clip-path=\"url(#pd72d4dcf40)\" d=\"M 255.273186 95.704125 \nL 282.623485 95.704125 \nL 282.623485 90.268125 \nL 255.273186 90.268125 \nz\n\" style=\"fill:#1f77b4;\"/>\n   </g>\n   <g id=\"patch_17\">\n    <path clip-path=\"url(#pd72d4dcf40)\" d=\"M 255.273186 84.832125 \nL 283.71817 84.832125 \nL 283.71817 79.396125 \nL 255.273186 79.396125 \nz\n\" style=\"fill:#1f77b4;\"/>\n   </g>\n   <g id=\"patch_18\">\n    <path clip-path=\"url(#pd72d4dcf40)\" d=\"M 255.273186 73.960125 \nL 285.211548 73.960125 \nL 285.211548 68.524125 \nL 255.273186 68.524125 \nz\n\" style=\"fill:#1f77b4;\"/>\n   </g>\n   <g id=\"patch_19\">\n    <path clip-path=\"url(#pd72d4dcf40)\" d=\"M 255.273186 63.088125 \nL 289.911182 63.088125 \nL 289.911182 57.652125 \nL 255.273186 57.652125 \nz\n\" style=\"fill:#1f77b4;\"/>\n   </g>\n   <g id=\"patch_20\">\n    <path clip-path=\"url(#pd72d4dcf40)\" d=\"M 255.273186 52.216125 \nL 320.119017 52.216125 \nL 320.119017 46.780125 \nL 255.273186 46.780125 \nz\n\" style=\"fill:#1f77b4;\"/>\n   </g>\n   <g id=\"patch_21\">\n    <path clip-path=\"url(#pd72d4dcf40)\" d=\"M 255.273186 41.344125 \nL 341.792784 41.344125 \nL 341.792784 35.908125 \nL 255.273186 35.908125 \nz\n\" style=\"fill:#1f77b4;\"/>\n   </g>\n   <g id=\"patch_22\">\n    <path clip-path=\"url(#pd72d4dcf40)\" d=\"M 255.273186 30.472125 \nL 423.897443 30.472125 \nL 423.897443 25.036125 \nL 255.273186 25.036125 \nz\n\" style=\"fill:#1f77b4;\"/>\n   </g>\n   <g id=\"matplotlib.axis_1\">\n    <g id=\"xtick_1\">\n     <g id=\"line2d_1\">\n      <defs>\n       <path d=\"M 0 0 \nL 0 3.5 \n\" id=\"m5a3bdeacd5\" style=\"stroke:#000000;stroke-width:0.8;\"/>\n      </defs>\n      <g>\n       <use style=\"stroke:#000000;stroke-width:0.8;\" x=\"110.078235\" xlink:href=\"#m5a3bdeacd5\" y=\"239.758125\"/>\n      </g>\n     </g>\n     <g id=\"text_1\">\n      <!-- −0.15 -->\n      <defs>\n       <path d=\"M 10.59375 35.5 \nL 73.1875 35.5 \nL 73.1875 27.203125 \nL 10.59375 27.203125 \nz\n\" id=\"DejaVuSans-8722\"/>\n       <path d=\"M 31.78125 66.40625 \nQ 24.171875 66.40625 20.328125 58.90625 \nQ 16.5 51.421875 16.5 36.375 \nQ 16.5 21.390625 20.328125 13.890625 \nQ 24.171875 6.390625 31.78125 6.390625 \nQ 39.453125 6.390625 43.28125 13.890625 \nQ 47.125 21.390625 47.125 36.375 \nQ 47.125 51.421875 43.28125 58.90625 \nQ 39.453125 66.40625 31.78125 66.40625 \nz\nM 31.78125 74.21875 \nQ 44.046875 74.21875 50.515625 64.515625 \nQ 56.984375 54.828125 56.984375 36.375 \nQ 56.984375 17.96875 50.515625 8.265625 \nQ 44.046875 -1.421875 31.78125 -1.421875 \nQ 19.53125 -1.421875 13.0625 8.265625 \nQ 6.59375 17.96875 6.59375 36.375 \nQ 6.59375 54.828125 13.0625 64.515625 \nQ 19.53125 74.21875 31.78125 74.21875 \nz\n\" id=\"DejaVuSans-48\"/>\n       <path d=\"M 10.6875 12.40625 \nL 21 12.40625 \nL 21 0 \nL 10.6875 0 \nz\n\" id=\"DejaVuSans-46\"/>\n       <path d=\"M 12.40625 8.296875 \nL 28.515625 8.296875 \nL 28.515625 63.921875 \nL 10.984375 60.40625 \nL 10.984375 69.390625 \nL 28.421875 72.90625 \nL 38.28125 72.90625 \nL 38.28125 8.296875 \nL 54.390625 8.296875 \nL 54.390625 0 \nL 12.40625 0 \nz\n\" id=\"DejaVuSans-49\"/>\n       <path d=\"M 10.796875 72.90625 \nL 49.515625 72.90625 \nL 49.515625 64.59375 \nL 19.828125 64.59375 \nL 19.828125 46.734375 \nQ 21.96875 47.46875 24.109375 47.828125 \nQ 26.265625 48.1875 28.421875 48.1875 \nQ 40.625 48.1875 47.75 41.5 \nQ 54.890625 34.8125 54.890625 23.390625 \nQ 54.890625 11.625 47.5625 5.09375 \nQ 40.234375 -1.421875 26.90625 -1.421875 \nQ 22.3125 -1.421875 17.546875 -0.640625 \nQ 12.796875 0.140625 7.71875 1.703125 \nL 7.71875 11.625 \nQ 12.109375 9.234375 16.796875 8.0625 \nQ 21.484375 6.890625 26.703125 6.890625 \nQ 35.15625 6.890625 40.078125 11.328125 \nQ 45.015625 15.765625 45.015625 23.390625 \nQ 45.015625 31 40.078125 35.4375 \nQ 35.15625 39.890625 26.703125 39.890625 \nQ 22.75 39.890625 18.8125 39.015625 \nQ 14.890625 38.140625 10.796875 36.28125 \nz\n\" id=\"DejaVuSans-53\"/>\n      </defs>\n      <g transform=\"translate(94.755579 254.356563)scale(0.1 -0.1)\">\n       <use xlink:href=\"#DejaVuSans-8722\"/>\n       <use x=\"83.789062\" xlink:href=\"#DejaVuSans-48\"/>\n       <use x=\"147.412109\" xlink:href=\"#DejaVuSans-46\"/>\n       <use x=\"179.199219\" xlink:href=\"#DejaVuSans-49\"/>\n       <use x=\"242.822266\" xlink:href=\"#DejaVuSans-53\"/>\n      </g>\n     </g>\n    </g>\n    <g id=\"xtick_2\">\n     <g id=\"line2d_2\">\n      <g>\n       <use style=\"stroke:#000000;stroke-width:0.8;\" x=\"158.476552\" xlink:href=\"#m5a3bdeacd5\" y=\"239.758125\"/>\n      </g>\n     </g>\n     <g id=\"text_2\">\n      <!-- −0.10 -->\n      <g transform=\"translate(143.153896 254.356563)scale(0.1 -0.1)\">\n       <use xlink:href=\"#DejaVuSans-8722\"/>\n       <use x=\"83.789062\" xlink:href=\"#DejaVuSans-48\"/>\n       <use x=\"147.412109\" xlink:href=\"#DejaVuSans-46\"/>\n       <use x=\"179.199219\" xlink:href=\"#DejaVuSans-49\"/>\n       <use x=\"242.822266\" xlink:href=\"#DejaVuSans-48\"/>\n      </g>\n     </g>\n    </g>\n    <g id=\"xtick_3\">\n     <g id=\"line2d_3\">\n      <g>\n       <use style=\"stroke:#000000;stroke-width:0.8;\" x=\"206.874869\" xlink:href=\"#m5a3bdeacd5\" y=\"239.758125\"/>\n      </g>\n     </g>\n     <g id=\"text_3\">\n      <!-- −0.05 -->\n      <g transform=\"translate(191.552213 254.356563)scale(0.1 -0.1)\">\n       <use xlink:href=\"#DejaVuSans-8722\"/>\n       <use x=\"83.789062\" xlink:href=\"#DejaVuSans-48\"/>\n       <use x=\"147.412109\" xlink:href=\"#DejaVuSans-46\"/>\n       <use x=\"179.199219\" xlink:href=\"#DejaVuSans-48\"/>\n       <use x=\"242.822266\" xlink:href=\"#DejaVuSans-53\"/>\n      </g>\n     </g>\n    </g>\n    <g id=\"xtick_4\">\n     <g id=\"line2d_4\">\n      <g>\n       <use style=\"stroke:#000000;stroke-width:0.8;\" x=\"255.273186\" xlink:href=\"#m5a3bdeacd5\" y=\"239.758125\"/>\n      </g>\n     </g>\n     <g id=\"text_4\">\n      <!-- 0.00 -->\n      <g transform=\"translate(244.140374 254.356563)scale(0.1 -0.1)\">\n       <use xlink:href=\"#DejaVuSans-48\"/>\n       <use x=\"63.623047\" xlink:href=\"#DejaVuSans-46\"/>\n       <use x=\"95.410156\" xlink:href=\"#DejaVuSans-48\"/>\n       <use x=\"159.033203\" xlink:href=\"#DejaVuSans-48\"/>\n      </g>\n     </g>\n    </g>\n    <g id=\"xtick_5\">\n     <g id=\"line2d_5\">\n      <g>\n       <use style=\"stroke:#000000;stroke-width:0.8;\" x=\"303.671503\" xlink:href=\"#m5a3bdeacd5\" y=\"239.758125\"/>\n      </g>\n     </g>\n     <g id=\"text_5\">\n      <!-- 0.05 -->\n      <g transform=\"translate(292.538691 254.356563)scale(0.1 -0.1)\">\n       <use xlink:href=\"#DejaVuSans-48\"/>\n       <use x=\"63.623047\" xlink:href=\"#DejaVuSans-46\"/>\n       <use x=\"95.410156\" xlink:href=\"#DejaVuSans-48\"/>\n       <use x=\"159.033203\" xlink:href=\"#DejaVuSans-53\"/>\n      </g>\n     </g>\n    </g>\n    <g id=\"xtick_6\">\n     <g id=\"line2d_6\">\n      <g>\n       <use style=\"stroke:#000000;stroke-width:0.8;\" x=\"352.069821\" xlink:href=\"#m5a3bdeacd5\" y=\"239.758125\"/>\n      </g>\n     </g>\n     <g id=\"text_6\">\n      <!-- 0.10 -->\n      <g transform=\"translate(340.937008 254.356563)scale(0.1 -0.1)\">\n       <use xlink:href=\"#DejaVuSans-48\"/>\n       <use x=\"63.623047\" xlink:href=\"#DejaVuSans-46\"/>\n       <use x=\"95.410156\" xlink:href=\"#DejaVuSans-49\"/>\n       <use x=\"159.033203\" xlink:href=\"#DejaVuSans-48\"/>\n      </g>\n     </g>\n    </g>\n    <g id=\"xtick_7\">\n     <g id=\"line2d_7\">\n      <g>\n       <use style=\"stroke:#000000;stroke-width:0.8;\" x=\"400.468138\" xlink:href=\"#m5a3bdeacd5\" y=\"239.758125\"/>\n      </g>\n     </g>\n     <g id=\"text_7\">\n      <!-- 0.15 -->\n      <g transform=\"translate(389.335325 254.356563)scale(0.1 -0.1)\">\n       <use xlink:href=\"#DejaVuSans-48\"/>\n       <use x=\"63.623047\" xlink:href=\"#DejaVuSans-46\"/>\n       <use x=\"95.410156\" xlink:href=\"#DejaVuSans-49\"/>\n       <use x=\"159.033203\" xlink:href=\"#DejaVuSans-53\"/>\n      </g>\n     </g>\n    </g>\n   </g>\n   <g id=\"matplotlib.axis_2\">\n    <g id=\"ytick_1\">\n     <g id=\"line2d_8\">\n      <defs>\n       <path d=\"M 0 0 \nL -3.5 0 \n\" id=\"m382485bfe2\" style=\"stroke:#000000;stroke-width:0.8;\"/>\n      </defs>\n      <g>\n       <use style=\"stroke:#000000;stroke-width:0.8;\" x=\"104.315625\" xlink:href=\"#m382485bfe2\" y=\"234.322125\"/>\n      </g>\n     </g>\n     <g id=\"text_8\">\n      <!-- AppleSupport -->\n      <defs>\n       <path d=\"M 34.1875 63.1875 \nL 20.796875 26.90625 \nL 47.609375 26.90625 \nz\nM 28.609375 72.90625 \nL 39.796875 72.90625 \nL 67.578125 0 \nL 57.328125 0 \nL 50.6875 18.703125 \nL 17.828125 18.703125 \nL 11.1875 0 \nL 0.78125 0 \nz\n\" id=\"DejaVuSans-65\"/>\n       <path d=\"M 18.109375 8.203125 \nL 18.109375 -20.796875 \nL 9.078125 -20.796875 \nL 9.078125 54.6875 \nL 18.109375 54.6875 \nL 18.109375 46.390625 \nQ 20.953125 51.265625 25.265625 53.625 \nQ 29.59375 56 35.59375 56 \nQ 45.5625 56 51.78125 48.09375 \nQ 58.015625 40.1875 58.015625 27.296875 \nQ 58.015625 14.40625 51.78125 6.484375 \nQ 45.5625 -1.421875 35.59375 -1.421875 \nQ 29.59375 -1.421875 25.265625 0.953125 \nQ 20.953125 3.328125 18.109375 8.203125 \nz\nM 48.6875 27.296875 \nQ 48.6875 37.203125 44.609375 42.84375 \nQ 40.53125 48.484375 33.40625 48.484375 \nQ 26.265625 48.484375 22.1875 42.84375 \nQ 18.109375 37.203125 18.109375 27.296875 \nQ 18.109375 17.390625 22.1875 11.75 \nQ 26.265625 6.109375 33.40625 6.109375 \nQ 40.53125 6.109375 44.609375 11.75 \nQ 48.6875 17.390625 48.6875 27.296875 \nz\n\" id=\"DejaVuSans-112\"/>\n       <path d=\"M 9.421875 75.984375 \nL 18.40625 75.984375 \nL 18.40625 0 \nL 9.421875 0 \nz\n\" id=\"DejaVuSans-108\"/>\n       <path d=\"M 56.203125 29.59375 \nL 56.203125 25.203125 \nL 14.890625 25.203125 \nQ 15.484375 15.921875 20.484375 11.0625 \nQ 25.484375 6.203125 34.421875 6.203125 \nQ 39.59375 6.203125 44.453125 7.46875 \nQ 49.3125 8.734375 54.109375 11.28125 \nL 54.109375 2.78125 \nQ 49.265625 0.734375 44.1875 -0.34375 \nQ 39.109375 -1.421875 33.890625 -1.421875 \nQ 20.796875 -1.421875 13.15625 6.1875 \nQ 5.515625 13.8125 5.515625 26.8125 \nQ 5.515625 40.234375 12.765625 48.109375 \nQ 20.015625 56 32.328125 56 \nQ 43.359375 56 49.78125 48.890625 \nQ 56.203125 41.796875 56.203125 29.59375 \nz\nM 47.21875 32.234375 \nQ 47.125 39.59375 43.09375 43.984375 \nQ 39.0625 48.390625 32.421875 48.390625 \nQ 24.90625 48.390625 20.390625 44.140625 \nQ 15.875 39.890625 15.1875 32.171875 \nz\n\" id=\"DejaVuSans-101\"/>\n       <path d=\"M 53.515625 70.515625 \nL 53.515625 60.890625 \nQ 47.90625 63.578125 42.921875 64.890625 \nQ 37.9375 66.21875 33.296875 66.21875 \nQ 25.25 66.21875 20.875 63.09375 \nQ 16.5 59.96875 16.5 54.203125 \nQ 16.5 49.359375 19.40625 46.890625 \nQ 22.3125 44.4375 30.421875 42.921875 \nL 36.375 41.703125 \nQ 47.40625 39.59375 52.65625 34.296875 \nQ 57.90625 29 57.90625 20.125 \nQ 57.90625 9.515625 50.796875 4.046875 \nQ 43.703125 -1.421875 29.984375 -1.421875 \nQ 24.8125 -1.421875 18.96875 -0.25 \nQ 13.140625 0.921875 6.890625 3.21875 \nL 6.890625 13.375 \nQ 12.890625 10.015625 18.65625 8.296875 \nQ 24.421875 6.59375 29.984375 6.59375 \nQ 38.421875 6.59375 43.015625 9.90625 \nQ 47.609375 13.234375 47.609375 19.390625 \nQ 47.609375 24.75 44.3125 27.78125 \nQ 41.015625 30.8125 33.5 32.328125 \nL 27.484375 33.5 \nQ 16.453125 35.6875 11.515625 40.375 \nQ 6.59375 45.0625 6.59375 53.421875 \nQ 6.59375 63.09375 13.40625 68.65625 \nQ 20.21875 74.21875 32.171875 74.21875 \nQ 37.3125 74.21875 42.625 73.28125 \nQ 47.953125 72.359375 53.515625 70.515625 \nz\n\" id=\"DejaVuSans-83\"/>\n       <path d=\"M 8.5 21.578125 \nL 8.5 54.6875 \nL 17.484375 54.6875 \nL 17.484375 21.921875 \nQ 17.484375 14.15625 20.5 10.265625 \nQ 23.53125 6.390625 29.59375 6.390625 \nQ 36.859375 6.390625 41.078125 11.03125 \nQ 45.3125 15.671875 45.3125 23.6875 \nL 45.3125 54.6875 \nL 54.296875 54.6875 \nL 54.296875 0 \nL 45.3125 0 \nL 45.3125 8.40625 \nQ 42.046875 3.421875 37.71875 1 \nQ 33.40625 -1.421875 27.6875 -1.421875 \nQ 18.265625 -1.421875 13.375 4.4375 \nQ 8.5 10.296875 8.5 21.578125 \nz\nM 31.109375 56 \nz\n\" id=\"DejaVuSans-117\"/>\n       <path d=\"M 30.609375 48.390625 \nQ 23.390625 48.390625 19.1875 42.75 \nQ 14.984375 37.109375 14.984375 27.296875 \nQ 14.984375 17.484375 19.15625 11.84375 \nQ 23.34375 6.203125 30.609375 6.203125 \nQ 37.796875 6.203125 41.984375 11.859375 \nQ 46.1875 17.53125 46.1875 27.296875 \nQ 46.1875 37.015625 41.984375 42.703125 \nQ 37.796875 48.390625 30.609375 48.390625 \nz\nM 30.609375 56 \nQ 42.328125 56 49.015625 48.375 \nQ 55.71875 40.765625 55.71875 27.296875 \nQ 55.71875 13.875 49.015625 6.21875 \nQ 42.328125 -1.421875 30.609375 -1.421875 \nQ 18.84375 -1.421875 12.171875 6.21875 \nQ 5.515625 13.875 5.515625 27.296875 \nQ 5.515625 40.765625 12.171875 48.375 \nQ 18.84375 56 30.609375 56 \nz\n\" id=\"DejaVuSans-111\"/>\n       <path d=\"M 41.109375 46.296875 \nQ 39.59375 47.171875 37.8125 47.578125 \nQ 36.03125 48 33.890625 48 \nQ 26.265625 48 22.1875 43.046875 \nQ 18.109375 38.09375 18.109375 28.8125 \nL 18.109375 0 \nL 9.078125 0 \nL 9.078125 54.6875 \nL 18.109375 54.6875 \nL 18.109375 46.1875 \nQ 20.953125 51.171875 25.484375 53.578125 \nQ 30.03125 56 36.53125 56 \nQ 37.453125 56 38.578125 55.875 \nQ 39.703125 55.765625 41.0625 55.515625 \nz\n\" id=\"DejaVuSans-114\"/>\n       <path d=\"M 18.3125 70.21875 \nL 18.3125 54.6875 \nL 36.8125 54.6875 \nL 36.8125 47.703125 \nL 18.3125 47.703125 \nL 18.3125 18.015625 \nQ 18.3125 11.328125 20.140625 9.421875 \nQ 21.96875 7.515625 27.59375 7.515625 \nL 36.8125 7.515625 \nL 36.8125 0 \nL 27.59375 0 \nQ 17.1875 0 13.234375 3.875 \nQ 9.28125 7.765625 9.28125 18.015625 \nL 9.28125 47.703125 \nL 2.6875 47.703125 \nL 2.6875 54.6875 \nL 9.28125 54.6875 \nL 9.28125 70.21875 \nz\n\" id=\"DejaVuSans-116\"/>\n      </defs>\n      <g transform=\"translate(29.314062 238.121344)scale(0.1 -0.1)\">\n       <use xlink:href=\"#DejaVuSans-65\"/>\n       <use x=\"68.408203\" xlink:href=\"#DejaVuSans-112\"/>\n       <use x=\"131.884766\" xlink:href=\"#DejaVuSans-112\"/>\n       <use x=\"195.361328\" xlink:href=\"#DejaVuSans-108\"/>\n       <use x=\"223.144531\" xlink:href=\"#DejaVuSans-101\"/>\n       <use x=\"284.667969\" xlink:href=\"#DejaVuSans-83\"/>\n       <use x=\"348.144531\" xlink:href=\"#DejaVuSans-117\"/>\n       <use x=\"411.523438\" xlink:href=\"#DejaVuSans-112\"/>\n       <use x=\"475\" xlink:href=\"#DejaVuSans-112\"/>\n       <use x=\"538.476562\" xlink:href=\"#DejaVuSans-111\"/>\n       <use x=\"599.658203\" xlink:href=\"#DejaVuSans-114\"/>\n       <use x=\"640.771484\" xlink:href=\"#DejaVuSans-116\"/>\n      </g>\n     </g>\n    </g>\n    <g id=\"ytick_2\">\n     <g id=\"line2d_9\">\n      <g>\n       <use style=\"stroke:#000000;stroke-width:0.8;\" x=\"104.315625\" xlink:href=\"#m382485bfe2\" y=\"223.450125\"/>\n      </g>\n     </g>\n     <g id=\"text_9\">\n      <!-- sprintcare -->\n      <defs>\n       <path d=\"M 44.28125 53.078125 \nL 44.28125 44.578125 \nQ 40.484375 46.53125 36.375 47.5 \nQ 32.28125 48.484375 27.875 48.484375 \nQ 21.1875 48.484375 17.84375 46.4375 \nQ 14.5 44.390625 14.5 40.28125 \nQ 14.5 37.15625 16.890625 35.375 \nQ 19.28125 33.59375 26.515625 31.984375 \nL 29.59375 31.296875 \nQ 39.15625 29.25 43.1875 25.515625 \nQ 47.21875 21.78125 47.21875 15.09375 \nQ 47.21875 7.46875 41.1875 3.015625 \nQ 35.15625 -1.421875 24.609375 -1.421875 \nQ 20.21875 -1.421875 15.453125 -0.5625 \nQ 10.6875 0.296875 5.421875 2 \nL 5.421875 11.28125 \nQ 10.40625 8.6875 15.234375 7.390625 \nQ 20.0625 6.109375 24.8125 6.109375 \nQ 31.15625 6.109375 34.5625 8.28125 \nQ 37.984375 10.453125 37.984375 14.40625 \nQ 37.984375 18.0625 35.515625 20.015625 \nQ 33.0625 21.96875 24.703125 23.78125 \nL 21.578125 24.515625 \nQ 13.234375 26.265625 9.515625 29.90625 \nQ 5.8125 33.546875 5.8125 39.890625 \nQ 5.8125 47.609375 11.28125 51.796875 \nQ 16.75 56 26.8125 56 \nQ 31.78125 56 36.171875 55.265625 \nQ 40.578125 54.546875 44.28125 53.078125 \nz\n\" id=\"DejaVuSans-115\"/>\n       <path d=\"M 9.421875 54.6875 \nL 18.40625 54.6875 \nL 18.40625 0 \nL 9.421875 0 \nz\nM 9.421875 75.984375 \nL 18.40625 75.984375 \nL 18.40625 64.59375 \nL 9.421875 64.59375 \nz\n\" id=\"DejaVuSans-105\"/>\n       <path d=\"M 54.890625 33.015625 \nL 54.890625 0 \nL 45.90625 0 \nL 45.90625 32.71875 \nQ 45.90625 40.484375 42.875 44.328125 \nQ 39.84375 48.1875 33.796875 48.1875 \nQ 26.515625 48.1875 22.3125 43.546875 \nQ 18.109375 38.921875 18.109375 30.90625 \nL 18.109375 0 \nL 9.078125 0 \nL 9.078125 54.6875 \nL 18.109375 54.6875 \nL 18.109375 46.1875 \nQ 21.34375 51.125 25.703125 53.5625 \nQ 30.078125 56 35.796875 56 \nQ 45.21875 56 50.046875 50.171875 \nQ 54.890625 44.34375 54.890625 33.015625 \nz\n\" id=\"DejaVuSans-110\"/>\n       <path d=\"M 48.78125 52.59375 \nL 48.78125 44.1875 \nQ 44.96875 46.296875 41.140625 47.34375 \nQ 37.3125 48.390625 33.40625 48.390625 \nQ 24.65625 48.390625 19.8125 42.84375 \nQ 14.984375 37.3125 14.984375 27.296875 \nQ 14.984375 17.28125 19.8125 11.734375 \nQ 24.65625 6.203125 33.40625 6.203125 \nQ 37.3125 6.203125 41.140625 7.25 \nQ 44.96875 8.296875 48.78125 10.40625 \nL 48.78125 2.09375 \nQ 45.015625 0.34375 40.984375 -0.53125 \nQ 36.96875 -1.421875 32.421875 -1.421875 \nQ 20.0625 -1.421875 12.78125 6.34375 \nQ 5.515625 14.109375 5.515625 27.296875 \nQ 5.515625 40.671875 12.859375 48.328125 \nQ 20.21875 56 33.015625 56 \nQ 37.15625 56 41.109375 55.140625 \nQ 45.0625 54.296875 48.78125 52.59375 \nz\n\" id=\"DejaVuSans-99\"/>\n       <path d=\"M 34.28125 27.484375 \nQ 23.390625 27.484375 19.1875 25 \nQ 14.984375 22.515625 14.984375 16.5 \nQ 14.984375 11.71875 18.140625 8.90625 \nQ 21.296875 6.109375 26.703125 6.109375 \nQ 34.1875 6.109375 38.703125 11.40625 \nQ 43.21875 16.703125 43.21875 25.484375 \nL 43.21875 27.484375 \nz\nM 52.203125 31.203125 \nL 52.203125 0 \nL 43.21875 0 \nL 43.21875 8.296875 \nQ 40.140625 3.328125 35.546875 0.953125 \nQ 30.953125 -1.421875 24.3125 -1.421875 \nQ 15.921875 -1.421875 10.953125 3.296875 \nQ 6 8.015625 6 15.921875 \nQ 6 25.140625 12.171875 29.828125 \nQ 18.359375 34.515625 30.609375 34.515625 \nL 43.21875 34.515625 \nL 43.21875 35.40625 \nQ 43.21875 41.609375 39.140625 45 \nQ 35.0625 48.390625 27.6875 48.390625 \nQ 23 48.390625 18.546875 47.265625 \nQ 14.109375 46.140625 10.015625 43.890625 \nL 10.015625 52.203125 \nQ 14.9375 54.109375 19.578125 55.046875 \nQ 24.21875 56 28.609375 56 \nQ 40.484375 56 46.34375 49.84375 \nQ 52.203125 43.703125 52.203125 31.203125 \nz\n\" id=\"DejaVuSans-97\"/>\n      </defs>\n      <g transform=\"translate(46.945312 227.249344)scale(0.1 -0.1)\">\n       <use xlink:href=\"#DejaVuSans-115\"/>\n       <use x=\"52.099609\" xlink:href=\"#DejaVuSans-112\"/>\n       <use x=\"115.576172\" xlink:href=\"#DejaVuSans-114\"/>\n       <use x=\"156.689453\" xlink:href=\"#DejaVuSans-105\"/>\n       <use x=\"184.472656\" xlink:href=\"#DejaVuSans-110\"/>\n       <use x=\"247.851562\" xlink:href=\"#DejaVuSans-116\"/>\n       <use x=\"287.060547\" xlink:href=\"#DejaVuSans-99\"/>\n       <use x=\"342.041016\" xlink:href=\"#DejaVuSans-97\"/>\n       <use x=\"403.320312\" xlink:href=\"#DejaVuSans-114\"/>\n       <use x=\"442.183594\" xlink:href=\"#DejaVuSans-101\"/>\n      </g>\n     </g>\n    </g>\n    <g id=\"ytick_3\">\n     <g id=\"line2d_10\">\n      <g>\n       <use style=\"stroke:#000000;stroke-width:0.8;\" x=\"104.315625\" xlink:href=\"#m382485bfe2\" y=\"212.578125\"/>\n      </g>\n     </g>\n     <g id=\"text_10\">\n      <!-- UPSHelp -->\n      <defs>\n       <path d=\"M 8.6875 72.90625 \nL 18.609375 72.90625 \nL 18.609375 28.609375 \nQ 18.609375 16.890625 22.84375 11.734375 \nQ 27.09375 6.59375 36.625 6.59375 \nQ 46.09375 6.59375 50.34375 11.734375 \nQ 54.59375 16.890625 54.59375 28.609375 \nL 54.59375 72.90625 \nL 64.5 72.90625 \nL 64.5 27.390625 \nQ 64.5 13.140625 57.4375 5.859375 \nQ 50.390625 -1.421875 36.625 -1.421875 \nQ 22.796875 -1.421875 15.734375 5.859375 \nQ 8.6875 13.140625 8.6875 27.390625 \nz\n\" id=\"DejaVuSans-85\"/>\n       <path d=\"M 19.671875 64.796875 \nL 19.671875 37.40625 \nL 32.078125 37.40625 \nQ 38.96875 37.40625 42.71875 40.96875 \nQ 46.484375 44.53125 46.484375 51.125 \nQ 46.484375 57.671875 42.71875 61.234375 \nQ 38.96875 64.796875 32.078125 64.796875 \nz\nM 9.8125 72.90625 \nL 32.078125 72.90625 \nQ 44.34375 72.90625 50.609375 67.359375 \nQ 56.890625 61.8125 56.890625 51.125 \nQ 56.890625 40.328125 50.609375 34.8125 \nQ 44.34375 29.296875 32.078125 29.296875 \nL 19.671875 29.296875 \nL 19.671875 0 \nL 9.8125 0 \nz\n\" id=\"DejaVuSans-80\"/>\n       <path d=\"M 9.8125 72.90625 \nL 19.671875 72.90625 \nL 19.671875 43.015625 \nL 55.515625 43.015625 \nL 55.515625 72.90625 \nL 65.375 72.90625 \nL 65.375 0 \nL 55.515625 0 \nL 55.515625 34.71875 \nL 19.671875 34.71875 \nL 19.671875 0 \nL 9.8125 0 \nz\n\" id=\"DejaVuSans-72\"/>\n      </defs>\n      <g transform=\"translate(54.81875 216.377344)scale(0.1 -0.1)\">\n       <use xlink:href=\"#DejaVuSans-85\"/>\n       <use x=\"73.193359\" xlink:href=\"#DejaVuSans-80\"/>\n       <use x=\"133.496094\" xlink:href=\"#DejaVuSans-83\"/>\n       <use x=\"196.972656\" xlink:href=\"#DejaVuSans-72\"/>\n       <use x=\"272.167969\" xlink:href=\"#DejaVuSans-101\"/>\n       <use x=\"333.691406\" xlink:href=\"#DejaVuSans-108\"/>\n       <use x=\"361.474609\" xlink:href=\"#DejaVuSans-112\"/>\n      </g>\n     </g>\n    </g>\n    <g id=\"ytick_4\">\n     <g id=\"line2d_11\">\n      <g>\n       <use style=\"stroke:#000000;stroke-width:0.8;\" x=\"104.315625\" xlink:href=\"#m382485bfe2\" y=\"201.706125\"/>\n      </g>\n     </g>\n     <g id=\"text_11\">\n      <!-- Uber_Support -->\n      <defs>\n       <path d=\"M 48.6875 27.296875 \nQ 48.6875 37.203125 44.609375 42.84375 \nQ 40.53125 48.484375 33.40625 48.484375 \nQ 26.265625 48.484375 22.1875 42.84375 \nQ 18.109375 37.203125 18.109375 27.296875 \nQ 18.109375 17.390625 22.1875 11.75 \nQ 26.265625 6.109375 33.40625 6.109375 \nQ 40.53125 6.109375 44.609375 11.75 \nQ 48.6875 17.390625 48.6875 27.296875 \nz\nM 18.109375 46.390625 \nQ 20.953125 51.265625 25.265625 53.625 \nQ 29.59375 56 35.59375 56 \nQ 45.5625 56 51.78125 48.09375 \nQ 58.015625 40.1875 58.015625 27.296875 \nQ 58.015625 14.40625 51.78125 6.484375 \nQ 45.5625 -1.421875 35.59375 -1.421875 \nQ 29.59375 -1.421875 25.265625 0.953125 \nQ 20.953125 3.328125 18.109375 8.203125 \nL 18.109375 0 \nL 9.078125 0 \nL 9.078125 75.984375 \nL 18.109375 75.984375 \nz\n\" id=\"DejaVuSans-98\"/>\n       <path d=\"M 50.984375 -16.609375 \nL 50.984375 -23.578125 \nL -0.984375 -23.578125 \nL -0.984375 -16.609375 \nz\n\" id=\"DejaVuSans-95\"/>\n      </defs>\n      <g transform=\"translate(28.851562 205.505344)scale(0.1 -0.1)\">\n       <use xlink:href=\"#DejaVuSans-85\"/>\n       <use x=\"73.193359\" xlink:href=\"#DejaVuSans-98\"/>\n       <use x=\"136.669922\" xlink:href=\"#DejaVuSans-101\"/>\n       <use x=\"198.193359\" xlink:href=\"#DejaVuSans-114\"/>\n       <use x=\"239.306641\" xlink:href=\"#DejaVuSans-95\"/>\n       <use x=\"289.306641\" xlink:href=\"#DejaVuSans-83\"/>\n       <use x=\"352.783203\" xlink:href=\"#DejaVuSans-117\"/>\n       <use x=\"416.162109\" xlink:href=\"#DejaVuSans-112\"/>\n       <use x=\"479.638672\" xlink:href=\"#DejaVuSans-112\"/>\n       <use x=\"543.115234\" xlink:href=\"#DejaVuSans-111\"/>\n       <use x=\"604.296875\" xlink:href=\"#DejaVuSans-114\"/>\n       <use x=\"645.410156\" xlink:href=\"#DejaVuSans-116\"/>\n      </g>\n     </g>\n    </g>\n    <g id=\"ytick_5\">\n     <g id=\"line2d_12\">\n      <g>\n       <use style=\"stroke:#000000;stroke-width:0.8;\" x=\"104.315625\" xlink:href=\"#m382485bfe2\" y=\"190.834125\"/>\n      </g>\n     </g>\n     <g id=\"text_12\">\n      <!-- Ask_Spectrum -->\n      <defs>\n       <path d=\"M 9.078125 75.984375 \nL 18.109375 75.984375 \nL 18.109375 31.109375 \nL 44.921875 54.6875 \nL 56.390625 54.6875 \nL 27.390625 29.109375 \nL 57.625 0 \nL 45.90625 0 \nL 18.109375 26.703125 \nL 18.109375 0 \nL 9.078125 0 \nz\n\" id=\"DejaVuSans-107\"/>\n       <path d=\"M 52 44.1875 \nQ 55.375 50.25 60.0625 53.125 \nQ 64.75 56 71.09375 56 \nQ 79.640625 56 84.28125 50.015625 \nQ 88.921875 44.046875 88.921875 33.015625 \nL 88.921875 0 \nL 79.890625 0 \nL 79.890625 32.71875 \nQ 79.890625 40.578125 77.09375 44.375 \nQ 74.3125 48.1875 68.609375 48.1875 \nQ 61.625 48.1875 57.5625 43.546875 \nQ 53.515625 38.921875 53.515625 30.90625 \nL 53.515625 0 \nL 44.484375 0 \nL 44.484375 32.71875 \nQ 44.484375 40.625 41.703125 44.40625 \nQ 38.921875 48.1875 33.109375 48.1875 \nQ 26.21875 48.1875 22.15625 43.53125 \nQ 18.109375 38.875 18.109375 30.90625 \nL 18.109375 0 \nL 9.078125 0 \nL 9.078125 54.6875 \nL 18.109375 54.6875 \nL 18.109375 46.1875 \nQ 21.1875 51.21875 25.484375 53.609375 \nQ 29.78125 56 35.6875 56 \nQ 41.65625 56 45.828125 52.96875 \nQ 50 49.953125 52 44.1875 \nz\n\" id=\"DejaVuSans-109\"/>\n      </defs>\n      <g transform=\"translate(26.017187 194.633344)scale(0.1 -0.1)\">\n       <use xlink:href=\"#DejaVuSans-65\"/>\n       <use x=\"68.408203\" xlink:href=\"#DejaVuSans-115\"/>\n       <use x=\"120.507812\" xlink:href=\"#DejaVuSans-107\"/>\n       <use x=\"178.417969\" xlink:href=\"#DejaVuSans-95\"/>\n       <use x=\"228.417969\" xlink:href=\"#DejaVuSans-83\"/>\n       <use x=\"291.894531\" xlink:href=\"#DejaVuSans-112\"/>\n       <use x=\"355.371094\" xlink:href=\"#DejaVuSans-101\"/>\n       <use x=\"416.894531\" xlink:href=\"#DejaVuSans-99\"/>\n       <use x=\"471.875\" xlink:href=\"#DejaVuSans-116\"/>\n       <use x=\"511.083984\" xlink:href=\"#DejaVuSans-114\"/>\n       <use x=\"552.197266\" xlink:href=\"#DejaVuSans-117\"/>\n       <use x=\"615.576172\" xlink:href=\"#DejaVuSans-109\"/>\n      </g>\n     </g>\n    </g>\n    <g id=\"ytick_6\">\n     <g id=\"line2d_13\">\n      <g>\n       <use style=\"stroke:#000000;stroke-width:0.8;\" x=\"104.315625\" xlink:href=\"#m382485bfe2\" y=\"179.962125\"/>\n      </g>\n     </g>\n     <g id=\"text_13\">\n      <!-- comcastcares -->\n      <g transform=\"translate(28.326562 183.761344)scale(0.1 -0.1)\">\n       <use xlink:href=\"#DejaVuSans-99\"/>\n       <use x=\"54.980469\" xlink:href=\"#DejaVuSans-111\"/>\n       <use x=\"116.162109\" xlink:href=\"#DejaVuSans-109\"/>\n       <use x=\"213.574219\" xlink:href=\"#DejaVuSans-99\"/>\n       <use x=\"268.554688\" xlink:href=\"#DejaVuSans-97\"/>\n       <use x=\"329.833984\" xlink:href=\"#DejaVuSans-115\"/>\n       <use x=\"381.933594\" xlink:href=\"#DejaVuSans-116\"/>\n       <use x=\"421.142578\" xlink:href=\"#DejaVuSans-99\"/>\n       <use x=\"476.123047\" xlink:href=\"#DejaVuSans-97\"/>\n       <use x=\"537.402344\" xlink:href=\"#DejaVuSans-114\"/>\n       <use x=\"576.265625\" xlink:href=\"#DejaVuSans-101\"/>\n       <use x=\"637.789062\" xlink:href=\"#DejaVuSans-115\"/>\n      </g>\n     </g>\n    </g>\n    <g id=\"ytick_7\">\n     <g id=\"line2d_14\">\n      <g>\n       <use style=\"stroke:#000000;stroke-width:0.8;\" x=\"104.315625\" xlink:href=\"#m382485bfe2\" y=\"169.090125\"/>\n      </g>\n     </g>\n     <g id=\"text_14\">\n      <!-- hulu_support -->\n      <defs>\n       <path d=\"M 54.890625 33.015625 \nL 54.890625 0 \nL 45.90625 0 \nL 45.90625 32.71875 \nQ 45.90625 40.484375 42.875 44.328125 \nQ 39.84375 48.1875 33.796875 48.1875 \nQ 26.515625 48.1875 22.3125 43.546875 \nQ 18.109375 38.921875 18.109375 30.90625 \nL 18.109375 0 \nL 9.078125 0 \nL 9.078125 75.984375 \nL 18.109375 75.984375 \nL 18.109375 46.1875 \nQ 21.34375 51.125 25.703125 53.5625 \nQ 30.078125 56 35.796875 56 \nQ 45.21875 56 50.046875 50.171875 \nQ 54.890625 44.34375 54.890625 33.015625 \nz\n\" id=\"DejaVuSans-104\"/>\n      </defs>\n      <g transform=\"translate(32.13125 172.889344)scale(0.1 -0.1)\">\n       <use xlink:href=\"#DejaVuSans-104\"/>\n       <use x=\"63.378906\" xlink:href=\"#DejaVuSans-117\"/>\n       <use x=\"126.757812\" xlink:href=\"#DejaVuSans-108\"/>\n       <use x=\"154.541016\" xlink:href=\"#DejaVuSans-117\"/>\n       <use x=\"217.919922\" xlink:href=\"#DejaVuSans-95\"/>\n       <use x=\"267.919922\" xlink:href=\"#DejaVuSans-115\"/>\n       <use x=\"320.019531\" xlink:href=\"#DejaVuSans-117\"/>\n       <use x=\"383.398438\" xlink:href=\"#DejaVuSans-112\"/>\n       <use x=\"446.875\" xlink:href=\"#DejaVuSans-112\"/>\n       <use x=\"510.351562\" xlink:href=\"#DejaVuSans-111\"/>\n       <use x=\"571.533203\" xlink:href=\"#DejaVuSans-114\"/>\n       <use x=\"612.646484\" xlink:href=\"#DejaVuSans-116\"/>\n      </g>\n     </g>\n    </g>\n    <g id=\"ytick_8\">\n     <g id=\"line2d_15\">\n      <g>\n       <use style=\"stroke:#000000;stroke-width:0.8;\" x=\"104.315625\" xlink:href=\"#m382485bfe2\" y=\"158.218125\"/>\n      </g>\n     </g>\n     <g id=\"text_15\">\n      <!-- AskPlayStation -->\n      <defs>\n       <path d=\"M 32.171875 -5.078125 \nQ 28.375 -14.84375 24.75 -17.8125 \nQ 21.140625 -20.796875 15.09375 -20.796875 \nL 7.90625 -20.796875 \nL 7.90625 -13.28125 \nL 13.1875 -13.28125 \nQ 16.890625 -13.28125 18.9375 -11.515625 \nQ 21 -9.765625 23.484375 -3.21875 \nL 25.09375 0.875 \nL 2.984375 54.6875 \nL 12.5 54.6875 \nL 29.59375 11.921875 \nL 46.6875 54.6875 \nL 56.203125 54.6875 \nz\n\" id=\"DejaVuSans-121\"/>\n      </defs>\n      <g transform=\"translate(23.06875 162.017344)scale(0.1 -0.1)\">\n       <use xlink:href=\"#DejaVuSans-65\"/>\n       <use x=\"68.408203\" xlink:href=\"#DejaVuSans-115\"/>\n       <use x=\"120.507812\" xlink:href=\"#DejaVuSans-107\"/>\n       <use x=\"178.417969\" xlink:href=\"#DejaVuSans-80\"/>\n       <use x=\"238.720703\" xlink:href=\"#DejaVuSans-108\"/>\n       <use x=\"266.503906\" xlink:href=\"#DejaVuSans-97\"/>\n       <use x=\"327.783203\" xlink:href=\"#DejaVuSans-121\"/>\n       <use x=\"386.962891\" xlink:href=\"#DejaVuSans-83\"/>\n       <use x=\"450.439453\" xlink:href=\"#DejaVuSans-116\"/>\n       <use x=\"489.648438\" xlink:href=\"#DejaVuSans-97\"/>\n       <use x=\"550.927734\" xlink:href=\"#DejaVuSans-116\"/>\n       <use x=\"590.136719\" xlink:href=\"#DejaVuSans-105\"/>\n       <use x=\"617.919922\" xlink:href=\"#DejaVuSans-111\"/>\n       <use x=\"679.101562\" xlink:href=\"#DejaVuSans-110\"/>\n      </g>\n     </g>\n    </g>\n    <g id=\"ytick_9\">\n     <g id=\"line2d_16\">\n      <g>\n       <use style=\"stroke:#000000;stroke-width:0.8;\" x=\"104.315625\" xlink:href=\"#m382485bfe2\" y=\"147.346125\"/>\n      </g>\n     </g>\n     <g id=\"text_16\">\n      <!-- TMobileHelp -->\n      <defs>\n       <path d=\"M -0.296875 72.90625 \nL 61.375 72.90625 \nL 61.375 64.59375 \nL 35.5 64.59375 \nL 35.5 0 \nL 25.59375 0 \nL 25.59375 64.59375 \nL -0.296875 64.59375 \nz\n\" id=\"DejaVuSans-84\"/>\n       <path d=\"M 9.8125 72.90625 \nL 24.515625 72.90625 \nL 43.109375 23.296875 \nL 61.8125 72.90625 \nL 76.515625 72.90625 \nL 76.515625 0 \nL 66.890625 0 \nL 66.890625 64.015625 \nL 48.09375 14.015625 \nL 38.1875 14.015625 \nL 19.390625 64.015625 \nL 19.390625 0 \nL 9.8125 0 \nz\n\" id=\"DejaVuSans-77\"/>\n      </defs>\n      <g transform=\"translate(35.603125 151.145344)scale(0.1 -0.1)\">\n       <use xlink:href=\"#DejaVuSans-84\"/>\n       <use x=\"61.083984\" xlink:href=\"#DejaVuSans-77\"/>\n       <use x=\"147.363281\" xlink:href=\"#DejaVuSans-111\"/>\n       <use x=\"208.544922\" xlink:href=\"#DejaVuSans-98\"/>\n       <use x=\"272.021484\" xlink:href=\"#DejaVuSans-105\"/>\n       <use x=\"299.804688\" xlink:href=\"#DejaVuSans-108\"/>\n       <use x=\"327.587891\" xlink:href=\"#DejaVuSans-101\"/>\n       <use x=\"389.111328\" xlink:href=\"#DejaVuSans-72\"/>\n       <use x=\"464.306641\" xlink:href=\"#DejaVuSans-101\"/>\n       <use x=\"525.830078\" xlink:href=\"#DejaVuSans-108\"/>\n       <use x=\"553.613281\" xlink:href=\"#DejaVuSans-112\"/>\n      </g>\n     </g>\n    </g>\n    <g id=\"ytick_10\">\n     <g id=\"line2d_17\">\n      <g>\n       <use style=\"stroke:#000000;stroke-width:0.8;\" x=\"104.315625\" xlink:href=\"#m382485bfe2\" y=\"136.474125\"/>\n      </g>\n     </g>\n     <g id=\"text_17\">\n      <!-- AmazonHelp -->\n      <defs>\n       <path d=\"M 5.515625 54.6875 \nL 48.1875 54.6875 \nL 48.1875 46.484375 \nL 14.40625 7.171875 \nL 48.1875 7.171875 \nL 48.1875 0 \nL 4.296875 0 \nL 4.296875 8.203125 \nL 38.09375 47.515625 \nL 5.515625 47.515625 \nz\n\" id=\"DejaVuSans-122\"/>\n      </defs>\n      <g transform=\"translate(34.101562 140.273344)scale(0.1 -0.1)\">\n       <use xlink:href=\"#DejaVuSans-65\"/>\n       <use x=\"68.408203\" xlink:href=\"#DejaVuSans-109\"/>\n       <use x=\"165.820312\" xlink:href=\"#DejaVuSans-97\"/>\n       <use x=\"227.099609\" xlink:href=\"#DejaVuSans-122\"/>\n       <use x=\"279.589844\" xlink:href=\"#DejaVuSans-111\"/>\n       <use x=\"340.771484\" xlink:href=\"#DejaVuSans-110\"/>\n       <use x=\"404.150391\" xlink:href=\"#DejaVuSans-72\"/>\n       <use x=\"479.345703\" xlink:href=\"#DejaVuSans-101\"/>\n       <use x=\"540.869141\" xlink:href=\"#DejaVuSans-108\"/>\n       <use x=\"568.652344\" xlink:href=\"#DejaVuSans-112\"/>\n      </g>\n     </g>\n    </g>\n    <g id=\"ytick_11\">\n     <g id=\"line2d_18\">\n      <g>\n       <use style=\"stroke:#000000;stroke-width:0.8;\" x=\"104.315625\" xlink:href=\"#m382485bfe2\" y=\"125.602125\"/>\n      </g>\n     </g>\n     <g id=\"text_18\">\n      <!-- XboxSupport -->\n      <defs>\n       <path d=\"M 6.296875 72.90625 \nL 16.890625 72.90625 \nL 35.015625 45.796875 \nL 53.21875 72.90625 \nL 63.8125 72.90625 \nL 40.375 37.890625 \nL 65.375 0 \nL 54.78125 0 \nL 34.28125 31 \nL 13.625 0 \nL 2.984375 0 \nL 29 38.921875 \nz\n\" id=\"DejaVuSans-88\"/>\n       <path d=\"M 54.890625 54.6875 \nL 35.109375 28.078125 \nL 55.90625 0 \nL 45.3125 0 \nL 29.390625 21.484375 \nL 13.484375 0 \nL 2.875 0 \nL 24.125 28.609375 \nL 4.6875 54.6875 \nL 15.28125 54.6875 \nL 29.78125 35.203125 \nL 44.28125 54.6875 \nz\n\" id=\"DejaVuSans-120\"/>\n      </defs>\n      <g transform=\"translate(32.859375 129.401344)scale(0.1 -0.1)\">\n       <use xlink:href=\"#DejaVuSans-88\"/>\n       <use x=\"68.505859\" xlink:href=\"#DejaVuSans-98\"/>\n       <use x=\"131.982422\" xlink:href=\"#DejaVuSans-111\"/>\n       <use x=\"190.039062\" xlink:href=\"#DejaVuSans-120\"/>\n       <use x=\"249.21875\" xlink:href=\"#DejaVuSans-83\"/>\n       <use x=\"312.695312\" xlink:href=\"#DejaVuSans-117\"/>\n       <use x=\"376.074219\" xlink:href=\"#DejaVuSans-112\"/>\n       <use x=\"439.550781\" xlink:href=\"#DejaVuSans-112\"/>\n       <use x=\"503.027344\" xlink:href=\"#DejaVuSans-111\"/>\n       <use x=\"564.208984\" xlink:href=\"#DejaVuSans-114\"/>\n       <use x=\"605.322266\" xlink:href=\"#DejaVuSans-116\"/>\n      </g>\n     </g>\n    </g>\n    <g id=\"ytick_12\">\n     <g id=\"line2d_19\">\n      <g>\n       <use style=\"stroke:#000000;stroke-width:0.8;\" x=\"104.315625\" xlink:href=\"#m382485bfe2\" y=\"114.730125\"/>\n      </g>\n     </g>\n     <g id=\"text_19\">\n      <!-- VirginTrains -->\n      <defs>\n       <path d=\"M 28.609375 0 \nL 0.78125 72.90625 \nL 11.078125 72.90625 \nL 34.1875 11.53125 \nL 57.328125 72.90625 \nL 67.578125 72.90625 \nL 39.796875 0 \nz\n\" id=\"DejaVuSans-86\"/>\n       <path d=\"M 45.40625 27.984375 \nQ 45.40625 37.75 41.375 43.109375 \nQ 37.359375 48.484375 30.078125 48.484375 \nQ 22.859375 48.484375 18.828125 43.109375 \nQ 14.796875 37.75 14.796875 27.984375 \nQ 14.796875 18.265625 18.828125 12.890625 \nQ 22.859375 7.515625 30.078125 7.515625 \nQ 37.359375 7.515625 41.375 12.890625 \nQ 45.40625 18.265625 45.40625 27.984375 \nz\nM 54.390625 6.78125 \nQ 54.390625 -7.171875 48.1875 -13.984375 \nQ 42 -20.796875 29.203125 -20.796875 \nQ 24.46875 -20.796875 20.265625 -20.09375 \nQ 16.0625 -19.390625 12.109375 -17.921875 \nL 12.109375 -9.1875 \nQ 16.0625 -11.328125 19.921875 -12.34375 \nQ 23.78125 -13.375 27.78125 -13.375 \nQ 36.625 -13.375 41.015625 -8.765625 \nQ 45.40625 -4.15625 45.40625 5.171875 \nL 45.40625 9.625 \nQ 42.625 4.78125 38.28125 2.390625 \nQ 33.9375 0 27.875 0 \nQ 17.828125 0 11.671875 7.65625 \nQ 5.515625 15.328125 5.515625 27.984375 \nQ 5.515625 40.671875 11.671875 48.328125 \nQ 17.828125 56 27.875 56 \nQ 33.9375 56 38.28125 53.609375 \nQ 42.625 51.21875 45.40625 46.390625 \nL 45.40625 54.6875 \nL 54.390625 54.6875 \nz\n\" id=\"DejaVuSans-103\"/>\n      </defs>\n      <g transform=\"translate(39.325 118.529344)scale(0.1 -0.1)\">\n       <use xlink:href=\"#DejaVuSans-86\"/>\n       <use x=\"66.158203\" xlink:href=\"#DejaVuSans-105\"/>\n       <use x=\"93.941406\" xlink:href=\"#DejaVuSans-114\"/>\n       <use x=\"133.304688\" xlink:href=\"#DejaVuSans-103\"/>\n       <use x=\"196.78125\" xlink:href=\"#DejaVuSans-105\"/>\n       <use x=\"224.564453\" xlink:href=\"#DejaVuSans-110\"/>\n       <use x=\"287.943359\" xlink:href=\"#DejaVuSans-84\"/>\n       <use x=\"334.277344\" xlink:href=\"#DejaVuSans-114\"/>\n       <use x=\"375.390625\" xlink:href=\"#DejaVuSans-97\"/>\n       <use x=\"436.669922\" xlink:href=\"#DejaVuSans-105\"/>\n       <use x=\"464.453125\" xlink:href=\"#DejaVuSans-110\"/>\n       <use x=\"527.832031\" xlink:href=\"#DejaVuSans-115\"/>\n      </g>\n     </g>\n    </g>\n    <g id=\"ytick_13\">\n     <g id=\"line2d_20\">\n      <g>\n       <use style=\"stroke:#000000;stroke-width:0.8;\" x=\"104.315625\" xlink:href=\"#m382485bfe2\" y=\"103.858125\"/>\n      </g>\n     </g>\n     <g id=\"text_20\">\n      <!-- Tesco -->\n      <g transform=\"translate(69.928125 107.657344)scale(0.1 -0.1)\">\n       <use xlink:href=\"#DejaVuSans-84\"/>\n       <use x=\"44.083984\" xlink:href=\"#DejaVuSans-101\"/>\n       <use x=\"105.607422\" xlink:href=\"#DejaVuSans-115\"/>\n       <use x=\"157.707031\" xlink:href=\"#DejaVuSans-99\"/>\n       <use x=\"212.6875\" xlink:href=\"#DejaVuSans-111\"/>\n      </g>\n     </g>\n    </g>\n    <g id=\"ytick_14\">\n     <g id=\"line2d_21\">\n      <g>\n       <use style=\"stroke:#000000;stroke-width:0.8;\" x=\"104.315625\" xlink:href=\"#m382485bfe2\" y=\"92.986125\"/>\n      </g>\n     </g>\n     <g id=\"text_21\">\n      <!-- British_Airways -->\n      <defs>\n       <path d=\"M 19.671875 34.8125 \nL 19.671875 8.109375 \nL 35.5 8.109375 \nQ 43.453125 8.109375 47.28125 11.40625 \nQ 51.125 14.703125 51.125 21.484375 \nQ 51.125 28.328125 47.28125 31.5625 \nQ 43.453125 34.8125 35.5 34.8125 \nz\nM 19.671875 64.796875 \nL 19.671875 42.828125 \nL 34.28125 42.828125 \nQ 41.5 42.828125 45.03125 45.53125 \nQ 48.578125 48.25 48.578125 53.8125 \nQ 48.578125 59.328125 45.03125 62.0625 \nQ 41.5 64.796875 34.28125 64.796875 \nz\nM 9.8125 72.90625 \nL 35.015625 72.90625 \nQ 46.296875 72.90625 52.390625 68.21875 \nQ 58.5 63.53125 58.5 54.890625 \nQ 58.5 48.1875 55.375 44.234375 \nQ 52.25 40.28125 46.1875 39.3125 \nQ 53.46875 37.75 57.5 32.78125 \nQ 61.53125 27.828125 61.53125 20.40625 \nQ 61.53125 10.640625 54.890625 5.3125 \nQ 48.25 0 35.984375 0 \nL 9.8125 0 \nz\n\" id=\"DejaVuSans-66\"/>\n       <path d=\"M 4.203125 54.6875 \nL 13.1875 54.6875 \nL 24.421875 12.015625 \nL 35.59375 54.6875 \nL 46.1875 54.6875 \nL 57.421875 12.015625 \nL 68.609375 54.6875 \nL 77.59375 54.6875 \nL 63.28125 0 \nL 52.6875 0 \nL 40.921875 44.828125 \nL 29.109375 0 \nL 18.5 0 \nz\n\" id=\"DejaVuSans-119\"/>\n      </defs>\n      <g transform=\"translate(21.15625 96.785344)scale(0.1 -0.1)\">\n       <use xlink:href=\"#DejaVuSans-66\"/>\n       <use x=\"68.603516\" xlink:href=\"#DejaVuSans-114\"/>\n       <use x=\"109.716797\" xlink:href=\"#DejaVuSans-105\"/>\n       <use x=\"137.5\" xlink:href=\"#DejaVuSans-116\"/>\n       <use x=\"176.708984\" xlink:href=\"#DejaVuSans-105\"/>\n       <use x=\"204.492188\" xlink:href=\"#DejaVuSans-115\"/>\n       <use x=\"256.591797\" xlink:href=\"#DejaVuSans-104\"/>\n       <use x=\"319.970703\" xlink:href=\"#DejaVuSans-95\"/>\n       <use x=\"369.970703\" xlink:href=\"#DejaVuSans-65\"/>\n       <use x=\"438.378906\" xlink:href=\"#DejaVuSans-105\"/>\n       <use x=\"466.162109\" xlink:href=\"#DejaVuSans-114\"/>\n       <use x=\"507.275391\" xlink:href=\"#DejaVuSans-119\"/>\n       <use x=\"589.0625\" xlink:href=\"#DejaVuSans-97\"/>\n       <use x=\"650.341797\" xlink:href=\"#DejaVuSans-121\"/>\n       <use x=\"709.521484\" xlink:href=\"#DejaVuSans-115\"/>\n      </g>\n     </g>\n    </g>\n    <g id=\"ytick_15\">\n     <g id=\"line2d_22\">\n      <g>\n       <use style=\"stroke:#000000;stroke-width:0.8;\" x=\"104.315625\" xlink:href=\"#m382485bfe2\" y=\"82.114125\"/>\n      </g>\n     </g>\n     <g id=\"text_22\">\n      <!-- ChipotleTweets -->\n      <defs>\n       <path d=\"M 64.40625 67.28125 \nL 64.40625 56.890625 \nQ 59.421875 61.53125 53.78125 63.8125 \nQ 48.140625 66.109375 41.796875 66.109375 \nQ 29.296875 66.109375 22.65625 58.46875 \nQ 16.015625 50.828125 16.015625 36.375 \nQ 16.015625 21.96875 22.65625 14.328125 \nQ 29.296875 6.6875 41.796875 6.6875 \nQ 48.140625 6.6875 53.78125 8.984375 \nQ 59.421875 11.28125 64.40625 15.921875 \nL 64.40625 5.609375 \nQ 59.234375 2.09375 53.4375 0.328125 \nQ 47.65625 -1.421875 41.21875 -1.421875 \nQ 24.65625 -1.421875 15.125 8.703125 \nQ 5.609375 18.84375 5.609375 36.375 \nQ 5.609375 53.953125 15.125 64.078125 \nQ 24.65625 74.21875 41.21875 74.21875 \nQ 47.75 74.21875 53.53125 72.484375 \nQ 59.328125 70.75 64.40625 67.28125 \nz\n\" id=\"DejaVuSans-67\"/>\n      </defs>\n      <g transform=\"translate(21.826562 85.913344)scale(0.1 -0.1)\">\n       <use xlink:href=\"#DejaVuSans-67\"/>\n       <use x=\"69.824219\" xlink:href=\"#DejaVuSans-104\"/>\n       <use x=\"133.203125\" xlink:href=\"#DejaVuSans-105\"/>\n       <use x=\"160.986328\" xlink:href=\"#DejaVuSans-112\"/>\n       <use x=\"224.462891\" xlink:href=\"#DejaVuSans-111\"/>\n       <use x=\"285.644531\" xlink:href=\"#DejaVuSans-116\"/>\n       <use x=\"324.853516\" xlink:href=\"#DejaVuSans-108\"/>\n       <use x=\"352.636719\" xlink:href=\"#DejaVuSans-101\"/>\n       <use x=\"414.160156\" xlink:href=\"#DejaVuSans-84\"/>\n       <use x=\"458.744141\" xlink:href=\"#DejaVuSans-119\"/>\n       <use x=\"540.53125\" xlink:href=\"#DejaVuSans-101\"/>\n       <use x=\"602.054688\" xlink:href=\"#DejaVuSans-101\"/>\n       <use x=\"663.578125\" xlink:href=\"#DejaVuSans-116\"/>\n       <use x=\"702.787109\" xlink:href=\"#DejaVuSans-115\"/>\n      </g>\n     </g>\n    </g>\n    <g id=\"ytick_16\">\n     <g id=\"line2d_23\">\n      <g>\n       <use style=\"stroke:#000000;stroke-width:0.8;\" x=\"104.315625\" xlink:href=\"#m382485bfe2\" y=\"71.242125\"/>\n      </g>\n     </g>\n     <g id=\"text_23\">\n      <!-- SpotifyCares -->\n      <defs>\n       <path d=\"M 37.109375 75.984375 \nL 37.109375 68.5 \nL 28.515625 68.5 \nQ 23.6875 68.5 21.796875 66.546875 \nQ 19.921875 64.59375 19.921875 59.515625 \nL 19.921875 54.6875 \nL 34.71875 54.6875 \nL 34.71875 47.703125 \nL 19.921875 47.703125 \nL 19.921875 0 \nL 10.890625 0 \nL 10.890625 47.703125 \nL 2.296875 47.703125 \nL 2.296875 54.6875 \nL 10.890625 54.6875 \nL 10.890625 58.5 \nQ 10.890625 67.625 15.140625 71.796875 \nQ 19.390625 75.984375 28.609375 75.984375 \nz\n\" id=\"DejaVuSans-102\"/>\n      </defs>\n      <g transform=\"translate(34.178125 75.041344)scale(0.1 -0.1)\">\n       <use xlink:href=\"#DejaVuSans-83\"/>\n       <use x=\"63.476562\" xlink:href=\"#DejaVuSans-112\"/>\n       <use x=\"126.953125\" xlink:href=\"#DejaVuSans-111\"/>\n       <use x=\"188.134766\" xlink:href=\"#DejaVuSans-116\"/>\n       <use x=\"227.34375\" xlink:href=\"#DejaVuSans-105\"/>\n       <use x=\"255.126953\" xlink:href=\"#DejaVuSans-102\"/>\n       <use x=\"288.582031\" xlink:href=\"#DejaVuSans-121\"/>\n       <use x=\"347.761719\" xlink:href=\"#DejaVuSans-67\"/>\n       <use x=\"417.585938\" xlink:href=\"#DejaVuSans-97\"/>\n       <use x=\"478.865234\" xlink:href=\"#DejaVuSans-114\"/>\n       <use x=\"517.728516\" xlink:href=\"#DejaVuSans-101\"/>\n       <use x=\"579.251953\" xlink:href=\"#DejaVuSans-115\"/>\n      </g>\n     </g>\n    </g>\n    <g id=\"ytick_17\">\n     <g id=\"line2d_24\">\n      <g>\n       <use style=\"stroke:#000000;stroke-width:0.8;\" x=\"104.315625\" xlink:href=\"#m382485bfe2\" y=\"60.370125\"/>\n      </g>\n     </g>\n     <g id=\"text_24\">\n      <!-- AmericanAir -->\n      <g transform=\"translate(35.998437 64.169344)scale(0.1 -0.1)\">\n       <use xlink:href=\"#DejaVuSans-65\"/>\n       <use x=\"68.408203\" xlink:href=\"#DejaVuSans-109\"/>\n       <use x=\"165.820312\" xlink:href=\"#DejaVuSans-101\"/>\n       <use x=\"227.34375\" xlink:href=\"#DejaVuSans-114\"/>\n       <use x=\"268.457031\" xlink:href=\"#DejaVuSans-105\"/>\n       <use x=\"296.240234\" xlink:href=\"#DejaVuSans-99\"/>\n       <use x=\"351.220703\" xlink:href=\"#DejaVuSans-97\"/>\n       <use x=\"412.5\" xlink:href=\"#DejaVuSans-110\"/>\n       <use x=\"475.878906\" xlink:href=\"#DejaVuSans-65\"/>\n       <use x=\"544.287109\" xlink:href=\"#DejaVuSans-105\"/>\n       <use x=\"572.070312\" xlink:href=\"#DejaVuSans-114\"/>\n      </g>\n     </g>\n    </g>\n    <g id=\"ytick_18\">\n     <g id=\"line2d_25\">\n      <g>\n       <use style=\"stroke:#000000;stroke-width:0.8;\" x=\"104.315625\" xlink:href=\"#m382485bfe2\" y=\"49.498125\"/>\n      </g>\n     </g>\n     <g id=\"text_25\">\n      <!-- sainsburys -->\n      <g transform=\"translate(43.728125 53.297344)scale(0.1 -0.1)\">\n       <use xlink:href=\"#DejaVuSans-115\"/>\n       <use x=\"52.099609\" xlink:href=\"#DejaVuSans-97\"/>\n       <use x=\"113.378906\" xlink:href=\"#DejaVuSans-105\"/>\n       <use x=\"141.162109\" xlink:href=\"#DejaVuSans-110\"/>\n       <use x=\"204.541016\" xlink:href=\"#DejaVuSans-115\"/>\n       <use x=\"256.640625\" xlink:href=\"#DejaVuSans-98\"/>\n       <use x=\"320.117188\" xlink:href=\"#DejaVuSans-117\"/>\n       <use x=\"383.496094\" xlink:href=\"#DejaVuSans-114\"/>\n       <use x=\"424.609375\" xlink:href=\"#DejaVuSans-121\"/>\n       <use x=\"483.789062\" xlink:href=\"#DejaVuSans-115\"/>\n      </g>\n     </g>\n    </g>\n    <g id=\"ytick_19\">\n     <g id=\"line2d_26\">\n      <g>\n       <use style=\"stroke:#000000;stroke-width:0.8;\" x=\"104.315625\" xlink:href=\"#m382485bfe2\" y=\"38.626125\"/>\n      </g>\n     </g>\n     <g id=\"text_26\">\n      <!-- Delta -->\n      <defs>\n       <path d=\"M 19.671875 64.796875 \nL 19.671875 8.109375 \nL 31.59375 8.109375 \nQ 46.6875 8.109375 53.6875 14.9375 \nQ 60.6875 21.78125 60.6875 36.53125 \nQ 60.6875 51.171875 53.6875 57.984375 \nQ 46.6875 64.796875 31.59375 64.796875 \nz\nM 9.8125 72.90625 \nL 30.078125 72.90625 \nQ 51.265625 72.90625 61.171875 64.09375 \nQ 71.09375 55.28125 71.09375 36.53125 \nQ 71.09375 17.671875 61.125 8.828125 \nQ 51.171875 0 30.078125 0 \nL 9.8125 0 \nz\n\" id=\"DejaVuSans-68\"/>\n      </defs>\n      <g transform=\"translate(70.635937 42.425344)scale(0.1 -0.1)\">\n       <use xlink:href=\"#DejaVuSans-68\"/>\n       <use x=\"77.001953\" xlink:href=\"#DejaVuSans-101\"/>\n       <use x=\"138.525391\" xlink:href=\"#DejaVuSans-108\"/>\n       <use x=\"166.308594\" xlink:href=\"#DejaVuSans-116\"/>\n       <use x=\"205.517578\" xlink:href=\"#DejaVuSans-97\"/>\n      </g>\n     </g>\n    </g>\n    <g id=\"ytick_20\">\n     <g id=\"line2d_27\">\n      <g>\n       <use style=\"stroke:#000000;stroke-width:0.8;\" x=\"104.315625\" xlink:href=\"#m382485bfe2\" y=\"27.754125\"/>\n      </g>\n     </g>\n     <g id=\"text_27\">\n      <!-- SouthwestAir -->\n      <g transform=\"translate(31.0625 31.553344)scale(0.1 -0.1)\">\n       <use xlink:href=\"#DejaVuSans-83\"/>\n       <use x=\"63.476562\" xlink:href=\"#DejaVuSans-111\"/>\n       <use x=\"124.658203\" xlink:href=\"#DejaVuSans-117\"/>\n       <use x=\"188.037109\" xlink:href=\"#DejaVuSans-116\"/>\n       <use x=\"227.246094\" xlink:href=\"#DejaVuSans-104\"/>\n       <use x=\"290.625\" xlink:href=\"#DejaVuSans-119\"/>\n       <use x=\"372.412109\" xlink:href=\"#DejaVuSans-101\"/>\n       <use x=\"433.935547\" xlink:href=\"#DejaVuSans-115\"/>\n       <use x=\"486.035156\" xlink:href=\"#DejaVuSans-116\"/>\n       <use x=\"525.244141\" xlink:href=\"#DejaVuSans-65\"/>\n       <use x=\"593.652344\" xlink:href=\"#DejaVuSans-105\"/>\n       <use x=\"621.435547\" xlink:href=\"#DejaVuSans-114\"/>\n      </g>\n     </g>\n    </g>\n    <g id=\"text_28\">\n     <!-- author_id_y -->\n     <defs>\n      <path d=\"M 45.40625 46.390625 \nL 45.40625 75.984375 \nL 54.390625 75.984375 \nL 54.390625 0 \nL 45.40625 0 \nL 45.40625 8.203125 \nQ 42.578125 3.328125 38.25 0.953125 \nQ 33.9375 -1.421875 27.875 -1.421875 \nQ 17.96875 -1.421875 11.734375 6.484375 \nQ 5.515625 14.40625 5.515625 27.296875 \nQ 5.515625 40.1875 11.734375 48.09375 \nQ 17.96875 56 27.875 56 \nQ 33.9375 56 38.25 53.625 \nQ 42.578125 51.265625 45.40625 46.390625 \nz\nM 14.796875 27.296875 \nQ 14.796875 17.390625 18.875 11.75 \nQ 22.953125 6.109375 30.078125 6.109375 \nQ 37.203125 6.109375 41.296875 11.75 \nQ 45.40625 17.390625 45.40625 27.296875 \nQ 45.40625 37.203125 41.296875 42.84375 \nQ 37.203125 48.484375 30.078125 48.484375 \nQ 22.953125 48.484375 18.875 42.84375 \nQ 14.796875 37.203125 14.796875 27.296875 \nz\n\" id=\"DejaVuSans-100\"/>\n     </defs>\n     <g transform=\"translate(14.798437 160.037344)rotate(-90)scale(0.1 -0.1)\">\n      <use xlink:href=\"#DejaVuSans-97\"/>\n      <use x=\"61.279297\" xlink:href=\"#DejaVuSans-117\"/>\n      <use x=\"124.658203\" xlink:href=\"#DejaVuSans-116\"/>\n      <use x=\"163.867188\" xlink:href=\"#DejaVuSans-104\"/>\n      <use x=\"227.246094\" xlink:href=\"#DejaVuSans-111\"/>\n      <use x=\"288.427734\" xlink:href=\"#DejaVuSans-114\"/>\n      <use x=\"329.541016\" xlink:href=\"#DejaVuSans-95\"/>\n      <use x=\"379.541016\" xlink:href=\"#DejaVuSans-105\"/>\n      <use x=\"407.324219\" xlink:href=\"#DejaVuSans-100\"/>\n      <use x=\"470.800781\" xlink:href=\"#DejaVuSans-95\"/>\n      <use x=\"520.800781\" xlink:href=\"#DejaVuSans-121\"/>\n     </g>\n    </g>\n   </g>\n   <g id=\"patch_23\">\n    <path d=\"M 104.315625 239.758125 \nL 104.315625 22.318125 \n\" style=\"fill:none;stroke:#000000;stroke-linecap:square;stroke-linejoin:miter;stroke-width:0.8;\"/>\n   </g>\n   <g id=\"patch_24\">\n    <path d=\"M 439.115625 239.758125 \nL 439.115625 22.318125 \n\" style=\"fill:none;stroke:#000000;stroke-linecap:square;stroke-linejoin:miter;stroke-width:0.8;\"/>\n   </g>\n   <g id=\"patch_25\">\n    <path d=\"M 104.315625 239.758125 \nL 439.115625 239.758125 \n\" style=\"fill:none;stroke:#000000;stroke-linecap:square;stroke-linejoin:miter;stroke-width:0.8;\"/>\n   </g>\n   <g id=\"patch_26\">\n    <path d=\"M 104.315625 22.318125 \nL 439.115625 22.318125 \n\" style=\"fill:none;stroke:#000000;stroke-linecap:square;stroke-linejoin:miter;stroke-width:0.8;\"/>\n   </g>\n   <g id=\"text_29\">\n    <!-- Customer Sentiment by Brand (top 20 by volume) -->\n    <defs>\n     <path id=\"DejaVuSans-32\"/>\n     <path d=\"M 31 75.875 \nQ 24.46875 64.65625 21.28125 53.65625 \nQ 18.109375 42.671875 18.109375 31.390625 \nQ 18.109375 20.125 21.3125 9.0625 \nQ 24.515625 -2 31 -13.1875 \nL 23.1875 -13.1875 \nQ 15.875 -1.703125 12.234375 9.375 \nQ 8.59375 20.453125 8.59375 31.390625 \nQ 8.59375 42.28125 12.203125 53.3125 \nQ 15.828125 64.359375 23.1875 75.875 \nz\n\" id=\"DejaVuSans-40\"/>\n     <path d=\"M 19.1875 8.296875 \nL 53.609375 8.296875 \nL 53.609375 0 \nL 7.328125 0 \nL 7.328125 8.296875 \nQ 12.9375 14.109375 22.625 23.890625 \nQ 32.328125 33.6875 34.8125 36.53125 \nQ 39.546875 41.84375 41.421875 45.53125 \nQ 43.3125 49.21875 43.3125 52.78125 \nQ 43.3125 58.59375 39.234375 62.25 \nQ 35.15625 65.921875 28.609375 65.921875 \nQ 23.96875 65.921875 18.8125 64.3125 \nQ 13.671875 62.703125 7.8125 59.421875 \nL 7.8125 69.390625 \nQ 13.765625 71.78125 18.9375 73 \nQ 24.125 74.21875 28.421875 74.21875 \nQ 39.75 74.21875 46.484375 68.546875 \nQ 53.21875 62.890625 53.21875 53.421875 \nQ 53.21875 48.921875 51.53125 44.890625 \nQ 49.859375 40.875 45.40625 35.40625 \nQ 44.1875 33.984375 37.640625 27.21875 \nQ 31.109375 20.453125 19.1875 8.296875 \nz\n\" id=\"DejaVuSans-50\"/>\n     <path d=\"M 2.984375 54.6875 \nL 12.5 54.6875 \nL 29.59375 8.796875 \nL 46.6875 54.6875 \nL 56.203125 54.6875 \nL 35.6875 0 \nL 23.484375 0 \nz\n\" id=\"DejaVuSans-118\"/>\n     <path d=\"M 8.015625 75.875 \nL 15.828125 75.875 \nQ 23.140625 64.359375 26.78125 53.3125 \nQ 30.421875 42.28125 30.421875 31.390625 \nQ 30.421875 20.453125 26.78125 9.375 \nQ 23.140625 -1.703125 15.828125 -13.1875 \nL 8.015625 -13.1875 \nQ 14.5 -2 17.703125 9.0625 \nQ 20.90625 20.125 20.90625 31.390625 \nQ 20.90625 42.671875 17.703125 53.65625 \nQ 14.5 64.65625 8.015625 75.875 \nz\n\" id=\"DejaVuSans-41\"/>\n    </defs>\n    <g transform=\"translate(121.240312 16.318125)scale(0.12 -0.12)\">\n     <use xlink:href=\"#DejaVuSans-67\"/>\n     <use x=\"69.824219\" xlink:href=\"#DejaVuSans-117\"/>\n     <use x=\"133.203125\" xlink:href=\"#DejaVuSans-115\"/>\n     <use x=\"185.302734\" xlink:href=\"#DejaVuSans-116\"/>\n     <use x=\"224.511719\" xlink:href=\"#DejaVuSans-111\"/>\n     <use x=\"285.693359\" xlink:href=\"#DejaVuSans-109\"/>\n     <use x=\"383.105469\" xlink:href=\"#DejaVuSans-101\"/>\n     <use x=\"444.628906\" xlink:href=\"#DejaVuSans-114\"/>\n     <use x=\"485.742188\" xlink:href=\"#DejaVuSans-32\"/>\n     <use x=\"517.529297\" xlink:href=\"#DejaVuSans-83\"/>\n     <use x=\"581.005859\" xlink:href=\"#DejaVuSans-101\"/>\n     <use x=\"642.529297\" xlink:href=\"#DejaVuSans-110\"/>\n     <use x=\"705.908203\" xlink:href=\"#DejaVuSans-116\"/>\n     <use x=\"745.117188\" xlink:href=\"#DejaVuSans-105\"/>\n     <use x=\"772.900391\" xlink:href=\"#DejaVuSans-109\"/>\n     <use x=\"870.3125\" xlink:href=\"#DejaVuSans-101\"/>\n     <use x=\"931.835938\" xlink:href=\"#DejaVuSans-110\"/>\n     <use x=\"995.214844\" xlink:href=\"#DejaVuSans-116\"/>\n     <use x=\"1034.423828\" xlink:href=\"#DejaVuSans-32\"/>\n     <use x=\"1066.210938\" xlink:href=\"#DejaVuSans-98\"/>\n     <use x=\"1129.6875\" xlink:href=\"#DejaVuSans-121\"/>\n     <use x=\"1188.867188\" xlink:href=\"#DejaVuSans-32\"/>\n     <use x=\"1220.654297\" xlink:href=\"#DejaVuSans-66\"/>\n     <use x=\"1289.257812\" xlink:href=\"#DejaVuSans-114\"/>\n     <use x=\"1330.371094\" xlink:href=\"#DejaVuSans-97\"/>\n     <use x=\"1391.650391\" xlink:href=\"#DejaVuSans-110\"/>\n     <use x=\"1455.029297\" xlink:href=\"#DejaVuSans-100\"/>\n     <use x=\"1518.505859\" xlink:href=\"#DejaVuSans-32\"/>\n     <use x=\"1550.292969\" xlink:href=\"#DejaVuSans-40\"/>\n     <use x=\"1589.306641\" xlink:href=\"#DejaVuSans-116\"/>\n     <use x=\"1628.515625\" xlink:href=\"#DejaVuSans-111\"/>\n     <use x=\"1689.697266\" xlink:href=\"#DejaVuSans-112\"/>\n     <use x=\"1753.173828\" xlink:href=\"#DejaVuSans-32\"/>\n     <use x=\"1784.960938\" xlink:href=\"#DejaVuSans-50\"/>\n     <use x=\"1848.583984\" xlink:href=\"#DejaVuSans-48\"/>\n     <use x=\"1912.207031\" xlink:href=\"#DejaVuSans-32\"/>\n     <use x=\"1943.994141\" xlink:href=\"#DejaVuSans-98\"/>\n     <use x=\"2007.470703\" xlink:href=\"#DejaVuSans-121\"/>\n     <use x=\"2066.650391\" xlink:href=\"#DejaVuSans-32\"/>\n     <use x=\"2098.4375\" xlink:href=\"#DejaVuSans-118\"/>\n     <use x=\"2157.617188\" xlink:href=\"#DejaVuSans-111\"/>\n     <use x=\"2218.798828\" xlink:href=\"#DejaVuSans-108\"/>\n     <use x=\"2246.582031\" xlink:href=\"#DejaVuSans-117\"/>\n     <use x=\"2309.960938\" xlink:href=\"#DejaVuSans-109\"/>\n     <use x=\"2407.373047\" xlink:href=\"#DejaVuSans-101\"/>\n     <use x=\"2468.896484\" xlink:href=\"#DejaVuSans-41\"/>\n    </g>\n   </g>\n  </g>\n </g>\n <defs>\n  <clipPath id=\"pd72d4dcf40\">\n   <rect height=\"217.44\" width=\"334.8\" x=\"104.315625\" y=\"22.318125\"/>\n  </clipPath>\n </defs>\n</svg>\n"
          },
          "metadata": {
            "tags": [],
            "needs_background": "light"
          }
        }
      ]
    },
    {
      "cell_type": "code",
      "metadata": {
        "id": "U5sv2T_tClLO"
      },
      "source": [
        "inbounds_and_outbounds['created_at_x'] = pd.to_datetime(inbounds_and_outbounds.created_at_x)\n",
        "temp_series = pd.DatetimeIndex(inbounds_and_outbounds['created_at_x'], tz=None)"
      ],
      "execution_count": null,
      "outputs": []
    },
    {
      "cell_type": "code",
      "metadata": {
        "colab": {
          "base_uri": "https://localhost:8080/"
        },
        "id": "9P_bT3vPNsTY",
        "outputId": "22981918-a1fc-48ed-82a1-785fa3b7c116"
      },
      "source": [
        "temp_series.tz_localize(None)\n",
        "# inbounds_and_outbounds['created_at_x'] = inbounds_and_outbounds['created_at_x'].tz_localize(None)"
      ],
      "execution_count": null,
      "outputs": [
        {
          "output_type": "execute_result",
          "data": {
            "text/plain": [
              "DatetimeIndex(['2017-10-31 21:45:10', '2017-10-31 21:45:10',\n",
              "               '2017-10-31 21:45:10', '2017-10-31 19:56:01',\n",
              "               '2017-10-31 22:03:34', '2017-10-31 22:01:35',\n",
              "               '2017-10-31 22:06:54', '2017-10-31 22:06:56',\n",
              "               '2017-10-31 22:10:46', '2017-10-31 22:12:16',\n",
              "               ...\n",
              "               '2017-11-29 19:24:29', '2017-11-30 01:41:28',\n",
              "               '2017-11-30 01:40:49', '2017-11-30 01:39:12',\n",
              "               '2017-11-22 07:41:45', '2017-11-22 07:30:39',\n",
              "               '2017-11-22 07:43:36', '2017-11-22 08:25:48',\n",
              "               '2017-11-22 08:35:16', '2017-11-21 22:01:04'],\n",
              "              dtype='datetime64[ns]', name='created_at_x', length=794299, freq=None)"
            ]
          },
          "metadata": {
            "tags": []
          },
          "execution_count": 131
        }
      ]
    },
    {
      "cell_type": "code",
      "metadata": {
        "id": "xuDoNFx4SdOn"
      },
      "source": [
        "inbounds_and_outbounds['created_at_x'] = temp_series"
      ],
      "execution_count": null,
      "outputs": []
    },
    {
      "cell_type": "code",
      "metadata": {
        "colab": {
          "base_uri": "https://localhost:8080/"
        },
        "id": "Q_GZOdM2S72O",
        "outputId": "adca93fb-1b96-4077-9ee5-6fb82fd83775"
      },
      "source": [
        "temp_series.tzinfo"
      ],
      "execution_count": null,
      "outputs": [
        {
          "output_type": "execute_result",
          "data": {
            "text/plain": [
              "<UTC>"
            ]
          },
          "metadata": {
            "tags": []
          },
          "execution_count": 41
        }
      ]
    },
    {
      "cell_type": "markdown",
      "metadata": {
        "id": "zukKYwzIEXFg"
      },
      "source": [
        "#### Apple"
      ]
    },
    {
      "cell_type": "code",
      "metadata": {
        "colab": {
          "base_uri": "https://localhost:8080/"
        },
        "id": "NC6o9i7VNHKC",
        "outputId": "b8114f01-2cdc-42a9-d4c7-5120ec1f1ced"
      },
      "source": [
        "import pytz\n",
        "print(datetime(2017, 10, 7).replace(tzinfo=pytz.utc).tzinfo)"
      ],
      "execution_count": null,
      "outputs": [
        {
          "output_type": "stream",
          "text": [
            "UTC\n"
          ],
          "name": "stdout"
        }
      ]
    },
    {
      "cell_type": "code",
      "metadata": {
        "id": "vSAQlYHxCp7m"
      },
      "source": [
        "apple_tweets = inbounds_and_outbounds \\\n",
        "    .loc[inbounds_and_outbounds.author_id_y == 'AppleSupport'] \\\n",
        "    .loc[inbounds_and_outbounds.created_at_x > datetime(2017, 10, 7).replace(tzinfo=pytz.utc)]"
      ],
      "execution_count": null,
      "outputs": []
    },
    {
      "cell_type": "code",
      "metadata": {
        "colab": {
          "base_uri": "https://localhost:8080/",
          "height": 453
        },
        "id": "BKZQR-SbCrbN",
        "outputId": "bb9c4359-aeea-4042-80b7-33b551ff10d9"
      },
      "source": [
        "plt.subplot(2, 1, 1)\n",
        "\n",
        "ax = apple_tweets \\\n",
        "    .groupby(pd.Grouper(key='created_at_x', freq='24h')) \\\n",
        "    .count() \\\n",
        "    .tweet_id_x.sort_index() \\\n",
        "    .plot(title='@AppleSupport Volume & Sentiment - Impact of the iPhone X', kind='area')\n",
        "ax.set_ylabel('Inbound Tweets')\n",
        "    \n",
        "\n",
        "plt.subplot(2, 1, 2)\n",
        "ax = apple_tweets \\\n",
        "    .groupby(pd.Grouper(key='created_at_x', freq='24h')) \\\n",
        "    .inbound_sentiment.mean() \\\n",
        "    .sort_index() \\\n",
        "    .plot(color='red')\n",
        "ax.set_ylabel('Customer Sentiment')"
      ],
      "execution_count": null,
      "outputs": [
        {
          "output_type": "execute_result",
          "data": {
            "text/plain": [
              "Text(0, 0.5, 'Customer Sentiment')"
            ]
          },
          "metadata": {
            "tags": []
          },
          "execution_count": 136
        },
        {
          "output_type": "display_data",
          "data": {
            "text/plain": [
              "<Figure size 432x288 with 2 Axes>"
            ],
            "image/svg+xml": "<?xml version=\"1.0\" encoding=\"utf-8\" standalone=\"no\"?>\n<!DOCTYPE svg PUBLIC \"-//W3C//DTD SVG 1.1//EN\"\n  \"http://www.w3.org/Graphics/SVG/1.1/DTD/svg11.dtd\">\n<!-- Created with matplotlib (https://matplotlib.org/) -->\n<svg height=\"311.185938pt\" version=\"1.1\" viewBox=\"0 0 418.004062 311.185938\" width=\"418.004062pt\" xmlns=\"http://www.w3.org/2000/svg\" xmlns:xlink=\"http://www.w3.org/1999/xlink\">\n <defs>\n  <style type=\"text/css\">\n*{stroke-linecap:butt;stroke-linejoin:round;}\n  </style>\n </defs>\n <g id=\"figure_1\">\n  <g id=\"patch_1\">\n   <path d=\"M 0 311.185938 \nL 418.004062 311.185938 \nL 418.004062 0 \nL 0 0 \nz\n\" style=\"fill:none;\"/>\n  </g>\n  <g id=\"axes_1\">\n   <g id=\"patch_2\">\n    <path d=\"M 58.523438 121.154489 \nL 393.323438 121.154489 \nL 393.323438 22.318125 \nL 58.523438 22.318125 \nz\n\" style=\"fill:#ffffff;\"/>\n   </g>\n   <g id=\"PolyCollection_1\">\n    <defs>\n     <path d=\"M 58.523437 -225.080113 \nL 58.523437 -190.031449 \nL 64.397122 -190.031449 \nL 70.270806 -190.031449 \nL 76.14449 -190.031449 \nL 82.018174 -190.031449 \nL 87.891859 -190.031449 \nL 93.765543 -190.031449 \nL 99.639227 -190.031449 \nL 105.512911 -190.031449 \nL 111.386595 -190.031449 \nL 117.26028 -190.031449 \nL 123.133964 -190.031449 \nL 129.007648 -190.031449 \nL 134.881332 -190.031449 \nL 140.755016 -190.031449 \nL 146.628701 -190.031449 \nL 152.502385 -190.031449 \nL 158.376069 -190.031449 \nL 164.249753 -190.031449 \nL 170.123437 -190.031449 \nL 175.997122 -190.031449 \nL 181.870806 -190.031449 \nL 187.74449 -190.031449 \nL 193.618174 -190.031449 \nL 199.491859 -190.031449 \nL 205.365543 -190.031449 \nL 211.239227 -190.031449 \nL 217.112911 -190.031449 \nL 222.986595 -190.031449 \nL 228.86028 -190.031449 \nL 234.733964 -190.031449 \nL 240.607648 -190.031449 \nL 246.481332 -190.031449 \nL 252.355016 -190.031449 \nL 258.228701 -190.031449 \nL 264.102385 -190.031449 \nL 269.976069 -190.031449 \nL 275.849753 -190.031449 \nL 281.723437 -190.031449 \nL 287.597122 -190.031449 \nL 293.470806 -190.031449 \nL 299.34449 -190.031449 \nL 305.218174 -190.031449 \nL 311.091859 -190.031449 \nL 316.965543 -190.031449 \nL 322.839227 -190.031449 \nL 328.712911 -190.031449 \nL 334.586595 -190.031449 \nL 340.46028 -190.031449 \nL 346.333964 -190.031449 \nL 352.207648 -190.031449 \nL 358.081332 -190.031449 \nL 363.955016 -190.031449 \nL 369.828701 -190.031449 \nL 375.702385 -190.031449 \nL 381.576069 -190.031449 \nL 387.449753 -190.031449 \nL 393.323437 -190.031449 \nL 393.323437 -215.803378 \nL 393.323437 -215.803378 \nL 387.449753 -229.892419 \nL 381.576069 -217.078929 \nL 375.702385 -217.803674 \nL 369.828701 -219.282154 \nL 363.955016 -214.991664 \nL 358.081332 -214.324899 \nL 352.207648 -209.570572 \nL 346.333964 -210.672184 \nL 340.46028 -211.194001 \nL 334.586595 -212.237633 \nL 328.712911 -218.499429 \nL 322.839227 -219.630031 \nL 316.965543 -217.977613 \nL 311.091859 -212.034705 \nL 305.218174 -191.422959 \nL 299.34449 -221.717297 \nL 293.470806 -228.38495 \nL 287.597122 -233.979981 \nL 281.723437 -232.907358 \nL 275.849753 -230.066358 \nL 269.976069 -231.25494 \nL 264.102385 -228.848787 \nL 258.228701 -208.613909 \nL 252.355016 -214.353888 \nL 246.481332 -270.043288 \nL 240.607648 -284.161319 \nL 234.733964 -281.030421 \nL 228.86028 -270.188237 \nL 222.986595 -263.114727 \nL 217.112911 -267.028349 \nL 211.239227 -246.503573 \nL 205.365543 -231.457868 \nL 199.491859 -220.296797 \nL 193.618174 -214.237929 \nL 187.74449 -210.382286 \nL 181.870806 -211.165011 \nL 175.997122 -225.862838 \nL 170.123437 -223.050827 \nL 164.249753 -218.789327 \nL 158.376069 -224.529307 \nL 152.502385 -223.137797 \nL 146.628701 -214.411868 \nL 140.755016 -214.991664 \nL 134.881332 -220.557705 \nL 129.007648 -223.108807 \nL 123.133964 -223.833552 \nL 117.26028 -219.948919 \nL 111.386595 -218.586399 \nL 105.512911 -214.12197 \nL 99.639227 -213.426215 \nL 93.765543 -218.818317 \nL 87.891859 -220.383766 \nL 82.018174 -221.659317 \nL 76.14449 -226.094756 \nL 70.270806 -225.833848 \nL 64.397122 -220.760633 \nL 58.523437 -225.080113 \nz\n\" id=\"m716f8feff1\" style=\"stroke:#1f77b4;\"/>\n    </defs>\n    <g clip-path=\"url(#pe082579366)\">\n     <use style=\"fill:#1f77b4;stroke:#1f77b4;\" x=\"0\" xlink:href=\"#m716f8feff1\" y=\"311.185938\"/>\n    </g>\n   </g>\n   <g id=\"matplotlib.axis_1\">\n    <g id=\"xtick_1\">\n     <g id=\"line2d_1\">\n      <defs>\n       <path d=\"M 0 0 \nL 0 3.5 \n\" id=\"m8d3150d198\" style=\"stroke:#000000;stroke-width:0.8;\"/>\n      </defs>\n      <g>\n       <use style=\"stroke:#000000;stroke-width:0.8;\" x=\"58.523437\" xlink:href=\"#m8d3150d198\" y=\"121.154489\"/>\n      </g>\n     </g>\n    </g>\n    <g id=\"xtick_2\">\n     <g id=\"line2d_2\">\n      <g>\n       <use style=\"stroke:#000000;stroke-width:0.8;\" x=\"205.365543\" xlink:href=\"#m8d3150d198\" y=\"121.154489\"/>\n      </g>\n     </g>\n     <g id=\"text_1\">\n      <!--  -->\n      <g transform=\"translate(205.365543 135.752926)scale(0.1 -0.1)\"/>\n      <!--  -->\n      <g transform=\"translate(205.365543 146.950739)scale(0.1 -0.1)\"/>\n      <!-- Nov -->\n      <defs>\n       <path d=\"M 9.8125 72.90625 \nL 23.09375 72.90625 \nL 55.421875 11.921875 \nL 55.421875 72.90625 \nL 64.984375 72.90625 \nL 64.984375 0 \nL 51.703125 0 \nL 19.390625 60.984375 \nL 19.390625 0 \nL 9.8125 0 \nz\n\" id=\"DejaVuSans-78\"/>\n       <path d=\"M 30.609375 48.390625 \nQ 23.390625 48.390625 19.1875 42.75 \nQ 14.984375 37.109375 14.984375 27.296875 \nQ 14.984375 17.484375 19.15625 11.84375 \nQ 23.34375 6.203125 30.609375 6.203125 \nQ 37.796875 6.203125 41.984375 11.859375 \nQ 46.1875 17.53125 46.1875 27.296875 \nQ 46.1875 37.015625 41.984375 42.703125 \nQ 37.796875 48.390625 30.609375 48.390625 \nz\nM 30.609375 56 \nQ 42.328125 56 49.015625 48.375 \nQ 55.71875 40.765625 55.71875 27.296875 \nQ 55.71875 13.875 49.015625 6.21875 \nQ 42.328125 -1.421875 30.609375 -1.421875 \nQ 18.84375 -1.421875 12.171875 6.21875 \nQ 5.515625 13.875 5.515625 27.296875 \nQ 5.515625 40.765625 12.171875 48.375 \nQ 18.84375 56 30.609375 56 \nz\n\" id=\"DejaVuSans-111\"/>\n       <path d=\"M 2.984375 54.6875 \nL 12.5 54.6875 \nL 29.59375 8.796875 \nL 46.6875 54.6875 \nL 56.203125 54.6875 \nL 35.6875 0 \nL 23.484375 0 \nz\n\" id=\"DejaVuSans-118\"/>\n      </defs>\n      <g transform=\"translate(195.606168 158.148551)scale(0.1 -0.1)\">\n       <use xlink:href=\"#DejaVuSans-78\"/>\n       <use x=\"74.804688\" xlink:href=\"#DejaVuSans-111\"/>\n       <use x=\"135.986328\" xlink:href=\"#DejaVuSans-118\"/>\n      </g>\n      <!-- 2017 -->\n      <defs>\n       <path d=\"M 19.1875 8.296875 \nL 53.609375 8.296875 \nL 53.609375 0 \nL 7.328125 0 \nL 7.328125 8.296875 \nQ 12.9375 14.109375 22.625 23.890625 \nQ 32.328125 33.6875 34.8125 36.53125 \nQ 39.546875 41.84375 41.421875 45.53125 \nQ 43.3125 49.21875 43.3125 52.78125 \nQ 43.3125 58.59375 39.234375 62.25 \nQ 35.15625 65.921875 28.609375 65.921875 \nQ 23.96875 65.921875 18.8125 64.3125 \nQ 13.671875 62.703125 7.8125 59.421875 \nL 7.8125 69.390625 \nQ 13.765625 71.78125 18.9375 73 \nQ 24.125 74.21875 28.421875 74.21875 \nQ 39.75 74.21875 46.484375 68.546875 \nQ 53.21875 62.890625 53.21875 53.421875 \nQ 53.21875 48.921875 51.53125 44.890625 \nQ 49.859375 40.875 45.40625 35.40625 \nQ 44.1875 33.984375 37.640625 27.21875 \nQ 31.109375 20.453125 19.1875 8.296875 \nz\n\" id=\"DejaVuSans-50\"/>\n       <path d=\"M 31.78125 66.40625 \nQ 24.171875 66.40625 20.328125 58.90625 \nQ 16.5 51.421875 16.5 36.375 \nQ 16.5 21.390625 20.328125 13.890625 \nQ 24.171875 6.390625 31.78125 6.390625 \nQ 39.453125 6.390625 43.28125 13.890625 \nQ 47.125 21.390625 47.125 36.375 \nQ 47.125 51.421875 43.28125 58.90625 \nQ 39.453125 66.40625 31.78125 66.40625 \nz\nM 31.78125 74.21875 \nQ 44.046875 74.21875 50.515625 64.515625 \nQ 56.984375 54.828125 56.984375 36.375 \nQ 56.984375 17.96875 50.515625 8.265625 \nQ 44.046875 -1.421875 31.78125 -1.421875 \nQ 19.53125 -1.421875 13.0625 8.265625 \nQ 6.59375 17.96875 6.59375 36.375 \nQ 6.59375 54.828125 13.0625 64.515625 \nQ 19.53125 74.21875 31.78125 74.21875 \nz\n\" id=\"DejaVuSans-48\"/>\n       <path d=\"M 12.40625 8.296875 \nL 28.515625 8.296875 \nL 28.515625 63.921875 \nL 10.984375 60.40625 \nL 10.984375 69.390625 \nL 28.421875 72.90625 \nL 38.28125 72.90625 \nL 38.28125 8.296875 \nL 54.390625 8.296875 \nL 54.390625 0 \nL 12.40625 0 \nz\n\" id=\"DejaVuSans-49\"/>\n       <path d=\"M 8.203125 72.90625 \nL 55.078125 72.90625 \nL 55.078125 68.703125 \nL 28.609375 0 \nL 18.3125 0 \nL 43.21875 64.59375 \nL 8.203125 64.59375 \nz\n\" id=\"DejaVuSans-55\"/>\n      </defs>\n      <g transform=\"translate(192.640543 169.346364)scale(0.1 -0.1)\">\n       <use xlink:href=\"#DejaVuSans-50\"/>\n       <use x=\"63.623047\" xlink:href=\"#DejaVuSans-48\"/>\n       <use x=\"127.246094\" xlink:href=\"#DejaVuSans-49\"/>\n       <use x=\"190.869141\" xlink:href=\"#DejaVuSans-55\"/>\n      </g>\n     </g>\n    </g>\n    <g id=\"xtick_3\">\n     <g id=\"line2d_3\">\n      <g>\n       <use style=\"stroke:#000000;stroke-width:0.8;\" x=\"381.576069\" xlink:href=\"#m8d3150d198\" y=\"121.154489\"/>\n      </g>\n     </g>\n     <g id=\"text_2\">\n      <!--  -->\n      <g transform=\"translate(381.576069 135.752926)scale(0.1 -0.1)\"/>\n      <!--  -->\n      <g transform=\"translate(381.576069 146.950739)scale(0.1 -0.1)\"/>\n      <!-- Dec -->\n      <defs>\n       <path d=\"M 19.671875 64.796875 \nL 19.671875 8.109375 \nL 31.59375 8.109375 \nQ 46.6875 8.109375 53.6875 14.9375 \nQ 60.6875 21.78125 60.6875 36.53125 \nQ 60.6875 51.171875 53.6875 57.984375 \nQ 46.6875 64.796875 31.59375 64.796875 \nz\nM 9.8125 72.90625 \nL 30.078125 72.90625 \nQ 51.265625 72.90625 61.171875 64.09375 \nQ 71.09375 55.28125 71.09375 36.53125 \nQ 71.09375 17.671875 61.125 8.828125 \nQ 51.171875 0 30.078125 0 \nL 9.8125 0 \nz\n\" id=\"DejaVuSans-68\"/>\n       <path d=\"M 56.203125 29.59375 \nL 56.203125 25.203125 \nL 14.890625 25.203125 \nQ 15.484375 15.921875 20.484375 11.0625 \nQ 25.484375 6.203125 34.421875 6.203125 \nQ 39.59375 6.203125 44.453125 7.46875 \nQ 49.3125 8.734375 54.109375 11.28125 \nL 54.109375 2.78125 \nQ 49.265625 0.734375 44.1875 -0.34375 \nQ 39.109375 -1.421875 33.890625 -1.421875 \nQ 20.796875 -1.421875 13.15625 6.1875 \nQ 5.515625 13.8125 5.515625 26.8125 \nQ 5.515625 40.234375 12.765625 48.109375 \nQ 20.015625 56 32.328125 56 \nQ 43.359375 56 49.78125 48.890625 \nQ 56.203125 41.796875 56.203125 29.59375 \nz\nM 47.21875 32.234375 \nQ 47.125 39.59375 43.09375 43.984375 \nQ 39.0625 48.390625 32.421875 48.390625 \nQ 24.90625 48.390625 20.390625 44.140625 \nQ 15.875 39.890625 15.1875 32.171875 \nz\n\" id=\"DejaVuSans-101\"/>\n       <path d=\"M 48.78125 52.59375 \nL 48.78125 44.1875 \nQ 44.96875 46.296875 41.140625 47.34375 \nQ 37.3125 48.390625 33.40625 48.390625 \nQ 24.65625 48.390625 19.8125 42.84375 \nQ 14.984375 37.3125 14.984375 27.296875 \nQ 14.984375 17.28125 19.8125 11.734375 \nQ 24.65625 6.203125 33.40625 6.203125 \nQ 37.3125 6.203125 41.140625 7.25 \nQ 44.96875 8.296875 48.78125 10.40625 \nL 48.78125 2.09375 \nQ 45.015625 0.34375 40.984375 -0.53125 \nQ 36.96875 -1.421875 32.421875 -1.421875 \nQ 20.0625 -1.421875 12.78125 6.34375 \nQ 5.515625 14.109375 5.515625 27.296875 \nQ 5.515625 40.671875 12.859375 48.328125 \nQ 20.21875 56 33.015625 56 \nQ 37.15625 56 41.109375 55.140625 \nQ 45.0625 54.296875 48.78125 52.59375 \nz\n\" id=\"DejaVuSans-99\"/>\n      </defs>\n      <g transform=\"translate(371.900288 158.148551)scale(0.1 -0.1)\">\n       <use xlink:href=\"#DejaVuSans-68\"/>\n       <use x=\"77.001953\" xlink:href=\"#DejaVuSans-101\"/>\n       <use x=\"138.525391\" xlink:href=\"#DejaVuSans-99\"/>\n      </g>\n     </g>\n    </g>\n    <g id=\"xtick_4\">\n     <g id=\"line2d_4\">\n      <g>\n       <use style=\"stroke:#000000;stroke-width:0.8;\" x=\"393.323437\" xlink:href=\"#m8d3150d198\" y=\"121.154489\"/>\n      </g>\n     </g>\n    </g>\n    <g id=\"xtick_5\">\n     <g id=\"line2d_5\">\n      <defs>\n       <path d=\"M 0 0 \nL 0 2 \n\" id=\"m1cdfdf1ed8\" style=\"stroke:#000000;stroke-width:0.6;\"/>\n      </defs>\n      <g>\n       <use style=\"stroke:#000000;stroke-width:0.6;\" x=\"64.397122\" xlink:href=\"#m1cdfdf1ed8\" y=\"121.154489\"/>\n      </g>\n     </g>\n    </g>\n    <g id=\"xtick_6\">\n     <g id=\"line2d_6\">\n      <g>\n       <use style=\"stroke:#000000;stroke-width:0.6;\" x=\"70.270806\" xlink:href=\"#m1cdfdf1ed8\" y=\"121.154489\"/>\n      </g>\n     </g>\n     <g id=\"text_3\">\n      <!-- 09 -->\n      <defs>\n       <path d=\"M 10.984375 1.515625 \nL 10.984375 10.5 \nQ 14.703125 8.734375 18.5 7.8125 \nQ 22.3125 6.890625 25.984375 6.890625 \nQ 35.75 6.890625 40.890625 13.453125 \nQ 46.046875 20.015625 46.78125 33.40625 \nQ 43.953125 29.203125 39.59375 26.953125 \nQ 35.25 24.703125 29.984375 24.703125 \nQ 19.046875 24.703125 12.671875 31.3125 \nQ 6.296875 37.9375 6.296875 49.421875 \nQ 6.296875 60.640625 12.9375 67.421875 \nQ 19.578125 74.21875 30.609375 74.21875 \nQ 43.265625 74.21875 49.921875 64.515625 \nQ 56.59375 54.828125 56.59375 36.375 \nQ 56.59375 19.140625 48.40625 8.859375 \nQ 40.234375 -1.421875 26.421875 -1.421875 \nQ 22.703125 -1.421875 18.890625 -0.6875 \nQ 15.09375 0.046875 10.984375 1.515625 \nz\nM 30.609375 32.421875 \nQ 37.25 32.421875 41.125 36.953125 \nQ 45.015625 41.5 45.015625 49.421875 \nQ 45.015625 57.28125 41.125 61.84375 \nQ 37.25 66.40625 30.609375 66.40625 \nQ 23.96875 66.40625 20.09375 61.84375 \nQ 16.21875 57.28125 16.21875 49.421875 \nQ 16.21875 41.5 20.09375 36.953125 \nQ 23.96875 32.421875 30.609375 32.421875 \nz\n\" id=\"DejaVuSans-57\"/>\n      </defs>\n      <g transform=\"translate(63.908306 134.152926)scale(0.1 -0.1)\">\n       <use xlink:href=\"#DejaVuSans-48\"/>\n       <use x=\"63.623047\" xlink:href=\"#DejaVuSans-57\"/>\n      </g>\n     </g>\n    </g>\n    <g id=\"xtick_7\">\n     <g id=\"line2d_7\">\n      <g>\n       <use style=\"stroke:#000000;stroke-width:0.6;\" x=\"76.14449\" xlink:href=\"#m1cdfdf1ed8\" y=\"121.154489\"/>\n      </g>\n     </g>\n    </g>\n    <g id=\"xtick_8\">\n     <g id=\"line2d_8\">\n      <g>\n       <use style=\"stroke:#000000;stroke-width:0.6;\" x=\"82.018174\" xlink:href=\"#m1cdfdf1ed8\" y=\"121.154489\"/>\n      </g>\n     </g>\n    </g>\n    <g id=\"xtick_9\">\n     <g id=\"line2d_9\">\n      <g>\n       <use style=\"stroke:#000000;stroke-width:0.6;\" x=\"87.891859\" xlink:href=\"#m1cdfdf1ed8\" y=\"121.154489\"/>\n      </g>\n     </g>\n    </g>\n    <g id=\"xtick_10\">\n     <g id=\"line2d_10\">\n      <g>\n       <use style=\"stroke:#000000;stroke-width:0.6;\" x=\"93.765543\" xlink:href=\"#m1cdfdf1ed8\" y=\"121.154489\"/>\n      </g>\n     </g>\n    </g>\n    <g id=\"xtick_11\">\n     <g id=\"line2d_11\">\n      <g>\n       <use style=\"stroke:#000000;stroke-width:0.6;\" x=\"99.639227\" xlink:href=\"#m1cdfdf1ed8\" y=\"121.154489\"/>\n      </g>\n     </g>\n    </g>\n    <g id=\"xtick_12\">\n     <g id=\"line2d_12\">\n      <g>\n       <use style=\"stroke:#000000;stroke-width:0.6;\" x=\"105.512911\" xlink:href=\"#m1cdfdf1ed8\" y=\"121.154489\"/>\n      </g>\n     </g>\n    </g>\n    <g id=\"xtick_13\">\n     <g id=\"line2d_13\">\n      <g>\n       <use style=\"stroke:#000000;stroke-width:0.6;\" x=\"111.386595\" xlink:href=\"#m1cdfdf1ed8\" y=\"121.154489\"/>\n      </g>\n     </g>\n     <g id=\"text_4\">\n      <!-- 16 -->\n      <defs>\n       <path d=\"M 33.015625 40.375 \nQ 26.375 40.375 22.484375 35.828125 \nQ 18.609375 31.296875 18.609375 23.390625 \nQ 18.609375 15.53125 22.484375 10.953125 \nQ 26.375 6.390625 33.015625 6.390625 \nQ 39.65625 6.390625 43.53125 10.953125 \nQ 47.40625 15.53125 47.40625 23.390625 \nQ 47.40625 31.296875 43.53125 35.828125 \nQ 39.65625 40.375 33.015625 40.375 \nz\nM 52.59375 71.296875 \nL 52.59375 62.3125 \nQ 48.875 64.0625 45.09375 64.984375 \nQ 41.3125 65.921875 37.59375 65.921875 \nQ 27.828125 65.921875 22.671875 59.328125 \nQ 17.53125 52.734375 16.796875 39.40625 \nQ 19.671875 43.65625 24.015625 45.921875 \nQ 28.375 48.1875 33.59375 48.1875 \nQ 44.578125 48.1875 50.953125 41.515625 \nQ 57.328125 34.859375 57.328125 23.390625 \nQ 57.328125 12.15625 50.6875 5.359375 \nQ 44.046875 -1.421875 33.015625 -1.421875 \nQ 20.359375 -1.421875 13.671875 8.265625 \nQ 6.984375 17.96875 6.984375 36.375 \nQ 6.984375 53.65625 15.1875 63.9375 \nQ 23.390625 74.21875 37.203125 74.21875 \nQ 40.921875 74.21875 44.703125 73.484375 \nQ 48.484375 72.75 52.59375 71.296875 \nz\n\" id=\"DejaVuSans-54\"/>\n      </defs>\n      <g transform=\"translate(105.024095 134.152926)scale(0.1 -0.1)\">\n       <use xlink:href=\"#DejaVuSans-49\"/>\n       <use x=\"63.623047\" xlink:href=\"#DejaVuSans-54\"/>\n      </g>\n     </g>\n    </g>\n    <g id=\"xtick_14\">\n     <g id=\"line2d_14\">\n      <g>\n       <use style=\"stroke:#000000;stroke-width:0.6;\" x=\"117.26028\" xlink:href=\"#m1cdfdf1ed8\" y=\"121.154489\"/>\n      </g>\n     </g>\n    </g>\n    <g id=\"xtick_15\">\n     <g id=\"line2d_15\">\n      <g>\n       <use style=\"stroke:#000000;stroke-width:0.6;\" x=\"123.133964\" xlink:href=\"#m1cdfdf1ed8\" y=\"121.154489\"/>\n      </g>\n     </g>\n    </g>\n    <g id=\"xtick_16\">\n     <g id=\"line2d_16\">\n      <g>\n       <use style=\"stroke:#000000;stroke-width:0.6;\" x=\"129.007648\" xlink:href=\"#m1cdfdf1ed8\" y=\"121.154489\"/>\n      </g>\n     </g>\n    </g>\n    <g id=\"xtick_17\">\n     <g id=\"line2d_17\">\n      <g>\n       <use style=\"stroke:#000000;stroke-width:0.6;\" x=\"134.881332\" xlink:href=\"#m1cdfdf1ed8\" y=\"121.154489\"/>\n      </g>\n     </g>\n    </g>\n    <g id=\"xtick_18\">\n     <g id=\"line2d_18\">\n      <g>\n       <use style=\"stroke:#000000;stroke-width:0.6;\" x=\"140.755016\" xlink:href=\"#m1cdfdf1ed8\" y=\"121.154489\"/>\n      </g>\n     </g>\n    </g>\n    <g id=\"xtick_19\">\n     <g id=\"line2d_19\">\n      <g>\n       <use style=\"stroke:#000000;stroke-width:0.6;\" x=\"146.628701\" xlink:href=\"#m1cdfdf1ed8\" y=\"121.154489\"/>\n      </g>\n     </g>\n    </g>\n    <g id=\"xtick_20\">\n     <g id=\"line2d_20\">\n      <g>\n       <use style=\"stroke:#000000;stroke-width:0.6;\" x=\"152.502385\" xlink:href=\"#m1cdfdf1ed8\" y=\"121.154489\"/>\n      </g>\n     </g>\n     <g id=\"text_5\">\n      <!-- 23 -->\n      <defs>\n       <path d=\"M 40.578125 39.3125 \nQ 47.65625 37.796875 51.625 33 \nQ 55.609375 28.21875 55.609375 21.1875 \nQ 55.609375 10.40625 48.1875 4.484375 \nQ 40.765625 -1.421875 27.09375 -1.421875 \nQ 22.515625 -1.421875 17.65625 -0.515625 \nQ 12.796875 0.390625 7.625 2.203125 \nL 7.625 11.71875 \nQ 11.71875 9.328125 16.59375 8.109375 \nQ 21.484375 6.890625 26.8125 6.890625 \nQ 36.078125 6.890625 40.9375 10.546875 \nQ 45.796875 14.203125 45.796875 21.1875 \nQ 45.796875 27.640625 41.28125 31.265625 \nQ 36.765625 34.90625 28.71875 34.90625 \nL 20.21875 34.90625 \nL 20.21875 43.015625 \nL 29.109375 43.015625 \nQ 36.375 43.015625 40.234375 45.921875 \nQ 44.09375 48.828125 44.09375 54.296875 \nQ 44.09375 59.90625 40.109375 62.90625 \nQ 36.140625 65.921875 28.71875 65.921875 \nQ 24.65625 65.921875 20.015625 65.03125 \nQ 15.375 64.15625 9.8125 62.3125 \nL 9.8125 71.09375 \nQ 15.4375 72.65625 20.34375 73.4375 \nQ 25.25 74.21875 29.59375 74.21875 \nQ 40.828125 74.21875 47.359375 69.109375 \nQ 53.90625 64.015625 53.90625 55.328125 \nQ 53.90625 49.265625 50.4375 45.09375 \nQ 46.96875 40.921875 40.578125 39.3125 \nz\n\" id=\"DejaVuSans-51\"/>\n      </defs>\n      <g transform=\"translate(146.139885 134.152926)scale(0.1 -0.1)\">\n       <use xlink:href=\"#DejaVuSans-50\"/>\n       <use x=\"63.623047\" xlink:href=\"#DejaVuSans-51\"/>\n      </g>\n     </g>\n    </g>\n    <g id=\"xtick_21\">\n     <g id=\"line2d_21\">\n      <g>\n       <use style=\"stroke:#000000;stroke-width:0.6;\" x=\"158.376069\" xlink:href=\"#m1cdfdf1ed8\" y=\"121.154489\"/>\n      </g>\n     </g>\n    </g>\n    <g id=\"xtick_22\">\n     <g id=\"line2d_22\">\n      <g>\n       <use style=\"stroke:#000000;stroke-width:0.6;\" x=\"164.249753\" xlink:href=\"#m1cdfdf1ed8\" y=\"121.154489\"/>\n      </g>\n     </g>\n    </g>\n    <g id=\"xtick_23\">\n     <g id=\"line2d_23\">\n      <g>\n       <use style=\"stroke:#000000;stroke-width:0.6;\" x=\"170.123437\" xlink:href=\"#m1cdfdf1ed8\" y=\"121.154489\"/>\n      </g>\n     </g>\n    </g>\n    <g id=\"xtick_24\">\n     <g id=\"line2d_24\">\n      <g>\n       <use style=\"stroke:#000000;stroke-width:0.6;\" x=\"175.997122\" xlink:href=\"#m1cdfdf1ed8\" y=\"121.154489\"/>\n      </g>\n     </g>\n    </g>\n    <g id=\"xtick_25\">\n     <g id=\"line2d_25\">\n      <g>\n       <use style=\"stroke:#000000;stroke-width:0.6;\" x=\"181.870806\" xlink:href=\"#m1cdfdf1ed8\" y=\"121.154489\"/>\n      </g>\n     </g>\n    </g>\n    <g id=\"xtick_26\">\n     <g id=\"line2d_26\">\n      <g>\n       <use style=\"stroke:#000000;stroke-width:0.6;\" x=\"187.74449\" xlink:href=\"#m1cdfdf1ed8\" y=\"121.154489\"/>\n      </g>\n     </g>\n    </g>\n    <g id=\"xtick_27\">\n     <g id=\"line2d_27\">\n      <g>\n       <use style=\"stroke:#000000;stroke-width:0.6;\" x=\"193.618174\" xlink:href=\"#m1cdfdf1ed8\" y=\"121.154489\"/>\n      </g>\n     </g>\n     <g id=\"text_6\">\n      <!-- 30 -->\n      <g transform=\"translate(187.255674 134.152926)scale(0.1 -0.1)\">\n       <use xlink:href=\"#DejaVuSans-51\"/>\n       <use x=\"63.623047\" xlink:href=\"#DejaVuSans-48\"/>\n      </g>\n     </g>\n    </g>\n    <g id=\"xtick_28\">\n     <g id=\"line2d_28\">\n      <g>\n       <use style=\"stroke:#000000;stroke-width:0.6;\" x=\"199.491859\" xlink:href=\"#m1cdfdf1ed8\" y=\"121.154489\"/>\n      </g>\n     </g>\n    </g>\n    <g id=\"xtick_29\">\n     <g id=\"line2d_29\">\n      <g>\n       <use style=\"stroke:#000000;stroke-width:0.6;\" x=\"211.239227\" xlink:href=\"#m1cdfdf1ed8\" y=\"121.154489\"/>\n      </g>\n     </g>\n    </g>\n    <g id=\"xtick_30\">\n     <g id=\"line2d_30\">\n      <g>\n       <use style=\"stroke:#000000;stroke-width:0.6;\" x=\"217.112911\" xlink:href=\"#m1cdfdf1ed8\" y=\"121.154489\"/>\n      </g>\n     </g>\n    </g>\n    <g id=\"xtick_31\">\n     <g id=\"line2d_31\">\n      <g>\n       <use style=\"stroke:#000000;stroke-width:0.6;\" x=\"222.986595\" xlink:href=\"#m1cdfdf1ed8\" y=\"121.154489\"/>\n      </g>\n     </g>\n    </g>\n    <g id=\"xtick_32\">\n     <g id=\"line2d_32\">\n      <g>\n       <use style=\"stroke:#000000;stroke-width:0.6;\" x=\"228.86028\" xlink:href=\"#m1cdfdf1ed8\" y=\"121.154489\"/>\n      </g>\n     </g>\n    </g>\n    <g id=\"xtick_33\">\n     <g id=\"line2d_33\">\n      <g>\n       <use style=\"stroke:#000000;stroke-width:0.6;\" x=\"234.733964\" xlink:href=\"#m1cdfdf1ed8\" y=\"121.154489\"/>\n      </g>\n     </g>\n     <g id=\"text_7\">\n      <!-- 06 -->\n      <g transform=\"translate(228.371464 134.152926)scale(0.1 -0.1)\">\n       <use xlink:href=\"#DejaVuSans-48\"/>\n       <use x=\"63.623047\" xlink:href=\"#DejaVuSans-54\"/>\n      </g>\n     </g>\n    </g>\n    <g id=\"xtick_34\">\n     <g id=\"line2d_34\">\n      <g>\n       <use style=\"stroke:#000000;stroke-width:0.6;\" x=\"240.607648\" xlink:href=\"#m1cdfdf1ed8\" y=\"121.154489\"/>\n      </g>\n     </g>\n    </g>\n    <g id=\"xtick_35\">\n     <g id=\"line2d_35\">\n      <g>\n       <use style=\"stroke:#000000;stroke-width:0.6;\" x=\"246.481332\" xlink:href=\"#m1cdfdf1ed8\" y=\"121.154489\"/>\n      </g>\n     </g>\n    </g>\n    <g id=\"xtick_36\">\n     <g id=\"line2d_36\">\n      <g>\n       <use style=\"stroke:#000000;stroke-width:0.6;\" x=\"252.355016\" xlink:href=\"#m1cdfdf1ed8\" y=\"121.154489\"/>\n      </g>\n     </g>\n    </g>\n    <g id=\"xtick_37\">\n     <g id=\"line2d_37\">\n      <g>\n       <use style=\"stroke:#000000;stroke-width:0.6;\" x=\"258.228701\" xlink:href=\"#m1cdfdf1ed8\" y=\"121.154489\"/>\n      </g>\n     </g>\n    </g>\n    <g id=\"xtick_38\">\n     <g id=\"line2d_38\">\n      <g>\n       <use style=\"stroke:#000000;stroke-width:0.6;\" x=\"264.102385\" xlink:href=\"#m1cdfdf1ed8\" y=\"121.154489\"/>\n      </g>\n     </g>\n    </g>\n    <g id=\"xtick_39\">\n     <g id=\"line2d_39\">\n      <g>\n       <use style=\"stroke:#000000;stroke-width:0.6;\" x=\"269.976069\" xlink:href=\"#m1cdfdf1ed8\" y=\"121.154489\"/>\n      </g>\n     </g>\n    </g>\n    <g id=\"xtick_40\">\n     <g id=\"line2d_40\">\n      <g>\n       <use style=\"stroke:#000000;stroke-width:0.6;\" x=\"275.849753\" xlink:href=\"#m1cdfdf1ed8\" y=\"121.154489\"/>\n      </g>\n     </g>\n     <g id=\"text_8\">\n      <!-- 13 -->\n      <g transform=\"translate(269.487253 134.152926)scale(0.1 -0.1)\">\n       <use xlink:href=\"#DejaVuSans-49\"/>\n       <use x=\"63.623047\" xlink:href=\"#DejaVuSans-51\"/>\n      </g>\n     </g>\n    </g>\n    <g id=\"xtick_41\">\n     <g id=\"line2d_41\">\n      <g>\n       <use style=\"stroke:#000000;stroke-width:0.6;\" x=\"281.723437\" xlink:href=\"#m1cdfdf1ed8\" y=\"121.154489\"/>\n      </g>\n     </g>\n    </g>\n    <g id=\"xtick_42\">\n     <g id=\"line2d_42\">\n      <g>\n       <use style=\"stroke:#000000;stroke-width:0.6;\" x=\"287.597122\" xlink:href=\"#m1cdfdf1ed8\" y=\"121.154489\"/>\n      </g>\n     </g>\n    </g>\n    <g id=\"xtick_43\">\n     <g id=\"line2d_43\">\n      <g>\n       <use style=\"stroke:#000000;stroke-width:0.6;\" x=\"293.470806\" xlink:href=\"#m1cdfdf1ed8\" y=\"121.154489\"/>\n      </g>\n     </g>\n    </g>\n    <g id=\"xtick_44\">\n     <g id=\"line2d_44\">\n      <g>\n       <use style=\"stroke:#000000;stroke-width:0.6;\" x=\"299.34449\" xlink:href=\"#m1cdfdf1ed8\" y=\"121.154489\"/>\n      </g>\n     </g>\n    </g>\n    <g id=\"xtick_45\">\n     <g id=\"line2d_45\">\n      <g>\n       <use style=\"stroke:#000000;stroke-width:0.6;\" x=\"305.218174\" xlink:href=\"#m1cdfdf1ed8\" y=\"121.154489\"/>\n      </g>\n     </g>\n    </g>\n    <g id=\"xtick_46\">\n     <g id=\"line2d_46\">\n      <g>\n       <use style=\"stroke:#000000;stroke-width:0.6;\" x=\"311.091859\" xlink:href=\"#m1cdfdf1ed8\" y=\"121.154489\"/>\n      </g>\n     </g>\n    </g>\n    <g id=\"xtick_47\">\n     <g id=\"line2d_47\">\n      <g>\n       <use style=\"stroke:#000000;stroke-width:0.6;\" x=\"316.965543\" xlink:href=\"#m1cdfdf1ed8\" y=\"121.154489\"/>\n      </g>\n     </g>\n     <g id=\"text_9\">\n      <!-- 20 -->\n      <g transform=\"translate(310.603043 134.152926)scale(0.1 -0.1)\">\n       <use xlink:href=\"#DejaVuSans-50\"/>\n       <use x=\"63.623047\" xlink:href=\"#DejaVuSans-48\"/>\n      </g>\n     </g>\n    </g>\n    <g id=\"xtick_48\">\n     <g id=\"line2d_48\">\n      <g>\n       <use style=\"stroke:#000000;stroke-width:0.6;\" x=\"322.839227\" xlink:href=\"#m1cdfdf1ed8\" y=\"121.154489\"/>\n      </g>\n     </g>\n    </g>\n    <g id=\"xtick_49\">\n     <g id=\"line2d_49\">\n      <g>\n       <use style=\"stroke:#000000;stroke-width:0.6;\" x=\"328.712911\" xlink:href=\"#m1cdfdf1ed8\" y=\"121.154489\"/>\n      </g>\n     </g>\n    </g>\n    <g id=\"xtick_50\">\n     <g id=\"line2d_50\">\n      <g>\n       <use style=\"stroke:#000000;stroke-width:0.6;\" x=\"334.586595\" xlink:href=\"#m1cdfdf1ed8\" y=\"121.154489\"/>\n      </g>\n     </g>\n    </g>\n    <g id=\"xtick_51\">\n     <g id=\"line2d_51\">\n      <g>\n       <use style=\"stroke:#000000;stroke-width:0.6;\" x=\"340.46028\" xlink:href=\"#m1cdfdf1ed8\" y=\"121.154489\"/>\n      </g>\n     </g>\n    </g>\n    <g id=\"xtick_52\">\n     <g id=\"line2d_52\">\n      <g>\n       <use style=\"stroke:#000000;stroke-width:0.6;\" x=\"346.333964\" xlink:href=\"#m1cdfdf1ed8\" y=\"121.154489\"/>\n      </g>\n     </g>\n    </g>\n    <g id=\"xtick_53\">\n     <g id=\"line2d_53\">\n      <g>\n       <use style=\"stroke:#000000;stroke-width:0.6;\" x=\"352.207648\" xlink:href=\"#m1cdfdf1ed8\" y=\"121.154489\"/>\n      </g>\n     </g>\n    </g>\n    <g id=\"xtick_54\">\n     <g id=\"line2d_54\">\n      <g>\n       <use style=\"stroke:#000000;stroke-width:0.6;\" x=\"358.081332\" xlink:href=\"#m1cdfdf1ed8\" y=\"121.154489\"/>\n      </g>\n     </g>\n     <g id=\"text_10\">\n      <!-- 27 -->\n      <g transform=\"translate(351.718832 134.152926)scale(0.1 -0.1)\">\n       <use xlink:href=\"#DejaVuSans-50\"/>\n       <use x=\"63.623047\" xlink:href=\"#DejaVuSans-55\"/>\n      </g>\n     </g>\n    </g>\n    <g id=\"xtick_55\">\n     <g id=\"line2d_55\">\n      <g>\n       <use style=\"stroke:#000000;stroke-width:0.6;\" x=\"363.955016\" xlink:href=\"#m1cdfdf1ed8\" y=\"121.154489\"/>\n      </g>\n     </g>\n    </g>\n    <g id=\"xtick_56\">\n     <g id=\"line2d_56\">\n      <g>\n       <use style=\"stroke:#000000;stroke-width:0.6;\" x=\"369.828701\" xlink:href=\"#m1cdfdf1ed8\" y=\"121.154489\"/>\n      </g>\n     </g>\n    </g>\n    <g id=\"xtick_57\">\n     <g id=\"line2d_57\">\n      <g>\n       <use style=\"stroke:#000000;stroke-width:0.6;\" x=\"375.702385\" xlink:href=\"#m1cdfdf1ed8\" y=\"121.154489\"/>\n      </g>\n     </g>\n    </g>\n    <g id=\"xtick_58\">\n     <g id=\"line2d_58\">\n      <g>\n       <use style=\"stroke:#000000;stroke-width:0.6;\" x=\"387.449753\" xlink:href=\"#m1cdfdf1ed8\" y=\"121.154489\"/>\n      </g>\n     </g>\n    </g>\n    <g id=\"text_11\">\n     <!-- created_at_x -->\n     <defs>\n      <path d=\"M 41.109375 46.296875 \nQ 39.59375 47.171875 37.8125 47.578125 \nQ 36.03125 48 33.890625 48 \nQ 26.265625 48 22.1875 43.046875 \nQ 18.109375 38.09375 18.109375 28.8125 \nL 18.109375 0 \nL 9.078125 0 \nL 9.078125 54.6875 \nL 18.109375 54.6875 \nL 18.109375 46.1875 \nQ 20.953125 51.171875 25.484375 53.578125 \nQ 30.03125 56 36.53125 56 \nQ 37.453125 56 38.578125 55.875 \nQ 39.703125 55.765625 41.0625 55.515625 \nz\n\" id=\"DejaVuSans-114\"/>\n      <path d=\"M 34.28125 27.484375 \nQ 23.390625 27.484375 19.1875 25 \nQ 14.984375 22.515625 14.984375 16.5 \nQ 14.984375 11.71875 18.140625 8.90625 \nQ 21.296875 6.109375 26.703125 6.109375 \nQ 34.1875 6.109375 38.703125 11.40625 \nQ 43.21875 16.703125 43.21875 25.484375 \nL 43.21875 27.484375 \nz\nM 52.203125 31.203125 \nL 52.203125 0 \nL 43.21875 0 \nL 43.21875 8.296875 \nQ 40.140625 3.328125 35.546875 0.953125 \nQ 30.953125 -1.421875 24.3125 -1.421875 \nQ 15.921875 -1.421875 10.953125 3.296875 \nQ 6 8.015625 6 15.921875 \nQ 6 25.140625 12.171875 29.828125 \nQ 18.359375 34.515625 30.609375 34.515625 \nL 43.21875 34.515625 \nL 43.21875 35.40625 \nQ 43.21875 41.609375 39.140625 45 \nQ 35.0625 48.390625 27.6875 48.390625 \nQ 23 48.390625 18.546875 47.265625 \nQ 14.109375 46.140625 10.015625 43.890625 \nL 10.015625 52.203125 \nQ 14.9375 54.109375 19.578125 55.046875 \nQ 24.21875 56 28.609375 56 \nQ 40.484375 56 46.34375 49.84375 \nQ 52.203125 43.703125 52.203125 31.203125 \nz\n\" id=\"DejaVuSans-97\"/>\n      <path d=\"M 18.3125 70.21875 \nL 18.3125 54.6875 \nL 36.8125 54.6875 \nL 36.8125 47.703125 \nL 18.3125 47.703125 \nL 18.3125 18.015625 \nQ 18.3125 11.328125 20.140625 9.421875 \nQ 21.96875 7.515625 27.59375 7.515625 \nL 36.8125 7.515625 \nL 36.8125 0 \nL 27.59375 0 \nQ 17.1875 0 13.234375 3.875 \nQ 9.28125 7.765625 9.28125 18.015625 \nL 9.28125 47.703125 \nL 2.6875 47.703125 \nL 2.6875 54.6875 \nL 9.28125 54.6875 \nL 9.28125 70.21875 \nz\n\" id=\"DejaVuSans-116\"/>\n      <path d=\"M 45.40625 46.390625 \nL 45.40625 75.984375 \nL 54.390625 75.984375 \nL 54.390625 0 \nL 45.40625 0 \nL 45.40625 8.203125 \nQ 42.578125 3.328125 38.25 0.953125 \nQ 33.9375 -1.421875 27.875 -1.421875 \nQ 17.96875 -1.421875 11.734375 6.484375 \nQ 5.515625 14.40625 5.515625 27.296875 \nQ 5.515625 40.1875 11.734375 48.09375 \nQ 17.96875 56 27.875 56 \nQ 33.9375 56 38.25 53.625 \nQ 42.578125 51.265625 45.40625 46.390625 \nz\nM 14.796875 27.296875 \nQ 14.796875 17.390625 18.875 11.75 \nQ 22.953125 6.109375 30.078125 6.109375 \nQ 37.203125 6.109375 41.296875 11.75 \nQ 45.40625 17.390625 45.40625 27.296875 \nQ 45.40625 37.203125 41.296875 42.84375 \nQ 37.203125 48.484375 30.078125 48.484375 \nQ 22.953125 48.484375 18.875 42.84375 \nQ 14.796875 37.203125 14.796875 27.296875 \nz\n\" id=\"DejaVuSans-100\"/>\n      <path d=\"M 50.984375 -16.609375 \nL 50.984375 -23.578125 \nL -0.984375 -23.578125 \nL -0.984375 -16.609375 \nz\n\" id=\"DejaVuSans-95\"/>\n      <path d=\"M 54.890625 54.6875 \nL 35.109375 28.078125 \nL 55.90625 0 \nL 45.3125 0 \nL 29.390625 21.484375 \nL 13.484375 0 \nL 2.875 0 \nL 24.125 28.609375 \nL 4.6875 54.6875 \nL 15.28125 54.6875 \nL 29.78125 35.203125 \nL 44.28125 54.6875 \nz\n\" id=\"DejaVuSans-120\"/>\n     </defs>\n     <g transform=\"translate(193.896094 183.024489)scale(0.1 -0.1)\">\n      <use xlink:href=\"#DejaVuSans-99\"/>\n      <use x=\"54.980469\" xlink:href=\"#DejaVuSans-114\"/>\n      <use x=\"93.84375\" xlink:href=\"#DejaVuSans-101\"/>\n      <use x=\"155.367188\" xlink:href=\"#DejaVuSans-97\"/>\n      <use x=\"216.646484\" xlink:href=\"#DejaVuSans-116\"/>\n      <use x=\"255.855469\" xlink:href=\"#DejaVuSans-101\"/>\n      <use x=\"317.378906\" xlink:href=\"#DejaVuSans-100\"/>\n      <use x=\"380.855469\" xlink:href=\"#DejaVuSans-95\"/>\n      <use x=\"430.855469\" xlink:href=\"#DejaVuSans-97\"/>\n      <use x=\"492.134766\" xlink:href=\"#DejaVuSans-116\"/>\n      <use x=\"531.34375\" xlink:href=\"#DejaVuSans-95\"/>\n      <use x=\"581.34375\" xlink:href=\"#DejaVuSans-120\"/>\n     </g>\n    </g>\n   </g>\n   <g id=\"matplotlib.axis_2\">\n    <g id=\"ytick_1\">\n     <g id=\"line2d_59\">\n      <defs>\n       <path d=\"M 0 0 \nL -3.5 0 \n\" id=\"meceac77f26\" style=\"stroke:#000000;stroke-width:0.8;\"/>\n      </defs>\n      <g>\n       <use style=\"stroke:#000000;stroke-width:0.8;\" x=\"58.523438\" xlink:href=\"#meceac77f26\" y=\"121.154489\"/>\n      </g>\n     </g>\n     <g id=\"text_12\">\n      <!-- 0 -->\n      <g transform=\"translate(45.160938 124.953707)scale(0.1 -0.1)\">\n       <use xlink:href=\"#DejaVuSans-48\"/>\n      </g>\n     </g>\n    </g>\n    <g id=\"ytick_2\">\n     <g id=\"line2d_60\">\n      <g>\n       <use style=\"stroke:#000000;stroke-width:0.8;\" x=\"58.523438\" xlink:href=\"#meceac77f26\" y=\"92.164692\"/>\n      </g>\n     </g>\n     <g id=\"text_13\">\n      <!-- 1000 -->\n      <g transform=\"translate(26.073438 95.963911)scale(0.1 -0.1)\">\n       <use xlink:href=\"#DejaVuSans-49\"/>\n       <use x=\"63.623047\" xlink:href=\"#DejaVuSans-48\"/>\n       <use x=\"127.246094\" xlink:href=\"#DejaVuSans-48\"/>\n       <use x=\"190.869141\" xlink:href=\"#DejaVuSans-48\"/>\n      </g>\n     </g>\n    </g>\n    <g id=\"ytick_3\">\n     <g id=\"line2d_61\">\n      <g>\n       <use style=\"stroke:#000000;stroke-width:0.8;\" x=\"58.523438\" xlink:href=\"#meceac77f26\" y=\"63.174895\"/>\n      </g>\n     </g>\n     <g id=\"text_14\">\n      <!-- 2000 -->\n      <g transform=\"translate(26.073438 66.974114)scale(0.1 -0.1)\">\n       <use xlink:href=\"#DejaVuSans-50\"/>\n       <use x=\"63.623047\" xlink:href=\"#DejaVuSans-48\"/>\n       <use x=\"127.246094\" xlink:href=\"#DejaVuSans-48\"/>\n       <use x=\"190.869141\" xlink:href=\"#DejaVuSans-48\"/>\n      </g>\n     </g>\n    </g>\n    <g id=\"ytick_4\">\n     <g id=\"line2d_62\">\n      <g>\n       <use style=\"stroke:#000000;stroke-width:0.8;\" x=\"58.523438\" xlink:href=\"#meceac77f26\" y=\"34.185098\"/>\n      </g>\n     </g>\n     <g id=\"text_15\">\n      <!-- 3000 -->\n      <g transform=\"translate(26.073438 37.984317)scale(0.1 -0.1)\">\n       <use xlink:href=\"#DejaVuSans-51\"/>\n       <use x=\"63.623047\" xlink:href=\"#DejaVuSans-48\"/>\n       <use x=\"127.246094\" xlink:href=\"#DejaVuSans-48\"/>\n       <use x=\"190.869141\" xlink:href=\"#DejaVuSans-48\"/>\n      </g>\n     </g>\n    </g>\n    <g id=\"text_16\">\n     <!-- Inbound Tweets -->\n     <defs>\n      <path d=\"M 9.8125 72.90625 \nL 19.671875 72.90625 \nL 19.671875 0 \nL 9.8125 0 \nz\n\" id=\"DejaVuSans-73\"/>\n      <path d=\"M 54.890625 33.015625 \nL 54.890625 0 \nL 45.90625 0 \nL 45.90625 32.71875 \nQ 45.90625 40.484375 42.875 44.328125 \nQ 39.84375 48.1875 33.796875 48.1875 \nQ 26.515625 48.1875 22.3125 43.546875 \nQ 18.109375 38.921875 18.109375 30.90625 \nL 18.109375 0 \nL 9.078125 0 \nL 9.078125 54.6875 \nL 18.109375 54.6875 \nL 18.109375 46.1875 \nQ 21.34375 51.125 25.703125 53.5625 \nQ 30.078125 56 35.796875 56 \nQ 45.21875 56 50.046875 50.171875 \nQ 54.890625 44.34375 54.890625 33.015625 \nz\n\" id=\"DejaVuSans-110\"/>\n      <path d=\"M 48.6875 27.296875 \nQ 48.6875 37.203125 44.609375 42.84375 \nQ 40.53125 48.484375 33.40625 48.484375 \nQ 26.265625 48.484375 22.1875 42.84375 \nQ 18.109375 37.203125 18.109375 27.296875 \nQ 18.109375 17.390625 22.1875 11.75 \nQ 26.265625 6.109375 33.40625 6.109375 \nQ 40.53125 6.109375 44.609375 11.75 \nQ 48.6875 17.390625 48.6875 27.296875 \nz\nM 18.109375 46.390625 \nQ 20.953125 51.265625 25.265625 53.625 \nQ 29.59375 56 35.59375 56 \nQ 45.5625 56 51.78125 48.09375 \nQ 58.015625 40.1875 58.015625 27.296875 \nQ 58.015625 14.40625 51.78125 6.484375 \nQ 45.5625 -1.421875 35.59375 -1.421875 \nQ 29.59375 -1.421875 25.265625 0.953125 \nQ 20.953125 3.328125 18.109375 8.203125 \nL 18.109375 0 \nL 9.078125 0 \nL 9.078125 75.984375 \nL 18.109375 75.984375 \nz\n\" id=\"DejaVuSans-98\"/>\n      <path d=\"M 8.5 21.578125 \nL 8.5 54.6875 \nL 17.484375 54.6875 \nL 17.484375 21.921875 \nQ 17.484375 14.15625 20.5 10.265625 \nQ 23.53125 6.390625 29.59375 6.390625 \nQ 36.859375 6.390625 41.078125 11.03125 \nQ 45.3125 15.671875 45.3125 23.6875 \nL 45.3125 54.6875 \nL 54.296875 54.6875 \nL 54.296875 0 \nL 45.3125 0 \nL 45.3125 8.40625 \nQ 42.046875 3.421875 37.71875 1 \nQ 33.40625 -1.421875 27.6875 -1.421875 \nQ 18.265625 -1.421875 13.375 4.4375 \nQ 8.5 10.296875 8.5 21.578125 \nz\nM 31.109375 56 \nz\n\" id=\"DejaVuSans-117\"/>\n      <path id=\"DejaVuSans-32\"/>\n      <path d=\"M -0.296875 72.90625 \nL 61.375 72.90625 \nL 61.375 64.59375 \nL 35.5 64.59375 \nL 35.5 0 \nL 25.59375 0 \nL 25.59375 64.59375 \nL -0.296875 64.59375 \nz\n\" id=\"DejaVuSans-84\"/>\n      <path d=\"M 4.203125 54.6875 \nL 13.1875 54.6875 \nL 24.421875 12.015625 \nL 35.59375 54.6875 \nL 46.1875 54.6875 \nL 57.421875 12.015625 \nL 68.609375 54.6875 \nL 77.59375 54.6875 \nL 63.28125 0 \nL 52.6875 0 \nL 40.921875 44.828125 \nL 29.109375 0 \nL 18.5 0 \nz\n\" id=\"DejaVuSans-119\"/>\n      <path d=\"M 44.28125 53.078125 \nL 44.28125 44.578125 \nQ 40.484375 46.53125 36.375 47.5 \nQ 32.28125 48.484375 27.875 48.484375 \nQ 21.1875 48.484375 17.84375 46.4375 \nQ 14.5 44.390625 14.5 40.28125 \nQ 14.5 37.15625 16.890625 35.375 \nQ 19.28125 33.59375 26.515625 31.984375 \nL 29.59375 31.296875 \nQ 39.15625 29.25 43.1875 25.515625 \nQ 47.21875 21.78125 47.21875 15.09375 \nQ 47.21875 7.46875 41.1875 3.015625 \nQ 35.15625 -1.421875 24.609375 -1.421875 \nQ 20.21875 -1.421875 15.453125 -0.5625 \nQ 10.6875 0.296875 5.421875 2 \nL 5.421875 11.28125 \nQ 10.40625 8.6875 15.234375 7.390625 \nQ 20.0625 6.109375 24.8125 6.109375 \nQ 31.15625 6.109375 34.5625 8.28125 \nQ 37.984375 10.453125 37.984375 14.40625 \nQ 37.984375 18.0625 35.515625 20.015625 \nQ 33.0625 21.96875 24.703125 23.78125 \nL 21.578125 24.515625 \nQ 13.234375 26.265625 9.515625 29.90625 \nQ 5.8125 33.546875 5.8125 39.890625 \nQ 5.8125 47.609375 11.28125 51.796875 \nQ 16.75 56 26.8125 56 \nQ 31.78125 56 36.171875 55.265625 \nQ 40.578125 54.546875 44.28125 53.078125 \nz\n\" id=\"DejaVuSans-115\"/>\n     </defs>\n     <g transform=\"translate(19.99375 110.750369)rotate(-90)scale(0.1 -0.1)\">\n      <use xlink:href=\"#DejaVuSans-73\"/>\n      <use x=\"29.492188\" xlink:href=\"#DejaVuSans-110\"/>\n      <use x=\"92.871094\" xlink:href=\"#DejaVuSans-98\"/>\n      <use x=\"156.347656\" xlink:href=\"#DejaVuSans-111\"/>\n      <use x=\"217.529297\" xlink:href=\"#DejaVuSans-117\"/>\n      <use x=\"280.908203\" xlink:href=\"#DejaVuSans-110\"/>\n      <use x=\"344.287109\" xlink:href=\"#DejaVuSans-100\"/>\n      <use x=\"407.763672\" xlink:href=\"#DejaVuSans-32\"/>\n      <use x=\"439.550781\" xlink:href=\"#DejaVuSans-84\"/>\n      <use x=\"484.134766\" xlink:href=\"#DejaVuSans-119\"/>\n      <use x=\"565.921875\" xlink:href=\"#DejaVuSans-101\"/>\n      <use x=\"627.445312\" xlink:href=\"#DejaVuSans-101\"/>\n      <use x=\"688.96875\" xlink:href=\"#DejaVuSans-116\"/>\n      <use x=\"728.177734\" xlink:href=\"#DejaVuSans-115\"/>\n     </g>\n    </g>\n   </g>\n   <g id=\"line2d_63\">\n    <path clip-path=\"url(#pe082579366)\" d=\"M 58.523437 86.105824 \nL 64.397122 90.425304 \nL 70.270806 85.35209 \nL 76.14449 85.091181 \nL 82.018174 89.52662 \nL 87.891859 90.802171 \nL 93.765543 92.36762 \nL 99.639227 97.759723 \nL 105.512911 97.063968 \nL 111.386595 92.599539 \nL 117.26028 91.237018 \nL 123.133964 87.352386 \nL 129.007648 88.077131 \nL 134.881332 90.628233 \nL 140.755016 96.194274 \nL 146.628701 96.77407 \nL 152.502385 88.048141 \nL 158.376069 86.65663 \nL 164.249753 92.39661 \nL 170.123437 88.13511 \nL 175.997122 85.3231 \nL 181.870806 100.020927 \nL 187.74449 100.803651 \nL 193.618174 96.948008 \nL 199.491859 90.889141 \nL 205.365543 79.728069 \nL 211.239227 64.682365 \nL 217.112911 44.157588 \nL 222.986595 48.071211 \nL 228.86028 40.997701 \nL 234.733964 30.155517 \nL 240.607648 27.024619 \nL 246.481332 41.14265 \nL 252.355016 96.832049 \nL 258.228701 102.572029 \nL 264.102385 82.337151 \nL 269.976069 79.930998 \nL 275.849753 81.119579 \nL 281.723437 78.278579 \nL 287.597122 77.205957 \nL 293.470806 82.800988 \nL 299.34449 89.468641 \nL 305.218174 119.762978 \nL 311.091859 99.151233 \nL 316.965543 93.208325 \nL 322.839227 91.555906 \nL 328.712911 92.686508 \nL 334.586595 98.948304 \nL 340.46028 99.991937 \nL 346.333964 100.513753 \nL 352.207648 101.615366 \nL 358.081332 96.861039 \nL 363.955016 96.194274 \nL 369.828701 91.903784 \nL 375.702385 93.382263 \nL 381.576069 94.107008 \nL 387.449753 81.293518 \nL 393.323437 95.382559 \n\" style=\"fill:none;stroke:#1f77b4;stroke-linecap:square;stroke-width:1.5;\"/>\n   </g>\n   <g id=\"patch_3\">\n    <path d=\"M 58.523438 121.154489 \nL 58.523438 22.318125 \n\" style=\"fill:none;stroke:#000000;stroke-linecap:square;stroke-linejoin:miter;stroke-width:0.8;\"/>\n   </g>\n   <g id=\"patch_4\">\n    <path d=\"M 393.323438 121.154489 \nL 393.323438 22.318125 \n\" style=\"fill:none;stroke:#000000;stroke-linecap:square;stroke-linejoin:miter;stroke-width:0.8;\"/>\n   </g>\n   <g id=\"patch_5\">\n    <path d=\"M 58.523437 121.154489 \nL 393.323437 121.154489 \n\" style=\"fill:none;stroke:#000000;stroke-linecap:square;stroke-linejoin:miter;stroke-width:0.8;\"/>\n   </g>\n   <g id=\"patch_6\">\n    <path d=\"M 58.523437 22.318125 \nL 393.323437 22.318125 \n\" style=\"fill:none;stroke:#000000;stroke-linecap:square;stroke-linejoin:miter;stroke-width:0.8;\"/>\n   </g>\n   <g id=\"text_17\">\n    <!-- @AppleSupport Volume &amp; Sentiment - Impact of the iPhone X -->\n    <defs>\n     <path d=\"M 37.203125 26.21875 \nQ 37.203125 19.234375 40.671875 15.25 \nQ 44.140625 11.28125 50.203125 11.28125 \nQ 56.203125 11.28125 59.640625 15.28125 \nQ 63.09375 19.28125 63.09375 26.21875 \nQ 63.09375 33.0625 59.578125 37.078125 \nQ 56.0625 41.109375 50.09375 41.109375 \nQ 44.1875 41.109375 40.6875 37.109375 \nQ 37.203125 33.109375 37.203125 26.21875 \nz\nM 63.8125 11.625 \nQ 60.890625 7.859375 57.109375 6.078125 \nQ 53.328125 4.296875 48.296875 4.296875 \nQ 39.890625 4.296875 34.640625 10.375 \nQ 29.390625 16.453125 29.390625 26.21875 \nQ 29.390625 35.984375 34.65625 42.078125 \nQ 39.9375 48.1875 48.296875 48.1875 \nQ 53.328125 48.1875 57.125 46.359375 \nQ 60.9375 44.53125 63.8125 40.828125 \nL 63.8125 47.21875 \nL 70.796875 47.21875 \nL 70.796875 11.28125 \nQ 77.9375 12.359375 81.953125 17.796875 \nQ 85.984375 23.25 85.984375 31.890625 \nQ 85.984375 37.109375 84.4375 41.703125 \nQ 82.90625 46.296875 79.78125 50.203125 \nQ 74.703125 56.59375 67.40625 59.984375 \nQ 60.109375 63.375 51.515625 63.375 \nQ 45.515625 63.375 39.984375 61.78125 \nQ 34.46875 60.203125 29.78125 57.078125 \nQ 22.125 52.09375 17.796875 44.015625 \nQ 13.484375 35.9375 13.484375 26.515625 \nQ 13.484375 18.75 16.28125 11.953125 \nQ 19.09375 5.171875 24.421875 0 \nQ 29.546875 -5.078125 36.28125 -7.734375 \nQ 43.015625 -10.40625 50.6875 -10.40625 \nQ 56.984375 -10.40625 63.0625 -8.28125 \nQ 69.140625 -6.15625 74.21875 -2.203125 \nL 78.609375 -7.625 \nQ 72.515625 -12.359375 65.3125 -14.875 \nQ 58.109375 -17.390625 50.6875 -17.390625 \nQ 41.65625 -17.390625 33.640625 -14.1875 \nQ 25.640625 -10.984375 19.390625 -4.890625 \nQ 13.140625 1.21875 9.859375 9.25 \nQ 6.59375 17.28125 6.59375 26.515625 \nQ 6.59375 35.40625 9.90625 43.453125 \nQ 13.234375 51.515625 19.390625 57.625 \nQ 25.6875 63.8125 33.9375 67.109375 \nQ 42.1875 70.40625 51.421875 70.40625 \nQ 61.765625 70.40625 70.625 66.15625 \nQ 79.5 61.921875 85.5 54.109375 \nQ 89.15625 49.3125 91.078125 43.703125 \nQ 93.015625 38.09375 93.015625 32.078125 \nQ 93.015625 19.234375 85.25 11.8125 \nQ 77.484375 4.390625 63.8125 4.109375 \nz\n\" id=\"DejaVuSans-64\"/>\n     <path d=\"M 34.1875 63.1875 \nL 20.796875 26.90625 \nL 47.609375 26.90625 \nz\nM 28.609375 72.90625 \nL 39.796875 72.90625 \nL 67.578125 0 \nL 57.328125 0 \nL 50.6875 18.703125 \nL 17.828125 18.703125 \nL 11.1875 0 \nL 0.78125 0 \nz\n\" id=\"DejaVuSans-65\"/>\n     <path d=\"M 18.109375 8.203125 \nL 18.109375 -20.796875 \nL 9.078125 -20.796875 \nL 9.078125 54.6875 \nL 18.109375 54.6875 \nL 18.109375 46.390625 \nQ 20.953125 51.265625 25.265625 53.625 \nQ 29.59375 56 35.59375 56 \nQ 45.5625 56 51.78125 48.09375 \nQ 58.015625 40.1875 58.015625 27.296875 \nQ 58.015625 14.40625 51.78125 6.484375 \nQ 45.5625 -1.421875 35.59375 -1.421875 \nQ 29.59375 -1.421875 25.265625 0.953125 \nQ 20.953125 3.328125 18.109375 8.203125 \nz\nM 48.6875 27.296875 \nQ 48.6875 37.203125 44.609375 42.84375 \nQ 40.53125 48.484375 33.40625 48.484375 \nQ 26.265625 48.484375 22.1875 42.84375 \nQ 18.109375 37.203125 18.109375 27.296875 \nQ 18.109375 17.390625 22.1875 11.75 \nQ 26.265625 6.109375 33.40625 6.109375 \nQ 40.53125 6.109375 44.609375 11.75 \nQ 48.6875 17.390625 48.6875 27.296875 \nz\n\" id=\"DejaVuSans-112\"/>\n     <path d=\"M 9.421875 75.984375 \nL 18.40625 75.984375 \nL 18.40625 0 \nL 9.421875 0 \nz\n\" id=\"DejaVuSans-108\"/>\n     <path d=\"M 53.515625 70.515625 \nL 53.515625 60.890625 \nQ 47.90625 63.578125 42.921875 64.890625 \nQ 37.9375 66.21875 33.296875 66.21875 \nQ 25.25 66.21875 20.875 63.09375 \nQ 16.5 59.96875 16.5 54.203125 \nQ 16.5 49.359375 19.40625 46.890625 \nQ 22.3125 44.4375 30.421875 42.921875 \nL 36.375 41.703125 \nQ 47.40625 39.59375 52.65625 34.296875 \nQ 57.90625 29 57.90625 20.125 \nQ 57.90625 9.515625 50.796875 4.046875 \nQ 43.703125 -1.421875 29.984375 -1.421875 \nQ 24.8125 -1.421875 18.96875 -0.25 \nQ 13.140625 0.921875 6.890625 3.21875 \nL 6.890625 13.375 \nQ 12.890625 10.015625 18.65625 8.296875 \nQ 24.421875 6.59375 29.984375 6.59375 \nQ 38.421875 6.59375 43.015625 9.90625 \nQ 47.609375 13.234375 47.609375 19.390625 \nQ 47.609375 24.75 44.3125 27.78125 \nQ 41.015625 30.8125 33.5 32.328125 \nL 27.484375 33.5 \nQ 16.453125 35.6875 11.515625 40.375 \nQ 6.59375 45.0625 6.59375 53.421875 \nQ 6.59375 63.09375 13.40625 68.65625 \nQ 20.21875 74.21875 32.171875 74.21875 \nQ 37.3125 74.21875 42.625 73.28125 \nQ 47.953125 72.359375 53.515625 70.515625 \nz\n\" id=\"DejaVuSans-83\"/>\n     <path d=\"M 28.609375 0 \nL 0.78125 72.90625 \nL 11.078125 72.90625 \nL 34.1875 11.53125 \nL 57.328125 72.90625 \nL 67.578125 72.90625 \nL 39.796875 0 \nz\n\" id=\"DejaVuSans-86\"/>\n     <path d=\"M 52 44.1875 \nQ 55.375 50.25 60.0625 53.125 \nQ 64.75 56 71.09375 56 \nQ 79.640625 56 84.28125 50.015625 \nQ 88.921875 44.046875 88.921875 33.015625 \nL 88.921875 0 \nL 79.890625 0 \nL 79.890625 32.71875 \nQ 79.890625 40.578125 77.09375 44.375 \nQ 74.3125 48.1875 68.609375 48.1875 \nQ 61.625 48.1875 57.5625 43.546875 \nQ 53.515625 38.921875 53.515625 30.90625 \nL 53.515625 0 \nL 44.484375 0 \nL 44.484375 32.71875 \nQ 44.484375 40.625 41.703125 44.40625 \nQ 38.921875 48.1875 33.109375 48.1875 \nQ 26.21875 48.1875 22.15625 43.53125 \nQ 18.109375 38.875 18.109375 30.90625 \nL 18.109375 0 \nL 9.078125 0 \nL 9.078125 54.6875 \nL 18.109375 54.6875 \nL 18.109375 46.1875 \nQ 21.1875 51.21875 25.484375 53.609375 \nQ 29.78125 56 35.6875 56 \nQ 41.65625 56 45.828125 52.96875 \nQ 50 49.953125 52 44.1875 \nz\n\" id=\"DejaVuSans-109\"/>\n     <path d=\"M 24.3125 39.203125 \nQ 19.875 35.25 17.796875 31.3125 \nQ 15.71875 27.390625 15.71875 23.09375 \nQ 15.71875 15.96875 20.890625 11.234375 \nQ 26.078125 6.5 33.890625 6.5 \nQ 38.53125 6.5 42.578125 8.03125 \nQ 46.625 9.578125 50.203125 12.703125 \nz\nM 31.203125 44.671875 \nL 56 19.28125 \nQ 58.890625 23.640625 60.5 28.59375 \nQ 62.109375 33.546875 62.40625 39.109375 \nL 71.484375 39.109375 \nQ 70.90625 32.671875 68.359375 26.359375 \nQ 65.828125 20.0625 61.28125 13.921875 \nL 74.90625 0 \nL 62.59375 0 \nL 55.609375 7.171875 \nQ 50.53125 2.828125 44.96875 0.703125 \nQ 39.40625 -1.421875 33.015625 -1.421875 \nQ 21.234375 -1.421875 13.765625 5.296875 \nQ 6.296875 12.015625 6.296875 22.515625 \nQ 6.296875 28.765625 9.5625 34.25 \nQ 12.84375 39.75 19.390625 44.578125 \nQ 17.046875 47.65625 15.8125 50.703125 \nQ 14.59375 53.765625 14.59375 56.6875 \nQ 14.59375 64.59375 20.015625 69.40625 \nQ 25.4375 74.21875 34.421875 74.21875 \nQ 38.484375 74.21875 42.5 73.34375 \nQ 46.53125 72.46875 50.6875 70.703125 \nL 50.6875 61.8125 \nQ 46.4375 64.109375 42.578125 65.296875 \nQ 38.71875 66.5 35.40625 66.5 \nQ 30.28125 66.5 27.078125 63.78125 \nQ 23.875 61.078125 23.875 56.78125 \nQ 23.875 54.296875 25.3125 51.78125 \nQ 26.765625 49.265625 31.203125 44.671875 \nz\n\" id=\"DejaVuSans-38\"/>\n     <path d=\"M 9.421875 54.6875 \nL 18.40625 54.6875 \nL 18.40625 0 \nL 9.421875 0 \nz\nM 9.421875 75.984375 \nL 18.40625 75.984375 \nL 18.40625 64.59375 \nL 9.421875 64.59375 \nz\n\" id=\"DejaVuSans-105\"/>\n     <path d=\"M 4.890625 31.390625 \nL 31.203125 31.390625 \nL 31.203125 23.390625 \nL 4.890625 23.390625 \nz\n\" id=\"DejaVuSans-45\"/>\n     <path d=\"M 37.109375 75.984375 \nL 37.109375 68.5 \nL 28.515625 68.5 \nQ 23.6875 68.5 21.796875 66.546875 \nQ 19.921875 64.59375 19.921875 59.515625 \nL 19.921875 54.6875 \nL 34.71875 54.6875 \nL 34.71875 47.703125 \nL 19.921875 47.703125 \nL 19.921875 0 \nL 10.890625 0 \nL 10.890625 47.703125 \nL 2.296875 47.703125 \nL 2.296875 54.6875 \nL 10.890625 54.6875 \nL 10.890625 58.5 \nQ 10.890625 67.625 15.140625 71.796875 \nQ 19.390625 75.984375 28.609375 75.984375 \nz\n\" id=\"DejaVuSans-102\"/>\n     <path d=\"M 54.890625 33.015625 \nL 54.890625 0 \nL 45.90625 0 \nL 45.90625 32.71875 \nQ 45.90625 40.484375 42.875 44.328125 \nQ 39.84375 48.1875 33.796875 48.1875 \nQ 26.515625 48.1875 22.3125 43.546875 \nQ 18.109375 38.921875 18.109375 30.90625 \nL 18.109375 0 \nL 9.078125 0 \nL 9.078125 75.984375 \nL 18.109375 75.984375 \nL 18.109375 46.1875 \nQ 21.34375 51.125 25.703125 53.5625 \nQ 30.078125 56 35.796875 56 \nQ 45.21875 56 50.046875 50.171875 \nQ 54.890625 44.34375 54.890625 33.015625 \nz\n\" id=\"DejaVuSans-104\"/>\n     <path d=\"M 19.671875 64.796875 \nL 19.671875 37.40625 \nL 32.078125 37.40625 \nQ 38.96875 37.40625 42.71875 40.96875 \nQ 46.484375 44.53125 46.484375 51.125 \nQ 46.484375 57.671875 42.71875 61.234375 \nQ 38.96875 64.796875 32.078125 64.796875 \nz\nM 9.8125 72.90625 \nL 32.078125 72.90625 \nQ 44.34375 72.90625 50.609375 67.359375 \nQ 56.890625 61.8125 56.890625 51.125 \nQ 56.890625 40.328125 50.609375 34.8125 \nQ 44.34375 29.296875 32.078125 29.296875 \nL 19.671875 29.296875 \nL 19.671875 0 \nL 9.8125 0 \nz\n\" id=\"DejaVuSans-80\"/>\n     <path d=\"M 6.296875 72.90625 \nL 16.890625 72.90625 \nL 35.015625 45.796875 \nL 53.21875 72.90625 \nL 63.8125 72.90625 \nL 40.375 37.890625 \nL 65.375 0 \nL 54.78125 0 \nL 34.28125 31 \nL 13.625 0 \nL 2.984375 0 \nL 29 38.921875 \nz\n\" id=\"DejaVuSans-88\"/>\n    </defs>\n    <g transform=\"translate(41.042813 16.318125)scale(0.12 -0.12)\">\n     <use xlink:href=\"#DejaVuSans-64\"/>\n     <use x=\"100\" xlink:href=\"#DejaVuSans-65\"/>\n     <use x=\"168.408203\" xlink:href=\"#DejaVuSans-112\"/>\n     <use x=\"231.884766\" xlink:href=\"#DejaVuSans-112\"/>\n     <use x=\"295.361328\" xlink:href=\"#DejaVuSans-108\"/>\n     <use x=\"323.144531\" xlink:href=\"#DejaVuSans-101\"/>\n     <use x=\"384.667969\" xlink:href=\"#DejaVuSans-83\"/>\n     <use x=\"448.144531\" xlink:href=\"#DejaVuSans-117\"/>\n     <use x=\"511.523438\" xlink:href=\"#DejaVuSans-112\"/>\n     <use x=\"575\" xlink:href=\"#DejaVuSans-112\"/>\n     <use x=\"638.476562\" xlink:href=\"#DejaVuSans-111\"/>\n     <use x=\"699.658203\" xlink:href=\"#DejaVuSans-114\"/>\n     <use x=\"740.771484\" xlink:href=\"#DejaVuSans-116\"/>\n     <use x=\"779.980469\" xlink:href=\"#DejaVuSans-32\"/>\n     <use x=\"811.767578\" xlink:href=\"#DejaVuSans-86\"/>\n     <use x=\"872.425781\" xlink:href=\"#DejaVuSans-111\"/>\n     <use x=\"933.607422\" xlink:href=\"#DejaVuSans-108\"/>\n     <use x=\"961.390625\" xlink:href=\"#DejaVuSans-117\"/>\n     <use x=\"1024.769531\" xlink:href=\"#DejaVuSans-109\"/>\n     <use x=\"1122.181641\" xlink:href=\"#DejaVuSans-101\"/>\n     <use x=\"1183.705078\" xlink:href=\"#DejaVuSans-32\"/>\n     <use x=\"1215.492188\" xlink:href=\"#DejaVuSans-38\"/>\n     <use x=\"1293.470703\" xlink:href=\"#DejaVuSans-32\"/>\n     <use x=\"1325.257812\" xlink:href=\"#DejaVuSans-83\"/>\n     <use x=\"1388.734375\" xlink:href=\"#DejaVuSans-101\"/>\n     <use x=\"1450.257812\" xlink:href=\"#DejaVuSans-110\"/>\n     <use x=\"1513.636719\" xlink:href=\"#DejaVuSans-116\"/>\n     <use x=\"1552.845703\" xlink:href=\"#DejaVuSans-105\"/>\n     <use x=\"1580.628906\" xlink:href=\"#DejaVuSans-109\"/>\n     <use x=\"1678.041016\" xlink:href=\"#DejaVuSans-101\"/>\n     <use x=\"1739.564453\" xlink:href=\"#DejaVuSans-110\"/>\n     <use x=\"1802.943359\" xlink:href=\"#DejaVuSans-116\"/>\n     <use x=\"1842.152344\" xlink:href=\"#DejaVuSans-32\"/>\n     <use x=\"1873.939453\" xlink:href=\"#DejaVuSans-45\"/>\n     <use x=\"1910.023438\" xlink:href=\"#DejaVuSans-32\"/>\n     <use x=\"1941.810547\" xlink:href=\"#DejaVuSans-73\"/>\n     <use x=\"1971.302734\" xlink:href=\"#DejaVuSans-109\"/>\n     <use x=\"2068.714844\" xlink:href=\"#DejaVuSans-112\"/>\n     <use x=\"2132.191406\" xlink:href=\"#DejaVuSans-97\"/>\n     <use x=\"2193.470703\" xlink:href=\"#DejaVuSans-99\"/>\n     <use x=\"2248.451172\" xlink:href=\"#DejaVuSans-116\"/>\n     <use x=\"2287.660156\" xlink:href=\"#DejaVuSans-32\"/>\n     <use x=\"2319.447266\" xlink:href=\"#DejaVuSans-111\"/>\n     <use x=\"2380.628906\" xlink:href=\"#DejaVuSans-102\"/>\n     <use x=\"2415.833984\" xlink:href=\"#DejaVuSans-32\"/>\n     <use x=\"2447.621094\" xlink:href=\"#DejaVuSans-116\"/>\n     <use x=\"2486.830078\" xlink:href=\"#DejaVuSans-104\"/>\n     <use x=\"2550.208984\" xlink:href=\"#DejaVuSans-101\"/>\n     <use x=\"2611.732422\" xlink:href=\"#DejaVuSans-32\"/>\n     <use x=\"2643.519531\" xlink:href=\"#DejaVuSans-105\"/>\n     <use x=\"2671.302734\" xlink:href=\"#DejaVuSans-80\"/>\n     <use x=\"2731.605469\" xlink:href=\"#DejaVuSans-104\"/>\n     <use x=\"2794.984375\" xlink:href=\"#DejaVuSans-111\"/>\n     <use x=\"2856.166016\" xlink:href=\"#DejaVuSans-110\"/>\n     <use x=\"2919.544922\" xlink:href=\"#DejaVuSans-101\"/>\n     <use x=\"2981.068359\" xlink:href=\"#DejaVuSans-32\"/>\n     <use x=\"3012.855469\" xlink:href=\"#DejaVuSans-88\"/>\n    </g>\n   </g>\n  </g>\n  <g id=\"axes_2\">\n   <g id=\"patch_7\">\n    <path d=\"M 58.523438 239.758125 \nL 393.323438 239.758125 \nL 393.323438 140.921761 \nL 58.523438 140.921761 \nz\n\" style=\"fill:#ffffff;\"/>\n   </g>\n   <g id=\"matplotlib.axis_3\">\n    <g id=\"xtick_59\">\n     <g id=\"line2d_64\">\n      <g>\n       <use style=\"stroke:#000000;stroke-width:0.8;\" x=\"58.523437\" xlink:href=\"#m8d3150d198\" y=\"239.758125\"/>\n      </g>\n     </g>\n    </g>\n    <g id=\"xtick_60\">\n     <g id=\"line2d_65\">\n      <g>\n       <use style=\"stroke:#000000;stroke-width:0.8;\" x=\"205.365543\" xlink:href=\"#m8d3150d198\" y=\"239.758125\"/>\n      </g>\n     </g>\n     <g id=\"text_18\">\n      <!--  -->\n      <g transform=\"translate(205.365543 254.356563)scale(0.1 -0.1)\"/>\n      <!--  -->\n      <g transform=\"translate(205.365543 265.554375)scale(0.1 -0.1)\"/>\n      <!-- Nov -->\n      <g transform=\"translate(195.606168 276.752188)scale(0.1 -0.1)\">\n       <use xlink:href=\"#DejaVuSans-78\"/>\n       <use x=\"74.804688\" xlink:href=\"#DejaVuSans-111\"/>\n       <use x=\"135.986328\" xlink:href=\"#DejaVuSans-118\"/>\n      </g>\n      <!-- 2017 -->\n      <g transform=\"translate(192.640543 287.95)scale(0.1 -0.1)\">\n       <use xlink:href=\"#DejaVuSans-50\"/>\n       <use x=\"63.623047\" xlink:href=\"#DejaVuSans-48\"/>\n       <use x=\"127.246094\" xlink:href=\"#DejaVuSans-49\"/>\n       <use x=\"190.869141\" xlink:href=\"#DejaVuSans-55\"/>\n      </g>\n     </g>\n    </g>\n    <g id=\"xtick_61\">\n     <g id=\"line2d_66\">\n      <g>\n       <use style=\"stroke:#000000;stroke-width:0.8;\" x=\"381.576069\" xlink:href=\"#m8d3150d198\" y=\"239.758125\"/>\n      </g>\n     </g>\n     <g id=\"text_19\">\n      <!--  -->\n      <g transform=\"translate(381.576069 254.356563)scale(0.1 -0.1)\"/>\n      <!--  -->\n      <g transform=\"translate(381.576069 265.554375)scale(0.1 -0.1)\"/>\n      <!-- Dec -->\n      <g transform=\"translate(371.900288 276.752188)scale(0.1 -0.1)\">\n       <use xlink:href=\"#DejaVuSans-68\"/>\n       <use x=\"77.001953\" xlink:href=\"#DejaVuSans-101\"/>\n       <use x=\"138.525391\" xlink:href=\"#DejaVuSans-99\"/>\n      </g>\n     </g>\n    </g>\n    <g id=\"xtick_62\">\n     <g id=\"line2d_67\">\n      <g>\n       <use style=\"stroke:#000000;stroke-width:0.8;\" x=\"393.323437\" xlink:href=\"#m8d3150d198\" y=\"239.758125\"/>\n      </g>\n     </g>\n    </g>\n    <g id=\"xtick_63\">\n     <g id=\"line2d_68\">\n      <g>\n       <use style=\"stroke:#000000;stroke-width:0.6;\" x=\"64.397122\" xlink:href=\"#m1cdfdf1ed8\" y=\"239.758125\"/>\n      </g>\n     </g>\n    </g>\n    <g id=\"xtick_64\">\n     <g id=\"line2d_69\">\n      <g>\n       <use style=\"stroke:#000000;stroke-width:0.6;\" x=\"70.270806\" xlink:href=\"#m1cdfdf1ed8\" y=\"239.758125\"/>\n      </g>\n     </g>\n     <g id=\"text_20\">\n      <!-- 09 -->\n      <g transform=\"translate(63.908306 252.756563)scale(0.1 -0.1)\">\n       <use xlink:href=\"#DejaVuSans-48\"/>\n       <use x=\"63.623047\" xlink:href=\"#DejaVuSans-57\"/>\n      </g>\n     </g>\n    </g>\n    <g id=\"xtick_65\">\n     <g id=\"line2d_70\">\n      <g>\n       <use style=\"stroke:#000000;stroke-width:0.6;\" x=\"76.14449\" xlink:href=\"#m1cdfdf1ed8\" y=\"239.758125\"/>\n      </g>\n     </g>\n    </g>\n    <g id=\"xtick_66\">\n     <g id=\"line2d_71\">\n      <g>\n       <use style=\"stroke:#000000;stroke-width:0.6;\" x=\"82.018174\" xlink:href=\"#m1cdfdf1ed8\" y=\"239.758125\"/>\n      </g>\n     </g>\n    </g>\n    <g id=\"xtick_67\">\n     <g id=\"line2d_72\">\n      <g>\n       <use style=\"stroke:#000000;stroke-width:0.6;\" x=\"87.891859\" xlink:href=\"#m1cdfdf1ed8\" y=\"239.758125\"/>\n      </g>\n     </g>\n    </g>\n    <g id=\"xtick_68\">\n     <g id=\"line2d_73\">\n      <g>\n       <use style=\"stroke:#000000;stroke-width:0.6;\" x=\"93.765543\" xlink:href=\"#m1cdfdf1ed8\" y=\"239.758125\"/>\n      </g>\n     </g>\n    </g>\n    <g id=\"xtick_69\">\n     <g id=\"line2d_74\">\n      <g>\n       <use style=\"stroke:#000000;stroke-width:0.6;\" x=\"99.639227\" xlink:href=\"#m1cdfdf1ed8\" y=\"239.758125\"/>\n      </g>\n     </g>\n    </g>\n    <g id=\"xtick_70\">\n     <g id=\"line2d_75\">\n      <g>\n       <use style=\"stroke:#000000;stroke-width:0.6;\" x=\"105.512911\" xlink:href=\"#m1cdfdf1ed8\" y=\"239.758125\"/>\n      </g>\n     </g>\n    </g>\n    <g id=\"xtick_71\">\n     <g id=\"line2d_76\">\n      <g>\n       <use style=\"stroke:#000000;stroke-width:0.6;\" x=\"111.386595\" xlink:href=\"#m1cdfdf1ed8\" y=\"239.758125\"/>\n      </g>\n     </g>\n     <g id=\"text_21\">\n      <!-- 16 -->\n      <g transform=\"translate(105.024095 252.756563)scale(0.1 -0.1)\">\n       <use xlink:href=\"#DejaVuSans-49\"/>\n       <use x=\"63.623047\" xlink:href=\"#DejaVuSans-54\"/>\n      </g>\n     </g>\n    </g>\n    <g id=\"xtick_72\">\n     <g id=\"line2d_77\">\n      <g>\n       <use style=\"stroke:#000000;stroke-width:0.6;\" x=\"117.26028\" xlink:href=\"#m1cdfdf1ed8\" y=\"239.758125\"/>\n      </g>\n     </g>\n    </g>\n    <g id=\"xtick_73\">\n     <g id=\"line2d_78\">\n      <g>\n       <use style=\"stroke:#000000;stroke-width:0.6;\" x=\"123.133964\" xlink:href=\"#m1cdfdf1ed8\" y=\"239.758125\"/>\n      </g>\n     </g>\n    </g>\n    <g id=\"xtick_74\">\n     <g id=\"line2d_79\">\n      <g>\n       <use style=\"stroke:#000000;stroke-width:0.6;\" x=\"129.007648\" xlink:href=\"#m1cdfdf1ed8\" y=\"239.758125\"/>\n      </g>\n     </g>\n    </g>\n    <g id=\"xtick_75\">\n     <g id=\"line2d_80\">\n      <g>\n       <use style=\"stroke:#000000;stroke-width:0.6;\" x=\"134.881332\" xlink:href=\"#m1cdfdf1ed8\" y=\"239.758125\"/>\n      </g>\n     </g>\n    </g>\n    <g id=\"xtick_76\">\n     <g id=\"line2d_81\">\n      <g>\n       <use style=\"stroke:#000000;stroke-width:0.6;\" x=\"140.755016\" xlink:href=\"#m1cdfdf1ed8\" y=\"239.758125\"/>\n      </g>\n     </g>\n    </g>\n    <g id=\"xtick_77\">\n     <g id=\"line2d_82\">\n      <g>\n       <use style=\"stroke:#000000;stroke-width:0.6;\" x=\"146.628701\" xlink:href=\"#m1cdfdf1ed8\" y=\"239.758125\"/>\n      </g>\n     </g>\n    </g>\n    <g id=\"xtick_78\">\n     <g id=\"line2d_83\">\n      <g>\n       <use style=\"stroke:#000000;stroke-width:0.6;\" x=\"152.502385\" xlink:href=\"#m1cdfdf1ed8\" y=\"239.758125\"/>\n      </g>\n     </g>\n     <g id=\"text_22\">\n      <!-- 23 -->\n      <g transform=\"translate(146.139885 252.756563)scale(0.1 -0.1)\">\n       <use xlink:href=\"#DejaVuSans-50\"/>\n       <use x=\"63.623047\" xlink:href=\"#DejaVuSans-51\"/>\n      </g>\n     </g>\n    </g>\n    <g id=\"xtick_79\">\n     <g id=\"line2d_84\">\n      <g>\n       <use style=\"stroke:#000000;stroke-width:0.6;\" x=\"158.376069\" xlink:href=\"#m1cdfdf1ed8\" y=\"239.758125\"/>\n      </g>\n     </g>\n    </g>\n    <g id=\"xtick_80\">\n     <g id=\"line2d_85\">\n      <g>\n       <use style=\"stroke:#000000;stroke-width:0.6;\" x=\"164.249753\" xlink:href=\"#m1cdfdf1ed8\" y=\"239.758125\"/>\n      </g>\n     </g>\n    </g>\n    <g id=\"xtick_81\">\n     <g id=\"line2d_86\">\n      <g>\n       <use style=\"stroke:#000000;stroke-width:0.6;\" x=\"170.123437\" xlink:href=\"#m1cdfdf1ed8\" y=\"239.758125\"/>\n      </g>\n     </g>\n    </g>\n    <g id=\"xtick_82\">\n     <g id=\"line2d_87\">\n      <g>\n       <use style=\"stroke:#000000;stroke-width:0.6;\" x=\"175.997122\" xlink:href=\"#m1cdfdf1ed8\" y=\"239.758125\"/>\n      </g>\n     </g>\n    </g>\n    <g id=\"xtick_83\">\n     <g id=\"line2d_88\">\n      <g>\n       <use style=\"stroke:#000000;stroke-width:0.6;\" x=\"181.870806\" xlink:href=\"#m1cdfdf1ed8\" y=\"239.758125\"/>\n      </g>\n     </g>\n    </g>\n    <g id=\"xtick_84\">\n     <g id=\"line2d_89\">\n      <g>\n       <use style=\"stroke:#000000;stroke-width:0.6;\" x=\"187.74449\" xlink:href=\"#m1cdfdf1ed8\" y=\"239.758125\"/>\n      </g>\n     </g>\n    </g>\n    <g id=\"xtick_85\">\n     <g id=\"line2d_90\">\n      <g>\n       <use style=\"stroke:#000000;stroke-width:0.6;\" x=\"193.618174\" xlink:href=\"#m1cdfdf1ed8\" y=\"239.758125\"/>\n      </g>\n     </g>\n     <g id=\"text_23\">\n      <!-- 30 -->\n      <g transform=\"translate(187.255674 252.756563)scale(0.1 -0.1)\">\n       <use xlink:href=\"#DejaVuSans-51\"/>\n       <use x=\"63.623047\" xlink:href=\"#DejaVuSans-48\"/>\n      </g>\n     </g>\n    </g>\n    <g id=\"xtick_86\">\n     <g id=\"line2d_91\">\n      <g>\n       <use style=\"stroke:#000000;stroke-width:0.6;\" x=\"199.491859\" xlink:href=\"#m1cdfdf1ed8\" y=\"239.758125\"/>\n      </g>\n     </g>\n    </g>\n    <g id=\"xtick_87\">\n     <g id=\"line2d_92\">\n      <g>\n       <use style=\"stroke:#000000;stroke-width:0.6;\" x=\"211.239227\" xlink:href=\"#m1cdfdf1ed8\" y=\"239.758125\"/>\n      </g>\n     </g>\n    </g>\n    <g id=\"xtick_88\">\n     <g id=\"line2d_93\">\n      <g>\n       <use style=\"stroke:#000000;stroke-width:0.6;\" x=\"217.112911\" xlink:href=\"#m1cdfdf1ed8\" y=\"239.758125\"/>\n      </g>\n     </g>\n    </g>\n    <g id=\"xtick_89\">\n     <g id=\"line2d_94\">\n      <g>\n       <use style=\"stroke:#000000;stroke-width:0.6;\" x=\"222.986595\" xlink:href=\"#m1cdfdf1ed8\" y=\"239.758125\"/>\n      </g>\n     </g>\n    </g>\n    <g id=\"xtick_90\">\n     <g id=\"line2d_95\">\n      <g>\n       <use style=\"stroke:#000000;stroke-width:0.6;\" x=\"228.86028\" xlink:href=\"#m1cdfdf1ed8\" y=\"239.758125\"/>\n      </g>\n     </g>\n    </g>\n    <g id=\"xtick_91\">\n     <g id=\"line2d_96\">\n      <g>\n       <use style=\"stroke:#000000;stroke-width:0.6;\" x=\"234.733964\" xlink:href=\"#m1cdfdf1ed8\" y=\"239.758125\"/>\n      </g>\n     </g>\n     <g id=\"text_24\">\n      <!-- 06 -->\n      <g transform=\"translate(228.371464 252.756563)scale(0.1 -0.1)\">\n       <use xlink:href=\"#DejaVuSans-48\"/>\n       <use x=\"63.623047\" xlink:href=\"#DejaVuSans-54\"/>\n      </g>\n     </g>\n    </g>\n    <g id=\"xtick_92\">\n     <g id=\"line2d_97\">\n      <g>\n       <use style=\"stroke:#000000;stroke-width:0.6;\" x=\"240.607648\" xlink:href=\"#m1cdfdf1ed8\" y=\"239.758125\"/>\n      </g>\n     </g>\n    </g>\n    <g id=\"xtick_93\">\n     <g id=\"line2d_98\">\n      <g>\n       <use style=\"stroke:#000000;stroke-width:0.6;\" x=\"246.481332\" xlink:href=\"#m1cdfdf1ed8\" y=\"239.758125\"/>\n      </g>\n     </g>\n    </g>\n    <g id=\"xtick_94\">\n     <g id=\"line2d_99\">\n      <g>\n       <use style=\"stroke:#000000;stroke-width:0.6;\" x=\"252.355016\" xlink:href=\"#m1cdfdf1ed8\" y=\"239.758125\"/>\n      </g>\n     </g>\n    </g>\n    <g id=\"xtick_95\">\n     <g id=\"line2d_100\">\n      <g>\n       <use style=\"stroke:#000000;stroke-width:0.6;\" x=\"258.228701\" xlink:href=\"#m1cdfdf1ed8\" y=\"239.758125\"/>\n      </g>\n     </g>\n    </g>\n    <g id=\"xtick_96\">\n     <g id=\"line2d_101\">\n      <g>\n       <use style=\"stroke:#000000;stroke-width:0.6;\" x=\"264.102385\" xlink:href=\"#m1cdfdf1ed8\" y=\"239.758125\"/>\n      </g>\n     </g>\n    </g>\n    <g id=\"xtick_97\">\n     <g id=\"line2d_102\">\n      <g>\n       <use style=\"stroke:#000000;stroke-width:0.6;\" x=\"269.976069\" xlink:href=\"#m1cdfdf1ed8\" y=\"239.758125\"/>\n      </g>\n     </g>\n    </g>\n    <g id=\"xtick_98\">\n     <g id=\"line2d_103\">\n      <g>\n       <use style=\"stroke:#000000;stroke-width:0.6;\" x=\"275.849753\" xlink:href=\"#m1cdfdf1ed8\" y=\"239.758125\"/>\n      </g>\n     </g>\n     <g id=\"text_25\">\n      <!-- 13 -->\n      <g transform=\"translate(269.487253 252.756563)scale(0.1 -0.1)\">\n       <use xlink:href=\"#DejaVuSans-49\"/>\n       <use x=\"63.623047\" xlink:href=\"#DejaVuSans-51\"/>\n      </g>\n     </g>\n    </g>\n    <g id=\"xtick_99\">\n     <g id=\"line2d_104\">\n      <g>\n       <use style=\"stroke:#000000;stroke-width:0.6;\" x=\"281.723437\" xlink:href=\"#m1cdfdf1ed8\" y=\"239.758125\"/>\n      </g>\n     </g>\n    </g>\n    <g id=\"xtick_100\">\n     <g id=\"line2d_105\">\n      <g>\n       <use style=\"stroke:#000000;stroke-width:0.6;\" x=\"287.597122\" xlink:href=\"#m1cdfdf1ed8\" y=\"239.758125\"/>\n      </g>\n     </g>\n    </g>\n    <g id=\"xtick_101\">\n     <g id=\"line2d_106\">\n      <g>\n       <use style=\"stroke:#000000;stroke-width:0.6;\" x=\"293.470806\" xlink:href=\"#m1cdfdf1ed8\" y=\"239.758125\"/>\n      </g>\n     </g>\n    </g>\n    <g id=\"xtick_102\">\n     <g id=\"line2d_107\">\n      <g>\n       <use style=\"stroke:#000000;stroke-width:0.6;\" x=\"299.34449\" xlink:href=\"#m1cdfdf1ed8\" y=\"239.758125\"/>\n      </g>\n     </g>\n    </g>\n    <g id=\"xtick_103\">\n     <g id=\"line2d_108\">\n      <g>\n       <use style=\"stroke:#000000;stroke-width:0.6;\" x=\"305.218174\" xlink:href=\"#m1cdfdf1ed8\" y=\"239.758125\"/>\n      </g>\n     </g>\n    </g>\n    <g id=\"xtick_104\">\n     <g id=\"line2d_109\">\n      <g>\n       <use style=\"stroke:#000000;stroke-width:0.6;\" x=\"311.091859\" xlink:href=\"#m1cdfdf1ed8\" y=\"239.758125\"/>\n      </g>\n     </g>\n    </g>\n    <g id=\"xtick_105\">\n     <g id=\"line2d_110\">\n      <g>\n       <use style=\"stroke:#000000;stroke-width:0.6;\" x=\"316.965543\" xlink:href=\"#m1cdfdf1ed8\" y=\"239.758125\"/>\n      </g>\n     </g>\n     <g id=\"text_26\">\n      <!-- 20 -->\n      <g transform=\"translate(310.603043 252.756563)scale(0.1 -0.1)\">\n       <use xlink:href=\"#DejaVuSans-50\"/>\n       <use x=\"63.623047\" xlink:href=\"#DejaVuSans-48\"/>\n      </g>\n     </g>\n    </g>\n    <g id=\"xtick_106\">\n     <g id=\"line2d_111\">\n      <g>\n       <use style=\"stroke:#000000;stroke-width:0.6;\" x=\"322.839227\" xlink:href=\"#m1cdfdf1ed8\" y=\"239.758125\"/>\n      </g>\n     </g>\n    </g>\n    <g id=\"xtick_107\">\n     <g id=\"line2d_112\">\n      <g>\n       <use style=\"stroke:#000000;stroke-width:0.6;\" x=\"328.712911\" xlink:href=\"#m1cdfdf1ed8\" y=\"239.758125\"/>\n      </g>\n     </g>\n    </g>\n    <g id=\"xtick_108\">\n     <g id=\"line2d_113\">\n      <g>\n       <use style=\"stroke:#000000;stroke-width:0.6;\" x=\"334.586595\" xlink:href=\"#m1cdfdf1ed8\" y=\"239.758125\"/>\n      </g>\n     </g>\n    </g>\n    <g id=\"xtick_109\">\n     <g id=\"line2d_114\">\n      <g>\n       <use style=\"stroke:#000000;stroke-width:0.6;\" x=\"340.46028\" xlink:href=\"#m1cdfdf1ed8\" y=\"239.758125\"/>\n      </g>\n     </g>\n    </g>\n    <g id=\"xtick_110\">\n     <g id=\"line2d_115\">\n      <g>\n       <use style=\"stroke:#000000;stroke-width:0.6;\" x=\"346.333964\" xlink:href=\"#m1cdfdf1ed8\" y=\"239.758125\"/>\n      </g>\n     </g>\n    </g>\n    <g id=\"xtick_111\">\n     <g id=\"line2d_116\">\n      <g>\n       <use style=\"stroke:#000000;stroke-width:0.6;\" x=\"352.207648\" xlink:href=\"#m1cdfdf1ed8\" y=\"239.758125\"/>\n      </g>\n     </g>\n    </g>\n    <g id=\"xtick_112\">\n     <g id=\"line2d_117\">\n      <g>\n       <use style=\"stroke:#000000;stroke-width:0.6;\" x=\"358.081332\" xlink:href=\"#m1cdfdf1ed8\" y=\"239.758125\"/>\n      </g>\n     </g>\n     <g id=\"text_27\">\n      <!-- 27 -->\n      <g transform=\"translate(351.718832 252.756563)scale(0.1 -0.1)\">\n       <use xlink:href=\"#DejaVuSans-50\"/>\n       <use x=\"63.623047\" xlink:href=\"#DejaVuSans-55\"/>\n      </g>\n     </g>\n    </g>\n    <g id=\"xtick_113\">\n     <g id=\"line2d_118\">\n      <g>\n       <use style=\"stroke:#000000;stroke-width:0.6;\" x=\"363.955016\" xlink:href=\"#m1cdfdf1ed8\" y=\"239.758125\"/>\n      </g>\n     </g>\n    </g>\n    <g id=\"xtick_114\">\n     <g id=\"line2d_119\">\n      <g>\n       <use style=\"stroke:#000000;stroke-width:0.6;\" x=\"369.828701\" xlink:href=\"#m1cdfdf1ed8\" y=\"239.758125\"/>\n      </g>\n     </g>\n    </g>\n    <g id=\"xtick_115\">\n     <g id=\"line2d_120\">\n      <g>\n       <use style=\"stroke:#000000;stroke-width:0.6;\" x=\"375.702385\" xlink:href=\"#m1cdfdf1ed8\" y=\"239.758125\"/>\n      </g>\n     </g>\n    </g>\n    <g id=\"xtick_116\">\n     <g id=\"line2d_121\">\n      <g>\n       <use style=\"stroke:#000000;stroke-width:0.6;\" x=\"387.449753\" xlink:href=\"#m1cdfdf1ed8\" y=\"239.758125\"/>\n      </g>\n     </g>\n    </g>\n    <g id=\"text_28\">\n     <!-- created_at_x -->\n     <g transform=\"translate(193.896094 301.628125)scale(0.1 -0.1)\">\n      <use xlink:href=\"#DejaVuSans-99\"/>\n      <use x=\"54.980469\" xlink:href=\"#DejaVuSans-114\"/>\n      <use x=\"93.84375\" xlink:href=\"#DejaVuSans-101\"/>\n      <use x=\"155.367188\" xlink:href=\"#DejaVuSans-97\"/>\n      <use x=\"216.646484\" xlink:href=\"#DejaVuSans-116\"/>\n      <use x=\"255.855469\" xlink:href=\"#DejaVuSans-101\"/>\n      <use x=\"317.378906\" xlink:href=\"#DejaVuSans-100\"/>\n      <use x=\"380.855469\" xlink:href=\"#DejaVuSans-95\"/>\n      <use x=\"430.855469\" xlink:href=\"#DejaVuSans-97\"/>\n      <use x=\"492.134766\" xlink:href=\"#DejaVuSans-116\"/>\n      <use x=\"531.34375\" xlink:href=\"#DejaVuSans-95\"/>\n      <use x=\"581.34375\" xlink:href=\"#DejaVuSans-120\"/>\n     </g>\n    </g>\n   </g>\n   <g id=\"matplotlib.axis_4\">\n    <g id=\"ytick_5\">\n     <g id=\"line2d_122\">\n      <g>\n       <use style=\"stroke:#000000;stroke-width:0.8;\" x=\"58.523438\" xlink:href=\"#meceac77f26\" y=\"201.201975\"/>\n      </g>\n     </g>\n     <g id=\"text_29\">\n      <!-- −0.15 -->\n      <defs>\n       <path d=\"M 10.59375 35.5 \nL 73.1875 35.5 \nL 73.1875 27.203125 \nL 10.59375 27.203125 \nz\n\" id=\"DejaVuSans-8722\"/>\n       <path d=\"M 10.6875 12.40625 \nL 21 12.40625 \nL 21 0 \nL 10.6875 0 \nz\n\" id=\"DejaVuSans-46\"/>\n       <path d=\"M 10.796875 72.90625 \nL 49.515625 72.90625 \nL 49.515625 64.59375 \nL 19.828125 64.59375 \nL 19.828125 46.734375 \nQ 21.96875 47.46875 24.109375 47.828125 \nQ 26.265625 48.1875 28.421875 48.1875 \nQ 40.625 48.1875 47.75 41.5 \nQ 54.890625 34.8125 54.890625 23.390625 \nQ 54.890625 11.625 47.5625 5.09375 \nQ 40.234375 -1.421875 26.90625 -1.421875 \nQ 22.3125 -1.421875 17.546875 -0.640625 \nQ 12.796875 0.140625 7.71875 1.703125 \nL 7.71875 11.625 \nQ 12.109375 9.234375 16.796875 8.0625 \nQ 21.484375 6.890625 26.703125 6.890625 \nQ 35.15625 6.890625 40.078125 11.328125 \nQ 45.015625 15.765625 45.015625 23.390625 \nQ 45.015625 31 40.078125 35.4375 \nQ 35.15625 39.890625 26.703125 39.890625 \nQ 22.75 39.890625 18.8125 39.015625 \nQ 14.890625 38.140625 10.796875 36.28125 \nz\n\" id=\"DejaVuSans-53\"/>\n      </defs>\n      <g transform=\"translate(20.878125 205.001194)scale(0.1 -0.1)\">\n       <use xlink:href=\"#DejaVuSans-8722\"/>\n       <use x=\"83.789062\" xlink:href=\"#DejaVuSans-48\"/>\n       <use x=\"147.412109\" xlink:href=\"#DejaVuSans-46\"/>\n       <use x=\"179.199219\" xlink:href=\"#DejaVuSans-49\"/>\n       <use x=\"242.822266\" xlink:href=\"#DejaVuSans-53\"/>\n      </g>\n     </g>\n    </g>\n    <g id=\"ytick_6\">\n     <g id=\"line2d_123\">\n      <g>\n       <use style=\"stroke:#000000;stroke-width:0.8;\" x=\"58.523438\" xlink:href=\"#meceac77f26\" y=\"161.283113\"/>\n      </g>\n     </g>\n     <g id=\"text_30\">\n      <!-- −0.10 -->\n      <g transform=\"translate(20.878125 165.082332)scale(0.1 -0.1)\">\n       <use xlink:href=\"#DejaVuSans-8722\"/>\n       <use x=\"83.789062\" xlink:href=\"#DejaVuSans-48\"/>\n       <use x=\"147.412109\" xlink:href=\"#DejaVuSans-46\"/>\n       <use x=\"179.199219\" xlink:href=\"#DejaVuSans-49\"/>\n       <use x=\"242.822266\" xlink:href=\"#DejaVuSans-48\"/>\n      </g>\n     </g>\n    </g>\n    <g id=\"text_31\">\n     <!-- Customer Sentiment -->\n     <defs>\n      <path d=\"M 64.40625 67.28125 \nL 64.40625 56.890625 \nQ 59.421875 61.53125 53.78125 63.8125 \nQ 48.140625 66.109375 41.796875 66.109375 \nQ 29.296875 66.109375 22.65625 58.46875 \nQ 16.015625 50.828125 16.015625 36.375 \nQ 16.015625 21.96875 22.65625 14.328125 \nQ 29.296875 6.6875 41.796875 6.6875 \nQ 48.140625 6.6875 53.78125 8.984375 \nQ 59.421875 11.28125 64.40625 15.921875 \nL 64.40625 5.609375 \nQ 59.234375 2.09375 53.4375 0.328125 \nQ 47.65625 -1.421875 41.21875 -1.421875 \nQ 24.65625 -1.421875 15.125 8.703125 \nQ 5.609375 18.84375 5.609375 36.375 \nQ 5.609375 53.953125 15.125 64.078125 \nQ 24.65625 74.21875 41.21875 74.21875 \nQ 47.75 74.21875 53.53125 72.484375 \nQ 59.328125 70.75 64.40625 67.28125 \nz\n\" id=\"DejaVuSans-67\"/>\n     </defs>\n     <g transform=\"translate(14.798438 242.060256)rotate(-90)scale(0.1 -0.1)\">\n      <use xlink:href=\"#DejaVuSans-67\"/>\n      <use x=\"69.824219\" xlink:href=\"#DejaVuSans-117\"/>\n      <use x=\"133.203125\" xlink:href=\"#DejaVuSans-115\"/>\n      <use x=\"185.302734\" xlink:href=\"#DejaVuSans-116\"/>\n      <use x=\"224.511719\" xlink:href=\"#DejaVuSans-111\"/>\n      <use x=\"285.693359\" xlink:href=\"#DejaVuSans-109\"/>\n      <use x=\"383.105469\" xlink:href=\"#DejaVuSans-101\"/>\n      <use x=\"444.628906\" xlink:href=\"#DejaVuSans-114\"/>\n      <use x=\"485.742188\" xlink:href=\"#DejaVuSans-32\"/>\n      <use x=\"517.529297\" xlink:href=\"#DejaVuSans-83\"/>\n      <use x=\"581.005859\" xlink:href=\"#DejaVuSans-101\"/>\n      <use x=\"642.529297\" xlink:href=\"#DejaVuSans-110\"/>\n      <use x=\"705.908203\" xlink:href=\"#DejaVuSans-116\"/>\n      <use x=\"745.117188\" xlink:href=\"#DejaVuSans-105\"/>\n      <use x=\"772.900391\" xlink:href=\"#DejaVuSans-109\"/>\n      <use x=\"870.3125\" xlink:href=\"#DejaVuSans-101\"/>\n      <use x=\"931.835938\" xlink:href=\"#DejaVuSans-110\"/>\n      <use x=\"995.214844\" xlink:href=\"#DejaVuSans-116\"/>\n     </g>\n    </g>\n   </g>\n   <g id=\"line2d_124\">\n    <path clip-path=\"url(#p44207a5f8b)\" d=\"M 58.523437 191.699239 \nL 64.397122 181.981269 \nL 70.270806 191.319745 \nL 76.14449 184.175938 \nL 82.018174 187.268792 \nL 87.891859 198.510902 \nL 93.765543 179.050504 \nL 99.639227 176.560116 \nL 105.512911 186.424982 \nL 111.386595 194.01123 \nL 117.26028 182.321823 \nL 123.133964 195.32774 \nL 129.007648 198.138893 \nL 134.881332 210.867419 \nL 140.755016 202.981865 \nL 146.628701 197.15892 \nL 152.502385 185.715554 \nL 158.376069 188.657657 \nL 164.249753 188.720248 \nL 170.123437 183.560992 \nL 175.997122 165.990309 \nL 181.870806 172.678333 \nL 187.74449 177.553859 \nL 193.618174 171.780196 \nL 199.491859 187.621762 \nL 205.365543 180.539201 \nL 211.239227 204.064206 \nL 217.112911 197.814853 \nL 222.986595 201.788581 \nL 228.86028 222.885497 \nL 234.733964 220.432235 \nL 240.607648 217.076872 \nL 246.481332 229.438466 \nL 252.355016 235.265563 \nL 258.228701 189.777334 \nL 264.102385 213.563228 \nL 269.976069 202.008549 \nL 275.849753 199.671299 \nL 281.723437 194.45118 \nL 287.597122 191.229738 \nL 293.470806 191.403599 \nL 299.34449 205.410511 \nL 305.218174 168.559989 \nL 311.091859 179.202001 \nL 316.965543 164.764915 \nL 322.839227 187.294728 \nL 328.712911 179.724082 \nL 334.586595 170.934097 \nL 340.46028 167.524345 \nL 346.333964 185.96564 \nL 352.207648 170.031385 \nL 358.081332 177.249038 \nL 363.955016 169.017079 \nL 369.828701 154.017247 \nL 375.702385 145.414323 \nL 381.576069 172.525856 \nL 387.449753 174.629367 \nL 393.323437 162.213056 \n\" style=\"fill:none;stroke:#ff0000;stroke-linecap:square;stroke-width:1.5;\"/>\n   </g>\n   <g id=\"patch_8\">\n    <path d=\"M 58.523438 239.758125 \nL 58.523438 140.921761 \n\" style=\"fill:none;stroke:#000000;stroke-linecap:square;stroke-linejoin:miter;stroke-width:0.8;\"/>\n   </g>\n   <g id=\"patch_9\">\n    <path d=\"M 393.323438 239.758125 \nL 393.323438 140.921761 \n\" style=\"fill:none;stroke:#000000;stroke-linecap:square;stroke-linejoin:miter;stroke-width:0.8;\"/>\n   </g>\n   <g id=\"patch_10\">\n    <path d=\"M 58.523437 239.758125 \nL 393.323437 239.758125 \n\" style=\"fill:none;stroke:#000000;stroke-linecap:square;stroke-linejoin:miter;stroke-width:0.8;\"/>\n   </g>\n   <g id=\"patch_11\">\n    <path d=\"M 58.523437 140.921761 \nL 393.323437 140.921761 \n\" style=\"fill:none;stroke:#000000;stroke-linecap:square;stroke-linejoin:miter;stroke-width:0.8;\"/>\n   </g>\n  </g>\n </g>\n <defs>\n  <clipPath id=\"pe082579366\">\n   <rect height=\"98.836364\" width=\"334.8\" x=\"58.523438\" y=\"22.318125\"/>\n  </clipPath>\n  <clipPath id=\"p44207a5f8b\">\n   <rect height=\"98.836364\" width=\"334.8\" x=\"58.523438\" y=\"140.921761\"/>\n  </clipPath>\n </defs>\n</svg>\n"
          },
          "metadata": {
            "tags": [],
            "needs_background": "light"
          }
        }
      ]
    },
    {
      "cell_type": "markdown",
      "metadata": {
        "id": "46JzMmKOEebG"
      },
      "source": [
        "#### Amazon"
      ]
    },
    {
      "cell_type": "code",
      "metadata": {
        "id": "6AUjkVO3Em74"
      },
      "source": [
        "amazon_tweets = inbounds_and_outbounds \\\n",
        "    .loc[inbounds_and_outbounds.author_id_y == 'AmazonHelp'] \\\n",
        "    .loc[inbounds_and_outbounds.created_at_x > datetime(2017, 10, 1).replace(tzinfo=pytz.utc)]"
      ],
      "execution_count": null,
      "outputs": []
    },
    {
      "cell_type": "code",
      "metadata": {
        "colab": {
          "base_uri": "https://localhost:8080/",
          "height": 453
        },
        "id": "oFDyx31IH3D6",
        "outputId": "0a798541-96c1-477c-d410-55b21b2e9aed"
      },
      "source": [
        "plt.subplot(2, 1, 1)\n",
        "\n",
        "ax = amazon_tweets \\\n",
        "    .groupby(pd.Grouper(key='created_at_x', freq='24h')) \\\n",
        "    .count() \\\n",
        "    .tweet_id_x.sort_index() \\\n",
        "    .plot(title='@AmazonHelp Volume & Sentiment - Release of the Amazon Echo (2nd gen)', kind='area')\n",
        "ax.set_ylabel('Inbound Tweets')\n",
        "    \n",
        "\n",
        "plt.subplot(2, 1, 2)\n",
        "ax = amazon_tweets \\\n",
        "    .groupby(pd.Grouper(key='created_at_x', freq='24h')) \\\n",
        "    .inbound_sentiment.mean() \\\n",
        "    .sort_index() \\\n",
        "    .plot(color='red')\n",
        "ax.set_ylabel('Customer Sentiment')"
      ],
      "execution_count": null,
      "outputs": [
        {
          "output_type": "execute_result",
          "data": {
            "text/plain": [
              "Text(0, 0.5, 'Customer Sentiment')"
            ]
          },
          "metadata": {
            "tags": []
          },
          "execution_count": 138
        },
        {
          "output_type": "display_data",
          "data": {
            "text/plain": [
              "<Figure size 432x288 with 2 Axes>"
            ],
            "image/svg+xml": "<?xml version=\"1.0\" encoding=\"utf-8\" standalone=\"no\"?>\n<!DOCTYPE svg PUBLIC \"-//W3C//DTD SVG 1.1//EN\"\n  \"http://www.w3.org/Graphics/SVG/1.1/DTD/svg11.dtd\">\n<!-- Created with matplotlib (https://matplotlib.org/) -->\n<svg height=\"311.185938pt\" version=\"1.1\" viewBox=\"0 0 475.156875 311.185938\" width=\"475.156875pt\" xmlns=\"http://www.w3.org/2000/svg\" xmlns:xlink=\"http://www.w3.org/1999/xlink\">\n <defs>\n  <style type=\"text/css\">\n*{stroke-linecap:butt;stroke-linejoin:round;}\n  </style>\n </defs>\n <g id=\"figure_1\">\n  <g id=\"patch_1\">\n   <path d=\"M 0 311.185938 \nL 475.156875 311.185938 \nL 475.156875 0 \nL 0 0 \nz\n\" style=\"fill:none;\"/>\n  </g>\n  <g id=\"axes_1\">\n   <g id=\"patch_2\">\n    <path d=\"M 70.178437 121.154489 \nL 404.978437 121.154489 \nL 404.978437 22.318125 \nL 70.178437 22.318125 \nz\n\" style=\"fill:#ffffff;\"/>\n   </g>\n   <g id=\"PolyCollection_1\">\n    <defs>\n     <path d=\"M 70.178437 -190.832354 \nL 70.178437 -190.031449 \nL 75.492723 -190.031449 \nL 80.807009 -190.031449 \nL 86.121295 -190.031449 \nL 91.43558 -190.031449 \nL 96.749866 -190.031449 \nL 102.064152 -190.031449 \nL 107.378437 -190.031449 \nL 112.692723 -190.031449 \nL 118.007009 -190.031449 \nL 123.321295 -190.031449 \nL 128.63558 -190.031449 \nL 133.949866 -190.031449 \nL 139.264152 -190.031449 \nL 144.578437 -190.031449 \nL 149.892723 -190.031449 \nL 155.207009 -190.031449 \nL 160.521295 -190.031449 \nL 165.83558 -190.031449 \nL 171.149866 -190.031449 \nL 176.464152 -190.031449 \nL 181.778437 -190.031449 \nL 187.092723 -190.031449 \nL 192.407009 -190.031449 \nL 197.721295 -190.031449 \nL 203.03558 -190.031449 \nL 208.349866 -190.031449 \nL 213.664152 -190.031449 \nL 218.978438 -190.031449 \nL 224.292723 -190.031449 \nL 229.607009 -190.031449 \nL 234.921295 -190.031449 \nL 240.23558 -190.031449 \nL 245.549866 -190.031449 \nL 250.864152 -190.031449 \nL 256.178437 -190.031449 \nL 261.492723 -190.031449 \nL 266.807009 -190.031449 \nL 272.121295 -190.031449 \nL 277.43558 -190.031449 \nL 282.749866 -190.031449 \nL 288.064152 -190.031449 \nL 293.378437 -190.031449 \nL 298.692723 -190.031449 \nL 304.007009 -190.031449 \nL 309.321295 -190.031449 \nL 314.63558 -190.031449 \nL 319.949866 -190.031449 \nL 325.264152 -190.031449 \nL 330.578437 -190.031449 \nL 335.892723 -190.031449 \nL 341.207009 -190.031449 \nL 346.521295 -190.031449 \nL 351.83558 -190.031449 \nL 357.149866 -190.031449 \nL 362.464152 -190.031449 \nL 367.778437 -190.031449 \nL 373.092723 -190.031449 \nL 378.407009 -190.031449 \nL 383.721295 -190.031449 \nL 389.03558 -190.031449 \nL 394.349866 -190.031449 \nL 399.664152 -190.031449 \nL 404.978438 -190.031449 \nL 404.978438 -251.182886 \nL 404.978438 -251.182886 \nL 399.664152 -269.745033 \nL 394.349866 -284.161319 \nL 389.03558 -284.161319 \nL 383.721295 -283.831535 \nL 378.407009 -284.114207 \nL 373.092723 -279.450114 \nL 367.778437 -255.281634 \nL 362.464152 -259.050598 \nL 357.149866 -271.29973 \nL 351.83558 -258.296805 \nL 346.521295 -266.211629 \nL 341.207009 -262.819562 \nL 335.892723 -254.574953 \nL 330.578437 -231.113154 \nL 325.264152 -194.130197 \nL 319.949866 -258.155469 \nL 314.63558 -253.726937 \nL 309.321295 -256.836332 \nL 304.007009 -256.176763 \nL 298.692723 -251.842455 \nL 293.378437 -236.625263 \nL 288.064152 -231.207378 \nL 282.749866 -220.607167 \nL 277.43558 -220.795616 \nL 272.121295 -263.950251 \nL 266.807009 -263.526242 \nL 261.492723 -248.874396 \nL 256.178437 -239.07509 \nL 250.864152 -252.030903 \nL 245.549866 -267.907663 \nL 240.23558 -255.705643 \nL 234.921295 -246.000561 \nL 229.607009 -243.550734 \nL 224.292723 -245.435216 \nL 218.978438 -234.599445 \nL 213.664152 -248.827284 \nL 208.349866 -264.798268 \nL 203.03558 -259.427494 \nL 197.721295 -258.343917 \nL 192.407009 -256.977668 \nL 187.092723 -250.711766 \nL 181.778437 -235.494574 \nL 176.464152 -250.664653 \nL 171.149866 -255.846979 \nL 165.83558 -248.591723 \nL 160.521295 -267.719215 \nL 155.207009 -266.824086 \nL 149.892723 -255.328746 \nL 144.578437 -244.540087 \nL 139.264152 -254.95185 \nL 133.949866 -261.64176 \nL 128.63558 -268.425895 \nL 123.321295 -265.599172 \nL 118.007009 -270.121929 \nL 112.692723 -257.872797 \nL 107.378437 -246.754354 \nL 102.064152 -262.254217 \nL 96.749866 -269.179688 \nL 91.43558 -271.441066 \nL 86.121295 -232.055395 \nL 80.807009 -193.28218 \nL 75.492723 -191.915931 \nL 70.178437 -190.832354 \nz\n\" id=\"m459a6c3f8f\" style=\"stroke:#1f77b4;\"/>\n    </defs>\n    <g clip-path=\"url(#p1f76029145)\">\n     <use style=\"fill:#1f77b4;stroke:#1f77b4;\" x=\"0\" xlink:href=\"#m459a6c3f8f\" y=\"311.185938\"/>\n    </g>\n   </g>\n   <g id=\"matplotlib.axis_1\">\n    <g id=\"xtick_1\">\n     <g id=\"line2d_1\">\n      <defs>\n       <path d=\"M 0 0 \nL 0 3.5 \n\" id=\"mbf3f51d462\" style=\"stroke:#000000;stroke-width:0.8;\"/>\n      </defs>\n      <g>\n       <use style=\"stroke:#000000;stroke-width:0.8;\" x=\"70.178437\" xlink:href=\"#mbf3f51d462\" y=\"121.154489\"/>\n      </g>\n     </g>\n     <g id=\"text_1\">\n      <!--  -->\n      <g transform=\"translate(70.178437 135.752926)scale(0.1 -0.1)\"/>\n      <!--  -->\n      <g transform=\"translate(70.178437 146.950739)scale(0.1 -0.1)\"/>\n      <!-- Oct -->\n      <defs>\n       <path d=\"M 39.40625 66.21875 \nQ 28.65625 66.21875 22.328125 58.203125 \nQ 16.015625 50.203125 16.015625 36.375 \nQ 16.015625 22.609375 22.328125 14.59375 \nQ 28.65625 6.59375 39.40625 6.59375 \nQ 50.140625 6.59375 56.421875 14.59375 \nQ 62.703125 22.609375 62.703125 36.375 \nQ 62.703125 50.203125 56.421875 58.203125 \nQ 50.140625 66.21875 39.40625 66.21875 \nz\nM 39.40625 74.21875 \nQ 54.734375 74.21875 63.90625 63.9375 \nQ 73.09375 53.65625 73.09375 36.375 \nQ 73.09375 19.140625 63.90625 8.859375 \nQ 54.734375 -1.421875 39.40625 -1.421875 \nQ 24.03125 -1.421875 14.8125 8.828125 \nQ 5.609375 19.09375 5.609375 36.375 \nQ 5.609375 53.65625 14.8125 63.9375 \nQ 24.03125 74.21875 39.40625 74.21875 \nz\n\" id=\"DejaVuSans-79\"/>\n       <path d=\"M 48.78125 52.59375 \nL 48.78125 44.1875 \nQ 44.96875 46.296875 41.140625 47.34375 \nQ 37.3125 48.390625 33.40625 48.390625 \nQ 24.65625 48.390625 19.8125 42.84375 \nQ 14.984375 37.3125 14.984375 27.296875 \nQ 14.984375 17.28125 19.8125 11.734375 \nQ 24.65625 6.203125 33.40625 6.203125 \nQ 37.3125 6.203125 41.140625 7.25 \nQ 44.96875 8.296875 48.78125 10.40625 \nL 48.78125 2.09375 \nQ 45.015625 0.34375 40.984375 -0.53125 \nQ 36.96875 -1.421875 32.421875 -1.421875 \nQ 20.0625 -1.421875 12.78125 6.34375 \nQ 5.515625 14.109375 5.515625 27.296875 \nQ 5.515625 40.671875 12.859375 48.328125 \nQ 20.21875 56 33.015625 56 \nQ 37.15625 56 41.109375 55.140625 \nQ 45.0625 54.296875 48.78125 52.59375 \nz\n\" id=\"DejaVuSans-99\"/>\n       <path d=\"M 18.3125 70.21875 \nL 18.3125 54.6875 \nL 36.8125 54.6875 \nL 36.8125 47.703125 \nL 18.3125 47.703125 \nL 18.3125 18.015625 \nQ 18.3125 11.328125 20.140625 9.421875 \nQ 21.96875 7.515625 27.59375 7.515625 \nL 36.8125 7.515625 \nL 36.8125 0 \nL 27.59375 0 \nQ 17.1875 0 13.234375 3.875 \nQ 9.28125 7.765625 9.28125 18.015625 \nL 9.28125 47.703125 \nL 2.6875 47.703125 \nL 2.6875 54.6875 \nL 9.28125 54.6875 \nL 9.28125 70.21875 \nz\n\" id=\"DejaVuSans-116\"/>\n      </defs>\n      <g transform=\"translate(61.533125 158.148551)scale(0.1 -0.1)\">\n       <use xlink:href=\"#DejaVuSans-79\"/>\n       <use x=\"78.710938\" xlink:href=\"#DejaVuSans-99\"/>\n       <use x=\"133.691406\" xlink:href=\"#DejaVuSans-116\"/>\n      </g>\n      <!-- 2017 -->\n      <defs>\n       <path d=\"M 19.1875 8.296875 \nL 53.609375 8.296875 \nL 53.609375 0 \nL 7.328125 0 \nL 7.328125 8.296875 \nQ 12.9375 14.109375 22.625 23.890625 \nQ 32.328125 33.6875 34.8125 36.53125 \nQ 39.546875 41.84375 41.421875 45.53125 \nQ 43.3125 49.21875 43.3125 52.78125 \nQ 43.3125 58.59375 39.234375 62.25 \nQ 35.15625 65.921875 28.609375 65.921875 \nQ 23.96875 65.921875 18.8125 64.3125 \nQ 13.671875 62.703125 7.8125 59.421875 \nL 7.8125 69.390625 \nQ 13.765625 71.78125 18.9375 73 \nQ 24.125 74.21875 28.421875 74.21875 \nQ 39.75 74.21875 46.484375 68.546875 \nQ 53.21875 62.890625 53.21875 53.421875 \nQ 53.21875 48.921875 51.53125 44.890625 \nQ 49.859375 40.875 45.40625 35.40625 \nQ 44.1875 33.984375 37.640625 27.21875 \nQ 31.109375 20.453125 19.1875 8.296875 \nz\n\" id=\"DejaVuSans-50\"/>\n       <path d=\"M 31.78125 66.40625 \nQ 24.171875 66.40625 20.328125 58.90625 \nQ 16.5 51.421875 16.5 36.375 \nQ 16.5 21.390625 20.328125 13.890625 \nQ 24.171875 6.390625 31.78125 6.390625 \nQ 39.453125 6.390625 43.28125 13.890625 \nQ 47.125 21.390625 47.125 36.375 \nQ 47.125 51.421875 43.28125 58.90625 \nQ 39.453125 66.40625 31.78125 66.40625 \nz\nM 31.78125 74.21875 \nQ 44.046875 74.21875 50.515625 64.515625 \nQ 56.984375 54.828125 56.984375 36.375 \nQ 56.984375 17.96875 50.515625 8.265625 \nQ 44.046875 -1.421875 31.78125 -1.421875 \nQ 19.53125 -1.421875 13.0625 8.265625 \nQ 6.59375 17.96875 6.59375 36.375 \nQ 6.59375 54.828125 13.0625 64.515625 \nQ 19.53125 74.21875 31.78125 74.21875 \nz\n\" id=\"DejaVuSans-48\"/>\n       <path d=\"M 12.40625 8.296875 \nL 28.515625 8.296875 \nL 28.515625 63.921875 \nL 10.984375 60.40625 \nL 10.984375 69.390625 \nL 28.421875 72.90625 \nL 38.28125 72.90625 \nL 38.28125 8.296875 \nL 54.390625 8.296875 \nL 54.390625 0 \nL 12.40625 0 \nz\n\" id=\"DejaVuSans-49\"/>\n       <path d=\"M 8.203125 72.90625 \nL 55.078125 72.90625 \nL 55.078125 68.703125 \nL 28.609375 0 \nL 18.3125 0 \nL 43.21875 64.59375 \nL 8.203125 64.59375 \nz\n\" id=\"DejaVuSans-55\"/>\n      </defs>\n      <g transform=\"translate(57.453437 169.346364)scale(0.1 -0.1)\">\n       <use xlink:href=\"#DejaVuSans-50\"/>\n       <use x=\"63.623047\" xlink:href=\"#DejaVuSans-48\"/>\n       <use x=\"127.246094\" xlink:href=\"#DejaVuSans-49\"/>\n       <use x=\"190.869141\" xlink:href=\"#DejaVuSans-55\"/>\n      </g>\n     </g>\n    </g>\n    <g id=\"xtick_2\">\n     <g id=\"line2d_2\">\n      <g>\n       <use style=\"stroke:#000000;stroke-width:0.8;\" x=\"234.921295\" xlink:href=\"#mbf3f51d462\" y=\"121.154489\"/>\n      </g>\n     </g>\n     <g id=\"text_2\">\n      <!--  -->\n      <g transform=\"translate(234.921295 135.752926)scale(0.1 -0.1)\"/>\n      <!--  -->\n      <g transform=\"translate(234.921295 146.950739)scale(0.1 -0.1)\"/>\n      <!-- Nov -->\n      <defs>\n       <path d=\"M 9.8125 72.90625 \nL 23.09375 72.90625 \nL 55.421875 11.921875 \nL 55.421875 72.90625 \nL 64.984375 72.90625 \nL 64.984375 0 \nL 51.703125 0 \nL 19.390625 60.984375 \nL 19.390625 0 \nL 9.8125 0 \nz\n\" id=\"DejaVuSans-78\"/>\n       <path d=\"M 30.609375 48.390625 \nQ 23.390625 48.390625 19.1875 42.75 \nQ 14.984375 37.109375 14.984375 27.296875 \nQ 14.984375 17.484375 19.15625 11.84375 \nQ 23.34375 6.203125 30.609375 6.203125 \nQ 37.796875 6.203125 41.984375 11.859375 \nQ 46.1875 17.53125 46.1875 27.296875 \nQ 46.1875 37.015625 41.984375 42.703125 \nQ 37.796875 48.390625 30.609375 48.390625 \nz\nM 30.609375 56 \nQ 42.328125 56 49.015625 48.375 \nQ 55.71875 40.765625 55.71875 27.296875 \nQ 55.71875 13.875 49.015625 6.21875 \nQ 42.328125 -1.421875 30.609375 -1.421875 \nQ 18.84375 -1.421875 12.171875 6.21875 \nQ 5.515625 13.875 5.515625 27.296875 \nQ 5.515625 40.765625 12.171875 48.375 \nQ 18.84375 56 30.609375 56 \nz\n\" id=\"DejaVuSans-111\"/>\n       <path d=\"M 2.984375 54.6875 \nL 12.5 54.6875 \nL 29.59375 8.796875 \nL 46.6875 54.6875 \nL 56.203125 54.6875 \nL 35.6875 0 \nL 23.484375 0 \nz\n\" id=\"DejaVuSans-118\"/>\n      </defs>\n      <g transform=\"translate(225.16192 158.148551)scale(0.1 -0.1)\">\n       <use xlink:href=\"#DejaVuSans-78\"/>\n       <use x=\"74.804688\" xlink:href=\"#DejaVuSans-111\"/>\n       <use x=\"135.986328\" xlink:href=\"#DejaVuSans-118\"/>\n      </g>\n     </g>\n    </g>\n    <g id=\"xtick_3\">\n     <g id=\"line2d_3\">\n      <g>\n       <use style=\"stroke:#000000;stroke-width:0.8;\" x=\"394.349866\" xlink:href=\"#mbf3f51d462\" y=\"121.154489\"/>\n      </g>\n     </g>\n     <g id=\"text_3\">\n      <!--  -->\n      <g transform=\"translate(394.349866 135.752926)scale(0.1 -0.1)\"/>\n      <!--  -->\n      <g transform=\"translate(394.349866 146.950739)scale(0.1 -0.1)\"/>\n      <!-- Dec -->\n      <defs>\n       <path d=\"M 19.671875 64.796875 \nL 19.671875 8.109375 \nL 31.59375 8.109375 \nQ 46.6875 8.109375 53.6875 14.9375 \nQ 60.6875 21.78125 60.6875 36.53125 \nQ 60.6875 51.171875 53.6875 57.984375 \nQ 46.6875 64.796875 31.59375 64.796875 \nz\nM 9.8125 72.90625 \nL 30.078125 72.90625 \nQ 51.265625 72.90625 61.171875 64.09375 \nQ 71.09375 55.28125 71.09375 36.53125 \nQ 71.09375 17.671875 61.125 8.828125 \nQ 51.171875 0 30.078125 0 \nL 9.8125 0 \nz\n\" id=\"DejaVuSans-68\"/>\n       <path d=\"M 56.203125 29.59375 \nL 56.203125 25.203125 \nL 14.890625 25.203125 \nQ 15.484375 15.921875 20.484375 11.0625 \nQ 25.484375 6.203125 34.421875 6.203125 \nQ 39.59375 6.203125 44.453125 7.46875 \nQ 49.3125 8.734375 54.109375 11.28125 \nL 54.109375 2.78125 \nQ 49.265625 0.734375 44.1875 -0.34375 \nQ 39.109375 -1.421875 33.890625 -1.421875 \nQ 20.796875 -1.421875 13.15625 6.1875 \nQ 5.515625 13.8125 5.515625 26.8125 \nQ 5.515625 40.234375 12.765625 48.109375 \nQ 20.015625 56 32.328125 56 \nQ 43.359375 56 49.78125 48.890625 \nQ 56.203125 41.796875 56.203125 29.59375 \nz\nM 47.21875 32.234375 \nQ 47.125 39.59375 43.09375 43.984375 \nQ 39.0625 48.390625 32.421875 48.390625 \nQ 24.90625 48.390625 20.390625 44.140625 \nQ 15.875 39.890625 15.1875 32.171875 \nz\n\" id=\"DejaVuSans-101\"/>\n      </defs>\n      <g transform=\"translate(384.674085 158.148551)scale(0.1 -0.1)\">\n       <use xlink:href=\"#DejaVuSans-68\"/>\n       <use x=\"77.001953\" xlink:href=\"#DejaVuSans-101\"/>\n       <use x=\"138.525391\" xlink:href=\"#DejaVuSans-99\"/>\n      </g>\n     </g>\n    </g>\n    <g id=\"xtick_4\">\n     <g id=\"line2d_4\">\n      <g>\n       <use style=\"stroke:#000000;stroke-width:0.8;\" x=\"404.978438\" xlink:href=\"#mbf3f51d462\" y=\"121.154489\"/>\n      </g>\n     </g>\n    </g>\n    <g id=\"xtick_5\">\n     <g id=\"line2d_5\">\n      <defs>\n       <path d=\"M 0 0 \nL 0 2 \n\" id=\"me98301cb20\" style=\"stroke:#000000;stroke-width:0.6;\"/>\n      </defs>\n      <g>\n       <use style=\"stroke:#000000;stroke-width:0.6;\" x=\"75.492723\" xlink:href=\"#me98301cb20\" y=\"121.154489\"/>\n      </g>\n     </g>\n     <g id=\"text_4\">\n      <!-- 02 -->\n      <g transform=\"translate(69.130223 134.152926)scale(0.1 -0.1)\">\n       <use xlink:href=\"#DejaVuSans-48\"/>\n       <use x=\"63.623047\" xlink:href=\"#DejaVuSans-50\"/>\n      </g>\n     </g>\n    </g>\n    <g id=\"xtick_6\">\n     <g id=\"line2d_6\">\n      <g>\n       <use style=\"stroke:#000000;stroke-width:0.6;\" x=\"80.807009\" xlink:href=\"#me98301cb20\" y=\"121.154489\"/>\n      </g>\n     </g>\n    </g>\n    <g id=\"xtick_7\">\n     <g id=\"line2d_7\">\n      <g>\n       <use style=\"stroke:#000000;stroke-width:0.6;\" x=\"86.121295\" xlink:href=\"#me98301cb20\" y=\"121.154489\"/>\n      </g>\n     </g>\n    </g>\n    <g id=\"xtick_8\">\n     <g id=\"line2d_8\">\n      <g>\n       <use style=\"stroke:#000000;stroke-width:0.6;\" x=\"91.43558\" xlink:href=\"#me98301cb20\" y=\"121.154489\"/>\n      </g>\n     </g>\n    </g>\n    <g id=\"xtick_9\">\n     <g id=\"line2d_9\">\n      <g>\n       <use style=\"stroke:#000000;stroke-width:0.6;\" x=\"96.749866\" xlink:href=\"#me98301cb20\" y=\"121.154489\"/>\n      </g>\n     </g>\n    </g>\n    <g id=\"xtick_10\">\n     <g id=\"line2d_10\">\n      <g>\n       <use style=\"stroke:#000000;stroke-width:0.6;\" x=\"102.064152\" xlink:href=\"#me98301cb20\" y=\"121.154489\"/>\n      </g>\n     </g>\n    </g>\n    <g id=\"xtick_11\">\n     <g id=\"line2d_11\">\n      <g>\n       <use style=\"stroke:#000000;stroke-width:0.6;\" x=\"107.378437\" xlink:href=\"#me98301cb20\" y=\"121.154489\"/>\n      </g>\n     </g>\n    </g>\n    <g id=\"xtick_12\">\n     <g id=\"line2d_12\">\n      <g>\n       <use style=\"stroke:#000000;stroke-width:0.6;\" x=\"112.692723\" xlink:href=\"#me98301cb20\" y=\"121.154489\"/>\n      </g>\n     </g>\n     <g id=\"text_5\">\n      <!-- 09 -->\n      <defs>\n       <path d=\"M 10.984375 1.515625 \nL 10.984375 10.5 \nQ 14.703125 8.734375 18.5 7.8125 \nQ 22.3125 6.890625 25.984375 6.890625 \nQ 35.75 6.890625 40.890625 13.453125 \nQ 46.046875 20.015625 46.78125 33.40625 \nQ 43.953125 29.203125 39.59375 26.953125 \nQ 35.25 24.703125 29.984375 24.703125 \nQ 19.046875 24.703125 12.671875 31.3125 \nQ 6.296875 37.9375 6.296875 49.421875 \nQ 6.296875 60.640625 12.9375 67.421875 \nQ 19.578125 74.21875 30.609375 74.21875 \nQ 43.265625 74.21875 49.921875 64.515625 \nQ 56.59375 54.828125 56.59375 36.375 \nQ 56.59375 19.140625 48.40625 8.859375 \nQ 40.234375 -1.421875 26.421875 -1.421875 \nQ 22.703125 -1.421875 18.890625 -0.6875 \nQ 15.09375 0.046875 10.984375 1.515625 \nz\nM 30.609375 32.421875 \nQ 37.25 32.421875 41.125 36.953125 \nQ 45.015625 41.5 45.015625 49.421875 \nQ 45.015625 57.28125 41.125 61.84375 \nQ 37.25 66.40625 30.609375 66.40625 \nQ 23.96875 66.40625 20.09375 61.84375 \nQ 16.21875 57.28125 16.21875 49.421875 \nQ 16.21875 41.5 20.09375 36.953125 \nQ 23.96875 32.421875 30.609375 32.421875 \nz\n\" id=\"DejaVuSans-57\"/>\n      </defs>\n      <g transform=\"translate(106.330223 134.152926)scale(0.1 -0.1)\">\n       <use xlink:href=\"#DejaVuSans-48\"/>\n       <use x=\"63.623047\" xlink:href=\"#DejaVuSans-57\"/>\n      </g>\n     </g>\n    </g>\n    <g id=\"xtick_13\">\n     <g id=\"line2d_13\">\n      <g>\n       <use style=\"stroke:#000000;stroke-width:0.6;\" x=\"118.007009\" xlink:href=\"#me98301cb20\" y=\"121.154489\"/>\n      </g>\n     </g>\n    </g>\n    <g id=\"xtick_14\">\n     <g id=\"line2d_14\">\n      <g>\n       <use style=\"stroke:#000000;stroke-width:0.6;\" x=\"123.321295\" xlink:href=\"#me98301cb20\" y=\"121.154489\"/>\n      </g>\n     </g>\n    </g>\n    <g id=\"xtick_15\">\n     <g id=\"line2d_15\">\n      <g>\n       <use style=\"stroke:#000000;stroke-width:0.6;\" x=\"128.63558\" xlink:href=\"#me98301cb20\" y=\"121.154489\"/>\n      </g>\n     </g>\n    </g>\n    <g id=\"xtick_16\">\n     <g id=\"line2d_16\">\n      <g>\n       <use style=\"stroke:#000000;stroke-width:0.6;\" x=\"133.949866\" xlink:href=\"#me98301cb20\" y=\"121.154489\"/>\n      </g>\n     </g>\n    </g>\n    <g id=\"xtick_17\">\n     <g id=\"line2d_17\">\n      <g>\n       <use style=\"stroke:#000000;stroke-width:0.6;\" x=\"139.264152\" xlink:href=\"#me98301cb20\" y=\"121.154489\"/>\n      </g>\n     </g>\n    </g>\n    <g id=\"xtick_18\">\n     <g id=\"line2d_18\">\n      <g>\n       <use style=\"stroke:#000000;stroke-width:0.6;\" x=\"144.578437\" xlink:href=\"#me98301cb20\" y=\"121.154489\"/>\n      </g>\n     </g>\n    </g>\n    <g id=\"xtick_19\">\n     <g id=\"line2d_19\">\n      <g>\n       <use style=\"stroke:#000000;stroke-width:0.6;\" x=\"149.892723\" xlink:href=\"#me98301cb20\" y=\"121.154489\"/>\n      </g>\n     </g>\n     <g id=\"text_6\">\n      <!-- 16 -->\n      <defs>\n       <path d=\"M 33.015625 40.375 \nQ 26.375 40.375 22.484375 35.828125 \nQ 18.609375 31.296875 18.609375 23.390625 \nQ 18.609375 15.53125 22.484375 10.953125 \nQ 26.375 6.390625 33.015625 6.390625 \nQ 39.65625 6.390625 43.53125 10.953125 \nQ 47.40625 15.53125 47.40625 23.390625 \nQ 47.40625 31.296875 43.53125 35.828125 \nQ 39.65625 40.375 33.015625 40.375 \nz\nM 52.59375 71.296875 \nL 52.59375 62.3125 \nQ 48.875 64.0625 45.09375 64.984375 \nQ 41.3125 65.921875 37.59375 65.921875 \nQ 27.828125 65.921875 22.671875 59.328125 \nQ 17.53125 52.734375 16.796875 39.40625 \nQ 19.671875 43.65625 24.015625 45.921875 \nQ 28.375 48.1875 33.59375 48.1875 \nQ 44.578125 48.1875 50.953125 41.515625 \nQ 57.328125 34.859375 57.328125 23.390625 \nQ 57.328125 12.15625 50.6875 5.359375 \nQ 44.046875 -1.421875 33.015625 -1.421875 \nQ 20.359375 -1.421875 13.671875 8.265625 \nQ 6.984375 17.96875 6.984375 36.375 \nQ 6.984375 53.65625 15.1875 63.9375 \nQ 23.390625 74.21875 37.203125 74.21875 \nQ 40.921875 74.21875 44.703125 73.484375 \nQ 48.484375 72.75 52.59375 71.296875 \nz\n\" id=\"DejaVuSans-54\"/>\n      </defs>\n      <g transform=\"translate(143.530223 134.152926)scale(0.1 -0.1)\">\n       <use xlink:href=\"#DejaVuSans-49\"/>\n       <use x=\"63.623047\" xlink:href=\"#DejaVuSans-54\"/>\n      </g>\n     </g>\n    </g>\n    <g id=\"xtick_20\">\n     <g id=\"line2d_20\">\n      <g>\n       <use style=\"stroke:#000000;stroke-width:0.6;\" x=\"155.207009\" xlink:href=\"#me98301cb20\" y=\"121.154489\"/>\n      </g>\n     </g>\n    </g>\n    <g id=\"xtick_21\">\n     <g id=\"line2d_21\">\n      <g>\n       <use style=\"stroke:#000000;stroke-width:0.6;\" x=\"160.521295\" xlink:href=\"#me98301cb20\" y=\"121.154489\"/>\n      </g>\n     </g>\n    </g>\n    <g id=\"xtick_22\">\n     <g id=\"line2d_22\">\n      <g>\n       <use style=\"stroke:#000000;stroke-width:0.6;\" x=\"165.83558\" xlink:href=\"#me98301cb20\" y=\"121.154489\"/>\n      </g>\n     </g>\n    </g>\n    <g id=\"xtick_23\">\n     <g id=\"line2d_23\">\n      <g>\n       <use style=\"stroke:#000000;stroke-width:0.6;\" x=\"171.149866\" xlink:href=\"#me98301cb20\" y=\"121.154489\"/>\n      </g>\n     </g>\n    </g>\n    <g id=\"xtick_24\">\n     <g id=\"line2d_24\">\n      <g>\n       <use style=\"stroke:#000000;stroke-width:0.6;\" x=\"176.464152\" xlink:href=\"#me98301cb20\" y=\"121.154489\"/>\n      </g>\n     </g>\n    </g>\n    <g id=\"xtick_25\">\n     <g id=\"line2d_25\">\n      <g>\n       <use style=\"stroke:#000000;stroke-width:0.6;\" x=\"181.778437\" xlink:href=\"#me98301cb20\" y=\"121.154489\"/>\n      </g>\n     </g>\n    </g>\n    <g id=\"xtick_26\">\n     <g id=\"line2d_26\">\n      <g>\n       <use style=\"stroke:#000000;stroke-width:0.6;\" x=\"187.092723\" xlink:href=\"#me98301cb20\" y=\"121.154489\"/>\n      </g>\n     </g>\n     <g id=\"text_7\">\n      <!-- 23 -->\n      <defs>\n       <path d=\"M 40.578125 39.3125 \nQ 47.65625 37.796875 51.625 33 \nQ 55.609375 28.21875 55.609375 21.1875 \nQ 55.609375 10.40625 48.1875 4.484375 \nQ 40.765625 -1.421875 27.09375 -1.421875 \nQ 22.515625 -1.421875 17.65625 -0.515625 \nQ 12.796875 0.390625 7.625 2.203125 \nL 7.625 11.71875 \nQ 11.71875 9.328125 16.59375 8.109375 \nQ 21.484375 6.890625 26.8125 6.890625 \nQ 36.078125 6.890625 40.9375 10.546875 \nQ 45.796875 14.203125 45.796875 21.1875 \nQ 45.796875 27.640625 41.28125 31.265625 \nQ 36.765625 34.90625 28.71875 34.90625 \nL 20.21875 34.90625 \nL 20.21875 43.015625 \nL 29.109375 43.015625 \nQ 36.375 43.015625 40.234375 45.921875 \nQ 44.09375 48.828125 44.09375 54.296875 \nQ 44.09375 59.90625 40.109375 62.90625 \nQ 36.140625 65.921875 28.71875 65.921875 \nQ 24.65625 65.921875 20.015625 65.03125 \nQ 15.375 64.15625 9.8125 62.3125 \nL 9.8125 71.09375 \nQ 15.4375 72.65625 20.34375 73.4375 \nQ 25.25 74.21875 29.59375 74.21875 \nQ 40.828125 74.21875 47.359375 69.109375 \nQ 53.90625 64.015625 53.90625 55.328125 \nQ 53.90625 49.265625 50.4375 45.09375 \nQ 46.96875 40.921875 40.578125 39.3125 \nz\n\" id=\"DejaVuSans-51\"/>\n      </defs>\n      <g transform=\"translate(180.730223 134.152926)scale(0.1 -0.1)\">\n       <use xlink:href=\"#DejaVuSans-50\"/>\n       <use x=\"63.623047\" xlink:href=\"#DejaVuSans-51\"/>\n      </g>\n     </g>\n    </g>\n    <g id=\"xtick_27\">\n     <g id=\"line2d_27\">\n      <g>\n       <use style=\"stroke:#000000;stroke-width:0.6;\" x=\"192.407009\" xlink:href=\"#me98301cb20\" y=\"121.154489\"/>\n      </g>\n     </g>\n    </g>\n    <g id=\"xtick_28\">\n     <g id=\"line2d_28\">\n      <g>\n       <use style=\"stroke:#000000;stroke-width:0.6;\" x=\"197.721295\" xlink:href=\"#me98301cb20\" y=\"121.154489\"/>\n      </g>\n     </g>\n    </g>\n    <g id=\"xtick_29\">\n     <g id=\"line2d_29\">\n      <g>\n       <use style=\"stroke:#000000;stroke-width:0.6;\" x=\"203.03558\" xlink:href=\"#me98301cb20\" y=\"121.154489\"/>\n      </g>\n     </g>\n    </g>\n    <g id=\"xtick_30\">\n     <g id=\"line2d_30\">\n      <g>\n       <use style=\"stroke:#000000;stroke-width:0.6;\" x=\"208.349866\" xlink:href=\"#me98301cb20\" y=\"121.154489\"/>\n      </g>\n     </g>\n    </g>\n    <g id=\"xtick_31\">\n     <g id=\"line2d_31\">\n      <g>\n       <use style=\"stroke:#000000;stroke-width:0.6;\" x=\"213.664152\" xlink:href=\"#me98301cb20\" y=\"121.154489\"/>\n      </g>\n     </g>\n    </g>\n    <g id=\"xtick_32\">\n     <g id=\"line2d_32\">\n      <g>\n       <use style=\"stroke:#000000;stroke-width:0.6;\" x=\"218.978438\" xlink:href=\"#me98301cb20\" y=\"121.154489\"/>\n      </g>\n     </g>\n    </g>\n    <g id=\"xtick_33\">\n     <g id=\"line2d_33\">\n      <g>\n       <use style=\"stroke:#000000;stroke-width:0.6;\" x=\"224.292723\" xlink:href=\"#me98301cb20\" y=\"121.154489\"/>\n      </g>\n     </g>\n     <g id=\"text_8\">\n      <!-- 30 -->\n      <g transform=\"translate(217.930223 134.152926)scale(0.1 -0.1)\">\n       <use xlink:href=\"#DejaVuSans-51\"/>\n       <use x=\"63.623047\" xlink:href=\"#DejaVuSans-48\"/>\n      </g>\n     </g>\n    </g>\n    <g id=\"xtick_34\">\n     <g id=\"line2d_34\">\n      <g>\n       <use style=\"stroke:#000000;stroke-width:0.6;\" x=\"229.607009\" xlink:href=\"#me98301cb20\" y=\"121.154489\"/>\n      </g>\n     </g>\n    </g>\n    <g id=\"xtick_35\">\n     <g id=\"line2d_35\">\n      <g>\n       <use style=\"stroke:#000000;stroke-width:0.6;\" x=\"240.23558\" xlink:href=\"#me98301cb20\" y=\"121.154489\"/>\n      </g>\n     </g>\n    </g>\n    <g id=\"xtick_36\">\n     <g id=\"line2d_36\">\n      <g>\n       <use style=\"stroke:#000000;stroke-width:0.6;\" x=\"245.549866\" xlink:href=\"#me98301cb20\" y=\"121.154489\"/>\n      </g>\n     </g>\n    </g>\n    <g id=\"xtick_37\">\n     <g id=\"line2d_37\">\n      <g>\n       <use style=\"stroke:#000000;stroke-width:0.6;\" x=\"250.864152\" xlink:href=\"#me98301cb20\" y=\"121.154489\"/>\n      </g>\n     </g>\n    </g>\n    <g id=\"xtick_38\">\n     <g id=\"line2d_38\">\n      <g>\n       <use style=\"stroke:#000000;stroke-width:0.6;\" x=\"256.178437\" xlink:href=\"#me98301cb20\" y=\"121.154489\"/>\n      </g>\n     </g>\n    </g>\n    <g id=\"xtick_39\">\n     <g id=\"line2d_39\">\n      <g>\n       <use style=\"stroke:#000000;stroke-width:0.6;\" x=\"261.492723\" xlink:href=\"#me98301cb20\" y=\"121.154489\"/>\n      </g>\n     </g>\n     <g id=\"text_9\">\n      <!-- 06 -->\n      <g transform=\"translate(255.130223 134.152926)scale(0.1 -0.1)\">\n       <use xlink:href=\"#DejaVuSans-48\"/>\n       <use x=\"63.623047\" xlink:href=\"#DejaVuSans-54\"/>\n      </g>\n     </g>\n    </g>\n    <g id=\"xtick_40\">\n     <g id=\"line2d_40\">\n      <g>\n       <use style=\"stroke:#000000;stroke-width:0.6;\" x=\"266.807009\" xlink:href=\"#me98301cb20\" y=\"121.154489\"/>\n      </g>\n     </g>\n    </g>\n    <g id=\"xtick_41\">\n     <g id=\"line2d_41\">\n      <g>\n       <use style=\"stroke:#000000;stroke-width:0.6;\" x=\"272.121295\" xlink:href=\"#me98301cb20\" y=\"121.154489\"/>\n      </g>\n     </g>\n    </g>\n    <g id=\"xtick_42\">\n     <g id=\"line2d_42\">\n      <g>\n       <use style=\"stroke:#000000;stroke-width:0.6;\" x=\"277.43558\" xlink:href=\"#me98301cb20\" y=\"121.154489\"/>\n      </g>\n     </g>\n    </g>\n    <g id=\"xtick_43\">\n     <g id=\"line2d_43\">\n      <g>\n       <use style=\"stroke:#000000;stroke-width:0.6;\" x=\"282.749866\" xlink:href=\"#me98301cb20\" y=\"121.154489\"/>\n      </g>\n     </g>\n    </g>\n    <g id=\"xtick_44\">\n     <g id=\"line2d_44\">\n      <g>\n       <use style=\"stroke:#000000;stroke-width:0.6;\" x=\"288.064152\" xlink:href=\"#me98301cb20\" y=\"121.154489\"/>\n      </g>\n     </g>\n    </g>\n    <g id=\"xtick_45\">\n     <g id=\"line2d_45\">\n      <g>\n       <use style=\"stroke:#000000;stroke-width:0.6;\" x=\"293.378437\" xlink:href=\"#me98301cb20\" y=\"121.154489\"/>\n      </g>\n     </g>\n    </g>\n    <g id=\"xtick_46\">\n     <g id=\"line2d_46\">\n      <g>\n       <use style=\"stroke:#000000;stroke-width:0.6;\" x=\"298.692723\" xlink:href=\"#me98301cb20\" y=\"121.154489\"/>\n      </g>\n     </g>\n     <g id=\"text_10\">\n      <!-- 13 -->\n      <g transform=\"translate(292.330223 134.152926)scale(0.1 -0.1)\">\n       <use xlink:href=\"#DejaVuSans-49\"/>\n       <use x=\"63.623047\" xlink:href=\"#DejaVuSans-51\"/>\n      </g>\n     </g>\n    </g>\n    <g id=\"xtick_47\">\n     <g id=\"line2d_47\">\n      <g>\n       <use style=\"stroke:#000000;stroke-width:0.6;\" x=\"304.007009\" xlink:href=\"#me98301cb20\" y=\"121.154489\"/>\n      </g>\n     </g>\n    </g>\n    <g id=\"xtick_48\">\n     <g id=\"line2d_48\">\n      <g>\n       <use style=\"stroke:#000000;stroke-width:0.6;\" x=\"309.321295\" xlink:href=\"#me98301cb20\" y=\"121.154489\"/>\n      </g>\n     </g>\n    </g>\n    <g id=\"xtick_49\">\n     <g id=\"line2d_49\">\n      <g>\n       <use style=\"stroke:#000000;stroke-width:0.6;\" x=\"314.63558\" xlink:href=\"#me98301cb20\" y=\"121.154489\"/>\n      </g>\n     </g>\n    </g>\n    <g id=\"xtick_50\">\n     <g id=\"line2d_50\">\n      <g>\n       <use style=\"stroke:#000000;stroke-width:0.6;\" x=\"319.949866\" xlink:href=\"#me98301cb20\" y=\"121.154489\"/>\n      </g>\n     </g>\n    </g>\n    <g id=\"xtick_51\">\n     <g id=\"line2d_51\">\n      <g>\n       <use style=\"stroke:#000000;stroke-width:0.6;\" x=\"325.264152\" xlink:href=\"#me98301cb20\" y=\"121.154489\"/>\n      </g>\n     </g>\n    </g>\n    <g id=\"xtick_52\">\n     <g id=\"line2d_52\">\n      <g>\n       <use style=\"stroke:#000000;stroke-width:0.6;\" x=\"330.578437\" xlink:href=\"#me98301cb20\" y=\"121.154489\"/>\n      </g>\n     </g>\n    </g>\n    <g id=\"xtick_53\">\n     <g id=\"line2d_53\">\n      <g>\n       <use style=\"stroke:#000000;stroke-width:0.6;\" x=\"335.892723\" xlink:href=\"#me98301cb20\" y=\"121.154489\"/>\n      </g>\n     </g>\n     <g id=\"text_11\">\n      <!-- 20 -->\n      <g transform=\"translate(329.530223 134.152926)scale(0.1 -0.1)\">\n       <use xlink:href=\"#DejaVuSans-50\"/>\n       <use x=\"63.623047\" xlink:href=\"#DejaVuSans-48\"/>\n      </g>\n     </g>\n    </g>\n    <g id=\"xtick_54\">\n     <g id=\"line2d_54\">\n      <g>\n       <use style=\"stroke:#000000;stroke-width:0.6;\" x=\"341.207009\" xlink:href=\"#me98301cb20\" y=\"121.154489\"/>\n      </g>\n     </g>\n    </g>\n    <g id=\"xtick_55\">\n     <g id=\"line2d_55\">\n      <g>\n       <use style=\"stroke:#000000;stroke-width:0.6;\" x=\"346.521295\" xlink:href=\"#me98301cb20\" y=\"121.154489\"/>\n      </g>\n     </g>\n    </g>\n    <g id=\"xtick_56\">\n     <g id=\"line2d_56\">\n      <g>\n       <use style=\"stroke:#000000;stroke-width:0.6;\" x=\"351.83558\" xlink:href=\"#me98301cb20\" y=\"121.154489\"/>\n      </g>\n     </g>\n    </g>\n    <g id=\"xtick_57\">\n     <g id=\"line2d_57\">\n      <g>\n       <use style=\"stroke:#000000;stroke-width:0.6;\" x=\"357.149866\" xlink:href=\"#me98301cb20\" y=\"121.154489\"/>\n      </g>\n     </g>\n    </g>\n    <g id=\"xtick_58\">\n     <g id=\"line2d_58\">\n      <g>\n       <use style=\"stroke:#000000;stroke-width:0.6;\" x=\"362.464152\" xlink:href=\"#me98301cb20\" y=\"121.154489\"/>\n      </g>\n     </g>\n    </g>\n    <g id=\"xtick_59\">\n     <g id=\"line2d_59\">\n      <g>\n       <use style=\"stroke:#000000;stroke-width:0.6;\" x=\"367.778437\" xlink:href=\"#me98301cb20\" y=\"121.154489\"/>\n      </g>\n     </g>\n    </g>\n    <g id=\"xtick_60\">\n     <g id=\"line2d_60\">\n      <g>\n       <use style=\"stroke:#000000;stroke-width:0.6;\" x=\"373.092723\" xlink:href=\"#me98301cb20\" y=\"121.154489\"/>\n      </g>\n     </g>\n     <g id=\"text_12\">\n      <!-- 27 -->\n      <g transform=\"translate(366.730223 134.152926)scale(0.1 -0.1)\">\n       <use xlink:href=\"#DejaVuSans-50\"/>\n       <use x=\"63.623047\" xlink:href=\"#DejaVuSans-55\"/>\n      </g>\n     </g>\n    </g>\n    <g id=\"xtick_61\">\n     <g id=\"line2d_61\">\n      <g>\n       <use style=\"stroke:#000000;stroke-width:0.6;\" x=\"378.407009\" xlink:href=\"#me98301cb20\" y=\"121.154489\"/>\n      </g>\n     </g>\n    </g>\n    <g id=\"xtick_62\">\n     <g id=\"line2d_62\">\n      <g>\n       <use style=\"stroke:#000000;stroke-width:0.6;\" x=\"383.721295\" xlink:href=\"#me98301cb20\" y=\"121.154489\"/>\n      </g>\n     </g>\n    </g>\n    <g id=\"xtick_63\">\n     <g id=\"line2d_63\">\n      <g>\n       <use style=\"stroke:#000000;stroke-width:0.6;\" x=\"389.03558\" xlink:href=\"#me98301cb20\" y=\"121.154489\"/>\n      </g>\n     </g>\n    </g>\n    <g id=\"xtick_64\">\n     <g id=\"line2d_64\">\n      <g>\n       <use style=\"stroke:#000000;stroke-width:0.6;\" x=\"399.664152\" xlink:href=\"#me98301cb20\" y=\"121.154489\"/>\n      </g>\n     </g>\n    </g>\n    <g id=\"text_13\">\n     <!-- created_at_x -->\n     <defs>\n      <path d=\"M 41.109375 46.296875 \nQ 39.59375 47.171875 37.8125 47.578125 \nQ 36.03125 48 33.890625 48 \nQ 26.265625 48 22.1875 43.046875 \nQ 18.109375 38.09375 18.109375 28.8125 \nL 18.109375 0 \nL 9.078125 0 \nL 9.078125 54.6875 \nL 18.109375 54.6875 \nL 18.109375 46.1875 \nQ 20.953125 51.171875 25.484375 53.578125 \nQ 30.03125 56 36.53125 56 \nQ 37.453125 56 38.578125 55.875 \nQ 39.703125 55.765625 41.0625 55.515625 \nz\n\" id=\"DejaVuSans-114\"/>\n      <path d=\"M 34.28125 27.484375 \nQ 23.390625 27.484375 19.1875 25 \nQ 14.984375 22.515625 14.984375 16.5 \nQ 14.984375 11.71875 18.140625 8.90625 \nQ 21.296875 6.109375 26.703125 6.109375 \nQ 34.1875 6.109375 38.703125 11.40625 \nQ 43.21875 16.703125 43.21875 25.484375 \nL 43.21875 27.484375 \nz\nM 52.203125 31.203125 \nL 52.203125 0 \nL 43.21875 0 \nL 43.21875 8.296875 \nQ 40.140625 3.328125 35.546875 0.953125 \nQ 30.953125 -1.421875 24.3125 -1.421875 \nQ 15.921875 -1.421875 10.953125 3.296875 \nQ 6 8.015625 6 15.921875 \nQ 6 25.140625 12.171875 29.828125 \nQ 18.359375 34.515625 30.609375 34.515625 \nL 43.21875 34.515625 \nL 43.21875 35.40625 \nQ 43.21875 41.609375 39.140625 45 \nQ 35.0625 48.390625 27.6875 48.390625 \nQ 23 48.390625 18.546875 47.265625 \nQ 14.109375 46.140625 10.015625 43.890625 \nL 10.015625 52.203125 \nQ 14.9375 54.109375 19.578125 55.046875 \nQ 24.21875 56 28.609375 56 \nQ 40.484375 56 46.34375 49.84375 \nQ 52.203125 43.703125 52.203125 31.203125 \nz\n\" id=\"DejaVuSans-97\"/>\n      <path d=\"M 45.40625 46.390625 \nL 45.40625 75.984375 \nL 54.390625 75.984375 \nL 54.390625 0 \nL 45.40625 0 \nL 45.40625 8.203125 \nQ 42.578125 3.328125 38.25 0.953125 \nQ 33.9375 -1.421875 27.875 -1.421875 \nQ 17.96875 -1.421875 11.734375 6.484375 \nQ 5.515625 14.40625 5.515625 27.296875 \nQ 5.515625 40.1875 11.734375 48.09375 \nQ 17.96875 56 27.875 56 \nQ 33.9375 56 38.25 53.625 \nQ 42.578125 51.265625 45.40625 46.390625 \nz\nM 14.796875 27.296875 \nQ 14.796875 17.390625 18.875 11.75 \nQ 22.953125 6.109375 30.078125 6.109375 \nQ 37.203125 6.109375 41.296875 11.75 \nQ 45.40625 17.390625 45.40625 27.296875 \nQ 45.40625 37.203125 41.296875 42.84375 \nQ 37.203125 48.484375 30.078125 48.484375 \nQ 22.953125 48.484375 18.875 42.84375 \nQ 14.796875 37.203125 14.796875 27.296875 \nz\n\" id=\"DejaVuSans-100\"/>\n      <path d=\"M 50.984375 -16.609375 \nL 50.984375 -23.578125 \nL -0.984375 -23.578125 \nL -0.984375 -16.609375 \nz\n\" id=\"DejaVuSans-95\"/>\n      <path d=\"M 54.890625 54.6875 \nL 35.109375 28.078125 \nL 55.90625 0 \nL 45.3125 0 \nL 29.390625 21.484375 \nL 13.484375 0 \nL 2.875 0 \nL 24.125 28.609375 \nL 4.6875 54.6875 \nL 15.28125 54.6875 \nL 29.78125 35.203125 \nL 44.28125 54.6875 \nz\n\" id=\"DejaVuSans-120\"/>\n     </defs>\n     <g transform=\"translate(205.551094 183.024489)scale(0.1 -0.1)\">\n      <use xlink:href=\"#DejaVuSans-99\"/>\n      <use x=\"54.980469\" xlink:href=\"#DejaVuSans-114\"/>\n      <use x=\"93.84375\" xlink:href=\"#DejaVuSans-101\"/>\n      <use x=\"155.367188\" xlink:href=\"#DejaVuSans-97\"/>\n      <use x=\"216.646484\" xlink:href=\"#DejaVuSans-116\"/>\n      <use x=\"255.855469\" xlink:href=\"#DejaVuSans-101\"/>\n      <use x=\"317.378906\" xlink:href=\"#DejaVuSans-100\"/>\n      <use x=\"380.855469\" xlink:href=\"#DejaVuSans-95\"/>\n      <use x=\"430.855469\" xlink:href=\"#DejaVuSans-97\"/>\n      <use x=\"492.134766\" xlink:href=\"#DejaVuSans-116\"/>\n      <use x=\"531.34375\" xlink:href=\"#DejaVuSans-95\"/>\n      <use x=\"581.34375\" xlink:href=\"#DejaVuSans-120\"/>\n     </g>\n    </g>\n   </g>\n   <g id=\"matplotlib.axis_2\">\n    <g id=\"ytick_1\">\n     <g id=\"line2d_65\">\n      <defs>\n       <path d=\"M 0 0 \nL -3.5 0 \n\" id=\"ma80adabd8d\" style=\"stroke:#000000;stroke-width:0.8;\"/>\n      </defs>\n      <g>\n       <use style=\"stroke:#000000;stroke-width:0.8;\" x=\"70.178437\" xlink:href=\"#ma80adabd8d\" y=\"121.154489\"/>\n      </g>\n     </g>\n     <g id=\"text_14\">\n      <!-- 0 -->\n      <g transform=\"translate(56.815937 124.953707)scale(0.1 -0.1)\">\n       <use xlink:href=\"#DejaVuSans-48\"/>\n      </g>\n     </g>\n    </g>\n    <g id=\"ytick_2\">\n     <g id=\"line2d_66\">\n      <g>\n       <use style=\"stroke:#000000;stroke-width:0.8;\" x=\"70.178437\" xlink:href=\"#ma80adabd8d\" y=\"74.042442\"/>\n      </g>\n     </g>\n     <g id=\"text_15\">\n      <!-- 1000 -->\n      <g transform=\"translate(37.728437 77.84166)scale(0.1 -0.1)\">\n       <use xlink:href=\"#DejaVuSans-49\"/>\n       <use x=\"63.623047\" xlink:href=\"#DejaVuSans-48\"/>\n       <use x=\"127.246094\" xlink:href=\"#DejaVuSans-48\"/>\n       <use x=\"190.869141\" xlink:href=\"#DejaVuSans-48\"/>\n      </g>\n     </g>\n    </g>\n    <g id=\"ytick_3\">\n     <g id=\"line2d_67\">\n      <g>\n       <use style=\"stroke:#000000;stroke-width:0.8;\" x=\"70.178437\" xlink:href=\"#ma80adabd8d\" y=\"26.930394\"/>\n      </g>\n     </g>\n     <g id=\"text_16\">\n      <!-- 2000 -->\n      <g transform=\"translate(37.728437 30.729613)scale(0.1 -0.1)\">\n       <use xlink:href=\"#DejaVuSans-50\"/>\n       <use x=\"63.623047\" xlink:href=\"#DejaVuSans-48\"/>\n       <use x=\"127.246094\" xlink:href=\"#DejaVuSans-48\"/>\n       <use x=\"190.869141\" xlink:href=\"#DejaVuSans-48\"/>\n      </g>\n     </g>\n    </g>\n    <g id=\"text_17\">\n     <!-- Inbound Tweets -->\n     <defs>\n      <path d=\"M 9.8125 72.90625 \nL 19.671875 72.90625 \nL 19.671875 0 \nL 9.8125 0 \nz\n\" id=\"DejaVuSans-73\"/>\n      <path d=\"M 54.890625 33.015625 \nL 54.890625 0 \nL 45.90625 0 \nL 45.90625 32.71875 \nQ 45.90625 40.484375 42.875 44.328125 \nQ 39.84375 48.1875 33.796875 48.1875 \nQ 26.515625 48.1875 22.3125 43.546875 \nQ 18.109375 38.921875 18.109375 30.90625 \nL 18.109375 0 \nL 9.078125 0 \nL 9.078125 54.6875 \nL 18.109375 54.6875 \nL 18.109375 46.1875 \nQ 21.34375 51.125 25.703125 53.5625 \nQ 30.078125 56 35.796875 56 \nQ 45.21875 56 50.046875 50.171875 \nQ 54.890625 44.34375 54.890625 33.015625 \nz\n\" id=\"DejaVuSans-110\"/>\n      <path d=\"M 48.6875 27.296875 \nQ 48.6875 37.203125 44.609375 42.84375 \nQ 40.53125 48.484375 33.40625 48.484375 \nQ 26.265625 48.484375 22.1875 42.84375 \nQ 18.109375 37.203125 18.109375 27.296875 \nQ 18.109375 17.390625 22.1875 11.75 \nQ 26.265625 6.109375 33.40625 6.109375 \nQ 40.53125 6.109375 44.609375 11.75 \nQ 48.6875 17.390625 48.6875 27.296875 \nz\nM 18.109375 46.390625 \nQ 20.953125 51.265625 25.265625 53.625 \nQ 29.59375 56 35.59375 56 \nQ 45.5625 56 51.78125 48.09375 \nQ 58.015625 40.1875 58.015625 27.296875 \nQ 58.015625 14.40625 51.78125 6.484375 \nQ 45.5625 -1.421875 35.59375 -1.421875 \nQ 29.59375 -1.421875 25.265625 0.953125 \nQ 20.953125 3.328125 18.109375 8.203125 \nL 18.109375 0 \nL 9.078125 0 \nL 9.078125 75.984375 \nL 18.109375 75.984375 \nz\n\" id=\"DejaVuSans-98\"/>\n      <path d=\"M 8.5 21.578125 \nL 8.5 54.6875 \nL 17.484375 54.6875 \nL 17.484375 21.921875 \nQ 17.484375 14.15625 20.5 10.265625 \nQ 23.53125 6.390625 29.59375 6.390625 \nQ 36.859375 6.390625 41.078125 11.03125 \nQ 45.3125 15.671875 45.3125 23.6875 \nL 45.3125 54.6875 \nL 54.296875 54.6875 \nL 54.296875 0 \nL 45.3125 0 \nL 45.3125 8.40625 \nQ 42.046875 3.421875 37.71875 1 \nQ 33.40625 -1.421875 27.6875 -1.421875 \nQ 18.265625 -1.421875 13.375 4.4375 \nQ 8.5 10.296875 8.5 21.578125 \nz\nM 31.109375 56 \nz\n\" id=\"DejaVuSans-117\"/>\n      <path id=\"DejaVuSans-32\"/>\n      <path d=\"M -0.296875 72.90625 \nL 61.375 72.90625 \nL 61.375 64.59375 \nL 35.5 64.59375 \nL 35.5 0 \nL 25.59375 0 \nL 25.59375 64.59375 \nL -0.296875 64.59375 \nz\n\" id=\"DejaVuSans-84\"/>\n      <path d=\"M 4.203125 54.6875 \nL 13.1875 54.6875 \nL 24.421875 12.015625 \nL 35.59375 54.6875 \nL 46.1875 54.6875 \nL 57.421875 12.015625 \nL 68.609375 54.6875 \nL 77.59375 54.6875 \nL 63.28125 0 \nL 52.6875 0 \nL 40.921875 44.828125 \nL 29.109375 0 \nL 18.5 0 \nz\n\" id=\"DejaVuSans-119\"/>\n      <path d=\"M 44.28125 53.078125 \nL 44.28125 44.578125 \nQ 40.484375 46.53125 36.375 47.5 \nQ 32.28125 48.484375 27.875 48.484375 \nQ 21.1875 48.484375 17.84375 46.4375 \nQ 14.5 44.390625 14.5 40.28125 \nQ 14.5 37.15625 16.890625 35.375 \nQ 19.28125 33.59375 26.515625 31.984375 \nL 29.59375 31.296875 \nQ 39.15625 29.25 43.1875 25.515625 \nQ 47.21875 21.78125 47.21875 15.09375 \nQ 47.21875 7.46875 41.1875 3.015625 \nQ 35.15625 -1.421875 24.609375 -1.421875 \nQ 20.21875 -1.421875 15.453125 -0.5625 \nQ 10.6875 0.296875 5.421875 2 \nL 5.421875 11.28125 \nQ 10.40625 8.6875 15.234375 7.390625 \nQ 20.0625 6.109375 24.8125 6.109375 \nQ 31.15625 6.109375 34.5625 8.28125 \nQ 37.984375 10.453125 37.984375 14.40625 \nQ 37.984375 18.0625 35.515625 20.015625 \nQ 33.0625 21.96875 24.703125 23.78125 \nL 21.578125 24.515625 \nQ 13.234375 26.265625 9.515625 29.90625 \nQ 5.8125 33.546875 5.8125 39.890625 \nQ 5.8125 47.609375 11.28125 51.796875 \nQ 16.75 56 26.8125 56 \nQ 31.78125 56 36.171875 55.265625 \nQ 40.578125 54.546875 44.28125 53.078125 \nz\n\" id=\"DejaVuSans-115\"/>\n     </defs>\n     <g transform=\"translate(31.64875 110.750369)rotate(-90)scale(0.1 -0.1)\">\n      <use xlink:href=\"#DejaVuSans-73\"/>\n      <use x=\"29.492188\" xlink:href=\"#DejaVuSans-110\"/>\n      <use x=\"92.871094\" xlink:href=\"#DejaVuSans-98\"/>\n      <use x=\"156.347656\" xlink:href=\"#DejaVuSans-111\"/>\n      <use x=\"217.529297\" xlink:href=\"#DejaVuSans-117\"/>\n      <use x=\"280.908203\" xlink:href=\"#DejaVuSans-110\"/>\n      <use x=\"344.287109\" xlink:href=\"#DejaVuSans-100\"/>\n      <use x=\"407.763672\" xlink:href=\"#DejaVuSans-32\"/>\n      <use x=\"439.550781\" xlink:href=\"#DejaVuSans-84\"/>\n      <use x=\"484.134766\" xlink:href=\"#DejaVuSans-119\"/>\n      <use x=\"565.921875\" xlink:href=\"#DejaVuSans-101\"/>\n      <use x=\"627.445312\" xlink:href=\"#DejaVuSans-101\"/>\n      <use x=\"688.96875\" xlink:href=\"#DejaVuSans-116\"/>\n      <use x=\"728.177734\" xlink:href=\"#DejaVuSans-115\"/>\n     </g>\n    </g>\n   </g>\n   <g id=\"line2d_68\">\n    <path clip-path=\"url(#p1f76029145)\" d=\"M 70.178437 120.353584 \nL 75.492723 119.270007 \nL 80.807009 117.903757 \nL 86.121295 79.130543 \nL 91.43558 39.744871 \nL 96.749866 42.006249 \nL 102.064152 48.93172 \nL 107.378437 64.431584 \nL 112.692723 53.313141 \nL 118.007009 41.064009 \nL 123.321295 45.586765 \nL 128.63558 42.760042 \nL 133.949866 49.544177 \nL 139.264152 56.234088 \nL 144.578437 66.64585 \nL 149.892723 55.857191 \nL 155.207009 44.361852 \nL 160.521295 43.466723 \nL 165.83558 62.594214 \nL 171.149866 55.338959 \nL 176.464152 60.521284 \nL 181.778437 75.691363 \nL 187.092723 60.474172 \nL 192.407009 54.20827 \nL 197.721295 52.84202 \nL 203.03558 51.758443 \nL 208.349866 46.38767 \nL 213.664152 62.358654 \nL 218.978438 76.586492 \nL 224.292723 65.750721 \nL 229.607009 67.635203 \nL 234.921295 65.185377 \nL 240.23558 55.480295 \nL 245.549866 43.278275 \nL 250.864152 59.155035 \nL 256.178437 72.110848 \nL 261.492723 62.311542 \nL 266.807009 47.659695 \nL 272.121295 47.235687 \nL 277.43558 90.390322 \nL 282.749866 90.57877 \nL 288.064152 79.978559 \nL 293.378437 74.560674 \nL 298.692723 59.343483 \nL 304.007009 55.009174 \nL 309.321295 54.349606 \nL 314.63558 57.459001 \nL 319.949866 53.030469 \nL 325.264152 117.055741 \nL 330.578437 80.072784 \nL 335.892723 56.610984 \nL 341.207009 48.366376 \nL 346.521295 44.974308 \nL 351.83558 52.889132 \nL 357.149866 39.886207 \nL 362.464152 52.13534 \nL 367.778437 55.904303 \nL 373.092723 31.735823 \nL 378.407009 27.071731 \nL 383.721295 27.354403 \nL 389.03558 27.024619 \nL 394.349866 27.024619 \nL 399.664152 41.440905 \nL 404.978438 60.003051 \n\" style=\"fill:none;stroke:#1f77b4;stroke-linecap:square;stroke-width:1.5;\"/>\n   </g>\n   <g id=\"patch_3\">\n    <path d=\"M 70.178437 121.154489 \nL 70.178437 22.318125 \n\" style=\"fill:none;stroke:#000000;stroke-linecap:square;stroke-linejoin:miter;stroke-width:0.8;\"/>\n   </g>\n   <g id=\"patch_4\">\n    <path d=\"M 404.978437 121.154489 \nL 404.978437 22.318125 \n\" style=\"fill:none;stroke:#000000;stroke-linecap:square;stroke-linejoin:miter;stroke-width:0.8;\"/>\n   </g>\n   <g id=\"patch_5\">\n    <path d=\"M 70.178437 121.154489 \nL 404.978438 121.154489 \n\" style=\"fill:none;stroke:#000000;stroke-linecap:square;stroke-linejoin:miter;stroke-width:0.8;\"/>\n   </g>\n   <g id=\"patch_6\">\n    <path d=\"M 70.178437 22.318125 \nL 404.978438 22.318125 \n\" style=\"fill:none;stroke:#000000;stroke-linecap:square;stroke-linejoin:miter;stroke-width:0.8;\"/>\n   </g>\n   <g id=\"text_18\">\n    <!-- @AmazonHelp Volume &amp; Sentiment - Release of the Amazon Echo (2nd gen) -->\n    <defs>\n     <path d=\"M 37.203125 26.21875 \nQ 37.203125 19.234375 40.671875 15.25 \nQ 44.140625 11.28125 50.203125 11.28125 \nQ 56.203125 11.28125 59.640625 15.28125 \nQ 63.09375 19.28125 63.09375 26.21875 \nQ 63.09375 33.0625 59.578125 37.078125 \nQ 56.0625 41.109375 50.09375 41.109375 \nQ 44.1875 41.109375 40.6875 37.109375 \nQ 37.203125 33.109375 37.203125 26.21875 \nz\nM 63.8125 11.625 \nQ 60.890625 7.859375 57.109375 6.078125 \nQ 53.328125 4.296875 48.296875 4.296875 \nQ 39.890625 4.296875 34.640625 10.375 \nQ 29.390625 16.453125 29.390625 26.21875 \nQ 29.390625 35.984375 34.65625 42.078125 \nQ 39.9375 48.1875 48.296875 48.1875 \nQ 53.328125 48.1875 57.125 46.359375 \nQ 60.9375 44.53125 63.8125 40.828125 \nL 63.8125 47.21875 \nL 70.796875 47.21875 \nL 70.796875 11.28125 \nQ 77.9375 12.359375 81.953125 17.796875 \nQ 85.984375 23.25 85.984375 31.890625 \nQ 85.984375 37.109375 84.4375 41.703125 \nQ 82.90625 46.296875 79.78125 50.203125 \nQ 74.703125 56.59375 67.40625 59.984375 \nQ 60.109375 63.375 51.515625 63.375 \nQ 45.515625 63.375 39.984375 61.78125 \nQ 34.46875 60.203125 29.78125 57.078125 \nQ 22.125 52.09375 17.796875 44.015625 \nQ 13.484375 35.9375 13.484375 26.515625 \nQ 13.484375 18.75 16.28125 11.953125 \nQ 19.09375 5.171875 24.421875 0 \nQ 29.546875 -5.078125 36.28125 -7.734375 \nQ 43.015625 -10.40625 50.6875 -10.40625 \nQ 56.984375 -10.40625 63.0625 -8.28125 \nQ 69.140625 -6.15625 74.21875 -2.203125 \nL 78.609375 -7.625 \nQ 72.515625 -12.359375 65.3125 -14.875 \nQ 58.109375 -17.390625 50.6875 -17.390625 \nQ 41.65625 -17.390625 33.640625 -14.1875 \nQ 25.640625 -10.984375 19.390625 -4.890625 \nQ 13.140625 1.21875 9.859375 9.25 \nQ 6.59375 17.28125 6.59375 26.515625 \nQ 6.59375 35.40625 9.90625 43.453125 \nQ 13.234375 51.515625 19.390625 57.625 \nQ 25.6875 63.8125 33.9375 67.109375 \nQ 42.1875 70.40625 51.421875 70.40625 \nQ 61.765625 70.40625 70.625 66.15625 \nQ 79.5 61.921875 85.5 54.109375 \nQ 89.15625 49.3125 91.078125 43.703125 \nQ 93.015625 38.09375 93.015625 32.078125 \nQ 93.015625 19.234375 85.25 11.8125 \nQ 77.484375 4.390625 63.8125 4.109375 \nz\n\" id=\"DejaVuSans-64\"/>\n     <path d=\"M 34.1875 63.1875 \nL 20.796875 26.90625 \nL 47.609375 26.90625 \nz\nM 28.609375 72.90625 \nL 39.796875 72.90625 \nL 67.578125 0 \nL 57.328125 0 \nL 50.6875 18.703125 \nL 17.828125 18.703125 \nL 11.1875 0 \nL 0.78125 0 \nz\n\" id=\"DejaVuSans-65\"/>\n     <path d=\"M 52 44.1875 \nQ 55.375 50.25 60.0625 53.125 \nQ 64.75 56 71.09375 56 \nQ 79.640625 56 84.28125 50.015625 \nQ 88.921875 44.046875 88.921875 33.015625 \nL 88.921875 0 \nL 79.890625 0 \nL 79.890625 32.71875 \nQ 79.890625 40.578125 77.09375 44.375 \nQ 74.3125 48.1875 68.609375 48.1875 \nQ 61.625 48.1875 57.5625 43.546875 \nQ 53.515625 38.921875 53.515625 30.90625 \nL 53.515625 0 \nL 44.484375 0 \nL 44.484375 32.71875 \nQ 44.484375 40.625 41.703125 44.40625 \nQ 38.921875 48.1875 33.109375 48.1875 \nQ 26.21875 48.1875 22.15625 43.53125 \nQ 18.109375 38.875 18.109375 30.90625 \nL 18.109375 0 \nL 9.078125 0 \nL 9.078125 54.6875 \nL 18.109375 54.6875 \nL 18.109375 46.1875 \nQ 21.1875 51.21875 25.484375 53.609375 \nQ 29.78125 56 35.6875 56 \nQ 41.65625 56 45.828125 52.96875 \nQ 50 49.953125 52 44.1875 \nz\n\" id=\"DejaVuSans-109\"/>\n     <path d=\"M 5.515625 54.6875 \nL 48.1875 54.6875 \nL 48.1875 46.484375 \nL 14.40625 7.171875 \nL 48.1875 7.171875 \nL 48.1875 0 \nL 4.296875 0 \nL 4.296875 8.203125 \nL 38.09375 47.515625 \nL 5.515625 47.515625 \nz\n\" id=\"DejaVuSans-122\"/>\n     <path d=\"M 9.8125 72.90625 \nL 19.671875 72.90625 \nL 19.671875 43.015625 \nL 55.515625 43.015625 \nL 55.515625 72.90625 \nL 65.375 72.90625 \nL 65.375 0 \nL 55.515625 0 \nL 55.515625 34.71875 \nL 19.671875 34.71875 \nL 19.671875 0 \nL 9.8125 0 \nz\n\" id=\"DejaVuSans-72\"/>\n     <path d=\"M 9.421875 75.984375 \nL 18.40625 75.984375 \nL 18.40625 0 \nL 9.421875 0 \nz\n\" id=\"DejaVuSans-108\"/>\n     <path d=\"M 18.109375 8.203125 \nL 18.109375 -20.796875 \nL 9.078125 -20.796875 \nL 9.078125 54.6875 \nL 18.109375 54.6875 \nL 18.109375 46.390625 \nQ 20.953125 51.265625 25.265625 53.625 \nQ 29.59375 56 35.59375 56 \nQ 45.5625 56 51.78125 48.09375 \nQ 58.015625 40.1875 58.015625 27.296875 \nQ 58.015625 14.40625 51.78125 6.484375 \nQ 45.5625 -1.421875 35.59375 -1.421875 \nQ 29.59375 -1.421875 25.265625 0.953125 \nQ 20.953125 3.328125 18.109375 8.203125 \nz\nM 48.6875 27.296875 \nQ 48.6875 37.203125 44.609375 42.84375 \nQ 40.53125 48.484375 33.40625 48.484375 \nQ 26.265625 48.484375 22.1875 42.84375 \nQ 18.109375 37.203125 18.109375 27.296875 \nQ 18.109375 17.390625 22.1875 11.75 \nQ 26.265625 6.109375 33.40625 6.109375 \nQ 40.53125 6.109375 44.609375 11.75 \nQ 48.6875 17.390625 48.6875 27.296875 \nz\n\" id=\"DejaVuSans-112\"/>\n     <path d=\"M 28.609375 0 \nL 0.78125 72.90625 \nL 11.078125 72.90625 \nL 34.1875 11.53125 \nL 57.328125 72.90625 \nL 67.578125 72.90625 \nL 39.796875 0 \nz\n\" id=\"DejaVuSans-86\"/>\n     <path d=\"M 24.3125 39.203125 \nQ 19.875 35.25 17.796875 31.3125 \nQ 15.71875 27.390625 15.71875 23.09375 \nQ 15.71875 15.96875 20.890625 11.234375 \nQ 26.078125 6.5 33.890625 6.5 \nQ 38.53125 6.5 42.578125 8.03125 \nQ 46.625 9.578125 50.203125 12.703125 \nz\nM 31.203125 44.671875 \nL 56 19.28125 \nQ 58.890625 23.640625 60.5 28.59375 \nQ 62.109375 33.546875 62.40625 39.109375 \nL 71.484375 39.109375 \nQ 70.90625 32.671875 68.359375 26.359375 \nQ 65.828125 20.0625 61.28125 13.921875 \nL 74.90625 0 \nL 62.59375 0 \nL 55.609375 7.171875 \nQ 50.53125 2.828125 44.96875 0.703125 \nQ 39.40625 -1.421875 33.015625 -1.421875 \nQ 21.234375 -1.421875 13.765625 5.296875 \nQ 6.296875 12.015625 6.296875 22.515625 \nQ 6.296875 28.765625 9.5625 34.25 \nQ 12.84375 39.75 19.390625 44.578125 \nQ 17.046875 47.65625 15.8125 50.703125 \nQ 14.59375 53.765625 14.59375 56.6875 \nQ 14.59375 64.59375 20.015625 69.40625 \nQ 25.4375 74.21875 34.421875 74.21875 \nQ 38.484375 74.21875 42.5 73.34375 \nQ 46.53125 72.46875 50.6875 70.703125 \nL 50.6875 61.8125 \nQ 46.4375 64.109375 42.578125 65.296875 \nQ 38.71875 66.5 35.40625 66.5 \nQ 30.28125 66.5 27.078125 63.78125 \nQ 23.875 61.078125 23.875 56.78125 \nQ 23.875 54.296875 25.3125 51.78125 \nQ 26.765625 49.265625 31.203125 44.671875 \nz\n\" id=\"DejaVuSans-38\"/>\n     <path d=\"M 53.515625 70.515625 \nL 53.515625 60.890625 \nQ 47.90625 63.578125 42.921875 64.890625 \nQ 37.9375 66.21875 33.296875 66.21875 \nQ 25.25 66.21875 20.875 63.09375 \nQ 16.5 59.96875 16.5 54.203125 \nQ 16.5 49.359375 19.40625 46.890625 \nQ 22.3125 44.4375 30.421875 42.921875 \nL 36.375 41.703125 \nQ 47.40625 39.59375 52.65625 34.296875 \nQ 57.90625 29 57.90625 20.125 \nQ 57.90625 9.515625 50.796875 4.046875 \nQ 43.703125 -1.421875 29.984375 -1.421875 \nQ 24.8125 -1.421875 18.96875 -0.25 \nQ 13.140625 0.921875 6.890625 3.21875 \nL 6.890625 13.375 \nQ 12.890625 10.015625 18.65625 8.296875 \nQ 24.421875 6.59375 29.984375 6.59375 \nQ 38.421875 6.59375 43.015625 9.90625 \nQ 47.609375 13.234375 47.609375 19.390625 \nQ 47.609375 24.75 44.3125 27.78125 \nQ 41.015625 30.8125 33.5 32.328125 \nL 27.484375 33.5 \nQ 16.453125 35.6875 11.515625 40.375 \nQ 6.59375 45.0625 6.59375 53.421875 \nQ 6.59375 63.09375 13.40625 68.65625 \nQ 20.21875 74.21875 32.171875 74.21875 \nQ 37.3125 74.21875 42.625 73.28125 \nQ 47.953125 72.359375 53.515625 70.515625 \nz\n\" id=\"DejaVuSans-83\"/>\n     <path d=\"M 9.421875 54.6875 \nL 18.40625 54.6875 \nL 18.40625 0 \nL 9.421875 0 \nz\nM 9.421875 75.984375 \nL 18.40625 75.984375 \nL 18.40625 64.59375 \nL 9.421875 64.59375 \nz\n\" id=\"DejaVuSans-105\"/>\n     <path d=\"M 4.890625 31.390625 \nL 31.203125 31.390625 \nL 31.203125 23.390625 \nL 4.890625 23.390625 \nz\n\" id=\"DejaVuSans-45\"/>\n     <path d=\"M 44.390625 34.1875 \nQ 47.5625 33.109375 50.5625 29.59375 \nQ 53.5625 26.078125 56.59375 19.921875 \nL 66.609375 0 \nL 56 0 \nL 46.6875 18.703125 \nQ 43.0625 26.03125 39.671875 28.421875 \nQ 36.28125 30.8125 30.421875 30.8125 \nL 19.671875 30.8125 \nL 19.671875 0 \nL 9.8125 0 \nL 9.8125 72.90625 \nL 32.078125 72.90625 \nQ 44.578125 72.90625 50.734375 67.671875 \nQ 56.890625 62.453125 56.890625 51.90625 \nQ 56.890625 45.015625 53.6875 40.46875 \nQ 50.484375 35.9375 44.390625 34.1875 \nz\nM 19.671875 64.796875 \nL 19.671875 38.921875 \nL 32.078125 38.921875 \nQ 39.203125 38.921875 42.84375 42.21875 \nQ 46.484375 45.515625 46.484375 51.90625 \nQ 46.484375 58.296875 42.84375 61.546875 \nQ 39.203125 64.796875 32.078125 64.796875 \nz\n\" id=\"DejaVuSans-82\"/>\n     <path d=\"M 37.109375 75.984375 \nL 37.109375 68.5 \nL 28.515625 68.5 \nQ 23.6875 68.5 21.796875 66.546875 \nQ 19.921875 64.59375 19.921875 59.515625 \nL 19.921875 54.6875 \nL 34.71875 54.6875 \nL 34.71875 47.703125 \nL 19.921875 47.703125 \nL 19.921875 0 \nL 10.890625 0 \nL 10.890625 47.703125 \nL 2.296875 47.703125 \nL 2.296875 54.6875 \nL 10.890625 54.6875 \nL 10.890625 58.5 \nQ 10.890625 67.625 15.140625 71.796875 \nQ 19.390625 75.984375 28.609375 75.984375 \nz\n\" id=\"DejaVuSans-102\"/>\n     <path d=\"M 54.890625 33.015625 \nL 54.890625 0 \nL 45.90625 0 \nL 45.90625 32.71875 \nQ 45.90625 40.484375 42.875 44.328125 \nQ 39.84375 48.1875 33.796875 48.1875 \nQ 26.515625 48.1875 22.3125 43.546875 \nQ 18.109375 38.921875 18.109375 30.90625 \nL 18.109375 0 \nL 9.078125 0 \nL 9.078125 75.984375 \nL 18.109375 75.984375 \nL 18.109375 46.1875 \nQ 21.34375 51.125 25.703125 53.5625 \nQ 30.078125 56 35.796875 56 \nQ 45.21875 56 50.046875 50.171875 \nQ 54.890625 44.34375 54.890625 33.015625 \nz\n\" id=\"DejaVuSans-104\"/>\n     <path d=\"M 9.8125 72.90625 \nL 55.90625 72.90625 \nL 55.90625 64.59375 \nL 19.671875 64.59375 \nL 19.671875 43.015625 \nL 54.390625 43.015625 \nL 54.390625 34.71875 \nL 19.671875 34.71875 \nL 19.671875 8.296875 \nL 56.78125 8.296875 \nL 56.78125 0 \nL 9.8125 0 \nz\n\" id=\"DejaVuSans-69\"/>\n     <path d=\"M 31 75.875 \nQ 24.46875 64.65625 21.28125 53.65625 \nQ 18.109375 42.671875 18.109375 31.390625 \nQ 18.109375 20.125 21.3125 9.0625 \nQ 24.515625 -2 31 -13.1875 \nL 23.1875 -13.1875 \nQ 15.875 -1.703125 12.234375 9.375 \nQ 8.59375 20.453125 8.59375 31.390625 \nQ 8.59375 42.28125 12.203125 53.3125 \nQ 15.828125 64.359375 23.1875 75.875 \nz\n\" id=\"DejaVuSans-40\"/>\n     <path d=\"M 45.40625 27.984375 \nQ 45.40625 37.75 41.375 43.109375 \nQ 37.359375 48.484375 30.078125 48.484375 \nQ 22.859375 48.484375 18.828125 43.109375 \nQ 14.796875 37.75 14.796875 27.984375 \nQ 14.796875 18.265625 18.828125 12.890625 \nQ 22.859375 7.515625 30.078125 7.515625 \nQ 37.359375 7.515625 41.375 12.890625 \nQ 45.40625 18.265625 45.40625 27.984375 \nz\nM 54.390625 6.78125 \nQ 54.390625 -7.171875 48.1875 -13.984375 \nQ 42 -20.796875 29.203125 -20.796875 \nQ 24.46875 -20.796875 20.265625 -20.09375 \nQ 16.0625 -19.390625 12.109375 -17.921875 \nL 12.109375 -9.1875 \nQ 16.0625 -11.328125 19.921875 -12.34375 \nQ 23.78125 -13.375 27.78125 -13.375 \nQ 36.625 -13.375 41.015625 -8.765625 \nQ 45.40625 -4.15625 45.40625 5.171875 \nL 45.40625 9.625 \nQ 42.625 4.78125 38.28125 2.390625 \nQ 33.9375 0 27.875 0 \nQ 17.828125 0 11.671875 7.65625 \nQ 5.515625 15.328125 5.515625 27.984375 \nQ 5.515625 40.671875 11.671875 48.328125 \nQ 17.828125 56 27.875 56 \nQ 33.9375 56 38.28125 53.609375 \nQ 42.625 51.21875 45.40625 46.390625 \nL 45.40625 54.6875 \nL 54.390625 54.6875 \nz\n\" id=\"DejaVuSans-103\"/>\n     <path d=\"M 8.015625 75.875 \nL 15.828125 75.875 \nQ 23.140625 64.359375 26.78125 53.3125 \nQ 30.421875 42.28125 30.421875 31.390625 \nQ 30.421875 20.453125 26.78125 9.375 \nQ 23.140625 -1.703125 15.828125 -13.1875 \nL 8.015625 -13.1875 \nQ 14.5 -2 17.703125 9.0625 \nQ 20.90625 20.125 20.90625 31.390625 \nQ 20.90625 42.671875 17.703125 53.65625 \nQ 14.5 64.65625 8.015625 75.875 \nz\n\" id=\"DejaVuSans-41\"/>\n    </defs>\n    <g transform=\"translate(7.2 16.318125)scale(0.12 -0.12)\">\n     <use xlink:href=\"#DejaVuSans-64\"/>\n     <use x=\"100\" xlink:href=\"#DejaVuSans-65\"/>\n     <use x=\"168.408203\" xlink:href=\"#DejaVuSans-109\"/>\n     <use x=\"265.820312\" xlink:href=\"#DejaVuSans-97\"/>\n     <use x=\"327.099609\" xlink:href=\"#DejaVuSans-122\"/>\n     <use x=\"379.589844\" xlink:href=\"#DejaVuSans-111\"/>\n     <use x=\"440.771484\" xlink:href=\"#DejaVuSans-110\"/>\n     <use x=\"504.150391\" xlink:href=\"#DejaVuSans-72\"/>\n     <use x=\"579.345703\" xlink:href=\"#DejaVuSans-101\"/>\n     <use x=\"640.869141\" xlink:href=\"#DejaVuSans-108\"/>\n     <use x=\"668.652344\" xlink:href=\"#DejaVuSans-112\"/>\n     <use x=\"732.128906\" xlink:href=\"#DejaVuSans-32\"/>\n     <use x=\"763.916016\" xlink:href=\"#DejaVuSans-86\"/>\n     <use x=\"824.574219\" xlink:href=\"#DejaVuSans-111\"/>\n     <use x=\"885.755859\" xlink:href=\"#DejaVuSans-108\"/>\n     <use x=\"913.539062\" xlink:href=\"#DejaVuSans-117\"/>\n     <use x=\"976.917969\" xlink:href=\"#DejaVuSans-109\"/>\n     <use x=\"1074.330078\" xlink:href=\"#DejaVuSans-101\"/>\n     <use x=\"1135.853516\" xlink:href=\"#DejaVuSans-32\"/>\n     <use x=\"1167.640625\" xlink:href=\"#DejaVuSans-38\"/>\n     <use x=\"1245.619141\" xlink:href=\"#DejaVuSans-32\"/>\n     <use x=\"1277.40625\" xlink:href=\"#DejaVuSans-83\"/>\n     <use x=\"1340.882812\" xlink:href=\"#DejaVuSans-101\"/>\n     <use x=\"1402.40625\" xlink:href=\"#DejaVuSans-110\"/>\n     <use x=\"1465.785156\" xlink:href=\"#DejaVuSans-116\"/>\n     <use x=\"1504.994141\" xlink:href=\"#DejaVuSans-105\"/>\n     <use x=\"1532.777344\" xlink:href=\"#DejaVuSans-109\"/>\n     <use x=\"1630.189453\" xlink:href=\"#DejaVuSans-101\"/>\n     <use x=\"1691.712891\" xlink:href=\"#DejaVuSans-110\"/>\n     <use x=\"1755.091797\" xlink:href=\"#DejaVuSans-116\"/>\n     <use x=\"1794.300781\" xlink:href=\"#DejaVuSans-32\"/>\n     <use x=\"1826.087891\" xlink:href=\"#DejaVuSans-45\"/>\n     <use x=\"1862.171875\" xlink:href=\"#DejaVuSans-32\"/>\n     <use x=\"1893.958984\" xlink:href=\"#DejaVuSans-82\"/>\n     <use x=\"1958.941406\" xlink:href=\"#DejaVuSans-101\"/>\n     <use x=\"2020.464844\" xlink:href=\"#DejaVuSans-108\"/>\n     <use x=\"2048.248047\" xlink:href=\"#DejaVuSans-101\"/>\n     <use x=\"2109.771484\" xlink:href=\"#DejaVuSans-97\"/>\n     <use x=\"2171.050781\" xlink:href=\"#DejaVuSans-115\"/>\n     <use x=\"2223.150391\" xlink:href=\"#DejaVuSans-101\"/>\n     <use x=\"2284.673828\" xlink:href=\"#DejaVuSans-32\"/>\n     <use x=\"2316.460938\" xlink:href=\"#DejaVuSans-111\"/>\n     <use x=\"2377.642578\" xlink:href=\"#DejaVuSans-102\"/>\n     <use x=\"2412.847656\" xlink:href=\"#DejaVuSans-32\"/>\n     <use x=\"2444.634766\" xlink:href=\"#DejaVuSans-116\"/>\n     <use x=\"2483.84375\" xlink:href=\"#DejaVuSans-104\"/>\n     <use x=\"2547.222656\" xlink:href=\"#DejaVuSans-101\"/>\n     <use x=\"2608.746094\" xlink:href=\"#DejaVuSans-32\"/>\n     <use x=\"2640.533203\" xlink:href=\"#DejaVuSans-65\"/>\n     <use x=\"2708.941406\" xlink:href=\"#DejaVuSans-109\"/>\n     <use x=\"2806.353516\" xlink:href=\"#DejaVuSans-97\"/>\n     <use x=\"2867.632812\" xlink:href=\"#DejaVuSans-122\"/>\n     <use x=\"2920.123047\" xlink:href=\"#DejaVuSans-111\"/>\n     <use x=\"2981.304688\" xlink:href=\"#DejaVuSans-110\"/>\n     <use x=\"3044.683594\" xlink:href=\"#DejaVuSans-32\"/>\n     <use x=\"3076.470703\" xlink:href=\"#DejaVuSans-69\"/>\n     <use x=\"3139.654297\" xlink:href=\"#DejaVuSans-99\"/>\n     <use x=\"3194.634766\" xlink:href=\"#DejaVuSans-104\"/>\n     <use x=\"3258.013672\" xlink:href=\"#DejaVuSans-111\"/>\n     <use x=\"3319.195312\" xlink:href=\"#DejaVuSans-32\"/>\n     <use x=\"3350.982422\" xlink:href=\"#DejaVuSans-40\"/>\n     <use x=\"3389.996094\" xlink:href=\"#DejaVuSans-50\"/>\n     <use x=\"3453.619141\" xlink:href=\"#DejaVuSans-110\"/>\n     <use x=\"3516.998047\" xlink:href=\"#DejaVuSans-100\"/>\n     <use x=\"3580.474609\" xlink:href=\"#DejaVuSans-32\"/>\n     <use x=\"3612.261719\" xlink:href=\"#DejaVuSans-103\"/>\n     <use x=\"3675.738281\" xlink:href=\"#DejaVuSans-101\"/>\n     <use x=\"3737.261719\" xlink:href=\"#DejaVuSans-110\"/>\n     <use x=\"3800.640625\" xlink:href=\"#DejaVuSans-41\"/>\n    </g>\n   </g>\n  </g>\n  <g id=\"axes_2\">\n   <g id=\"patch_7\">\n    <path d=\"M 70.178437 239.758125 \nL 404.978437 239.758125 \nL 404.978437 140.921761 \nL 70.178437 140.921761 \nz\n\" style=\"fill:#ffffff;\"/>\n   </g>\n   <g id=\"matplotlib.axis_3\">\n    <g id=\"xtick_65\">\n     <g id=\"line2d_69\">\n      <g>\n       <use style=\"stroke:#000000;stroke-width:0.8;\" x=\"70.178437\" xlink:href=\"#mbf3f51d462\" y=\"239.758125\"/>\n      </g>\n     </g>\n     <g id=\"text_19\">\n      <!--  -->\n      <g transform=\"translate(70.178437 254.356563)scale(0.1 -0.1)\"/>\n      <!--  -->\n      <g transform=\"translate(70.178437 265.554375)scale(0.1 -0.1)\"/>\n      <!-- Oct -->\n      <g transform=\"translate(61.533125 276.752188)scale(0.1 -0.1)\">\n       <use xlink:href=\"#DejaVuSans-79\"/>\n       <use x=\"78.710938\" xlink:href=\"#DejaVuSans-99\"/>\n       <use x=\"133.691406\" xlink:href=\"#DejaVuSans-116\"/>\n      </g>\n      <!-- 2017 -->\n      <g transform=\"translate(57.453437 287.95)scale(0.1 -0.1)\">\n       <use xlink:href=\"#DejaVuSans-50\"/>\n       <use x=\"63.623047\" xlink:href=\"#DejaVuSans-48\"/>\n       <use x=\"127.246094\" xlink:href=\"#DejaVuSans-49\"/>\n       <use x=\"190.869141\" xlink:href=\"#DejaVuSans-55\"/>\n      </g>\n     </g>\n    </g>\n    <g id=\"xtick_66\">\n     <g id=\"line2d_70\">\n      <g>\n       <use style=\"stroke:#000000;stroke-width:0.8;\" x=\"234.921295\" xlink:href=\"#mbf3f51d462\" y=\"239.758125\"/>\n      </g>\n     </g>\n     <g id=\"text_20\">\n      <!--  -->\n      <g transform=\"translate(234.921295 254.356563)scale(0.1 -0.1)\"/>\n      <!--  -->\n      <g transform=\"translate(234.921295 265.554375)scale(0.1 -0.1)\"/>\n      <!-- Nov -->\n      <g transform=\"translate(225.16192 276.752188)scale(0.1 -0.1)\">\n       <use xlink:href=\"#DejaVuSans-78\"/>\n       <use x=\"74.804688\" xlink:href=\"#DejaVuSans-111\"/>\n       <use x=\"135.986328\" xlink:href=\"#DejaVuSans-118\"/>\n      </g>\n     </g>\n    </g>\n    <g id=\"xtick_67\">\n     <g id=\"line2d_71\">\n      <g>\n       <use style=\"stroke:#000000;stroke-width:0.8;\" x=\"394.349866\" xlink:href=\"#mbf3f51d462\" y=\"239.758125\"/>\n      </g>\n     </g>\n     <g id=\"text_21\">\n      <!--  -->\n      <g transform=\"translate(394.349866 254.356563)scale(0.1 -0.1)\"/>\n      <!--  -->\n      <g transform=\"translate(394.349866 265.554375)scale(0.1 -0.1)\"/>\n      <!-- Dec -->\n      <g transform=\"translate(384.674085 276.752188)scale(0.1 -0.1)\">\n       <use xlink:href=\"#DejaVuSans-68\"/>\n       <use x=\"77.001953\" xlink:href=\"#DejaVuSans-101\"/>\n       <use x=\"138.525391\" xlink:href=\"#DejaVuSans-99\"/>\n      </g>\n     </g>\n    </g>\n    <g id=\"xtick_68\">\n     <g id=\"line2d_72\">\n      <g>\n       <use style=\"stroke:#000000;stroke-width:0.8;\" x=\"404.978438\" xlink:href=\"#mbf3f51d462\" y=\"239.758125\"/>\n      </g>\n     </g>\n    </g>\n    <g id=\"xtick_69\">\n     <g id=\"line2d_73\">\n      <g>\n       <use style=\"stroke:#000000;stroke-width:0.6;\" x=\"75.492723\" xlink:href=\"#me98301cb20\" y=\"239.758125\"/>\n      </g>\n     </g>\n     <g id=\"text_22\">\n      <!-- 02 -->\n      <g transform=\"translate(69.130223 252.756563)scale(0.1 -0.1)\">\n       <use xlink:href=\"#DejaVuSans-48\"/>\n       <use x=\"63.623047\" xlink:href=\"#DejaVuSans-50\"/>\n      </g>\n     </g>\n    </g>\n    <g id=\"xtick_70\">\n     <g id=\"line2d_74\">\n      <g>\n       <use style=\"stroke:#000000;stroke-width:0.6;\" x=\"80.807009\" xlink:href=\"#me98301cb20\" y=\"239.758125\"/>\n      </g>\n     </g>\n    </g>\n    <g id=\"xtick_71\">\n     <g id=\"line2d_75\">\n      <g>\n       <use style=\"stroke:#000000;stroke-width:0.6;\" x=\"86.121295\" xlink:href=\"#me98301cb20\" y=\"239.758125\"/>\n      </g>\n     </g>\n    </g>\n    <g id=\"xtick_72\">\n     <g id=\"line2d_76\">\n      <g>\n       <use style=\"stroke:#000000;stroke-width:0.6;\" x=\"91.43558\" xlink:href=\"#me98301cb20\" y=\"239.758125\"/>\n      </g>\n     </g>\n    </g>\n    <g id=\"xtick_73\">\n     <g id=\"line2d_77\">\n      <g>\n       <use style=\"stroke:#000000;stroke-width:0.6;\" x=\"96.749866\" xlink:href=\"#me98301cb20\" y=\"239.758125\"/>\n      </g>\n     </g>\n    </g>\n    <g id=\"xtick_74\">\n     <g id=\"line2d_78\">\n      <g>\n       <use style=\"stroke:#000000;stroke-width:0.6;\" x=\"102.064152\" xlink:href=\"#me98301cb20\" y=\"239.758125\"/>\n      </g>\n     </g>\n    </g>\n    <g id=\"xtick_75\">\n     <g id=\"line2d_79\">\n      <g>\n       <use style=\"stroke:#000000;stroke-width:0.6;\" x=\"107.378437\" xlink:href=\"#me98301cb20\" y=\"239.758125\"/>\n      </g>\n     </g>\n    </g>\n    <g id=\"xtick_76\">\n     <g id=\"line2d_80\">\n      <g>\n       <use style=\"stroke:#000000;stroke-width:0.6;\" x=\"112.692723\" xlink:href=\"#me98301cb20\" y=\"239.758125\"/>\n      </g>\n     </g>\n     <g id=\"text_23\">\n      <!-- 09 -->\n      <g transform=\"translate(106.330223 252.756563)scale(0.1 -0.1)\">\n       <use xlink:href=\"#DejaVuSans-48\"/>\n       <use x=\"63.623047\" xlink:href=\"#DejaVuSans-57\"/>\n      </g>\n     </g>\n    </g>\n    <g id=\"xtick_77\">\n     <g id=\"line2d_81\">\n      <g>\n       <use style=\"stroke:#000000;stroke-width:0.6;\" x=\"118.007009\" xlink:href=\"#me98301cb20\" y=\"239.758125\"/>\n      </g>\n     </g>\n    </g>\n    <g id=\"xtick_78\">\n     <g id=\"line2d_82\">\n      <g>\n       <use style=\"stroke:#000000;stroke-width:0.6;\" x=\"123.321295\" xlink:href=\"#me98301cb20\" y=\"239.758125\"/>\n      </g>\n     </g>\n    </g>\n    <g id=\"xtick_79\">\n     <g id=\"line2d_83\">\n      <g>\n       <use style=\"stroke:#000000;stroke-width:0.6;\" x=\"128.63558\" xlink:href=\"#me98301cb20\" y=\"239.758125\"/>\n      </g>\n     </g>\n    </g>\n    <g id=\"xtick_80\">\n     <g id=\"line2d_84\">\n      <g>\n       <use style=\"stroke:#000000;stroke-width:0.6;\" x=\"133.949866\" xlink:href=\"#me98301cb20\" y=\"239.758125\"/>\n      </g>\n     </g>\n    </g>\n    <g id=\"xtick_81\">\n     <g id=\"line2d_85\">\n      <g>\n       <use style=\"stroke:#000000;stroke-width:0.6;\" x=\"139.264152\" xlink:href=\"#me98301cb20\" y=\"239.758125\"/>\n      </g>\n     </g>\n    </g>\n    <g id=\"xtick_82\">\n     <g id=\"line2d_86\">\n      <g>\n       <use style=\"stroke:#000000;stroke-width:0.6;\" x=\"144.578437\" xlink:href=\"#me98301cb20\" y=\"239.758125\"/>\n      </g>\n     </g>\n    </g>\n    <g id=\"xtick_83\">\n     <g id=\"line2d_87\">\n      <g>\n       <use style=\"stroke:#000000;stroke-width:0.6;\" x=\"149.892723\" xlink:href=\"#me98301cb20\" y=\"239.758125\"/>\n      </g>\n     </g>\n     <g id=\"text_24\">\n      <!-- 16 -->\n      <g transform=\"translate(143.530223 252.756563)scale(0.1 -0.1)\">\n       <use xlink:href=\"#DejaVuSans-49\"/>\n       <use x=\"63.623047\" xlink:href=\"#DejaVuSans-54\"/>\n      </g>\n     </g>\n    </g>\n    <g id=\"xtick_84\">\n     <g id=\"line2d_88\">\n      <g>\n       <use style=\"stroke:#000000;stroke-width:0.6;\" x=\"155.207009\" xlink:href=\"#me98301cb20\" y=\"239.758125\"/>\n      </g>\n     </g>\n    </g>\n    <g id=\"xtick_85\">\n     <g id=\"line2d_89\">\n      <g>\n       <use style=\"stroke:#000000;stroke-width:0.6;\" x=\"160.521295\" xlink:href=\"#me98301cb20\" y=\"239.758125\"/>\n      </g>\n     </g>\n    </g>\n    <g id=\"xtick_86\">\n     <g id=\"line2d_90\">\n      <g>\n       <use style=\"stroke:#000000;stroke-width:0.6;\" x=\"165.83558\" xlink:href=\"#me98301cb20\" y=\"239.758125\"/>\n      </g>\n     </g>\n    </g>\n    <g id=\"xtick_87\">\n     <g id=\"line2d_91\">\n      <g>\n       <use style=\"stroke:#000000;stroke-width:0.6;\" x=\"171.149866\" xlink:href=\"#me98301cb20\" y=\"239.758125\"/>\n      </g>\n     </g>\n    </g>\n    <g id=\"xtick_88\">\n     <g id=\"line2d_92\">\n      <g>\n       <use style=\"stroke:#000000;stroke-width:0.6;\" x=\"176.464152\" xlink:href=\"#me98301cb20\" y=\"239.758125\"/>\n      </g>\n     </g>\n    </g>\n    <g id=\"xtick_89\">\n     <g id=\"line2d_93\">\n      <g>\n       <use style=\"stroke:#000000;stroke-width:0.6;\" x=\"181.778437\" xlink:href=\"#me98301cb20\" y=\"239.758125\"/>\n      </g>\n     </g>\n    </g>\n    <g id=\"xtick_90\">\n     <g id=\"line2d_94\">\n      <g>\n       <use style=\"stroke:#000000;stroke-width:0.6;\" x=\"187.092723\" xlink:href=\"#me98301cb20\" y=\"239.758125\"/>\n      </g>\n     </g>\n     <g id=\"text_25\">\n      <!-- 23 -->\n      <g transform=\"translate(180.730223 252.756563)scale(0.1 -0.1)\">\n       <use xlink:href=\"#DejaVuSans-50\"/>\n       <use x=\"63.623047\" xlink:href=\"#DejaVuSans-51\"/>\n      </g>\n     </g>\n    </g>\n    <g id=\"xtick_91\">\n     <g id=\"line2d_95\">\n      <g>\n       <use style=\"stroke:#000000;stroke-width:0.6;\" x=\"192.407009\" xlink:href=\"#me98301cb20\" y=\"239.758125\"/>\n      </g>\n     </g>\n    </g>\n    <g id=\"xtick_92\">\n     <g id=\"line2d_96\">\n      <g>\n       <use style=\"stroke:#000000;stroke-width:0.6;\" x=\"197.721295\" xlink:href=\"#me98301cb20\" y=\"239.758125\"/>\n      </g>\n     </g>\n    </g>\n    <g id=\"xtick_93\">\n     <g id=\"line2d_97\">\n      <g>\n       <use style=\"stroke:#000000;stroke-width:0.6;\" x=\"203.03558\" xlink:href=\"#me98301cb20\" y=\"239.758125\"/>\n      </g>\n     </g>\n    </g>\n    <g id=\"xtick_94\">\n     <g id=\"line2d_98\">\n      <g>\n       <use style=\"stroke:#000000;stroke-width:0.6;\" x=\"208.349866\" xlink:href=\"#me98301cb20\" y=\"239.758125\"/>\n      </g>\n     </g>\n    </g>\n    <g id=\"xtick_95\">\n     <g id=\"line2d_99\">\n      <g>\n       <use style=\"stroke:#000000;stroke-width:0.6;\" x=\"213.664152\" xlink:href=\"#me98301cb20\" y=\"239.758125\"/>\n      </g>\n     </g>\n    </g>\n    <g id=\"xtick_96\">\n     <g id=\"line2d_100\">\n      <g>\n       <use style=\"stroke:#000000;stroke-width:0.6;\" x=\"218.978438\" xlink:href=\"#me98301cb20\" y=\"239.758125\"/>\n      </g>\n     </g>\n    </g>\n    <g id=\"xtick_97\">\n     <g id=\"line2d_101\">\n      <g>\n       <use style=\"stroke:#000000;stroke-width:0.6;\" x=\"224.292723\" xlink:href=\"#me98301cb20\" y=\"239.758125\"/>\n      </g>\n     </g>\n     <g id=\"text_26\">\n      <!-- 30 -->\n      <g transform=\"translate(217.930223 252.756563)scale(0.1 -0.1)\">\n       <use xlink:href=\"#DejaVuSans-51\"/>\n       <use x=\"63.623047\" xlink:href=\"#DejaVuSans-48\"/>\n      </g>\n     </g>\n    </g>\n    <g id=\"xtick_98\">\n     <g id=\"line2d_102\">\n      <g>\n       <use style=\"stroke:#000000;stroke-width:0.6;\" x=\"229.607009\" xlink:href=\"#me98301cb20\" y=\"239.758125\"/>\n      </g>\n     </g>\n    </g>\n    <g id=\"xtick_99\">\n     <g id=\"line2d_103\">\n      <g>\n       <use style=\"stroke:#000000;stroke-width:0.6;\" x=\"240.23558\" xlink:href=\"#me98301cb20\" y=\"239.758125\"/>\n      </g>\n     </g>\n    </g>\n    <g id=\"xtick_100\">\n     <g id=\"line2d_104\">\n      <g>\n       <use style=\"stroke:#000000;stroke-width:0.6;\" x=\"245.549866\" xlink:href=\"#me98301cb20\" y=\"239.758125\"/>\n      </g>\n     </g>\n    </g>\n    <g id=\"xtick_101\">\n     <g id=\"line2d_105\">\n      <g>\n       <use style=\"stroke:#000000;stroke-width:0.6;\" x=\"250.864152\" xlink:href=\"#me98301cb20\" y=\"239.758125\"/>\n      </g>\n     </g>\n    </g>\n    <g id=\"xtick_102\">\n     <g id=\"line2d_106\">\n      <g>\n       <use style=\"stroke:#000000;stroke-width:0.6;\" x=\"256.178437\" xlink:href=\"#me98301cb20\" y=\"239.758125\"/>\n      </g>\n     </g>\n    </g>\n    <g id=\"xtick_103\">\n     <g id=\"line2d_107\">\n      <g>\n       <use style=\"stroke:#000000;stroke-width:0.6;\" x=\"261.492723\" xlink:href=\"#me98301cb20\" y=\"239.758125\"/>\n      </g>\n     </g>\n     <g id=\"text_27\">\n      <!-- 06 -->\n      <g transform=\"translate(255.130223 252.756563)scale(0.1 -0.1)\">\n       <use xlink:href=\"#DejaVuSans-48\"/>\n       <use x=\"63.623047\" xlink:href=\"#DejaVuSans-54\"/>\n      </g>\n     </g>\n    </g>\n    <g id=\"xtick_104\">\n     <g id=\"line2d_108\">\n      <g>\n       <use style=\"stroke:#000000;stroke-width:0.6;\" x=\"266.807009\" xlink:href=\"#me98301cb20\" y=\"239.758125\"/>\n      </g>\n     </g>\n    </g>\n    <g id=\"xtick_105\">\n     <g id=\"line2d_109\">\n      <g>\n       <use style=\"stroke:#000000;stroke-width:0.6;\" x=\"272.121295\" xlink:href=\"#me98301cb20\" y=\"239.758125\"/>\n      </g>\n     </g>\n    </g>\n    <g id=\"xtick_106\">\n     <g id=\"line2d_110\">\n      <g>\n       <use style=\"stroke:#000000;stroke-width:0.6;\" x=\"277.43558\" xlink:href=\"#me98301cb20\" y=\"239.758125\"/>\n      </g>\n     </g>\n    </g>\n    <g id=\"xtick_107\">\n     <g id=\"line2d_111\">\n      <g>\n       <use style=\"stroke:#000000;stroke-width:0.6;\" x=\"282.749866\" xlink:href=\"#me98301cb20\" y=\"239.758125\"/>\n      </g>\n     </g>\n    </g>\n    <g id=\"xtick_108\">\n     <g id=\"line2d_112\">\n      <g>\n       <use style=\"stroke:#000000;stroke-width:0.6;\" x=\"288.064152\" xlink:href=\"#me98301cb20\" y=\"239.758125\"/>\n      </g>\n     </g>\n    </g>\n    <g id=\"xtick_109\">\n     <g id=\"line2d_113\">\n      <g>\n       <use style=\"stroke:#000000;stroke-width:0.6;\" x=\"293.378437\" xlink:href=\"#me98301cb20\" y=\"239.758125\"/>\n      </g>\n     </g>\n    </g>\n    <g id=\"xtick_110\">\n     <g id=\"line2d_114\">\n      <g>\n       <use style=\"stroke:#000000;stroke-width:0.6;\" x=\"298.692723\" xlink:href=\"#me98301cb20\" y=\"239.758125\"/>\n      </g>\n     </g>\n     <g id=\"text_28\">\n      <!-- 13 -->\n      <g transform=\"translate(292.330223 252.756563)scale(0.1 -0.1)\">\n       <use xlink:href=\"#DejaVuSans-49\"/>\n       <use x=\"63.623047\" xlink:href=\"#DejaVuSans-51\"/>\n      </g>\n     </g>\n    </g>\n    <g id=\"xtick_111\">\n     <g id=\"line2d_115\">\n      <g>\n       <use style=\"stroke:#000000;stroke-width:0.6;\" x=\"304.007009\" xlink:href=\"#me98301cb20\" y=\"239.758125\"/>\n      </g>\n     </g>\n    </g>\n    <g id=\"xtick_112\">\n     <g id=\"line2d_116\">\n      <g>\n       <use style=\"stroke:#000000;stroke-width:0.6;\" x=\"309.321295\" xlink:href=\"#me98301cb20\" y=\"239.758125\"/>\n      </g>\n     </g>\n    </g>\n    <g id=\"xtick_113\">\n     <g id=\"line2d_117\">\n      <g>\n       <use style=\"stroke:#000000;stroke-width:0.6;\" x=\"314.63558\" xlink:href=\"#me98301cb20\" y=\"239.758125\"/>\n      </g>\n     </g>\n    </g>\n    <g id=\"xtick_114\">\n     <g id=\"line2d_118\">\n      <g>\n       <use style=\"stroke:#000000;stroke-width:0.6;\" x=\"319.949866\" xlink:href=\"#me98301cb20\" y=\"239.758125\"/>\n      </g>\n     </g>\n    </g>\n    <g id=\"xtick_115\">\n     <g id=\"line2d_119\">\n      <g>\n       <use style=\"stroke:#000000;stroke-width:0.6;\" x=\"325.264152\" xlink:href=\"#me98301cb20\" y=\"239.758125\"/>\n      </g>\n     </g>\n    </g>\n    <g id=\"xtick_116\">\n     <g id=\"line2d_120\">\n      <g>\n       <use style=\"stroke:#000000;stroke-width:0.6;\" x=\"330.578437\" xlink:href=\"#me98301cb20\" y=\"239.758125\"/>\n      </g>\n     </g>\n    </g>\n    <g id=\"xtick_117\">\n     <g id=\"line2d_121\">\n      <g>\n       <use style=\"stroke:#000000;stroke-width:0.6;\" x=\"335.892723\" xlink:href=\"#me98301cb20\" y=\"239.758125\"/>\n      </g>\n     </g>\n     <g id=\"text_29\">\n      <!-- 20 -->\n      <g transform=\"translate(329.530223 252.756563)scale(0.1 -0.1)\">\n       <use xlink:href=\"#DejaVuSans-50\"/>\n       <use x=\"63.623047\" xlink:href=\"#DejaVuSans-48\"/>\n      </g>\n     </g>\n    </g>\n    <g id=\"xtick_118\">\n     <g id=\"line2d_122\">\n      <g>\n       <use style=\"stroke:#000000;stroke-width:0.6;\" x=\"341.207009\" xlink:href=\"#me98301cb20\" y=\"239.758125\"/>\n      </g>\n     </g>\n    </g>\n    <g id=\"xtick_119\">\n     <g id=\"line2d_123\">\n      <g>\n       <use style=\"stroke:#000000;stroke-width:0.6;\" x=\"346.521295\" xlink:href=\"#me98301cb20\" y=\"239.758125\"/>\n      </g>\n     </g>\n    </g>\n    <g id=\"xtick_120\">\n     <g id=\"line2d_124\">\n      <g>\n       <use style=\"stroke:#000000;stroke-width:0.6;\" x=\"351.83558\" xlink:href=\"#me98301cb20\" y=\"239.758125\"/>\n      </g>\n     </g>\n    </g>\n    <g id=\"xtick_121\">\n     <g id=\"line2d_125\">\n      <g>\n       <use style=\"stroke:#000000;stroke-width:0.6;\" x=\"357.149866\" xlink:href=\"#me98301cb20\" y=\"239.758125\"/>\n      </g>\n     </g>\n    </g>\n    <g id=\"xtick_122\">\n     <g id=\"line2d_126\">\n      <g>\n       <use style=\"stroke:#000000;stroke-width:0.6;\" x=\"362.464152\" xlink:href=\"#me98301cb20\" y=\"239.758125\"/>\n      </g>\n     </g>\n    </g>\n    <g id=\"xtick_123\">\n     <g id=\"line2d_127\">\n      <g>\n       <use style=\"stroke:#000000;stroke-width:0.6;\" x=\"367.778437\" xlink:href=\"#me98301cb20\" y=\"239.758125\"/>\n      </g>\n     </g>\n    </g>\n    <g id=\"xtick_124\">\n     <g id=\"line2d_128\">\n      <g>\n       <use style=\"stroke:#000000;stroke-width:0.6;\" x=\"373.092723\" xlink:href=\"#me98301cb20\" y=\"239.758125\"/>\n      </g>\n     </g>\n     <g id=\"text_30\">\n      <!-- 27 -->\n      <g transform=\"translate(366.730223 252.756563)scale(0.1 -0.1)\">\n       <use xlink:href=\"#DejaVuSans-50\"/>\n       <use x=\"63.623047\" xlink:href=\"#DejaVuSans-55\"/>\n      </g>\n     </g>\n    </g>\n    <g id=\"xtick_125\">\n     <g id=\"line2d_129\">\n      <g>\n       <use style=\"stroke:#000000;stroke-width:0.6;\" x=\"378.407009\" xlink:href=\"#me98301cb20\" y=\"239.758125\"/>\n      </g>\n     </g>\n    </g>\n    <g id=\"xtick_126\">\n     <g id=\"line2d_130\">\n      <g>\n       <use style=\"stroke:#000000;stroke-width:0.6;\" x=\"383.721295\" xlink:href=\"#me98301cb20\" y=\"239.758125\"/>\n      </g>\n     </g>\n    </g>\n    <g id=\"xtick_127\">\n     <g id=\"line2d_131\">\n      <g>\n       <use style=\"stroke:#000000;stroke-width:0.6;\" x=\"389.03558\" xlink:href=\"#me98301cb20\" y=\"239.758125\"/>\n      </g>\n     </g>\n    </g>\n    <g id=\"xtick_128\">\n     <g id=\"line2d_132\">\n      <g>\n       <use style=\"stroke:#000000;stroke-width:0.6;\" x=\"399.664152\" xlink:href=\"#me98301cb20\" y=\"239.758125\"/>\n      </g>\n     </g>\n    </g>\n    <g id=\"text_31\">\n     <!-- created_at_x -->\n     <g transform=\"translate(205.551094 301.628125)scale(0.1 -0.1)\">\n      <use xlink:href=\"#DejaVuSans-99\"/>\n      <use x=\"54.980469\" xlink:href=\"#DejaVuSans-114\"/>\n      <use x=\"93.84375\" xlink:href=\"#DejaVuSans-101\"/>\n      <use x=\"155.367188\" xlink:href=\"#DejaVuSans-97\"/>\n      <use x=\"216.646484\" xlink:href=\"#DejaVuSans-116\"/>\n      <use x=\"255.855469\" xlink:href=\"#DejaVuSans-101\"/>\n      <use x=\"317.378906\" xlink:href=\"#DejaVuSans-100\"/>\n      <use x=\"380.855469\" xlink:href=\"#DejaVuSans-95\"/>\n      <use x=\"430.855469\" xlink:href=\"#DejaVuSans-97\"/>\n      <use x=\"492.134766\" xlink:href=\"#DejaVuSans-116\"/>\n      <use x=\"531.34375\" xlink:href=\"#DejaVuSans-95\"/>\n      <use x=\"581.34375\" xlink:href=\"#DejaVuSans-120\"/>\n     </g>\n    </g>\n   </g>\n   <g id=\"matplotlib.axis_4\">\n    <g id=\"ytick_4\">\n     <g id=\"line2d_133\">\n      <g>\n       <use style=\"stroke:#000000;stroke-width:0.8;\" x=\"70.178437\" xlink:href=\"#ma80adabd8d\" y=\"228.414717\"/>\n      </g>\n     </g>\n     <g id=\"text_32\">\n      <!-- −0.15 -->\n      <defs>\n       <path d=\"M 10.59375 35.5 \nL 73.1875 35.5 \nL 73.1875 27.203125 \nL 10.59375 27.203125 \nz\n\" id=\"DejaVuSans-8722\"/>\n       <path d=\"M 10.6875 12.40625 \nL 21 12.40625 \nL 21 0 \nL 10.6875 0 \nz\n\" id=\"DejaVuSans-46\"/>\n       <path d=\"M 10.796875 72.90625 \nL 49.515625 72.90625 \nL 49.515625 64.59375 \nL 19.828125 64.59375 \nL 19.828125 46.734375 \nQ 21.96875 47.46875 24.109375 47.828125 \nQ 26.265625 48.1875 28.421875 48.1875 \nQ 40.625 48.1875 47.75 41.5 \nQ 54.890625 34.8125 54.890625 23.390625 \nQ 54.890625 11.625 47.5625 5.09375 \nQ 40.234375 -1.421875 26.90625 -1.421875 \nQ 22.3125 -1.421875 17.546875 -0.640625 \nQ 12.796875 0.140625 7.71875 1.703125 \nL 7.71875 11.625 \nQ 12.109375 9.234375 16.796875 8.0625 \nQ 21.484375 6.890625 26.703125 6.890625 \nQ 35.15625 6.890625 40.078125 11.328125 \nQ 45.015625 15.765625 45.015625 23.390625 \nQ 45.015625 31 40.078125 35.4375 \nQ 35.15625 39.890625 26.703125 39.890625 \nQ 22.75 39.890625 18.8125 39.015625 \nQ 14.890625 38.140625 10.796875 36.28125 \nz\n\" id=\"DejaVuSans-53\"/>\n      </defs>\n      <g transform=\"translate(32.533125 232.213936)scale(0.1 -0.1)\">\n       <use xlink:href=\"#DejaVuSans-8722\"/>\n       <use x=\"83.789062\" xlink:href=\"#DejaVuSans-48\"/>\n       <use x=\"147.412109\" xlink:href=\"#DejaVuSans-46\"/>\n       <use x=\"179.199219\" xlink:href=\"#DejaVuSans-49\"/>\n       <use x=\"242.822266\" xlink:href=\"#DejaVuSans-53\"/>\n      </g>\n     </g>\n    </g>\n    <g id=\"ytick_5\">\n     <g id=\"line2d_134\">\n      <g>\n       <use style=\"stroke:#000000;stroke-width:0.8;\" x=\"70.178437\" xlink:href=\"#ma80adabd8d\" y=\"203.666654\"/>\n      </g>\n     </g>\n     <g id=\"text_33\">\n      <!-- −0.10 -->\n      <g transform=\"translate(32.533125 207.465873)scale(0.1 -0.1)\">\n       <use xlink:href=\"#DejaVuSans-8722\"/>\n       <use x=\"83.789062\" xlink:href=\"#DejaVuSans-48\"/>\n       <use x=\"147.412109\" xlink:href=\"#DejaVuSans-46\"/>\n       <use x=\"179.199219\" xlink:href=\"#DejaVuSans-49\"/>\n       <use x=\"242.822266\" xlink:href=\"#DejaVuSans-48\"/>\n      </g>\n     </g>\n    </g>\n    <g id=\"ytick_6\">\n     <g id=\"line2d_135\">\n      <g>\n       <use style=\"stroke:#000000;stroke-width:0.8;\" x=\"70.178437\" xlink:href=\"#ma80adabd8d\" y=\"178.918591\"/>\n      </g>\n     </g>\n     <g id=\"text_34\">\n      <!-- −0.05 -->\n      <g transform=\"translate(32.533125 182.717809)scale(0.1 -0.1)\">\n       <use xlink:href=\"#DejaVuSans-8722\"/>\n       <use x=\"83.789062\" xlink:href=\"#DejaVuSans-48\"/>\n       <use x=\"147.412109\" xlink:href=\"#DejaVuSans-46\"/>\n       <use x=\"179.199219\" xlink:href=\"#DejaVuSans-48\"/>\n       <use x=\"242.822266\" xlink:href=\"#DejaVuSans-53\"/>\n      </g>\n     </g>\n    </g>\n    <g id=\"ytick_7\">\n     <g id=\"line2d_136\">\n      <g>\n       <use style=\"stroke:#000000;stroke-width:0.8;\" x=\"70.178437\" xlink:href=\"#ma80adabd8d\" y=\"154.170528\"/>\n      </g>\n     </g>\n     <g id=\"text_35\">\n      <!-- 0.00 -->\n      <g transform=\"translate(40.912812 157.969746)scale(0.1 -0.1)\">\n       <use xlink:href=\"#DejaVuSans-48\"/>\n       <use x=\"63.623047\" xlink:href=\"#DejaVuSans-46\"/>\n       <use x=\"95.410156\" xlink:href=\"#DejaVuSans-48\"/>\n       <use x=\"159.033203\" xlink:href=\"#DejaVuSans-48\"/>\n      </g>\n     </g>\n    </g>\n    <g id=\"text_36\">\n     <!-- Customer Sentiment -->\n     <defs>\n      <path d=\"M 64.40625 67.28125 \nL 64.40625 56.890625 \nQ 59.421875 61.53125 53.78125 63.8125 \nQ 48.140625 66.109375 41.796875 66.109375 \nQ 29.296875 66.109375 22.65625 58.46875 \nQ 16.015625 50.828125 16.015625 36.375 \nQ 16.015625 21.96875 22.65625 14.328125 \nQ 29.296875 6.6875 41.796875 6.6875 \nQ 48.140625 6.6875 53.78125 8.984375 \nQ 59.421875 11.28125 64.40625 15.921875 \nL 64.40625 5.609375 \nQ 59.234375 2.09375 53.4375 0.328125 \nQ 47.65625 -1.421875 41.21875 -1.421875 \nQ 24.65625 -1.421875 15.125 8.703125 \nQ 5.609375 18.84375 5.609375 36.375 \nQ 5.609375 53.953125 15.125 64.078125 \nQ 24.65625 74.21875 41.21875 74.21875 \nQ 47.75 74.21875 53.53125 72.484375 \nQ 59.328125 70.75 64.40625 67.28125 \nz\n\" id=\"DejaVuSans-67\"/>\n     </defs>\n     <g transform=\"translate(26.453437 242.060256)rotate(-90)scale(0.1 -0.1)\">\n      <use xlink:href=\"#DejaVuSans-67\"/>\n      <use x=\"69.824219\" xlink:href=\"#DejaVuSans-117\"/>\n      <use x=\"133.203125\" xlink:href=\"#DejaVuSans-115\"/>\n      <use x=\"185.302734\" xlink:href=\"#DejaVuSans-116\"/>\n      <use x=\"224.511719\" xlink:href=\"#DejaVuSans-111\"/>\n      <use x=\"285.693359\" xlink:href=\"#DejaVuSans-109\"/>\n      <use x=\"383.105469\" xlink:href=\"#DejaVuSans-101\"/>\n      <use x=\"444.628906\" xlink:href=\"#DejaVuSans-114\"/>\n      <use x=\"485.742188\" xlink:href=\"#DejaVuSans-32\"/>\n      <use x=\"517.529297\" xlink:href=\"#DejaVuSans-83\"/>\n      <use x=\"581.005859\" xlink:href=\"#DejaVuSans-101\"/>\n      <use x=\"642.529297\" xlink:href=\"#DejaVuSans-110\"/>\n      <use x=\"705.908203\" xlink:href=\"#DejaVuSans-116\"/>\n      <use x=\"745.117188\" xlink:href=\"#DejaVuSans-105\"/>\n      <use x=\"772.900391\" xlink:href=\"#DejaVuSans-109\"/>\n      <use x=\"870.3125\" xlink:href=\"#DejaVuSans-101\"/>\n      <use x=\"931.835938\" xlink:href=\"#DejaVuSans-110\"/>\n      <use x=\"995.214844\" xlink:href=\"#DejaVuSans-116\"/>\n     </g>\n    </g>\n   </g>\n   <g id=\"line2d_137\">\n    <path clip-path=\"url(#pfed6374506)\" d=\"M 70.178437 235.265563 \nL 75.492723 196.771843 \nL 80.807009 223.42852 \nL 86.121295 172.467392 \nL 91.43558 163.962139 \nL 96.749866 167.992851 \nL 102.064152 173.211361 \nL 107.378437 168.267633 \nL 112.692723 163.967014 \nL 118.007009 178.974085 \nL 123.321295 175.647249 \nL 128.63558 164.548771 \nL 133.949866 177.799099 \nL 139.264152 176.347055 \nL 144.578437 175.711781 \nL 149.892723 171.509563 \nL 155.207009 166.848247 \nL 160.521295 171.109789 \nL 165.83558 164.719574 \nL 171.149866 179.859513 \nL 176.464152 181.835132 \nL 181.778437 170.447777 \nL 187.092723 168.830988 \nL 192.407009 161.494805 \nL 197.721295 175.444645 \nL 203.03558 158.948332 \nL 208.349866 167.571721 \nL 213.664152 167.274746 \nL 218.978438 169.381535 \nL 224.292723 162.311167 \nL 229.607009 174.835901 \nL 234.921295 168.067898 \nL 240.23558 165.645711 \nL 245.549866 157.355198 \nL 250.864152 161.75972 \nL 256.178437 163.186145 \nL 261.492723 162.182995 \nL 266.807009 176.275847 \nL 272.121295 169.70638 \nL 277.43558 166.304204 \nL 282.749866 157.876712 \nL 288.064152 164.882135 \nL 293.378437 162.753476 \nL 298.692723 158.264257 \nL 304.007009 153.615952 \nL 309.321295 154.556793 \nL 314.63558 161.374008 \nL 319.949866 155.050881 \nL 325.264152 164.543095 \nL 330.578437 155.568566 \nL 335.892723 157.85723 \nL 341.207009 169.570807 \nL 346.521295 147.913905 \nL 351.83558 146.073112 \nL 357.149866 150.264925 \nL 362.464152 156.468432 \nL 367.778437 145.414323 \nL 373.092723 148.096169 \nL 378.407009 154.921025 \nL 383.721295 159.077257 \nL 389.03558 158.623866 \nL 394.349866 159.090661 \nL 399.664152 151.513943 \nL 404.978438 160.619553 \n\" style=\"fill:none;stroke:#ff0000;stroke-linecap:square;stroke-width:1.5;\"/>\n   </g>\n   <g id=\"patch_8\">\n    <path d=\"M 70.178437 239.758125 \nL 70.178437 140.921761 \n\" style=\"fill:none;stroke:#000000;stroke-linecap:square;stroke-linejoin:miter;stroke-width:0.8;\"/>\n   </g>\n   <g id=\"patch_9\">\n    <path d=\"M 404.978437 239.758125 \nL 404.978437 140.921761 \n\" style=\"fill:none;stroke:#000000;stroke-linecap:square;stroke-linejoin:miter;stroke-width:0.8;\"/>\n   </g>\n   <g id=\"patch_10\">\n    <path d=\"M 70.178437 239.758125 \nL 404.978438 239.758125 \n\" style=\"fill:none;stroke:#000000;stroke-linecap:square;stroke-linejoin:miter;stroke-width:0.8;\"/>\n   </g>\n   <g id=\"patch_11\">\n    <path d=\"M 70.178437 140.921761 \nL 404.978438 140.921761 \n\" style=\"fill:none;stroke:#000000;stroke-linecap:square;stroke-linejoin:miter;stroke-width:0.8;\"/>\n   </g>\n  </g>\n </g>\n <defs>\n  <clipPath id=\"p1f76029145\">\n   <rect height=\"98.836364\" width=\"334.8\" x=\"70.178437\" y=\"22.318125\"/>\n  </clipPath>\n  <clipPath id=\"pfed6374506\">\n   <rect height=\"98.836364\" width=\"334.8\" x=\"70.178437\" y=\"140.921761\"/>\n  </clipPath>\n </defs>\n</svg>\n"
          },
          "metadata": {
            "tags": [],
            "needs_background": "light"
          }
        }
      ]
    },
    {
      "cell_type": "markdown",
      "metadata": {
        "id": "4ZrJf94UEgP7"
      },
      "source": [
        "#### American Airlines"
      ]
    },
    {
      "cell_type": "code",
      "metadata": {
        "id": "5a9SzB9ZEnXJ"
      },
      "source": [
        "amr_air_tweets = inbounds_and_outbounds \\\n",
        "    .loc[inbounds_and_outbounds.author_id_y == 'AmericanAir'] \\\n",
        "    .loc[inbounds_and_outbounds.created_at_x > datetime(2017, 4, 25).replace(tzinfo=pytz.utc)]"
      ],
      "execution_count": null,
      "outputs": []
    },
    {
      "cell_type": "code",
      "metadata": {
        "colab": {
          "base_uri": "https://localhost:8080/",
          "height": 423
        },
        "id": "DbGF4smXIUTK",
        "outputId": "db533094-fee8-4d9b-b5ef-5946fb5560e8"
      },
      "source": [
        "plt.subplot(2, 1, 1)\n",
        "\n",
        "ax = amr_air_tweets \\\n",
        "    .groupby(pd.Grouper(key='created_at_x', freq='24h')) \\\n",
        "    .count() \\\n",
        "    .tweet_id_x.sort_index() \\\n",
        "    .plot(title='@AmericanAir Volume & Sentiment - Impact of reducing leg room', kind='area')\n",
        "ax.set_ylabel('Inbound Tweets')\n",
        "    \n",
        "\n",
        "plt.subplot(2, 1, 2)\n",
        "ax = amr_air_tweets \\\n",
        "    .groupby(pd.Grouper(key='created_at_x', freq='24h')) \\\n",
        "    .inbound_sentiment.mean() \\\n",
        "    .sort_index() \\\n",
        "    .plot(color='red')\n",
        "ax.set_ylabel('Customer Sentiment')"
      ],
      "execution_count": null,
      "outputs": [
        {
          "output_type": "execute_result",
          "data": {
            "text/plain": [
              "Text(0, 0.5, 'Customer Sentiment')"
            ]
          },
          "metadata": {
            "tags": []
          },
          "execution_count": 140
        },
        {
          "output_type": "display_data",
          "data": {
            "text/plain": [
              "<Figure size 432x288 with 2 Axes>"
            ],
            "image/svg+xml": "<?xml version=\"1.0\" encoding=\"utf-8\" standalone=\"no\"?>\n<!DOCTYPE svg PUBLIC \"-//W3C//DTD SVG 1.1//EN\"\n  \"http://www.w3.org/Graphics/SVG/1.1/DTD/svg11.dtd\">\n<!-- Created with matplotlib (https://matplotlib.org/) -->\n<svg height=\"288.790312pt\" version=\"1.1\" viewBox=\"0 0 424.320313 288.790312\" width=\"424.320313pt\" xmlns=\"http://www.w3.org/2000/svg\" xmlns:xlink=\"http://www.w3.org/1999/xlink\">\n <defs>\n  <style type=\"text/css\">\n*{stroke-linecap:butt;stroke-linejoin:round;}\n  </style>\n </defs>\n <g id=\"figure_1\">\n  <g id=\"patch_1\">\n   <path d=\"M 0 288.790312 \nL 424.320313 288.790312 \nL 424.320313 0 \nL 0 0 \nz\n\" style=\"fill:none;\"/>\n  </g>\n  <g id=\"axes_1\">\n   <g id=\"patch_2\">\n    <path d=\"M 52.160938 121.154489 \nL 386.960938 121.154489 \nL 386.960938 22.318125 \nL 52.160938 22.318125 \nz\n\" style=\"fill:#ffffff;\"/>\n   </g>\n   <g id=\"PolyCollection_1\">\n    <defs>\n     <path d=\"M 52.160938 -167.807908 \nL 52.160938 -167.635824 \nL 53.710938 -167.635824 \nL 55.260937 -167.635824 \nL 56.810937 -167.635824 \nL 58.360937 -167.635824 \nL 59.910938 -167.635824 \nL 61.460938 -167.635824 \nL 63.010937 -167.635824 \nL 64.560937 -167.635824 \nL 66.110937 -167.635824 \nL 67.660938 -167.635824 \nL 69.210938 -167.635824 \nL 70.760937 -167.635824 \nL 72.310937 -167.635824 \nL 73.860937 -167.635824 \nL 75.410938 -167.635824 \nL 76.960938 -167.635824 \nL 78.510937 -167.635824 \nL 80.060937 -167.635824 \nL 81.610937 -167.635824 \nL 83.160938 -167.635824 \nL 84.710938 -167.635824 \nL 86.260937 -167.635824 \nL 87.810937 -167.635824 \nL 89.360937 -167.635824 \nL 90.910938 -167.635824 \nL 92.460938 -167.635824 \nL 94.010937 -167.635824 \nL 95.560937 -167.635824 \nL 97.110937 -167.635824 \nL 98.660938 -167.635824 \nL 100.210938 -167.635824 \nL 101.760937 -167.635824 \nL 103.310937 -167.635824 \nL 104.860937 -167.635824 \nL 106.410938 -167.635824 \nL 107.960938 -167.635824 \nL 109.510937 -167.635824 \nL 111.060937 -167.635824 \nL 112.610937 -167.635824 \nL 114.160938 -167.635824 \nL 115.710938 -167.635824 \nL 117.260937 -167.635824 \nL 118.810937 -167.635824 \nL 120.360937 -167.635824 \nL 121.910938 -167.635824 \nL 123.460938 -167.635824 \nL 125.010937 -167.635824 \nL 126.560937 -167.635824 \nL 128.110937 -167.635824 \nL 129.660938 -167.635824 \nL 131.210938 -167.635824 \nL 132.760937 -167.635824 \nL 134.310937 -167.635824 \nL 135.860937 -167.635824 \nL 137.410938 -167.635824 \nL 138.960938 -167.635824 \nL 140.510937 -167.635824 \nL 142.060937 -167.635824 \nL 143.610937 -167.635824 \nL 145.160938 -167.635824 \nL 146.710938 -167.635824 \nL 148.260937 -167.635824 \nL 149.810937 -167.635824 \nL 151.360937 -167.635824 \nL 152.910938 -167.635824 \nL 154.460938 -167.635824 \nL 156.010937 -167.635824 \nL 157.560937 -167.635824 \nL 159.110937 -167.635824 \nL 160.660938 -167.635824 \nL 162.210938 -167.635824 \nL 163.760937 -167.635824 \nL 165.310937 -167.635824 \nL 166.860937 -167.635824 \nL 168.410938 -167.635824 \nL 169.960938 -167.635824 \nL 171.510937 -167.635824 \nL 173.060937 -167.635824 \nL 174.610937 -167.635824 \nL 176.160938 -167.635824 \nL 177.710938 -167.635824 \nL 179.260937 -167.635824 \nL 180.810937 -167.635824 \nL 182.360937 -167.635824 \nL 183.910938 -167.635824 \nL 185.460938 -167.635824 \nL 187.010937 -167.635824 \nL 188.560937 -167.635824 \nL 190.110937 -167.635824 \nL 191.660938 -167.635824 \nL 193.210938 -167.635824 \nL 194.760937 -167.635824 \nL 196.310937 -167.635824 \nL 197.860937 -167.635824 \nL 199.410938 -167.635824 \nL 200.960938 -167.635824 \nL 202.510937 -167.635824 \nL 204.060937 -167.635824 \nL 205.610937 -167.635824 \nL 207.160938 -167.635824 \nL 208.710938 -167.635824 \nL 210.260937 -167.635824 \nL 211.810937 -167.635824 \nL 213.360937 -167.635824 \nL 214.910938 -167.635824 \nL 216.460938 -167.635824 \nL 218.010937 -167.635824 \nL 219.560937 -167.635824 \nL 221.110937 -167.635824 \nL 222.660938 -167.635824 \nL 224.210938 -167.635824 \nL 225.760937 -167.635824 \nL 227.310937 -167.635824 \nL 228.860937 -167.635824 \nL 230.410938 -167.635824 \nL 231.960938 -167.635824 \nL 233.510937 -167.635824 \nL 235.060937 -167.635824 \nL 236.610937 -167.635824 \nL 238.160938 -167.635824 \nL 239.710938 -167.635824 \nL 241.260937 -167.635824 \nL 242.810937 -167.635824 \nL 244.360937 -167.635824 \nL 245.910938 -167.635824 \nL 247.460938 -167.635824 \nL 249.010937 -167.635824 \nL 250.560937 -167.635824 \nL 252.110937 -167.635824 \nL 253.660938 -167.635824 \nL 255.210938 -167.635824 \nL 256.760937 -167.635824 \nL 258.310937 -167.635824 \nL 259.860937 -167.635824 \nL 261.410938 -167.635824 \nL 262.960938 -167.635824 \nL 264.510937 -167.635824 \nL 266.060937 -167.635824 \nL 267.610937 -167.635824 \nL 269.160938 -167.635824 \nL 270.710938 -167.635824 \nL 272.260937 -167.635824 \nL 273.810937 -167.635824 \nL 275.360937 -167.635824 \nL 276.910938 -167.635824 \nL 278.460938 -167.635824 \nL 280.010937 -167.635824 \nL 281.560937 -167.635824 \nL 283.110937 -167.635824 \nL 284.660938 -167.635824 \nL 286.210938 -167.635824 \nL 287.760937 -167.635824 \nL 289.310937 -167.635824 \nL 290.860937 -167.635824 \nL 292.410938 -167.635824 \nL 293.960938 -167.635824 \nL 295.510937 -167.635824 \nL 297.060937 -167.635824 \nL 298.610937 -167.635824 \nL 300.160938 -167.635824 \nL 301.710938 -167.635824 \nL 303.260937 -167.635824 \nL 304.810937 -167.635824 \nL 306.360937 -167.635824 \nL 307.910938 -167.635824 \nL 309.460938 -167.635824 \nL 311.010937 -167.635824 \nL 312.560937 -167.635824 \nL 314.110937 -167.635824 \nL 315.660938 -167.635824 \nL 317.210938 -167.635824 \nL 318.760937 -167.635824 \nL 320.310937 -167.635824 \nL 321.860937 -167.635824 \nL 323.410938 -167.635824 \nL 324.960938 -167.635824 \nL 326.510937 -167.635824 \nL 328.060937 -167.635824 \nL 329.610937 -167.635824 \nL 331.160938 -167.635824 \nL 332.710938 -167.635824 \nL 334.260937 -167.635824 \nL 335.810937 -167.635824 \nL 337.360937 -167.635824 \nL 338.910938 -167.635824 \nL 340.460938 -167.635824 \nL 342.010937 -167.635824 \nL 343.560937 -167.635824 \nL 345.110937 -167.635824 \nL 346.660938 -167.635824 \nL 348.210938 -167.635824 \nL 349.760937 -167.635824 \nL 351.310937 -167.635824 \nL 352.860937 -167.635824 \nL 354.410938 -167.635824 \nL 355.960938 -167.635824 \nL 357.510937 -167.635824 \nL 359.060937 -167.635824 \nL 360.610937 -167.635824 \nL 362.160938 -167.635824 \nL 363.710938 -167.635824 \nL 365.260937 -167.635824 \nL 366.810937 -167.635824 \nL 368.360937 -167.635824 \nL 369.910938 -167.635824 \nL 371.460938 -167.635824 \nL 373.010937 -167.635824 \nL 374.560937 -167.635824 \nL 376.110937 -167.635824 \nL 377.660938 -167.635824 \nL 379.210938 -167.635824 \nL 380.760937 -167.635824 \nL 382.310937 -167.635824 \nL 383.860937 -167.635824 \nL 385.410938 -167.635824 \nL 386.960938 -167.635824 \nL 386.960938 -218.400562 \nL 386.960938 -218.400562 \nL 385.410938 -221.498071 \nL 383.860937 -249.54774 \nL 382.310937 -252.301082 \nL 380.760937 -240.943547 \nL 379.210938 -234.060193 \nL 377.660938 -250.408159 \nL 376.110937 -242.492302 \nL 374.560937 -220.98182 \nL 373.010937 -204.633853 \nL 371.460938 -224.767665 \nL 369.910938 -253.505669 \nL 368.360937 -233.371857 \nL 366.810937 -233.716025 \nL 365.260937 -227.69309 \nL 363.710938 -171.077501 \nL 362.160938 -233.199774 \nL 360.610937 -250.408159 \nL 359.060937 -233.888109 \nL 357.510937 -234.060193 \nL 355.960938 -240.59938 \nL 354.410938 -227.521006 \nL 352.860937 -238.018122 \nL 351.310937 -246.622315 \nL 349.760937 -241.115631 \nL 348.210938 -230.618516 \nL 346.660938 -228.381426 \nL 345.110937 -252.817333 \nL 343.560937 -239.222709 \nL 342.010937 -228.381426 \nL 340.460938 -237.673954 \nL 338.910938 -233.888109 \nL 337.360937 -221.325987 \nL 335.810937 -216.335556 \nL 334.260937 -243.868973 \nL 332.710938 -221.842239 \nL 331.160938 -230.7906 \nL 329.610937 -245.761895 \nL 328.060937 -237.50187 \nL 326.510937 -243.352721 \nL 324.960938 -250.924411 \nL 323.410938 -257.291514 \nL 321.860937 -230.618516 \nL 320.310937 -229.93018 \nL 318.760937 -242.83647 \nL 317.210938 -239.394793 \nL 315.660938 -237.329786 \nL 314.110937 -241.803967 \nL 312.560937 -243.352721 \nL 311.010937 -251.612746 \nL 309.460938 -238.362289 \nL 307.910938 -248.343153 \nL 306.360937 -249.891908 \nL 304.810937 -238.706457 \nL 303.260937 -246.106063 \nL 301.710938 -261.765694 \nL 300.160938 -231.823103 \nL 298.610937 -235.608948 \nL 297.060937 -250.236076 \nL 295.510937 -240.255212 \nL 293.960938 -226.660587 \nL 292.410938 -169.70083 \nL 290.860937 -168.668327 \nL 289.310937 -168.324159 \nL 287.760937 -167.635824 \nL 286.210938 -168.152075 \nL 284.660938 -167.807908 \nL 283.110937 -167.635824 \nL 281.560937 -168.324159 \nL 280.010937 -167.635824 \nL 278.460938 -168.324159 \nL 276.910938 -167.979992 \nL 275.360937 -167.635824 \nL 273.810937 -167.635824 \nL 272.260937 -167.635824 \nL 270.710938 -167.807908 \nL 269.160938 -167.635824 \nL 267.610937 -167.635824 \nL 266.060937 -167.635824 \nL 264.510937 -167.635824 \nL 262.960938 -167.807908 \nL 261.410938 -167.807908 \nL 259.860937 -167.635824 \nL 258.310937 -167.635824 \nL 256.760937 -167.635824 \nL 255.210938 -167.635824 \nL 253.660938 -167.635824 \nL 252.110937 -167.635824 \nL 250.560937 -167.807908 \nL 249.010937 -167.807908 \nL 247.460938 -167.635824 \nL 245.910938 -167.635824 \nL 244.360937 -167.635824 \nL 242.810937 -167.635824 \nL 241.260937 -167.807908 \nL 239.710938 -167.807908 \nL 238.160938 -167.635824 \nL 236.610937 -167.807908 \nL 235.060937 -167.635824 \nL 233.510937 -167.635824 \nL 231.960938 -167.807908 \nL 230.410938 -167.635824 \nL 228.860937 -167.635824 \nL 227.310937 -167.807908 \nL 225.760937 -167.807908 \nL 224.210938 -167.635824 \nL 222.660938 -167.807908 \nL 221.110937 -167.635824 \nL 219.560937 -167.635824 \nL 218.010937 -167.807908 \nL 216.460938 -167.635824 \nL 214.910938 -167.635824 \nL 213.360937 -167.635824 \nL 211.810937 -167.635824 \nL 210.260937 -167.635824 \nL 208.710938 -167.635824 \nL 207.160938 -167.635824 \nL 205.610937 -167.635824 \nL 204.060937 -167.807908 \nL 202.510937 -167.635824 \nL 200.960938 -167.635824 \nL 199.410938 -167.635824 \nL 197.860937 -167.807908 \nL 196.310937 -167.635824 \nL 194.760937 -167.635824 \nL 193.210938 -167.635824 \nL 191.660938 -167.635824 \nL 190.110937 -167.635824 \nL 188.560937 -167.635824 \nL 187.010937 -167.635824 \nL 185.460938 -167.807908 \nL 183.910938 -167.635824 \nL 182.360937 -167.635824 \nL 180.810937 -167.635824 \nL 179.260937 -167.635824 \nL 177.710938 -167.635824 \nL 176.160938 -167.635824 \nL 174.610937 -167.635824 \nL 173.060937 -167.635824 \nL 171.510937 -167.807908 \nL 169.960938 -167.635824 \nL 168.410938 -167.635824 \nL 166.860937 -167.635824 \nL 165.310937 -167.635824 \nL 163.760937 -167.635824 \nL 162.210938 -167.635824 \nL 160.660938 -167.635824 \nL 159.110937 -167.635824 \nL 157.560937 -167.635824 \nL 156.010937 -167.635824 \nL 154.460938 -167.635824 \nL 152.910938 -167.807908 \nL 151.360937 -167.635824 \nL 149.810937 -167.635824 \nL 148.260937 -167.635824 \nL 146.710938 -167.635824 \nL 145.160938 -167.807908 \nL 143.610937 -167.807908 \nL 142.060937 -167.807908 \nL 140.510937 -167.635824 \nL 138.960938 -167.635824 \nL 137.410938 -167.635824 \nL 135.860937 -167.635824 \nL 134.310937 -167.635824 \nL 132.760937 -167.635824 \nL 131.210938 -167.635824 \nL 129.660938 -167.635824 \nL 128.110937 -167.635824 \nL 126.560937 -167.635824 \nL 125.010937 -167.807908 \nL 123.460938 -167.635824 \nL 121.910938 -167.635824 \nL 120.360937 -167.635824 \nL 118.810937 -167.635824 \nL 117.260937 -167.635824 \nL 115.710938 -167.807908 \nL 114.160938 -167.635824 \nL 112.610937 -167.635824 \nL 111.060937 -167.635824 \nL 109.510937 -167.635824 \nL 107.960938 -167.635824 \nL 106.410938 -167.635824 \nL 104.860937 -167.635824 \nL 103.310937 -167.635824 \nL 101.760937 -167.635824 \nL 100.210938 -167.635824 \nL 98.660938 -167.635824 \nL 97.110937 -167.635824 \nL 95.560937 -167.635824 \nL 94.010937 -167.635824 \nL 92.460938 -167.635824 \nL 90.910938 -167.635824 \nL 89.360937 -167.635824 \nL 87.810937 -167.635824 \nL 86.260937 -167.635824 \nL 84.710938 -167.635824 \nL 83.160938 -167.635824 \nL 81.610937 -167.635824 \nL 80.060937 -167.635824 \nL 78.510937 -167.635824 \nL 76.960938 -167.807908 \nL 75.410938 -167.635824 \nL 73.860937 -167.635824 \nL 72.310937 -167.635824 \nL 70.760937 -167.635824 \nL 69.210938 -167.635824 \nL 67.660938 -167.635824 \nL 66.110937 -167.635824 \nL 64.560937 -167.635824 \nL 63.010937 -167.635824 \nL 61.460938 -167.635824 \nL 59.910938 -167.635824 \nL 58.360937 -167.635824 \nL 56.810937 -167.635824 \nL 55.260937 -167.635824 \nL 53.710938 -167.807908 \nL 52.160938 -167.807908 \nz\n\" id=\"mf477265588\" style=\"stroke:#1f77b4;\"/>\n    </defs>\n    <g clip-path=\"url(#pbfce711f2c)\">\n     <use style=\"fill:#1f77b4;stroke:#1f77b4;\" x=\"0\" xlink:href=\"#mf477265588\" y=\"288.790312\"/>\n    </g>\n   </g>\n   <g id=\"matplotlib.axis_1\">\n    <g id=\"xtick_1\">\n     <g id=\"line2d_1\">\n      <defs>\n       <path d=\"M 0 0 \nL 0 3.5 \n\" id=\"m42a1106883\" style=\"stroke:#000000;stroke-width:0.8;\"/>\n      </defs>\n      <g>\n       <use style=\"stroke:#000000;stroke-width:0.8;\" x=\"52.160938\" xlink:href=\"#m42a1106883\" y=\"121.154489\"/>\n      </g>\n     </g>\n     <g id=\"text_1\">\n      <!-- May -->\n      <defs>\n       <path d=\"M 9.8125 72.90625 \nL 24.515625 72.90625 \nL 43.109375 23.296875 \nL 61.8125 72.90625 \nL 76.515625 72.90625 \nL 76.515625 0 \nL 66.890625 0 \nL 66.890625 64.015625 \nL 48.09375 14.015625 \nL 38.1875 14.015625 \nL 19.390625 64.015625 \nL 19.390625 0 \nL 9.8125 0 \nz\n\" id=\"DejaVuSans-77\"/>\n       <path d=\"M 34.28125 27.484375 \nQ 23.390625 27.484375 19.1875 25 \nQ 14.984375 22.515625 14.984375 16.5 \nQ 14.984375 11.71875 18.140625 8.90625 \nQ 21.296875 6.109375 26.703125 6.109375 \nQ 34.1875 6.109375 38.703125 11.40625 \nQ 43.21875 16.703125 43.21875 25.484375 \nL 43.21875 27.484375 \nz\nM 52.203125 31.203125 \nL 52.203125 0 \nL 43.21875 0 \nL 43.21875 8.296875 \nQ 40.140625 3.328125 35.546875 0.953125 \nQ 30.953125 -1.421875 24.3125 -1.421875 \nQ 15.921875 -1.421875 10.953125 3.296875 \nQ 6 8.015625 6 15.921875 \nQ 6 25.140625 12.171875 29.828125 \nQ 18.359375 34.515625 30.609375 34.515625 \nL 43.21875 34.515625 \nL 43.21875 35.40625 \nQ 43.21875 41.609375 39.140625 45 \nQ 35.0625 48.390625 27.6875 48.390625 \nQ 23 48.390625 18.546875 47.265625 \nQ 14.109375 46.140625 10.015625 43.890625 \nL 10.015625 52.203125 \nQ 14.9375 54.109375 19.578125 55.046875 \nQ 24.21875 56 28.609375 56 \nQ 40.484375 56 46.34375 49.84375 \nQ 52.203125 43.703125 52.203125 31.203125 \nz\n\" id=\"DejaVuSans-97\"/>\n       <path d=\"M 32.171875 -5.078125 \nQ 28.375 -14.84375 24.75 -17.8125 \nQ 21.140625 -20.796875 15.09375 -20.796875 \nL 7.90625 -20.796875 \nL 7.90625 -13.28125 \nL 13.1875 -13.28125 \nQ 16.890625 -13.28125 18.9375 -11.515625 \nQ 21 -9.765625 23.484375 -3.21875 \nL 25.09375 0.875 \nL 2.984375 54.6875 \nL 12.5 54.6875 \nL 29.59375 11.921875 \nL 46.6875 54.6875 \nL 56.203125 54.6875 \nz\n\" id=\"DejaVuSans-121\"/>\n      </defs>\n      <g transform=\"translate(41.823438 135.752926)scale(0.1 -0.1)\">\n       <use xlink:href=\"#DejaVuSans-77\"/>\n       <use x=\"86.279297\" xlink:href=\"#DejaVuSans-97\"/>\n       <use x=\"147.558594\" xlink:href=\"#DejaVuSans-121\"/>\n      </g>\n      <!-- 2017 -->\n      <defs>\n       <path d=\"M 19.1875 8.296875 \nL 53.609375 8.296875 \nL 53.609375 0 \nL 7.328125 0 \nL 7.328125 8.296875 \nQ 12.9375 14.109375 22.625 23.890625 \nQ 32.328125 33.6875 34.8125 36.53125 \nQ 39.546875 41.84375 41.421875 45.53125 \nQ 43.3125 49.21875 43.3125 52.78125 \nQ 43.3125 58.59375 39.234375 62.25 \nQ 35.15625 65.921875 28.609375 65.921875 \nQ 23.96875 65.921875 18.8125 64.3125 \nQ 13.671875 62.703125 7.8125 59.421875 \nL 7.8125 69.390625 \nQ 13.765625 71.78125 18.9375 73 \nQ 24.125 74.21875 28.421875 74.21875 \nQ 39.75 74.21875 46.484375 68.546875 \nQ 53.21875 62.890625 53.21875 53.421875 \nQ 53.21875 48.921875 51.53125 44.890625 \nQ 49.859375 40.875 45.40625 35.40625 \nQ 44.1875 33.984375 37.640625 27.21875 \nQ 31.109375 20.453125 19.1875 8.296875 \nz\n\" id=\"DejaVuSans-50\"/>\n       <path d=\"M 31.78125 66.40625 \nQ 24.171875 66.40625 20.328125 58.90625 \nQ 16.5 51.421875 16.5 36.375 \nQ 16.5 21.390625 20.328125 13.890625 \nQ 24.171875 6.390625 31.78125 6.390625 \nQ 39.453125 6.390625 43.28125 13.890625 \nQ 47.125 21.390625 47.125 36.375 \nQ 47.125 51.421875 43.28125 58.90625 \nQ 39.453125 66.40625 31.78125 66.40625 \nz\nM 31.78125 74.21875 \nQ 44.046875 74.21875 50.515625 64.515625 \nQ 56.984375 54.828125 56.984375 36.375 \nQ 56.984375 17.96875 50.515625 8.265625 \nQ 44.046875 -1.421875 31.78125 -1.421875 \nQ 19.53125 -1.421875 13.0625 8.265625 \nQ 6.59375 17.96875 6.59375 36.375 \nQ 6.59375 54.828125 13.0625 64.515625 \nQ 19.53125 74.21875 31.78125 74.21875 \nz\n\" id=\"DejaVuSans-48\"/>\n       <path d=\"M 12.40625 8.296875 \nL 28.515625 8.296875 \nL 28.515625 63.921875 \nL 10.984375 60.40625 \nL 10.984375 69.390625 \nL 28.421875 72.90625 \nL 38.28125 72.90625 \nL 38.28125 8.296875 \nL 54.390625 8.296875 \nL 54.390625 0 \nL 12.40625 0 \nz\n\" id=\"DejaVuSans-49\"/>\n       <path d=\"M 8.203125 72.90625 \nL 55.078125 72.90625 \nL 55.078125 68.703125 \nL 28.609375 0 \nL 18.3125 0 \nL 43.21875 64.59375 \nL 8.203125 64.59375 \nz\n\" id=\"DejaVuSans-55\"/>\n      </defs>\n      <g transform=\"translate(39.435938 146.950739)scale(0.1 -0.1)\">\n       <use xlink:href=\"#DejaVuSans-50\"/>\n       <use x=\"63.623047\" xlink:href=\"#DejaVuSans-48\"/>\n       <use x=\"127.246094\" xlink:href=\"#DejaVuSans-49\"/>\n       <use x=\"190.869141\" xlink:href=\"#DejaVuSans-55\"/>\n      </g>\n     </g>\n    </g>\n    <g id=\"xtick_2\">\n     <g id=\"line2d_2\">\n      <g>\n       <use style=\"stroke:#000000;stroke-width:0.8;\" x=\"100.210938\" xlink:href=\"#m42a1106883\" y=\"121.154489\"/>\n      </g>\n     </g>\n     <g id=\"text_2\">\n      <!-- Jun -->\n      <defs>\n       <path d=\"M 9.8125 72.90625 \nL 19.671875 72.90625 \nL 19.671875 5.078125 \nQ 19.671875 -8.109375 14.671875 -14.0625 \nQ 9.671875 -20.015625 -1.421875 -20.015625 \nL -5.171875 -20.015625 \nL -5.171875 -11.71875 \nL -2.09375 -11.71875 \nQ 4.4375 -11.71875 7.125 -8.046875 \nQ 9.8125 -4.390625 9.8125 5.078125 \nz\n\" id=\"DejaVuSans-74\"/>\n       <path d=\"M 8.5 21.578125 \nL 8.5 54.6875 \nL 17.484375 54.6875 \nL 17.484375 21.921875 \nQ 17.484375 14.15625 20.5 10.265625 \nQ 23.53125 6.390625 29.59375 6.390625 \nQ 36.859375 6.390625 41.078125 11.03125 \nQ 45.3125 15.671875 45.3125 23.6875 \nL 45.3125 54.6875 \nL 54.296875 54.6875 \nL 54.296875 0 \nL 45.3125 0 \nL 45.3125 8.40625 \nQ 42.046875 3.421875 37.71875 1 \nQ 33.40625 -1.421875 27.6875 -1.421875 \nQ 18.265625 -1.421875 13.375 4.4375 \nQ 8.5 10.296875 8.5 21.578125 \nz\nM 31.109375 56 \nz\n\" id=\"DejaVuSans-117\"/>\n       <path d=\"M 54.890625 33.015625 \nL 54.890625 0 \nL 45.90625 0 \nL 45.90625 32.71875 \nQ 45.90625 40.484375 42.875 44.328125 \nQ 39.84375 48.1875 33.796875 48.1875 \nQ 26.515625 48.1875 22.3125 43.546875 \nQ 18.109375 38.921875 18.109375 30.90625 \nL 18.109375 0 \nL 9.078125 0 \nL 9.078125 54.6875 \nL 18.109375 54.6875 \nL 18.109375 46.1875 \nQ 21.34375 51.125 25.703125 53.5625 \nQ 30.078125 56 35.796875 56 \nQ 45.21875 56 50.046875 50.171875 \nQ 54.890625 44.34375 54.890625 33.015625 \nz\n\" id=\"DejaVuSans-110\"/>\n      </defs>\n      <g transform=\"translate(92.398438 135.752926)scale(0.1 -0.1)\">\n       <use xlink:href=\"#DejaVuSans-74\"/>\n       <use x=\"29.492188\" xlink:href=\"#DejaVuSans-117\"/>\n       <use x=\"92.871094\" xlink:href=\"#DejaVuSans-110\"/>\n      </g>\n     </g>\n    </g>\n    <g id=\"xtick_3\">\n     <g id=\"line2d_3\">\n      <g>\n       <use style=\"stroke:#000000;stroke-width:0.8;\" x=\"146.710938\" xlink:href=\"#m42a1106883\" y=\"121.154489\"/>\n      </g>\n     </g>\n     <g id=\"text_3\">\n      <!-- Jul -->\n      <defs>\n       <path d=\"M 9.421875 75.984375 \nL 18.40625 75.984375 \nL 18.40625 0 \nL 9.421875 0 \nz\n\" id=\"DejaVuSans-108\"/>\n      </defs>\n      <g transform=\"translate(140.678125 135.752926)scale(0.1 -0.1)\">\n       <use xlink:href=\"#DejaVuSans-74\"/>\n       <use x=\"29.492188\" xlink:href=\"#DejaVuSans-117\"/>\n       <use x=\"92.871094\" xlink:href=\"#DejaVuSans-108\"/>\n      </g>\n     </g>\n    </g>\n    <g id=\"xtick_4\">\n     <g id=\"line2d_4\">\n      <g>\n       <use style=\"stroke:#000000;stroke-width:0.8;\" x=\"194.760937\" xlink:href=\"#m42a1106883\" y=\"121.154489\"/>\n      </g>\n     </g>\n     <g id=\"text_4\">\n      <!-- Aug -->\n      <defs>\n       <path d=\"M 34.1875 63.1875 \nL 20.796875 26.90625 \nL 47.609375 26.90625 \nz\nM 28.609375 72.90625 \nL 39.796875 72.90625 \nL 67.578125 0 \nL 57.328125 0 \nL 50.6875 18.703125 \nL 17.828125 18.703125 \nL 11.1875 0 \nL 0.78125 0 \nz\n\" id=\"DejaVuSans-65\"/>\n       <path d=\"M 45.40625 27.984375 \nQ 45.40625 37.75 41.375 43.109375 \nQ 37.359375 48.484375 30.078125 48.484375 \nQ 22.859375 48.484375 18.828125 43.109375 \nQ 14.796875 37.75 14.796875 27.984375 \nQ 14.796875 18.265625 18.828125 12.890625 \nQ 22.859375 7.515625 30.078125 7.515625 \nQ 37.359375 7.515625 41.375 12.890625 \nQ 45.40625 18.265625 45.40625 27.984375 \nz\nM 54.390625 6.78125 \nQ 54.390625 -7.171875 48.1875 -13.984375 \nQ 42 -20.796875 29.203125 -20.796875 \nQ 24.46875 -20.796875 20.265625 -20.09375 \nQ 16.0625 -19.390625 12.109375 -17.921875 \nL 12.109375 -9.1875 \nQ 16.0625 -11.328125 19.921875 -12.34375 \nQ 23.78125 -13.375 27.78125 -13.375 \nQ 36.625 -13.375 41.015625 -8.765625 \nQ 45.40625 -4.15625 45.40625 5.171875 \nL 45.40625 9.625 \nQ 42.625 4.78125 38.28125 2.390625 \nQ 33.9375 0 27.875 0 \nQ 17.828125 0 11.671875 7.65625 \nQ 5.515625 15.328125 5.515625 27.984375 \nQ 5.515625 40.671875 11.671875 48.328125 \nQ 17.828125 56 27.875 56 \nQ 33.9375 56 38.28125 53.609375 \nQ 42.625 51.21875 45.40625 46.390625 \nL 45.40625 54.6875 \nL 54.390625 54.6875 \nz\n\" id=\"DejaVuSans-103\"/>\n      </defs>\n      <g transform=\"translate(184.997656 135.752926)scale(0.1 -0.1)\">\n       <use xlink:href=\"#DejaVuSans-65\"/>\n       <use x=\"68.408203\" xlink:href=\"#DejaVuSans-117\"/>\n       <use x=\"131.787109\" xlink:href=\"#DejaVuSans-103\"/>\n      </g>\n     </g>\n    </g>\n    <g id=\"xtick_5\">\n     <g id=\"line2d_5\">\n      <g>\n       <use style=\"stroke:#000000;stroke-width:0.8;\" x=\"242.810937\" xlink:href=\"#m42a1106883\" y=\"121.154489\"/>\n      </g>\n     </g>\n     <g id=\"text_5\">\n      <!-- Sep -->\n      <defs>\n       <path d=\"M 53.515625 70.515625 \nL 53.515625 60.890625 \nQ 47.90625 63.578125 42.921875 64.890625 \nQ 37.9375 66.21875 33.296875 66.21875 \nQ 25.25 66.21875 20.875 63.09375 \nQ 16.5 59.96875 16.5 54.203125 \nQ 16.5 49.359375 19.40625 46.890625 \nQ 22.3125 44.4375 30.421875 42.921875 \nL 36.375 41.703125 \nQ 47.40625 39.59375 52.65625 34.296875 \nQ 57.90625 29 57.90625 20.125 \nQ 57.90625 9.515625 50.796875 4.046875 \nQ 43.703125 -1.421875 29.984375 -1.421875 \nQ 24.8125 -1.421875 18.96875 -0.25 \nQ 13.140625 0.921875 6.890625 3.21875 \nL 6.890625 13.375 \nQ 12.890625 10.015625 18.65625 8.296875 \nQ 24.421875 6.59375 29.984375 6.59375 \nQ 38.421875 6.59375 43.015625 9.90625 \nQ 47.609375 13.234375 47.609375 19.390625 \nQ 47.609375 24.75 44.3125 27.78125 \nQ 41.015625 30.8125 33.5 32.328125 \nL 27.484375 33.5 \nQ 16.453125 35.6875 11.515625 40.375 \nQ 6.59375 45.0625 6.59375 53.421875 \nQ 6.59375 63.09375 13.40625 68.65625 \nQ 20.21875 74.21875 32.171875 74.21875 \nQ 37.3125 74.21875 42.625 73.28125 \nQ 47.953125 72.359375 53.515625 70.515625 \nz\n\" id=\"DejaVuSans-83\"/>\n       <path d=\"M 56.203125 29.59375 \nL 56.203125 25.203125 \nL 14.890625 25.203125 \nQ 15.484375 15.921875 20.484375 11.0625 \nQ 25.484375 6.203125 34.421875 6.203125 \nQ 39.59375 6.203125 44.453125 7.46875 \nQ 49.3125 8.734375 54.109375 11.28125 \nL 54.109375 2.78125 \nQ 49.265625 0.734375 44.1875 -0.34375 \nQ 39.109375 -1.421875 33.890625 -1.421875 \nQ 20.796875 -1.421875 13.15625 6.1875 \nQ 5.515625 13.8125 5.515625 26.8125 \nQ 5.515625 40.234375 12.765625 48.109375 \nQ 20.015625 56 32.328125 56 \nQ 43.359375 56 49.78125 48.890625 \nQ 56.203125 41.796875 56.203125 29.59375 \nz\nM 47.21875 32.234375 \nQ 47.125 39.59375 43.09375 43.984375 \nQ 39.0625 48.390625 32.421875 48.390625 \nQ 24.90625 48.390625 20.390625 44.140625 \nQ 15.875 39.890625 15.1875 32.171875 \nz\n\" id=\"DejaVuSans-101\"/>\n       <path d=\"M 18.109375 8.203125 \nL 18.109375 -20.796875 \nL 9.078125 -20.796875 \nL 9.078125 54.6875 \nL 18.109375 54.6875 \nL 18.109375 46.390625 \nQ 20.953125 51.265625 25.265625 53.625 \nQ 29.59375 56 35.59375 56 \nQ 45.5625 56 51.78125 48.09375 \nQ 58.015625 40.1875 58.015625 27.296875 \nQ 58.015625 14.40625 51.78125 6.484375 \nQ 45.5625 -1.421875 35.59375 -1.421875 \nQ 29.59375 -1.421875 25.265625 0.953125 \nQ 20.953125 3.328125 18.109375 8.203125 \nz\nM 48.6875 27.296875 \nQ 48.6875 37.203125 44.609375 42.84375 \nQ 40.53125 48.484375 33.40625 48.484375 \nQ 26.265625 48.484375 22.1875 42.84375 \nQ 18.109375 37.203125 18.109375 27.296875 \nQ 18.109375 17.390625 22.1875 11.75 \nQ 26.265625 6.109375 33.40625 6.109375 \nQ 40.53125 6.109375 44.609375 11.75 \nQ 48.6875 17.390625 48.6875 27.296875 \nz\n\" id=\"DejaVuSans-112\"/>\n      </defs>\n      <g transform=\"translate(233.385937 135.752926)scale(0.1 -0.1)\">\n       <use xlink:href=\"#DejaVuSans-83\"/>\n       <use x=\"63.476562\" xlink:href=\"#DejaVuSans-101\"/>\n       <use x=\"125\" xlink:href=\"#DejaVuSans-112\"/>\n      </g>\n     </g>\n    </g>\n    <g id=\"xtick_6\">\n     <g id=\"line2d_6\">\n      <g>\n       <use style=\"stroke:#000000;stroke-width:0.8;\" x=\"289.310937\" xlink:href=\"#m42a1106883\" y=\"121.154489\"/>\n      </g>\n     </g>\n     <g id=\"text_6\">\n      <!-- Oct -->\n      <defs>\n       <path d=\"M 39.40625 66.21875 \nQ 28.65625 66.21875 22.328125 58.203125 \nQ 16.015625 50.203125 16.015625 36.375 \nQ 16.015625 22.609375 22.328125 14.59375 \nQ 28.65625 6.59375 39.40625 6.59375 \nQ 50.140625 6.59375 56.421875 14.59375 \nQ 62.703125 22.609375 62.703125 36.375 \nQ 62.703125 50.203125 56.421875 58.203125 \nQ 50.140625 66.21875 39.40625 66.21875 \nz\nM 39.40625 74.21875 \nQ 54.734375 74.21875 63.90625 63.9375 \nQ 73.09375 53.65625 73.09375 36.375 \nQ 73.09375 19.140625 63.90625 8.859375 \nQ 54.734375 -1.421875 39.40625 -1.421875 \nQ 24.03125 -1.421875 14.8125 8.828125 \nQ 5.609375 19.09375 5.609375 36.375 \nQ 5.609375 53.65625 14.8125 63.9375 \nQ 24.03125 74.21875 39.40625 74.21875 \nz\n\" id=\"DejaVuSans-79\"/>\n       <path d=\"M 48.78125 52.59375 \nL 48.78125 44.1875 \nQ 44.96875 46.296875 41.140625 47.34375 \nQ 37.3125 48.390625 33.40625 48.390625 \nQ 24.65625 48.390625 19.8125 42.84375 \nQ 14.984375 37.3125 14.984375 27.296875 \nQ 14.984375 17.28125 19.8125 11.734375 \nQ 24.65625 6.203125 33.40625 6.203125 \nQ 37.3125 6.203125 41.140625 7.25 \nQ 44.96875 8.296875 48.78125 10.40625 \nL 48.78125 2.09375 \nQ 45.015625 0.34375 40.984375 -0.53125 \nQ 36.96875 -1.421875 32.421875 -1.421875 \nQ 20.0625 -1.421875 12.78125 6.34375 \nQ 5.515625 14.109375 5.515625 27.296875 \nQ 5.515625 40.671875 12.859375 48.328125 \nQ 20.21875 56 33.015625 56 \nQ 37.15625 56 41.109375 55.140625 \nQ 45.0625 54.296875 48.78125 52.59375 \nz\n\" id=\"DejaVuSans-99\"/>\n       <path d=\"M 18.3125 70.21875 \nL 18.3125 54.6875 \nL 36.8125 54.6875 \nL 36.8125 47.703125 \nL 18.3125 47.703125 \nL 18.3125 18.015625 \nQ 18.3125 11.328125 20.140625 9.421875 \nQ 21.96875 7.515625 27.59375 7.515625 \nL 36.8125 7.515625 \nL 36.8125 0 \nL 27.59375 0 \nQ 17.1875 0 13.234375 3.875 \nQ 9.28125 7.765625 9.28125 18.015625 \nL 9.28125 47.703125 \nL 2.6875 47.703125 \nL 2.6875 54.6875 \nL 9.28125 54.6875 \nL 9.28125 70.21875 \nz\n\" id=\"DejaVuSans-116\"/>\n      </defs>\n      <g transform=\"translate(280.665625 135.752926)scale(0.1 -0.1)\">\n       <use xlink:href=\"#DejaVuSans-79\"/>\n       <use x=\"78.710938\" xlink:href=\"#DejaVuSans-99\"/>\n       <use x=\"133.691406\" xlink:href=\"#DejaVuSans-116\"/>\n      </g>\n     </g>\n    </g>\n    <g id=\"xtick_7\">\n     <g id=\"line2d_7\">\n      <g>\n       <use style=\"stroke:#000000;stroke-width:0.8;\" x=\"337.360937\" xlink:href=\"#m42a1106883\" y=\"121.154489\"/>\n      </g>\n     </g>\n     <g id=\"text_7\">\n      <!-- Nov -->\n      <defs>\n       <path d=\"M 9.8125 72.90625 \nL 23.09375 72.90625 \nL 55.421875 11.921875 \nL 55.421875 72.90625 \nL 64.984375 72.90625 \nL 64.984375 0 \nL 51.703125 0 \nL 19.390625 60.984375 \nL 19.390625 0 \nL 9.8125 0 \nz\n\" id=\"DejaVuSans-78\"/>\n       <path d=\"M 30.609375 48.390625 \nQ 23.390625 48.390625 19.1875 42.75 \nQ 14.984375 37.109375 14.984375 27.296875 \nQ 14.984375 17.484375 19.15625 11.84375 \nQ 23.34375 6.203125 30.609375 6.203125 \nQ 37.796875 6.203125 41.984375 11.859375 \nQ 46.1875 17.53125 46.1875 27.296875 \nQ 46.1875 37.015625 41.984375 42.703125 \nQ 37.796875 48.390625 30.609375 48.390625 \nz\nM 30.609375 56 \nQ 42.328125 56 49.015625 48.375 \nQ 55.71875 40.765625 55.71875 27.296875 \nQ 55.71875 13.875 49.015625 6.21875 \nQ 42.328125 -1.421875 30.609375 -1.421875 \nQ 18.84375 -1.421875 12.171875 6.21875 \nQ 5.515625 13.875 5.515625 27.296875 \nQ 5.515625 40.765625 12.171875 48.375 \nQ 18.84375 56 30.609375 56 \nz\n\" id=\"DejaVuSans-111\"/>\n       <path d=\"M 2.984375 54.6875 \nL 12.5 54.6875 \nL 29.59375 8.796875 \nL 46.6875 54.6875 \nL 56.203125 54.6875 \nL 35.6875 0 \nL 23.484375 0 \nz\n\" id=\"DejaVuSans-118\"/>\n      </defs>\n      <g transform=\"translate(327.601562 135.752926)scale(0.1 -0.1)\">\n       <use xlink:href=\"#DejaVuSans-78\"/>\n       <use x=\"74.804688\" xlink:href=\"#DejaVuSans-111\"/>\n       <use x=\"135.986328\" xlink:href=\"#DejaVuSans-118\"/>\n      </g>\n     </g>\n    </g>\n    <g id=\"xtick_8\">\n     <g id=\"line2d_8\">\n      <g>\n       <use style=\"stroke:#000000;stroke-width:0.8;\" x=\"383.860937\" xlink:href=\"#m42a1106883\" y=\"121.154489\"/>\n      </g>\n     </g>\n     <g id=\"text_8\">\n      <!-- Dec -->\n      <defs>\n       <path d=\"M 19.671875 64.796875 \nL 19.671875 8.109375 \nL 31.59375 8.109375 \nQ 46.6875 8.109375 53.6875 14.9375 \nQ 60.6875 21.78125 60.6875 36.53125 \nQ 60.6875 51.171875 53.6875 57.984375 \nQ 46.6875 64.796875 31.59375 64.796875 \nz\nM 9.8125 72.90625 \nL 30.078125 72.90625 \nQ 51.265625 72.90625 61.171875 64.09375 \nQ 71.09375 55.28125 71.09375 36.53125 \nQ 71.09375 17.671875 61.125 8.828125 \nQ 51.171875 0 30.078125 0 \nL 9.8125 0 \nz\n\" id=\"DejaVuSans-68\"/>\n      </defs>\n      <g transform=\"translate(374.185156 135.752926)scale(0.1 -0.1)\">\n       <use xlink:href=\"#DejaVuSans-68\"/>\n       <use x=\"77.001953\" xlink:href=\"#DejaVuSans-101\"/>\n       <use x=\"138.525391\" xlink:href=\"#DejaVuSans-99\"/>\n      </g>\n     </g>\n    </g>\n    <g id=\"xtick_9\">\n     <g id=\"line2d_9\">\n      <g>\n       <use style=\"stroke:#000000;stroke-width:0.8;\" x=\"386.960938\" xlink:href=\"#m42a1106883\" y=\"121.154489\"/>\n      </g>\n     </g>\n    </g>\n    <g id=\"xtick_10\">\n     <g id=\"line2d_10\">\n      <defs>\n       <path d=\"M 0 0 \nL 0 2 \n\" id=\"m273db7bcd9\" style=\"stroke:#000000;stroke-width:0.6;\"/>\n      </defs>\n      <g>\n       <use style=\"stroke:#000000;stroke-width:0.6;\" x=\"63.010937\" xlink:href=\"#m273db7bcd9\" y=\"121.154489\"/>\n      </g>\n     </g>\n    </g>\n    <g id=\"xtick_11\">\n     <g id=\"line2d_11\">\n      <g>\n       <use style=\"stroke:#000000;stroke-width:0.6;\" x=\"73.860937\" xlink:href=\"#m273db7bcd9\" y=\"121.154489\"/>\n      </g>\n     </g>\n    </g>\n    <g id=\"xtick_12\">\n     <g id=\"line2d_12\">\n      <g>\n       <use style=\"stroke:#000000;stroke-width:0.6;\" x=\"84.710938\" xlink:href=\"#m273db7bcd9\" y=\"121.154489\"/>\n      </g>\n     </g>\n    </g>\n    <g id=\"xtick_13\">\n     <g id=\"line2d_13\">\n      <g>\n       <use style=\"stroke:#000000;stroke-width:0.6;\" x=\"95.560937\" xlink:href=\"#m273db7bcd9\" y=\"121.154489\"/>\n      </g>\n     </g>\n    </g>\n    <g id=\"xtick_14\">\n     <g id=\"line2d_14\">\n      <g>\n       <use style=\"stroke:#000000;stroke-width:0.6;\" x=\"106.410938\" xlink:href=\"#m273db7bcd9\" y=\"121.154489\"/>\n      </g>\n     </g>\n    </g>\n    <g id=\"xtick_15\">\n     <g id=\"line2d_15\">\n      <g>\n       <use style=\"stroke:#000000;stroke-width:0.6;\" x=\"117.260937\" xlink:href=\"#m273db7bcd9\" y=\"121.154489\"/>\n      </g>\n     </g>\n    </g>\n    <g id=\"xtick_16\">\n     <g id=\"line2d_16\">\n      <g>\n       <use style=\"stroke:#000000;stroke-width:0.6;\" x=\"128.110937\" xlink:href=\"#m273db7bcd9\" y=\"121.154489\"/>\n      </g>\n     </g>\n    </g>\n    <g id=\"xtick_17\">\n     <g id=\"line2d_17\">\n      <g>\n       <use style=\"stroke:#000000;stroke-width:0.6;\" x=\"138.960938\" xlink:href=\"#m273db7bcd9\" y=\"121.154489\"/>\n      </g>\n     </g>\n    </g>\n    <g id=\"xtick_18\">\n     <g id=\"line2d_18\">\n      <g>\n       <use style=\"stroke:#000000;stroke-width:0.6;\" x=\"149.810937\" xlink:href=\"#m273db7bcd9\" y=\"121.154489\"/>\n      </g>\n     </g>\n    </g>\n    <g id=\"xtick_19\">\n     <g id=\"line2d_19\">\n      <g>\n       <use style=\"stroke:#000000;stroke-width:0.6;\" x=\"160.660938\" xlink:href=\"#m273db7bcd9\" y=\"121.154489\"/>\n      </g>\n     </g>\n    </g>\n    <g id=\"xtick_20\">\n     <g id=\"line2d_20\">\n      <g>\n       <use style=\"stroke:#000000;stroke-width:0.6;\" x=\"171.510937\" xlink:href=\"#m273db7bcd9\" y=\"121.154489\"/>\n      </g>\n     </g>\n    </g>\n    <g id=\"xtick_21\">\n     <g id=\"line2d_21\">\n      <g>\n       <use style=\"stroke:#000000;stroke-width:0.6;\" x=\"182.360937\" xlink:href=\"#m273db7bcd9\" y=\"121.154489\"/>\n      </g>\n     </g>\n    </g>\n    <g id=\"xtick_22\">\n     <g id=\"line2d_22\">\n      <g>\n       <use style=\"stroke:#000000;stroke-width:0.6;\" x=\"193.210938\" xlink:href=\"#m273db7bcd9\" y=\"121.154489\"/>\n      </g>\n     </g>\n    </g>\n    <g id=\"xtick_23\">\n     <g id=\"line2d_23\">\n      <g>\n       <use style=\"stroke:#000000;stroke-width:0.6;\" x=\"204.060937\" xlink:href=\"#m273db7bcd9\" y=\"121.154489\"/>\n      </g>\n     </g>\n    </g>\n    <g id=\"xtick_24\">\n     <g id=\"line2d_24\">\n      <g>\n       <use style=\"stroke:#000000;stroke-width:0.6;\" x=\"214.910938\" xlink:href=\"#m273db7bcd9\" y=\"121.154489\"/>\n      </g>\n     </g>\n    </g>\n    <g id=\"xtick_25\">\n     <g id=\"line2d_25\">\n      <g>\n       <use style=\"stroke:#000000;stroke-width:0.6;\" x=\"225.760937\" xlink:href=\"#m273db7bcd9\" y=\"121.154489\"/>\n      </g>\n     </g>\n    </g>\n    <g id=\"xtick_26\">\n     <g id=\"line2d_26\">\n      <g>\n       <use style=\"stroke:#000000;stroke-width:0.6;\" x=\"236.610937\" xlink:href=\"#m273db7bcd9\" y=\"121.154489\"/>\n      </g>\n     </g>\n    </g>\n    <g id=\"xtick_27\">\n     <g id=\"line2d_27\">\n      <g>\n       <use style=\"stroke:#000000;stroke-width:0.6;\" x=\"247.460938\" xlink:href=\"#m273db7bcd9\" y=\"121.154489\"/>\n      </g>\n     </g>\n    </g>\n    <g id=\"xtick_28\">\n     <g id=\"line2d_28\">\n      <g>\n       <use style=\"stroke:#000000;stroke-width:0.6;\" x=\"258.310937\" xlink:href=\"#m273db7bcd9\" y=\"121.154489\"/>\n      </g>\n     </g>\n    </g>\n    <g id=\"xtick_29\">\n     <g id=\"line2d_29\">\n      <g>\n       <use style=\"stroke:#000000;stroke-width:0.6;\" x=\"269.160938\" xlink:href=\"#m273db7bcd9\" y=\"121.154489\"/>\n      </g>\n     </g>\n    </g>\n    <g id=\"xtick_30\">\n     <g id=\"line2d_30\">\n      <g>\n       <use style=\"stroke:#000000;stroke-width:0.6;\" x=\"280.010937\" xlink:href=\"#m273db7bcd9\" y=\"121.154489\"/>\n      </g>\n     </g>\n    </g>\n    <g id=\"xtick_31\">\n     <g id=\"line2d_31\">\n      <g>\n       <use style=\"stroke:#000000;stroke-width:0.6;\" x=\"290.860937\" xlink:href=\"#m273db7bcd9\" y=\"121.154489\"/>\n      </g>\n     </g>\n    </g>\n    <g id=\"xtick_32\">\n     <g id=\"line2d_32\">\n      <g>\n       <use style=\"stroke:#000000;stroke-width:0.6;\" x=\"301.710938\" xlink:href=\"#m273db7bcd9\" y=\"121.154489\"/>\n      </g>\n     </g>\n    </g>\n    <g id=\"xtick_33\">\n     <g id=\"line2d_33\">\n      <g>\n       <use style=\"stroke:#000000;stroke-width:0.6;\" x=\"312.560937\" xlink:href=\"#m273db7bcd9\" y=\"121.154489\"/>\n      </g>\n     </g>\n    </g>\n    <g id=\"xtick_34\">\n     <g id=\"line2d_34\">\n      <g>\n       <use style=\"stroke:#000000;stroke-width:0.6;\" x=\"323.410938\" xlink:href=\"#m273db7bcd9\" y=\"121.154489\"/>\n      </g>\n     </g>\n    </g>\n    <g id=\"xtick_35\">\n     <g id=\"line2d_35\">\n      <g>\n       <use style=\"stroke:#000000;stroke-width:0.6;\" x=\"334.260937\" xlink:href=\"#m273db7bcd9\" y=\"121.154489\"/>\n      </g>\n     </g>\n    </g>\n    <g id=\"xtick_36\">\n     <g id=\"line2d_36\">\n      <g>\n       <use style=\"stroke:#000000;stroke-width:0.6;\" x=\"345.110937\" xlink:href=\"#m273db7bcd9\" y=\"121.154489\"/>\n      </g>\n     </g>\n    </g>\n    <g id=\"xtick_37\">\n     <g id=\"line2d_37\">\n      <g>\n       <use style=\"stroke:#000000;stroke-width:0.6;\" x=\"355.960938\" xlink:href=\"#m273db7bcd9\" y=\"121.154489\"/>\n      </g>\n     </g>\n    </g>\n    <g id=\"xtick_38\">\n     <g id=\"line2d_38\">\n      <g>\n       <use style=\"stroke:#000000;stroke-width:0.6;\" x=\"366.810937\" xlink:href=\"#m273db7bcd9\" y=\"121.154489\"/>\n      </g>\n     </g>\n    </g>\n    <g id=\"xtick_39\">\n     <g id=\"line2d_39\">\n      <g>\n       <use style=\"stroke:#000000;stroke-width:0.6;\" x=\"377.660938\" xlink:href=\"#m273db7bcd9\" y=\"121.154489\"/>\n      </g>\n     </g>\n    </g>\n    <g id=\"text_9\">\n     <!-- created_at_x -->\n     <defs>\n      <path d=\"M 41.109375 46.296875 \nQ 39.59375 47.171875 37.8125 47.578125 \nQ 36.03125 48 33.890625 48 \nQ 26.265625 48 22.1875 43.046875 \nQ 18.109375 38.09375 18.109375 28.8125 \nL 18.109375 0 \nL 9.078125 0 \nL 9.078125 54.6875 \nL 18.109375 54.6875 \nL 18.109375 46.1875 \nQ 20.953125 51.171875 25.484375 53.578125 \nQ 30.03125 56 36.53125 56 \nQ 37.453125 56 38.578125 55.875 \nQ 39.703125 55.765625 41.0625 55.515625 \nz\n\" id=\"DejaVuSans-114\"/>\n      <path d=\"M 45.40625 46.390625 \nL 45.40625 75.984375 \nL 54.390625 75.984375 \nL 54.390625 0 \nL 45.40625 0 \nL 45.40625 8.203125 \nQ 42.578125 3.328125 38.25 0.953125 \nQ 33.9375 -1.421875 27.875 -1.421875 \nQ 17.96875 -1.421875 11.734375 6.484375 \nQ 5.515625 14.40625 5.515625 27.296875 \nQ 5.515625 40.1875 11.734375 48.09375 \nQ 17.96875 56 27.875 56 \nQ 33.9375 56 38.25 53.625 \nQ 42.578125 51.265625 45.40625 46.390625 \nz\nM 14.796875 27.296875 \nQ 14.796875 17.390625 18.875 11.75 \nQ 22.953125 6.109375 30.078125 6.109375 \nQ 37.203125 6.109375 41.296875 11.75 \nQ 45.40625 17.390625 45.40625 27.296875 \nQ 45.40625 37.203125 41.296875 42.84375 \nQ 37.203125 48.484375 30.078125 48.484375 \nQ 22.953125 48.484375 18.875 42.84375 \nQ 14.796875 37.203125 14.796875 27.296875 \nz\n\" id=\"DejaVuSans-100\"/>\n      <path d=\"M 50.984375 -16.609375 \nL 50.984375 -23.578125 \nL -0.984375 -23.578125 \nL -0.984375 -16.609375 \nz\n\" id=\"DejaVuSans-95\"/>\n      <path d=\"M 54.890625 54.6875 \nL 35.109375 28.078125 \nL 55.90625 0 \nL 45.3125 0 \nL 29.390625 21.484375 \nL 13.484375 0 \nL 2.875 0 \nL 24.125 28.609375 \nL 4.6875 54.6875 \nL 15.28125 54.6875 \nL 29.78125 35.203125 \nL 44.28125 54.6875 \nz\n\" id=\"DejaVuSans-120\"/>\n     </defs>\n     <g transform=\"translate(187.533594 160.628864)scale(0.1 -0.1)\">\n      <use xlink:href=\"#DejaVuSans-99\"/>\n      <use x=\"54.980469\" xlink:href=\"#DejaVuSans-114\"/>\n      <use x=\"93.84375\" xlink:href=\"#DejaVuSans-101\"/>\n      <use x=\"155.367188\" xlink:href=\"#DejaVuSans-97\"/>\n      <use x=\"216.646484\" xlink:href=\"#DejaVuSans-116\"/>\n      <use x=\"255.855469\" xlink:href=\"#DejaVuSans-101\"/>\n      <use x=\"317.378906\" xlink:href=\"#DejaVuSans-100\"/>\n      <use x=\"380.855469\" xlink:href=\"#DejaVuSans-95\"/>\n      <use x=\"430.855469\" xlink:href=\"#DejaVuSans-97\"/>\n      <use x=\"492.134766\" xlink:href=\"#DejaVuSans-116\"/>\n      <use x=\"531.34375\" xlink:href=\"#DejaVuSans-95\"/>\n      <use x=\"581.34375\" xlink:href=\"#DejaVuSans-120\"/>\n     </g>\n    </g>\n   </g>\n   <g id=\"matplotlib.axis_2\">\n    <g id=\"ytick_1\">\n     <g id=\"line2d_40\">\n      <defs>\n       <path d=\"M 0 0 \nL -3.5 0 \n\" id=\"mbe719c2b43\" style=\"stroke:#000000;stroke-width:0.8;\"/>\n      </defs>\n      <g>\n       <use style=\"stroke:#000000;stroke-width:0.8;\" x=\"52.160938\" xlink:href=\"#mbe719c2b43\" y=\"121.154489\"/>\n      </g>\n     </g>\n     <g id=\"text_10\">\n      <!-- 0 -->\n      <g transform=\"translate(38.798438 124.953707)scale(0.1 -0.1)\">\n       <use xlink:href=\"#DejaVuSans-48\"/>\n      </g>\n     </g>\n    </g>\n    <g id=\"ytick_2\">\n     <g id=\"line2d_41\">\n      <g>\n       <use style=\"stroke:#000000;stroke-width:0.8;\" x=\"52.160938\" xlink:href=\"#mbe719c2b43\" y=\"86.737717\"/>\n      </g>\n     </g>\n     <g id=\"text_11\">\n      <!-- 200 -->\n      <g transform=\"translate(26.073438 90.536936)scale(0.1 -0.1)\">\n       <use xlink:href=\"#DejaVuSans-50\"/>\n       <use x=\"63.623047\" xlink:href=\"#DejaVuSans-48\"/>\n       <use x=\"127.246094\" xlink:href=\"#DejaVuSans-48\"/>\n      </g>\n     </g>\n    </g>\n    <g id=\"ytick_3\">\n     <g id=\"line2d_42\">\n      <g>\n       <use style=\"stroke:#000000;stroke-width:0.8;\" x=\"52.160938\" xlink:href=\"#mbe719c2b43\" y=\"52.320946\"/>\n      </g>\n     </g>\n     <g id=\"text_12\">\n      <!-- 400 -->\n      <defs>\n       <path d=\"M 37.796875 64.3125 \nL 12.890625 25.390625 \nL 37.796875 25.390625 \nz\nM 35.203125 72.90625 \nL 47.609375 72.90625 \nL 47.609375 25.390625 \nL 58.015625 25.390625 \nL 58.015625 17.1875 \nL 47.609375 17.1875 \nL 47.609375 0 \nL 37.796875 0 \nL 37.796875 17.1875 \nL 4.890625 17.1875 \nL 4.890625 26.703125 \nz\n\" id=\"DejaVuSans-52\"/>\n      </defs>\n      <g transform=\"translate(26.073438 56.120164)scale(0.1 -0.1)\">\n       <use xlink:href=\"#DejaVuSans-52\"/>\n       <use x=\"63.623047\" xlink:href=\"#DejaVuSans-48\"/>\n       <use x=\"127.246094\" xlink:href=\"#DejaVuSans-48\"/>\n      </g>\n     </g>\n    </g>\n    <g id=\"text_13\">\n     <!-- Inbound Tweets -->\n     <defs>\n      <path d=\"M 9.8125 72.90625 \nL 19.671875 72.90625 \nL 19.671875 0 \nL 9.8125 0 \nz\n\" id=\"DejaVuSans-73\"/>\n      <path d=\"M 48.6875 27.296875 \nQ 48.6875 37.203125 44.609375 42.84375 \nQ 40.53125 48.484375 33.40625 48.484375 \nQ 26.265625 48.484375 22.1875 42.84375 \nQ 18.109375 37.203125 18.109375 27.296875 \nQ 18.109375 17.390625 22.1875 11.75 \nQ 26.265625 6.109375 33.40625 6.109375 \nQ 40.53125 6.109375 44.609375 11.75 \nQ 48.6875 17.390625 48.6875 27.296875 \nz\nM 18.109375 46.390625 \nQ 20.953125 51.265625 25.265625 53.625 \nQ 29.59375 56 35.59375 56 \nQ 45.5625 56 51.78125 48.09375 \nQ 58.015625 40.1875 58.015625 27.296875 \nQ 58.015625 14.40625 51.78125 6.484375 \nQ 45.5625 -1.421875 35.59375 -1.421875 \nQ 29.59375 -1.421875 25.265625 0.953125 \nQ 20.953125 3.328125 18.109375 8.203125 \nL 18.109375 0 \nL 9.078125 0 \nL 9.078125 75.984375 \nL 18.109375 75.984375 \nz\n\" id=\"DejaVuSans-98\"/>\n      <path id=\"DejaVuSans-32\"/>\n      <path d=\"M -0.296875 72.90625 \nL 61.375 72.90625 \nL 61.375 64.59375 \nL 35.5 64.59375 \nL 35.5 0 \nL 25.59375 0 \nL 25.59375 64.59375 \nL -0.296875 64.59375 \nz\n\" id=\"DejaVuSans-84\"/>\n      <path d=\"M 4.203125 54.6875 \nL 13.1875 54.6875 \nL 24.421875 12.015625 \nL 35.59375 54.6875 \nL 46.1875 54.6875 \nL 57.421875 12.015625 \nL 68.609375 54.6875 \nL 77.59375 54.6875 \nL 63.28125 0 \nL 52.6875 0 \nL 40.921875 44.828125 \nL 29.109375 0 \nL 18.5 0 \nz\n\" id=\"DejaVuSans-119\"/>\n      <path d=\"M 44.28125 53.078125 \nL 44.28125 44.578125 \nQ 40.484375 46.53125 36.375 47.5 \nQ 32.28125 48.484375 27.875 48.484375 \nQ 21.1875 48.484375 17.84375 46.4375 \nQ 14.5 44.390625 14.5 40.28125 \nQ 14.5 37.15625 16.890625 35.375 \nQ 19.28125 33.59375 26.515625 31.984375 \nL 29.59375 31.296875 \nQ 39.15625 29.25 43.1875 25.515625 \nQ 47.21875 21.78125 47.21875 15.09375 \nQ 47.21875 7.46875 41.1875 3.015625 \nQ 35.15625 -1.421875 24.609375 -1.421875 \nQ 20.21875 -1.421875 15.453125 -0.5625 \nQ 10.6875 0.296875 5.421875 2 \nL 5.421875 11.28125 \nQ 10.40625 8.6875 15.234375 7.390625 \nQ 20.0625 6.109375 24.8125 6.109375 \nQ 31.15625 6.109375 34.5625 8.28125 \nQ 37.984375 10.453125 37.984375 14.40625 \nQ 37.984375 18.0625 35.515625 20.015625 \nQ 33.0625 21.96875 24.703125 23.78125 \nL 21.578125 24.515625 \nQ 13.234375 26.265625 9.515625 29.90625 \nQ 5.8125 33.546875 5.8125 39.890625 \nQ 5.8125 47.609375 11.28125 51.796875 \nQ 16.75 56 26.8125 56 \nQ 31.78125 56 36.171875 55.265625 \nQ 40.578125 54.546875 44.28125 53.078125 \nz\n\" id=\"DejaVuSans-115\"/>\n     </defs>\n     <g transform=\"translate(19.99375 110.750369)rotate(-90)scale(0.1 -0.1)\">\n      <use xlink:href=\"#DejaVuSans-73\"/>\n      <use x=\"29.492188\" xlink:href=\"#DejaVuSans-110\"/>\n      <use x=\"92.871094\" xlink:href=\"#DejaVuSans-98\"/>\n      <use x=\"156.347656\" xlink:href=\"#DejaVuSans-111\"/>\n      <use x=\"217.529297\" xlink:href=\"#DejaVuSans-117\"/>\n      <use x=\"280.908203\" xlink:href=\"#DejaVuSans-110\"/>\n      <use x=\"344.287109\" xlink:href=\"#DejaVuSans-100\"/>\n      <use x=\"407.763672\" xlink:href=\"#DejaVuSans-32\"/>\n      <use x=\"439.550781\" xlink:href=\"#DejaVuSans-84\"/>\n      <use x=\"484.134766\" xlink:href=\"#DejaVuSans-119\"/>\n      <use x=\"565.921875\" xlink:href=\"#DejaVuSans-101\"/>\n      <use x=\"627.445312\" xlink:href=\"#DejaVuSans-101\"/>\n      <use x=\"688.96875\" xlink:href=\"#DejaVuSans-116\"/>\n      <use x=\"728.177734\" xlink:href=\"#DejaVuSans-115\"/>\n     </g>\n    </g>\n   </g>\n   <g id=\"line2d_43\">\n    <path clip-path=\"url(#pbfce711f2c)\" d=\"M 52.160938 120.982405 \nL 53.710938 120.982405 \nL 55.260937 121.154489 \nL 75.410938 121.154489 \nL 76.960938 120.982405 \nL 78.510937 121.154489 \nL 114.160938 121.154489 \nL 115.710938 120.982405 \nL 117.260937 121.154489 \nL 123.460938 121.154489 \nL 125.010937 120.982405 \nL 126.560937 121.154489 \nL 140.510937 121.154489 \nL 142.060937 120.982405 \nL 145.160938 120.982405 \nL 146.710938 121.154489 \nL 151.360937 121.154489 \nL 152.910938 120.982405 \nL 154.460938 121.154489 \nL 169.960938 121.154489 \nL 171.510937 120.982405 \nL 173.060937 121.154489 \nL 183.910938 121.154489 \nL 185.460938 120.982405 \nL 187.010937 121.154489 \nL 196.310937 121.154489 \nL 197.860937 120.982405 \nL 199.410938 121.154489 \nL 202.510937 121.154489 \nL 204.060937 120.982405 \nL 205.610937 121.154489 \nL 216.460938 121.154489 \nL 218.010937 120.982405 \nL 219.560937 121.154489 \nL 221.110937 121.154489 \nL 222.660938 120.982405 \nL 224.210938 121.154489 \nL 225.760937 120.982405 \nL 227.310937 120.982405 \nL 228.860937 121.154489 \nL 230.410938 121.154489 \nL 231.960938 120.982405 \nL 233.510937 121.154489 \nL 235.060937 121.154489 \nL 236.610937 120.982405 \nL 238.160938 121.154489 \nL 239.710938 120.982405 \nL 241.260937 120.982405 \nL 242.810937 121.154489 \nL 247.460938 121.154489 \nL 249.010937 120.982405 \nL 250.560937 120.982405 \nL 252.110937 121.154489 \nL 259.860937 121.154489 \nL 261.410938 120.982405 \nL 262.960938 120.982405 \nL 264.510937 121.154489 \nL 269.160938 121.154489 \nL 270.710938 120.982405 \nL 272.260937 121.154489 \nL 275.360937 121.154489 \nL 278.460938 120.466153 \nL 280.010937 121.154489 \nL 281.560937 120.466153 \nL 283.110937 121.154489 \nL 284.660938 120.982405 \nL 286.210938 120.638237 \nL 287.760937 121.154489 \nL 289.310937 120.466153 \nL 290.860937 120.121985 \nL 292.410938 119.089482 \nL 293.960938 62.129725 \nL 295.510937 48.535101 \nL 297.060937 38.554237 \nL 298.610937 53.181365 \nL 300.160938 56.96721 \nL 301.710938 27.024619 \nL 303.260937 42.68425 \nL 304.810937 50.083855 \nL 306.360937 38.898405 \nL 307.910938 40.447159 \nL 309.460938 50.428023 \nL 311.010937 37.177566 \nL 312.560937 45.437591 \nL 314.110937 46.986346 \nL 315.660938 51.460526 \nL 317.210938 49.39552 \nL 318.760937 45.953843 \nL 320.310937 58.860132 \nL 321.860937 58.171797 \nL 323.410938 31.498799 \nL 324.960938 37.865902 \nL 326.510937 45.437591 \nL 328.060937 51.288442 \nL 329.610937 43.028417 \nL 331.160938 57.999713 \nL 332.710938 66.948073 \nL 334.260937 44.92134 \nL 335.810937 72.454757 \nL 337.360937 67.464325 \nL 338.910938 54.902203 \nL 340.460938 51.116359 \nL 342.010937 60.408887 \nL 343.560937 49.567604 \nL 345.110937 35.972979 \nL 346.660938 60.408887 \nL 348.210938 58.171797 \nL 349.760937 47.674681 \nL 351.310937 42.167998 \nL 352.860937 50.772191 \nL 354.410938 61.269306 \nL 355.960938 48.190933 \nL 357.510937 54.73012 \nL 359.060937 54.902203 \nL 360.610937 38.382153 \nL 362.160938 55.590539 \nL 363.710938 117.712811 \nL 365.260937 61.097222 \nL 366.810937 55.074287 \nL 368.360937 55.418455 \nL 369.910938 35.284644 \nL 371.460938 64.022648 \nL 373.010937 84.156459 \nL 374.560937 67.808493 \nL 376.110937 46.298011 \nL 377.660938 38.382153 \nL 379.210938 54.73012 \nL 380.760937 47.846765 \nL 382.310937 36.489231 \nL 383.860937 39.242572 \nL 385.410938 67.292241 \nL 386.960938 70.389751 \nL 386.960938 70.389751 \n\" style=\"fill:none;stroke:#1f77b4;stroke-linecap:square;stroke-width:1.5;\"/>\n   </g>\n   <g id=\"patch_3\">\n    <path d=\"M 52.160938 121.154489 \nL 52.160938 22.318125 \n\" style=\"fill:none;stroke:#000000;stroke-linecap:square;stroke-linejoin:miter;stroke-width:0.8;\"/>\n   </g>\n   <g id=\"patch_4\">\n    <path d=\"M 386.960938 121.154489 \nL 386.960938 22.318125 \n\" style=\"fill:none;stroke:#000000;stroke-linecap:square;stroke-linejoin:miter;stroke-width:0.8;\"/>\n   </g>\n   <g id=\"patch_5\">\n    <path d=\"M 52.160938 121.154489 \nL 386.960938 121.154489 \n\" style=\"fill:none;stroke:#000000;stroke-linecap:square;stroke-linejoin:miter;stroke-width:0.8;\"/>\n   </g>\n   <g id=\"patch_6\">\n    <path d=\"M 52.160938 22.318125 \nL 386.960938 22.318125 \n\" style=\"fill:none;stroke:#000000;stroke-linecap:square;stroke-linejoin:miter;stroke-width:0.8;\"/>\n   </g>\n   <g id=\"text_14\">\n    <!-- @AmericanAir Volume &amp; Sentiment - Impact of reducing leg room -->\n    <defs>\n     <path d=\"M 37.203125 26.21875 \nQ 37.203125 19.234375 40.671875 15.25 \nQ 44.140625 11.28125 50.203125 11.28125 \nQ 56.203125 11.28125 59.640625 15.28125 \nQ 63.09375 19.28125 63.09375 26.21875 \nQ 63.09375 33.0625 59.578125 37.078125 \nQ 56.0625 41.109375 50.09375 41.109375 \nQ 44.1875 41.109375 40.6875 37.109375 \nQ 37.203125 33.109375 37.203125 26.21875 \nz\nM 63.8125 11.625 \nQ 60.890625 7.859375 57.109375 6.078125 \nQ 53.328125 4.296875 48.296875 4.296875 \nQ 39.890625 4.296875 34.640625 10.375 \nQ 29.390625 16.453125 29.390625 26.21875 \nQ 29.390625 35.984375 34.65625 42.078125 \nQ 39.9375 48.1875 48.296875 48.1875 \nQ 53.328125 48.1875 57.125 46.359375 \nQ 60.9375 44.53125 63.8125 40.828125 \nL 63.8125 47.21875 \nL 70.796875 47.21875 \nL 70.796875 11.28125 \nQ 77.9375 12.359375 81.953125 17.796875 \nQ 85.984375 23.25 85.984375 31.890625 \nQ 85.984375 37.109375 84.4375 41.703125 \nQ 82.90625 46.296875 79.78125 50.203125 \nQ 74.703125 56.59375 67.40625 59.984375 \nQ 60.109375 63.375 51.515625 63.375 \nQ 45.515625 63.375 39.984375 61.78125 \nQ 34.46875 60.203125 29.78125 57.078125 \nQ 22.125 52.09375 17.796875 44.015625 \nQ 13.484375 35.9375 13.484375 26.515625 \nQ 13.484375 18.75 16.28125 11.953125 \nQ 19.09375 5.171875 24.421875 0 \nQ 29.546875 -5.078125 36.28125 -7.734375 \nQ 43.015625 -10.40625 50.6875 -10.40625 \nQ 56.984375 -10.40625 63.0625 -8.28125 \nQ 69.140625 -6.15625 74.21875 -2.203125 \nL 78.609375 -7.625 \nQ 72.515625 -12.359375 65.3125 -14.875 \nQ 58.109375 -17.390625 50.6875 -17.390625 \nQ 41.65625 -17.390625 33.640625 -14.1875 \nQ 25.640625 -10.984375 19.390625 -4.890625 \nQ 13.140625 1.21875 9.859375 9.25 \nQ 6.59375 17.28125 6.59375 26.515625 \nQ 6.59375 35.40625 9.90625 43.453125 \nQ 13.234375 51.515625 19.390625 57.625 \nQ 25.6875 63.8125 33.9375 67.109375 \nQ 42.1875 70.40625 51.421875 70.40625 \nQ 61.765625 70.40625 70.625 66.15625 \nQ 79.5 61.921875 85.5 54.109375 \nQ 89.15625 49.3125 91.078125 43.703125 \nQ 93.015625 38.09375 93.015625 32.078125 \nQ 93.015625 19.234375 85.25 11.8125 \nQ 77.484375 4.390625 63.8125 4.109375 \nz\n\" id=\"DejaVuSans-64\"/>\n     <path d=\"M 52 44.1875 \nQ 55.375 50.25 60.0625 53.125 \nQ 64.75 56 71.09375 56 \nQ 79.640625 56 84.28125 50.015625 \nQ 88.921875 44.046875 88.921875 33.015625 \nL 88.921875 0 \nL 79.890625 0 \nL 79.890625 32.71875 \nQ 79.890625 40.578125 77.09375 44.375 \nQ 74.3125 48.1875 68.609375 48.1875 \nQ 61.625 48.1875 57.5625 43.546875 \nQ 53.515625 38.921875 53.515625 30.90625 \nL 53.515625 0 \nL 44.484375 0 \nL 44.484375 32.71875 \nQ 44.484375 40.625 41.703125 44.40625 \nQ 38.921875 48.1875 33.109375 48.1875 \nQ 26.21875 48.1875 22.15625 43.53125 \nQ 18.109375 38.875 18.109375 30.90625 \nL 18.109375 0 \nL 9.078125 0 \nL 9.078125 54.6875 \nL 18.109375 54.6875 \nL 18.109375 46.1875 \nQ 21.1875 51.21875 25.484375 53.609375 \nQ 29.78125 56 35.6875 56 \nQ 41.65625 56 45.828125 52.96875 \nQ 50 49.953125 52 44.1875 \nz\n\" id=\"DejaVuSans-109\"/>\n     <path d=\"M 9.421875 54.6875 \nL 18.40625 54.6875 \nL 18.40625 0 \nL 9.421875 0 \nz\nM 9.421875 75.984375 \nL 18.40625 75.984375 \nL 18.40625 64.59375 \nL 9.421875 64.59375 \nz\n\" id=\"DejaVuSans-105\"/>\n     <path d=\"M 28.609375 0 \nL 0.78125 72.90625 \nL 11.078125 72.90625 \nL 34.1875 11.53125 \nL 57.328125 72.90625 \nL 67.578125 72.90625 \nL 39.796875 0 \nz\n\" id=\"DejaVuSans-86\"/>\n     <path d=\"M 24.3125 39.203125 \nQ 19.875 35.25 17.796875 31.3125 \nQ 15.71875 27.390625 15.71875 23.09375 \nQ 15.71875 15.96875 20.890625 11.234375 \nQ 26.078125 6.5 33.890625 6.5 \nQ 38.53125 6.5 42.578125 8.03125 \nQ 46.625 9.578125 50.203125 12.703125 \nz\nM 31.203125 44.671875 \nL 56 19.28125 \nQ 58.890625 23.640625 60.5 28.59375 \nQ 62.109375 33.546875 62.40625 39.109375 \nL 71.484375 39.109375 \nQ 70.90625 32.671875 68.359375 26.359375 \nQ 65.828125 20.0625 61.28125 13.921875 \nL 74.90625 0 \nL 62.59375 0 \nL 55.609375 7.171875 \nQ 50.53125 2.828125 44.96875 0.703125 \nQ 39.40625 -1.421875 33.015625 -1.421875 \nQ 21.234375 -1.421875 13.765625 5.296875 \nQ 6.296875 12.015625 6.296875 22.515625 \nQ 6.296875 28.765625 9.5625 34.25 \nQ 12.84375 39.75 19.390625 44.578125 \nQ 17.046875 47.65625 15.8125 50.703125 \nQ 14.59375 53.765625 14.59375 56.6875 \nQ 14.59375 64.59375 20.015625 69.40625 \nQ 25.4375 74.21875 34.421875 74.21875 \nQ 38.484375 74.21875 42.5 73.34375 \nQ 46.53125 72.46875 50.6875 70.703125 \nL 50.6875 61.8125 \nQ 46.4375 64.109375 42.578125 65.296875 \nQ 38.71875 66.5 35.40625 66.5 \nQ 30.28125 66.5 27.078125 63.78125 \nQ 23.875 61.078125 23.875 56.78125 \nQ 23.875 54.296875 25.3125 51.78125 \nQ 26.765625 49.265625 31.203125 44.671875 \nz\n\" id=\"DejaVuSans-38\"/>\n     <path d=\"M 4.890625 31.390625 \nL 31.203125 31.390625 \nL 31.203125 23.390625 \nL 4.890625 23.390625 \nz\n\" id=\"DejaVuSans-45\"/>\n     <path d=\"M 37.109375 75.984375 \nL 37.109375 68.5 \nL 28.515625 68.5 \nQ 23.6875 68.5 21.796875 66.546875 \nQ 19.921875 64.59375 19.921875 59.515625 \nL 19.921875 54.6875 \nL 34.71875 54.6875 \nL 34.71875 47.703125 \nL 19.921875 47.703125 \nL 19.921875 0 \nL 10.890625 0 \nL 10.890625 47.703125 \nL 2.296875 47.703125 \nL 2.296875 54.6875 \nL 10.890625 54.6875 \nL 10.890625 58.5 \nQ 10.890625 67.625 15.140625 71.796875 \nQ 19.390625 75.984375 28.609375 75.984375 \nz\n\" id=\"DejaVuSans-102\"/>\n    </defs>\n    <g transform=\"translate(22.001563 16.318125)scale(0.12 -0.12)\">\n     <use xlink:href=\"#DejaVuSans-64\"/>\n     <use x=\"100\" xlink:href=\"#DejaVuSans-65\"/>\n     <use x=\"168.408203\" xlink:href=\"#DejaVuSans-109\"/>\n     <use x=\"265.820312\" xlink:href=\"#DejaVuSans-101\"/>\n     <use x=\"327.34375\" xlink:href=\"#DejaVuSans-114\"/>\n     <use x=\"368.457031\" xlink:href=\"#DejaVuSans-105\"/>\n     <use x=\"396.240234\" xlink:href=\"#DejaVuSans-99\"/>\n     <use x=\"451.220703\" xlink:href=\"#DejaVuSans-97\"/>\n     <use x=\"512.5\" xlink:href=\"#DejaVuSans-110\"/>\n     <use x=\"575.878906\" xlink:href=\"#DejaVuSans-65\"/>\n     <use x=\"644.287109\" xlink:href=\"#DejaVuSans-105\"/>\n     <use x=\"672.070312\" xlink:href=\"#DejaVuSans-114\"/>\n     <use x=\"713.183594\" xlink:href=\"#DejaVuSans-32\"/>\n     <use x=\"744.970703\" xlink:href=\"#DejaVuSans-86\"/>\n     <use x=\"805.628906\" xlink:href=\"#DejaVuSans-111\"/>\n     <use x=\"866.810547\" xlink:href=\"#DejaVuSans-108\"/>\n     <use x=\"894.59375\" xlink:href=\"#DejaVuSans-117\"/>\n     <use x=\"957.972656\" xlink:href=\"#DejaVuSans-109\"/>\n     <use x=\"1055.384766\" xlink:href=\"#DejaVuSans-101\"/>\n     <use x=\"1116.908203\" xlink:href=\"#DejaVuSans-32\"/>\n     <use x=\"1148.695312\" xlink:href=\"#DejaVuSans-38\"/>\n     <use x=\"1226.673828\" xlink:href=\"#DejaVuSans-32\"/>\n     <use x=\"1258.460938\" xlink:href=\"#DejaVuSans-83\"/>\n     <use x=\"1321.9375\" xlink:href=\"#DejaVuSans-101\"/>\n     <use x=\"1383.460938\" xlink:href=\"#DejaVuSans-110\"/>\n     <use x=\"1446.839844\" xlink:href=\"#DejaVuSans-116\"/>\n     <use x=\"1486.048828\" xlink:href=\"#DejaVuSans-105\"/>\n     <use x=\"1513.832031\" xlink:href=\"#DejaVuSans-109\"/>\n     <use x=\"1611.244141\" xlink:href=\"#DejaVuSans-101\"/>\n     <use x=\"1672.767578\" xlink:href=\"#DejaVuSans-110\"/>\n     <use x=\"1736.146484\" xlink:href=\"#DejaVuSans-116\"/>\n     <use x=\"1775.355469\" xlink:href=\"#DejaVuSans-32\"/>\n     <use x=\"1807.142578\" xlink:href=\"#DejaVuSans-45\"/>\n     <use x=\"1843.226562\" xlink:href=\"#DejaVuSans-32\"/>\n     <use x=\"1875.013672\" xlink:href=\"#DejaVuSans-73\"/>\n     <use x=\"1904.505859\" xlink:href=\"#DejaVuSans-109\"/>\n     <use x=\"2001.917969\" xlink:href=\"#DejaVuSans-112\"/>\n     <use x=\"2065.394531\" xlink:href=\"#DejaVuSans-97\"/>\n     <use x=\"2126.673828\" xlink:href=\"#DejaVuSans-99\"/>\n     <use x=\"2181.654297\" xlink:href=\"#DejaVuSans-116\"/>\n     <use x=\"2220.863281\" xlink:href=\"#DejaVuSans-32\"/>\n     <use x=\"2252.650391\" xlink:href=\"#DejaVuSans-111\"/>\n     <use x=\"2313.832031\" xlink:href=\"#DejaVuSans-102\"/>\n     <use x=\"2349.037109\" xlink:href=\"#DejaVuSans-32\"/>\n     <use x=\"2380.824219\" xlink:href=\"#DejaVuSans-114\"/>\n     <use x=\"2419.6875\" xlink:href=\"#DejaVuSans-101\"/>\n     <use x=\"2481.210938\" xlink:href=\"#DejaVuSans-100\"/>\n     <use x=\"2544.6875\" xlink:href=\"#DejaVuSans-117\"/>\n     <use x=\"2608.066406\" xlink:href=\"#DejaVuSans-99\"/>\n     <use x=\"2663.046875\" xlink:href=\"#DejaVuSans-105\"/>\n     <use x=\"2690.830078\" xlink:href=\"#DejaVuSans-110\"/>\n     <use x=\"2754.208984\" xlink:href=\"#DejaVuSans-103\"/>\n     <use x=\"2817.685547\" xlink:href=\"#DejaVuSans-32\"/>\n     <use x=\"2849.472656\" xlink:href=\"#DejaVuSans-108\"/>\n     <use x=\"2877.255859\" xlink:href=\"#DejaVuSans-101\"/>\n     <use x=\"2938.779297\" xlink:href=\"#DejaVuSans-103\"/>\n     <use x=\"3002.255859\" xlink:href=\"#DejaVuSans-32\"/>\n     <use x=\"3034.042969\" xlink:href=\"#DejaVuSans-114\"/>\n     <use x=\"3072.90625\" xlink:href=\"#DejaVuSans-111\"/>\n     <use x=\"3134.087891\" xlink:href=\"#DejaVuSans-111\"/>\n     <use x=\"3195.269531\" xlink:href=\"#DejaVuSans-109\"/>\n    </g>\n   </g>\n  </g>\n  <g id=\"axes_2\">\n   <g id=\"patch_7\">\n    <path d=\"M 52.160938 239.758125 \nL 386.960938 239.758125 \nL 386.960938 140.921761 \nL 52.160938 140.921761 \nz\n\" style=\"fill:#ffffff;\"/>\n   </g>\n   <g id=\"matplotlib.axis_3\">\n    <g id=\"xtick_40\">\n     <g id=\"line2d_44\">\n      <g>\n       <use style=\"stroke:#000000;stroke-width:0.8;\" x=\"52.160938\" xlink:href=\"#m42a1106883\" y=\"239.758125\"/>\n      </g>\n     </g>\n     <g id=\"text_15\">\n      <!-- May -->\n      <g transform=\"translate(41.823438 254.356562)scale(0.1 -0.1)\">\n       <use xlink:href=\"#DejaVuSans-77\"/>\n       <use x=\"86.279297\" xlink:href=\"#DejaVuSans-97\"/>\n       <use x=\"147.558594\" xlink:href=\"#DejaVuSans-121\"/>\n      </g>\n      <!-- 2017 -->\n      <g transform=\"translate(39.435938 265.554375)scale(0.1 -0.1)\">\n       <use xlink:href=\"#DejaVuSans-50\"/>\n       <use x=\"63.623047\" xlink:href=\"#DejaVuSans-48\"/>\n       <use x=\"127.246094\" xlink:href=\"#DejaVuSans-49\"/>\n       <use x=\"190.869141\" xlink:href=\"#DejaVuSans-55\"/>\n      </g>\n     </g>\n    </g>\n    <g id=\"xtick_41\">\n     <g id=\"line2d_45\">\n      <g>\n       <use style=\"stroke:#000000;stroke-width:0.8;\" x=\"100.210938\" xlink:href=\"#m42a1106883\" y=\"239.758125\"/>\n      </g>\n     </g>\n     <g id=\"text_16\">\n      <!-- Jun -->\n      <g transform=\"translate(92.398438 254.356562)scale(0.1 -0.1)\">\n       <use xlink:href=\"#DejaVuSans-74\"/>\n       <use x=\"29.492188\" xlink:href=\"#DejaVuSans-117\"/>\n       <use x=\"92.871094\" xlink:href=\"#DejaVuSans-110\"/>\n      </g>\n     </g>\n    </g>\n    <g id=\"xtick_42\">\n     <g id=\"line2d_46\">\n      <g>\n       <use style=\"stroke:#000000;stroke-width:0.8;\" x=\"146.710938\" xlink:href=\"#m42a1106883\" y=\"239.758125\"/>\n      </g>\n     </g>\n     <g id=\"text_17\">\n      <!-- Jul -->\n      <g transform=\"translate(140.678125 254.356562)scale(0.1 -0.1)\">\n       <use xlink:href=\"#DejaVuSans-74\"/>\n       <use x=\"29.492188\" xlink:href=\"#DejaVuSans-117\"/>\n       <use x=\"92.871094\" xlink:href=\"#DejaVuSans-108\"/>\n      </g>\n     </g>\n    </g>\n    <g id=\"xtick_43\">\n     <g id=\"line2d_47\">\n      <g>\n       <use style=\"stroke:#000000;stroke-width:0.8;\" x=\"194.760937\" xlink:href=\"#m42a1106883\" y=\"239.758125\"/>\n      </g>\n     </g>\n     <g id=\"text_18\">\n      <!-- Aug -->\n      <g transform=\"translate(184.997656 254.356562)scale(0.1 -0.1)\">\n       <use xlink:href=\"#DejaVuSans-65\"/>\n       <use x=\"68.408203\" xlink:href=\"#DejaVuSans-117\"/>\n       <use x=\"131.787109\" xlink:href=\"#DejaVuSans-103\"/>\n      </g>\n     </g>\n    </g>\n    <g id=\"xtick_44\">\n     <g id=\"line2d_48\">\n      <g>\n       <use style=\"stroke:#000000;stroke-width:0.8;\" x=\"242.810937\" xlink:href=\"#m42a1106883\" y=\"239.758125\"/>\n      </g>\n     </g>\n     <g id=\"text_19\">\n      <!-- Sep -->\n      <g transform=\"translate(233.385937 254.356562)scale(0.1 -0.1)\">\n       <use xlink:href=\"#DejaVuSans-83\"/>\n       <use x=\"63.476562\" xlink:href=\"#DejaVuSans-101\"/>\n       <use x=\"125\" xlink:href=\"#DejaVuSans-112\"/>\n      </g>\n     </g>\n    </g>\n    <g id=\"xtick_45\">\n     <g id=\"line2d_49\">\n      <g>\n       <use style=\"stroke:#000000;stroke-width:0.8;\" x=\"289.310937\" xlink:href=\"#m42a1106883\" y=\"239.758125\"/>\n      </g>\n     </g>\n     <g id=\"text_20\">\n      <!-- Oct -->\n      <g transform=\"translate(280.665625 254.356562)scale(0.1 -0.1)\">\n       <use xlink:href=\"#DejaVuSans-79\"/>\n       <use x=\"78.710938\" xlink:href=\"#DejaVuSans-99\"/>\n       <use x=\"133.691406\" xlink:href=\"#DejaVuSans-116\"/>\n      </g>\n     </g>\n    </g>\n    <g id=\"xtick_46\">\n     <g id=\"line2d_50\">\n      <g>\n       <use style=\"stroke:#000000;stroke-width:0.8;\" x=\"337.360937\" xlink:href=\"#m42a1106883\" y=\"239.758125\"/>\n      </g>\n     </g>\n     <g id=\"text_21\">\n      <!-- Nov -->\n      <g transform=\"translate(327.601562 254.356562)scale(0.1 -0.1)\">\n       <use xlink:href=\"#DejaVuSans-78\"/>\n       <use x=\"74.804688\" xlink:href=\"#DejaVuSans-111\"/>\n       <use x=\"135.986328\" xlink:href=\"#DejaVuSans-118\"/>\n      </g>\n     </g>\n    </g>\n    <g id=\"xtick_47\">\n     <g id=\"line2d_51\">\n      <g>\n       <use style=\"stroke:#000000;stroke-width:0.8;\" x=\"383.860937\" xlink:href=\"#m42a1106883\" y=\"239.758125\"/>\n      </g>\n     </g>\n     <g id=\"text_22\">\n      <!-- Dec -->\n      <g transform=\"translate(374.185156 254.356562)scale(0.1 -0.1)\">\n       <use xlink:href=\"#DejaVuSans-68\"/>\n       <use x=\"77.001953\" xlink:href=\"#DejaVuSans-101\"/>\n       <use x=\"138.525391\" xlink:href=\"#DejaVuSans-99\"/>\n      </g>\n     </g>\n    </g>\n    <g id=\"xtick_48\">\n     <g id=\"line2d_52\">\n      <g>\n       <use style=\"stroke:#000000;stroke-width:0.8;\" x=\"386.960938\" xlink:href=\"#m42a1106883\" y=\"239.758125\"/>\n      </g>\n     </g>\n    </g>\n    <g id=\"xtick_49\">\n     <g id=\"line2d_53\">\n      <g>\n       <use style=\"stroke:#000000;stroke-width:0.6;\" x=\"63.010937\" xlink:href=\"#m273db7bcd9\" y=\"239.758125\"/>\n      </g>\n     </g>\n    </g>\n    <g id=\"xtick_50\">\n     <g id=\"line2d_54\">\n      <g>\n       <use style=\"stroke:#000000;stroke-width:0.6;\" x=\"73.860937\" xlink:href=\"#m273db7bcd9\" y=\"239.758125\"/>\n      </g>\n     </g>\n    </g>\n    <g id=\"xtick_51\">\n     <g id=\"line2d_55\">\n      <g>\n       <use style=\"stroke:#000000;stroke-width:0.6;\" x=\"84.710938\" xlink:href=\"#m273db7bcd9\" y=\"239.758125\"/>\n      </g>\n     </g>\n    </g>\n    <g id=\"xtick_52\">\n     <g id=\"line2d_56\">\n      <g>\n       <use style=\"stroke:#000000;stroke-width:0.6;\" x=\"95.560937\" xlink:href=\"#m273db7bcd9\" y=\"239.758125\"/>\n      </g>\n     </g>\n    </g>\n    <g id=\"xtick_53\">\n     <g id=\"line2d_57\">\n      <g>\n       <use style=\"stroke:#000000;stroke-width:0.6;\" x=\"106.410938\" xlink:href=\"#m273db7bcd9\" y=\"239.758125\"/>\n      </g>\n     </g>\n    </g>\n    <g id=\"xtick_54\">\n     <g id=\"line2d_58\">\n      <g>\n       <use style=\"stroke:#000000;stroke-width:0.6;\" x=\"117.260937\" xlink:href=\"#m273db7bcd9\" y=\"239.758125\"/>\n      </g>\n     </g>\n    </g>\n    <g id=\"xtick_55\">\n     <g id=\"line2d_59\">\n      <g>\n       <use style=\"stroke:#000000;stroke-width:0.6;\" x=\"128.110937\" xlink:href=\"#m273db7bcd9\" y=\"239.758125\"/>\n      </g>\n     </g>\n    </g>\n    <g id=\"xtick_56\">\n     <g id=\"line2d_60\">\n      <g>\n       <use style=\"stroke:#000000;stroke-width:0.6;\" x=\"138.960938\" xlink:href=\"#m273db7bcd9\" y=\"239.758125\"/>\n      </g>\n     </g>\n    </g>\n    <g id=\"xtick_57\">\n     <g id=\"line2d_61\">\n      <g>\n       <use style=\"stroke:#000000;stroke-width:0.6;\" x=\"149.810937\" xlink:href=\"#m273db7bcd9\" y=\"239.758125\"/>\n      </g>\n     </g>\n    </g>\n    <g id=\"xtick_58\">\n     <g id=\"line2d_62\">\n      <g>\n       <use style=\"stroke:#000000;stroke-width:0.6;\" x=\"160.660938\" xlink:href=\"#m273db7bcd9\" y=\"239.758125\"/>\n      </g>\n     </g>\n    </g>\n    <g id=\"xtick_59\">\n     <g id=\"line2d_63\">\n      <g>\n       <use style=\"stroke:#000000;stroke-width:0.6;\" x=\"171.510937\" xlink:href=\"#m273db7bcd9\" y=\"239.758125\"/>\n      </g>\n     </g>\n    </g>\n    <g id=\"xtick_60\">\n     <g id=\"line2d_64\">\n      <g>\n       <use style=\"stroke:#000000;stroke-width:0.6;\" x=\"182.360937\" xlink:href=\"#m273db7bcd9\" y=\"239.758125\"/>\n      </g>\n     </g>\n    </g>\n    <g id=\"xtick_61\">\n     <g id=\"line2d_65\">\n      <g>\n       <use style=\"stroke:#000000;stroke-width:0.6;\" x=\"193.210938\" xlink:href=\"#m273db7bcd9\" y=\"239.758125\"/>\n      </g>\n     </g>\n    </g>\n    <g id=\"xtick_62\">\n     <g id=\"line2d_66\">\n      <g>\n       <use style=\"stroke:#000000;stroke-width:0.6;\" x=\"204.060937\" xlink:href=\"#m273db7bcd9\" y=\"239.758125\"/>\n      </g>\n     </g>\n    </g>\n    <g id=\"xtick_63\">\n     <g id=\"line2d_67\">\n      <g>\n       <use style=\"stroke:#000000;stroke-width:0.6;\" x=\"214.910938\" xlink:href=\"#m273db7bcd9\" y=\"239.758125\"/>\n      </g>\n     </g>\n    </g>\n    <g id=\"xtick_64\">\n     <g id=\"line2d_68\">\n      <g>\n       <use style=\"stroke:#000000;stroke-width:0.6;\" x=\"225.760937\" xlink:href=\"#m273db7bcd9\" y=\"239.758125\"/>\n      </g>\n     </g>\n    </g>\n    <g id=\"xtick_65\">\n     <g id=\"line2d_69\">\n      <g>\n       <use style=\"stroke:#000000;stroke-width:0.6;\" x=\"236.610937\" xlink:href=\"#m273db7bcd9\" y=\"239.758125\"/>\n      </g>\n     </g>\n    </g>\n    <g id=\"xtick_66\">\n     <g id=\"line2d_70\">\n      <g>\n       <use style=\"stroke:#000000;stroke-width:0.6;\" x=\"247.460938\" xlink:href=\"#m273db7bcd9\" y=\"239.758125\"/>\n      </g>\n     </g>\n    </g>\n    <g id=\"xtick_67\">\n     <g id=\"line2d_71\">\n      <g>\n       <use style=\"stroke:#000000;stroke-width:0.6;\" x=\"258.310937\" xlink:href=\"#m273db7bcd9\" y=\"239.758125\"/>\n      </g>\n     </g>\n    </g>\n    <g id=\"xtick_68\">\n     <g id=\"line2d_72\">\n      <g>\n       <use style=\"stroke:#000000;stroke-width:0.6;\" x=\"269.160938\" xlink:href=\"#m273db7bcd9\" y=\"239.758125\"/>\n      </g>\n     </g>\n    </g>\n    <g id=\"xtick_69\">\n     <g id=\"line2d_73\">\n      <g>\n       <use style=\"stroke:#000000;stroke-width:0.6;\" x=\"280.010937\" xlink:href=\"#m273db7bcd9\" y=\"239.758125\"/>\n      </g>\n     </g>\n    </g>\n    <g id=\"xtick_70\">\n     <g id=\"line2d_74\">\n      <g>\n       <use style=\"stroke:#000000;stroke-width:0.6;\" x=\"290.860937\" xlink:href=\"#m273db7bcd9\" y=\"239.758125\"/>\n      </g>\n     </g>\n    </g>\n    <g id=\"xtick_71\">\n     <g id=\"line2d_75\">\n      <g>\n       <use style=\"stroke:#000000;stroke-width:0.6;\" x=\"301.710938\" xlink:href=\"#m273db7bcd9\" y=\"239.758125\"/>\n      </g>\n     </g>\n    </g>\n    <g id=\"xtick_72\">\n     <g id=\"line2d_76\">\n      <g>\n       <use style=\"stroke:#000000;stroke-width:0.6;\" x=\"312.560937\" xlink:href=\"#m273db7bcd9\" y=\"239.758125\"/>\n      </g>\n     </g>\n    </g>\n    <g id=\"xtick_73\">\n     <g id=\"line2d_77\">\n      <g>\n       <use style=\"stroke:#000000;stroke-width:0.6;\" x=\"323.410938\" xlink:href=\"#m273db7bcd9\" y=\"239.758125\"/>\n      </g>\n     </g>\n    </g>\n    <g id=\"xtick_74\">\n     <g id=\"line2d_78\">\n      <g>\n       <use style=\"stroke:#000000;stroke-width:0.6;\" x=\"334.260937\" xlink:href=\"#m273db7bcd9\" y=\"239.758125\"/>\n      </g>\n     </g>\n    </g>\n    <g id=\"xtick_75\">\n     <g id=\"line2d_79\">\n      <g>\n       <use style=\"stroke:#000000;stroke-width:0.6;\" x=\"345.110937\" xlink:href=\"#m273db7bcd9\" y=\"239.758125\"/>\n      </g>\n     </g>\n    </g>\n    <g id=\"xtick_76\">\n     <g id=\"line2d_80\">\n      <g>\n       <use style=\"stroke:#000000;stroke-width:0.6;\" x=\"355.960938\" xlink:href=\"#m273db7bcd9\" y=\"239.758125\"/>\n      </g>\n     </g>\n    </g>\n    <g id=\"xtick_77\">\n     <g id=\"line2d_81\">\n      <g>\n       <use style=\"stroke:#000000;stroke-width:0.6;\" x=\"366.810937\" xlink:href=\"#m273db7bcd9\" y=\"239.758125\"/>\n      </g>\n     </g>\n    </g>\n    <g id=\"xtick_78\">\n     <g id=\"line2d_82\">\n      <g>\n       <use style=\"stroke:#000000;stroke-width:0.6;\" x=\"377.660938\" xlink:href=\"#m273db7bcd9\" y=\"239.758125\"/>\n      </g>\n     </g>\n    </g>\n    <g id=\"text_23\">\n     <!-- created_at_x -->\n     <g transform=\"translate(187.533594 279.2325)scale(0.1 -0.1)\">\n      <use xlink:href=\"#DejaVuSans-99\"/>\n      <use x=\"54.980469\" xlink:href=\"#DejaVuSans-114\"/>\n      <use x=\"93.84375\" xlink:href=\"#DejaVuSans-101\"/>\n      <use x=\"155.367188\" xlink:href=\"#DejaVuSans-97\"/>\n      <use x=\"216.646484\" xlink:href=\"#DejaVuSans-116\"/>\n      <use x=\"255.855469\" xlink:href=\"#DejaVuSans-101\"/>\n      <use x=\"317.378906\" xlink:href=\"#DejaVuSans-100\"/>\n      <use x=\"380.855469\" xlink:href=\"#DejaVuSans-95\"/>\n      <use x=\"430.855469\" xlink:href=\"#DejaVuSans-97\"/>\n      <use x=\"492.134766\" xlink:href=\"#DejaVuSans-116\"/>\n      <use x=\"531.34375\" xlink:href=\"#DejaVuSans-95\"/>\n      <use x=\"581.34375\" xlink:href=\"#DejaVuSans-120\"/>\n     </g>\n    </g>\n   </g>\n   <g id=\"matplotlib.axis_4\">\n    <g id=\"ytick_4\">\n     <g id=\"line2d_83\">\n      <g>\n       <use style=\"stroke:#000000;stroke-width:0.8;\" x=\"52.160938\" xlink:href=\"#mbe719c2b43\" y=\"219.689632\"/>\n      </g>\n     </g>\n     <g id=\"text_24\">\n      <!-- −0.5 -->\n      <defs>\n       <path d=\"M 10.59375 35.5 \nL 73.1875 35.5 \nL 73.1875 27.203125 \nL 10.59375 27.203125 \nz\n\" id=\"DejaVuSans-8722\"/>\n       <path d=\"M 10.6875 12.40625 \nL 21 12.40625 \nL 21 0 \nL 10.6875 0 \nz\n\" id=\"DejaVuSans-46\"/>\n       <path d=\"M 10.796875 72.90625 \nL 49.515625 72.90625 \nL 49.515625 64.59375 \nL 19.828125 64.59375 \nL 19.828125 46.734375 \nQ 21.96875 47.46875 24.109375 47.828125 \nQ 26.265625 48.1875 28.421875 48.1875 \nQ 40.625 48.1875 47.75 41.5 \nQ 54.890625 34.8125 54.890625 23.390625 \nQ 54.890625 11.625 47.5625 5.09375 \nQ 40.234375 -1.421875 26.90625 -1.421875 \nQ 22.3125 -1.421875 17.546875 -0.640625 \nQ 12.796875 0.140625 7.71875 1.703125 \nL 7.71875 11.625 \nQ 12.109375 9.234375 16.796875 8.0625 \nQ 21.484375 6.890625 26.703125 6.890625 \nQ 35.15625 6.890625 40.078125 11.328125 \nQ 45.015625 15.765625 45.015625 23.390625 \nQ 45.015625 31 40.078125 35.4375 \nQ 35.15625 39.890625 26.703125 39.890625 \nQ 22.75 39.890625 18.8125 39.015625 \nQ 14.890625 38.140625 10.796875 36.28125 \nz\n\" id=\"DejaVuSans-53\"/>\n      </defs>\n      <g transform=\"translate(20.878125 223.488851)scale(0.1 -0.1)\">\n       <use xlink:href=\"#DejaVuSans-8722\"/>\n       <use x=\"83.789062\" xlink:href=\"#DejaVuSans-48\"/>\n       <use x=\"147.412109\" xlink:href=\"#DejaVuSans-46\"/>\n       <use x=\"179.199219\" xlink:href=\"#DejaVuSans-53\"/>\n      </g>\n     </g>\n    </g>\n    <g id=\"ytick_5\">\n     <g id=\"line2d_84\">\n      <g>\n       <use style=\"stroke:#000000;stroke-width:0.8;\" x=\"52.160938\" xlink:href=\"#mbe719c2b43\" y=\"191.705566\"/>\n      </g>\n     </g>\n     <g id=\"text_25\">\n      <!-- 0.0 -->\n      <g transform=\"translate(29.257813 195.504784)scale(0.1 -0.1)\">\n       <use xlink:href=\"#DejaVuSans-48\"/>\n       <use x=\"63.623047\" xlink:href=\"#DejaVuSans-46\"/>\n       <use x=\"95.410156\" xlink:href=\"#DejaVuSans-48\"/>\n      </g>\n     </g>\n    </g>\n    <g id=\"ytick_6\">\n     <g id=\"line2d_85\">\n      <g>\n       <use style=\"stroke:#000000;stroke-width:0.8;\" x=\"52.160938\" xlink:href=\"#mbe719c2b43\" y=\"163.721499\"/>\n      </g>\n     </g>\n     <g id=\"text_26\">\n      <!-- 0.5 -->\n      <g transform=\"translate(29.257813 167.520718)scale(0.1 -0.1)\">\n       <use xlink:href=\"#DejaVuSans-48\"/>\n       <use x=\"63.623047\" xlink:href=\"#DejaVuSans-46\"/>\n       <use x=\"95.410156\" xlink:href=\"#DejaVuSans-53\"/>\n      </g>\n     </g>\n    </g>\n    <g id=\"text_27\">\n     <!-- Customer Sentiment -->\n     <defs>\n      <path d=\"M 64.40625 67.28125 \nL 64.40625 56.890625 \nQ 59.421875 61.53125 53.78125 63.8125 \nQ 48.140625 66.109375 41.796875 66.109375 \nQ 29.296875 66.109375 22.65625 58.46875 \nQ 16.015625 50.828125 16.015625 36.375 \nQ 16.015625 21.96875 22.65625 14.328125 \nQ 29.296875 6.6875 41.796875 6.6875 \nQ 48.140625 6.6875 53.78125 8.984375 \nQ 59.421875 11.28125 64.40625 15.921875 \nL 64.40625 5.609375 \nQ 59.234375 2.09375 53.4375 0.328125 \nQ 47.65625 -1.421875 41.21875 -1.421875 \nQ 24.65625 -1.421875 15.125 8.703125 \nQ 5.609375 18.84375 5.609375 36.375 \nQ 5.609375 53.953125 15.125 64.078125 \nQ 24.65625 74.21875 41.21875 74.21875 \nQ 47.75 74.21875 53.53125 72.484375 \nQ 59.328125 70.75 64.40625 67.28125 \nz\n\" id=\"DejaVuSans-67\"/>\n     </defs>\n     <g transform=\"translate(14.798438 242.060256)rotate(-90)scale(0.1 -0.1)\">\n      <use xlink:href=\"#DejaVuSans-67\"/>\n      <use x=\"69.824219\" xlink:href=\"#DejaVuSans-117\"/>\n      <use x=\"133.203125\" xlink:href=\"#DejaVuSans-115\"/>\n      <use x=\"185.302734\" xlink:href=\"#DejaVuSans-116\"/>\n      <use x=\"224.511719\" xlink:href=\"#DejaVuSans-111\"/>\n      <use x=\"285.693359\" xlink:href=\"#DejaVuSans-109\"/>\n      <use x=\"383.105469\" xlink:href=\"#DejaVuSans-101\"/>\n      <use x=\"444.628906\" xlink:href=\"#DejaVuSans-114\"/>\n      <use x=\"485.742188\" xlink:href=\"#DejaVuSans-32\"/>\n      <use x=\"517.529297\" xlink:href=\"#DejaVuSans-83\"/>\n      <use x=\"581.005859\" xlink:href=\"#DejaVuSans-101\"/>\n      <use x=\"642.529297\" xlink:href=\"#DejaVuSans-110\"/>\n      <use x=\"705.908203\" xlink:href=\"#DejaVuSans-116\"/>\n      <use x=\"745.117188\" xlink:href=\"#DejaVuSans-105\"/>\n      <use x=\"772.900391\" xlink:href=\"#DejaVuSans-109\"/>\n      <use x=\"870.3125\" xlink:href=\"#DejaVuSans-101\"/>\n      <use x=\"931.835938\" xlink:href=\"#DejaVuSans-110\"/>\n      <use x=\"995.214844\" xlink:href=\"#DejaVuSans-116\"/>\n     </g>\n    </g>\n   </g>\n   <g id=\"line2d_86\">\n    <path clip-path=\"url(#p6f06941813)\" d=\"M 52.160938 226.680052 \nL 53.710938 151.02233 \nM 142.060937 191.705566 \nL 143.610937 222.057084 \nL 145.160938 222.057084 \nM 225.760937 229.80867 \nL 227.310937 209.514625 \nM 239.710938 235.265563 \nL 241.260937 191.705566 \nM 249.010937 191.705566 \nL 250.560937 185.957638 \nM 261.410938 187.384826 \nL 262.960938 191.705566 \nM 276.910938 191.705566 \nL 278.460938 193.671446 \nM 284.660938 145.414323 \nL 286.210938 175.541969 \nM 289.310937 197.095297 \nL 290.860937 183.63123 \nL 292.410938 194.903212 \nL 293.960938 188.621069 \nL 295.510937 187.602823 \nL 297.060937 190.932226 \nL 298.610937 187.574211 \nL 300.160938 189.904622 \nL 301.710938 190.796436 \nL 303.260937 193.029126 \nL 304.810937 188.889325 \nL 306.360937 191.008189 \nL 307.910938 190.45645 \nL 309.460938 188.824351 \nL 311.010937 194.033851 \nL 312.560937 190.590795 \nL 314.110937 191.018365 \nL 315.660938 189.497063 \nL 317.210938 189.254645 \nL 318.760937 191.596037 \nL 320.310937 187.649036 \nL 321.860937 190.88447 \nL 323.410938 189.872969 \nL 324.960938 191.615716 \nL 326.510937 191.413679 \nL 328.060937 187.330595 \nL 329.610937 189.603432 \nL 331.160938 190.576382 \nL 332.710938 187.989868 \nL 334.260937 190.321043 \nL 335.810937 187.137439 \nL 337.360937 189.814309 \nL 338.910938 188.214521 \nL 342.010937 191.789993 \nL 343.560937 191.848109 \nL 345.110937 191.717845 \nL 346.660938 190.059199 \nL 348.210938 189.431822 \nL 349.760937 191.456396 \nL 351.310937 191.2447 \nL 352.860937 190.420324 \nL 354.410938 188.182677 \nL 355.960938 191.960379 \nL 357.510937 189.407929 \nL 359.060937 187.160822 \nL 362.160938 189.343461 \nL 363.710938 198.542912 \nL 365.260937 192.302645 \nL 366.810937 190.57928 \nL 368.360937 187.535119 \nL 369.910938 184.801745 \nL 371.460938 184.943604 \nL 373.010937 188.016303 \nL 374.560937 185.271884 \nL 376.110937 190.603392 \nL 377.660938 189.831541 \nL 379.210938 188.275256 \nL 380.760937 187.898879 \nL 382.310937 191.095047 \nL 383.860937 186.816949 \nL 385.410938 188.965434 \nL 386.960938 188.806094 \nL 386.960938 188.806094 \n\" style=\"fill:none;stroke:#ff0000;stroke-linecap:square;stroke-width:1.5;\"/>\n   </g>\n   <g id=\"patch_8\">\n    <path d=\"M 52.160938 239.758125 \nL 52.160938 140.921761 \n\" style=\"fill:none;stroke:#000000;stroke-linecap:square;stroke-linejoin:miter;stroke-width:0.8;\"/>\n   </g>\n   <g id=\"patch_9\">\n    <path d=\"M 386.960938 239.758125 \nL 386.960938 140.921761 \n\" style=\"fill:none;stroke:#000000;stroke-linecap:square;stroke-linejoin:miter;stroke-width:0.8;\"/>\n   </g>\n   <g id=\"patch_10\">\n    <path d=\"M 52.160938 239.758125 \nL 386.960938 239.758125 \n\" style=\"fill:none;stroke:#000000;stroke-linecap:square;stroke-linejoin:miter;stroke-width:0.8;\"/>\n   </g>\n   <g id=\"patch_11\">\n    <path d=\"M 52.160938 140.921761 \nL 386.960938 140.921761 \n\" style=\"fill:none;stroke:#000000;stroke-linecap:square;stroke-linejoin:miter;stroke-width:0.8;\"/>\n   </g>\n  </g>\n </g>\n <defs>\n  <clipPath id=\"pbfce711f2c\">\n   <rect height=\"98.836364\" width=\"334.8\" x=\"52.160938\" y=\"22.318125\"/>\n  </clipPath>\n  <clipPath id=\"p6f06941813\">\n   <rect height=\"98.836364\" width=\"334.8\" x=\"52.160938\" y=\"140.921761\"/>\n  </clipPath>\n </defs>\n</svg>\n"
          },
          "metadata": {
            "tags": [],
            "needs_background": "light"
          }
        }
      ]
    },
    {
      "cell_type": "markdown",
      "metadata": {
        "id": "xX95dtWyJYni"
      },
      "source": [
        "#### Uber"
      ]
    },
    {
      "cell_type": "code",
      "metadata": {
        "id": "lTO22UUzJYCh"
      },
      "source": [
        "uber_tweets = inbounds_and_outbounds \\\n",
        "    .loc[inbounds_and_outbounds.author_id_y == 'Uber_Support'] \\\n",
        "    .loc[inbounds_and_outbounds.created_at_x > datetime(2017, 10, 1).replace(tzinfo=pytz.utc)]"
      ],
      "execution_count": null,
      "outputs": []
    },
    {
      "cell_type": "code",
      "metadata": {
        "colab": {
          "base_uri": "https://localhost:8080/",
          "height": 453
        },
        "id": "BlBvEyagJmmK",
        "outputId": "87bccecb-533c-40da-a6d5-ace0ad0d0b11"
      },
      "source": [
        "plt.subplot(2, 1, 1)\n",
        "\n",
        "ax = uber_tweets \\\n",
        "    .groupby(pd.Grouper(key='created_at_x', freq='24h')) \\\n",
        "    .count() \\\n",
        "    .tweet_id_x.sort_index() \\\n",
        "    .plot(title='@UberSupport Volume & Sentiment - Hack Exposed', kind='area')\n",
        "ax.set_ylabel('Inbound Tweets')\n",
        "    \n",
        "\n",
        "plt.subplot(2, 1, 2)\n",
        "ax = uber_tweets \\\n",
        "    .groupby(pd.Grouper(key='created_at_x', freq='24h')) \\\n",
        "    .inbound_sentiment.mean() \\\n",
        "    .sort_index() \\\n",
        "    .plot(color='red')\n",
        "ax.set_ylabel('Customer Sentiment')"
      ],
      "execution_count": null,
      "outputs": [
        {
          "output_type": "execute_result",
          "data": {
            "text/plain": [
              "Text(0, 0.5, 'Customer Sentiment')"
            ]
          },
          "metadata": {
            "tags": []
          },
          "execution_count": 148
        },
        {
          "output_type": "display_data",
          "data": {
            "text/plain": [
              "<Figure size 432x288 with 2 Axes>"
            ],
            "image/svg+xml": "<?xml version=\"1.0\" encoding=\"utf-8\" standalone=\"no\"?>\n<!DOCTYPE svg PUBLIC \"-//W3C//DTD SVG 1.1//EN\"\n  \"http://www.w3.org/Graphics/SVG/1.1/DTD/svg11.dtd\">\n<!-- Created with matplotlib (https://matplotlib.org/) -->\n<svg height=\"311.185938pt\" version=\"1.1\" viewBox=\"0 0 400.523438 311.185938\" width=\"400.523438pt\" xmlns=\"http://www.w3.org/2000/svg\" xmlns:xlink=\"http://www.w3.org/1999/xlink\">\n <defs>\n  <style type=\"text/css\">\n*{stroke-linecap:butt;stroke-linejoin:round;}\n  </style>\n </defs>\n <g id=\"figure_1\">\n  <g id=\"patch_1\">\n   <path d=\"M 0 311.185938 \nL 400.523438 311.185938 \nL 400.523438 0 \nL 0 0 \nz\n\" style=\"fill:none;\"/>\n  </g>\n  <g id=\"axes_1\">\n   <g id=\"patch_2\">\n    <path d=\"M 58.523438 121.154489 \nL 393.323438 121.154489 \nL 393.323438 22.318125 \nL 58.523438 22.318125 \nz\n\" style=\"fill:#ffffff;\"/>\n   </g>\n   <g id=\"PolyCollection_1\">\n    <defs>\n     <path d=\"M 58.523438 -190.404093 \nL 58.523438 -190.031449 \nL 63.837723 -190.031449 \nL 69.152009 -190.031449 \nL 74.466295 -190.031449 \nL 79.78058 -190.031449 \nL 85.094866 -190.031449 \nL 90.409152 -190.031449 \nL 95.723437 -190.031449 \nL 101.037723 -190.031449 \nL 106.352009 -190.031449 \nL 111.666295 -190.031449 \nL 116.98058 -190.031449 \nL 122.294866 -190.031449 \nL 127.609152 -190.031449 \nL 132.923437 -190.031449 \nL 138.237723 -190.031449 \nL 143.552009 -190.031449 \nL 148.866295 -190.031449 \nL 154.18058 -190.031449 \nL 159.494866 -190.031449 \nL 164.809152 -190.031449 \nL 170.123437 -190.031449 \nL 175.437723 -190.031449 \nL 180.752009 -190.031449 \nL 186.066295 -190.031449 \nL 191.38058 -190.031449 \nL 196.694866 -190.031449 \nL 202.009152 -190.031449 \nL 207.323438 -190.031449 \nL 212.637723 -190.031449 \nL 217.952009 -190.031449 \nL 223.266295 -190.031449 \nL 228.58058 -190.031449 \nL 233.894866 -190.031449 \nL 239.209152 -190.031449 \nL 244.523438 -190.031449 \nL 249.837723 -190.031449 \nL 255.152009 -190.031449 \nL 260.466295 -190.031449 \nL 265.78058 -190.031449 \nL 271.094866 -190.031449 \nL 276.409152 -190.031449 \nL 281.723437 -190.031449 \nL 287.037723 -190.031449 \nL 292.352009 -190.031449 \nL 297.666295 -190.031449 \nL 302.98058 -190.031449 \nL 308.294866 -190.031449 \nL 313.609152 -190.031449 \nL 318.923437 -190.031449 \nL 324.237723 -190.031449 \nL 329.552009 -190.031449 \nL 334.866295 -190.031449 \nL 340.18058 -190.031449 \nL 345.494866 -190.031449 \nL 350.809152 -190.031449 \nL 356.123437 -190.031449 \nL 361.437723 -190.031449 \nL 366.752009 -190.031449 \nL 372.066295 -190.031449 \nL 377.38058 -190.031449 \nL 382.694866 -190.031449 \nL 388.009152 -190.031449 \nL 393.323438 -190.031449 \nL 393.323438 -245.406345 \nL 393.323438 -245.406345 \nL 388.009152 -252.412052 \nL 382.694866 -260.013989 \nL 377.38058 -255.467732 \nL 372.066295 -247.791266 \nL 366.752009 -241.009146 \nL 361.437723 -251.517706 \nL 356.123437 -246.747863 \nL 350.809152 -242.499722 \nL 345.494866 -241.158203 \nL 340.18058 -243.84124 \nL 334.866295 -247.56768 \nL 329.552009 -244.288413 \nL 324.237723 -245.331816 \nL 318.923437 -233.034565 \nL 313.609152 -192.41637 \nL 308.294866 -241.530847 \nL 302.98058 -244.661057 \nL 297.666295 -240.487444 \nL 292.352009 -284.161319 \nL 287.037723 -223.196763 \nL 281.723437 -191.074852 \nL 276.409152 -217.905219 \nL 271.094866 -237.729879 \nL 265.78058 -235.494015 \nL 260.466295 -239.816685 \nL 255.152009 -235.717601 \nL 249.837723 -238.475167 \nL 244.523438 -242.350664 \nL 239.209152 -239.369512 \nL 233.894866 -236.462889 \nL 228.58058 -234.450612 \nL 223.266295 -241.97802 \nL 217.952009 -233.258151 \nL 212.637723 -240.934617 \nL 207.323438 -252.784696 \nL 202.009152 -246.375219 \nL 196.694866 -241.009146 \nL 191.38058 -242.052549 \nL 186.066295 -243.319538 \nL 180.752009 -235.494015 \nL 175.437723 -235.568544 \nL 170.123437 -236.090245 \nL 164.809152 -239.593099 \nL 159.494866 -240.785559 \nL 154.18058 -236.239303 \nL 148.866295 -234.227025 \nL 143.552009 -233.779852 \nL 138.237723 -236.835533 \nL 132.923437 -237.953465 \nL 127.609152 -236.313832 \nL 122.294866 -239.891214 \nL 116.98058 -241.083675 \nL 111.666295 -239.369512 \nL 106.352009 -233.779852 \nL 101.037723 -233.407208 \nL 95.723437 -238.400638 \nL 90.409152 -239.294983 \nL 85.094866 -243.84124 \nL 79.78058 -244.139355 \nL 74.466295 -194.354119 \nL 69.152009 -191.298438 \nL 63.837723 -191.149381 \nL 58.523438 -190.404093 \nz\n\" id=\"m0bdf54bd2f\" style=\"stroke:#1f77b4;\"/>\n    </defs>\n    <g clip-path=\"url(#pc3919d76e9)\">\n     <use style=\"fill:#1f77b4;stroke:#1f77b4;\" x=\"0\" xlink:href=\"#m0bdf54bd2f\" y=\"311.185938\"/>\n    </g>\n   </g>\n   <g id=\"matplotlib.axis_1\">\n    <g id=\"xtick_1\">\n     <g id=\"line2d_1\">\n      <defs>\n       <path d=\"M 0 0 \nL 0 3.5 \n\" id=\"m8f1913f9e0\" style=\"stroke:#000000;stroke-width:0.8;\"/>\n      </defs>\n      <g>\n       <use style=\"stroke:#000000;stroke-width:0.8;\" x=\"58.523438\" xlink:href=\"#m8f1913f9e0\" y=\"121.154489\"/>\n      </g>\n     </g>\n     <g id=\"text_1\">\n      <!--  -->\n      <g transform=\"translate(58.523438 135.752926)scale(0.1 -0.1)\"/>\n      <!--  -->\n      <g transform=\"translate(58.523438 146.950739)scale(0.1 -0.1)\"/>\n      <!-- Oct -->\n      <defs>\n       <path d=\"M 39.40625 66.21875 \nQ 28.65625 66.21875 22.328125 58.203125 \nQ 16.015625 50.203125 16.015625 36.375 \nQ 16.015625 22.609375 22.328125 14.59375 \nQ 28.65625 6.59375 39.40625 6.59375 \nQ 50.140625 6.59375 56.421875 14.59375 \nQ 62.703125 22.609375 62.703125 36.375 \nQ 62.703125 50.203125 56.421875 58.203125 \nQ 50.140625 66.21875 39.40625 66.21875 \nz\nM 39.40625 74.21875 \nQ 54.734375 74.21875 63.90625 63.9375 \nQ 73.09375 53.65625 73.09375 36.375 \nQ 73.09375 19.140625 63.90625 8.859375 \nQ 54.734375 -1.421875 39.40625 -1.421875 \nQ 24.03125 -1.421875 14.8125 8.828125 \nQ 5.609375 19.09375 5.609375 36.375 \nQ 5.609375 53.65625 14.8125 63.9375 \nQ 24.03125 74.21875 39.40625 74.21875 \nz\n\" id=\"DejaVuSans-79\"/>\n       <path d=\"M 48.78125 52.59375 \nL 48.78125 44.1875 \nQ 44.96875 46.296875 41.140625 47.34375 \nQ 37.3125 48.390625 33.40625 48.390625 \nQ 24.65625 48.390625 19.8125 42.84375 \nQ 14.984375 37.3125 14.984375 27.296875 \nQ 14.984375 17.28125 19.8125 11.734375 \nQ 24.65625 6.203125 33.40625 6.203125 \nQ 37.3125 6.203125 41.140625 7.25 \nQ 44.96875 8.296875 48.78125 10.40625 \nL 48.78125 2.09375 \nQ 45.015625 0.34375 40.984375 -0.53125 \nQ 36.96875 -1.421875 32.421875 -1.421875 \nQ 20.0625 -1.421875 12.78125 6.34375 \nQ 5.515625 14.109375 5.515625 27.296875 \nQ 5.515625 40.671875 12.859375 48.328125 \nQ 20.21875 56 33.015625 56 \nQ 37.15625 56 41.109375 55.140625 \nQ 45.0625 54.296875 48.78125 52.59375 \nz\n\" id=\"DejaVuSans-99\"/>\n       <path d=\"M 18.3125 70.21875 \nL 18.3125 54.6875 \nL 36.8125 54.6875 \nL 36.8125 47.703125 \nL 18.3125 47.703125 \nL 18.3125 18.015625 \nQ 18.3125 11.328125 20.140625 9.421875 \nQ 21.96875 7.515625 27.59375 7.515625 \nL 36.8125 7.515625 \nL 36.8125 0 \nL 27.59375 0 \nQ 17.1875 0 13.234375 3.875 \nQ 9.28125 7.765625 9.28125 18.015625 \nL 9.28125 47.703125 \nL 2.6875 47.703125 \nL 2.6875 54.6875 \nL 9.28125 54.6875 \nL 9.28125 70.21875 \nz\n\" id=\"DejaVuSans-116\"/>\n      </defs>\n      <g transform=\"translate(49.878125 158.148551)scale(0.1 -0.1)\">\n       <use xlink:href=\"#DejaVuSans-79\"/>\n       <use x=\"78.710938\" xlink:href=\"#DejaVuSans-99\"/>\n       <use x=\"133.691406\" xlink:href=\"#DejaVuSans-116\"/>\n      </g>\n      <!-- 2017 -->\n      <defs>\n       <path d=\"M 19.1875 8.296875 \nL 53.609375 8.296875 \nL 53.609375 0 \nL 7.328125 0 \nL 7.328125 8.296875 \nQ 12.9375 14.109375 22.625 23.890625 \nQ 32.328125 33.6875 34.8125 36.53125 \nQ 39.546875 41.84375 41.421875 45.53125 \nQ 43.3125 49.21875 43.3125 52.78125 \nQ 43.3125 58.59375 39.234375 62.25 \nQ 35.15625 65.921875 28.609375 65.921875 \nQ 23.96875 65.921875 18.8125 64.3125 \nQ 13.671875 62.703125 7.8125 59.421875 \nL 7.8125 69.390625 \nQ 13.765625 71.78125 18.9375 73 \nQ 24.125 74.21875 28.421875 74.21875 \nQ 39.75 74.21875 46.484375 68.546875 \nQ 53.21875 62.890625 53.21875 53.421875 \nQ 53.21875 48.921875 51.53125 44.890625 \nQ 49.859375 40.875 45.40625 35.40625 \nQ 44.1875 33.984375 37.640625 27.21875 \nQ 31.109375 20.453125 19.1875 8.296875 \nz\n\" id=\"DejaVuSans-50\"/>\n       <path d=\"M 31.78125 66.40625 \nQ 24.171875 66.40625 20.328125 58.90625 \nQ 16.5 51.421875 16.5 36.375 \nQ 16.5 21.390625 20.328125 13.890625 \nQ 24.171875 6.390625 31.78125 6.390625 \nQ 39.453125 6.390625 43.28125 13.890625 \nQ 47.125 21.390625 47.125 36.375 \nQ 47.125 51.421875 43.28125 58.90625 \nQ 39.453125 66.40625 31.78125 66.40625 \nz\nM 31.78125 74.21875 \nQ 44.046875 74.21875 50.515625 64.515625 \nQ 56.984375 54.828125 56.984375 36.375 \nQ 56.984375 17.96875 50.515625 8.265625 \nQ 44.046875 -1.421875 31.78125 -1.421875 \nQ 19.53125 -1.421875 13.0625 8.265625 \nQ 6.59375 17.96875 6.59375 36.375 \nQ 6.59375 54.828125 13.0625 64.515625 \nQ 19.53125 74.21875 31.78125 74.21875 \nz\n\" id=\"DejaVuSans-48\"/>\n       <path d=\"M 12.40625 8.296875 \nL 28.515625 8.296875 \nL 28.515625 63.921875 \nL 10.984375 60.40625 \nL 10.984375 69.390625 \nL 28.421875 72.90625 \nL 38.28125 72.90625 \nL 38.28125 8.296875 \nL 54.390625 8.296875 \nL 54.390625 0 \nL 12.40625 0 \nz\n\" id=\"DejaVuSans-49\"/>\n       <path d=\"M 8.203125 72.90625 \nL 55.078125 72.90625 \nL 55.078125 68.703125 \nL 28.609375 0 \nL 18.3125 0 \nL 43.21875 64.59375 \nL 8.203125 64.59375 \nz\n\" id=\"DejaVuSans-55\"/>\n      </defs>\n      <g transform=\"translate(45.798437 169.346364)scale(0.1 -0.1)\">\n       <use xlink:href=\"#DejaVuSans-50\"/>\n       <use x=\"63.623047\" xlink:href=\"#DejaVuSans-48\"/>\n       <use x=\"127.246094\" xlink:href=\"#DejaVuSans-49\"/>\n       <use x=\"190.869141\" xlink:href=\"#DejaVuSans-55\"/>\n      </g>\n     </g>\n    </g>\n    <g id=\"xtick_2\">\n     <g id=\"line2d_2\">\n      <g>\n       <use style=\"stroke:#000000;stroke-width:0.8;\" x=\"223.266295\" xlink:href=\"#m8f1913f9e0\" y=\"121.154489\"/>\n      </g>\n     </g>\n     <g id=\"text_2\">\n      <!--  -->\n      <g transform=\"translate(223.266295 135.752926)scale(0.1 -0.1)\"/>\n      <!--  -->\n      <g transform=\"translate(223.266295 146.950739)scale(0.1 -0.1)\"/>\n      <!-- Nov -->\n      <defs>\n       <path d=\"M 9.8125 72.90625 \nL 23.09375 72.90625 \nL 55.421875 11.921875 \nL 55.421875 72.90625 \nL 64.984375 72.90625 \nL 64.984375 0 \nL 51.703125 0 \nL 19.390625 60.984375 \nL 19.390625 0 \nL 9.8125 0 \nz\n\" id=\"DejaVuSans-78\"/>\n       <path d=\"M 30.609375 48.390625 \nQ 23.390625 48.390625 19.1875 42.75 \nQ 14.984375 37.109375 14.984375 27.296875 \nQ 14.984375 17.484375 19.15625 11.84375 \nQ 23.34375 6.203125 30.609375 6.203125 \nQ 37.796875 6.203125 41.984375 11.859375 \nQ 46.1875 17.53125 46.1875 27.296875 \nQ 46.1875 37.015625 41.984375 42.703125 \nQ 37.796875 48.390625 30.609375 48.390625 \nz\nM 30.609375 56 \nQ 42.328125 56 49.015625 48.375 \nQ 55.71875 40.765625 55.71875 27.296875 \nQ 55.71875 13.875 49.015625 6.21875 \nQ 42.328125 -1.421875 30.609375 -1.421875 \nQ 18.84375 -1.421875 12.171875 6.21875 \nQ 5.515625 13.875 5.515625 27.296875 \nQ 5.515625 40.765625 12.171875 48.375 \nQ 18.84375 56 30.609375 56 \nz\n\" id=\"DejaVuSans-111\"/>\n       <path d=\"M 2.984375 54.6875 \nL 12.5 54.6875 \nL 29.59375 8.796875 \nL 46.6875 54.6875 \nL 56.203125 54.6875 \nL 35.6875 0 \nL 23.484375 0 \nz\n\" id=\"DejaVuSans-118\"/>\n      </defs>\n      <g transform=\"translate(213.50692 158.148551)scale(0.1 -0.1)\">\n       <use xlink:href=\"#DejaVuSans-78\"/>\n       <use x=\"74.804688\" xlink:href=\"#DejaVuSans-111\"/>\n       <use x=\"135.986328\" xlink:href=\"#DejaVuSans-118\"/>\n      </g>\n     </g>\n    </g>\n    <g id=\"xtick_3\">\n     <g id=\"line2d_3\">\n      <g>\n       <use style=\"stroke:#000000;stroke-width:0.8;\" x=\"382.694866\" xlink:href=\"#m8f1913f9e0\" y=\"121.154489\"/>\n      </g>\n     </g>\n     <g id=\"text_3\">\n      <!--  -->\n      <g transform=\"translate(382.694866 135.752926)scale(0.1 -0.1)\"/>\n      <!--  -->\n      <g transform=\"translate(382.694866 146.950739)scale(0.1 -0.1)\"/>\n      <!-- Dec -->\n      <defs>\n       <path d=\"M 19.671875 64.796875 \nL 19.671875 8.109375 \nL 31.59375 8.109375 \nQ 46.6875 8.109375 53.6875 14.9375 \nQ 60.6875 21.78125 60.6875 36.53125 \nQ 60.6875 51.171875 53.6875 57.984375 \nQ 46.6875 64.796875 31.59375 64.796875 \nz\nM 9.8125 72.90625 \nL 30.078125 72.90625 \nQ 51.265625 72.90625 61.171875 64.09375 \nQ 71.09375 55.28125 71.09375 36.53125 \nQ 71.09375 17.671875 61.125 8.828125 \nQ 51.171875 0 30.078125 0 \nL 9.8125 0 \nz\n\" id=\"DejaVuSans-68\"/>\n       <path d=\"M 56.203125 29.59375 \nL 56.203125 25.203125 \nL 14.890625 25.203125 \nQ 15.484375 15.921875 20.484375 11.0625 \nQ 25.484375 6.203125 34.421875 6.203125 \nQ 39.59375 6.203125 44.453125 7.46875 \nQ 49.3125 8.734375 54.109375 11.28125 \nL 54.109375 2.78125 \nQ 49.265625 0.734375 44.1875 -0.34375 \nQ 39.109375 -1.421875 33.890625 -1.421875 \nQ 20.796875 -1.421875 13.15625 6.1875 \nQ 5.515625 13.8125 5.515625 26.8125 \nQ 5.515625 40.234375 12.765625 48.109375 \nQ 20.015625 56 32.328125 56 \nQ 43.359375 56 49.78125 48.890625 \nQ 56.203125 41.796875 56.203125 29.59375 \nz\nM 47.21875 32.234375 \nQ 47.125 39.59375 43.09375 43.984375 \nQ 39.0625 48.390625 32.421875 48.390625 \nQ 24.90625 48.390625 20.390625 44.140625 \nQ 15.875 39.890625 15.1875 32.171875 \nz\n\" id=\"DejaVuSans-101\"/>\n      </defs>\n      <g transform=\"translate(373.019085 158.148551)scale(0.1 -0.1)\">\n       <use xlink:href=\"#DejaVuSans-68\"/>\n       <use x=\"77.001953\" xlink:href=\"#DejaVuSans-101\"/>\n       <use x=\"138.525391\" xlink:href=\"#DejaVuSans-99\"/>\n      </g>\n     </g>\n    </g>\n    <g id=\"xtick_4\">\n     <g id=\"line2d_4\">\n      <g>\n       <use style=\"stroke:#000000;stroke-width:0.8;\" x=\"393.323438\" xlink:href=\"#m8f1913f9e0\" y=\"121.154489\"/>\n      </g>\n     </g>\n    </g>\n    <g id=\"xtick_5\">\n     <g id=\"line2d_5\">\n      <defs>\n       <path d=\"M 0 0 \nL 0 2 \n\" id=\"ma245cb3a4c\" style=\"stroke:#000000;stroke-width:0.6;\"/>\n      </defs>\n      <g>\n       <use style=\"stroke:#000000;stroke-width:0.6;\" x=\"63.837723\" xlink:href=\"#ma245cb3a4c\" y=\"121.154489\"/>\n      </g>\n     </g>\n     <g id=\"text_4\">\n      <!-- 02 -->\n      <g transform=\"translate(57.475223 134.152926)scale(0.1 -0.1)\">\n       <use xlink:href=\"#DejaVuSans-48\"/>\n       <use x=\"63.623047\" xlink:href=\"#DejaVuSans-50\"/>\n      </g>\n     </g>\n    </g>\n    <g id=\"xtick_6\">\n     <g id=\"line2d_6\">\n      <g>\n       <use style=\"stroke:#000000;stroke-width:0.6;\" x=\"69.152009\" xlink:href=\"#ma245cb3a4c\" y=\"121.154489\"/>\n      </g>\n     </g>\n    </g>\n    <g id=\"xtick_7\">\n     <g id=\"line2d_7\">\n      <g>\n       <use style=\"stroke:#000000;stroke-width:0.6;\" x=\"74.466295\" xlink:href=\"#ma245cb3a4c\" y=\"121.154489\"/>\n      </g>\n     </g>\n    </g>\n    <g id=\"xtick_8\">\n     <g id=\"line2d_8\">\n      <g>\n       <use style=\"stroke:#000000;stroke-width:0.6;\" x=\"79.78058\" xlink:href=\"#ma245cb3a4c\" y=\"121.154489\"/>\n      </g>\n     </g>\n    </g>\n    <g id=\"xtick_9\">\n     <g id=\"line2d_9\">\n      <g>\n       <use style=\"stroke:#000000;stroke-width:0.6;\" x=\"85.094866\" xlink:href=\"#ma245cb3a4c\" y=\"121.154489\"/>\n      </g>\n     </g>\n    </g>\n    <g id=\"xtick_10\">\n     <g id=\"line2d_10\">\n      <g>\n       <use style=\"stroke:#000000;stroke-width:0.6;\" x=\"90.409152\" xlink:href=\"#ma245cb3a4c\" y=\"121.154489\"/>\n      </g>\n     </g>\n    </g>\n    <g id=\"xtick_11\">\n     <g id=\"line2d_11\">\n      <g>\n       <use style=\"stroke:#000000;stroke-width:0.6;\" x=\"95.723437\" xlink:href=\"#ma245cb3a4c\" y=\"121.154489\"/>\n      </g>\n     </g>\n    </g>\n    <g id=\"xtick_12\">\n     <g id=\"line2d_12\">\n      <g>\n       <use style=\"stroke:#000000;stroke-width:0.6;\" x=\"101.037723\" xlink:href=\"#ma245cb3a4c\" y=\"121.154489\"/>\n      </g>\n     </g>\n     <g id=\"text_5\">\n      <!-- 09 -->\n      <defs>\n       <path d=\"M 10.984375 1.515625 \nL 10.984375 10.5 \nQ 14.703125 8.734375 18.5 7.8125 \nQ 22.3125 6.890625 25.984375 6.890625 \nQ 35.75 6.890625 40.890625 13.453125 \nQ 46.046875 20.015625 46.78125 33.40625 \nQ 43.953125 29.203125 39.59375 26.953125 \nQ 35.25 24.703125 29.984375 24.703125 \nQ 19.046875 24.703125 12.671875 31.3125 \nQ 6.296875 37.9375 6.296875 49.421875 \nQ 6.296875 60.640625 12.9375 67.421875 \nQ 19.578125 74.21875 30.609375 74.21875 \nQ 43.265625 74.21875 49.921875 64.515625 \nQ 56.59375 54.828125 56.59375 36.375 \nQ 56.59375 19.140625 48.40625 8.859375 \nQ 40.234375 -1.421875 26.421875 -1.421875 \nQ 22.703125 -1.421875 18.890625 -0.6875 \nQ 15.09375 0.046875 10.984375 1.515625 \nz\nM 30.609375 32.421875 \nQ 37.25 32.421875 41.125 36.953125 \nQ 45.015625 41.5 45.015625 49.421875 \nQ 45.015625 57.28125 41.125 61.84375 \nQ 37.25 66.40625 30.609375 66.40625 \nQ 23.96875 66.40625 20.09375 61.84375 \nQ 16.21875 57.28125 16.21875 49.421875 \nQ 16.21875 41.5 20.09375 36.953125 \nQ 23.96875 32.421875 30.609375 32.421875 \nz\n\" id=\"DejaVuSans-57\"/>\n      </defs>\n      <g transform=\"translate(94.675223 134.152926)scale(0.1 -0.1)\">\n       <use xlink:href=\"#DejaVuSans-48\"/>\n       <use x=\"63.623047\" xlink:href=\"#DejaVuSans-57\"/>\n      </g>\n     </g>\n    </g>\n    <g id=\"xtick_13\">\n     <g id=\"line2d_13\">\n      <g>\n       <use style=\"stroke:#000000;stroke-width:0.6;\" x=\"106.352009\" xlink:href=\"#ma245cb3a4c\" y=\"121.154489\"/>\n      </g>\n     </g>\n    </g>\n    <g id=\"xtick_14\">\n     <g id=\"line2d_14\">\n      <g>\n       <use style=\"stroke:#000000;stroke-width:0.6;\" x=\"111.666295\" xlink:href=\"#ma245cb3a4c\" y=\"121.154489\"/>\n      </g>\n     </g>\n    </g>\n    <g id=\"xtick_15\">\n     <g id=\"line2d_15\">\n      <g>\n       <use style=\"stroke:#000000;stroke-width:0.6;\" x=\"116.98058\" xlink:href=\"#ma245cb3a4c\" y=\"121.154489\"/>\n      </g>\n     </g>\n    </g>\n    <g id=\"xtick_16\">\n     <g id=\"line2d_16\">\n      <g>\n       <use style=\"stroke:#000000;stroke-width:0.6;\" x=\"122.294866\" xlink:href=\"#ma245cb3a4c\" y=\"121.154489\"/>\n      </g>\n     </g>\n    </g>\n    <g id=\"xtick_17\">\n     <g id=\"line2d_17\">\n      <g>\n       <use style=\"stroke:#000000;stroke-width:0.6;\" x=\"127.609152\" xlink:href=\"#ma245cb3a4c\" y=\"121.154489\"/>\n      </g>\n     </g>\n    </g>\n    <g id=\"xtick_18\">\n     <g id=\"line2d_18\">\n      <g>\n       <use style=\"stroke:#000000;stroke-width:0.6;\" x=\"132.923437\" xlink:href=\"#ma245cb3a4c\" y=\"121.154489\"/>\n      </g>\n     </g>\n    </g>\n    <g id=\"xtick_19\">\n     <g id=\"line2d_19\">\n      <g>\n       <use style=\"stroke:#000000;stroke-width:0.6;\" x=\"138.237723\" xlink:href=\"#ma245cb3a4c\" y=\"121.154489\"/>\n      </g>\n     </g>\n     <g id=\"text_6\">\n      <!-- 16 -->\n      <defs>\n       <path d=\"M 33.015625 40.375 \nQ 26.375 40.375 22.484375 35.828125 \nQ 18.609375 31.296875 18.609375 23.390625 \nQ 18.609375 15.53125 22.484375 10.953125 \nQ 26.375 6.390625 33.015625 6.390625 \nQ 39.65625 6.390625 43.53125 10.953125 \nQ 47.40625 15.53125 47.40625 23.390625 \nQ 47.40625 31.296875 43.53125 35.828125 \nQ 39.65625 40.375 33.015625 40.375 \nz\nM 52.59375 71.296875 \nL 52.59375 62.3125 \nQ 48.875 64.0625 45.09375 64.984375 \nQ 41.3125 65.921875 37.59375 65.921875 \nQ 27.828125 65.921875 22.671875 59.328125 \nQ 17.53125 52.734375 16.796875 39.40625 \nQ 19.671875 43.65625 24.015625 45.921875 \nQ 28.375 48.1875 33.59375 48.1875 \nQ 44.578125 48.1875 50.953125 41.515625 \nQ 57.328125 34.859375 57.328125 23.390625 \nQ 57.328125 12.15625 50.6875 5.359375 \nQ 44.046875 -1.421875 33.015625 -1.421875 \nQ 20.359375 -1.421875 13.671875 8.265625 \nQ 6.984375 17.96875 6.984375 36.375 \nQ 6.984375 53.65625 15.1875 63.9375 \nQ 23.390625 74.21875 37.203125 74.21875 \nQ 40.921875 74.21875 44.703125 73.484375 \nQ 48.484375 72.75 52.59375 71.296875 \nz\n\" id=\"DejaVuSans-54\"/>\n      </defs>\n      <g transform=\"translate(131.875223 134.152926)scale(0.1 -0.1)\">\n       <use xlink:href=\"#DejaVuSans-49\"/>\n       <use x=\"63.623047\" xlink:href=\"#DejaVuSans-54\"/>\n      </g>\n     </g>\n    </g>\n    <g id=\"xtick_20\">\n     <g id=\"line2d_20\">\n      <g>\n       <use style=\"stroke:#000000;stroke-width:0.6;\" x=\"143.552009\" xlink:href=\"#ma245cb3a4c\" y=\"121.154489\"/>\n      </g>\n     </g>\n    </g>\n    <g id=\"xtick_21\">\n     <g id=\"line2d_21\">\n      <g>\n       <use style=\"stroke:#000000;stroke-width:0.6;\" x=\"148.866295\" xlink:href=\"#ma245cb3a4c\" y=\"121.154489\"/>\n      </g>\n     </g>\n    </g>\n    <g id=\"xtick_22\">\n     <g id=\"line2d_22\">\n      <g>\n       <use style=\"stroke:#000000;stroke-width:0.6;\" x=\"154.18058\" xlink:href=\"#ma245cb3a4c\" y=\"121.154489\"/>\n      </g>\n     </g>\n    </g>\n    <g id=\"xtick_23\">\n     <g id=\"line2d_23\">\n      <g>\n       <use style=\"stroke:#000000;stroke-width:0.6;\" x=\"159.494866\" xlink:href=\"#ma245cb3a4c\" y=\"121.154489\"/>\n      </g>\n     </g>\n    </g>\n    <g id=\"xtick_24\">\n     <g id=\"line2d_24\">\n      <g>\n       <use style=\"stroke:#000000;stroke-width:0.6;\" x=\"164.809152\" xlink:href=\"#ma245cb3a4c\" y=\"121.154489\"/>\n      </g>\n     </g>\n    </g>\n    <g id=\"xtick_25\">\n     <g id=\"line2d_25\">\n      <g>\n       <use style=\"stroke:#000000;stroke-width:0.6;\" x=\"170.123437\" xlink:href=\"#ma245cb3a4c\" y=\"121.154489\"/>\n      </g>\n     </g>\n    </g>\n    <g id=\"xtick_26\">\n     <g id=\"line2d_26\">\n      <g>\n       <use style=\"stroke:#000000;stroke-width:0.6;\" x=\"175.437723\" xlink:href=\"#ma245cb3a4c\" y=\"121.154489\"/>\n      </g>\n     </g>\n     <g id=\"text_7\">\n      <!-- 23 -->\n      <defs>\n       <path d=\"M 40.578125 39.3125 \nQ 47.65625 37.796875 51.625 33 \nQ 55.609375 28.21875 55.609375 21.1875 \nQ 55.609375 10.40625 48.1875 4.484375 \nQ 40.765625 -1.421875 27.09375 -1.421875 \nQ 22.515625 -1.421875 17.65625 -0.515625 \nQ 12.796875 0.390625 7.625 2.203125 \nL 7.625 11.71875 \nQ 11.71875 9.328125 16.59375 8.109375 \nQ 21.484375 6.890625 26.8125 6.890625 \nQ 36.078125 6.890625 40.9375 10.546875 \nQ 45.796875 14.203125 45.796875 21.1875 \nQ 45.796875 27.640625 41.28125 31.265625 \nQ 36.765625 34.90625 28.71875 34.90625 \nL 20.21875 34.90625 \nL 20.21875 43.015625 \nL 29.109375 43.015625 \nQ 36.375 43.015625 40.234375 45.921875 \nQ 44.09375 48.828125 44.09375 54.296875 \nQ 44.09375 59.90625 40.109375 62.90625 \nQ 36.140625 65.921875 28.71875 65.921875 \nQ 24.65625 65.921875 20.015625 65.03125 \nQ 15.375 64.15625 9.8125 62.3125 \nL 9.8125 71.09375 \nQ 15.4375 72.65625 20.34375 73.4375 \nQ 25.25 74.21875 29.59375 74.21875 \nQ 40.828125 74.21875 47.359375 69.109375 \nQ 53.90625 64.015625 53.90625 55.328125 \nQ 53.90625 49.265625 50.4375 45.09375 \nQ 46.96875 40.921875 40.578125 39.3125 \nz\n\" id=\"DejaVuSans-51\"/>\n      </defs>\n      <g transform=\"translate(169.075223 134.152926)scale(0.1 -0.1)\">\n       <use xlink:href=\"#DejaVuSans-50\"/>\n       <use x=\"63.623047\" xlink:href=\"#DejaVuSans-51\"/>\n      </g>\n     </g>\n    </g>\n    <g id=\"xtick_27\">\n     <g id=\"line2d_27\">\n      <g>\n       <use style=\"stroke:#000000;stroke-width:0.6;\" x=\"180.752009\" xlink:href=\"#ma245cb3a4c\" y=\"121.154489\"/>\n      </g>\n     </g>\n    </g>\n    <g id=\"xtick_28\">\n     <g id=\"line2d_28\">\n      <g>\n       <use style=\"stroke:#000000;stroke-width:0.6;\" x=\"186.066295\" xlink:href=\"#ma245cb3a4c\" y=\"121.154489\"/>\n      </g>\n     </g>\n    </g>\n    <g id=\"xtick_29\">\n     <g id=\"line2d_29\">\n      <g>\n       <use style=\"stroke:#000000;stroke-width:0.6;\" x=\"191.38058\" xlink:href=\"#ma245cb3a4c\" y=\"121.154489\"/>\n      </g>\n     </g>\n    </g>\n    <g id=\"xtick_30\">\n     <g id=\"line2d_30\">\n      <g>\n       <use style=\"stroke:#000000;stroke-width:0.6;\" x=\"196.694866\" xlink:href=\"#ma245cb3a4c\" y=\"121.154489\"/>\n      </g>\n     </g>\n    </g>\n    <g id=\"xtick_31\">\n     <g id=\"line2d_31\">\n      <g>\n       <use style=\"stroke:#000000;stroke-width:0.6;\" x=\"202.009152\" xlink:href=\"#ma245cb3a4c\" y=\"121.154489\"/>\n      </g>\n     </g>\n    </g>\n    <g id=\"xtick_32\">\n     <g id=\"line2d_32\">\n      <g>\n       <use style=\"stroke:#000000;stroke-width:0.6;\" x=\"207.323438\" xlink:href=\"#ma245cb3a4c\" y=\"121.154489\"/>\n      </g>\n     </g>\n    </g>\n    <g id=\"xtick_33\">\n     <g id=\"line2d_33\">\n      <g>\n       <use style=\"stroke:#000000;stroke-width:0.6;\" x=\"212.637723\" xlink:href=\"#ma245cb3a4c\" y=\"121.154489\"/>\n      </g>\n     </g>\n     <g id=\"text_8\">\n      <!-- 30 -->\n      <g transform=\"translate(206.275223 134.152926)scale(0.1 -0.1)\">\n       <use xlink:href=\"#DejaVuSans-51\"/>\n       <use x=\"63.623047\" xlink:href=\"#DejaVuSans-48\"/>\n      </g>\n     </g>\n    </g>\n    <g id=\"xtick_34\">\n     <g id=\"line2d_34\">\n      <g>\n       <use style=\"stroke:#000000;stroke-width:0.6;\" x=\"217.952009\" xlink:href=\"#ma245cb3a4c\" y=\"121.154489\"/>\n      </g>\n     </g>\n    </g>\n    <g id=\"xtick_35\">\n     <g id=\"line2d_35\">\n      <g>\n       <use style=\"stroke:#000000;stroke-width:0.6;\" x=\"228.58058\" xlink:href=\"#ma245cb3a4c\" y=\"121.154489\"/>\n      </g>\n     </g>\n    </g>\n    <g id=\"xtick_36\">\n     <g id=\"line2d_36\">\n      <g>\n       <use style=\"stroke:#000000;stroke-width:0.6;\" x=\"233.894866\" xlink:href=\"#ma245cb3a4c\" y=\"121.154489\"/>\n      </g>\n     </g>\n    </g>\n    <g id=\"xtick_37\">\n     <g id=\"line2d_37\">\n      <g>\n       <use style=\"stroke:#000000;stroke-width:0.6;\" x=\"239.209152\" xlink:href=\"#ma245cb3a4c\" y=\"121.154489\"/>\n      </g>\n     </g>\n    </g>\n    <g id=\"xtick_38\">\n     <g id=\"line2d_38\">\n      <g>\n       <use style=\"stroke:#000000;stroke-width:0.6;\" x=\"244.523438\" xlink:href=\"#ma245cb3a4c\" y=\"121.154489\"/>\n      </g>\n     </g>\n    </g>\n    <g id=\"xtick_39\">\n     <g id=\"line2d_39\">\n      <g>\n       <use style=\"stroke:#000000;stroke-width:0.6;\" x=\"249.837723\" xlink:href=\"#ma245cb3a4c\" y=\"121.154489\"/>\n      </g>\n     </g>\n     <g id=\"text_9\">\n      <!-- 06 -->\n      <g transform=\"translate(243.475223 134.152926)scale(0.1 -0.1)\">\n       <use xlink:href=\"#DejaVuSans-48\"/>\n       <use x=\"63.623047\" xlink:href=\"#DejaVuSans-54\"/>\n      </g>\n     </g>\n    </g>\n    <g id=\"xtick_40\">\n     <g id=\"line2d_40\">\n      <g>\n       <use style=\"stroke:#000000;stroke-width:0.6;\" x=\"255.152009\" xlink:href=\"#ma245cb3a4c\" y=\"121.154489\"/>\n      </g>\n     </g>\n    </g>\n    <g id=\"xtick_41\">\n     <g id=\"line2d_41\">\n      <g>\n       <use style=\"stroke:#000000;stroke-width:0.6;\" x=\"260.466295\" xlink:href=\"#ma245cb3a4c\" y=\"121.154489\"/>\n      </g>\n     </g>\n    </g>\n    <g id=\"xtick_42\">\n     <g id=\"line2d_42\">\n      <g>\n       <use style=\"stroke:#000000;stroke-width:0.6;\" x=\"265.78058\" xlink:href=\"#ma245cb3a4c\" y=\"121.154489\"/>\n      </g>\n     </g>\n    </g>\n    <g id=\"xtick_43\">\n     <g id=\"line2d_43\">\n      <g>\n       <use style=\"stroke:#000000;stroke-width:0.6;\" x=\"271.094866\" xlink:href=\"#ma245cb3a4c\" y=\"121.154489\"/>\n      </g>\n     </g>\n    </g>\n    <g id=\"xtick_44\">\n     <g id=\"line2d_44\">\n      <g>\n       <use style=\"stroke:#000000;stroke-width:0.6;\" x=\"276.409152\" xlink:href=\"#ma245cb3a4c\" y=\"121.154489\"/>\n      </g>\n     </g>\n    </g>\n    <g id=\"xtick_45\">\n     <g id=\"line2d_45\">\n      <g>\n       <use style=\"stroke:#000000;stroke-width:0.6;\" x=\"281.723437\" xlink:href=\"#ma245cb3a4c\" y=\"121.154489\"/>\n      </g>\n     </g>\n    </g>\n    <g id=\"xtick_46\">\n     <g id=\"line2d_46\">\n      <g>\n       <use style=\"stroke:#000000;stroke-width:0.6;\" x=\"287.037723\" xlink:href=\"#ma245cb3a4c\" y=\"121.154489\"/>\n      </g>\n     </g>\n     <g id=\"text_10\">\n      <!-- 13 -->\n      <g transform=\"translate(280.675223 134.152926)scale(0.1 -0.1)\">\n       <use xlink:href=\"#DejaVuSans-49\"/>\n       <use x=\"63.623047\" xlink:href=\"#DejaVuSans-51\"/>\n      </g>\n     </g>\n    </g>\n    <g id=\"xtick_47\">\n     <g id=\"line2d_47\">\n      <g>\n       <use style=\"stroke:#000000;stroke-width:0.6;\" x=\"292.352009\" xlink:href=\"#ma245cb3a4c\" y=\"121.154489\"/>\n      </g>\n     </g>\n    </g>\n    <g id=\"xtick_48\">\n     <g id=\"line2d_48\">\n      <g>\n       <use style=\"stroke:#000000;stroke-width:0.6;\" x=\"297.666295\" xlink:href=\"#ma245cb3a4c\" y=\"121.154489\"/>\n      </g>\n     </g>\n    </g>\n    <g id=\"xtick_49\">\n     <g id=\"line2d_49\">\n      <g>\n       <use style=\"stroke:#000000;stroke-width:0.6;\" x=\"302.98058\" xlink:href=\"#ma245cb3a4c\" y=\"121.154489\"/>\n      </g>\n     </g>\n    </g>\n    <g id=\"xtick_50\">\n     <g id=\"line2d_50\">\n      <g>\n       <use style=\"stroke:#000000;stroke-width:0.6;\" x=\"308.294866\" xlink:href=\"#ma245cb3a4c\" y=\"121.154489\"/>\n      </g>\n     </g>\n    </g>\n    <g id=\"xtick_51\">\n     <g id=\"line2d_51\">\n      <g>\n       <use style=\"stroke:#000000;stroke-width:0.6;\" x=\"313.609152\" xlink:href=\"#ma245cb3a4c\" y=\"121.154489\"/>\n      </g>\n     </g>\n    </g>\n    <g id=\"xtick_52\">\n     <g id=\"line2d_52\">\n      <g>\n       <use style=\"stroke:#000000;stroke-width:0.6;\" x=\"318.923437\" xlink:href=\"#ma245cb3a4c\" y=\"121.154489\"/>\n      </g>\n     </g>\n    </g>\n    <g id=\"xtick_53\">\n     <g id=\"line2d_53\">\n      <g>\n       <use style=\"stroke:#000000;stroke-width:0.6;\" x=\"324.237723\" xlink:href=\"#ma245cb3a4c\" y=\"121.154489\"/>\n      </g>\n     </g>\n     <g id=\"text_11\">\n      <!-- 20 -->\n      <g transform=\"translate(317.875223 134.152926)scale(0.1 -0.1)\">\n       <use xlink:href=\"#DejaVuSans-50\"/>\n       <use x=\"63.623047\" xlink:href=\"#DejaVuSans-48\"/>\n      </g>\n     </g>\n    </g>\n    <g id=\"xtick_54\">\n     <g id=\"line2d_54\">\n      <g>\n       <use style=\"stroke:#000000;stroke-width:0.6;\" x=\"329.552009\" xlink:href=\"#ma245cb3a4c\" y=\"121.154489\"/>\n      </g>\n     </g>\n    </g>\n    <g id=\"xtick_55\">\n     <g id=\"line2d_55\">\n      <g>\n       <use style=\"stroke:#000000;stroke-width:0.6;\" x=\"334.866295\" xlink:href=\"#ma245cb3a4c\" y=\"121.154489\"/>\n      </g>\n     </g>\n    </g>\n    <g id=\"xtick_56\">\n     <g id=\"line2d_56\">\n      <g>\n       <use style=\"stroke:#000000;stroke-width:0.6;\" x=\"340.18058\" xlink:href=\"#ma245cb3a4c\" y=\"121.154489\"/>\n      </g>\n     </g>\n    </g>\n    <g id=\"xtick_57\">\n     <g id=\"line2d_57\">\n      <g>\n       <use style=\"stroke:#000000;stroke-width:0.6;\" x=\"345.494866\" xlink:href=\"#ma245cb3a4c\" y=\"121.154489\"/>\n      </g>\n     </g>\n    </g>\n    <g id=\"xtick_58\">\n     <g id=\"line2d_58\">\n      <g>\n       <use style=\"stroke:#000000;stroke-width:0.6;\" x=\"350.809152\" xlink:href=\"#ma245cb3a4c\" y=\"121.154489\"/>\n      </g>\n     </g>\n    </g>\n    <g id=\"xtick_59\">\n     <g id=\"line2d_59\">\n      <g>\n       <use style=\"stroke:#000000;stroke-width:0.6;\" x=\"356.123437\" xlink:href=\"#ma245cb3a4c\" y=\"121.154489\"/>\n      </g>\n     </g>\n    </g>\n    <g id=\"xtick_60\">\n     <g id=\"line2d_60\">\n      <g>\n       <use style=\"stroke:#000000;stroke-width:0.6;\" x=\"361.437723\" xlink:href=\"#ma245cb3a4c\" y=\"121.154489\"/>\n      </g>\n     </g>\n     <g id=\"text_12\">\n      <!-- 27 -->\n      <g transform=\"translate(355.075223 134.152926)scale(0.1 -0.1)\">\n       <use xlink:href=\"#DejaVuSans-50\"/>\n       <use x=\"63.623047\" xlink:href=\"#DejaVuSans-55\"/>\n      </g>\n     </g>\n    </g>\n    <g id=\"xtick_61\">\n     <g id=\"line2d_61\">\n      <g>\n       <use style=\"stroke:#000000;stroke-width:0.6;\" x=\"366.752009\" xlink:href=\"#ma245cb3a4c\" y=\"121.154489\"/>\n      </g>\n     </g>\n    </g>\n    <g id=\"xtick_62\">\n     <g id=\"line2d_62\">\n      <g>\n       <use style=\"stroke:#000000;stroke-width:0.6;\" x=\"372.066295\" xlink:href=\"#ma245cb3a4c\" y=\"121.154489\"/>\n      </g>\n     </g>\n    </g>\n    <g id=\"xtick_63\">\n     <g id=\"line2d_63\">\n      <g>\n       <use style=\"stroke:#000000;stroke-width:0.6;\" x=\"377.38058\" xlink:href=\"#ma245cb3a4c\" y=\"121.154489\"/>\n      </g>\n     </g>\n    </g>\n    <g id=\"xtick_64\">\n     <g id=\"line2d_64\">\n      <g>\n       <use style=\"stroke:#000000;stroke-width:0.6;\" x=\"388.009152\" xlink:href=\"#ma245cb3a4c\" y=\"121.154489\"/>\n      </g>\n     </g>\n    </g>\n    <g id=\"text_13\">\n     <!-- created_at_x -->\n     <defs>\n      <path d=\"M 41.109375 46.296875 \nQ 39.59375 47.171875 37.8125 47.578125 \nQ 36.03125 48 33.890625 48 \nQ 26.265625 48 22.1875 43.046875 \nQ 18.109375 38.09375 18.109375 28.8125 \nL 18.109375 0 \nL 9.078125 0 \nL 9.078125 54.6875 \nL 18.109375 54.6875 \nL 18.109375 46.1875 \nQ 20.953125 51.171875 25.484375 53.578125 \nQ 30.03125 56 36.53125 56 \nQ 37.453125 56 38.578125 55.875 \nQ 39.703125 55.765625 41.0625 55.515625 \nz\n\" id=\"DejaVuSans-114\"/>\n      <path d=\"M 34.28125 27.484375 \nQ 23.390625 27.484375 19.1875 25 \nQ 14.984375 22.515625 14.984375 16.5 \nQ 14.984375 11.71875 18.140625 8.90625 \nQ 21.296875 6.109375 26.703125 6.109375 \nQ 34.1875 6.109375 38.703125 11.40625 \nQ 43.21875 16.703125 43.21875 25.484375 \nL 43.21875 27.484375 \nz\nM 52.203125 31.203125 \nL 52.203125 0 \nL 43.21875 0 \nL 43.21875 8.296875 \nQ 40.140625 3.328125 35.546875 0.953125 \nQ 30.953125 -1.421875 24.3125 -1.421875 \nQ 15.921875 -1.421875 10.953125 3.296875 \nQ 6 8.015625 6 15.921875 \nQ 6 25.140625 12.171875 29.828125 \nQ 18.359375 34.515625 30.609375 34.515625 \nL 43.21875 34.515625 \nL 43.21875 35.40625 \nQ 43.21875 41.609375 39.140625 45 \nQ 35.0625 48.390625 27.6875 48.390625 \nQ 23 48.390625 18.546875 47.265625 \nQ 14.109375 46.140625 10.015625 43.890625 \nL 10.015625 52.203125 \nQ 14.9375 54.109375 19.578125 55.046875 \nQ 24.21875 56 28.609375 56 \nQ 40.484375 56 46.34375 49.84375 \nQ 52.203125 43.703125 52.203125 31.203125 \nz\n\" id=\"DejaVuSans-97\"/>\n      <path d=\"M 45.40625 46.390625 \nL 45.40625 75.984375 \nL 54.390625 75.984375 \nL 54.390625 0 \nL 45.40625 0 \nL 45.40625 8.203125 \nQ 42.578125 3.328125 38.25 0.953125 \nQ 33.9375 -1.421875 27.875 -1.421875 \nQ 17.96875 -1.421875 11.734375 6.484375 \nQ 5.515625 14.40625 5.515625 27.296875 \nQ 5.515625 40.1875 11.734375 48.09375 \nQ 17.96875 56 27.875 56 \nQ 33.9375 56 38.25 53.625 \nQ 42.578125 51.265625 45.40625 46.390625 \nz\nM 14.796875 27.296875 \nQ 14.796875 17.390625 18.875 11.75 \nQ 22.953125 6.109375 30.078125 6.109375 \nQ 37.203125 6.109375 41.296875 11.75 \nQ 45.40625 17.390625 45.40625 27.296875 \nQ 45.40625 37.203125 41.296875 42.84375 \nQ 37.203125 48.484375 30.078125 48.484375 \nQ 22.953125 48.484375 18.875 42.84375 \nQ 14.796875 37.203125 14.796875 27.296875 \nz\n\" id=\"DejaVuSans-100\"/>\n      <path d=\"M 50.984375 -16.609375 \nL 50.984375 -23.578125 \nL -0.984375 -23.578125 \nL -0.984375 -16.609375 \nz\n\" id=\"DejaVuSans-95\"/>\n      <path d=\"M 54.890625 54.6875 \nL 35.109375 28.078125 \nL 55.90625 0 \nL 45.3125 0 \nL 29.390625 21.484375 \nL 13.484375 0 \nL 2.875 0 \nL 24.125 28.609375 \nL 4.6875 54.6875 \nL 15.28125 54.6875 \nL 29.78125 35.203125 \nL 44.28125 54.6875 \nz\n\" id=\"DejaVuSans-120\"/>\n     </defs>\n     <g transform=\"translate(193.896094 183.024489)scale(0.1 -0.1)\">\n      <use xlink:href=\"#DejaVuSans-99\"/>\n      <use x=\"54.980469\" xlink:href=\"#DejaVuSans-114\"/>\n      <use x=\"93.84375\" xlink:href=\"#DejaVuSans-101\"/>\n      <use x=\"155.367188\" xlink:href=\"#DejaVuSans-97\"/>\n      <use x=\"216.646484\" xlink:href=\"#DejaVuSans-116\"/>\n      <use x=\"255.855469\" xlink:href=\"#DejaVuSans-101\"/>\n      <use x=\"317.378906\" xlink:href=\"#DejaVuSans-100\"/>\n      <use x=\"380.855469\" xlink:href=\"#DejaVuSans-95\"/>\n      <use x=\"430.855469\" xlink:href=\"#DejaVuSans-97\"/>\n      <use x=\"492.134766\" xlink:href=\"#DejaVuSans-116\"/>\n      <use x=\"531.34375\" xlink:href=\"#DejaVuSans-95\"/>\n      <use x=\"581.34375\" xlink:href=\"#DejaVuSans-120\"/>\n     </g>\n    </g>\n   </g>\n   <g id=\"matplotlib.axis_2\">\n    <g id=\"ytick_1\">\n     <g id=\"line2d_65\">\n      <defs>\n       <path d=\"M 0 0 \nL -3.5 0 \n\" id=\"mc883dad81e\" style=\"stroke:#000000;stroke-width:0.8;\"/>\n      </defs>\n      <g>\n       <use style=\"stroke:#000000;stroke-width:0.8;\" x=\"58.523438\" xlink:href=\"#mc883dad81e\" y=\"121.154489\"/>\n      </g>\n     </g>\n     <g id=\"text_14\">\n      <!-- 0 -->\n      <g transform=\"translate(45.160938 124.953707)scale(0.1 -0.1)\">\n       <use xlink:href=\"#DejaVuSans-48\"/>\n      </g>\n     </g>\n    </g>\n    <g id=\"ytick_2\">\n     <g id=\"line2d_66\">\n      <g>\n       <use style=\"stroke:#000000;stroke-width:0.8;\" x=\"58.523438\" xlink:href=\"#mc883dad81e\" y=\"83.89009\"/>\n      </g>\n     </g>\n     <g id=\"text_15\">\n      <!-- 500 -->\n      <defs>\n       <path d=\"M 10.796875 72.90625 \nL 49.515625 72.90625 \nL 49.515625 64.59375 \nL 19.828125 64.59375 \nL 19.828125 46.734375 \nQ 21.96875 47.46875 24.109375 47.828125 \nQ 26.265625 48.1875 28.421875 48.1875 \nQ 40.625 48.1875 47.75 41.5 \nQ 54.890625 34.8125 54.890625 23.390625 \nQ 54.890625 11.625 47.5625 5.09375 \nQ 40.234375 -1.421875 26.90625 -1.421875 \nQ 22.3125 -1.421875 17.546875 -0.640625 \nQ 12.796875 0.140625 7.71875 1.703125 \nL 7.71875 11.625 \nQ 12.109375 9.234375 16.796875 8.0625 \nQ 21.484375 6.890625 26.703125 6.890625 \nQ 35.15625 6.890625 40.078125 11.328125 \nQ 45.015625 15.765625 45.015625 23.390625 \nQ 45.015625 31 40.078125 35.4375 \nQ 35.15625 39.890625 26.703125 39.890625 \nQ 22.75 39.890625 18.8125 39.015625 \nQ 14.890625 38.140625 10.796875 36.28125 \nz\n\" id=\"DejaVuSans-53\"/>\n      </defs>\n      <g transform=\"translate(32.435938 87.689309)scale(0.1 -0.1)\">\n       <use xlink:href=\"#DejaVuSans-53\"/>\n       <use x=\"63.623047\" xlink:href=\"#DejaVuSans-48\"/>\n       <use x=\"127.246094\" xlink:href=\"#DejaVuSans-48\"/>\n      </g>\n     </g>\n    </g>\n    <g id=\"ytick_3\">\n     <g id=\"line2d_67\">\n      <g>\n       <use style=\"stroke:#000000;stroke-width:0.8;\" x=\"58.523438\" xlink:href=\"#mc883dad81e\" y=\"46.625692\"/>\n      </g>\n     </g>\n     <g id=\"text_16\">\n      <!-- 1000 -->\n      <g transform=\"translate(26.073438 50.424911)scale(0.1 -0.1)\">\n       <use xlink:href=\"#DejaVuSans-49\"/>\n       <use x=\"63.623047\" xlink:href=\"#DejaVuSans-48\"/>\n       <use x=\"127.246094\" xlink:href=\"#DejaVuSans-48\"/>\n       <use x=\"190.869141\" xlink:href=\"#DejaVuSans-48\"/>\n      </g>\n     </g>\n    </g>\n    <g id=\"text_17\">\n     <!-- Inbound Tweets -->\n     <defs>\n      <path d=\"M 9.8125 72.90625 \nL 19.671875 72.90625 \nL 19.671875 0 \nL 9.8125 0 \nz\n\" id=\"DejaVuSans-73\"/>\n      <path d=\"M 54.890625 33.015625 \nL 54.890625 0 \nL 45.90625 0 \nL 45.90625 32.71875 \nQ 45.90625 40.484375 42.875 44.328125 \nQ 39.84375 48.1875 33.796875 48.1875 \nQ 26.515625 48.1875 22.3125 43.546875 \nQ 18.109375 38.921875 18.109375 30.90625 \nL 18.109375 0 \nL 9.078125 0 \nL 9.078125 54.6875 \nL 18.109375 54.6875 \nL 18.109375 46.1875 \nQ 21.34375 51.125 25.703125 53.5625 \nQ 30.078125 56 35.796875 56 \nQ 45.21875 56 50.046875 50.171875 \nQ 54.890625 44.34375 54.890625 33.015625 \nz\n\" id=\"DejaVuSans-110\"/>\n      <path d=\"M 48.6875 27.296875 \nQ 48.6875 37.203125 44.609375 42.84375 \nQ 40.53125 48.484375 33.40625 48.484375 \nQ 26.265625 48.484375 22.1875 42.84375 \nQ 18.109375 37.203125 18.109375 27.296875 \nQ 18.109375 17.390625 22.1875 11.75 \nQ 26.265625 6.109375 33.40625 6.109375 \nQ 40.53125 6.109375 44.609375 11.75 \nQ 48.6875 17.390625 48.6875 27.296875 \nz\nM 18.109375 46.390625 \nQ 20.953125 51.265625 25.265625 53.625 \nQ 29.59375 56 35.59375 56 \nQ 45.5625 56 51.78125 48.09375 \nQ 58.015625 40.1875 58.015625 27.296875 \nQ 58.015625 14.40625 51.78125 6.484375 \nQ 45.5625 -1.421875 35.59375 -1.421875 \nQ 29.59375 -1.421875 25.265625 0.953125 \nQ 20.953125 3.328125 18.109375 8.203125 \nL 18.109375 0 \nL 9.078125 0 \nL 9.078125 75.984375 \nL 18.109375 75.984375 \nz\n\" id=\"DejaVuSans-98\"/>\n      <path d=\"M 8.5 21.578125 \nL 8.5 54.6875 \nL 17.484375 54.6875 \nL 17.484375 21.921875 \nQ 17.484375 14.15625 20.5 10.265625 \nQ 23.53125 6.390625 29.59375 6.390625 \nQ 36.859375 6.390625 41.078125 11.03125 \nQ 45.3125 15.671875 45.3125 23.6875 \nL 45.3125 54.6875 \nL 54.296875 54.6875 \nL 54.296875 0 \nL 45.3125 0 \nL 45.3125 8.40625 \nQ 42.046875 3.421875 37.71875 1 \nQ 33.40625 -1.421875 27.6875 -1.421875 \nQ 18.265625 -1.421875 13.375 4.4375 \nQ 8.5 10.296875 8.5 21.578125 \nz\nM 31.109375 56 \nz\n\" id=\"DejaVuSans-117\"/>\n      <path id=\"DejaVuSans-32\"/>\n      <path d=\"M -0.296875 72.90625 \nL 61.375 72.90625 \nL 61.375 64.59375 \nL 35.5 64.59375 \nL 35.5 0 \nL 25.59375 0 \nL 25.59375 64.59375 \nL -0.296875 64.59375 \nz\n\" id=\"DejaVuSans-84\"/>\n      <path d=\"M 4.203125 54.6875 \nL 13.1875 54.6875 \nL 24.421875 12.015625 \nL 35.59375 54.6875 \nL 46.1875 54.6875 \nL 57.421875 12.015625 \nL 68.609375 54.6875 \nL 77.59375 54.6875 \nL 63.28125 0 \nL 52.6875 0 \nL 40.921875 44.828125 \nL 29.109375 0 \nL 18.5 0 \nz\n\" id=\"DejaVuSans-119\"/>\n      <path d=\"M 44.28125 53.078125 \nL 44.28125 44.578125 \nQ 40.484375 46.53125 36.375 47.5 \nQ 32.28125 48.484375 27.875 48.484375 \nQ 21.1875 48.484375 17.84375 46.4375 \nQ 14.5 44.390625 14.5 40.28125 \nQ 14.5 37.15625 16.890625 35.375 \nQ 19.28125 33.59375 26.515625 31.984375 \nL 29.59375 31.296875 \nQ 39.15625 29.25 43.1875 25.515625 \nQ 47.21875 21.78125 47.21875 15.09375 \nQ 47.21875 7.46875 41.1875 3.015625 \nQ 35.15625 -1.421875 24.609375 -1.421875 \nQ 20.21875 -1.421875 15.453125 -0.5625 \nQ 10.6875 0.296875 5.421875 2 \nL 5.421875 11.28125 \nQ 10.40625 8.6875 15.234375 7.390625 \nQ 20.0625 6.109375 24.8125 6.109375 \nQ 31.15625 6.109375 34.5625 8.28125 \nQ 37.984375 10.453125 37.984375 14.40625 \nQ 37.984375 18.0625 35.515625 20.015625 \nQ 33.0625 21.96875 24.703125 23.78125 \nL 21.578125 24.515625 \nQ 13.234375 26.265625 9.515625 29.90625 \nQ 5.8125 33.546875 5.8125 39.890625 \nQ 5.8125 47.609375 11.28125 51.796875 \nQ 16.75 56 26.8125 56 \nQ 31.78125 56 36.171875 55.265625 \nQ 40.578125 54.546875 44.28125 53.078125 \nz\n\" id=\"DejaVuSans-115\"/>\n     </defs>\n     <g transform=\"translate(19.99375 110.750369)rotate(-90)scale(0.1 -0.1)\">\n      <use xlink:href=\"#DejaVuSans-73\"/>\n      <use x=\"29.492188\" xlink:href=\"#DejaVuSans-110\"/>\n      <use x=\"92.871094\" xlink:href=\"#DejaVuSans-98\"/>\n      <use x=\"156.347656\" xlink:href=\"#DejaVuSans-111\"/>\n      <use x=\"217.529297\" xlink:href=\"#DejaVuSans-117\"/>\n      <use x=\"280.908203\" xlink:href=\"#DejaVuSans-110\"/>\n      <use x=\"344.287109\" xlink:href=\"#DejaVuSans-100\"/>\n      <use x=\"407.763672\" xlink:href=\"#DejaVuSans-32\"/>\n      <use x=\"439.550781\" xlink:href=\"#DejaVuSans-84\"/>\n      <use x=\"484.134766\" xlink:href=\"#DejaVuSans-119\"/>\n      <use x=\"565.921875\" xlink:href=\"#DejaVuSans-101\"/>\n      <use x=\"627.445312\" xlink:href=\"#DejaVuSans-101\"/>\n      <use x=\"688.96875\" xlink:href=\"#DejaVuSans-116\"/>\n      <use x=\"728.177734\" xlink:href=\"#DejaVuSans-115\"/>\n     </g>\n    </g>\n   </g>\n   <g id=\"line2d_68\">\n    <path clip-path=\"url(#pc3919d76e9)\" d=\"M 58.523438 120.781845 \nL 63.837723 120.036557 \nL 69.152009 119.887499 \nL 74.466295 116.831818 \nL 79.78058 67.046582 \nL 85.094866 67.344697 \nL 90.409152 71.890954 \nL 95.723437 72.7853 \nL 101.037723 77.778729 \nL 106.352009 77.406085 \nL 111.666295 71.816425 \nL 116.98058 70.102263 \nL 122.294866 71.294724 \nL 127.609152 74.872106 \nL 132.923437 73.232472 \nL 138.237723 74.350404 \nL 143.552009 77.406085 \nL 148.866295 76.958912 \nL 154.18058 74.946635 \nL 159.494866 70.400378 \nL 164.809152 71.592839 \nL 170.123437 75.095692 \nL 175.437723 75.617394 \nL 180.752009 75.691923 \nL 186.066295 67.866399 \nL 191.38058 69.133389 \nL 196.694866 70.176792 \nL 202.009152 64.810718 \nL 207.323438 58.401242 \nL 212.637723 70.251321 \nL 217.952009 77.927787 \nL 223.266295 69.207917 \nL 228.58058 76.735326 \nL 233.894866 74.723048 \nL 239.209152 71.816425 \nL 244.523438 68.835273 \nL 249.837723 72.710771 \nL 255.152009 75.468336 \nL 260.466295 71.369252 \nL 265.78058 75.691923 \nL 271.094866 73.456059 \nL 276.409152 93.280719 \nL 281.723437 120.111085 \nL 287.037723 87.989174 \nL 292.352009 27.024619 \nL 297.666295 70.698493 \nL 302.98058 66.524881 \nL 308.294866 69.65509 \nL 313.609152 118.769567 \nL 318.923437 78.151373 \nL 324.237723 65.854122 \nL 329.552009 66.897525 \nL 334.866295 63.618258 \nL 340.18058 67.344697 \nL 345.494866 70.027734 \nL 350.809152 68.686216 \nL 356.123437 64.438074 \nL 361.437723 59.668231 \nL 366.752009 70.176792 \nL 372.066295 63.394671 \nL 377.38058 55.718205 \nL 382.694866 51.171949 \nL 388.009152 58.773886 \nL 393.323438 65.779593 \n\" style=\"fill:none;stroke:#1f77b4;stroke-linecap:square;stroke-width:1.5;\"/>\n   </g>\n   <g id=\"patch_3\">\n    <path d=\"M 58.523438 121.154489 \nL 58.523438 22.318125 \n\" style=\"fill:none;stroke:#000000;stroke-linecap:square;stroke-linejoin:miter;stroke-width:0.8;\"/>\n   </g>\n   <g id=\"patch_4\">\n    <path d=\"M 393.323438 121.154489 \nL 393.323438 22.318125 \n\" style=\"fill:none;stroke:#000000;stroke-linecap:square;stroke-linejoin:miter;stroke-width:0.8;\"/>\n   </g>\n   <g id=\"patch_5\">\n    <path d=\"M 58.523438 121.154489 \nL 393.323438 121.154489 \n\" style=\"fill:none;stroke:#000000;stroke-linecap:square;stroke-linejoin:miter;stroke-width:0.8;\"/>\n   </g>\n   <g id=\"patch_6\">\n    <path d=\"M 58.523438 22.318125 \nL 393.323438 22.318125 \n\" style=\"fill:none;stroke:#000000;stroke-linecap:square;stroke-linejoin:miter;stroke-width:0.8;\"/>\n   </g>\n   <g id=\"text_18\">\n    <!-- @UberSupport Volume &amp; Sentiment - Hack Exposed -->\n    <defs>\n     <path d=\"M 37.203125 26.21875 \nQ 37.203125 19.234375 40.671875 15.25 \nQ 44.140625 11.28125 50.203125 11.28125 \nQ 56.203125 11.28125 59.640625 15.28125 \nQ 63.09375 19.28125 63.09375 26.21875 \nQ 63.09375 33.0625 59.578125 37.078125 \nQ 56.0625 41.109375 50.09375 41.109375 \nQ 44.1875 41.109375 40.6875 37.109375 \nQ 37.203125 33.109375 37.203125 26.21875 \nz\nM 63.8125 11.625 \nQ 60.890625 7.859375 57.109375 6.078125 \nQ 53.328125 4.296875 48.296875 4.296875 \nQ 39.890625 4.296875 34.640625 10.375 \nQ 29.390625 16.453125 29.390625 26.21875 \nQ 29.390625 35.984375 34.65625 42.078125 \nQ 39.9375 48.1875 48.296875 48.1875 \nQ 53.328125 48.1875 57.125 46.359375 \nQ 60.9375 44.53125 63.8125 40.828125 \nL 63.8125 47.21875 \nL 70.796875 47.21875 \nL 70.796875 11.28125 \nQ 77.9375 12.359375 81.953125 17.796875 \nQ 85.984375 23.25 85.984375 31.890625 \nQ 85.984375 37.109375 84.4375 41.703125 \nQ 82.90625 46.296875 79.78125 50.203125 \nQ 74.703125 56.59375 67.40625 59.984375 \nQ 60.109375 63.375 51.515625 63.375 \nQ 45.515625 63.375 39.984375 61.78125 \nQ 34.46875 60.203125 29.78125 57.078125 \nQ 22.125 52.09375 17.796875 44.015625 \nQ 13.484375 35.9375 13.484375 26.515625 \nQ 13.484375 18.75 16.28125 11.953125 \nQ 19.09375 5.171875 24.421875 0 \nQ 29.546875 -5.078125 36.28125 -7.734375 \nQ 43.015625 -10.40625 50.6875 -10.40625 \nQ 56.984375 -10.40625 63.0625 -8.28125 \nQ 69.140625 -6.15625 74.21875 -2.203125 \nL 78.609375 -7.625 \nQ 72.515625 -12.359375 65.3125 -14.875 \nQ 58.109375 -17.390625 50.6875 -17.390625 \nQ 41.65625 -17.390625 33.640625 -14.1875 \nQ 25.640625 -10.984375 19.390625 -4.890625 \nQ 13.140625 1.21875 9.859375 9.25 \nQ 6.59375 17.28125 6.59375 26.515625 \nQ 6.59375 35.40625 9.90625 43.453125 \nQ 13.234375 51.515625 19.390625 57.625 \nQ 25.6875 63.8125 33.9375 67.109375 \nQ 42.1875 70.40625 51.421875 70.40625 \nQ 61.765625 70.40625 70.625 66.15625 \nQ 79.5 61.921875 85.5 54.109375 \nQ 89.15625 49.3125 91.078125 43.703125 \nQ 93.015625 38.09375 93.015625 32.078125 \nQ 93.015625 19.234375 85.25 11.8125 \nQ 77.484375 4.390625 63.8125 4.109375 \nz\n\" id=\"DejaVuSans-64\"/>\n     <path d=\"M 8.6875 72.90625 \nL 18.609375 72.90625 \nL 18.609375 28.609375 \nQ 18.609375 16.890625 22.84375 11.734375 \nQ 27.09375 6.59375 36.625 6.59375 \nQ 46.09375 6.59375 50.34375 11.734375 \nQ 54.59375 16.890625 54.59375 28.609375 \nL 54.59375 72.90625 \nL 64.5 72.90625 \nL 64.5 27.390625 \nQ 64.5 13.140625 57.4375 5.859375 \nQ 50.390625 -1.421875 36.625 -1.421875 \nQ 22.796875 -1.421875 15.734375 5.859375 \nQ 8.6875 13.140625 8.6875 27.390625 \nz\n\" id=\"DejaVuSans-85\"/>\n     <path d=\"M 53.515625 70.515625 \nL 53.515625 60.890625 \nQ 47.90625 63.578125 42.921875 64.890625 \nQ 37.9375 66.21875 33.296875 66.21875 \nQ 25.25 66.21875 20.875 63.09375 \nQ 16.5 59.96875 16.5 54.203125 \nQ 16.5 49.359375 19.40625 46.890625 \nQ 22.3125 44.4375 30.421875 42.921875 \nL 36.375 41.703125 \nQ 47.40625 39.59375 52.65625 34.296875 \nQ 57.90625 29 57.90625 20.125 \nQ 57.90625 9.515625 50.796875 4.046875 \nQ 43.703125 -1.421875 29.984375 -1.421875 \nQ 24.8125 -1.421875 18.96875 -0.25 \nQ 13.140625 0.921875 6.890625 3.21875 \nL 6.890625 13.375 \nQ 12.890625 10.015625 18.65625 8.296875 \nQ 24.421875 6.59375 29.984375 6.59375 \nQ 38.421875 6.59375 43.015625 9.90625 \nQ 47.609375 13.234375 47.609375 19.390625 \nQ 47.609375 24.75 44.3125 27.78125 \nQ 41.015625 30.8125 33.5 32.328125 \nL 27.484375 33.5 \nQ 16.453125 35.6875 11.515625 40.375 \nQ 6.59375 45.0625 6.59375 53.421875 \nQ 6.59375 63.09375 13.40625 68.65625 \nQ 20.21875 74.21875 32.171875 74.21875 \nQ 37.3125 74.21875 42.625 73.28125 \nQ 47.953125 72.359375 53.515625 70.515625 \nz\n\" id=\"DejaVuSans-83\"/>\n     <path d=\"M 18.109375 8.203125 \nL 18.109375 -20.796875 \nL 9.078125 -20.796875 \nL 9.078125 54.6875 \nL 18.109375 54.6875 \nL 18.109375 46.390625 \nQ 20.953125 51.265625 25.265625 53.625 \nQ 29.59375 56 35.59375 56 \nQ 45.5625 56 51.78125 48.09375 \nQ 58.015625 40.1875 58.015625 27.296875 \nQ 58.015625 14.40625 51.78125 6.484375 \nQ 45.5625 -1.421875 35.59375 -1.421875 \nQ 29.59375 -1.421875 25.265625 0.953125 \nQ 20.953125 3.328125 18.109375 8.203125 \nz\nM 48.6875 27.296875 \nQ 48.6875 37.203125 44.609375 42.84375 \nQ 40.53125 48.484375 33.40625 48.484375 \nQ 26.265625 48.484375 22.1875 42.84375 \nQ 18.109375 37.203125 18.109375 27.296875 \nQ 18.109375 17.390625 22.1875 11.75 \nQ 26.265625 6.109375 33.40625 6.109375 \nQ 40.53125 6.109375 44.609375 11.75 \nQ 48.6875 17.390625 48.6875 27.296875 \nz\n\" id=\"DejaVuSans-112\"/>\n     <path d=\"M 28.609375 0 \nL 0.78125 72.90625 \nL 11.078125 72.90625 \nL 34.1875 11.53125 \nL 57.328125 72.90625 \nL 67.578125 72.90625 \nL 39.796875 0 \nz\n\" id=\"DejaVuSans-86\"/>\n     <path d=\"M 9.421875 75.984375 \nL 18.40625 75.984375 \nL 18.40625 0 \nL 9.421875 0 \nz\n\" id=\"DejaVuSans-108\"/>\n     <path d=\"M 52 44.1875 \nQ 55.375 50.25 60.0625 53.125 \nQ 64.75 56 71.09375 56 \nQ 79.640625 56 84.28125 50.015625 \nQ 88.921875 44.046875 88.921875 33.015625 \nL 88.921875 0 \nL 79.890625 0 \nL 79.890625 32.71875 \nQ 79.890625 40.578125 77.09375 44.375 \nQ 74.3125 48.1875 68.609375 48.1875 \nQ 61.625 48.1875 57.5625 43.546875 \nQ 53.515625 38.921875 53.515625 30.90625 \nL 53.515625 0 \nL 44.484375 0 \nL 44.484375 32.71875 \nQ 44.484375 40.625 41.703125 44.40625 \nQ 38.921875 48.1875 33.109375 48.1875 \nQ 26.21875 48.1875 22.15625 43.53125 \nQ 18.109375 38.875 18.109375 30.90625 \nL 18.109375 0 \nL 9.078125 0 \nL 9.078125 54.6875 \nL 18.109375 54.6875 \nL 18.109375 46.1875 \nQ 21.1875 51.21875 25.484375 53.609375 \nQ 29.78125 56 35.6875 56 \nQ 41.65625 56 45.828125 52.96875 \nQ 50 49.953125 52 44.1875 \nz\n\" id=\"DejaVuSans-109\"/>\n     <path d=\"M 24.3125 39.203125 \nQ 19.875 35.25 17.796875 31.3125 \nQ 15.71875 27.390625 15.71875 23.09375 \nQ 15.71875 15.96875 20.890625 11.234375 \nQ 26.078125 6.5 33.890625 6.5 \nQ 38.53125 6.5 42.578125 8.03125 \nQ 46.625 9.578125 50.203125 12.703125 \nz\nM 31.203125 44.671875 \nL 56 19.28125 \nQ 58.890625 23.640625 60.5 28.59375 \nQ 62.109375 33.546875 62.40625 39.109375 \nL 71.484375 39.109375 \nQ 70.90625 32.671875 68.359375 26.359375 \nQ 65.828125 20.0625 61.28125 13.921875 \nL 74.90625 0 \nL 62.59375 0 \nL 55.609375 7.171875 \nQ 50.53125 2.828125 44.96875 0.703125 \nQ 39.40625 -1.421875 33.015625 -1.421875 \nQ 21.234375 -1.421875 13.765625 5.296875 \nQ 6.296875 12.015625 6.296875 22.515625 \nQ 6.296875 28.765625 9.5625 34.25 \nQ 12.84375 39.75 19.390625 44.578125 \nQ 17.046875 47.65625 15.8125 50.703125 \nQ 14.59375 53.765625 14.59375 56.6875 \nQ 14.59375 64.59375 20.015625 69.40625 \nQ 25.4375 74.21875 34.421875 74.21875 \nQ 38.484375 74.21875 42.5 73.34375 \nQ 46.53125 72.46875 50.6875 70.703125 \nL 50.6875 61.8125 \nQ 46.4375 64.109375 42.578125 65.296875 \nQ 38.71875 66.5 35.40625 66.5 \nQ 30.28125 66.5 27.078125 63.78125 \nQ 23.875 61.078125 23.875 56.78125 \nQ 23.875 54.296875 25.3125 51.78125 \nQ 26.765625 49.265625 31.203125 44.671875 \nz\n\" id=\"DejaVuSans-38\"/>\n     <path d=\"M 9.421875 54.6875 \nL 18.40625 54.6875 \nL 18.40625 0 \nL 9.421875 0 \nz\nM 9.421875 75.984375 \nL 18.40625 75.984375 \nL 18.40625 64.59375 \nL 9.421875 64.59375 \nz\n\" id=\"DejaVuSans-105\"/>\n     <path d=\"M 4.890625 31.390625 \nL 31.203125 31.390625 \nL 31.203125 23.390625 \nL 4.890625 23.390625 \nz\n\" id=\"DejaVuSans-45\"/>\n     <path d=\"M 9.8125 72.90625 \nL 19.671875 72.90625 \nL 19.671875 43.015625 \nL 55.515625 43.015625 \nL 55.515625 72.90625 \nL 65.375 72.90625 \nL 65.375 0 \nL 55.515625 0 \nL 55.515625 34.71875 \nL 19.671875 34.71875 \nL 19.671875 0 \nL 9.8125 0 \nz\n\" id=\"DejaVuSans-72\"/>\n     <path d=\"M 9.078125 75.984375 \nL 18.109375 75.984375 \nL 18.109375 31.109375 \nL 44.921875 54.6875 \nL 56.390625 54.6875 \nL 27.390625 29.109375 \nL 57.625 0 \nL 45.90625 0 \nL 18.109375 26.703125 \nL 18.109375 0 \nL 9.078125 0 \nz\n\" id=\"DejaVuSans-107\"/>\n     <path d=\"M 9.8125 72.90625 \nL 55.90625 72.90625 \nL 55.90625 64.59375 \nL 19.671875 64.59375 \nL 19.671875 43.015625 \nL 54.390625 43.015625 \nL 54.390625 34.71875 \nL 19.671875 34.71875 \nL 19.671875 8.296875 \nL 56.78125 8.296875 \nL 56.78125 0 \nL 9.8125 0 \nz\n\" id=\"DejaVuSans-69\"/>\n    </defs>\n    <g transform=\"translate(69.818438 16.318125)scale(0.12 -0.12)\">\n     <use xlink:href=\"#DejaVuSans-64\"/>\n     <use x=\"100\" xlink:href=\"#DejaVuSans-85\"/>\n     <use x=\"173.193359\" xlink:href=\"#DejaVuSans-98\"/>\n     <use x=\"236.669922\" xlink:href=\"#DejaVuSans-101\"/>\n     <use x=\"298.193359\" xlink:href=\"#DejaVuSans-114\"/>\n     <use x=\"339.306641\" xlink:href=\"#DejaVuSans-83\"/>\n     <use x=\"402.783203\" xlink:href=\"#DejaVuSans-117\"/>\n     <use x=\"466.162109\" xlink:href=\"#DejaVuSans-112\"/>\n     <use x=\"529.638672\" xlink:href=\"#DejaVuSans-112\"/>\n     <use x=\"593.115234\" xlink:href=\"#DejaVuSans-111\"/>\n     <use x=\"654.296875\" xlink:href=\"#DejaVuSans-114\"/>\n     <use x=\"695.410156\" xlink:href=\"#DejaVuSans-116\"/>\n     <use x=\"734.619141\" xlink:href=\"#DejaVuSans-32\"/>\n     <use x=\"766.40625\" xlink:href=\"#DejaVuSans-86\"/>\n     <use x=\"827.064453\" xlink:href=\"#DejaVuSans-111\"/>\n     <use x=\"888.246094\" xlink:href=\"#DejaVuSans-108\"/>\n     <use x=\"916.029297\" xlink:href=\"#DejaVuSans-117\"/>\n     <use x=\"979.408203\" xlink:href=\"#DejaVuSans-109\"/>\n     <use x=\"1076.820312\" xlink:href=\"#DejaVuSans-101\"/>\n     <use x=\"1138.34375\" xlink:href=\"#DejaVuSans-32\"/>\n     <use x=\"1170.130859\" xlink:href=\"#DejaVuSans-38\"/>\n     <use x=\"1248.109375\" xlink:href=\"#DejaVuSans-32\"/>\n     <use x=\"1279.896484\" xlink:href=\"#DejaVuSans-83\"/>\n     <use x=\"1343.373047\" xlink:href=\"#DejaVuSans-101\"/>\n     <use x=\"1404.896484\" xlink:href=\"#DejaVuSans-110\"/>\n     <use x=\"1468.275391\" xlink:href=\"#DejaVuSans-116\"/>\n     <use x=\"1507.484375\" xlink:href=\"#DejaVuSans-105\"/>\n     <use x=\"1535.267578\" xlink:href=\"#DejaVuSans-109\"/>\n     <use x=\"1632.679688\" xlink:href=\"#DejaVuSans-101\"/>\n     <use x=\"1694.203125\" xlink:href=\"#DejaVuSans-110\"/>\n     <use x=\"1757.582031\" xlink:href=\"#DejaVuSans-116\"/>\n     <use x=\"1796.791016\" xlink:href=\"#DejaVuSans-32\"/>\n     <use x=\"1828.578125\" xlink:href=\"#DejaVuSans-45\"/>\n     <use x=\"1864.662109\" xlink:href=\"#DejaVuSans-32\"/>\n     <use x=\"1896.449219\" xlink:href=\"#DejaVuSans-72\"/>\n     <use x=\"1971.644531\" xlink:href=\"#DejaVuSans-97\"/>\n     <use x=\"2032.923828\" xlink:href=\"#DejaVuSans-99\"/>\n     <use x=\"2087.904297\" xlink:href=\"#DejaVuSans-107\"/>\n     <use x=\"2145.814453\" xlink:href=\"#DejaVuSans-32\"/>\n     <use x=\"2177.601562\" xlink:href=\"#DejaVuSans-69\"/>\n     <use x=\"2240.785156\" xlink:href=\"#DejaVuSans-120\"/>\n     <use x=\"2299.964844\" xlink:href=\"#DejaVuSans-112\"/>\n     <use x=\"2363.441406\" xlink:href=\"#DejaVuSans-111\"/>\n     <use x=\"2424.623047\" xlink:href=\"#DejaVuSans-115\"/>\n     <use x=\"2476.722656\" xlink:href=\"#DejaVuSans-101\"/>\n     <use x=\"2538.246094\" xlink:href=\"#DejaVuSans-100\"/>\n    </g>\n   </g>\n  </g>\n  <g id=\"axes_2\">\n   <g id=\"patch_7\">\n    <path d=\"M 58.523438 239.758125 \nL 393.323438 239.758125 \nL 393.323438 140.921761 \nL 58.523438 140.921761 \nz\n\" style=\"fill:#ffffff;\"/>\n   </g>\n   <g id=\"matplotlib.axis_3\">\n    <g id=\"xtick_65\">\n     <g id=\"line2d_69\">\n      <g>\n       <use style=\"stroke:#000000;stroke-width:0.8;\" x=\"58.523438\" xlink:href=\"#m8f1913f9e0\" y=\"239.758125\"/>\n      </g>\n     </g>\n     <g id=\"text_19\">\n      <!--  -->\n      <g transform=\"translate(58.523438 254.356563)scale(0.1 -0.1)\"/>\n      <!--  -->\n      <g transform=\"translate(58.523438 265.554375)scale(0.1 -0.1)\"/>\n      <!-- Oct -->\n      <g transform=\"translate(49.878125 276.752188)scale(0.1 -0.1)\">\n       <use xlink:href=\"#DejaVuSans-79\"/>\n       <use x=\"78.710938\" xlink:href=\"#DejaVuSans-99\"/>\n       <use x=\"133.691406\" xlink:href=\"#DejaVuSans-116\"/>\n      </g>\n      <!-- 2017 -->\n      <g transform=\"translate(45.798437 287.95)scale(0.1 -0.1)\">\n       <use xlink:href=\"#DejaVuSans-50\"/>\n       <use x=\"63.623047\" xlink:href=\"#DejaVuSans-48\"/>\n       <use x=\"127.246094\" xlink:href=\"#DejaVuSans-49\"/>\n       <use x=\"190.869141\" xlink:href=\"#DejaVuSans-55\"/>\n      </g>\n     </g>\n    </g>\n    <g id=\"xtick_66\">\n     <g id=\"line2d_70\">\n      <g>\n       <use style=\"stroke:#000000;stroke-width:0.8;\" x=\"223.266295\" xlink:href=\"#m8f1913f9e0\" y=\"239.758125\"/>\n      </g>\n     </g>\n     <g id=\"text_20\">\n      <!--  -->\n      <g transform=\"translate(223.266295 254.356563)scale(0.1 -0.1)\"/>\n      <!--  -->\n      <g transform=\"translate(223.266295 265.554375)scale(0.1 -0.1)\"/>\n      <!-- Nov -->\n      <g transform=\"translate(213.50692 276.752188)scale(0.1 -0.1)\">\n       <use xlink:href=\"#DejaVuSans-78\"/>\n       <use x=\"74.804688\" xlink:href=\"#DejaVuSans-111\"/>\n       <use x=\"135.986328\" xlink:href=\"#DejaVuSans-118\"/>\n      </g>\n     </g>\n    </g>\n    <g id=\"xtick_67\">\n     <g id=\"line2d_71\">\n      <g>\n       <use style=\"stroke:#000000;stroke-width:0.8;\" x=\"382.694866\" xlink:href=\"#m8f1913f9e0\" y=\"239.758125\"/>\n      </g>\n     </g>\n     <g id=\"text_21\">\n      <!--  -->\n      <g transform=\"translate(382.694866 254.356563)scale(0.1 -0.1)\"/>\n      <!--  -->\n      <g transform=\"translate(382.694866 265.554375)scale(0.1 -0.1)\"/>\n      <!-- Dec -->\n      <g transform=\"translate(373.019085 276.752188)scale(0.1 -0.1)\">\n       <use xlink:href=\"#DejaVuSans-68\"/>\n       <use x=\"77.001953\" xlink:href=\"#DejaVuSans-101\"/>\n       <use x=\"138.525391\" xlink:href=\"#DejaVuSans-99\"/>\n      </g>\n     </g>\n    </g>\n    <g id=\"xtick_68\">\n     <g id=\"line2d_72\">\n      <g>\n       <use style=\"stroke:#000000;stroke-width:0.8;\" x=\"393.323438\" xlink:href=\"#m8f1913f9e0\" y=\"239.758125\"/>\n      </g>\n     </g>\n    </g>\n    <g id=\"xtick_69\">\n     <g id=\"line2d_73\">\n      <g>\n       <use style=\"stroke:#000000;stroke-width:0.6;\" x=\"63.837723\" xlink:href=\"#ma245cb3a4c\" y=\"239.758125\"/>\n      </g>\n     </g>\n     <g id=\"text_22\">\n      <!-- 02 -->\n      <g transform=\"translate(57.475223 252.756563)scale(0.1 -0.1)\">\n       <use xlink:href=\"#DejaVuSans-48\"/>\n       <use x=\"63.623047\" xlink:href=\"#DejaVuSans-50\"/>\n      </g>\n     </g>\n    </g>\n    <g id=\"xtick_70\">\n     <g id=\"line2d_74\">\n      <g>\n       <use style=\"stroke:#000000;stroke-width:0.6;\" x=\"69.152009\" xlink:href=\"#ma245cb3a4c\" y=\"239.758125\"/>\n      </g>\n     </g>\n    </g>\n    <g id=\"xtick_71\">\n     <g id=\"line2d_75\">\n      <g>\n       <use style=\"stroke:#000000;stroke-width:0.6;\" x=\"74.466295\" xlink:href=\"#ma245cb3a4c\" y=\"239.758125\"/>\n      </g>\n     </g>\n    </g>\n    <g id=\"xtick_72\">\n     <g id=\"line2d_76\">\n      <g>\n       <use style=\"stroke:#000000;stroke-width:0.6;\" x=\"79.78058\" xlink:href=\"#ma245cb3a4c\" y=\"239.758125\"/>\n      </g>\n     </g>\n    </g>\n    <g id=\"xtick_73\">\n     <g id=\"line2d_77\">\n      <g>\n       <use style=\"stroke:#000000;stroke-width:0.6;\" x=\"85.094866\" xlink:href=\"#ma245cb3a4c\" y=\"239.758125\"/>\n      </g>\n     </g>\n    </g>\n    <g id=\"xtick_74\">\n     <g id=\"line2d_78\">\n      <g>\n       <use style=\"stroke:#000000;stroke-width:0.6;\" x=\"90.409152\" xlink:href=\"#ma245cb3a4c\" y=\"239.758125\"/>\n      </g>\n     </g>\n    </g>\n    <g id=\"xtick_75\">\n     <g id=\"line2d_79\">\n      <g>\n       <use style=\"stroke:#000000;stroke-width:0.6;\" x=\"95.723437\" xlink:href=\"#ma245cb3a4c\" y=\"239.758125\"/>\n      </g>\n     </g>\n    </g>\n    <g id=\"xtick_76\">\n     <g id=\"line2d_80\">\n      <g>\n       <use style=\"stroke:#000000;stroke-width:0.6;\" x=\"101.037723\" xlink:href=\"#ma245cb3a4c\" y=\"239.758125\"/>\n      </g>\n     </g>\n     <g id=\"text_23\">\n      <!-- 09 -->\n      <g transform=\"translate(94.675223 252.756563)scale(0.1 -0.1)\">\n       <use xlink:href=\"#DejaVuSans-48\"/>\n       <use x=\"63.623047\" xlink:href=\"#DejaVuSans-57\"/>\n      </g>\n     </g>\n    </g>\n    <g id=\"xtick_77\">\n     <g id=\"line2d_81\">\n      <g>\n       <use style=\"stroke:#000000;stroke-width:0.6;\" x=\"106.352009\" xlink:href=\"#ma245cb3a4c\" y=\"239.758125\"/>\n      </g>\n     </g>\n    </g>\n    <g id=\"xtick_78\">\n     <g id=\"line2d_82\">\n      <g>\n       <use style=\"stroke:#000000;stroke-width:0.6;\" x=\"111.666295\" xlink:href=\"#ma245cb3a4c\" y=\"239.758125\"/>\n      </g>\n     </g>\n    </g>\n    <g id=\"xtick_79\">\n     <g id=\"line2d_83\">\n      <g>\n       <use style=\"stroke:#000000;stroke-width:0.6;\" x=\"116.98058\" xlink:href=\"#ma245cb3a4c\" y=\"239.758125\"/>\n      </g>\n     </g>\n    </g>\n    <g id=\"xtick_80\">\n     <g id=\"line2d_84\">\n      <g>\n       <use style=\"stroke:#000000;stroke-width:0.6;\" x=\"122.294866\" xlink:href=\"#ma245cb3a4c\" y=\"239.758125\"/>\n      </g>\n     </g>\n    </g>\n    <g id=\"xtick_81\">\n     <g id=\"line2d_85\">\n      <g>\n       <use style=\"stroke:#000000;stroke-width:0.6;\" x=\"127.609152\" xlink:href=\"#ma245cb3a4c\" y=\"239.758125\"/>\n      </g>\n     </g>\n    </g>\n    <g id=\"xtick_82\">\n     <g id=\"line2d_86\">\n      <g>\n       <use style=\"stroke:#000000;stroke-width:0.6;\" x=\"132.923437\" xlink:href=\"#ma245cb3a4c\" y=\"239.758125\"/>\n      </g>\n     </g>\n    </g>\n    <g id=\"xtick_83\">\n     <g id=\"line2d_87\">\n      <g>\n       <use style=\"stroke:#000000;stroke-width:0.6;\" x=\"138.237723\" xlink:href=\"#ma245cb3a4c\" y=\"239.758125\"/>\n      </g>\n     </g>\n     <g id=\"text_24\">\n      <!-- 16 -->\n      <g transform=\"translate(131.875223 252.756563)scale(0.1 -0.1)\">\n       <use xlink:href=\"#DejaVuSans-49\"/>\n       <use x=\"63.623047\" xlink:href=\"#DejaVuSans-54\"/>\n      </g>\n     </g>\n    </g>\n    <g id=\"xtick_84\">\n     <g id=\"line2d_88\">\n      <g>\n       <use style=\"stroke:#000000;stroke-width:0.6;\" x=\"143.552009\" xlink:href=\"#ma245cb3a4c\" y=\"239.758125\"/>\n      </g>\n     </g>\n    </g>\n    <g id=\"xtick_85\">\n     <g id=\"line2d_89\">\n      <g>\n       <use style=\"stroke:#000000;stroke-width:0.6;\" x=\"148.866295\" xlink:href=\"#ma245cb3a4c\" y=\"239.758125\"/>\n      </g>\n     </g>\n    </g>\n    <g id=\"xtick_86\">\n     <g id=\"line2d_90\">\n      <g>\n       <use style=\"stroke:#000000;stroke-width:0.6;\" x=\"154.18058\" xlink:href=\"#ma245cb3a4c\" y=\"239.758125\"/>\n      </g>\n     </g>\n    </g>\n    <g id=\"xtick_87\">\n     <g id=\"line2d_91\">\n      <g>\n       <use style=\"stroke:#000000;stroke-width:0.6;\" x=\"159.494866\" xlink:href=\"#ma245cb3a4c\" y=\"239.758125\"/>\n      </g>\n     </g>\n    </g>\n    <g id=\"xtick_88\">\n     <g id=\"line2d_92\">\n      <g>\n       <use style=\"stroke:#000000;stroke-width:0.6;\" x=\"164.809152\" xlink:href=\"#ma245cb3a4c\" y=\"239.758125\"/>\n      </g>\n     </g>\n    </g>\n    <g id=\"xtick_89\">\n     <g id=\"line2d_93\">\n      <g>\n       <use style=\"stroke:#000000;stroke-width:0.6;\" x=\"170.123437\" xlink:href=\"#ma245cb3a4c\" y=\"239.758125\"/>\n      </g>\n     </g>\n    </g>\n    <g id=\"xtick_90\">\n     <g id=\"line2d_94\">\n      <g>\n       <use style=\"stroke:#000000;stroke-width:0.6;\" x=\"175.437723\" xlink:href=\"#ma245cb3a4c\" y=\"239.758125\"/>\n      </g>\n     </g>\n     <g id=\"text_25\">\n      <!-- 23 -->\n      <g transform=\"translate(169.075223 252.756563)scale(0.1 -0.1)\">\n       <use xlink:href=\"#DejaVuSans-50\"/>\n       <use x=\"63.623047\" xlink:href=\"#DejaVuSans-51\"/>\n      </g>\n     </g>\n    </g>\n    <g id=\"xtick_91\">\n     <g id=\"line2d_95\">\n      <g>\n       <use style=\"stroke:#000000;stroke-width:0.6;\" x=\"180.752009\" xlink:href=\"#ma245cb3a4c\" y=\"239.758125\"/>\n      </g>\n     </g>\n    </g>\n    <g id=\"xtick_92\">\n     <g id=\"line2d_96\">\n      <g>\n       <use style=\"stroke:#000000;stroke-width:0.6;\" x=\"186.066295\" xlink:href=\"#ma245cb3a4c\" y=\"239.758125\"/>\n      </g>\n     </g>\n    </g>\n    <g id=\"xtick_93\">\n     <g id=\"line2d_97\">\n      <g>\n       <use style=\"stroke:#000000;stroke-width:0.6;\" x=\"191.38058\" xlink:href=\"#ma245cb3a4c\" y=\"239.758125\"/>\n      </g>\n     </g>\n    </g>\n    <g id=\"xtick_94\">\n     <g id=\"line2d_98\">\n      <g>\n       <use style=\"stroke:#000000;stroke-width:0.6;\" x=\"196.694866\" xlink:href=\"#ma245cb3a4c\" y=\"239.758125\"/>\n      </g>\n     </g>\n    </g>\n    <g id=\"xtick_95\">\n     <g id=\"line2d_99\">\n      <g>\n       <use style=\"stroke:#000000;stroke-width:0.6;\" x=\"202.009152\" xlink:href=\"#ma245cb3a4c\" y=\"239.758125\"/>\n      </g>\n     </g>\n    </g>\n    <g id=\"xtick_96\">\n     <g id=\"line2d_100\">\n      <g>\n       <use style=\"stroke:#000000;stroke-width:0.6;\" x=\"207.323438\" xlink:href=\"#ma245cb3a4c\" y=\"239.758125\"/>\n      </g>\n     </g>\n    </g>\n    <g id=\"xtick_97\">\n     <g id=\"line2d_101\">\n      <g>\n       <use style=\"stroke:#000000;stroke-width:0.6;\" x=\"212.637723\" xlink:href=\"#ma245cb3a4c\" y=\"239.758125\"/>\n      </g>\n     </g>\n     <g id=\"text_26\">\n      <!-- 30 -->\n      <g transform=\"translate(206.275223 252.756563)scale(0.1 -0.1)\">\n       <use xlink:href=\"#DejaVuSans-51\"/>\n       <use x=\"63.623047\" xlink:href=\"#DejaVuSans-48\"/>\n      </g>\n     </g>\n    </g>\n    <g id=\"xtick_98\">\n     <g id=\"line2d_102\">\n      <g>\n       <use style=\"stroke:#000000;stroke-width:0.6;\" x=\"217.952009\" xlink:href=\"#ma245cb3a4c\" y=\"239.758125\"/>\n      </g>\n     </g>\n    </g>\n    <g id=\"xtick_99\">\n     <g id=\"line2d_103\">\n      <g>\n       <use style=\"stroke:#000000;stroke-width:0.6;\" x=\"228.58058\" xlink:href=\"#ma245cb3a4c\" y=\"239.758125\"/>\n      </g>\n     </g>\n    </g>\n    <g id=\"xtick_100\">\n     <g id=\"line2d_104\">\n      <g>\n       <use style=\"stroke:#000000;stroke-width:0.6;\" x=\"233.894866\" xlink:href=\"#ma245cb3a4c\" y=\"239.758125\"/>\n      </g>\n     </g>\n    </g>\n    <g id=\"xtick_101\">\n     <g id=\"line2d_105\">\n      <g>\n       <use style=\"stroke:#000000;stroke-width:0.6;\" x=\"239.209152\" xlink:href=\"#ma245cb3a4c\" y=\"239.758125\"/>\n      </g>\n     </g>\n    </g>\n    <g id=\"xtick_102\">\n     <g id=\"line2d_106\">\n      <g>\n       <use style=\"stroke:#000000;stroke-width:0.6;\" x=\"244.523438\" xlink:href=\"#ma245cb3a4c\" y=\"239.758125\"/>\n      </g>\n     </g>\n    </g>\n    <g id=\"xtick_103\">\n     <g id=\"line2d_107\">\n      <g>\n       <use style=\"stroke:#000000;stroke-width:0.6;\" x=\"249.837723\" xlink:href=\"#ma245cb3a4c\" y=\"239.758125\"/>\n      </g>\n     </g>\n     <g id=\"text_27\">\n      <!-- 06 -->\n      <g transform=\"translate(243.475223 252.756563)scale(0.1 -0.1)\">\n       <use xlink:href=\"#DejaVuSans-48\"/>\n       <use x=\"63.623047\" xlink:href=\"#DejaVuSans-54\"/>\n      </g>\n     </g>\n    </g>\n    <g id=\"xtick_104\">\n     <g id=\"line2d_108\">\n      <g>\n       <use style=\"stroke:#000000;stroke-width:0.6;\" x=\"255.152009\" xlink:href=\"#ma245cb3a4c\" y=\"239.758125\"/>\n      </g>\n     </g>\n    </g>\n    <g id=\"xtick_105\">\n     <g id=\"line2d_109\">\n      <g>\n       <use style=\"stroke:#000000;stroke-width:0.6;\" x=\"260.466295\" xlink:href=\"#ma245cb3a4c\" y=\"239.758125\"/>\n      </g>\n     </g>\n    </g>\n    <g id=\"xtick_106\">\n     <g id=\"line2d_110\">\n      <g>\n       <use style=\"stroke:#000000;stroke-width:0.6;\" x=\"265.78058\" xlink:href=\"#ma245cb3a4c\" y=\"239.758125\"/>\n      </g>\n     </g>\n    </g>\n    <g id=\"xtick_107\">\n     <g id=\"line2d_111\">\n      <g>\n       <use style=\"stroke:#000000;stroke-width:0.6;\" x=\"271.094866\" xlink:href=\"#ma245cb3a4c\" y=\"239.758125\"/>\n      </g>\n     </g>\n    </g>\n    <g id=\"xtick_108\">\n     <g id=\"line2d_112\">\n      <g>\n       <use style=\"stroke:#000000;stroke-width:0.6;\" x=\"276.409152\" xlink:href=\"#ma245cb3a4c\" y=\"239.758125\"/>\n      </g>\n     </g>\n    </g>\n    <g id=\"xtick_109\">\n     <g id=\"line2d_113\">\n      <g>\n       <use style=\"stroke:#000000;stroke-width:0.6;\" x=\"281.723437\" xlink:href=\"#ma245cb3a4c\" y=\"239.758125\"/>\n      </g>\n     </g>\n    </g>\n    <g id=\"xtick_110\">\n     <g id=\"line2d_114\">\n      <g>\n       <use style=\"stroke:#000000;stroke-width:0.6;\" x=\"287.037723\" xlink:href=\"#ma245cb3a4c\" y=\"239.758125\"/>\n      </g>\n     </g>\n     <g id=\"text_28\">\n      <!-- 13 -->\n      <g transform=\"translate(280.675223 252.756563)scale(0.1 -0.1)\">\n       <use xlink:href=\"#DejaVuSans-49\"/>\n       <use x=\"63.623047\" xlink:href=\"#DejaVuSans-51\"/>\n      </g>\n     </g>\n    </g>\n    <g id=\"xtick_111\">\n     <g id=\"line2d_115\">\n      <g>\n       <use style=\"stroke:#000000;stroke-width:0.6;\" x=\"292.352009\" xlink:href=\"#ma245cb3a4c\" y=\"239.758125\"/>\n      </g>\n     </g>\n    </g>\n    <g id=\"xtick_112\">\n     <g id=\"line2d_116\">\n      <g>\n       <use style=\"stroke:#000000;stroke-width:0.6;\" x=\"297.666295\" xlink:href=\"#ma245cb3a4c\" y=\"239.758125\"/>\n      </g>\n     </g>\n    </g>\n    <g id=\"xtick_113\">\n     <g id=\"line2d_117\">\n      <g>\n       <use style=\"stroke:#000000;stroke-width:0.6;\" x=\"302.98058\" xlink:href=\"#ma245cb3a4c\" y=\"239.758125\"/>\n      </g>\n     </g>\n    </g>\n    <g id=\"xtick_114\">\n     <g id=\"line2d_118\">\n      <g>\n       <use style=\"stroke:#000000;stroke-width:0.6;\" x=\"308.294866\" xlink:href=\"#ma245cb3a4c\" y=\"239.758125\"/>\n      </g>\n     </g>\n    </g>\n    <g id=\"xtick_115\">\n     <g id=\"line2d_119\">\n      <g>\n       <use style=\"stroke:#000000;stroke-width:0.6;\" x=\"313.609152\" xlink:href=\"#ma245cb3a4c\" y=\"239.758125\"/>\n      </g>\n     </g>\n    </g>\n    <g id=\"xtick_116\">\n     <g id=\"line2d_120\">\n      <g>\n       <use style=\"stroke:#000000;stroke-width:0.6;\" x=\"318.923437\" xlink:href=\"#ma245cb3a4c\" y=\"239.758125\"/>\n      </g>\n     </g>\n    </g>\n    <g id=\"xtick_117\">\n     <g id=\"line2d_121\">\n      <g>\n       <use style=\"stroke:#000000;stroke-width:0.6;\" x=\"324.237723\" xlink:href=\"#ma245cb3a4c\" y=\"239.758125\"/>\n      </g>\n     </g>\n     <g id=\"text_29\">\n      <!-- 20 -->\n      <g transform=\"translate(317.875223 252.756563)scale(0.1 -0.1)\">\n       <use xlink:href=\"#DejaVuSans-50\"/>\n       <use x=\"63.623047\" xlink:href=\"#DejaVuSans-48\"/>\n      </g>\n     </g>\n    </g>\n    <g id=\"xtick_118\">\n     <g id=\"line2d_122\">\n      <g>\n       <use style=\"stroke:#000000;stroke-width:0.6;\" x=\"329.552009\" xlink:href=\"#ma245cb3a4c\" y=\"239.758125\"/>\n      </g>\n     </g>\n    </g>\n    <g id=\"xtick_119\">\n     <g id=\"line2d_123\">\n      <g>\n       <use style=\"stroke:#000000;stroke-width:0.6;\" x=\"334.866295\" xlink:href=\"#ma245cb3a4c\" y=\"239.758125\"/>\n      </g>\n     </g>\n    </g>\n    <g id=\"xtick_120\">\n     <g id=\"line2d_124\">\n      <g>\n       <use style=\"stroke:#000000;stroke-width:0.6;\" x=\"340.18058\" xlink:href=\"#ma245cb3a4c\" y=\"239.758125\"/>\n      </g>\n     </g>\n    </g>\n    <g id=\"xtick_121\">\n     <g id=\"line2d_125\">\n      <g>\n       <use style=\"stroke:#000000;stroke-width:0.6;\" x=\"345.494866\" xlink:href=\"#ma245cb3a4c\" y=\"239.758125\"/>\n      </g>\n     </g>\n    </g>\n    <g id=\"xtick_122\">\n     <g id=\"line2d_126\">\n      <g>\n       <use style=\"stroke:#000000;stroke-width:0.6;\" x=\"350.809152\" xlink:href=\"#ma245cb3a4c\" y=\"239.758125\"/>\n      </g>\n     </g>\n    </g>\n    <g id=\"xtick_123\">\n     <g id=\"line2d_127\">\n      <g>\n       <use style=\"stroke:#000000;stroke-width:0.6;\" x=\"356.123437\" xlink:href=\"#ma245cb3a4c\" y=\"239.758125\"/>\n      </g>\n     </g>\n    </g>\n    <g id=\"xtick_124\">\n     <g id=\"line2d_128\">\n      <g>\n       <use style=\"stroke:#000000;stroke-width:0.6;\" x=\"361.437723\" xlink:href=\"#ma245cb3a4c\" y=\"239.758125\"/>\n      </g>\n     </g>\n     <g id=\"text_30\">\n      <!-- 27 -->\n      <g transform=\"translate(355.075223 252.756563)scale(0.1 -0.1)\">\n       <use xlink:href=\"#DejaVuSans-50\"/>\n       <use x=\"63.623047\" xlink:href=\"#DejaVuSans-55\"/>\n      </g>\n     </g>\n    </g>\n    <g id=\"xtick_125\">\n     <g id=\"line2d_129\">\n      <g>\n       <use style=\"stroke:#000000;stroke-width:0.6;\" x=\"366.752009\" xlink:href=\"#ma245cb3a4c\" y=\"239.758125\"/>\n      </g>\n     </g>\n    </g>\n    <g id=\"xtick_126\">\n     <g id=\"line2d_130\">\n      <g>\n       <use style=\"stroke:#000000;stroke-width:0.6;\" x=\"372.066295\" xlink:href=\"#ma245cb3a4c\" y=\"239.758125\"/>\n      </g>\n     </g>\n    </g>\n    <g id=\"xtick_127\">\n     <g id=\"line2d_131\">\n      <g>\n       <use style=\"stroke:#000000;stroke-width:0.6;\" x=\"377.38058\" xlink:href=\"#ma245cb3a4c\" y=\"239.758125\"/>\n      </g>\n     </g>\n    </g>\n    <g id=\"xtick_128\">\n     <g id=\"line2d_132\">\n      <g>\n       <use style=\"stroke:#000000;stroke-width:0.6;\" x=\"388.009152\" xlink:href=\"#ma245cb3a4c\" y=\"239.758125\"/>\n      </g>\n     </g>\n    </g>\n    <g id=\"text_31\">\n     <!-- created_at_x -->\n     <g transform=\"translate(193.896094 301.628125)scale(0.1 -0.1)\">\n      <use xlink:href=\"#DejaVuSans-99\"/>\n      <use x=\"54.980469\" xlink:href=\"#DejaVuSans-114\"/>\n      <use x=\"93.84375\" xlink:href=\"#DejaVuSans-101\"/>\n      <use x=\"155.367188\" xlink:href=\"#DejaVuSans-97\"/>\n      <use x=\"216.646484\" xlink:href=\"#DejaVuSans-116\"/>\n      <use x=\"255.855469\" xlink:href=\"#DejaVuSans-101\"/>\n      <use x=\"317.378906\" xlink:href=\"#DejaVuSans-100\"/>\n      <use x=\"380.855469\" xlink:href=\"#DejaVuSans-95\"/>\n      <use x=\"430.855469\" xlink:href=\"#DejaVuSans-97\"/>\n      <use x=\"492.134766\" xlink:href=\"#DejaVuSans-116\"/>\n      <use x=\"531.34375\" xlink:href=\"#DejaVuSans-95\"/>\n      <use x=\"581.34375\" xlink:href=\"#DejaVuSans-120\"/>\n     </g>\n    </g>\n   </g>\n   <g id=\"matplotlib.axis_4\">\n    <g id=\"ytick_4\">\n     <g id=\"line2d_133\">\n      <g>\n       <use style=\"stroke:#000000;stroke-width:0.8;\" x=\"58.523438\" xlink:href=\"#mc883dad81e\" y=\"237.251393\"/>\n      </g>\n     </g>\n     <g id=\"text_32\">\n      <!-- −0.15 -->\n      <defs>\n       <path d=\"M 10.59375 35.5 \nL 73.1875 35.5 \nL 73.1875 27.203125 \nL 10.59375 27.203125 \nz\n\" id=\"DejaVuSans-8722\"/>\n       <path d=\"M 10.6875 12.40625 \nL 21 12.40625 \nL 21 0 \nL 10.6875 0 \nz\n\" id=\"DejaVuSans-46\"/>\n      </defs>\n      <g transform=\"translate(20.878125 241.050611)scale(0.1 -0.1)\">\n       <use xlink:href=\"#DejaVuSans-8722\"/>\n       <use x=\"83.789062\" xlink:href=\"#DejaVuSans-48\"/>\n       <use x=\"147.412109\" xlink:href=\"#DejaVuSans-46\"/>\n       <use x=\"179.199219\" xlink:href=\"#DejaVuSans-49\"/>\n       <use x=\"242.822266\" xlink:href=\"#DejaVuSans-53\"/>\n      </g>\n     </g>\n    </g>\n    <g id=\"ytick_5\">\n     <g id=\"line2d_134\">\n      <g>\n       <use style=\"stroke:#000000;stroke-width:0.8;\" x=\"58.523438\" xlink:href=\"#mc883dad81e\" y=\"211.025453\"/>\n      </g>\n     </g>\n     <g id=\"text_33\">\n      <!-- −0.10 -->\n      <g transform=\"translate(20.878125 214.824672)scale(0.1 -0.1)\">\n       <use xlink:href=\"#DejaVuSans-8722\"/>\n       <use x=\"83.789062\" xlink:href=\"#DejaVuSans-48\"/>\n       <use x=\"147.412109\" xlink:href=\"#DejaVuSans-46\"/>\n       <use x=\"179.199219\" xlink:href=\"#DejaVuSans-49\"/>\n       <use x=\"242.822266\" xlink:href=\"#DejaVuSans-48\"/>\n      </g>\n     </g>\n    </g>\n    <g id=\"ytick_6\">\n     <g id=\"line2d_135\">\n      <g>\n       <use style=\"stroke:#000000;stroke-width:0.8;\" x=\"58.523438\" xlink:href=\"#mc883dad81e\" y=\"184.799514\"/>\n      </g>\n     </g>\n     <g id=\"text_34\">\n      <!-- −0.05 -->\n      <g transform=\"translate(20.878125 188.598732)scale(0.1 -0.1)\">\n       <use xlink:href=\"#DejaVuSans-8722\"/>\n       <use x=\"83.789062\" xlink:href=\"#DejaVuSans-48\"/>\n       <use x=\"147.412109\" xlink:href=\"#DejaVuSans-46\"/>\n       <use x=\"179.199219\" xlink:href=\"#DejaVuSans-48\"/>\n       <use x=\"242.822266\" xlink:href=\"#DejaVuSans-53\"/>\n      </g>\n     </g>\n    </g>\n    <g id=\"ytick_7\">\n     <g id=\"line2d_136\">\n      <g>\n       <use style=\"stroke:#000000;stroke-width:0.8;\" x=\"58.523438\" xlink:href=\"#mc883dad81e\" y=\"158.573574\"/>\n      </g>\n     </g>\n     <g id=\"text_35\">\n      <!-- 0.00 -->\n      <g transform=\"translate(29.257813 162.372793)scale(0.1 -0.1)\">\n       <use xlink:href=\"#DejaVuSans-48\"/>\n       <use x=\"63.623047\" xlink:href=\"#DejaVuSans-46\"/>\n       <use x=\"95.410156\" xlink:href=\"#DejaVuSans-48\"/>\n       <use x=\"159.033203\" xlink:href=\"#DejaVuSans-48\"/>\n      </g>\n     </g>\n    </g>\n    <g id=\"text_36\">\n     <!-- Customer Sentiment -->\n     <defs>\n      <path d=\"M 64.40625 67.28125 \nL 64.40625 56.890625 \nQ 59.421875 61.53125 53.78125 63.8125 \nQ 48.140625 66.109375 41.796875 66.109375 \nQ 29.296875 66.109375 22.65625 58.46875 \nQ 16.015625 50.828125 16.015625 36.375 \nQ 16.015625 21.96875 22.65625 14.328125 \nQ 29.296875 6.6875 41.796875 6.6875 \nQ 48.140625 6.6875 53.78125 8.984375 \nQ 59.421875 11.28125 64.40625 15.921875 \nL 64.40625 5.609375 \nQ 59.234375 2.09375 53.4375 0.328125 \nQ 47.65625 -1.421875 41.21875 -1.421875 \nQ 24.65625 -1.421875 15.125 8.703125 \nQ 5.609375 18.84375 5.609375 36.375 \nQ 5.609375 53.953125 15.125 64.078125 \nQ 24.65625 74.21875 41.21875 74.21875 \nQ 47.75 74.21875 53.53125 72.484375 \nQ 59.328125 70.75 64.40625 67.28125 \nz\n\" id=\"DejaVuSans-67\"/>\n     </defs>\n     <g transform=\"translate(14.798438 242.060256)rotate(-90)scale(0.1 -0.1)\">\n      <use xlink:href=\"#DejaVuSans-67\"/>\n      <use x=\"69.824219\" xlink:href=\"#DejaVuSans-117\"/>\n      <use x=\"133.203125\" xlink:href=\"#DejaVuSans-115\"/>\n      <use x=\"185.302734\" xlink:href=\"#DejaVuSans-116\"/>\n      <use x=\"224.511719\" xlink:href=\"#DejaVuSans-111\"/>\n      <use x=\"285.693359\" xlink:href=\"#DejaVuSans-109\"/>\n      <use x=\"383.105469\" xlink:href=\"#DejaVuSans-101\"/>\n      <use x=\"444.628906\" xlink:href=\"#DejaVuSans-114\"/>\n      <use x=\"485.742188\" xlink:href=\"#DejaVuSans-32\"/>\n      <use x=\"517.529297\" xlink:href=\"#DejaVuSans-83\"/>\n      <use x=\"581.005859\" xlink:href=\"#DejaVuSans-101\"/>\n      <use x=\"642.529297\" xlink:href=\"#DejaVuSans-110\"/>\n      <use x=\"705.908203\" xlink:href=\"#DejaVuSans-116\"/>\n      <use x=\"745.117188\" xlink:href=\"#DejaVuSans-105\"/>\n      <use x=\"772.900391\" xlink:href=\"#DejaVuSans-109\"/>\n      <use x=\"870.3125\" xlink:href=\"#DejaVuSans-101\"/>\n      <use x=\"931.835938\" xlink:href=\"#DejaVuSans-110\"/>\n      <use x=\"995.214844\" xlink:href=\"#DejaVuSans-116\"/>\n     </g>\n    </g>\n   </g>\n   <g id=\"line2d_137\">\n    <path clip-path=\"url(#p64a1a0b8b8)\" d=\"M 58.523438 222.071819 \nL 63.837723 220.847942 \nL 69.152009 145.414323 \nL 74.466295 171.839378 \nL 79.78058 198.448851 \nL 85.094866 218.938785 \nL 90.409152 233.623881 \nL 95.723437 234.941894 \nL 101.037723 220.895689 \nL 106.352009 206.069242 \nL 111.666295 199.950342 \nL 116.98058 196.919726 \nL 122.294866 205.749374 \nL 127.609152 228.04064 \nL 132.923437 235.231791 \nL 138.237723 204.010181 \nL 143.552009 210.506921 \nL 148.866295 223.91809 \nL 154.18058 202.026403 \nL 159.494866 219.721605 \nL 164.809152 223.647347 \nL 170.123437 213.758722 \nL 175.437723 218.480659 \nL 180.752009 212.694025 \nL 186.066295 216.25773 \nL 191.38058 199.687882 \nL 196.694866 212.514657 \nL 202.009152 227.103064 \nL 207.323438 230.674351 \nL 212.637723 232.680323 \nL 217.952009 202.162985 \nL 223.266295 214.762631 \nL 228.58058 207.025381 \nL 233.894866 230.685141 \nL 239.209152 217.506192 \nL 244.523438 234.239818 \nL 249.837723 198.11987 \nL 255.152009 213.353444 \nL 260.466295 210.240324 \nL 265.78058 212.226773 \nL 271.094866 222.430786 \nL 276.409152 224.773876 \nL 281.723437 195.990497 \nL 287.037723 211.73538 \nL 292.352009 190.978868 \nL 297.666295 215.519967 \nL 302.98058 214.773222 \nL 308.294866 215.896722 \nL 313.609152 206.226106 \nL 318.923437 227.724604 \nL 324.237723 203.641897 \nL 329.552009 206.672668 \nL 334.866295 214.735744 \nL 340.18058 212.285606 \nL 345.494866 220.330921 \nL 350.809152 213.732313 \nL 356.123437 224.003123 \nL 361.437723 213.488593 \nL 366.752009 215.739527 \nL 372.066295 212.01676 \nL 377.38058 215.44312 \nL 382.694866 211.302515 \nL 388.009152 229.796395 \nL 393.323438 235.265563 \n\" style=\"fill:none;stroke:#ff0000;stroke-linecap:square;stroke-width:1.5;\"/>\n   </g>\n   <g id=\"patch_8\">\n    <path d=\"M 58.523438 239.758125 \nL 58.523438 140.921761 \n\" style=\"fill:none;stroke:#000000;stroke-linecap:square;stroke-linejoin:miter;stroke-width:0.8;\"/>\n   </g>\n   <g id=\"patch_9\">\n    <path d=\"M 393.323438 239.758125 \nL 393.323438 140.921761 \n\" style=\"fill:none;stroke:#000000;stroke-linecap:square;stroke-linejoin:miter;stroke-width:0.8;\"/>\n   </g>\n   <g id=\"patch_10\">\n    <path d=\"M 58.523438 239.758125 \nL 393.323438 239.758125 \n\" style=\"fill:none;stroke:#000000;stroke-linecap:square;stroke-linejoin:miter;stroke-width:0.8;\"/>\n   </g>\n   <g id=\"patch_11\">\n    <path d=\"M 58.523438 140.921761 \nL 393.323438 140.921761 \n\" style=\"fill:none;stroke:#000000;stroke-linecap:square;stroke-linejoin:miter;stroke-width:0.8;\"/>\n   </g>\n  </g>\n </g>\n <defs>\n  <clipPath id=\"pc3919d76e9\">\n   <rect height=\"98.836364\" width=\"334.8\" x=\"58.523438\" y=\"22.318125\"/>\n  </clipPath>\n  <clipPath id=\"p64a1a0b8b8\">\n   <rect height=\"98.836364\" width=\"334.8\" x=\"58.523438\" y=\"140.921761\"/>\n  </clipPath>\n </defs>\n</svg>\n"
          },
          "metadata": {
            "tags": [],
            "needs_background": "light"
          }
        }
      ]
    }
  ]
}